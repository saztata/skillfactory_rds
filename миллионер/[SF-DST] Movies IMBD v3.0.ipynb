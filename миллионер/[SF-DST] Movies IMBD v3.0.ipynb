{
 "cells": [
  {
   "cell_type": "code",
   "execution_count": 4,
   "metadata": {
    "_cell_guid": "b1076dfc-b9ad-4769-8c92-a6c4dae69d19",
    "_uuid": "8f2839f25d086af736a60e9eeb907d3b93b6e0e5"
   },
   "outputs": [
    {
     "name": "stdout",
     "output_type": "stream",
     "text": [
      "[b'.git', b'.ipynb_checkpoints', b'1 \\xd0\\xae\\xd0\\xbd\\xd0\\xb8\\xd1\\x82 7 \\xd0\\xb8 8 \\xd0\\xbc\\xd0\\xbe\\xd0\\xb4\\xd1\\x83\\xd0\\xbb\\xd1\\x8c.ipynb', b'3B.3. \\xd0\\x9a\\xd0\\xbb\\xd0\\xb0\\xd1\\x81\\xd1\\x81\\xd0\\xb8\\xd1\\x84\\xd0\\xb8\\xd0\\xba\\xd0\\xb0\\xd1\\x86\\xd0\\xb8\\xd1\\x8f. \\xd0\\x9f\\xd1\\x80\\xd0\\xb0\\xd0\\xba\\xd1\\x82\\xd0\\xb8\\xd0\\xba\\xd0\\xb0.ipynb', b'Admission_Predict_Ver1.1.csv', b'asset-v1_Skillfactory-MLO-WEEKLY-2-14APR2020-type_asset-block_data_flats2.csv', b'bill_authentication.csv', b'cacao_flavors.csv', b'data', b'data.json', b'data_flats.csv', b'data_flats.xls', b'data_sf.csv', b'Descriptive_stats.ipynb', b'Fig3-1.xls', b'framingham.csv', b'HR-dataset.csv', b'java', b'Java 2.ipynb', b'java1.ipynb', b'Json.ipynb', b'json2.ipynb', b'Jupiter notebook', b'log.csv', b'millioner2', b'modul0', b'modul11 stat1 .ipynb', b'movies.csv', b'movies_example.txt', b'mycar.csv', b'OOP.ipynb', b'pandas_\\xd1\\x8e\\xd0\\xbd\\xd0\\xb8\\xd1\\x821.ipynb', b'petrol_consumption.csv', b'Project 2 Modul Sazonova 14 group.ipynb', b'Project 2 Sazonova 14 group.ipynb', b'ratings.csv', b'ratings_example.txt', b'README.md', b'recipes.csv', b'recipes.json', b'requirements.txt', b'sample.csv', b'stat3.ipynb', b'StudentsPerformance.csv', b'stud_math.csv', b'test.csv', b'tips.csv', b'train.csv', b'train_mobile.csv', b'train_mobile.xls', b'Unit 10 \\xd0\\xb2\\xd0\\xb8\\xd0\\xb7\\xd1\\x83\\xd0\\xb0\\xd0\\xbb\\xd0\\xb8\\xd0\\xb7\\xd0\\xb0\\xd1\\x86\\xd0\\xb8\\xd1\\x8f \\xd0\\xb4\\xd0\\xb0\\xd0\\xbd\\xd0\\xbd\\xd1\\x8b\\xd1\\x85-Copy1.ipynb', b'Unit 10 \\xd0\\xb2\\xd0\\xb8\\xd0\\xb7\\xd1\\x83\\xd0\\xb0\\xd0\\xbb\\xd0\\xb8\\xd0\\xb7\\xd0\\xb0\\xd1\\x86\\xd0\\xb8\\xd1\\x8f \\xd0\\xb4\\xd0\\xb0\\xd0\\xbd\\xd0\\xbd\\xd1\\x8b\\xd1\\x85.ipynb', b'Untitled.ipynb', b'Untitled1.ipynb', b'Untitled2.ipynb', b'users.csv', b'\\xd0\\x91\\xd0\\xbb\\xd0\\xbe\\xd0\\xba 3.ipynb', b'\\xd0\\x91\\xd1\\x83\\xd1\\x81\\xd1\\x82\\xd0\\xb8\\xd0\\xbd\\xd0\\xb3.ipynb', b'\\xd0\\x94\\xd0\\x97 8 \\xd0\\xbc\\xd0\\xbe\\xd0\\xb4\\xd1\\x83\\xd0\\xbb\\xd1\\x8c Java.ipynb', b'\\xd0\\x95\\xd0\\x94\\xd0\\x90', b'\\xd0\\x9a\\xd0\\xbb\\xd0\\xb0\\xd1\\x81\\xd1\\x81\\xd0\\xb8\\xd1\\x84\\xd0\\xb8\\xd0\\xba\\xd0\\xb0\\xd1\\x86\\xd0\\xb8\\xd1\\x8f.ipynb', b'\\xd0\\xbc\\xd0\\xb8\\xd0\\xbb\\xd0\\xbb\\xd0\\xb8\\xd0\\xbe\\xd0\\xbd\\xd0\\xb5\\xd1\\x80', b'\\xd0\\xbe \\xd0\\xb2\\xd0\\xba\\xd1\\x83\\xd1\\x81\\xd0\\xbd\\xd0\\xbe\\xd0\\xb9 \\xd0\\xbf\\xd0\\xb8\\xd1\\x89\\xd0\\xb5 \\xd0\\xa1\\xd0\\xb0\\xd0\\xb7\\xd0\\xbe\\xd0\\xbd\\xd0\\xbe\\xd0\\xb2\\xd0\\xb0 \\xd0\\xa2 \\xd0\\xb3\\xd1\\x80 14.ipynb', b'\\xd0\\xbe\\xd1\\x81\\xd0\\xbd\\xd0\\xbe\\xd0\\xb2\\xd0\\xbd\\xd0\\xbe\\xd0\\xb9 3.ipynb', b'\\xd0\\xbe\\xd1\\x81\\xd0\\xbd\\xd0\\xbe\\xd0\\xb2\\xd0\\xbd\\xd0\\xbe\\xd0\\xb9.ipynb', b'\\xd0\\xbe\\xd1\\x81\\xd0\\xbd\\xd0\\xbe\\xd0\\xb2\\xd0\\xbd\\xd0\\xbe\\xd0\\xb92.ipynb', b'\\xd0\\x9f\\xd0\\xb5\\xd1\\x80\\xd0\\xb2\\xd1\\x8b\\xd0\\xb9 \\xd0\\xbd\\xd0\\xbe\\xd1\\x83\\xd1\\x82\\xd0\\xb1\\xd1\\x83\\xd0\\xba.ipynb', b'\\xd0\\xa0\\xd0\\xb0\\xd0\\xb7\\xd0\\xb1\\xd0\\xb8\\xd0\\xb5\\xd0\\xbd\\xd0\\xb8\\xd0\\xb5 \\xd0\\xb2\\xd1\\x8b\\xd0\\xb1\\xd0\\xbe\\xd1\\x80\\xd0\\xba\\xd0\\xb8.ipynb', b'\\xd1\\x80\\xd0\\xb5\\xd0\\xb3\\xd1\\x80\\xd0\\xb5\\xd1\\x81\\xd1\\x81\\xd0\\xb8\\xd1\\x8f \\xd0\\xbf\\xd1\\x80\\xd0\\xb0\\xd0\\xba\\xd1\\x82\\xd0\\xb8\\xd0\\xba\\xd0\\xb0 1.ipynb', b'\\xd1\\x80\\xd0\\xb5\\xd0\\xb3\\xd1\\x80\\xd0\\xb5\\xd1\\x81\\xd1\\x81\\xd0\\xb8\\xd1\\x8f.ipynb', b'\\xd1\\x80\\xd0\\xb5\\xd1\\x88\\xd0\\xb0\\xd1\\x8e\\xd1\\x89\\xd0\\xb5\\xd0\\xb5 \\xd0\\xb4\\xd0\\xb5\\xd1\\x80\\xd0\\xb5\\xd0\\xb2\\xd0\\xbe .ipynb', b'\\xd1\\x80\\xd0\\xb5\\xd1\\x88\\xd0\\xb0\\xd1\\x8e\\xd1\\x89\\xd0\\xb5\\xd0\\xb5 \\xd0\\xb4\\xd0\\xb5\\xd1\\x80\\xd0\\xb5\\xd0\\xb2\\xd0\\xbe.ipynb', b'\\xd1\\x81\\xd0\\xba\\xd0\\xbe\\xd1\\x80\\xd0\\xb8\\xd0\\xbd\\xd0\\xb3 \\xd0\\xb1\\xd0\\xb0\\xd0\\xbd\\xd0\\xba.ipynb', b'\\xd0\\xae\\xd0\\xbd\\xd0\\xb8\\xd1\\x82 9 \\xd0\\xbc\\xd0\\xb0\\xd1\\x81\\xd1\\x81\\xd0\\xb8\\xd0\\xb2\\xd1\\x8b.ipynb', b'\\xd0\\xae\\xd0\\xbd\\xd0\\xb8\\xd1\\x822.ipynb']\n"
     ]
    }
   ],
   "source": [
    "import numpy as np\n",
    "import pandas as pd\n",
    "import seaborn as sns\n",
    "import matplotlib.pyplot as plt\n",
    "import os\n",
    "from collections import Counter\n",
    "print(os.listdir(b'C:\\Users\\user\\skillfactory_rds'))"
   ]
  },
  {
   "cell_type": "code",
   "execution_count": 5,
   "metadata": {},
   "outputs": [
    {
     "data": {
      "text/html": [
       "<div>\n",
       "<style scoped>\n",
       "    .dataframe tbody tr th:only-of-type {\n",
       "        vertical-align: middle;\n",
       "    }\n",
       "\n",
       "    .dataframe tbody tr th {\n",
       "        vertical-align: top;\n",
       "    }\n",
       "\n",
       "    .dataframe thead th {\n",
       "        text-align: right;\n",
       "    }\n",
       "</style>\n",
       "<table border=\"1\" class=\"dataframe\">\n",
       "  <thead>\n",
       "    <tr style=\"text-align: right;\">\n",
       "      <th></th>\n",
       "      <th>imdb_id</th>\n",
       "      <th>popularity</th>\n",
       "      <th>budget</th>\n",
       "      <th>revenue</th>\n",
       "      <th>original_title</th>\n",
       "      <th>cast</th>\n",
       "      <th>director</th>\n",
       "      <th>tagline</th>\n",
       "      <th>overview</th>\n",
       "      <th>runtime</th>\n",
       "      <th>genres</th>\n",
       "      <th>production_companies</th>\n",
       "      <th>release_date</th>\n",
       "      <th>vote_count</th>\n",
       "      <th>vote_average</th>\n",
       "      <th>release_year</th>\n",
       "    </tr>\n",
       "  </thead>\n",
       "  <tbody>\n",
       "    <tr>\n",
       "      <th>0</th>\n",
       "      <td>tt0369610</td>\n",
       "      <td>32.985763</td>\n",
       "      <td>150000000</td>\n",
       "      <td>1513528810</td>\n",
       "      <td>Jurassic World</td>\n",
       "      <td>Chris Pratt|Bryce Dallas Howard|Irrfan Khan|Vi...</td>\n",
       "      <td>Colin Trevorrow</td>\n",
       "      <td>The park is open.</td>\n",
       "      <td>Twenty-two years after the events of Jurassic ...</td>\n",
       "      <td>124</td>\n",
       "      <td>Action|Adventure|Science Fiction|Thriller</td>\n",
       "      <td>Universal Studios|Amblin Entertainment|Legenda...</td>\n",
       "      <td>6/9/2015</td>\n",
       "      <td>5562</td>\n",
       "      <td>6.5</td>\n",
       "      <td>2015</td>\n",
       "    </tr>\n",
       "    <tr>\n",
       "      <th>1</th>\n",
       "      <td>tt1392190</td>\n",
       "      <td>28.419936</td>\n",
       "      <td>150000000</td>\n",
       "      <td>378436354</td>\n",
       "      <td>Mad Max: Fury Road</td>\n",
       "      <td>Tom Hardy|Charlize Theron|Hugh Keays-Byrne|Nic...</td>\n",
       "      <td>George Miller</td>\n",
       "      <td>What a Lovely Day.</td>\n",
       "      <td>An apocalyptic story set in the furthest reach...</td>\n",
       "      <td>120</td>\n",
       "      <td>Action|Adventure|Science Fiction|Thriller</td>\n",
       "      <td>Village Roadshow Pictures|Kennedy Miller Produ...</td>\n",
       "      <td>5/13/2015</td>\n",
       "      <td>6185</td>\n",
       "      <td>7.1</td>\n",
       "      <td>2015</td>\n",
       "    </tr>\n",
       "    <tr>\n",
       "      <th>2</th>\n",
       "      <td>tt2908446</td>\n",
       "      <td>13.112507</td>\n",
       "      <td>110000000</td>\n",
       "      <td>295238201</td>\n",
       "      <td>Insurgent</td>\n",
       "      <td>Shailene Woodley|Theo James|Kate Winslet|Ansel...</td>\n",
       "      <td>Robert Schwentke</td>\n",
       "      <td>One Choice Can Destroy You</td>\n",
       "      <td>Beatrice Prior must confront her inner demons ...</td>\n",
       "      <td>119</td>\n",
       "      <td>Adventure|Science Fiction|Thriller</td>\n",
       "      <td>Summit Entertainment|Mandeville Films|Red Wago...</td>\n",
       "      <td>3/18/2015</td>\n",
       "      <td>2480</td>\n",
       "      <td>6.3</td>\n",
       "      <td>2015</td>\n",
       "    </tr>\n",
       "    <tr>\n",
       "      <th>3</th>\n",
       "      <td>tt2488496</td>\n",
       "      <td>11.173104</td>\n",
       "      <td>200000000</td>\n",
       "      <td>2068178225</td>\n",
       "      <td>Star Wars: The Force Awakens</td>\n",
       "      <td>Harrison Ford|Mark Hamill|Carrie Fisher|Adam D...</td>\n",
       "      <td>J.J. Abrams</td>\n",
       "      <td>Every generation has a story.</td>\n",
       "      <td>Thirty years after defeating the Galactic Empi...</td>\n",
       "      <td>136</td>\n",
       "      <td>Action|Adventure|Science Fiction|Fantasy</td>\n",
       "      <td>Lucasfilm|Truenorth Productions|Bad Robot</td>\n",
       "      <td>12/15/2015</td>\n",
       "      <td>5292</td>\n",
       "      <td>7.5</td>\n",
       "      <td>2015</td>\n",
       "    </tr>\n",
       "    <tr>\n",
       "      <th>4</th>\n",
       "      <td>tt2820852</td>\n",
       "      <td>9.335014</td>\n",
       "      <td>190000000</td>\n",
       "      <td>1506249360</td>\n",
       "      <td>Furious 7</td>\n",
       "      <td>Vin Diesel|Paul Walker|Jason Statham|Michelle ...</td>\n",
       "      <td>James Wan</td>\n",
       "      <td>Vengeance Hits Home</td>\n",
       "      <td>Deckard Shaw seeks revenge against Dominic Tor...</td>\n",
       "      <td>137</td>\n",
       "      <td>Action|Crime|Thriller</td>\n",
       "      <td>Universal Pictures|Original Film|Media Rights ...</td>\n",
       "      <td>4/1/2015</td>\n",
       "      <td>2947</td>\n",
       "      <td>7.3</td>\n",
       "      <td>2015</td>\n",
       "    </tr>\n",
       "  </tbody>\n",
       "</table>\n",
       "</div>"
      ],
      "text/plain": [
       "     imdb_id  popularity     budget     revenue                original_title  \\\n",
       "0  tt0369610   32.985763  150000000  1513528810                Jurassic World   \n",
       "1  tt1392190   28.419936  150000000   378436354            Mad Max: Fury Road   \n",
       "2  tt2908446   13.112507  110000000   295238201                     Insurgent   \n",
       "3  tt2488496   11.173104  200000000  2068178225  Star Wars: The Force Awakens   \n",
       "4  tt2820852    9.335014  190000000  1506249360                     Furious 7   \n",
       "\n",
       "                                                cast          director  \\\n",
       "0  Chris Pratt|Bryce Dallas Howard|Irrfan Khan|Vi...   Colin Trevorrow   \n",
       "1  Tom Hardy|Charlize Theron|Hugh Keays-Byrne|Nic...     George Miller   \n",
       "2  Shailene Woodley|Theo James|Kate Winslet|Ansel...  Robert Schwentke   \n",
       "3  Harrison Ford|Mark Hamill|Carrie Fisher|Adam D...       J.J. Abrams   \n",
       "4  Vin Diesel|Paul Walker|Jason Statham|Michelle ...         James Wan   \n",
       "\n",
       "                         tagline  \\\n",
       "0              The park is open.   \n",
       "1             What a Lovely Day.   \n",
       "2     One Choice Can Destroy You   \n",
       "3  Every generation has a story.   \n",
       "4            Vengeance Hits Home   \n",
       "\n",
       "                                            overview  runtime  \\\n",
       "0  Twenty-two years after the events of Jurassic ...      124   \n",
       "1  An apocalyptic story set in the furthest reach...      120   \n",
       "2  Beatrice Prior must confront her inner demons ...      119   \n",
       "3  Thirty years after defeating the Galactic Empi...      136   \n",
       "4  Deckard Shaw seeks revenge against Dominic Tor...      137   \n",
       "\n",
       "                                      genres  \\\n",
       "0  Action|Adventure|Science Fiction|Thriller   \n",
       "1  Action|Adventure|Science Fiction|Thriller   \n",
       "2         Adventure|Science Fiction|Thriller   \n",
       "3   Action|Adventure|Science Fiction|Fantasy   \n",
       "4                      Action|Crime|Thriller   \n",
       "\n",
       "                                production_companies release_date  vote_count  \\\n",
       "0  Universal Studios|Amblin Entertainment|Legenda...     6/9/2015        5562   \n",
       "1  Village Roadshow Pictures|Kennedy Miller Produ...    5/13/2015        6185   \n",
       "2  Summit Entertainment|Mandeville Films|Red Wago...    3/18/2015        2480   \n",
       "3          Lucasfilm|Truenorth Productions|Bad Robot   12/15/2015        5292   \n",
       "4  Universal Pictures|Original Film|Media Rights ...     4/1/2015        2947   \n",
       "\n",
       "   vote_average  release_year  \n",
       "0           6.5          2015  \n",
       "1           7.1          2015  \n",
       "2           6.3          2015  \n",
       "3           7.5          2015  \n",
       "4           7.3          2015  "
      ]
     },
     "execution_count": 5,
     "metadata": {},
     "output_type": "execute_result"
    }
   ],
   "source": [
    "data = pd.read_csv('data.csv')\n",
    "data.head(5)\n"
   ]
  },
  {
   "cell_type": "code",
   "execution_count": 6,
   "metadata": {},
   "outputs": [
    {
     "data": {
      "text/plain": [
       "1890"
      ]
     },
     "execution_count": 6,
     "metadata": {},
     "output_type": "execute_result"
    }
   ],
   "source": [
    "len(data)"
   ]
  },
  {
   "cell_type": "markdown",
   "metadata": {},
   "source": [
    "# Предобработка датасета"
   ]
  },
  {
   "cell_type": "code",
   "execution_count": 7,
   "metadata": {},
   "outputs": [],
   "source": [
    "answer_ls = [] # создадим список с ответами. сюда будем добавлять ответы по мере прохождения теста\n",
    "# сюда можем вписать создание новых колонок в датасете"
   ]
  },
  {
   "cell_type": "code",
   "execution_count": 9,
   "metadata": {
    "scrolled": true
   },
   "outputs": [
    {
     "data": {
      "text/html": [
       "<div>\n",
       "<style scoped>\n",
       "    .dataframe tbody tr th:only-of-type {\n",
       "        vertical-align: middle;\n",
       "    }\n",
       "\n",
       "    .dataframe tbody tr th {\n",
       "        vertical-align: top;\n",
       "    }\n",
       "\n",
       "    .dataframe thead th {\n",
       "        text-align: right;\n",
       "    }\n",
       "</style>\n",
       "<table border=\"1\" class=\"dataframe\">\n",
       "  <thead>\n",
       "    <tr style=\"text-align: right;\">\n",
       "      <th></th>\n",
       "      <th>imdb_id</th>\n",
       "      <th>popularity</th>\n",
       "      <th>budget</th>\n",
       "      <th>revenue</th>\n",
       "      <th>original_title</th>\n",
       "      <th>cast</th>\n",
       "      <th>director</th>\n",
       "      <th>tagline</th>\n",
       "      <th>overview</th>\n",
       "      <th>runtime</th>\n",
       "      <th>genres</th>\n",
       "      <th>production_companies</th>\n",
       "      <th>release_date</th>\n",
       "      <th>vote_count</th>\n",
       "      <th>vote_average</th>\n",
       "      <th>release_year</th>\n",
       "    </tr>\n",
       "  </thead>\n",
       "  <tbody>\n",
       "    <tr>\n",
       "      <th>491</th>\n",
       "      <td>tt1032751</td>\n",
       "      <td>0.25054</td>\n",
       "      <td>425000000</td>\n",
       "      <td>11087569</td>\n",
       "      <td>The Warrior's Way</td>\n",
       "      <td>Kate Bosworth|Jang Dong-gun|Geoffrey Rush|Dann...</td>\n",
       "      <td>Sngmoo Lee</td>\n",
       "      <td>Assassin. Hero. Legend.</td>\n",
       "      <td>An Asian assassin (Dong-gun Jang) is forced to...</td>\n",
       "      <td>100</td>\n",
       "      <td>Adventure|Fantasy|Action|Western|Thriller</td>\n",
       "      <td>Boram Entertainment Inc.</td>\n",
       "      <td>12/2/2010</td>\n",
       "      <td>74</td>\n",
       "      <td>6.4</td>\n",
       "      <td>2010</td>\n",
       "    </tr>\n",
       "  </tbody>\n",
       "</table>\n",
       "</div>"
      ],
      "text/plain": [
       "       imdb_id  popularity     budget   revenue     original_title  \\\n",
       "491  tt1032751     0.25054  425000000  11087569  The Warrior's Way   \n",
       "\n",
       "                                                  cast    director  \\\n",
       "491  Kate Bosworth|Jang Dong-gun|Geoffrey Rush|Dann...  Sngmoo Lee   \n",
       "\n",
       "                     tagline  \\\n",
       "491  Assassin. Hero. Legend.   \n",
       "\n",
       "                                              overview  runtime  \\\n",
       "491  An Asian assassin (Dong-gun Jang) is forced to...      100   \n",
       "\n",
       "                                        genres      production_companies  \\\n",
       "491  Adventure|Fantasy|Action|Western|Thriller  Boram Entertainment Inc.   \n",
       "\n",
       "    release_date  vote_count  vote_average  release_year  \n",
       "491    12/2/2010          74           6.4          2010  "
      ]
     },
     "execution_count": 9,
     "metadata": {},
     "output_type": "execute_result"
    }
   ],
   "source": [
    "data = pd.read_csv('data.csv')\n",
    "data[data['budget']==data['budget'].max()]\n"
   ]
  },
  {
   "cell_type": "markdown",
   "metadata": {},
   "source": [
    "# 1. У какого фильма из списка самый большой бюджет?\n",
    "Варианты ответов:\n",
    "1. The Dark Knight Rises (tt1345836)\n",
    "2. Spider-Man 3 (tt0413300)\n",
    "3. Avengers: Age of Ultron (tt2395427)\n",
    "4. The Warrior's Way\t(tt1032751)\n",
    "5. Pirates of the Caribbean: On Stranger Tides (tt1298650)"
   ]
  },
  {
   "cell_type": "code",
   "execution_count": 6,
   "metadata": {},
   "outputs": [],
   "source": [
    "# тут вводим ваш ответ и добавлем в его список ответов (сейчас для примера стоит \"1\")\n",
    "answer_ls.append(4)"
   ]
  },
  {
   "cell_type": "markdown",
   "metadata": {},
   "source": [
    "# 2. Какой из фильмов самый длительный (в минутах)\n",
    "1. The Lord of the Rings: The Return of the King\t(tt0167260)\n",
    "2. Gods and Generals\t(tt0279111)\n",
    "3. King Kong\t(tt0360717)\n",
    "4. Pearl Harbor\t(tt0213149)\n",
    "5. Alexander\t(tt0346491)"
   ]
  },
  {
   "cell_type": "code",
   "execution_count": 7,
   "metadata": {},
   "outputs": [
    {
     "data": {
      "text/html": [
       "<div>\n",
       "<style scoped>\n",
       "    .dataframe tbody tr th:only-of-type {\n",
       "        vertical-align: middle;\n",
       "    }\n",
       "\n",
       "    .dataframe tbody tr th {\n",
       "        vertical-align: top;\n",
       "    }\n",
       "\n",
       "    .dataframe thead th {\n",
       "        text-align: right;\n",
       "    }\n",
       "</style>\n",
       "<table border=\"1\" class=\"dataframe\">\n",
       "  <thead>\n",
       "    <tr style=\"text-align: right;\">\n",
       "      <th></th>\n",
       "      <th>imdb_id</th>\n",
       "      <th>popularity</th>\n",
       "      <th>budget</th>\n",
       "      <th>revenue</th>\n",
       "      <th>original_title</th>\n",
       "      <th>cast</th>\n",
       "      <th>director</th>\n",
       "      <th>tagline</th>\n",
       "      <th>overview</th>\n",
       "      <th>runtime</th>\n",
       "      <th>genres</th>\n",
       "      <th>production_companies</th>\n",
       "      <th>release_date</th>\n",
       "      <th>vote_count</th>\n",
       "      <th>vote_average</th>\n",
       "      <th>release_year</th>\n",
       "    </tr>\n",
       "  </thead>\n",
       "  <tbody>\n",
       "    <tr>\n",
       "      <th>1158</th>\n",
       "      <td>tt0279111</td>\n",
       "      <td>0.469518</td>\n",
       "      <td>56000000</td>\n",
       "      <td>12923936</td>\n",
       "      <td>Gods and Generals</td>\n",
       "      <td>Stephen Lang|Jeff Daniels|Robert Duvall|Kevin ...</td>\n",
       "      <td>Ronald F. Maxwell</td>\n",
       "      <td>The nations heart was touched by...</td>\n",
       "      <td>The film centers mostly around the personal an...</td>\n",
       "      <td>214</td>\n",
       "      <td>Drama|History|War</td>\n",
       "      <td>Turner Pictures|Antietam Filmworks</td>\n",
       "      <td>2/21/2003</td>\n",
       "      <td>23</td>\n",
       "      <td>5.8</td>\n",
       "      <td>2003</td>\n",
       "    </tr>\n",
       "  </tbody>\n",
       "</table>\n",
       "</div>"
      ],
      "text/plain": [
       "        imdb_id  popularity    budget   revenue     original_title  \\\n",
       "1158  tt0279111    0.469518  56000000  12923936  Gods and Generals   \n",
       "\n",
       "                                                   cast           director  \\\n",
       "1158  Stephen Lang|Jeff Daniels|Robert Duvall|Kevin ...  Ronald F. Maxwell   \n",
       "\n",
       "                                  tagline  \\\n",
       "1158  The nations heart was touched by...   \n",
       "\n",
       "                                               overview  runtime  \\\n",
       "1158  The film centers mostly around the personal an...      214   \n",
       "\n",
       "                 genres                production_companies release_date  \\\n",
       "1158  Drama|History|War  Turner Pictures|Antietam Filmworks    2/21/2003   \n",
       "\n",
       "      vote_count  vote_average  release_year  \n",
       "1158          23           5.8          2003  "
      ]
     },
     "execution_count": 7,
     "metadata": {},
     "output_type": "execute_result"
    }
   ],
   "source": [
    "data = pd.read_csv('data.csv')\n",
    "data[data['runtime']==data['runtime'].max()]\n",
    "\n"
   ]
  },
  {
   "cell_type": "code",
   "execution_count": 8,
   "metadata": {},
   "outputs": [],
   "source": [
    "answer_ls.append(2)"
   ]
  },
  {
   "cell_type": "markdown",
   "metadata": {},
   "source": [
    "# 3. Какой из фильмов самый короткий (в минутах)\n",
    "Варианты ответов:\n",
    "\n",
    "1. Home on the Range\ttt0299172\n",
    "2. The Jungle Book 2\ttt0283426\n",
    "3. Winnie the Pooh\ttt1449283\n",
    "4. Corpse Bride\ttt0121164\n",
    "5. Hoodwinked!\ttt0443536"
   ]
  },
  {
   "cell_type": "code",
   "execution_count": 9,
   "metadata": {},
   "outputs": [
    {
     "data": {
      "text/html": [
       "<div>\n",
       "<style scoped>\n",
       "    .dataframe tbody tr th:only-of-type {\n",
       "        vertical-align: middle;\n",
       "    }\n",
       "\n",
       "    .dataframe tbody tr th {\n",
       "        vertical-align: top;\n",
       "    }\n",
       "\n",
       "    .dataframe thead th {\n",
       "        text-align: right;\n",
       "    }\n",
       "</style>\n",
       "<table border=\"1\" class=\"dataframe\">\n",
       "  <thead>\n",
       "    <tr style=\"text-align: right;\">\n",
       "      <th></th>\n",
       "      <th>imdb_id</th>\n",
       "      <th>popularity</th>\n",
       "      <th>budget</th>\n",
       "      <th>revenue</th>\n",
       "      <th>original_title</th>\n",
       "      <th>cast</th>\n",
       "      <th>director</th>\n",
       "      <th>tagline</th>\n",
       "      <th>overview</th>\n",
       "      <th>runtime</th>\n",
       "      <th>genres</th>\n",
       "      <th>production_companies</th>\n",
       "      <th>release_date</th>\n",
       "      <th>vote_count</th>\n",
       "      <th>vote_average</th>\n",
       "      <th>release_year</th>\n",
       "    </tr>\n",
       "  </thead>\n",
       "  <tbody>\n",
       "    <tr>\n",
       "      <th>769</th>\n",
       "      <td>tt1449283</td>\n",
       "      <td>1.425344</td>\n",
       "      <td>30000000</td>\n",
       "      <td>14460000</td>\n",
       "      <td>Winnie the Pooh</td>\n",
       "      <td>Jim Cummings|Travis Oates|Jim Cummings|Bud Luc...</td>\n",
       "      <td>Stephen Anderson|Don Hall</td>\n",
       "      <td>Oh Pooh.</td>\n",
       "      <td>During an ordinary day in Hundred Acre Wood, W...</td>\n",
       "      <td>63</td>\n",
       "      <td>Animation|Family</td>\n",
       "      <td>Walt Disney Pictures|Walt Disney Animation Stu...</td>\n",
       "      <td>4/13/2011</td>\n",
       "      <td>174</td>\n",
       "      <td>6.8</td>\n",
       "      <td>2011</td>\n",
       "    </tr>\n",
       "  </tbody>\n",
       "</table>\n",
       "</div>"
      ],
      "text/plain": [
       "       imdb_id  popularity    budget   revenue   original_title  \\\n",
       "769  tt1449283    1.425344  30000000  14460000  Winnie the Pooh   \n",
       "\n",
       "                                                  cast  \\\n",
       "769  Jim Cummings|Travis Oates|Jim Cummings|Bud Luc...   \n",
       "\n",
       "                      director   tagline  \\\n",
       "769  Stephen Anderson|Don Hall  Oh Pooh.   \n",
       "\n",
       "                                              overview  runtime  \\\n",
       "769  During an ordinary day in Hundred Acre Wood, W...       63   \n",
       "\n",
       "               genres                               production_companies  \\\n",
       "769  Animation|Family  Walt Disney Pictures|Walt Disney Animation Stu...   \n",
       "\n",
       "    release_date  vote_count  vote_average  release_year  \n",
       "769    4/13/2011         174           6.8          2011  "
      ]
     },
     "execution_count": 9,
     "metadata": {},
     "output_type": "execute_result"
    }
   ],
   "source": [
    "data = pd.read_csv('data.csv')\n",
    "data[data['runtime']==data['runtime'].min()]"
   ]
  },
  {
   "cell_type": "code",
   "execution_count": 10,
   "metadata": {},
   "outputs": [],
   "source": [
    "answer_ls.append(3)"
   ]
  },
  {
   "cell_type": "markdown",
   "metadata": {},
   "source": [
    "# 4. Средняя длительность фильма?\n",
    "\n",
    "Варианты ответов:\n",
    "1. 115\n",
    "2. 110\n",
    "3. 105\n",
    "4. 120\n",
    "5. 100\n"
   ]
  },
  {
   "cell_type": "code",
   "execution_count": 11,
   "metadata": {},
   "outputs": [
    {
     "data": {
      "text/plain": [
       "110"
      ]
     },
     "execution_count": 11,
     "metadata": {},
     "output_type": "execute_result"
    }
   ],
   "source": [
    "data = pd.read_csv('data.csv')\n",
    "round(data['runtime'].mean())"
   ]
  },
  {
   "cell_type": "code",
   "execution_count": 12,
   "metadata": {},
   "outputs": [],
   "source": [
    "answer_ls.append(2)"
   ]
  },
  {
   "cell_type": "markdown",
   "metadata": {},
   "source": [
    "# 5. Средняя длительность фильма по медиане?\n",
    "Варианты ответов:\n",
    "1. 106\n",
    "2. 112\n",
    "3. 101\n",
    "4. 120\n",
    "5. 115\n",
    "\n",
    "\n"
   ]
  },
  {
   "cell_type": "code",
   "execution_count": 13,
   "metadata": {},
   "outputs": [
    {
     "data": {
      "text/plain": [
       "106"
      ]
     },
     "execution_count": 13,
     "metadata": {},
     "output_type": "execute_result"
    }
   ],
   "source": [
    "data = pd.read_csv('data.csv')\n",
    "round(data['runtime'].median())"
   ]
  },
  {
   "cell_type": "code",
   "execution_count": 14,
   "metadata": {},
   "outputs": [],
   "source": [
    "answer_ls.append(1)"
   ]
  },
  {
   "cell_type": "markdown",
   "metadata": {},
   "source": [
    "# 6. Какой самый прибыльный фильм?\n",
    "Варианты ответов:\n",
    "1. The Avengers\ttt0848228\n",
    "2. Minions\ttt2293640\n",
    "3. Star Wars: The Force Awakens\ttt2488496\n",
    "4. Furious 7\ttt2820852\n",
    "5. Avatar\ttt0499549"
   ]
  },
  {
   "cell_type": "code",
   "execution_count": 15,
   "metadata": {},
   "outputs": [
    {
     "data": {
      "text/html": [
       "<div>\n",
       "<style scoped>\n",
       "    .dataframe tbody tr th:only-of-type {\n",
       "        vertical-align: middle;\n",
       "    }\n",
       "\n",
       "    .dataframe tbody tr th {\n",
       "        vertical-align: top;\n",
       "    }\n",
       "\n",
       "    .dataframe thead th {\n",
       "        text-align: right;\n",
       "    }\n",
       "</style>\n",
       "<table border=\"1\" class=\"dataframe\">\n",
       "  <thead>\n",
       "    <tr style=\"text-align: right;\">\n",
       "      <th></th>\n",
       "      <th>imdb_id</th>\n",
       "      <th>popularity</th>\n",
       "      <th>budget</th>\n",
       "      <th>revenue</th>\n",
       "      <th>original_title</th>\n",
       "      <th>cast</th>\n",
       "      <th>director</th>\n",
       "      <th>tagline</th>\n",
       "      <th>overview</th>\n",
       "      <th>runtime</th>\n",
       "      <th>genres</th>\n",
       "      <th>production_companies</th>\n",
       "      <th>release_date</th>\n",
       "      <th>vote_count</th>\n",
       "      <th>vote_average</th>\n",
       "      <th>release_year</th>\n",
       "    </tr>\n",
       "  </thead>\n",
       "  <tbody>\n",
       "    <tr>\n",
       "      <th>239</th>\n",
       "      <td>tt0499549</td>\n",
       "      <td>9.432768</td>\n",
       "      <td>237000000</td>\n",
       "      <td>2781505847</td>\n",
       "      <td>Avatar</td>\n",
       "      <td>Sam Worthington|Zoe Saldana|Sigourney Weaver|S...</td>\n",
       "      <td>James Cameron</td>\n",
       "      <td>Enter the World of Pandora.</td>\n",
       "      <td>In the 22nd century, a paraplegic Marine is di...</td>\n",
       "      <td>162</td>\n",
       "      <td>Action|Adventure|Fantasy|Science Fiction</td>\n",
       "      <td>Ingenious Film Partners|Twentieth Century Fox ...</td>\n",
       "      <td>12/10/2009</td>\n",
       "      <td>8458</td>\n",
       "      <td>7.1</td>\n",
       "      <td>2009</td>\n",
       "    </tr>\n",
       "  </tbody>\n",
       "</table>\n",
       "</div>"
      ],
      "text/plain": [
       "       imdb_id  popularity     budget     revenue original_title  \\\n",
       "239  tt0499549    9.432768  237000000  2781505847         Avatar   \n",
       "\n",
       "                                                  cast       director  \\\n",
       "239  Sam Worthington|Zoe Saldana|Sigourney Weaver|S...  James Cameron   \n",
       "\n",
       "                         tagline  \\\n",
       "239  Enter the World of Pandora.   \n",
       "\n",
       "                                              overview  runtime  \\\n",
       "239  In the 22nd century, a paraplegic Marine is di...      162   \n",
       "\n",
       "                                       genres  \\\n",
       "239  Action|Adventure|Fantasy|Science Fiction   \n",
       "\n",
       "                                  production_companies release_date  \\\n",
       "239  Ingenious Film Partners|Twentieth Century Fox ...   12/10/2009   \n",
       "\n",
       "     vote_count  vote_average  release_year  \n",
       "239        8458           7.1          2009  "
      ]
     },
     "execution_count": 15,
     "metadata": {},
     "output_type": "execute_result"
    }
   ],
   "source": [
    "data = pd.read_csv('data.csv')\n",
    "data[data['revenue']==data['revenue'].max()]"
   ]
  },
  {
   "cell_type": "code",
   "execution_count": 16,
   "metadata": {},
   "outputs": [],
   "source": [
    "answer_ls.append(5)"
   ]
  },
  {
   "cell_type": "markdown",
   "metadata": {},
   "source": [
    "# 7. Какой фильм самый убыточный?\n",
    "Варианты ответов:\n",
    "1. Supernova tt0134983\n",
    "2. The Warrior's Way tt1032751\n",
    "3. Flushed Away\ttt0424095\n",
    "4. The Adventures of Pluto Nash\ttt0180052\n",
    "5. The Lone Ranger\ttt1210819"
   ]
  },
  {
   "cell_type": "code",
   "execution_count": 17,
   "metadata": {
    "scrolled": true
   },
   "outputs": [
    {
     "data": {
      "text/html": [
       "<div>\n",
       "<style scoped>\n",
       "    .dataframe tbody tr th:only-of-type {\n",
       "        vertical-align: middle;\n",
       "    }\n",
       "\n",
       "    .dataframe tbody tr th {\n",
       "        vertical-align: top;\n",
       "    }\n",
       "\n",
       "    .dataframe thead th {\n",
       "        text-align: right;\n",
       "    }\n",
       "</style>\n",
       "<table border=\"1\" class=\"dataframe\">\n",
       "  <thead>\n",
       "    <tr style=\"text-align: right;\">\n",
       "      <th></th>\n",
       "      <th>imdb_id</th>\n",
       "      <th>popularity</th>\n",
       "      <th>budget</th>\n",
       "      <th>revenue</th>\n",
       "      <th>original_title</th>\n",
       "      <th>cast</th>\n",
       "      <th>director</th>\n",
       "      <th>tagline</th>\n",
       "      <th>overview</th>\n",
       "      <th>runtime</th>\n",
       "      <th>genres</th>\n",
       "      <th>production_companies</th>\n",
       "      <th>release_date</th>\n",
       "      <th>vote_count</th>\n",
       "      <th>vote_average</th>\n",
       "      <th>release_year</th>\n",
       "      <th>marjin</th>\n",
       "    </tr>\n",
       "  </thead>\n",
       "  <tbody>\n",
       "    <tr>\n",
       "      <th>491</th>\n",
       "      <td>tt1032751</td>\n",
       "      <td>0.25054</td>\n",
       "      <td>425000000</td>\n",
       "      <td>11087569</td>\n",
       "      <td>The Warrior's Way</td>\n",
       "      <td>Kate Bosworth|Jang Dong-gun|Geoffrey Rush|Dann...</td>\n",
       "      <td>Sngmoo Lee</td>\n",
       "      <td>Assassin. Hero. Legend.</td>\n",
       "      <td>An Asian assassin (Dong-gun Jang) is forced to...</td>\n",
       "      <td>100</td>\n",
       "      <td>Adventure|Fantasy|Action|Western|Thriller</td>\n",
       "      <td>Boram Entertainment Inc.</td>\n",
       "      <td>12/2/2010</td>\n",
       "      <td>74</td>\n",
       "      <td>6.4</td>\n",
       "      <td>2010</td>\n",
       "      <td>-413912431</td>\n",
       "    </tr>\n",
       "  </tbody>\n",
       "</table>\n",
       "</div>"
      ],
      "text/plain": [
       "       imdb_id  popularity     budget   revenue     original_title  \\\n",
       "491  tt1032751     0.25054  425000000  11087569  The Warrior's Way   \n",
       "\n",
       "                                                  cast    director  \\\n",
       "491  Kate Bosworth|Jang Dong-gun|Geoffrey Rush|Dann...  Sngmoo Lee   \n",
       "\n",
       "                     tagline  \\\n",
       "491  Assassin. Hero. Legend.   \n",
       "\n",
       "                                              overview  runtime  \\\n",
       "491  An Asian assassin (Dong-gun Jang) is forced to...      100   \n",
       "\n",
       "                                        genres      production_companies  \\\n",
       "491  Adventure|Fantasy|Action|Western|Thriller  Boram Entertainment Inc.   \n",
       "\n",
       "    release_date  vote_count  vote_average  release_year     marjin  \n",
       "491    12/2/2010          74           6.4          2010 -413912431  "
      ]
     },
     "execution_count": 17,
     "metadata": {},
     "output_type": "execute_result"
    }
   ],
   "source": [
    "data = pd.read_csv('data.csv')\n",
    "data['marjin']=(data['revenue']-data['budget'])\n",
    "data[data['marjin']==data['marjin'].min()]"
   ]
  },
  {
   "cell_type": "code",
   "execution_count": 18,
   "metadata": {},
   "outputs": [],
   "source": [
    "answer_ls.append(2)"
   ]
  },
  {
   "cell_type": "markdown",
   "metadata": {},
   "source": [
    "# 8. Сколько всего фильмов в прибыли?\n",
    "Варианты ответов:\n",
    "1. 1478\n",
    "2. 1520\n",
    "3. 1241\n",
    "4. 1135\n",
    "5. 1398\n"
   ]
  },
  {
   "cell_type": "code",
   "execution_count": 19,
   "metadata": {},
   "outputs": [
    {
     "data": {
      "text/plain": [
       "imdb_id                 1478\n",
       "popularity              1478\n",
       "budget                  1478\n",
       "revenue                 1478\n",
       "original_title          1478\n",
       "cast                    1478\n",
       "director                1478\n",
       "tagline                 1478\n",
       "overview                1478\n",
       "runtime                 1478\n",
       "genres                  1478\n",
       "production_companies    1478\n",
       "release_date            1478\n",
       "vote_count              1478\n",
       "vote_average            1478\n",
       "release_year            1478\n",
       "marjin                  1478\n",
       "dtype: int64"
      ]
     },
     "execution_count": 19,
     "metadata": {},
     "output_type": "execute_result"
    }
   ],
   "source": [
    "data = pd.read_csv('data.csv')\n",
    "data['marjin']=(data['revenue']-data['budget'])\n",
    "data[data['marjin']>0].count()"
   ]
  },
  {
   "cell_type": "code",
   "execution_count": 20,
   "metadata": {},
   "outputs": [],
   "source": [
    "answer_ls.append(1)\n"
   ]
  },
  {
   "cell_type": "markdown",
   "metadata": {},
   "source": [
    "# 9. Самый прибыльный фильм в 2008 году?\n",
    "Варианты ответов:\n",
    "1. Madagascar: Escape 2 Africa\ttt0479952\n",
    "2. Iron Man\ttt0371746\n",
    "3. Kung Fu Panda\ttt0441773\n",
    "4. The Dark Knight\ttt0468569\n",
    "5. Mamma Mia!\ttt0795421"
   ]
  },
  {
   "cell_type": "code",
   "execution_count": 21,
   "metadata": {},
   "outputs": [
    {
     "data": {
      "text/html": [
       "<div>\n",
       "<style scoped>\n",
       "    .dataframe tbody tr th:only-of-type {\n",
       "        vertical-align: middle;\n",
       "    }\n",
       "\n",
       "    .dataframe tbody tr th {\n",
       "        vertical-align: top;\n",
       "    }\n",
       "\n",
       "    .dataframe thead th {\n",
       "        text-align: right;\n",
       "    }\n",
       "</style>\n",
       "<table border=\"1\" class=\"dataframe\">\n",
       "  <thead>\n",
       "    <tr style=\"text-align: right;\">\n",
       "      <th></th>\n",
       "      <th>imdb_id</th>\n",
       "      <th>popularity</th>\n",
       "      <th>budget</th>\n",
       "      <th>revenue</th>\n",
       "      <th>original_title</th>\n",
       "      <th>cast</th>\n",
       "      <th>director</th>\n",
       "      <th>tagline</th>\n",
       "      <th>overview</th>\n",
       "      <th>runtime</th>\n",
       "      <th>genres</th>\n",
       "      <th>production_companies</th>\n",
       "      <th>release_date</th>\n",
       "      <th>vote_count</th>\n",
       "      <th>vote_average</th>\n",
       "      <th>release_year</th>\n",
       "    </tr>\n",
       "  </thead>\n",
       "  <tbody>\n",
       "    <tr>\n",
       "      <th>600</th>\n",
       "      <td>tt0468569</td>\n",
       "      <td>8.466668</td>\n",
       "      <td>185000000</td>\n",
       "      <td>1001921825</td>\n",
       "      <td>The Dark Knight</td>\n",
       "      <td>Christian Bale|Michael Caine|Heath Ledger|Aaro...</td>\n",
       "      <td>Christopher Nolan</td>\n",
       "      <td>Why So Serious?</td>\n",
       "      <td>Batman raises the stakes in his war on crime. ...</td>\n",
       "      <td>152</td>\n",
       "      <td>Drama|Action|Crime|Thriller</td>\n",
       "      <td>DC Comics|Legendary Pictures|Warner Bros.|Syncopy</td>\n",
       "      <td>7/16/2008</td>\n",
       "      <td>8432</td>\n",
       "      <td>8.1</td>\n",
       "      <td>2008</td>\n",
       "    </tr>\n",
       "  </tbody>\n",
       "</table>\n",
       "</div>"
      ],
      "text/plain": [
       "       imdb_id  popularity     budget     revenue   original_title  \\\n",
       "600  tt0468569    8.466668  185000000  1001921825  The Dark Knight   \n",
       "\n",
       "                                                  cast           director  \\\n",
       "600  Christian Bale|Michael Caine|Heath Ledger|Aaro...  Christopher Nolan   \n",
       "\n",
       "             tagline                                           overview  \\\n",
       "600  Why So Serious?  Batman raises the stakes in his war on crime. ...   \n",
       "\n",
       "     runtime                       genres  \\\n",
       "600      152  Drama|Action|Crime|Thriller   \n",
       "\n",
       "                                  production_companies release_date  \\\n",
       "600  DC Comics|Legendary Pictures|Warner Bros.|Syncopy    7/16/2008   \n",
       "\n",
       "     vote_count  vote_average  release_year  \n",
       "600        8432           8.1          2008  "
      ]
     },
     "execution_count": 21,
     "metadata": {},
     "output_type": "execute_result"
    }
   ],
   "source": [
    "data = pd.read_csv('data.csv')\n",
    "\n",
    "data1=data[(data['release_year']==2008)]\n",
    "data1[data1['revenue']==data1['revenue'].max()]"
   ]
  },
  {
   "cell_type": "code",
   "execution_count": 22,
   "metadata": {},
   "outputs": [],
   "source": [
    "answer_ls.append(4)"
   ]
  },
  {
   "cell_type": "markdown",
   "metadata": {},
   "source": [
    "# 10. Самый убыточный фильм за период с 2012 по 2014 (включительно)?\n",
    "Варианты ответов:\n",
    "1. Winter's Tale\ttt1837709\n",
    "2. Stolen\ttt1656186\n",
    "3. Broken City\ttt1235522\n",
    "4. Upside Down\ttt1374992\n",
    "5. The Lone Ranger\ttt1210819\n"
   ]
  },
  {
   "cell_type": "code",
   "execution_count": 23,
   "metadata": {},
   "outputs": [
    {
     "data": {
      "text/html": [
       "<div>\n",
       "<style scoped>\n",
       "    .dataframe tbody tr th:only-of-type {\n",
       "        vertical-align: middle;\n",
       "    }\n",
       "\n",
       "    .dataframe tbody tr th {\n",
       "        vertical-align: top;\n",
       "    }\n",
       "\n",
       "    .dataframe thead th {\n",
       "        text-align: right;\n",
       "    }\n",
       "</style>\n",
       "<table border=\"1\" class=\"dataframe\">\n",
       "  <thead>\n",
       "    <tr style=\"text-align: right;\">\n",
       "      <th></th>\n",
       "      <th>imdb_id</th>\n",
       "      <th>popularity</th>\n",
       "      <th>budget</th>\n",
       "      <th>revenue</th>\n",
       "      <th>original_title</th>\n",
       "      <th>cast</th>\n",
       "      <th>director</th>\n",
       "      <th>tagline</th>\n",
       "      <th>overview</th>\n",
       "      <th>runtime</th>\n",
       "      <th>genres</th>\n",
       "      <th>production_companies</th>\n",
       "      <th>release_date</th>\n",
       "      <th>vote_count</th>\n",
       "      <th>vote_average</th>\n",
       "      <th>release_year</th>\n",
       "      <th>marjin</th>\n",
       "    </tr>\n",
       "  </thead>\n",
       "  <tbody>\n",
       "    <tr>\n",
       "      <th>1246</th>\n",
       "      <td>tt1210819</td>\n",
       "      <td>1.21451</td>\n",
       "      <td>255000000</td>\n",
       "      <td>89289910</td>\n",
       "      <td>The Lone Ranger</td>\n",
       "      <td>Johnny Depp|Armie Hammer|William Fichtner|Hele...</td>\n",
       "      <td>Gore Verbinski</td>\n",
       "      <td>Never Take Off the Mask</td>\n",
       "      <td>The Texas Rangers chase down a gang of outlaws...</td>\n",
       "      <td>149</td>\n",
       "      <td>Action|Adventure|Western</td>\n",
       "      <td>Walt Disney Pictures|Jerry Bruckheimer Films|I...</td>\n",
       "      <td>7/3/2013</td>\n",
       "      <td>1607</td>\n",
       "      <td>6.0</td>\n",
       "      <td>2013</td>\n",
       "      <td>-165710090</td>\n",
       "    </tr>\n",
       "  </tbody>\n",
       "</table>\n",
       "</div>"
      ],
      "text/plain": [
       "        imdb_id  popularity     budget   revenue   original_title  \\\n",
       "1246  tt1210819     1.21451  255000000  89289910  The Lone Ranger   \n",
       "\n",
       "                                                   cast        director  \\\n",
       "1246  Johnny Depp|Armie Hammer|William Fichtner|Hele...  Gore Verbinski   \n",
       "\n",
       "                      tagline  \\\n",
       "1246  Never Take Off the Mask   \n",
       "\n",
       "                                               overview  runtime  \\\n",
       "1246  The Texas Rangers chase down a gang of outlaws...      149   \n",
       "\n",
       "                        genres  \\\n",
       "1246  Action|Adventure|Western   \n",
       "\n",
       "                                   production_companies release_date  \\\n",
       "1246  Walt Disney Pictures|Jerry Bruckheimer Films|I...     7/3/2013   \n",
       "\n",
       "      vote_count  vote_average  release_year     marjin  \n",
       "1246        1607           6.0          2013 -165710090  "
      ]
     },
     "execution_count": 23,
     "metadata": {},
     "output_type": "execute_result"
    }
   ],
   "source": [
    "data = pd.read_csv('data.csv')\n",
    "data['marjin']=(data['revenue']-data['budget'])\n",
    "data1=data[(data['release_year']>2012)&(data['release_year']<2014)]\n",
    "data1[data1['marjin']==data1['marjin'].min()]"
   ]
  },
  {
   "cell_type": "code",
   "execution_count": 24,
   "metadata": {},
   "outputs": [],
   "source": [
    "answer_ls.append(5)"
   ]
  },
  {
   "cell_type": "markdown",
   "metadata": {},
   "source": [
    "# 11. Какого жанра фильмов больше всего?\n",
    "Варианты ответов:\n",
    "1. Action\n",
    "2. Adventure\n",
    "3. Drama\n",
    "4. Comedy\n",
    "5. Thriller"
   ]
  },
  {
   "cell_type": "code",
   "execution_count": 25,
   "metadata": {
    "scrolled": true
   },
   "outputs": [
    {
     "name": "stdout",
     "output_type": "stream",
     "text": [
      "Counter({'Drama': 782, 'Comedy': 683, 'Thriller': 597, 'Action': 583, 'Adventure': 416, 'Crime': 315, 'Romance': 308, 'Family': 260, 'Science Fiction': 248, 'Fantasy': 223, 'Horror': 176, 'Mystery': 168, 'Animation': 139, 'Music': 64, 'History': 62, 'War': 58, 'Western': 20, 'Documentary': 8, 'Foreign': 2})\n"
     ]
    }
   ],
   "source": [
    "data = pd.read_csv('data.csv') \n",
    "data['genres'] = data['genres'].apply(lambda x: x.split('|')) \n",
    "\n",
    "import collections\n",
    "c = collections.Counter()\n",
    "for i in range(0, len(data)):\n",
    "    for genre in data['genres'].iloc[i]: \n",
    "        c[genre] += 1 \n",
    "print (c)"
   ]
  },
  {
   "cell_type": "code",
   "execution_count": 26,
   "metadata": {},
   "outputs": [],
   "source": [
    "answer_ls.append(3)"
   ]
  },
  {
   "cell_type": "markdown",
   "metadata": {},
   "source": [
    "# 12. Какого жанра среди прибыльных фильмов больше всего?\n",
    "Варианты ответов:\n",
    "1. Drama\n",
    "2. Comedy\n",
    "3. Action\n",
    "4. Thriller\n",
    "5. Adventure"
   ]
  },
  {
   "cell_type": "code",
   "execution_count": 27,
   "metadata": {},
   "outputs": [
    {
     "name": "stdout",
     "output_type": "stream",
     "text": [
      "Counter({'Drama': 560, 'Comedy': 551, 'Thriller': 446, 'Action': 444, 'Adventure': 337, 'Romance': 242, 'Crime': 231, 'Family': 226, 'Science Fiction': 195, 'Fantasy': 188, 'Horror': 150, 'Animation': 120, 'Mystery': 119, 'Music': 47, 'History': 46, 'War': 41, 'Western': 12, 'Documentary': 7})\n"
     ]
    }
   ],
   "source": [
    "data = pd.read_csv('data.csv') \n",
    "data['genres'] = data['genres'].apply(lambda x: x.split('|')) \n",
    "data['marjin']=(data['revenue']-data['budget'])\n",
    "import collections\n",
    "c = collections.Counter()\n",
    "for i in range(0, len(data)):\n",
    "    for genre in data['genres'].iloc[i]:\n",
    "        if data['marjin'].iloc[i]>0:\n",
    "            c[genre] += 1 \n",
    "print (c)"
   ]
  },
  {
   "cell_type": "code",
   "execution_count": 28,
   "metadata": {},
   "outputs": [],
   "source": [
    "answer_ls.append(1)"
   ]
  },
  {
   "cell_type": "markdown",
   "metadata": {},
   "source": [
    "# 13. Кто из режиссеров снял больше всего фильмов?\n",
    "Варианты ответов:\n",
    "1. Steven Spielberg\n",
    "2. Ridley Scott \n",
    "3. Steven Soderbergh\n",
    "4. Christopher Nolan\n",
    "5. Clint Eastwood"
   ]
  },
  {
   "cell_type": "code",
   "execution_count": 29,
   "metadata": {},
   "outputs": [
    {
     "data": {
      "text/plain": [
       "Steven Soderbergh    13\n",
       "Ridley Scott         12\n",
       "Clint Eastwood       12\n",
       "Steven Spielberg     10\n",
       "Shawn Levy           10\n",
       "                     ..\n",
       "John Curran           1\n",
       "Chris Nahon           1\n",
       "Ava DuVernay          1\n",
       "Paul Abascal          1\n",
       "Colin Trevorrow       1\n",
       "Name: director, Length: 958, dtype: int64"
      ]
     },
     "execution_count": 29,
     "metadata": {},
     "output_type": "execute_result"
    }
   ],
   "source": [
    "data = pd.read_csv('data.csv')\n",
    "data['director'].value_counts()"
   ]
  },
  {
   "cell_type": "code",
   "execution_count": 30,
   "metadata": {},
   "outputs": [],
   "source": [
    "answer_ls.append(3)"
   ]
  },
  {
   "cell_type": "markdown",
   "metadata": {},
   "source": [
    "# 14. Кто из режиссеров снял больше всего Прибыльных фильмов?\n",
    "Варианты ответов:\n",
    "1. Steven Soderbergh\n",
    "2. Clint Eastwood\n",
    "3. Steven Spielberg\n",
    "4. Ridley Scott\n",
    "5. Christopher Nolan"
   ]
  },
  {
   "cell_type": "code",
   "execution_count": 31,
   "metadata": {},
   "outputs": [
    {
     "data": {
      "text/plain": [
       "Ridley Scott         12\n",
       "Clint Eastwood       10\n",
       "Steven Spielberg     10\n",
       "Steven Soderbergh    10\n",
       "Shawn Levy            9\n",
       "                     ..\n",
       "Christine Jeffs       1\n",
       "Rupert Wainwright     1\n",
       "Tommy Wirkola         1\n",
       "Joseph Kahn           1\n",
       "Pat O'Connor          1\n",
       "Name: director, Length: 774, dtype: int64"
      ]
     },
     "execution_count": 31,
     "metadata": {},
     "output_type": "execute_result"
    }
   ],
   "source": [
    "data = pd.read_csv('data.csv')\n",
    "data['marjin']=(data['revenue']-data['budget'])\n",
    "data[data['marjin']>0]['director'].value_counts()"
   ]
  },
  {
   "cell_type": "code",
   "execution_count": 32,
   "metadata": {},
   "outputs": [],
   "source": [
    "answer_ls.append(4)"
   ]
  },
  {
   "cell_type": "markdown",
   "metadata": {},
   "source": [
    "# 15. Кто из режиссеров принес больше всего прибыли?\n",
    "Варианты ответов:\n",
    "1. Steven Spielberg\n",
    "2. Christopher Nolan\n",
    "3. David Yates\n",
    "4. James Cameron\n",
    "5. Peter Jackson\n"
   ]
  },
  {
   "cell_type": "code",
   "execution_count": 33,
   "metadata": {},
   "outputs": [
    {
     "data": {
      "text/plain": [
       "director\n",
       "Simon Hunter            2033165\n",
       "Keanu Reeves            2054941\n",
       "Paul Schrader           2062066\n",
       "Steven Shainberg        2281089\n",
       "David MichÃ´d           2295423\n",
       "                        ...    \n",
       "J.J. Abrams          3579169916\n",
       "Michael Bay          3886938960\n",
       "David Yates          4154295625\n",
       "Christopher Nolan    4167548502\n",
       "Peter Jackson        6490593685\n",
       "Name: revenue, Length: 958, dtype: int64"
      ]
     },
     "execution_count": 33,
     "metadata": {},
     "output_type": "execute_result"
    }
   ],
   "source": [
    "data = pd.read_csv('data.csv')\n",
    "data_summ=data.groupby(['director'])['revenue'].sum()\n",
    "data_summ.sort_values()"
   ]
  },
  {
   "cell_type": "code",
   "execution_count": 34,
   "metadata": {},
   "outputs": [],
   "source": [
    "\n",
    "answer_ls.append(5)"
   ]
  },
  {
   "cell_type": "markdown",
   "metadata": {},
   "source": [
    "# 16. Какой актер принес больше всего прибыли?\n",
    "Варианты ответов:\n",
    "1. Emma Watson\n",
    "2. Johnny Depp\n",
    "3. Michelle Rodriguez\n",
    "4. Orlando Bloom\n",
    "5. Rupert Grint"
   ]
  },
  {
   "cell_type": "code",
   "execution_count": 35,
   "metadata": {
    "scrolled": true
   },
   "outputs": [
    {
     "name": "stdout",
     "output_type": "stream",
     "text": [
      "Counter({'Emma Watson': 6666245597, 'Daniel Radcliffe': 6514990281, 'Rupert Grint': 6408638290, 'Ian McKellen': 6087375777, 'Robert Downey Jr.': 5316030161, 'Orlando Bloom': 5148578162, 'Johnny Depp': 4776417000, 'Ralph Fiennes': 4739260140, 'Michelle Rodriguez': 4608031235, 'Anne Hathaway': 4490351538, 'Scarlett Johansson': 4203244858, 'Ben Stiller': 4201954571, 'Cameron Diaz': 4146490085, 'Samuel L. Jackson': 4036974161, 'Vin Diesel': 3923216862, 'Dwayne Johnson': 3899824603, 'Tom Cruise': 3872196893, 'Chris Evans': 3793939244, 'Gary Oldman': 3708823251, 'Zoe Saldana': 3572392568, 'Michael Caine': 3481833508, 'Shia LaBeouf': 3393362177, 'Chris Hemsworth': 3347424695, 'Angelina Jolie': 3345409359, 'Kristen Stewart': 3324049211, 'Helena Bonham Carter': 3289902810, 'Brad Pitt': 3287408957, 'Paul Walker': 3137283755, 'Sam Worthington': 3135365646, 'Daniel Craig': 3133778323, 'Will Smith': 3107921771, 'Tom Hanks': 3078112705, 'Josh Hutcherson': 3047241377, 'Mark Ruffalo': 3045858157, 'Jennifer Lawrence': 3031588432, 'Leonardo DiCaprio': 3029444829, 'Taylor Lautner': 3023620411, 'Robert Pattinson': 3008872499, 'Woody Harrelson': 2988729199, 'Cate Blanchett': 2918861980, 'James Franco': 2901670993, 'Sigourney Weaver': 2895067138, 'Antonio Banderas': 2891623730, 'Sandra Bullock': 2824692940, 'Matt Damon': 2803535866, 'Eddie Murphy': 2797586538, 'Bradley Cooper': 2792958718, 'Elijah Wood': 2787731978, 'Christian Bale': 2741738014, 'Liv Tyler': 2739870270, 'Julie Andrews': 2718858871, 'Viggo Mortensen': 2699098722, 'Harrison Ford': 2696134112, 'Steve Carell': 2668010978, 'Mike Myers': 2634259979, 'Jack Black': 2620004430, 'Liam Neeson': 2536858504, 'Keira Knightley': 2534854685, 'Jason Statham': 2495798922, 'George Clooney': 2477120111, 'Natalie Portman': 2468418555, 'Stephen Lang': 2460224804, 'Elizabeth Banks': 2440975500, 'Liam Hemsworth': 2429092160, 'Adam Sandler': 2387021605, 'Seann William Scott': 2376422215, 'Owen Wilson': 2375025339, 'Mark Wahlberg': 2324586236, 'Michael Keaton': 2316042286, 'Josh Duhamel': 2296594437, 'Richard Armitage': 2291125550, 'Bill Nighy': 2272709441, 'Chris Pratt': 2264031555, 'Kristen Wiig': 2247774460, 'Martin Freeman': 2245427868, 'Tobey Maguire': 2231331790, 'Denis Leary': 2224658555, 'Peter Facinelli': 2222107909, 'Judi Dench': 2203621895, 'John Leguizamo': 2193502213, 'Tom Hardy': 2129641063, 'Steve Buscemi': 2097184654, 'Ewan McGregor': 2090801439, 'Russell Crowe': 2065975814, 'Andy Serkis': 2057975393, 'Gwyneth Paltrow': 2051072268, 'Hugh Jackman': 2043789637, 'Emma Stone': 2023612916, 'Robert De Niro': 1989540634, 'Kirsten Dunst': 1972542719, 'Jonah Hill': 1955372029, 'Tyrese Gibson': 1954038544, 'Guy Pearce': 1953730753, 'Frances McDormand': 1941014837, 'Simon Pegg': 1927222589, 'John Goodman': 1918861833, 'Geoffrey Rush': 1918496931, 'Bryce Dallas Howard': 1917236873, 'Sacha Baron Cohen': 1916134152, 'Michael Gambon': 1906469638, 'Willem Dafoe': 1886667580, 'Ashley Greene': 1885118157, 'Adam Driver': 1884109030, 'Mark Hamill': 1868178225, 'Carrie Fisher': 1868178225, 'Daisy Ridley': 1868178225, 'Irrfan Khan': 1863613082, 'Jamie Foxx': 1860077704, 'Amy Adams': 1819139040, 'Gerard Butler': 1814331972, 'Jackie Chan': 1805945694, 'Jeremy Renner': 1805307161, 'Meryl Streep': 1792276260, 'Colin Firth': 1792021986, 'Dustin Hoffman': 1769635731, 'Megan Fox': 1749357755, 'Robin Williams': 1739802878, 'Chris Rock': 1725577596, 'Kevin James': 1724987946, 'Maggie Smith': 1714286499, 'Don Cheadle': 1698836838, 'Ray Romano': 1687442698, 'Justin Long': 1668080734, 'Zach Galifianakis': 1643064842, 'Russell Brand': 1641894717, 'Hank Azaria': 1628132253, 'Jason Lee': 1604563794, 'Nicolas Cage': 1598427930, 'Jim Carrey': 1579517274, 'Jordana Brewster': 1568762707, 'Seth Rogen': 1532111572, 'John Malkovich': 1528571988, 'Graham McTavish': 1516455355, 'David Schwimmer': 1513502299, 'Keanu Reeves': 1498961637, 'Amanda Seyfried': 1497822181, 'Allison Janney': 1497124685, 'Ken Watanabe': 1495008278, 'Ben Kingsley': 1487684460, 'Morgan Freeman': 1478916574, 'Jason Bateman': 1477790582, \"Vincent D'Onofrio\": 1465576509, 'Ken Jeong': 1452196639, 'Ryan Reynolds': 1445757622, 'Jennifer Aniston': 1443185988, 'Ed Harris': 1433643828, 'Christoph Waltz': 1415633955, 'Ken Stott': 1413519788, 'Jack Davenport': 1412846074, 'Mila Kunis': 1411974109, 'Will Arnett': 1411551691, 'Julie Walters': 1404008567, 'Bruce Willis': 1402368647, 'Anthony Hopkins': 1398887962, 'Michael Fassbender': 1396919073, 'Jason Segel': 1381034598, 'Carla Gugino': 1378790398, 'Ben Affleck': 1371296619, 'Jake Gyllenhaal': 1369845596, 'Ving Rhames': 1367591200, 'Nick Robinson': 1363528810, 'Jessica Chastain': 1355397478, 'Aaron Eckhart': 1352459484, 'Vince Vaughn': 1351186518, 'Jude Law': 1347852227, 'Julia Roberts': 1346783045, 'Josh Gad': 1340350280, 'Hayden Christensen': 1336469783, 'Charlize Theron': 1329803370, 'Alan Rickman': 1324666007, 'Leslie Mann': 1314569622, 'Bill Hader': 1314097465, 'Thandie Newton': 1306199066, 'Monica Bellucci': 1286310870, 'Denzel Washington': 1278642199, 'Rachel McAdams': 1275304837, 'Josh Brolin': 1271330619, 'Kristen Bell': 1266445306, 'Ian McDiarmid': 1266398328, 'Jay Baruchel': 1265942894, 'Famke Janssen': 1258361241, 'Javier Bardem': 1257445372, 'Paul Bettany': 1251524842, 'Andrew Garfield': 1250524708, 'David Cross': 1241555575, 'Alfred Molina': 1229444150, 'Tommy Lee Jones': 1216769285, 'Jon Hamm': 1213064725, 'Paul Rudd': 1210975726, 'Channing Tatum': 1209494233, 'Hugo Weaving': 1201151589, 'Stellan SkarsgÃ¥rd': 1199116345, 'Ed Helms': 1195018840, 'Patrick Stewart': 1193273688, 'Christopher Plummer': 1190137280, 'James McAvoy': 1178987928, 'Amanda Peet': 1177312381, 'PenÃ©lope Cruz': 1168450274, 'Steve Coogan': 1166801573, 'Will Ferrell': 1165510652, 'RenÃ©e Zellweger': 1164990827, 'Queen Latifah': 1154625474, 'Rosamund Pike': 1134755001, 'Mark Strong': 1131611562, 'Richard Harris': 1131328909, 'Idina Menzel': 1124219009, 'Jonathan Groff': 1124219009, 'Santino Fontana': 1124219009, 'Thomas Haden Church': 1122456954, 'Jeff Bridges': 1120780625, 'Joaquin Phoenix': 1120274502, 'Andy GarcÃ\\xada': 1117749317, 'Heath Ledger': 1111508240, 'Rose Byrne': 1107178907, 'Billy Crystal': 1101686608, 'Justin Bartha': 1097159972, 'Neil Patrick Harris': 1093496678, 'Chiwetel Ejiofor': 1093097183, 'Jesse Eisenberg': 1092766286, 'Anna Faris': 1081636934, 'Mel Gibson': 1079231358, 'Carrie-Anne Moss': 1079169881, 'Michael PeÃ±a': 1074664116, 'Rachel Weisz': 1072009252, 'Brian Cox': 1068874359, 'Jada Pinkett Smith': 1066567624, 'Jason Clarke': 1065051837, 'Martin Sheen': 1055310537, 'Emily Blunt': 1053071561, 'Brad Garrett': 1046311112, 'Billy Burke': 1039021060, 'Sean Bean': 1035597311, 'Jon Voight': 1033061074, 'Jane Lynch': 1031200074, 'John Cusack': 1031032432, 'Sharlto Copley': 1029873565, 'Naomie Harris': 1027867754, 'Skandar Keynes': 1024144587, 'Georgie Henley': 1024144587, 'Ian McShane': 1023678483, 'Benjamin Bratt': 1015810166, 'Elle Fanning': 1013929879, 'Ioan Gruffudd': 1010384046, 'John Cleese': 1009569409, 'Nicole Kidman': 1000969666, 'Matthew McConaughey': 999064410, 'Lucy Liu': 993283774, 'Emma Thompson': 987066274, 'Helen Mirren': 982061005, 'Ned Beatty': 973896514, 'Sylvester Stallone': 970268324, 'Joan Cusack': 966017065, 'Eddie Marsan': 954973067, 'Amy Poehler': 954595982, 'Pierce Brosnan': 952867243, 'Eva Green': 950504033, 'Salma Hayek': 945394032, 'Jennifer Connelly': 942585561, 'Kate Beckinsale': 938034028, 'Luke Evans': 929770819, 'Tim Allen': 928139970, 'Kerry Washington': 923826504, 'Jaden Smith': 922308630, 'Richard Jenkins': 921423264, 'Giovanni Ribisi': 919483785, 'Stanley Tucci': 916891529, 'Laurence Fishburne': 914806127, 'Anil Kapoor': 912623924, 'Arnold Schwarzenegger': 912241043, 'Kenneth Branagh': 912054905, 'Chris Pine': 902838990, 'Halle Berry': 901250736, 'Brendan Gleeson': 900356579, 'Miranda Cosgrove': 894761885, 'Ellen Page': 888883058, 'Timothy Spall': 884640240, 'Craig T. Nelson': 883328576, 'Chris Noth': 878232620, 'Joseph Gordon-Levitt': 877435832, 'Phyllis Smith': 874906101, 'Mia Wasikowska': 870458340, 'Colin Farrell': 865467136, 'Naomi Watts': 864926361, 'Catherine Zeta-Jones': 862954118, 'Reese Witherspoon': 862425360, 'Robbie Coltrane': 860502299, 'Drew Barrymore': 856424409, 'Forest Whitaker': 853551533, 'Paula Patton': 852390780, 'Maggie Grace': 851148760, 'Michael Douglas': 846264947, 'Crispin Glover': 843895173, 'Shailene Woodley': 839380546, 'Christopher Walken': 834792475, 'Adrien Brody': 833276217, 'Kristin Davis': 826406154, 'John Lithgow': 825191875, 'Albert Brooks': 823808214, 'Catherine Keener': 820589644, 'Billy Connolly': 812051007, 'Anna Kendrick': 800607398, 'Zachary Levi': 798194003, 'Vincent Cassel': 795027991, 'David Thewlis': 794194602, 'Sebastian Stan': 791289166, 'Milla Jovovich': 786655780, 'Jim Caviezel': 783829193, 'Chris Wedge': 782244782, 'Judy Greer': 777154799, 'Abigail Breslin': 772064316, 'Ellen DeGeneres': 770625978, 'Alexander Gould': 770625978, 'Dougray Scott': 770598375, 'Scott Glenn': 765359323, 'William Moseley': 763458370, 'Anna Popplewell': 763458370, 'Jon Favreau': 762627789, 'Ashton Kutcher': 761846333, 'Donald Sutherland': 761734071, 'Justin Timberlake': 760455865, 'Patrick Dempsey': 757202471, 'Julia Stiles': 755983128, 'Jae Head': 754237680, 'Freida Pinto': 752770729, 'Eric Bana': 747050749, 'LÃ©a Seydoux': 746344149, 'Dennis Quaid': 745536243, 'Bobby Cannavale': 742563614, 'Vera Farmiga': 739811245, 'Alice Braga': 738196047, 'Tom Hiddleston': 735144708, 'Eva Mendes': 731647728, 'Diane Lane': 730552719, 'Idris Elba': 729513850, 'Ron Perlman': 727076793, 'Jennifer Lopez': 722319779, 'Dakota Fanning': 722124237, 'Marisa Tomei': 720492109, 'Jessica Alba': 718956099, 'Jason Biggs': 718047825, 'Logan Lerman': 716360706, 'Dev Patel': 711318891, 'Jayma Mays': 709799821, 'Richard Roxburgh': 708901267, 'Maria Bello': 707992013, 'Joel Edgerton': 704417211, 'Richard Kind': 703138943, 'Larry the Cable Guy': 701835545, 'Toby Kebbell': 701402999, 'Ray Winstone': 701300816, 'Lewis Black': 699946257, 'Mary Steenburgen': 699297588, 'Keri Russell': 696330761, 'Topher Grace': 693867855, 'Jodie Foster': 692981079, 'Julianne Moore': 691873851, 'Teri Polo': 691336278, 'Helen Hunt': 688540250, 'Michelle Williams': 686220214, 'Cliff Robertson': 682708551, 'Rainn Wilson': 680060118, 'Elizabeth Reaser': 678281159, 'Tom Felton': 676586689, 'Selena Gomez': 676210369, 'Delroy Lindo': 675059230, 'Thomas Kretschmann': 673004361, 'Jeff Daniels': 670281878, 'Bryan Cranston': 668057463, 'Steve Martin': 662007236, 'Sienna Miller': 660670762, 'Terrence Howard': 654463199, 'Zac Efron': 649963240, 'Sarah Jessica Parker': 649315022, 'John C. Reilly': 648400516, 'Barbra Streisand': 647293524, 'Seth MacFarlane': 647231921, 'Katherine Heigl': 647162538, 'Emily Mortimer': 646992715, 'Dane DeHaan': 646176007, 'Kevin McNally': 645340751, 'David Wenham': 645001947, 'Jack Nicholson': 642197880, 'Michael Shannon': 641150621, 'Diane Kruger': 634477126, 'Olga Kurylenko': 633615983, 'Audrey Tautou': 633239851, 'Oliver Platt': 633203913, 'Rowan Atkinson': 632048651, 'Luis GuzmÃ¡n': 630895549, 'Brendan Fraser': 629714029, 'Ellie Kemper': 629450790, 'Cedric the Entertainer': 628899385, 'Michelle Monaghan': 626259328, 'Anton Yelchin': 626210342, 'James Cromwell': 623756015, 'Zooey Deschanel': 623426479, 'Johnny Knoxville': 620515040, 'Kate Winslet': 619303024, 'Ed Asner': 619115486, 'Thomas Ian Nicholas': 618992382, 'Henry Cavill': 616758227, 'Dave Franco': 613786961, 'Karl Urban': 613344026, 'Isla Fisher': 612590868, 'Orto Ignatiussen': 611392705, 'Phaldut Sharma': 611392705, 'Sienna Guillory': 611264335, 'Jennifer Garner': 608226957, 'Philip Seymour Hoffman': 608117250, 'Juno Temple': 606545351, 'Alexandra Daddario': 603808737, 'Dave Bautista': 603312399, 'Karen Allen': 601636033, 'Paul Giamatti': 599499410, 'Kelly Macdonald': 598073029, 'Rhys Ifans': 594437873, 'Rachael Taylor': 594336566, 'Corey Stoll': 593427556, 'Robert Redford': 593392802, 'Alec Baldwin': 591993156, 'John Hannah': 591141913, 'Edward Norton': 589530364, 'Amy Sedaris': 589420142, 'Helmut Bakaitis': 588599701, 'Mickey Rourke': 586892036, 'Rosemary Harris': 583766341, 'Patton Oswalt': 582795167, 'Casey Affleck': 582153994, 'Maia Morgenstern': 581899420, 'Christo Jivkov': 581899420, 'Francesco De Vito': 581899420, 'Rebel Wilson': 579280902, 'Isobelle Molloy': 578410378, 'Evangeline Lilly': 577870671, 'Dakota Johnson': 576427145, 'Billy Crudup': 573934412, 'James Marsden': 571809610, 'Holly Hunter': 571476924, 'Andy Samberg': 571426877, 'Kathy Bates': 569019388, 'Bruce Greenwood': 568430075, 'Leslie Bibb': 568035770, 'Alan Cumming': 566683503, 'Terence Stamp': 565203293, \"Dylan O'Brien\": 564576787, 'Kaya Scodelario': 564576787, 'Hugh Grant': 564316793, 'Kyle Gallner': 564171460, 'Domhnall Gleeson': 563794227, 'Tim Robbins': 561525781, 'Bonnie Hunt': 561377092, 'Clive Owen': 560641754, 'Zachary Quinto': 560393348, 'Chris Tucker': 560086749, 'Tobin Bell': 559671044, 'Liev Schreiber': 558666747, 'Martin Lawrence': 557993182, 'Jamie Bell': 557647300, 'Jessica Biel': 557197075, 'Mandy Moore': 556520122, 'Jordan Nagai': 556342744, 'Bob Peterson': 556342744, 'Kim Cattrall': 553822776, 'Colm Feore': 552759977, 'ChloÃ« Grace Moretz': 548674908, 'Melissa McCarthy': 547668075, 'Hailee Steinfeld': 543785173, 'Joel Murray': 543559607, 'Cherry Jones': 540519203, 'Dominique Louis': 539442092, 'Cynthia Nixon': 538600478, 'Lena Headey': 537458756, 'AnnaSophia Robb': 536552784, 'Alan Arkin': 534499217, 'Jean Reno': 534052399, 'Mads Mikkelsen': 532613817, 'Rebecca Ferguson': 532330139, 'Mathieu Amalric': 530691045, 'Kyle Chandler': 530568816, 'Bill Paxton': 529840710, 'Jamie Dornan': 529651467, 'Eloise Mumford': 529651467, 'Miles Teller': 529621773, 'Richard Gere': 528795720, 'Jeffrey Wright': 528642754, 'Tilda Swinton': 528344134, 'Jennifer Ehle': 527336389, 'Goran Visnjic': 526565466, 'Sam Elliott': 526347280, 'Emmy Rossum': 525596106, 'Juliette Binoche': 525517827, 'Benedict Cumberbatch': 525471273, 'Dominic West': 524830589, 'Lisa Ann Walter': 524701295, 'Harvey Keitel': 524225881, 'David Spade': 522975263, 'Oded Fehr': 522125942, 'Alfre Woodard': 521936035, 'Christopher Eccleston': 520685031, 'Maya Rudolph': 518434765, 'Victor Rasuk': 518063424, 'Michael Chiklis': 514038655, 'Anthony Mackie': 514005153, 'Ian Holm': 513280933, 'Regina Hall': 512855582, 'Joel McHale': 512793141, 'Freddie Highmore': 509788079, 'Jamie Chung': 505687664, 'Suraj Sharma': 502324192, 'Timothy Olyphant': 500434857, 'Gemma Arterton': 500287903, 'David Andrews': 499692268, 'Alison Brie': 499581896, 'Jai Courtney': 497432334, 'Miranda Otto': 497367502, 'Ice Cube': 494678205, 'Michael Clarke Duncan': 494368059, 'Winona Ryder': 493716892, 'Ayush Tandon': 489016565, 'Gautam Belur': 489016565, 'Adil Hussain': 489016565, 'Jet Li': 487323184, 'Scott Adsit': 487105443, 'Ryan Potter': 487105443, 'Daniel Henney': 487105443, 'T.J. Miller': 487105443, 'Djimon Hounsou': 486979697, 'Olivia Wilde': 486327016, 'Christine Baranski': 483918135, 'Sam Neill': 483823850, 'Cole Konis': 483507423, 'Ben Reed': 483507423, 'Taraji P. Henson': 483329975, 'Rick Yune': 481717388, 'Brian Dennehy': 480565360, 'Ali Larter': 479064187, 'Daryl Sabara': 478903383, 'Ansel Elgort': 478389466, 'Charlie Tahan': 477840078, 'Kris Kristofferson': 477657760, 'Aaron Taylor-Johnson': 475223287, 'Lou Romano': 473722818, 'Peter Sohn': 473722818, 'Rip Torn': 470015453, 'Emily Watson': 466713286, 'Jake Cherry': 464480841, 'Dick Van Dyke': 464480841, 'Carlos Alazraqui': 464466481, 'Lily James': 463958096, 'Heather Graham': 463828734, 'Clint Eastwood': 463805523, 'Diego Luna': 458424322, 'Hayden Panettiere': 457187783, 'Justin Chatwin': 456549492, 'Zach Braff': 456301213, 'Tina Fey': 454873580, 'James Caan': 454771605, 'Nikolaj Coster-Waldau': 454447536, 'J.K. Simmons': 453964231, 'Julian McMahon': 453774314, 'Anthony Anderson': 452314844, 'William Fichtner': 452167599, 'Dan Castellaneta': 452068851, 'Julie Kavner': 452068851, 'Nancy Cartwright': 452068851, 'Yeardley Smith': 452068851, 'Theo James': 451386096, 'Josh Hartnett': 448026707, 'Mary Gibbs': 447816256, 'James Coburn': 447816256, 'Richard Madden': 447351353, 'Holliday Grainger': 447351353, 'Jeff Garlin': 445745727, 'Bernie Mac': 444693491, 'Jim Broadbent': 443352706, 'Paul Newman': 442984627, 'Sarah Michelle Gellar': 442870153, 'Roselyn SÃ¡nchez': 441065487, 'Ryan Gosling': 440211949, 'Brittany Snow': 436873169, 'Noomi Rapace': 436109472, 'Salli Richardson-Whitfield': 435349010, 'Willow Smith': 435349010, 'Chris Klein': 435282191, 'Eddie Kaye Thomas': 434002798, 'John Turturro': 432768918, 'Hilary Swank': 432696905, 'Patrick Wilson': 430331003, 'Katie Holmes': 430070539, 'Adam Scott': 429541084, 'Lainie Kazan': 428606561, 'Michael Ealy': 428540162, 'Amber Valletta': 426295632, 'Cloris Leachman': 425220295, 'Adam Brody': 423513599, 'Michael Stuhlbarg': 423457110, 'Choi Min-sik': 423360063, 'Amr Waked': 423360063, 'Julian Rhind-Tutt': 423360063, 'CiarÃ¡n Hinds': 423311648, 'Matthew Gray Gubler': 421362739, 'Dash Mihok': 419272402, 'Jay O. Sanders': 419272402, 'TÃ©a Leoni': 417593371, 'Pamela Anderson': 416245961, 'Ray Liotta': 415719306, 'Dane Cook': 413151166, 'Cliff Curtis': 412941831, 'Alex Pettyfer': 412826358, 'Craig Berry': 409160692, 'David Burrows': 409160692, 'Bill Murray': 407752684, 'Nicholas Hoult': 407587394, 'Dolph Lundgren': 407043817, 'Arnold Vosloo': 405891190, 'Costas Mandylor': 405794229, 'Betsy Russell': 405794229, 'Marton Csokas': 405228619, 'Philip Baker Hall': 404572835, 'Catherine Bell': 404572835, 'Imelda Staunton': 404212575, 'Paul Dano': 403873413, 'Nick Nolte': 403445301, 'John Travolta': 403405634, 'William Hurt': 403331749, 'Rob Riggle': 402801764, 'Radha Mitchell': 401932263, 'Sarah Silverman': 400313407, 'Taylor Swift': 399385595, 'Will Poulter': 397950503, 'Paul Anderson': 397950503, 'Franka Potente': 397816737, 'Tom Wilkinson': 397238043, 'Margot Robbie': 395863657, 'Will.i.am': 394635760, 'Skylar Astin': 391922292, 'Alyson Hannigan': 389987213, 'Karin Konoval': 389860185, 'Hiroyuki Sanada': 389425381, 'Michael Cera': 387768635, 'Carey Mulligan': 387018110, 'Giancarlo Giannini': 386090727, 'David Strathairn': 385951240, 'Charlie Day': 384294109, 'Eric Dane': 383087803, 'Peter Sarsgaard': 382395787, 'Mireille Enos': 382248361, 'Linda Cardellini': 382011095, 'Sterling Jerins': 381283872, 'Kevin Hart': 377789603, 'Rade Serbedzija': 375451072, 'Nia Long': 375064250, 'Tyler Perry': 373940912, 'BeyoncÃ© Knowles': 372401927, 'Garrett Hedlund': 371812586, 'Cuba Gooding Jr.': 370912485, 'Robert Patrick': 370580110, 'Uma Thurman': 368211132, 'Kate Hudson': 366959265, 'Nat Wolff': 366663565, 'Miley Cyrus': 365967227, 'Christina Applegate': 365757395, 'Victor Garber': 365624623, 'Jonathan Rhys Meyers': 364700455, 'Billy Bob Thornton': 364246828, 'Kevin Bacon': 363771092, 'Brandon T. Jackson': 363764023, 'John Corbett': 363744044, 'Michael Constantine': 363744044, 'Andrea Martin': 363744044, 'Vincent Regan': 363481532, 'Archie Panjabi': 363419703, 'Mia Drake Inderbitzin': 362910544, 'Saurabh Shukla': 362910544, 'Jason Sudeikis': 362232725, 'Joey King': 360366878, 'Al Pacino': 360333201, 'Rami Malek': 359701918, 'Robin Wright': 358996629, 'Nia Vardalos': 358540336, 'Kevin McKidd': 356887926, 'Fred Willard': 355436781, 'Oliver Reed': 354640427, 'Alexa PenaVega': 353669520, 'Scott Speedman': 352866375, 'Max von Sydow': 352453040, 'Alan Ritchson': 352200000, 'Noel Fisher': 352200000, 'Clancy Brown': 348706648, 'Jordi MollÃ\\xa0': 348607282, 'Dominic Cooper': 348087876, 'Tom Kenny': 347755824, 'Bill Fagerbakke': 347755824, 'Rodger Bumpass': 347755824, 'Carolyn Lawrence': 347755824, 'Thomas Brodie-Sangster': 347746748, 'Paddy Considine': 346688379, 'William H. Macy': 344483139, 'Katie Cassidy': 344397443, 'Elizabeth Olsen': 343937091, 'America Ferrera': 343931820, 'Ben Burtt': 341311860, 'Elissa Knight': 341311860, 'John Ratzenberger': 341311860, 'Taron Egerton': 340775130, 'Colin Hanks': 340483410, 'Jeffrey Garcia': 340271840, 'Paul Sanchez': 339632142, 'Lari White': 339632142, 'Mary Elizabeth Winstead': 339393405, 'Wendi McLendon-Covey': 339378133, 'Katie Featherston': 338521810, 'Sprague Grayden': 338521810, 'Connie Nielsen': 337764917, 'Marlon Wayans': 337371291, 'John Hurt': 336626586, 'Christine Taylor': 336394656, 'Rory Culkin': 336247917, 'Sebastian Koch': 335264655, 'Jeffrey Tambor': 335133080, 'Zhang Ziyi': 334568764, 'Cheech Marin': 333362142, 'Abigail Hargrove': 331865000, 'Lake Bell': 331830154, 'Donna Murphy': 331794936, 'M.C. Gainey': 331794936, 'Luke Grimes': 331141306, 'Will Patton': 331099921, 'Rob Corddry': 330479849, 'Abbie Cornish': 329521191, 'Chris Cooper': 328901914, 'Rihanna': 327896492, 'Rosario Dawson': 325549017, 'Ike Barinholtz': 325168453, 'Julia Winter': 324968763, 'Kiefer Sutherland': 324558368, 'Christopher Mintz-Plasse': 324114566, 'Ginnifer Goodwin': 320600237, 'Regina King': 320148152, 'Yu Rong-Guang': 317852395, 'Tess Liu': 317852395, 'Alessandro Nivola': 317701448, 'Candice Bergen': 317622424, 'William Atherton': 316758981, 'Chad Lindberg': 316758981, 'Josh Lucas': 316071535, 'Steve Zahn': 315899202, 'Barbara Hershey': 314803731, 'Craig Ferguson': 314338759, 'Ki Hong Lee': 314319861, 'Aml Ameen': 314319861, 'Blake Cooper': 314319861, 'Kathleen Turner': 313919386, 'Eddie Izzard': 313883436, 'Carmen Electra': 313666602, 'Bailee Madison': 313503850, 'Malin Ã…kerman': 311396283, 'Brie Larson': 308954009, 'Carrie Coon': 308330363, 'Amy Smart': 307241727, 'Michael B. Jordan': 307184973, 'Jack McBrayer': 306222889, 'Jamie Elman': 306222889, 'Lili Taylor': 305000141, 'Johnny A. Sanchez': 304742074, 'Ben Whishaw': 304547718, 'Lauren Holly': 304111707, 'Mark Feuerstein': 304111707, 'Lindsay Lohan': 304093222, 'Daryl Hannah': 303335530, 'Cole Hauser': 303071262, 'Bruce McGill': 302157427, 'Laura Dern': 302152061, 'Ron Livingston': 302080819, 'Lara Flynn Boyle': 301818803, 'Cameron Richardson': 301366633, 'Vanessa Hudgens': 300863056, 'Miranda Richardson': 299996214, 'Brittany Murphy': 299458824, 'Kelly Reilly': 298947962, 'Ray Stevenson': 298241422, 'Ken Davitian': 298219575, 'Julie Ann Emery': 298100420, 'Debra Messing': 297604990, 'Benicio del Toro': 295610402, 'Jackie Earle Haley': 295570609, 'Tao Okamoto': 295440673, 'Rila Fukushima': 295440673, 'Svetlana Khodchenkova': 295440673, 'Dan Aykroyd': 293584844, 'Sam Trammell': 293151265, 'Mekhi Phifer': 293003144, 'Piper Perabo': 292553004, 'Rob Reiner': 292000694, 'Toby Stephens': 291971116, 'Maggie Q': 291840595, 'MÃ©lanie Laurent': 291829944, 'Sam Rockwell': 291694934, 'Toni Collette': 290270905, 'Betty White': 289380279, 'Danny DeVito': 289182477, 'Nick Frost': 289106272, 'Aidan Gillen': 285860739, 'Tim McGraw': 285737503, 'Emilia Clarke': 285603537, 'Iain Glen': 285299105, 'Lombardo Boyar': 284335608, 'Eugene Levy': 284226112, 'Morris Chestnut': 283900987, 'Kim Coates': 283829116, 'Selma Blair': 283812094, 'Li Bingbing': 283565879, 'Rhona Mitra': 283330100, 'Rufus Sewell': 283067629, 'John Ortiz': 282906331, 'Matt Dillon': 281560659, 'Hugh Laurie': 281559499, 'Quinton Aaron': 280208309, 'Aaron Paul': 280059764, 'Tim Roth': 279208440, 'Elizabeth Debicki': 279185528, 'Blythe Danner': 278444045, 'Simon Baker': 276785665, 'Jason Isaacs': 275983276, 'Trevor Morgan': 275780809, 'Mary Alice': 274988211, 'Dwight Yoakam': 274658879, 'Claire Danes': 273673663, 'Mike Vogel': 273115409, 'David Carradine': 273108461, 'Sean Penn': 271696359, 'Albert Finney': 271259703, 'Hilary Duff': 270610291, 'RamÃ³n RodrÃ\\xadguez': 269744392, 'Maggie Gyllenhaal': 269674681, 'Greg Kinnear': 269235857, 'Jessica Lange': 268946856, 'Christina Ricci': 268257275, 'Courteney Cox': 267852767, 'Jenny Slate': 267695435, 'Andy Buckley': 267695435, 'Amy Ryan': 267684432, 'Haley Joel Osment': 267313963, 'Kurt Russell': 265634340, 'Seth Green': 264975627, 'Jean Smart': 264566577, 'Michelle Pfeiffer': 264177927, 'Dermot Mulroney': 263242401, 'Katy Perry': 263161134, 'Lynn Collins': 262837708, 'Gary Sweet': 260686217, 'Arthur Angel': 260686217, 'Robert Duvall': 260013146, 'Asia Argento': 259693324, 'Dave Sheridan': 259019771, 'Jon Abrahams': 259019771, 'Bridget Moynahan': 258879115, 'Teresa Palmer': 258404013, 'Keith David': 257437977, 'Adam G. Sevani': 257108509, 'Ben Mendelsohn': 256408655, 'Lois Smith': 256372926, 'Luke Ford': 256128639, 'Rachel Covey': 255487652, 'Ernie Reyes, Jr.': 253242294, 'Rebecca Hall': 253067472, 'Brian Howe': 252077295, 'James Karen': 252077295, 'Elisabeth Shue': 252046440, 'Joel Kinnaman': 251968388, 'Eli Roth': 249131050, 'Annabelle Wallis': 248773813, 'Eric Ladin': 248773813, 'Tony Amendola': 248773813, 'Gabriel Bateman': 248773813, 'Jessica Lowndes': 248586800, 'Gia Mantegna': 248586800, 'Tom Welling': 247595375, 'Haley Bennett': 247560950, 'Derek Mears': 247182526, 'Gemma Jones': 247132815, 'David Harbour': 243864415, 'Luenell': 243572744, 'Bob Barr': 243572744, 'Samantha Morton': 241936482, 'Tom McGrath': 241552094, 'Chris Miller': 241552094, 'Christopher Knights': 241552094, 'Conrad Vernon': 241552094, 'Luke Wilson': 238940820, 'Taylor Kitsch': 237787675, 'Mike Epps': 237458441, 'Christopher Carley': 236958228, 'Bee Vang': 236958228, 'Ahney Her': 236958228, 'Brian Haley': 236958228, 'Wentworth Miller': 236221663, 'Kacey Barnfield': 236221663, 'Leonard Nimoy': 235680446, 'Nick Stahl': 235000000, 'D. B. Sweeney': 234970792, 'Raini Rodriguez': 234890373, 'Yaya DaCosta': 234804829, 'Matt Jones': 233871007, 'Michael York': 233633907, 'Mindy Sterling': 233633907, 'Adam Goldberg': 232928991, 'Scott Patterson': 232410166, 'Jessica Lucas': 231736080, 'Kevin Durand': 231187166, 'Charlie Sheen': 231051961, 'Simon Rex': 231051961, 'Patricia Clarkson': 230898767, 'Michael Sheen': 230753273, 'Bruce Boxleitner': 230062763, 'David Koechner': 229048314, 'Hugh Keays-Byrne': 228436354, 'Josh Helman': 228436354, 'Burn Gorman': 227602906, 'Sullivan Stapleton': 227580051, 'Callan Mulvey': 227580051, 'DemiÃ¡n Bichir': 227434297, 'Alan Tudyk': 227234916, 'Marion Cotillard': 227113544, 'Charlie Hunnam': 226961836, 'Ossie Davis': 226748063, 'Max Casella': 226748063, 'Sam Claflin': 226600000, 'Jennifer Coolidge': 226396741, 'Marg Helgenberger': 225908549, 'Jon Bernthal': 225903742, 'Kellan Lutz': 223847506, 'Hayley Atwell': 223774065, 'Harry Connick Jr.': 222675086, 'Taylor Momsen': 222141403, 'Bill Irwin': 222141403, 'Shaun Toub': 221778970, 'Viola Davis': 221393401, 'Camilla Belle': 220432286, 'Ty Burrell': 220321935, 'Stacy Keach': 220102693, 'Rory Kinnear': 219555708, 'Allen Leech': 219555708, 'Cillian Murphy': 219380845, 'Noah Taylor': 218708728, 'Matthew Broderick': 218402345, 'Jeremy Irons': 218347965, 'Odette Annable': 218283324, 'Gabrielle Union': 218048807, 'Meagan Good': 218025354, 'Matthew Goode': 217572727, 'Sanaa Lathan': 217305912, 'John Hawkes': 216909849, 'James Garner': 216541086, 'Kevin Kline': 215296890, 'January Jones': 213924167, 'Ben Barnes': 213830026, 'Gene Hackman': 213193625, 'Yuliya Snigir': 212654182, 'Kristanna Loken': 212405420, 'Matthew Lillard': 210976969, 'Ludacris': 210767566, 'Julia Ormond': 210210178, 'Joel Courtney': 210095987, 'Riley Griffiths': 210095987, 'Ryan Lee': 210095987, 'Jake Johnson': 210087448, 'Shawn Wayans': 209902274, 'Kim Basinger': 209613391, 'Val Kilmer': 209136681, 'Heather Matarazzo': 208904109, 'Susan Sarandon': 208618170, 'Wanda Sykes': 208548258, 'Jared Harris': 208392465, 'Harry Lloyd': 208158639, 'Jennifer Jason Leigh': 208091055, 'Martin Henderson': 207895130, 'Michael Roof': 207448382, 'Rooney Mara': 207201893, 'Ayelet Zurer': 206613439, 'Pierfrancesco Favino': 206613439, 'Tracy Morgan': 205996766, 'T.I.': 205476463, 'Gregor Fisher': 204931766, 'Max Baldry': 204736344, 'Emma de Caunes': 204736344, 'Spencer Breslin': 204577968, 'Peter Capaldi': 204207227, 'Nicola Peltz': 204002923, 'Carol Burnett': 203543259, 'Holly Valance': 201830568, 'David Dorfman': 201348933, 'Shannon Cochran': 201348933, 'Yvan Attal': 200967156, 'Lauren Bittner': 200703818, 'Christopher Nicholas Smith': 200703818, 'Chloe Csengery': 200703818, 'Alan Alda': 200541096, 'Moon Bloodgood': 200396057, 'Jim Parsons': 200319392, 'Marcia Gay Harden': 200008773, 'Armie Hammer': 199979886, 'Danny Glover': 199877478, 'George Lopez': 199705959, 'Karel Roden': 199236344, 'Robert Carlyle': 198526545, 'Kyra Sedgwick': 197326618, 'Lucy Punch': 196197492, 'Diane Keaton': 195371175, 'Eric Roberts': 194470394, 'Randy Couture': 194470394, 'Lily Collins': 193980229, 'Patrick Warburton': 193601129, 'Alakina Mann': 192947037, 'James Bentley': 192947037, 'Eric Sykes': 192947037, 'Jonas Armstrong': 192541256, 'James Badge Dale': 192336852, 'William Shatner': 192145118, 'Eddie Redmayne': 192038879, 'Shane Brolly': 191376455, \"Chris O'Donnell\": 191080764, 'Hannibal Buress': 190360392, 'Kenneth Welsh': 189863608, 'Kathryn Hahn': 189716103, 'Dakota Goyo': 189268508, 'Sean Patrick Thomas': 188890330, 'Max Minghella': 188588606, 'Nate Parker': 188035744, 'Cam Gigandet': 187673245, 'Dakota Blue Richards': 187305194, 'Michael Jeter': 187172023, 'David Arquette': 186771338, 'Mike Colter': 186763646, 'Lizzy Caplan': 186730379, 'Laura Linney': 186305352, 'Blake Lively': 186065154, 'Ben Foster': 186056323, 'Gillian Anderson': 185762289, 'Mel Brooks': 185696994, 'Paula Abdul': 185696994, 'Steve Toussaint': 185154643, 'Jacki Weaver': 184738714, 'Rob Schneider': 184255624, 'Briana Evigan': 183688466, 'Peter Dinklage': 183687977, 'Daniel Olbrychski': 183329073, 'Spencer Treat Clark': 183297423, 'Jacob Vargas': 183098900, 'Juliette Lewis': 182571105, 'Alex Russell': 182394288, 'Douglas Smith': 182108530, 'Imogen Poots': 181901330, 'F. Murray Abraham': 181650082, \"James D'Arcy\": 181632382, 'Emile Hirsch': 181198088, 'Malcolm McDowell': 181006465, 'Aziz Ansari': 180974074, 'Nathalie Boltt': 180819611, 'Sylvaine Strike': 180819611, 'Elizabeth Mkandawie': 180819611, 'Chi McBride': 180721728, 'Saoirse Ronan': 180422610, 'Robert Forster': 180342265, 'Lucy Lawless': 180067301, 'Barry Pepper': 179944702, 'Jane Horrocks': 179834564, 'Neve Campbell': 178972962, 'Virginia Madsen': 178869118, 'Colm Meaney': 178720382, 'Steven Strait': 178597471, 'Freddie Prinze Jr.': 178396436, 'Steven Berkoff': 178346189, 'Kaley Cuoco': 177753603, 'Michelle Dockery': 177332826, 'Jared Leto': 176835560, 'Aryana Engineer': 175159255, 'Pihla Viitala': 174803475, 'Jake Thomas': 174461007, 'Eminem': 174000000, \"O'Shea Jackson Jr.\": 173634991, 'Corey Hawkins': 173634991, 'Jason Mitchell': 173634991, 'Neil Brown Jr.': 173634991, 'Aldis Hodge': 173634991, 'Jason Behr': 173474602, 'William Mapother': 173474602, 'KaDee Strickland': 173474602, 'John Patrick Amedori': 173118121, 'Michael Vartan': 172939078, 'Jenny McCarthy': 172673217, 'Marny Eng': 172673217, 'Lisa Kudrow': 172502985, 'Melissa George': 172309133, 'Will Forte': 172149533, 'John Forsythe': 172105545, 'Jason Cope': 171857353, 'Kal Penn': 171097126, 'Miranda Hart': 170666219, 'Liam Aiken': 170075123, 'Julia Louis-Dreyfus': 169788712, 'Burt Reynolds': 169124244, 'Jason Flemyng': 168970245, 'Breckin Meyer': 168861122, 'Noah Ringer': 168502923, 'Jackson Rathbone': 168502923, 'Michael Irby': 168387299, 'Eric Winter': 167298907, 'Bree Turner': 167298907, 'Nick Searcy': 167298907, 'Zachary Gordon': 167230068, \"Chris O'Dowd\": 167219958, \"Lupita Nyong'o\": 167000000, 'Timothy Dalton': 166861033, 'Lymari Nadal': 166465037, 'Nick Offerman': 166432701, 'Ed Oxenbould': 166104211, 'Peter Berg': 165742693, 'Kate Beahan': 165379313, 'Gary Cole': 165091020, 'Dylan Minnette': 164824964, 'Scoot McNairy': 164787749, 'Tommy Flanagan': 164633781, 'Garry Marshall': 164432665, 'Don Knotts': 164432665, 'Shirley MacLaine': 163493053, 'James Corden': 162902372, 'Melissa Leo': 162700211, 'Peter Sallis': 162452832, 'Nicholas Smith': 162452832, 'Liz Smith': 162452832, 'Danielle Panabaker': 162198734, 'Anika Noni Rose': 162045765, 'Bruno Campos': 162045765, 'Michael-Leon Wooley': 162045765, 'Jennifer Cody': 162045765, 'Jimmy Bennett': 161360615, 'Nathanael Baring': 161000000, 'Mo Zinal': 161000000, 'Andrea Riseborough': 160623804, 'Mark Rolston': 160291162, 'Cody Horn': 160221571, 'Wesley Snipes': 160049430, 'Susie Essman': 159979994, 'Mark Walton': 159979994, 'Rachael Harris': 159971800, 'Anders Holm': 159564672, 'JoJo Kushner': 159564672, 'TomÃ¡s MiliÃ¡n': 159515725, 'Russell G. Jones': 159515725, 'Clea DuVall': 159485434, 'Giancarlo Esposito': 159419636, 'TchÃ©ky Karyo': 158940456, 'Tyler Hilton': 158438883, 'Werner Herzog': 158340595, 'Lauren Graham': 158217252, 'Chris Messina': 157725355, \"Keir O'Donnell\": 157293131, 'Shirley Knight': 157293131, 'Amara Miller': 157243185, 'Nick Krause': 157243185, 'Carmen Ejogo': 157208224, 'Raymond Ochoa': 156926147, 'Jack Bright': 156926147, 'Maleah Nipay-Padilla': 156926147, 'Kate Upton': 156781193, 'Don Johnson': 156781193, 'Aaron Yoo': 156557270, 'Amanda Bynes': 156381561, 'Isabel Lucas': 156147287, 'Joy Bryant': 156085164, 'Gena Rowlands': 156048576, 'Rhys Darby': 155990978, 'Sasha Alexander': 155990978, 'Fionnula Flanagan': 155990978, 'Kevin Spacey': 155936167, 'Corey Burton': 155916407, 'Tim Meadows': 155733810, 'Matthew Perry': 155425093, 'Sean Hayes': 155191803, 'David Hasselhoff': 155181299, 'Henry Winkler': 155181299, 'FranÃ§ois BerlÃ©and': 155076120, 'Scott Porter': 155030280, 'Robert Knepper': 154945302, 'Charles Dance': 154397822, 'Eric Balfour': 154392691, 'Elizabeth Perkins': 154328874, 'Jaime King': 154235108, 'Shawnee Smith': 153876815, 'Bahar Soomekh': 153876815, 'Dina Meyer': 153876815, 'Craig Bierko': 153802531, 'Donal Logue': 153761794, 'Frankie Muniz': 153462440, 'Joey Lauren Adams': 152999686, 'Edgar RamÃ\\xadrez': 152663213, 'Melanie Lynskey': 152094826, 'Kyla Pratt': 151866922, 'Sophie Okonedo': 151752523, 'Jake Abel': 150824410, 'Jennifer Love Hewitt': 150804534, 'Stephen Tobolowsky': 150804534, 'Evan Arnold': 150804534, 'Mae Whitman': 150708634, 'Matthew Macfadyen': 150422431, 'Jennifer Carpenter': 149427685, 'Ed Speleers': 149288105, 'Ryan Guzman': 148636392, 'Stephen Boss': 148636392, 'Olivia Thirlby': 148444968, 'Jessica Barth': 147863606, 'Noah Schnapp': 147233113, 'Bill Melendez': 147233113, 'Venus Schultheis': 147233113, 'Hadley Belle Miller': 147233113, 'Madisyn Shipman': 147233113, 'John Krasinski': 146501397, 'Bobby Campo': 146167139, 'Shantel VanSanten': 146167139, 'Nick Zano': 146167139, 'Haley Webb': 146167139, 'Krista Allen': 146167139, 'Michael Stahl-David': 145764026, 'Allison Miller': 145701451, 'Keegan Connor Tracy': 145622824, 'Art Parkinson': 145529201, 'Frank Grillo': 145489226, 'Elizabeth Mitchell': 144961310, 'Daniel Day-Lewis': 144954049, 'Vinnie Jones': 144692216, 'Tony Revolori': 144600318, 'Mariah Carey': 144570008, 'Jascha Washington': 143959438, 'Sarah Gadon': 143554798, 'Aksel Hennie': 143400000, 'Peter Stormare': 143331354, 'HÃ©ctor Elizondo': 143092196, 'Mr. T': 142988466, 'Ewen Bremner': 142414904, 'Daniel Tay': 141398518, 'Eddie Deezen': 140875730, 'Chris Coppola': 140875730, 'Nona Gaye': 140875730, 'Robert Hoffman': 140697756, 'Eric Christian Olsen': 140648749, 'Shuler Hensley': 140257475, 'Nina Dobrev': 140021271, 'Rene Russo': 139945860, 'Vivica A. Fox': 139535376, 'Romola Garai': 139464361, 'Angus Macfadyen': 139236460, '50 Cent': 138878201, 'Sean Connery': 138314968, 'Tom Holland': 138274123, 'Samuel Joslin': 138274123, 'Oaklee Pendergast': 138274123, 'Gong Li': 138207355, 'Kathryn Newton': 137817992, 'Matt Shively': 137817992, 'Brady Allen': 137817992, 'Billy Ray Cyrus': 137781822, 'Jerry Seinfeld': 137594577, 'Robin Tunney': 137269622, 'Rachel Bilson': 137231186, 'Olivia Munn': 137191626, 'Michael Rooker': 137000488, 'Georgina Cates': 136831537, 'Spike Jonze': 136831537, 'Kelly Hu': 136822738, 'Ashley Judd': 136268248, 'Sam Robards': 135926552, 'Treat Williams': 135000000, 'Griffin Gluck': 134918407, 'Andrew Howard': 134849455, 'Bette Midler': 134255996, 'Jackson Nicoll': 134248899, 'Odeya Rush': 134151271, 'Brooklyn Decker': 133725485, 'Wendie Malick': 133100209, 'Angie Harmon': 132821926, 'Jay Hernandez': 132730436, 'Bianca A. Santos': 132558413, 'Will Rothhaar': 132466756, 'Cory Hardrict': 132466756, 'Julie Bowen': 132276397, 'Kevin Chapman': 131822020, 'Burt Young': 131721132, 'Geraldine Hughes': 131721132, 'James Francis Kelly III': 131721132, 'Megan Charpentier': 131497771, 'Isabelle NÃ©lisse': 131497771, 'Daniel Kash': 131497771, 'Tony Shalhoub': 130854889, 'Max Baker': 130427240, 'Beverly Todd': 130372502, 'Rob Morrow': 130372502, 'Michael Kelly': 130000000, 'Anna Wood': 130000000, 'Rachel Melvin': 129837010, 'Brady Bluhm': 129837010, 'Stephen Rea': 129637924, 'Sarah Roemer': 129561523, 'Jason Patric': 129406761, 'Lyriq Bent': 129352633, 'Isaiah Washington': 129345243, 'Rick Malambri': 129291809, 'Joe Slaughter': 129291809, 'Sharni Vinson': 129291809, 'Alyson Stoner': 129291809, 'Paul RodrÃ\\xadguez': 129281606, 'Tika Sumpter': 128997819, 'DJ Qualls': 128859820, 'Deborah Kara Unger': 128803872, 'Christina Hendricks': 128785290, 'George W. Bush': 128653030, 'Greta Gerwig': 128515837, 'Robert Schwartzman': 128335153, 'Devon Aoki': 128219628, 'David Moscow': 128211698, 'Julianne Hough': 128075854, 'Matthew Davis': 128022778, 'Max Charles': 127912430, 'Ariel Winter': 127912430, 'Glenn Close': 127822215, 'Will Kemp': 127816700, 'Cassie Ventura': 127816700, 'Aasif Mandvi': 127687160, 'Emmanuelle Chriqui': 127646883, 'DMX': 127484917, 'Annie Parisse': 127371441, 'Ulrich Thomsen': 127355814, 'Sean Astin': 126912589, 'Shane West': 126394388, 'Danny McBride': 126124074, 'Michael Moore': 126089539, 'Madison Pettis': 125880543, 'Steve Valentine': 125233863, 'Sage Ryan': 125233863, 'Campbell Scott': 125216468, 'John Slattery': 124601117, 'Snoop Dogg': 124196388, 'Nick Swardson': 124143748, 'Katee Sackhoff': 124032396, 'Jim Parrack': 123963748, 'Izabella Scorupco': 123725841, 'Shiloh Fernandez': 123606624, 'Walton Goggins': 123582442, 'Stephen Dillane': 122937682, 'Busta Rhymes': 122911117, 'David Krumholtz': 122791973, 'Lucas Black': 122752999, 'Jeremy Piven': 122644578, 'Mario': 122365631, 'Gordon Liu Chia-Hui': 122159461, 'Scott Foley': 121834276, 'Tom Cavanagh': 121584141, 'Lusia Strus': 121482882, 'Allen Covert': 121269535, 'Peter Gallagher': 121269535, 'Bam Margera': 121061024, 'Steve-O': 121061024, 'Chris Pontius': 121061024, 'Powers Boothe': 120844268, 'Zach Gilford': 120622067, 'Natalie Imbruglia': 120583018, 'Tasha de Vasconcelos': 120583018, 'Ben Miller': 120583018, 'Alicia Vikander': 120546410, 'Emily Osment': 120545279, 'Jason Earles': 120545279, 'Gina Gershon': 120500408, 'Damon Wayans Jr.': 119621271, 'Jillian Bell': 119566811, 'Janet Jackson': 119565262, 'Sean Patrick Flanery': 118779755, 'Wes Bentley': 118743128, 'Bella Thorne': 118523244, 'Jean Dujardin': 118432856, 'BÃ©rÃ©nice Bejo': 118432856, 'Penelope Ann Miller': 118432856, 'John Carroll Lynch': 118271525, 'Sydney Pollack': 117927599, \"Frances O'Connor\": 117790499, 'Clifton Powell': 117721799, 'Amber Heard': 117613562, 'David Keith': 117419617, 'Kevin Nealon': 117314923, 'Doug Jones': 117306721, 'Alexander SkarsgÃ¥rd': 117231892, 'Siobhan Fallon': 117010817, 'Krysten Ritter': 116995982, 'Emilio Rivera': 116620422, 'Tyler Steelman': 116267476, 'Eli Wallach': 116204704, 'Michael Rapaport': 116179976, 'Fausto Callegarini': 116070171, 'Kerr Smith': 116037032, 'Milo Ventimiglia': 116016033, 'Michael J. Fox': 116010531, 'Jamie Lee Curtis': 115903649, 'Jeremy Irvine': 115894102, 'Bernard Hill': 115845187, 'Phil Collins': 115680000, 'Connor Funk': 115680000, 'Taran Killam': 115674180, 'David Oyelowo': 115490590, 'Nolan Gould': 115483765, 'Jimmi Simpson': 115368975, 'Russell Peters': 115332697, 'Michael Arden': 115332697, 'Roger Barclay': 115078586, 'Alexis Bledel': 114670926, 'Jaime Pressly': 114393013, 'Sayed Badreya': 114379533, 'ZoÃ« Kravitz': 113843127, 'Glenn Morshower': 113843127, 'Gerald McRaney': 113789176, 'Sarah Jane Morris': 113167691, 'Stevie Wonder': 113114517, 'Al Gore': 113114517, 'Guy Torry': 112792834, 'Michael Angarano': 112688396, 'Joan Plowright': 112675402, 'Robert Capron': 112117892, 'Curtis Armstrong': 112114212, 'Ana Gasteyer': 112042871, 'Donald Faison': 111886707, 'Octavia Spencer': 111843313, 'Jane Fonda': 111749918, 'Emma Bell': 110887643, \"Nicholas D'Agosto\": 110887643, 'Miles Fisher': 110887643, 'Ellen Wroe': 110887643, 'Jacqueline MacInnes Wood': 110887643, 'Om Puri': 110881231, 'Dax Shepard': 110833476, 'Sidney Johnston': 110730736, 'Alisa Khazanova': 110730736, 'Mary Stockley': 110730736, 'Matt Walsh': 110602194, 'Nathan Kress': 110602194, 'Alycia Debnam-Carey': 110602194, 'Gael GarcÃ\\xada Bernal': 110330182, 'Fred Williamson': 110268750, 'Izabella Miko': 110082120, 'Terry Crews': 109996757, 'John Michael Higgins': 109754382, 'John Mahoney': 109431584, 'Yousuf Azami': 109295601, 'Cary Elwes': 109186195, 'Ethan Hawke': 108729085, 'Jennifer Esposito': 108520364, 'Sylvia Syms': 108384128, 'Helen McCrory': 108384128, 'Michael Irvin': 108320568, 'Nelly': 108320568, 'Leonor Varela': 108018494, 'Eric Lloyd': 107855065, 'Jay Chou': 107817248, 'Edward Furlong': 107817248, 'David Morse': 107773916, 'Geoff Pierson': 107626285, 'Matt Bomer': 107613057, 'Kevin Nash': 107613057, 'Adam RodrÃ\\xadguez': 107613057, 'Kathryn McCormick': 107470746, 'Megan Boone': 107470746, 'Jessica Guadix': 107470746, 'Ryan Hurst': 106706683, 'Devon Bostick': 106529570, 'Jeffrey Dean Morgan': 106511841, 'Felicity Jones': 106201940, 'Kristen Wilson': 106104344, 'Raven-SymonÃ©': 106104344, 'Amy Schumer': 105795793, 'Colin Quinn': 105795793, 'Vanessa Bayer': 105795793, 'Dan Byrd': 105691622, 'Adriana Barraza': 105690463, 'Mare Winningham': 105448221, 'Chandler Canterbury': 105446362, 'Nadia Townsend': 105446362, 'Steven Brand': 105333180, 'Joely Richardson': 105294342, 'Jennifer Tilly': 105119910, 'Jean Heywood': 105000000, 'Jamie Draven': 105000000, 'Guillaume Canet': 104056873, 'Virginie Ledoyen': 104056873, 'Staffan Kihlbom': 104056873, 'Portia Doubleday': 104009702, 'Sarah Wayne Callies': 103887391, 'Robert Taylor': 103862963, 'Paulo Costanzo': 103754278, 'Betty Buckley': 103403799, 'Jerry Ferrara': 103333911, 'Tessa Thompson': 102935567, 'Phylicia RashÄd': 102935567, 'James Earl Jones': 102650785, 'Gary Lewis': 102610873, 'Brad Dourif': 102505019, 'Jenna Dewan': 102194847, 'Damaine Radcliff': 102194847, \"De'Shawn Washington\": 102194847, 'Sharon Small': 102000000, 'Anthony Stewart Head': 101956699, 'Susan Brown': 101956699, 'Martin Klebba': 101701446, 'Jennifer Hudson': 101561264, 'Dianna Agron': 101387055, 'Peta Wilson': 101265204, 'Raoul Bova': 101183863, 'Jared Padalecki': 101145172, 'Joe Viterelli': 101069860, 'Tyler Hoechlin': 101001478, 'Aidan Quinn': 100786397, 'Bruno Ganz': 100786397, 'Danny Trejo': 100584873, 'Jeff Goldblum': 100006051, 'Natasha Richardson': 99906693, 'Tyler Posey': 99906693, 'Kiele Sanchez': 99782847, 'ZoÃ« Borde': 99782847, 'Michael Madsen': 99564881, 'Brenda Blethyn': 99266061, 'Emma Roberts': 98819340, 'Alice Evans': 98611771, 'Tim McInnerny': 98611771, 'GÃ©rard Depardieu': 98611771, \"Jack O'Connell\": 98442937, 'Takamasa Ishihara': 98442937, 'Finn Wittrock': 98442937, 'Anna Camp': 98350426, 'Orlando Jones': 98347985, 'Emily Procter': 98259062, 'Mark Moses': 98259062, 'Toby Jones': 98143823, 'Ethan Suplee': 98087762, 'Max Irons': 97781935, 'Wood Harris': 97744425, 'Amy Irving': 97644820, 'Kimberly Elise': 97576878, 'Erica Leerhsen': 97571655, 'Tom Everett Scott': 97552487, 'Olivia Cooke': 97529779, 'Ana Coto': 97529779, 'Daren Kagasoff': 97529779, 'Skye McCole Bartusiak': 97212951, 'Lochlyn Munro': 97106228, 'Mary Kay Place': 96972703, \"Jerry O'Connell\": 96323886, 'Mike White': 96282949, 'Jennifer Beals': 96251594, 'James DeBello': 96220678, 'Gio Perez': 96000000, 'Joel Garland': 96000000, 'Rinko Kikuchi': 95860946, 'Adam Campbell': 95413990, 'Anthony Edwards': 95361550, 'Jonathan Breck': 95320455, 'Kim Dickens': 95213455, 'Bill Pullman': 95017254, 'Eliza Bennett': 94980196, 'Cobie Smulders': 94758246, 'Norman Reedus': 94748173, 'Tony Todd': 94728719, 'Callan McAuliffe': 94492830, 'Kate Mara': 94333179, 'Lin Shaye': 94303851, 'Leigh Whannell': 94303851, 'Angus Sampson': 94303851, 'Seamus Davey-Fitzpatrick': 94188334, 'Constantino Romero': 94000000, 'Sandra Oh': 93502303, 'Marylouise Burke': 93502303, 'Olivia DeJonge': 93450062, 'Benjamin Kanes': 93450062, 'Deanna Dunagan': 93450062, 'Mark Rylance': 93275222, 'Simon Woods': 93147947, 'Charlotte Le Bon': 93062763, 'Rodrigo Santoro': 92920243, 'Ryan Merriman': 92719158, 'Kris Lemche': 92719158, 'Alexz Johnson': 92719158, 'Sam Easton': 92719158, 'Shad Moss': 92647808, 'Nathaniel Parker': 92290266, 'Marsha Thomason': 92290266, 'Carice van Houten': 92240899, 'Violante Placido': 92217355, 'Fergus Riordan': 92217355, 'Johnny Whitworth': 92217355, 'Jason Alexander': 92006069, 'Julie Christie': 91766556, 'Stefanie Scott': 91637535, 'Oscar Isaac': 91210375, 'David Banner': 90922175, 'Michael Rainey Jr.': 90922175, 'LaJessie Smith': 90922175, 'Colin Salmon': 90773236, 'Austin Crim': 90466177, 'Joe Manganiello': 90121575, 'Tom Hollander': 90083746, 'Henry Thomas': 89977104, 'Joan Allen': 89965663, 'Harriet Owen': 89862682, 'Blayne Weaver': 89862682, 'Jeff Bennett': 89862682, 'Kath Soucie': 89862682, 'Scout Taylor-Compton': 89675375, 'Tyler Mane': 89675375, 'John Witherspoon': 89649284, 'Olivier Martinez': 89608313, 'AndrÃ© Benjamin': 89600790, 'Linda Emond': 89540499, 'Jonathan Tucker': 89479340, 'Eileen Atkins': 89466552, 'Connor Corum': 89332962, 'Jon Ted Wynne': 89332962, 'Jesse James': 89047131, 'Stuart Townsend': 88661183, 'Colin Stinton': 88505027, 'Thomas Jane': 88241666, 'Sophie Kennedy Clark': 88129872, 'Barbara Jefford': 88129872, 'Oliver Cooper': 88000000, 'Jonathan Daniel Brown': 88000000, 'Thomas Mann': 88000000, 'Dax Flame': 88000000, 'Kirby Bliss Blanton': 88000000, 'James Woods': 87975923, 'Adam Pascal': 87953569, 'Joe Anderson': 87234471, 'Jessica Simpson': 87172585, 'John Alderton': 86542059, 'Linda Bassett': 86542059, 'Annette Crosbie': 86542059, 'Kevin Smith': 86444019, 'Louis C.K.': 86153935, 'Jensen Ackles': 85734718, 'Betsy Rue': 85734718, 'Vinessa Shaw': 85694087, 'Martin Donovan': 85635176, 'Justin Bieber': 85441954, 'Usher Raymond': 85441954, 'Sean Kingston': 85441954, 'Sam Lerner': 85423247, 'Simon McBurney': 85308068, 'Frank Finlay': 85072577, 'Maureen Lipman': 85072577, 'Emilia Fox': 85072577, 'Jonny Lee Miller': 84980316, 'Robert Englund': 84908830, 'Ken Kirzinger': 84908830, 'Jason Ritter': 84908830, 'Monica Keena': 84908830, 'Jason Schwartzman': 84668958, 'Bryan Greenberg': 84663461, 'Steve Howey': 84663461, 'Leven Rambin': 84578751, 'Sophie Vavasseur': 84394835, 'Marin Ireland': 84281051, 'Mark Harmon': 84230332, 'Harold Gould': 84230332, 'Haley Hudson': 84230332, 'Jose Pablo Cantillo': 84000309, 'Bokeem Woodbine': 83920470, 'Christian Kane': 83564935, 'Alex Thomas': 83564935, 'Chad Michael Murray': 83516954, 'William Lee Scott': 83060858, 'Elden Henson': 83060858, 'Melora Walters': 83060858, 'Jesper Christensen': 82944923, 'Emily Browning': 82670772, 'Simon Chandler': 82180323, 'David Calder': 82180323, 'Richard Felix': 82180323, 'Birgit Minichmayr': 82180323, 'Columbus Short': 82019800, 'Analeigh Tipton': 81980662, 'Harold Perrineau': 81727951, 'Emjay Anthony': 81516642, 'June Squibb': 81489468, 'Christopher Evan Welch': 81408652, 'Richard Cabral': 81362372, 'Carlos Pratts': 81362372, 'Eddie J. Fernandez': 81362372, 'Jorge Diaz': 81362372, 'David Fernandez Jr.': 81362372, 'Chandra West': 81196419, 'Ian McNeice': 81196419, 'Brenton Thwaites': 81010702, 'Anna Friel': 80793267, 'Thomas Dekker': 80664037, 'Lou Taylor Pucci': 80542952, 'Elizabeth Blackmore': 80542952, 'Gerard Plunkett': 80455994, 'Jill Scott': 80257317, 'Malik Yoba': 80257317, 'Rudy Youngblood': 80175290, 'Dalia HernÃ¡ndez': 80175290, 'Jonathan Brewer': 80175290, 'Morris Birdyellowhead': 80175290, 'Raoul Max Trujillo': 80175290, 'Sally Field': 79914842, 'James Newman': 79914842, 'Sally Hawkins': 79505481, 'Natalya Rudakova': 78979549, 'David Atrakchi': 78979549, 'Rob Lowe': 78669509, 'Alice Parkinson': 78609310, 'Daniel Wyllie': 78609310, 'Allison Cratchley': 78609310, 'Fredro Starr': 78038276, 'Terry Kinney': 78038276, 'Jane Levy': 77960314, 'Noah Huntley': 77719885, 'Christopher Dunne': 77719885, 'Emma Hitching': 77719885, 'Lauren Hodges': 77669379, 'Sam Shepard': 77626441, 'Eduardo VerÃ¡stegui': 77597242, 'Daniella Alonso': 77597242, 'Kate Butler': 77587063, 'Youki Kudoh': 77242962, 'Tsai Chin': 77242962, 'Suzuka Ohgo': 77242962, 'Paul Whitehouse': 77195061, 'Ulrich Tukur': 77002758, 'Brian Geraghty': 76587386, 'Aaliyah': 76515870, 'Taryn Manning': 76229385, 'Mark Boone Junior': 76229069, 'Tatum Etheridge': 76156230, 'Frankie Faison': 76086475, 'Maitland Ward': 76086475, 'Penelope Wilton': 75911834, 'Charles S. Dutton': 75714293, 'Jessica Hecht': 75575636, 'Christopher Kovaleski': 75575636, 'Edi Gathegi': 75362093, 'Garry Shandling': 75019340, 'Billy Boyd': 74840755, 'Shohreh Aghdashloo': 74830111, 'Ebon Moss-Bachrach': 74830111, 'Nathan Gamble': 74828930, 'Natalie Martinez': 74412126, 'Jake Weber': 74356381, 'Matt Lanter': 74149909, 'Cara Delevingne': 73512300, 'Halston Sage': 73512300, 'Justice Smith': 73512300, 'Austin Abrams': 73512300, 'Brian Tee': 73468292, 'Nathalie Kelley': 73468292, 'Alex Fisher': 73391145, 'Peter Clayton-Luce': 73391145, 'Gemma Ward': 73391145, 'Skyler Gisondo': 73384188, 'Steele Stebbins': 73384188, 'Britt Robertson': 73213055, 'Collin Chou': 72906624, 'Andrew McCarthy': 72839667, 'Kerris Dorsey': 72654149, 'Amanda Righetti': 72379051, 'Travis Van Winkle': 72379051, 'Mary McCormack': 71994738, 'Shannyn Sossamon': 71930297, 'Ruth Wilson': 71649296, 'Emory Cohen': 71561749, 'Natasha Calis': 71446075, 'Madison Davenport': 71446075, 'Rob LaBelle': 71446075, 'Marianne Jean-Baptiste': 71155843, 'Catherine Sutherland': 71155843, 'Adam Garcia': 70990850, 'Kagiso Kuypers': 70877916, 'Alex Borstein': 70759963, 'Harry Lennix': 70731534, 'Kathy Baker': 70705082, 'Eugenio Derbez': 70673788, 'Brittany Daniel': 70108731, 'Colin Ford': 70081841, 'Maggie Elizabeth Jones': 70081841, 'Tadanobu Asano': 69987960, 'Minnie Driver': 69946163, 'Jasmine Jessica Anthony': 69679598, 'David Lyons': 69594140, 'Mike Pniewski': 69594140, 'Eric Mabius': 69441078, 'Ryan McCluskey': 69441078, 'Oscar Pearce': 69441078, 'Eartha Kitt': 69327687, 'Nestor Serrano': 69272766, 'Gonzalo Menendez': 69272766, 'Alexander Asefa': 69272766, 'Jonathan Bennett': 69181830, 'Erik Per Sullivan': 69137784, 'Zeljko Ivanek': 69137784, 'Tyra Banks': 68916474, 'QuvenzhanÃ© Wallis': 68821816, 'Chris J. Murray': 68099553, 'Brit Shaw': 68099553, 'Ivy George': 68099553, 'Lauren Frandsen': 68099553, 'Tyler Craig': 68099553, 'Frank Langella': 68081552, 'Tracey Ullman': 68072206, 'Geraldine Somerville': 67954044, 'Jamie Blackley': 67874843, 'Kevin Corrigan': 67805466, 'Jerry Stiller': 67766650, 'Maura Tierney': 67714830, 'David Zayas': 67485757, 'Kevin Sorbo': 67435831, 'AdriÃ¡n Alonso Barona': 67400065, 'Julio Oscar Mechoso': 67400065, 'Nick Chinlund': 67400065, 'Dallas Roberts': 67294551, 'Manish Dayal': 66880821, 'Rohan Chand': 66880821, 'Faune A. Chambers': 66865564, 'Dan Hedaya': 66313837, 'Anne Heche': 66244770, 'Daniel E. Smith': 66244770, 'Claudia Christian': 66053725, 'Aleisha Allen': 65918663, 'Philip Bolden': 65918663, 'Chris Sanders': 65771527, 'Daveigh Chase': 65771527, 'Tia Carrere': 65771527, 'Kevin McDonald': 65771527, 'Sofia Vassilieva': 65714875, 'Jon Bon Jovi': 65666415, \"Catherine O'Hara\": 65651031, 'Charlie Cox': 65560026, 'Daeg Faerch': 65253908, 'Mika Boorem': 65207021, 'Alexis Dziena': 65204978, 'Ryan Newman': 65175006, 'Mitchel Musso': 65175006, 'Spencer Locke': 65175006, 'Mos Def': 65143137, 'Rosanna Arquette': 65071651, 'Ben Chaplin': 64785590, 'Saul Rubinek': 64745083, 'Jenny Wade': 64601050, 'Teri Hatcher': 64596398, 'Jennifer Saunders': 64596398, 'Dawn French': 64596398, 'Stephen Merchant': 64462508, 'Ryan Sheckler': 64462508, 'A.J. Cook': 64426405, 'Michael Landes': 64426405, \"Bobb'e J. Thompson\": 64380927, 'Cheryl Hines': 64328518, 'Courtney Taylor Burness': 64146832, 'Shyann McClure': 64146832, 'Eve': 63781642, 'Romany Malco': 63268301, 'Matthew Marsden': 63244290, 'Reynaldo Gallegos': 63244290, 'Jake La Botz': 63244290, 'Michael Carman': 63076342, 'Mark Brady': 63076342, 'Ellen Pompeo': 63055349, 'Leah Remini': 63055349, 'Ricky Gervais': 62871655, 'John Cho': 62817243, 'Colleen Haskell': 62772742, 'John C. McGinley': 62772742, 'Ne-Yo': 62511123, 'Jermaine Williams': 62511123, 'Huntley Ritter': 62449929, 'Stephen Fry': 62448905, 'India Eisley': 62400000, 'Julianna Margulies': 62371898, 'Ric Young': 62366779, 'Don Curry': 62354163, 'Patrick Mofokeng': 62233971, 'Matt Stern': 62233971, 'RZA': 62045480, 'Joseph Morgan': 62011111, 'Jon Heder': 61852082, 'Ryan Dunn': 61778712, 'Oona Laurence': 61709827, 'Dianne Wiest': 61648754, 'Angela Bassett': 61634109, 'Mako': 61608995, 'Alfie Allen': 61558892, 'Derek Jacobi': 61340801, 'David McCullough': 61336445, 'J.J. Johnson': 61286096, 'Polly Adams': 61286096, 'Trish Gates': 61286096, 'Nancy McDoniel': 61286096, 'Opal Alladin': 61286096, 'Aamir Khan': 61000000, 'Kareena Kapoor': 61000000, 'Madhavan': 61000000, 'Sharman Joshi': 61000000, 'Boman Irani': 61000000, 'Eliza Dushku': 60934419, 'James Remar': 60875534, 'Lorna Raver': 60842646, 'Dileep Rao': 60842646, 'Jack Reynor': 60664106, 'Chris Riggi': 60547866, 'Jenn Proske': 60547866, 'Bradley Dodds': 60547866, 'Saxon Sharbino': 60437994, 'Kyle Catlett': 60437994, 'Kennedi Clements': 60437994, 'Mathieu Kassovitz': 60358911, 'Hanns Zischler': 60358911, 'Dennis Farina': 60332605, 'Marc Anthony': 60293714, 'Kristy Swanson': 60180723, 'Rumer Willis': 60149060, 'Emily Barclay': 60073390, 'Deborra-Lee Furness': 60073390, 'Ali Suliman': 59938656, 'Nathan Lane': 59773156, 'Joanna Gleason': 59728529, 'Lou Myers': 59728529, 'Dave England': 59282312, 'Steven R. McQueen': 59188165, 'Jessica Szohr': 59188165, 'Faith Ford': 59136880, \"Colin O'Donoghue\": 59047633, 'Robbie Amell': 58995889, 'Danneel Ackles': 58864220, 'Edward Herrmann': 58784054, 'Dean Winters': 58739897, 'Tim Blake Nelson': 58712074, 'Chris Marquette': 58525284, 'Kat Dennings': 58389385, 'Ashley Tisdale': 58378744, 'Erica Ash': 58378744, 'Brian Blessed': 58338361, 'Hal Holbrook': 58288697, 'Rob Brown': 58255132, 'Alexander Nathan Etel': 58071443, 'Priyanka Xi': 58071443, 'Jeffrey Donovan': 58020255, 'Keke Palmer': 58018837, \"Michael O'Keefe\": 57619210, \"Denis O'Hare\": 57515970, 'Donald Sumpter': 57466670, 'Marla Sokoloff': 57359791, 'Peter Outerbridge': 57233629, 'Chris Potter': 57006880, 'Edward Burns': 56830128, 'Scottie Thompson': 56821036, 'Affion Crockett': 56799880, 'Jorge Garcia': 56799880, 'Sarah Bolger': 56777537, 'Seth Meyers': 56702060, 'Jean Michel ParÃ©': 56702060, 'Steven Mackintosh': 56327197, 'Alexander Ludwig': 56303988, 'Luke Bracey': 56201043, 'Rosie Perez': 56057570, 'Debi Derryberry': 55936232, 'Megan Cavanagh': 55936232, 'Mark DeCarlo': 55936232, 'Lauren German': 55646590, 'Rachel Griffiths': 55597042, 'Beth Grant': 55597042, 'Angus T. Jones': 55597042, 'Michael Imperioli': 55572378, 'Ella Rae Peck': 55572378, 'Adam Levine': 55464861, 'Diana Scarwid': 55464351, 'Julie Benz': 55462984, 'Rupert Friend': 55264219, 'George McLaren': 55197635, 'Thierry Neuvic': 55197635, 'Cyndi Mayo Davis': 55197635, 'John Rhys-Davies': 55149435, 'Chadwick Boseman': 55020213, 'T.R. Knight': 55020213, 'Nicole Beharie': 55020213, 'Christopher Meloni': 55020213, 'George Takei': 55000000, 'Sean Maguire': 54646831, 'Diedrich Bader': 54646831, 'Aaron Stanford': 54623713, 'Kathleen Quinlan': 54623713, 'Tony Kgoroge': 54563971, 'Justin Chambers': 54422372, 'David Denman': 53978653, 'Beau Knapp': 53978653, 'Bonnie Perlman': 53830340, 'Gabourey Sidibe': 53647833, 'Lenny Kravitz': 53647833, 'Johnny Simmons': 53590521, 'Rosemarie DeWitt': 53576782, 'Tony Cox': 53488889, 'Brett Kelly': 53488889, 'Neal McDonough': 53381787, 'Khalid Abdalla': 53276047, 'Atossa Leoni': 53276047, 'Zekeria Ebrahimi': 53276047, 'Ahmad Khan Mahmoodzada': 53276047, 'Geoffrey Arend': 53222734, 'Kate Nauta': 53167639, 'Alessandro Gassman': 53167639, 'Arielle Kebbel': 53160357, 'Ninja': 53069268, 'Yolandi Visser': 53069268, 'Maude Apatow': 53058786, 'Kate Walsh': 52989091, 'Len Cariou': 52913171, 'Laura Fraser': 52487473, 'Pete Postlethwaite': 52471427, 'Lee Tergesen': 52378584, 'Annie Corley': 52378584, 'Jared Gilman': 52263166, 'Kara Hayward': 52263166, 'Alexandra Maria Lara': 52247624, 'Natalie Dormer': 52247624, 'Henry Simmons': 52240381, 'Michael Nyqvist': 52167945, 'Laurie Holden': 52021201, 'Clark Gregg': 51966987, 'Jim Sturgess': 51906097, 'Jason Mewes': 51781648, 'Charles Malik Whitfield': 51753202, 'Bruce Dern': 51653105, 'Mari Morrow': 51615414, 'Faizon Love': 51615414, 'Richard Gant': 51505343, 'Liana Liberato': 51413525, 'Will Sasso': 51258289, 'Dillon Freasier': 51181545, \"Kevin J. O'Connor\": 51181545, 'Jesse Bradford': 51143461, 'Emily Bett Rickards': 51076141, \"Eileen O'Higgins\": 51076141, 'Catherine McCormack': 51049560, 'Larry Bryggman': 51049560, 'Amber Tamblyn': 50889820, 'Nicky Whelan': 50843658, 'Sarah Burns': 50636986, 'Antony Starr': 50631118, 'Andrew Hampton': 50631118, 'Tatiana Maslany': 50619773, 'Chyler Leigh': 50468332, 'Mia Kirshner': 50468332, 'Gabriel Macht': 50466783, 'Beau Bridges': 50416905, 'Rose Leslie': 50396650, 'Ã“lafur Darri Ã“lafsson': 50396650, 'Victor Gojcaj': 50166126, 'Erin Daniels': 50052851, 'Sean Combs': 50029656, 'Geena Davis': 49956806, 'Anna Hoelck': 49956806, 'Kim Staunton': 49935764, 'Kazunari Ninomiya': 49673228, 'Tsuyoshi Ihara': 49673228, 'Ryo Kase': 49673228, 'Nakamura ShidÅ II': 49673228, 'Desmond Harrington': 49400459, 'Laurence Fox': 49237563, 'Gina Philips': 49217789, 'Patricia Belcher': 49217789, 'Eileen Brennan': 49217789, 'Margo Martindale': 49188937, 'Britney Spears': 49141030, 'Anson Mount': 49141030, 'Jodelle Ferland': 49139399, 'Jena Malone': 49047644, 'Matthew Fox': 49005853, 'Justin Pierce': 48827328, 'Sean Faris': 48656183, \"Joanna 'JoJo' Levesque\": 48535022, 'Tom Courtenay': 48520298, 'Sung Kang': 48420468, 'Kelly Preston': 48344274, 'Andie MacDowell': 48319678, 'Rutina Wesley': 48273173, 'Isaac Hempstead Wright': 48255770, 'Dee Bradley Baker': 48255770, 'Steve Blum': 48255770, 'Ana de la Reguera': 48197993, 'HÃ©ctor JimÃ©nez': 48197993, 'Darius Rose': 48197993, 'Christopher Lee': 48100000, 'Fernanda Dorogi': 48100000, 'Todd Louiso': 47956902, 'Kevin Heffernan': 47871470, 'Alison Lohman': 47691788, 'Dennis Hopper': 47670602, 'Ed Skrein': 47629670, 'Loan Chabanol': 47629670, 'Gabriella Wright': 47629670, 'Tatjana PajkoviÄ‡': 47629670, 'Rose Abdoo': 47600000, 'Dianne Reeves': 47600000, 'Christopher McDonald': 47381698, 'Hannah Ware': 47347656, 'Rolf Kanies': 47347656, 'Emily Deschanel': 47192859, 'Barry Watson': 47192859, 'Tory Mussett': 47192859, 'Tucker Albrizzi': 47139399, 'Spencer Garrett': 47039271, 'Kodi Smit-McPhee': 46920317, 'AndrÃ© Holland': 46787908, 'Omar J. Dorsey': 46787908, 'Boyd Holbrook': 46743244, \"Robert Ri'chard\": 46669806, 'Allison Tolman': 46548707, 'Charlie Rowe': 46546518, 'Angourie Rice': 46546518, 'Timothy Hutton': 46313132, 'David Paymer': 46211543, 'Pauline Collins': 46155126, 'Ray Wise': 46102666, 'Garikayi Mutambirwa': 46102666, 'Eric Nenninger': 46102666, 'Josh Hammond': 46102666, 'Emilie de Ravin': 46002706, 'Roma Downey': 45800064, 'Diogo Morgado': 45800064, 'Louise Delamere': 45800064, 'Darwin Shaw': 45800064, 'Amber Rose Revah': 45800064, 'Martha Higareda': 45569869, 'Peyton List': 45543353, 'Efren Ramirez': 45491618, 'Katharine McPhee': 45442940, 'Harris Yulin': 45357322, 'Michael Wincott': 45178561, 'Dina Spybey-Waters': 44854431, 'Ben Shenkman': 44854431, 'Romeo Miller': 44646763, 'Richmond Arquette': 44601681, 'Larry Miller': 44600326, 'David Duchovny': 44568607, 'SofÃ\\xada Vergara': 44507663, 'Heida Reed': 44389433, 'Ari Graynor': 44342221, 'Parker Posey': 44309766, 'Fernanda Romero': 44309766, 'MÃ\\xada Maestro': 44298474, 'Patricia Reyes SpÃ\\xadndola': 44298474, 'David Morrissey': 44286769, 'Samantha Mumba': 43729176, 'Phyllida Law': 43729176, 'Laura Kirk': 43729176, 'Matthias Schoenaerts': 43296239, 'James Ransone': 42882018, 'Tate Ellington': 42882018, 'Nicholas King': 42882018, 'Lucas Jade Zumann': 42882018, 'Anjelica Huston': 42636953, 'Daniel Studi': 42563539, 'Chopper Bernet': 42563539, 'Jeff LeBeau': 42563539, 'Tom Selleck': 42492941, \"Alex O'Loughlin\": 42477008, 'Kathryn Morris': 42422002, 'Paul Adelstein': 42383208, 'Fred Ward': 42353659, 'Jacinda Barrett': 42162929, 'Allie Mickelson': 42084830, 'Craig Archibald': 42084830, 'Bronwen Coleman': 42084830, 'Kate Shindle': 42084830, 'Derek Luke': 41623688, 'Monica Potter': 41603031, 'Jonathan Lipnicki': 41512794, 'Anita Briem': 41336122, 'Brian H. Dierker': 41255142, 'Russell Wong': 41231760, 'Misha Gabriel': 41165646, 'Ajay Naidu': 41019135, 'Dominic Purcell': 41006913, 'Robert Maillet': 40896829, 'Carlo Rota': 40896829, 'Kate del Castillo': 40630415, 'Olivia Williams': 40571863, 'Carly Nahon': 40427839, 'Eriq La Salle': 40223306, 'Michael Jai White': 40184721, 'Joseph Ruskin': 40103895, 'Alex Rocco': 40103895, 'Wayne Newton': 40103895, 'Sharon Leal': 40072596, 'Chris Mulkey': 40000000, 'Yul Vazquez': 40000000, 'Amanda Detmer': 39948955, 'Madeleine Stowe': 39660784, 'MoisÃ©s Arias': 39576986, 'Ian Richardson': 39558115, 'Kenny Wormald': 39543328, 'Max Ryan': 39437847, 'Kit Harington': 39313040, 'John Ales': 39307945, 'Asa Butterfield': 39223914, 'Jeffrey DeMunn': 39096190, 'Karen Gillan': 39030246, 'James Lafferty': 39030246, 'Rory Cochrane': 39030246, 'Judah Friedlander': 38703995, 'Rick Gonzalez': 38577491, 'Taye Diggs': 38575411, 'Adam Lamberg': 38534455, 'Hallie Todd': 38534455, 'Robert Carradine': 38534455, 'David Belle': 38480960, 'Sophia Bush': 38409614, 'Fann Wong': 38323487, 'Yanina Studilina': 38129518, 'Philippe Reinhardt': 38129518, 'Heiner Lauterbach': 38129518, 'Maria Smolnikova': 38129518, 'Carly Schroeder': 37800000, 'Nick Cannon': 37588485, 'Leonard Roberts': 37588485, 'GQ': 37588485, 'Whoopi Goldberg': 37498534, 'Cameron Boyce': 37436439, 'Erica Gluck': 37436439, 'Bianca Kajlich': 37212295, 'Elias Koteas': 37114594, 'Andre Braugher': 37106245, 'Benjamin Walker': 37085897, 'Bill Moseley': 37071490, 'Anna Paquin': 37049764, 'Josh Charles': 36643346, 'Jake T. Austin': 36600828, 'Hope Davis': 36536196, 'Kristen Connolly': 36486080, 'Anna Hutchison': 36486080, 'Fran Kranz': 36486080, 'Jesse Williams': 36486080, 'Sean McCann': 36445708, 'Noah Emmerich': 36180218, 'Lester Speight': 35673607, 'Addison Timlin': 35479076, 'Hrithik Roshan': 35396427, 'Abhishek Bachchan': 35396427, 'Uday Chopra': 35396427, 'Bipasha Basu': 35396427, 'Alex Jennings': 35387687, 'Frances de la Tour': 35387687, 'Gwen Taylor': 35387687, 'Tony Curran': 35255709, 'Perdita Weeks': 35100000, 'Ben Feldman': 35100000, 'Edwin Hodge': 35100000, 'FranÃ§ois Civil': 35100000, 'Marion Lambert': 35100000, 'Justin Chon': 35065672, 'Sarah Wright': 35065672, 'Jonathan Keltz': 35065672, 'Skyler Samuels': 35028634, 'Christie Lynn Smith': 34956140, 'Liza Lapira': 34823199, 'Corey Johnson': 34751909, 'Lea Michele': 34706665, 'ClÃ©mence PoÃ©sy': 34695458, 'Cher': 34519773, 'Christina Aguilera': 34519773, 'Max Lewis': 34469904, 'Tom Sizemore': 34453620, 'Sheri Moon Zombie': 34251012, 'Ellia English': 34192128, 'Lonny Ross': 34192128, 'Alex Veadov': 33926886, 'Xzibit': 33924217, 'Judith Scott': 33915888, 'Hal Williams': 33915888, 'Kevin Pollak': 33892332, 'Vicky Krieps': 33782078, 'Jeremy Strong': 33719388, 'Jeff Anderson': 33676537, \"Brian O'Halloran\": 33676537, 'Cynthia Stevenson': 33614809, 'Johanna Braddy': 33610009, 'Gil McKinney': 33610009, 'Emi Ikehata': 33610009, 'Jadie-Rose Hobson': 33610009, 'Beau Mirchoff': 33610009, 'Chris Brown': 33605172, 'Alice Eve': 33437479, 'Alexander Pollock': 33375151, 'Miriam Margolyes': 33375151, 'Dana Ivey': 33354918, 'Robert Klein': 33354918, 'Ron Eldard': 33349884, 'Rupert Evans': 33318987, 'Tim Matheson': 33275483, 'Simon Helberg': 33275483, 'Luca Calvani': 33145109, 'Daniel BrÃ¼hl': 32802632, 'Anna Maria Horsford': 32682270, 'David Costabile': 32616646, 'Paul Herman': 32462438, 'Cara Seymour': 32398025, 'Hakeem Kae-Kazim': 32333295, 'Enzo Cilenti': 32333295, 'Ashton Holmes': 32310791, 'Darrin Henson': 32304619, 'Adelaide Clemens': 32302796, 'Teo Halm': 32300000, 'Astro': 32300000, 'Resse Hartwig': 32300000, 'Ella Wahlestedt': 32300000, 'Jason Gray-Stanford': 32300000, 'Jeremy Sheffield': 32175038, 'Gaspard Ulliel': 32169884, 'Aaran Thomas': 32169884, 'Jimmy Fallon': 32061273, 'Redman': 31985079, 'Cary-Hiroyuki Tagawa': 31903274, 'Laura Johnson': 31891803, 'Gabriel Byrne': 31768205, 'Jack Conley': 31493123, 'Tom Arnold': 31489558, 'Laura Ramsey': 31486630, 'Claudia Karvan': 31416464, 'Rachel Blanchard': 31298967, 'David Ogden Stiers': 31089085, 'Alice Drummond': 30907234, 'Sarah Polley': 30903590, 'Russ Fega': 30723096, 'Jemima West': 30565421, 'Robert Sheehan': 30565421, 'Steve Whitmire': 30383113, 'Eric Jacobson': 30383113, 'Elizabeth Hurley': 30313393, 'Riz Ahmed': 30197217, 'Kevin Rahm': 30197217, 'Rhiana Griffith': 30187659, 'Lewis Fitz-Gerald': 30187659, 'Gary Sinise': 30161162, 'Steven Seagal': 29958599, 'Bill Duke': 29958599, 'Debra Jo Rupp': 29779728, 'Matt Schulze': 29475129, 'Sam Anderson': 29433975, 'Robert Belushi': 29433975, 'Catherine Kresge': 29433975, 'Jacob Tremblay': 29401758, 'Sean Bridgers': 29401758, 'Evan Rachel Wood': 29182795, 'Lorraine Nicholson': 29088990, 'Carrie Underwood': 29088990, 'Kenan Thompson': 29022014, 'Nathan Phillips': 29022014, 'Scott Eastwood': 29013281, 'Lolita Davidovich': 29013281, 'Melissa Benoist': 29013281, 'Johnathon Schaech': 28855419, 'Luis Tosar': 28794509, 'Paris Hilton': 28766121, 'Brian Van Holt': 28766121, 'Heidi Hayes': 28740827, 'Craig Robinson': 28572262, 'Sophie Monk': 28548426, 'Jake Lacy': 28472135, 'DeRay Davis': 28201432, 'Amanda Crew': 28122114, 'Kristen Schaal': 27991087, 'Nicholas Art': 27738099, 'Paula GarcÃ©s': 27730191, 'Pascale Hutton': 27483764, 'Natalia Klimas': 27280250, 'Samantha Mathis': 27266564, 'Dan Yeager': 27241945, 'Marilyn Burns': 27241945, 'Tania Raymonde': 27241945, 'BjÃ¶rk': 27231879, 'Joel Grey': 27231879, 'Alicia Keys': 27105395, 'Katija Pevec': 27028752, 'Dean Collins': 27028752, 'Joseph Fiennes': 26976270, 'Judy Davis': 26884340, 'Sanoe Lake': 26842679, 'Laura Harring': 26817444, 'Ashley Benson': 26724284, 'Rachel Korine': 26724284, \"Mo'Nique\": 26592335, 'Common': 26438988, 'Charlie Saxton': 26438988, 'Andy Dick': 26368909, 'Tim Bagley': 26368909, 'Ben Schwartz': 26181942, 'Mary-Kate Olsen': 26165571, 'Lisa Gay Hamilton': 26165571, 'Steve Harris': 26135745, 'Michelle Horn': 25944725, 'Frances Fisher': 25868991, 'Greg Germann': 25754228, 'Juan Carlos HernÃ¡ndez': 25583804, 'Bijou Phillips': 25419521, 'Richard Burgi': 25419521, 'Dylan Walsh': 25251371, 'Fred Dalton Thompson': 25251371, 'Adam David Thompson': 25181600, 'Tony Goldwyn': 25156284, 'Richard Dreyfuss': 25130093, 'Bob Hoskins': 25058809, 'Colin Egglesfield': 24901913, 'Ashley Williams': 24901913, 'Scott MacDonald': 24889998, 'Chris Diamantopoulos': 24819301, 'Brad Loree': 24664855, 'Minka Kelly': 24492759, 'Fred Melamed': 24430334, 'Sari Lennick': 24430334, 'Aaron Wolff': 24430334, 'Chase Wright Vanek': 24421467, 'Randy Quaid': 24234015, 'LL Cool J': 24192136, 'Jeremy Sumpter': 24085459, 'Josh Wiggins': 23967255, 'Mia Xitlali': 23967255, 'Tara Reid': 23718291, 'Robert Joy': 23656036, 'Bojana NovakoviÄ‡': 23583175, 'Logan Marshall-Green': 23583175, 'Monica Raymund': 23485056, 'Mircea Monroe': 23450437, 'Mamie Gummer': 23325328, 'Audra McDonald': 23325328, 'Bob Tracey': 23157539, 'Jesse Metcalfe': 23009669, 'Ashanti': 23009669, 'Dylan Moran': 23000000, 'Harish Patel': 23000000, 'Shu Qi': 22928932, 'Harland Williams': 22788254, 'Devon Sawa': 22716229, 'Hunter McCracken': 22674226, 'Finnegan Williams': 22674226, 'Julie Delpy': 22514562, 'Lennie James': 22439370, 'Til Schweiger': 22250126, 'Michael Kenneth Williams': 22101592, 'Richard Briers': 21975011, 'Sonoya Mizuno': 21869414, 'Michelle Trachtenberg': 21819570, 'Roy Scheider': 21700105, 'Evan Peters': 21627431, 'Louis Gossett, Jr.': 21609243, 'Tasha Smith': 21609243, 'Tracee Ellis Ross': 21609243, 'Isabelle Fuhrman': 21596251, 'CCH Pounder': 21596251, 'James Gandolfini': 21306983, 'Moran Atias': 21148651, 'Izabela Vidovic': 21058898, \"Mike O'Brien\": 21010817, 'Callum Blue': 20965854, 'Shannon Woodward': 20726956, 'Rachael Markarian': 20726956, 'Mia Moretti': 20726956, 'Ryan Robbins': 20562924, 'Warren Christie': 20562924, 'Lloyd Owen': 20562924, 'Andrew Airlie': 20562924, 'Michael Kopsa': 20562924, 'Jenna Fischer': 20502667, 'Rain': 20462347, 'Randall Duk Kim': 20462347, 'Jason Spevack': 20451307, 'Jack Kehler': 20451307, 'Maureen Keiller': 20451307, 'Pink': 20406466, 'E.G. Daily': 20406466, 'Ezra Miller': 20400000, 'Debra Winger': 20277485, 'Mimi Rogers': 20267515, 'Jonny Weston': 20248241, 'Virginia Gardner': 20248241, \"Sofia Black-D'Elia\": 20248241, 'Allen Evangelista': 20248241, 'Samaire Armstrong': 20150434, 'Hill Harper': 20007180, 'Barkhad Abdi': 19848185, 'Frank Welker': 19834815, 'Shane Baumel': 19834815, 'Timyra-Joi Beatty': 19834815, 'Elisha Cuthbert': 19804104, 'Jim Beaver': 19679822, 'Taylor Dooley': 19425966, 'Cayden Boyd': 19425966, 'Brit Marling': 19386566, 'Marley Shelton': 19372610, 'Laurie Metcalf': 19332978, 'Nicole Sullivan': 19332978, 'Adrian Grenier': 19263404, 'Kevin Connolly': 19263404, 'Kevin Dillon': 19263404, 'Gugu Mbatha-Raw': 19229032, 'Vanessa Williams': 19179516, 'Steve Harvey': 19179516, 'Shari Headley': 19179516, 'Method Man': 19155435, 'Obba BabatundÃ©': 19155435, 'Alexa Davalos': 19155219, 'Allan Corduner': 19155219, 'Edison Chen': 19143839, 'Raffey Cassidy': 19035668, 'Thomas Robinson': 19035668, 'Trey Parker': 18907422, 'Matt Stone': 18907422, 'Kristen Miller': 18907422, 'Masasa Moyo': 18907422, 'Daran Norris': 18907422, 'Hanyu Zhang': 18786960, 'Ren Quan': 18786960, 'Wang Baoqiang': 18786960, 'Deng Chao': 18786960, 'Yuan Wenkang': 18786960, 'Demi Moore': 18659991, 'Cicely Tyson': 18645546, 'Eva Marie Saint': 18645546, 'Dave Matthews': 18645546, 'Ted Levine': 18376292, 'Paul Hogan': 18288674, 'Linda Kozlowski': 18288674, 'Jere Burns': 18288674, 'Jonathan Banks': 18288674, 'Alec Wilson': 18288674, 'Dean Cain': 18284563, 'Marin Hinkle': 18270895, 'Deirdre Blades': 18133014, 'Jennifer Schwalbach Smith': 18105111, 'Gerry Bednob': 18105111, 'Jon Foster': 18105095, 'Wendell Pierce': 18105095, 'Mackenzie Davis': 18049082, 'Ritchie Coster': 17920346, 'Cameron Bright': 17907996, 'Michiel Huisman': 17629776, 'Willie Nelson': 17612226, 'Chace Crawford': 17597471, 'Bill Smitrovich': 17556119, 'Amila Terzimehic': 17556119, 'Jemaine Clement': 17387857, 'Roger Ashton-Griffiths': 17316267, 'Lucas Till': 17236543, 'Iben Hjejle': 17126295, 'Lisa Bonet': 17126295, 'Jesse Spencer': 17095657, 'Rashida Jones': 17085371, 'Noah Segan': 17042000, 'Thekla Reuten': 17002538, 'Dan Futterman': 16730058, 'Michael Mosley': 16680201, 'Richard T. Jones': 16680201, 'Diora Baird': 16620508, 'Eddie Griffin': 16604473, 'Denise Richards': 16604473, 'Cozi Zuehlsdorff': 16424533, 'Scott G. Anderson': 16300645, 'Frank Whaley': 16300645, 'S. Epatha Merkerson': 16181331, 'Kevin Zegers': 16007618, 'Hannah Spearritt': 15648639, 'Johnny Messner': 15632458, 'John Ashton': 15619699, 'Eva Longoria': 15543192, 'Bill Clinton': 15538513, 'Hillary Clinton': 15538513, 'Dennis Haysbert': 15527914, 'Leighton Meester': 15505320, 'Adam Herschman': 15505009, 'John Lone': 15452643, 'Zachary Knighton': 15399945, 'Kyle Davis': 15399945, 'Thomas Horn': 15247881, \"Ser'Darius Blain\": 15127963, 'Peter Fonda': 15016220, 'Leah Pipes': 14706120, 'Teri Andrzejewski': 14706120, 'Jean-Marie Lamour': 14641323, 'Marc Fayolle': 14641323, 'Julanne Chidi Hill': 14560577, 'Glenne Headly': 14331068, 'Alison Pill': 14331068, 'Catherine Deneuve': 14285694, 'Elise Neal': 14201636, 'Sarah Wynter': 14085477, 'Gabriella Wilde': 14077920, 'Rhys Wakefield': 14077920, 'Emma Rigby': 14077920, 'Jenna Boyd': 14053061, 'Roger Bart': 13952748, 'Billy Campbell': 13801187, 'Tessa Allen': 13801187, 'Armin Mueller-Stahl': 13773747, 'Sarah Paulson': 13770342, 'Alicia Witt': 13685763, 'Will Yun Lee': 13681566, 'Ethan Embry': 13667806, 'Jessica Bowman': 13642838, 'Stuart Stone': 13642838, 'Bitsie Tulloch': 13623572, 'Matthew Willig': 13623572, 'Katarina Cas': 13560274, 'Ann Dowd': 13424826, 'Hugh Dancy': 13383537, 'Omar Gooding': 13381649, 'Dennis Miller': 13287695, 'Chris Penn': 12978402, 'Aimee Garcia': 12886719, 'Carter Jenkins': 12881056, 'Austin Butler': 12881056, 'Doris Roberts': 12881056, 'Fana Mokoena': 12830000, 'Robin Thomas': 12793283, 'French Stewart': 12793283, 'Shane Harper': 12789000, 'David A.R. White': 12789000, 'Cassidy Gifford': 12789000, 'Christopher Guest': 12750246, 'Dean Norris': 12689727, 'Lyndon Smith': 12689727, \"Carroll O'Connor\": 12609995, 'Robert Loggia': 12609995, 'Gillian Jacobs': 12571189, 'Bill Burr': 12571189, 'Kristen Cloke': 12510851, 'Lacey Chabert': 12510851, 'Shannon Elizabeth': 12430766, 'Jake Busey': 12430766, 'Bernie Casey': 12430766, 'Richard Portnow': 12295611, 'Gary Dourdan': 12295611, 'Joseph Gilgun': 12204030, 'Tamala Jones': 12197398, 'Paul Rae': 12197398, 'Martin Short': 12069183, 'Peter Coyote': 12065979, 'Kristin Chenoweth': 12005248, 'Alan Dale': 11993168, 'Norah Jones': 11786738, 'Cat Power': 11786738, 'Gisele BÃ¼ndchen': 11609966, 'Tye Sheridan': 11587700, 'Jacob Lofland': 11587700, 'Carmen Chaplin': 11482931, 'L. Scott Caldwell': 11480851, 'Leon Rippy': 11480851, 'Kevin Dunn': 11480851, 'Rachel Hurd-Wood': 11479947, 'Liam Cunningham': 11404810, 'Alicia Silverstone': 11351350, 'Tom Berenger': 11292535, 'Joshua Jackson': 11116000, 'Mini Anden': 11070807, 'Musetta Vander': 11070433, 'Jake McDorman': 11006849, 'J.R. Villarreal': 10948425, 'Collette Wolfe': 10939027, 'Malcolm David Kelley': 10867586, 'Cory Hodges': 10867586, 'Christina Cox': 10772733, 'Jenna Stern': 10664721, 'Whitney Houston': 10637469, 'Cee Lo Green': 10637469, 'Clark Duke': 10616539, 'Marguerite Moreau': 10479110, 'Vincent PÃ©rez': 10479110, 'Paul McGann': 10479110, 'Gina Carano': 10372606, 'Chris Sarandon': 10346186, 'James Hong': 10346186, 'Catherine Chan': 10346186, 'Robert John Burke': 10346186, 'Lennie Loftin': 10342161, 'Ben Garant': 10342161, 'Mary Birdsong': 10342161, 'Jamie Campbell Bower': 10209529, 'Ashley Bell': 10179302, 'Julia Garner': 10179302, 'Andrew Sensenig': 10179302, 'Judd Lormand': 10179302, \"BrÃ\\xadan F. O'Byrne\": 10161391, 'Missi Pyle': 10159905, 'Makenzie Vega': 10159905, 'Denzel Whitaker': 10056101, 'Max Records': 9942188, 'J.B. Smoove': 9942188, 'Sid Haig': 9829545, 'Karen Black': 9829545, 'Aly Michalka': 9703747, 'Deborah Rush': 8856124, 'Anthony Ruivivar': 8852638, 'Margaret Avery': 8650785, 'Jamel Debbouze': 8463701, 'Samy Naceri': 8463701, 'Roschdy Zem': 8463701, 'Sami Bouajila': 8463701, 'Bernard Blancan': 8463701, 'Larenz Tate': 8350926, 'Geno Silva': 8350926, 'Jacqueline Obradors': 8350926, 'Tabu': 8138836, 'Sahira Nair': 8138836, 'Zuleikha Robinson': 8103450, 'Omar Sharif': 8103450, 'Adam Alexi-Malle': 8103450, 'Louise Lombard': 8103450, 'Douglas Booth': 7987720, 'David Tennant': 7922237, 'David Hayman': 7916563, 'Chris Warren, Jr.': 7728118, 'Damian Lewis': 7715436, 'Martin Starr': 7664377, 'Ron Glass': 7640028, 'JoBeth Williams': 7500000, 'Olympia Dukakis': 7500000, 'Maggie Siff': 7465299, 'Ashley Hinshaw': 7365435, 'James Buckley': 7365435, 'Christa Nicola': 7365435, 'Amir K': 7365435, 'Jonathan Frakes': 7312826, 'LeVar Burton': 7312826, 'Brent Spiner': 7312826, 'Gates McFadden': 7312826, 'Portia Dawson': 7297244, 'Anne Bancroft': 7036004, 'Aleksa Palladino': 7005257, \"John D'Leo\": 6894225, 'Donnie Wahlberg': 6888965, 'Jonathan Cherry': 6818181, 'Tyron Leitso': 6818181, 'Clint Howard': 6818181, 'Ona Grauer': 6818181, 'Michael Eklund': 6818181, 'Naveen Andrews': 6766271, 'Charles Edwards': 6766271, 'Douglas Hodge': 6766271, 'Agnes Bruckner': 6714147, 'Busy Philipps': 6551495, 'Monet Mazur': 6546197, 'Wallace Wolodarsky': 6471023, 'Omar Benson Miller': 6442528, 'Hayley Magnus': 6410000, 'Scott Bakula': 6024826, 'Dylan Brown': 5871113, 'Christina Milian': 5864194, 'Sylvia Hoeks': 5755873, 'Maximilian Dirr': 5755873, 'Geraldine James': 5735397, 'Bob Odenkirk': 5654912, 'Marshall Chapman': 5529194, 'John Billingsley': 5495563, 'Sarah Drew': 5429707, 'Patricia Heaton': 5429707, 'Logan White': 5429707, 'Robert Amaya ': 5429707, 'Jack Thompson': 5395488, 'Peter Falk': 5377030, 'Drea de Matteo': 5294470, 'Alex D. Linz': 5292381, 'Nora Dunn': 5292381, 'Ryan Phillippe': 5256147, 'Emily Ratajkowski': 5122090, 'Nick Rotteveel': 5122090, 'Alessandro Lindblad': 5122090, 'Ann Miller': 5117339, 'Zoie Palmer': 5114487, 'Barbara Flynn': 5078241, 'Bill Paterson': 5078241, 'Justine Waddell': 5000337, 'Kane Hodder': 5000000, 'Lexa Doig': 5000000, 'Chuck Campbell': 5000000, 'Lisa Ryder': 5000000, 'David Cronenberg': 5000000, 'Myleene Klass': 5000000, 'Robin Walsh': 5000000, 'Matt McKenna': 5000000, 'Ann Harada': 5000000, 'Ben Levin': 5000000, 'Dan Levy': 5000000, 'Dominique McElligott': 4760104, 'Rosie Shaw': 4760104, 'Adrienne Shaw': 4760104, 'Lily Tomlin': 4700000, 'Andy Lau': 4662874, 'Nicholas Tse': 4662874, 'Fan Bingbing': 4662874, 'Wu Jing': 4662874, 'Angela Kinsey': 4340177, 'Danila Kozlovskiy': 4333790, 'Andrei Dementiev': 4333790, 'Michael MacKenzie': 4309223, 'Matt Cross': 4261569, 'Danny Sapani': 4261569, 'Ken Medlock': 4252847, 'Aman Johal': 4252847, 'Israel Broussard': 4145732, 'Taissa Farmiga': 4145732, 'Katie Chang': 4145732, 'Claire Julien': 4145732, 'Sasha Barrese': 4145613, 'John Broadwater': 4040871, 'James Cameron': 4040871, 'Mike Cameron': 4040871, 'Ken Marschall': 4040871, 'Bruce Davison': 3929123, 'Herman Osorio': 3929123, 'Miguel Castro': 3929123, 'Lea Thompson': 3682924, 'SinÃ©ad Cusack': 3612356, 'Meg Ryan': 3537909, 'Matt Bush': 3493728, 'Katrina Bowden': 3493728, 'Jean-Luc Bilodeau': 3493728, 'Alexis Georgoulis': 3455276, 'Alistair McGowan': 3455276, 'Michael Zegen': 3333531, 'James Rebhorn': 3333531, 'Caroline Goodall': 3273583, 'Dr. Dre': 3229331, 'DJ Pooh': 3229331, 'Angell Conwell': 3229331, 'Bruce Bruce': 3229331, 'Aitana SÃ¡nchez-GijÃ³n': 3203235, 'John Sharian': 3203235, 'Michael Ironside': 3203235, 'Dan Stevens': 3103769, 'Marlon Brando': 3069884, 'Paul Soles': 3069884, 'Lee Oakes': 3029747, 'Rutger Hauer': 3013805, 'Michael Biehn': 2992388, 'Skeet Ulrich': 2942221, 'Amaury Nolasco': 2942221, 'Eleanor Tomlinson': 2687603, 'Jonathan Jackson': 2685016, 'Elvis Polanski': 2603069, 'Ellen Burstyn': 2341130, 'Saffron Burrows': 2222308, 'Ryan Kwanten': 2217407, 'Bob Gunton': 2217407, 'Laura Regan': 2217407, 'Gina Torres': 2196245, 'Brooke Smith': 2188922, 'Kelly Carlson': 2165608, 'Abigail Bianca': 2165608, 'Anthony Ray Parker': 2165608, 'Aimee Teegarden': 2130000, 'Thomas McDonell': 2130000, 'Nicholas Braun': 2130000, 'Danielle Campbell': 2130000, 'MÃ©lanie Thierry': 2108608, \"Kerry O'Malley\": 2000000, 'Josh Peck': 1841858, 'Ludivine Sagnier': 1269536, 'Mena Suvari': 682118, 'Flaminia Cinque': 536623, 'Zena Grey': 122338, 'Dylan Baker': -254693, 'Michael Pitt': -346981, 'Rachelle Lefevre': -486801, 'John Cena': -554066, 'Clifton Collins, Jr.': -626216, 'Callum Keith Rennie': -1189887, 'Yvonne Strahovski': -2068302, 'Eamonn Walker': -2239647, 'Brennan Brown': -2347965, \"Peter O'Toole\": -2377154, 'RubÃ©n Blades': -2377154, 'Glenn Howerton': -2385227, 'Christopher Jordan Wallace': -2385227, 'Kuno Becker': -2389127, 'Charles Grodin': -2412515, 'Cyril Raffaelli': -2415869, \"Tony D'Amario\": -2415869, 'Dany Verissimo-Petit': -2415869, 'Bibi Naceri': -2415869, 'Sarah Snook': -2500000, 'Christopher Kirby': -2500000, 'Madeleine West': -2500000, 'Shahkrit Yamnarm': -2512610, 'Charlie Yeung': -2512610, 'Panward Hemmanee': -2512610, 'Nirattisai Kaljaruek': -2512610, 'Jason Dohring': -2514873, 'Enrico Colantoni': -2514873, 'Chris Lowell': -2514873, 'Percy Daggs III': -2514873, 'Joseph Cross': -2516590, 'Mary Beth Hurt': -2516590, 'Dylan McDermott': -2533556, 'William Black': -2563491, 'Elijah Cummings': -2563491, 'Baron Hill': -2563491, 'James Brolin': -2567837, 'Cory Monteith': -2575000, 'Victoria Justice': -2582638, 'Chelsea Handler': -2582638, 'Josh Pence': -2582638, 'Maika Monroe': -2632839, 'Sheila Kelley': -2632839, 'Aubrey Peeples': -2666316, 'Aurora Perrineau': -2666316, 'Hayley Kiyoko': -2666316, 'Barnaby Carpenter': -2666316, 'Michael T. Weiss': -2683342, 'Katharine Isabelle': -2683342, 'Omar Metwally': -2751330, 'Moa Khouas': -2751330, 'Zineb Oukach': -2751330, 'Marshall Bell': -2822857, 'Toby Huss': -2822857, 'Pat Healy': -2822857, 'Matt Long': -2879925, 'Jeremy Howard': -2879925, 'Danny Strong': -2879925, 'Benjamin Hollingsworth': -2977272, 'Lauren Hutton': -2977272, 'Andy Davoli': -3000000, \"Peter O'Brien\": -3007986, 'Mitch Baker': -3019004, 'Jordan Garrett': -3025541, 'Debbie Reynolds': -3106279, 'Sherri Shepherd': -3106279, 'Patrick Fischler': -3106279, 'VerÃ³nica Echegui': -3136417, 'Rafe Spall': -3153000, 'Megan Park': -3153000, 'Margarita Levieva': -3189887, 'Mark Addy': -3241743, 'Daniel Baldwin': -3394237, 'Madeline Carroll': -3400000, 'Caity Lotz': -3450523, 'Jay Chandrasekhar': -3498345, 'Paul Soter': -3498345, 'Erik Stolhanske': -3498345, 'Tanja Reichert': -3498345, 'Mark Duplass': -3565222, 'Shalom Harlow': -3575530, 'Ivana MiliÄeviÄ‡': -3575530, 'Sarah Murdoch': -3575530, 'Aidan McArdle': -3611233, 'Avery Brooks': -3640020, 'Jesse Plemons': -3741940, 'Jack McElhone': -3900000, 'Dania Ramirez': -3916401, 'WolÃ© Parks': -3916401, 'Walter Matthau': -3962091, 'Adam Arkin': -3962091, 'Ben Daniels': -4012679, 'Deobia Oparei': -4012679, 'Kerry Fox': -4059945, 'Edie Martin': -4059945, 'John Cothran, Jr.': -4096154, 'Scott Mechlowicz': -4203153, 'Jacob Pitts': -4203153, 'Travis Wester': -4203153, 'Chi Cao': -4280549, 'Chengwu Guo': -4280549, 'Wen Bin Huang': -4280549, 'Joan Chen': -4280549, 'Eugene Hutz': -4302070, 'Boris Leskin': -4302070, 'Jana Hrabetova': -4302070, 'Jonathan Safran Foer': -4302070, 'Jenna Elfman': -4449152, 'Rupert Everett': -4546957, 'Felicity Huffman': -4639719, 'Lee Asquith-Coe': -4880844, 'Augustus Prew': -4929670, 'Rita Wilson': -4937934, 'Ron Leibman': -4937934, 'Akshay Kumar': -5000000, 'Neha Dhupia': -5000000, 'Aditya Roy Kapoor': -5000000, 'Randhir Kapoor': -5000000, 'Shawn Roberts': -5098661, 'John Magaro': -5170043, 'Nick Lashaway': -5170043, 'Chazz Palminteri': -5500000, 'Rae Dawn Chong': -5582420, 'Michael Michele': -5762530, 'Loren Dean': -5767020, 'John Pyper-Ferguson': -5767020, 'Andrew Scott': -5772702, 'Leelee Sobieski': -5806669, 'Patricia VelÃ¡squez': -5851171, 'Kristin Scott Thomas': -5895284, 'Sean Pertwee': -5966835, 'G. W. Bailey': -6048539, 'Teddy Geiger': -6237110, 'Billie Whitelaw': -6439124, 'R. H. Thomson': -6540542, 'Gregory Itzin': -6597680, 'Allison Mackie': -6597680, 'Francesca Neri': -6617567, 'Blake Woodruff': -6714803, 'Julian Christopher': -6714803, 'Bruce Campbell': -6888686, 'Joanna Lumley': -6964239, 'Damon Herriman': -6979977, 'Riley Keough': -7004189, 'Stella Maeve': -7004189, 'Kelsey Grammer': -7040020, 'Brady Corbet': -7061128, 'Devon Gearhart': -7061128, 'Kelly Clarkson': -7077834, 'Justin Guarini ': -7077834, 'Brandon Henschel': -7077834, 'Greg Siff': -7077834, 'Brian Dietzen': -7077834, 'Mary-Louise Parker': -7110296, 'Brooke Shields': -7126596, 'Tim Daly': -7207439, 'Jeremy Sisto': -7249425, 'Zaid Farid': -7258268, 'Bruce Altman': -7258702, 'Andrew Ginsburg': -7258702, 'Nikki Reed': -7360655, 'Lydia Hull': -7360655, 'Troy Garity': -7368097, 'William Converse-Roberts': -7368097, 'Julianna Guill': -7372508, 'Luke Pasqualino': -7372508, 'Paul Freeman': -7498062, 'Gemmenne de la PeÃ±a': -7517225, 'Claire Forlani': -7539628, 'Laura Prepon': -7586085, 'Jon Seda': -7601372, 'Daniela Ruah': -7634623, 'Chris Massoglia': -7639625, 'Riaad Moosa': -7670000, 'Joe Morton': -7677600, 'Ron Rifkin': -7677600, 'Susanna Thompson': -7677600, 'Kelly Lynch': -7873775, 'KryÅ¡tof HÃ¡dek': -7919749, 'Paul Brannigan': -7919749, 'Michael Moreland': -7919749, 'Scott Dymond': -7919749, 'Elyes Gabel': -7992930, 'Ian Somerhalder': -8092315, 'Sherry Miller': -8114566, 'Sharon Osbourne': -8114566, 'Dondre Whitfield': -8199698, 'Ashley Scott': -8285235, 'Anthony Rapp': -8329380, 'Jesse L. Martin': -8329380, 'Wilson Jermaine Heredia': -8329380, 'Richard E. Grant': -8444012, 'Jim Carter': -8444012, 'Pamela Gidley': -8444012, 'Kyle Gass': -8594405, 'Ronnie James Dio': -8594405, 'Meat Loaf': -8594405, 'Stephen Spinella': -8658984, 'Alec Mapa': -8658984, 'Liam McIntyre': -8720548, 'Gaia Weiss': -8720548, 'Scott Adkins': -8720548, 'Roxanne McKee': -8720548, 'Sam Jaeger': -8841513, 'Katherine Waterston': -8889025, 'Eduardo Noriega': -9073590, 'Drake Bell': -9128166, 'Leslie Nielsen': -9128166, 'Christopher Lambert': -9156392, 'Adrian Paul': -9156392, 'Donnie Yen': -9156392, 'Lisa Barbuscia': -9156392, 'Michael C. Hall': -9171460, 'Jason London': -9217324, 'Lee Majors': -9217324, 'Willie Garson': -9217324, 'Gordon Pinsent': -9269982, 'Liane Balaban': -9269982, 'Mark Critch': -9269982, 'Nonso Anozie': -9450893, 'Gemma Chan': -9450893, 'Frank C. Turner': -9557192, 'Matthew Walker': -9557192, 'Josh Flitter': -9568823, 'Peter Firth': -9568823, 'Dejan Angelov': -9651751, 'DragoÈ™ Bucur': -9651751, 'Caroline Chikezie': -9695999, 'Kelan Pannell': -9713701, 'Janette Scott': -9713701, 'Elle Peterson': -9775758, 'Thomas Curtis': -9775758, 'Susan Ward': -9782502, 'Lori Heuring': -9782502, 'Matthew Settle': -9782502, 'Nathan Bexton': -9782502, 'Tess Harper': -9782502, 'Maury Chaykin': -9800895, 'Anne Archer': -9800895, 'Nash Edgerton': -9954577, 'Anthony Hayes': -9954577, 'Mackenzie Gray': -10027033, 'James Hetfield': -10027033, 'Lars Ulrich': -10027033, 'Kirk Hammett': -10027033, 'Karyn Parsons': -10300000, 'Billy Dee Williams': -10300000, 'Jill Talley': -10300000, 'Taylor Schilling': -10372625, 'Paul Johansson': -10372625, 'Grant Bowler': -10372625, 'Jodie Whittaker': -10385849, 'John Boyega': -10385849, 'Luke Treadaway': -10385849, 'Doug Hutchison': -10410627, 'Jacob Latimore': -10481811, 'Caitlin Stasey': -10495064, 'Phoebe Tonkin': -10495064, 'Deniz Akdeniz': -10495064, 'Lincoln Lewis': -10495064, 'Pam Grier': -10512135, \"David O'Hara\": -10788574, 'Lauren Ambrose': -10840066, 'Vanessa Lachey': -10890716, 'Nicole Ari Parker': -10890716, 'Crista Flanagan': -10890716, \"Gary 'G. Thang' Johnson\": -10890716, 'Brian J. White': -10919372, 'Jolie Vanier': -11027492, 'Gabriel Mann': -11044402, 'Tia Texada': -11137288, \"Ed O'Neill\": -11137288, 'Jay Mohr': -11269953, 'Aishwarya Rai Bachchan': -11300535, 'Becca Gardner': -11381716, 'Maurice Godin': -11413624, 'Heather Locklear': -11485156, 'Rebecca De Mornay': -11588043, 'John Robinson': -11588043, 'Bill Goldberg': -11627590, 'Agata Buzek': -11647115, 'Vicky McClure': -11647115, 'Benedict Wong': -11647115, 'Max Thieriot': -11710585, 'Jeremy Northam': -11860709, 'Vanessa Redgrave': -11903700, 'Eva Amurri Martino': -11941633, 'Taylor Kinney': -11979336, 'Bai Ling': -12041304, 'Vincent Pastore': -12069815, 'Richard Roundtree': -12167000, 'Greg Bryk': -12179359, 'Sela Ward': -12303252, 'MaÃ¯ Anh Le': -12327950, 'Oanh Nguyen': -12327950, \"Jaran 'See Tao' Petcharoen\": -12327950, 'StÃ©phanie Lagarde': -12327950, 'Antje Traue': -12354673, 'Cung Le': -12354673, 'Danny McCarthy': -12464669, 'Kevin Sussman': -12965168, 'Rebecca Romijn': -13046603, 'Amy Brenneman': -13069116, 'Sarah Dubrovsky': -13150858, 'Judd Hirsch': -13209021, 'Eve Hewson': -13209021, 'Kerry Condon': -13209021, 'Raad Rawi': -13371787, 'Mehmet Ferda': -13371787, 'Philip Quast': -13371787, 'Sharon Stone': -13526042, 'Jakob Salvati': -13579681, 'David Henrie': -13579681, 'Frank Collison': -13844219, 'Jack Huston': -13953036, 'Natasha Henstridge': -13989168, 'Tiya Sircar': -14000000, 'Kevin Chamberlin': -14000000, 'Russell Means': -14177139, 'Jay Tavare': -14177139, 'Daniel Gillies': -14373200, 'Pruitt Taylor Vince': -14373200, 'Chrysta Olson': -14373200, 'Fairuza Balk': -14410898, 'Stacey Dash': -14423505, 'Jane Alexander': -14518911, 'Charlotte Rampling': -14620591, 'Sophie Marceau': -14631103, 'Paul Wilson': -14631103, 'Rachel Dratch': -14701793, 'Gaelan Connell': -14789012, 'Melissa Sagemiller': -14988268, 'Omari Hardwick': -14988268, 'Eddie Cibrian': -14992009, 'Brandon Routh': -15365938, 'Sam Huntington': -15365938, 'Travis Oates': -15540000, 'Bud Luckey': -15540000, 'Diego Boneta': -15581387, 'Portia de Rossi': -15705099, 'Lambert Wilson': -15789013, \"Mickey O'Keefe\": -15809131, 'Meredith Droeger': -15865707, 'Michelle Yeoh': -15873589, 'Charlotte Gainsbourg': -15998879, 'Kieran Culkin': -16557976, 'Raymond J. Barry': -16682849, 'Shawn Hatosy': -16978735, 'Jeremy Davies': -16997242, 'Christopher Cousins': -16998743, 'George Dzundza': -17566085, 'Chris Carmack': -17873542, 'Chris Zylka': -17873542, 'Dustin Milligan': -17873542, 'Lisa Roberts Gillan': -18146652, 'Rie Rasmussen': -18161090, 'Gregg Henry': -18161090, 'Edward James Olmos': -18567273, \"Matt O'Leary\": -18640258, 'Sara Paxton': -18874784, 'Mario Van Peebles': -19286175, 'Ron Silver': -19286175, 'Paul Schneider': -19348152, 'Megan Dodds': -19450800, 'Mark Margolis': -19695110, 'Aunjanue Ellis': -19796494, 'Justin Whalin': -19814759, 'Zoe McLellan': -19814759, 'Mackenzie Crook': -19873733, 'Bob Balaban': -19964585, 'Adrianne Palicki': -20193217, 'Essie Davis': -20372608, 'Joel David Moore': -20506381, 'June Diane Raphael': -20568747, 'Leslie Stefanson': -20765992, 'John Finn': -20765992, 'Udo Kier': -21097985, 'Amelia Curtis': -21097985, 'Wen Yann Shih': -21171682, 'Seymour Cassel': -21171682, 'Gregory Smith': -21321087, 'Levi Miller': -21611680, 'Sam Riley': -22110966, 'Thora Birch': -22378250, 'Chevy Chase': -22493812, 'Christian McKay': -22663828, 'Tiger Hu Chen': -22945059, 'Jeremy Marinas': -22945059, 'Steven Dasz': -22945059, 'Karen Mok': -22945059, 'Edie Falco': -23009372, 'Armand Assante': -23040764, 'Courtney Love': -23083131, 'SÃ´nia Braga': -23300000, 'Peter Weller': -23439194, 'Stephen Baldwin': -23531725, 'Kristen Johnston': -23531725, 'Joan Collins': -23531725, 'Wanda De Jesus': -23800483, 'Tina Lifford': -23800483, 'Kou Shibasaki': -24037525, 'Min Tanaka': -24037525, 'John Benjamin Hickey': -24099751, 'Patrick Fugit': -24446640, 'Alexander Siddig': -24726592, 'Shelbie Bruce': -24958633, 'Tammy Blanchard': -25091435, 'Lance Reddick': -25138978, 'Leland Orser': -26085092, 'Tim Curry': -26102377, 'Jordana Spiro': -26387531, \"Jodi Lyn O'Keefe\": -26820934, 'Horatio Sanz': -27173844, 'Justin Michael Brandt': -27472096, 'Richard Goteri': -27472096, 'Peter Carey': -27472096, 'Tom Skerritt': -27793972, 'Shawn Doyle': -27793972, 'Wendy Raquel Robinson': -28190986, 'Nelsan Ellis': -28279842, 'Michael Bunin': -28279842, 'Michael Rispoli': -29199698, 'Martin Landau': -29322326, 'Jasmine Trinca': -29335251, 'Benno FÃ¼rmann': -29406029, 'Justin Theroux': -29501089, 'Max Martini': -29833498, 'Tom Sturridge': -29866898, 'Bridget Fonda': -30152636, 'Frances Conroy': -30417903, 'Roscoe Lee Browne': -30421885, 'Stephen Dorff': -30655177, 'Ashraf Barhom': -30958495, 'Michael Lonsdale': -30958495, 'Jim Cummings': -31080000, 'Jorma Taccone': -31311169, 'Matt Lauer': -31311169, 'Stan Collymore': -31370522, 'Josh Holloway': -31380311, 'Stephen McHattie': -31874469, 'Laz Alonso': -32499282, 'Ryan Cartwright': -32589251, 'Mischa Barton': -32589251, 'Jay Villiers': -32589251, 'Simone Spinazze': -32589251, 'Randall Park': -32694825, 'Diana Bang': -32694825, 'Sarita Choudhury': -32714831, 'Cindy Cheung': -32714831, 'Sami Gayle': -32893443, 'Kevin Costner': -34908956, 'Jessica Brown Findlay': -34972471, 'Rachel Nichols': -35584232, 'William Forsythe': -36078488, 'Keith Dallas': -36438863, 'Bruce Payne': -36469213, 'Harry Treadaway': -37130952, 'Kristin Kreuk': -37235799, 'Marcel IureÈ™': -37712956, 'CÃ©cile De France': -37821105, 'Robert Fyfe': -37821105, 'Omar Epps': -38875943, 'Sarah Shahi': -38958676, 'Kip Pardue': -39255262, 'Robert Sean Leonard': -39255262, 'Estella Warren': -39255262, 'Chris Kattan': -40007608, 'Jason Bonham': -40008098, 'Unax Ugalde': -40392392, 'Catalina Sandino Moreno': -40392392, 'Joel Gretsch': -40540573, 'Kate Burton': -41657868, 'ZoÃ« Bell': -41962103, 'Vanessa Ferlito': -41962103, 'Sydney Tamiia Poitier': -41962103, 'Scott Hazell': -42200000, 'Mac McDonald': -42200000, 'Philip Winchester': -42200000, 'Todd Boyce': -42200000, 'Janeane Garofalo': -42615954, 'Natascha McElhone': -43024897, 'Kevin Conway': -43076064, 'C. Thomas Howell': -43076064, 'Sara Foster': -43191450, 'Linh Äan Pháº¡m': -43452791, 'James Purefoy': -44066149, 'Johnny Strong': -44187007, 'Steve Burton': -44357293, 'Jim Belushi': -45290145, 'Steven Culp': -45433254, 'Shawn Driscoll': -45433254, 'Peter Mullan': -45596962, 'Paz Vega': -45927296, 'Sophia Myles': -45966317, 'RenÃ©e Taylor': -46604061, 'Lenny Venito': -46733791, 'Zoe Kazan': -46814567, 'Scott Caan': -47864159, 'Adam Beach': -48183791, 'Danny Huston': -50921934, 'Stephanie Szostak': -50963643, 'Tory Kittles': -51788987, 'Ming-Na Wen': -51868170, 'James Kidnie': -51893525, 'Heidi Hawkins': -51893525, 'Leehom Wang': -52247060, 'Tang Wei': -52247060, 'Holt McCallany': -52247060, 'Rose McGowan': -52832569, 'Christian Slater': -52837017, 'Rachael Leigh Cook': -56354007, 'Adewale Akinnuoye-Agbaje': -58107342, 'Brandy Norwood': -61403089, 'Joe Pantoliano': -62172931, 'Courtney B. Vance': -64449405, 'Joss Ackland': -64831034, 'John Shrapnel': -64831034, 'Jackson Bond': -64928486, 'Alice Krige': -65084812, 'Robert Mammone': -69833498, 'James Carpinello': -69833498, 'Mark Consuelos': -69833498, 'Jane Krakowski': -70135786, 'Lena Olin': -71626175, 'Charlie Hewson': -71626175, 'Heike Makatsch': -74010360, 'Armin Rohde': -74010360, 'Wilfried Hochholdinger': -74010360, 'Lou Diamond Phillips': -75171919, 'Bryan Brown': -80445998, 'James Spader': -86199411, 'Jason Momoa': -86715150, 'Dan Fogler': -88887046, 'David Hyde Pierce': -106526767, 'Elisabeth Harnois': -111007242, 'Emilio EchevarrÃ\\xada': -119180039, 'Kate Bosworth': -369455668, 'Jang Dong-gun': -413912431, 'Ti Lung': -413912431})\n"
     ]
    }
   ],
   "source": [
    "data = pd.read_csv('data.csv') \n",
    "data['cast'] = data['cast'].apply(lambda x: x.split('|')) \n",
    "data['marjin']=(data['revenue']-data['budget'])\n",
    "import collections\n",
    "c = collections.Counter()\n",
    "for i in range(0, len(data)):\n",
    "    for actor in data['cast'].iloc[i]:\n",
    "        c[actor] += data['marjin'].iloc[i] \n",
    "print (c)"
   ]
  },
  {
   "cell_type": "code",
   "execution_count": 36,
   "metadata": {},
   "outputs": [],
   "source": [
    "answer_ls.append(1)"
   ]
  },
  {
   "cell_type": "markdown",
   "metadata": {},
   "source": [
    "# 17. Какой актер принес меньше всего прибыли в 2012 году?\n",
    "Варианты ответов:\n",
    "1. Nicolas Cage\n",
    "2. Danny Huston\n",
    "3. Kirsten Dunst\n",
    "4. Jim Sturgess\n",
    "5. Sami Gayle"
   ]
  },
  {
   "cell_type": "code",
   "execution_count": 37,
   "metadata": {},
   "outputs": [
    {
     "name": "stdout",
     "output_type": "stream",
     "text": [
      "Counter({'Chris Hemsworth': 1542450773, 'Denis Leary': 1319460639, 'Robert Downey Jr.': 1299557910, 'Chris Evans': 1299557910, 'Mark Ruffalo': 1299557910, 'Scarlett Johansson': 1299557910, 'Anne Hathaway': 1211851057, 'Sacha Baron Cohen': 1097110577, 'Ralph Fiennes': 1059561013, 'Seann William Scott': 967234366, 'Kristen Stewart': 919384318, 'Daniel Craig': 908561013, 'Judi Dench': 908561013, 'Javier Bardem': 908561013, 'Naomie Harris': 908561013, 'Josh Hutcherson': 872710235, 'Tom Hardy': 858717867, 'Christian Bale': 831041287, 'Michael Caine': 831041287, 'Gary Oldman': 831041287, 'Jennifer Lawrence': 800949406, 'Ray Romano': 782244782, 'Chris Wedge': 782244782, 'John Leguizamo': 779138503, 'Ian McKellen': 767003568, 'Martin Freeman': 767003568, 'Richard Armitage': 767003568, 'Andy Serkis': 767003568, 'Cate Blanchett': 767003568, 'Emma Thompson': 753009983, 'Taylor Lautner': 709000000, 'Peter Facinelli': 709000000, 'Elizabeth Reaser': 709000000, 'Robert Pattinson': 694563556, 'Elizabeth Banks': 656566659, 'Woody Harrelson': 620632953, 'Liam Hemsworth': 616210692, 'Ben Stiller': 601921274, 'David Schwimmer': 601921274, 'Chris Rock': 601921274, 'Frances McDormand': 595060062, 'Rhys Ifans': 561125608, 'Hugh Jackman': 542751440, 'Mark Wahlberg': 537468315, 'Giovanni Ribisi': 537468315, 'Andrew Garfield': 537215857, 'Emma Stone': 537215857, 'Martin Sheen': 537215857, 'Charlize Theron': 499770142, 'Mila Kunis': 499368315, 'Seth MacFarlane': 499368315, 'Joel McHale': 499368315, 'Channing Tatum': 496294075, 'Suraj Sharma': 489016565, 'Irrfan Khan': 489016565, 'Ayush Tandon': 489016565, 'Gautam Belur': 489016565, 'Adil Hussain': 489016565, 'Tommy Lee Jones': 483307827, 'Liam Neeson': 482141306, 'Billy Connolly': 402503505, 'Will Smith': 399026776, 'Josh Brolin': 399026776, 'Michael Stuhlbarg': 399026776, 'Russell Crowe': 380809770, 'Amanda Seyfried': 380809770, 'Kelly Macdonald': 353983207, 'Julie Walters': 353983207, 'Kevin McKidd': 353983207, 'Maggie Grace': 343345336, 'Famke Janssen': 331141306, 'Rade Serbedzija': 331141306, 'Luke Grimes': 331141306, 'Jane Lynch': 331042190, 'Jamie Foxx': 325368238, 'Christoph Waltz': 325368238, 'Leonardo DiCaprio': 325368238, 'Samuel L. Jackson': 325368238, 'Guy Pearce': 313050752, 'Rosamund Pike': 309340595, 'Kerry Washington': 307412515, 'John C. Reilly': 306222889, 'Sarah Silverman': 306222889, 'Jack McBrayer': 306222889, 'Jamie Elman': 306222889, 'Michael Fassbender': 283542748, 'Zac Efron': 278840316, 'Danny DeVito': 278840316, 'Taylor Swift': 278840316, 'Ed Helms': 278840316, 'Rob Riggle': 278840316, 'Dwayne Johnson': 276692760, 'Kristin Davis': 276692760, 'Vanessa Hudgens': 276692760, 'Luis GuzmÃ¡n': 276692760, 'Steve Buscemi': 273375603, 'David Spade': 273375603, 'Kevin James': 273375603, 'Selena Gomez': 273375603, 'Noomi Rapace': 273170142, 'Idris Elba': 273170142, 'Bruce Willis': 263378341, 'Adam Sandler': 261433970, 'Bryan Cranston': 238410192, 'Sam Claflin': 226600000, 'Ian McShane': 226600000, 'Anna Kendrick': 226316209, 'Jason Statham': 222919609, 'Sylvester Stallone': 212573423, 'Dolph Lundgren': 212573423, 'Arnold Schwarzenegger': 212573423, 'Edward Norton': 198836104, 'Bradley Cooper': 191970175, 'Ben Affleck': 187824128, 'Alan Arkin': 187824128, 'John Goodman': 187824128, 'Victor Garber': 187824128, 'Brendan Gleeson': 185072317, 'Jason Biggs': 184989584, 'Alyson Hannigan': 184989584, 'Chris Klein': 184989584, 'Thomas Ian Nicholas': 184989584, 'Robert De Niro': 184738714, 'Jacki Weaver': 184738714, 'Chris Tucker': 184738714, 'Milla Jovovich': 175159255, 'Sienna Guillory': 175159255, 'Michelle Rodriguez': 175159255, 'Aryana Engineer': 175159255, 'Li Bingbing': 175159255, 'Kate Beckinsale': 174302074, 'Megan Fox': 167438319, 'Rachel McAdams': 166114570, 'Sam Neill': 166114570, 'Scott Speedman': 166114570, 'Jessica Lange': 166114570, 'Jude Law': 161941670, 'Isla Fisher': 161941670, 'Matthew McConaughey': 160221571, 'Olivia Munn': 160221571, 'Cody Horn': 160221571, 'Alex Pettyfer': 160221571, 'Jonah Hill': 159585328, 'Brie Larson': 159585328, 'Dave Franco': 159585328, 'Ellie Kemper': 159585328, 'Chris Pine': 158376448, 'Richard Jenkins': 158340595, 'Werner Herzog': 158340595, 'Sam Worthington': 155221189, 'Edgar RamÃ\\xadrez': 151000000, 'David Oyelowo': 150705972, 'Ewan McGregor': 148646729, 'Jeremy Renner': 146572938, 'Rachel Weisz': 146572938, 'Scott Glenn': 146572938, 'Stacy Keach': 146572938, 'Michael Ealy': 146470507, 'Alec Baldwin': 146360283, 'Tom Cruise': 142759208, 'Naomi Watts': 138274123, 'Tom Holland': 138274123, 'Samuel Joslin': 138274123, 'Oaklee Pendergast': 138274123, 'Katie Featherston': 137817992, 'Kathryn Newton': 137817992, 'Matt Shively': 137817992, 'Brady Allen': 137817992, 'Sprague Grayden': 137817992, 'CiarÃ¡n Hinds': 134869836, 'Brooklyn Decker': 133725485, 'Dane DeHaan': 130000000, 'Alex Russell': 130000000, 'Michael B. Jordan': 130000000, 'Michael Kelly': 130000000, 'Anna Wood': 130000000, 'Denzel Washington': 123076205, 'Ryan Reynolds': 123076205, 'Vera Farmiga': 123076205, 'Joel Kinnaman': 123076205, 'Jessica Chastain': 120497296, 'Taylor Kitsch': 120164585, 'Mark Strong': 116959816, 'Chris Pratt': 116730467, 'Sayed Badreya': 114379533, 'Aasif Mandvi': 114379533, 'Anna Faris': 114379533, 'Daniel Radcliffe': 110730736, 'Sidney Johnston': 110730736, 'Alisa Khazanova': 110730736, 'Mary Stockley': 110730736, 'Kathryn McCormick': 107470746, 'Ryan Guzman': 107470746, 'Stephen Boss': 107470746, 'Megan Boone': 107470746, 'Jessica Guadix': 107470746, 'Skylar Astin': 98350426, 'Brittany Snow': 98350426, 'Anna Camp': 98350426, 'Rebel Wilson': 98350426, 'Julia Roberts': 98018522, 'Lily Collins': 98018522, 'Armie Hammer': 98018522, 'Nathan Lane': 98018522, 'Martin Klebba': 98018522, 'Johnny Depp': 95527149, 'Helena Bonham Carter': 95527149, 'Jackie Earle Haley': 95527149, 'Jonny Lee Miller': 95527149, 'Billy Crystal': 94772232, 'Bette Midler': 94772232, 'Marisa Tomei': 94772232, 'Tom Everett Scott': 94772232, 'Bailee Madison': 94772232, 'Alexander SkarsgÃ¥rd': 94025485, 'Rihanna': 94025485, 'Tadanobu Asano': 94025485, 'Jason Clarke': 92820716, 'Joel Edgerton': 92820716, 'Michelle Pfeiffer': 91961927, 'Oliver Cooper': 88000000, 'Jonathan Daniel Brown': 88000000, 'Thomas Mann': 88000000, 'Dax Flame': 88000000, 'Kirby Bliss Blanton': 88000000, 'Meryl Streep': 84281051, 'Steve Carell': 84281051, 'Jean Smart': 84281051, 'Marin Ireland': 84281051, 'Jerry Ferrara': 84070507, 'Meagan Good': 84070507, 'Regina Hall': 84070507, 'Kevin Hart': 84070507, 'Colin Farrell': 78224335, 'Jason Segel': 76968537, 'Jessica Biel': 73802074, 'Bill Nighy': 73802074, 'Natasha Calis': 71446075, 'Madison Davenport': 71446075, 'Kyra Sedgwick': 71446075, 'Rob LaBelle': 71446075, 'Roselyn SÃ¡nchez': 69272766, 'Emilio Rivera': 69272766, 'Nestor Serrano': 69272766, 'Gonzalo Menendez': 69272766, 'Alexander Asefa': 69272766, 'Paul Rudd': 62618720, 'Stephen Rea': 62400000, 'Theo James': 62400000, 'India Eisley': 62400000, 'Salma Hayek': 60338361, 'Hugh Grant': 58338361, 'Jeremy Piven': 58338361, 'Brian Blessed': 58338361, 'Devon Bostick': 55112176, 'Steve Zahn': 55112176, 'Peyton List': 55112176, 'Rachael Harris': 55112176, 'Zachary Gordon': 55112176, 'Leslie Mann': 53058786, 'Maude Apatow': 53058786, 'Jared Gilman': 52263166, 'Kara Hayward': 52263166, 'Bill Murray': 52263166, 'Jeffrey Dean Morgan': 51252858, 'Maggie Smith': 48520298, 'Tom Courtenay': 48520298, 'Pauline Collins': 48520298, 'Michael Gambon': 48520298, 'Kodi Smit-McPhee': 47139399, 'Tucker Albrizzi': 47139399, 'Jodelle Ferland': 47139399, 'Casey Affleck': 47139399, 'Benjamin Walker': 43265139, 'Dominic Cooper': 43265139, 'Anthony Mackie': 43265139, 'Mary Elizabeth Winstead': 43265139, 'Rufus Sewell': 43265139, 'Charlie Tahan': 42491068, 'Winona Ryder': 42491068, \"Catherine O'Hara\": 42491068, 'Martin Short': 42491068, 'Martin Landau': 42491068, 'Jake Gyllenhaal': 41126384, 'Michael PeÃ±a': 41126384, 'Natalie Martinez': 41126384, 'David Harbour': 41126384, 'Emily Blunt': 40951751, 'Cameron Diaz': 39700000, 'Jennifer Lopez': 39700000, 'Ben Foster': 38100000, 'J.K. Simmons': 38100000, 'Kristen Connolly': 36486080, 'Anna Hutchison': 36486080, 'Fran Kranz': 36486080, 'Jesse Williams': 36486080, 'Adelaide Clemens': 32302796, 'Kit Harington': 32302796, 'Sean Bean': 32302796, 'Carrie-Anne Moss': 32302796, 'Radha Mitchell': 32302796, 'Tom Hanks': 28482868, 'Halle Berry': 28482868, 'Jim Broadbent': 28482868, 'Hugo Weaving': 28482868, 'Shia LaBeouf': 27676580, 'Mia Wasikowska': 27676580, 'Sean Hayes': 24819301, 'Will Sasso': 24819301, 'Chris Diamantopoulos': 24819301, 'SofÃ\\xada Vergara': 24819301, 'Lynn Collins': 24139100, 'Willem Dafoe': 24139100, 'Alison Brie': 23909751, 'Richard Gere': 23485056, 'Tim Roth': 23485056, 'Brit Marling': 23485056, 'Monica Raymund': 23485056, 'Brad Pitt': 22930465, 'Scoot McNairy': 22930465, 'Ben Mendelsohn': 22930465, 'James Gandolfini': 22930465, 'Ray Liotta': 22930465, 'Katy Perry': 20726956, 'Russell Brand': 20726956, 'Shannon Woodward': 20726956, 'Rachael Markarian': 20726956, 'Mia Moretti': 20726956, 'Logan Lerman': 20400000, 'Emma Watson': 20400000, 'Ezra Miller': 20400000, 'Nina Dobrev': 20400000, 'Paul Dano': 17042000, 'Noah Segan': 17042000, 'Joseph Gordon-Levitt': 13125599, 'Joseph Gilgun': 12204030, 'Lennie James': 12204030, 'Peter Stormare': 12204030, 'Susan Sarandon': 11543423, 'Whitney Houston': 10637469, 'Cee Lo Green': 10637469, 'Derek Luke': 10637469, 'Mike Epps': 10637469, 'Carmen Ejogo': 10637469, 'Gina Carano': 10372606, 'Bill Paxton': 10372606, 'Chris Sarandon': 10346186, 'James Hong': 10346186, 'Catherine Chan': 10346186, 'Robert John Burke': 10346186, 'Zoe Saldana': 7231461, 'Jeremy Irons': 7231461, 'Dennis Quaid': 7231461, 'Sam Rockwell': 4422261, 'Christopher Walken': 4422261, 'Abbie Cornish': 4422261, 'Jamie Bell': 4221189, 'Ed Harris': 4221189, 'Edward Burns': 4221189, 'Olivia Wilde': 3666239, 'John Cusack': 3657751, 'Luke Evans': 3657751, 'Alice Eve': 3657751, 'Kevin McNally': 3657751, 'Danielle Panabaker': 3493728, 'Matt Bush': 3493728, 'Katrina Bowden': 3493728, 'Jean-Luc Bilodeau': 3493728, 'David Koechner': 3493728, 'Blake Lively': 2000000, 'Aaron Taylor-Johnson': 2000000, 'Benicio del Toro': 2000000, 'Eva Longoria': -2377154, 'Andy GarcÃ\\xada': -2377154, 'Oscar Isaac': -2377154, \"Peter O'Toole\": -2377154, 'RubÃ©n Blades': -2377154, 'Victoria Justice': -2582638, 'Jackson Nicoll': -2582638, 'Chelsea Handler': -2582638, 'Josh Pence': -2582638, 'Jane Levy': -2582638, 'Katherine Heigl': -3106279, 'Debbie Reynolds': -3106279, 'Sherri Shepherd': -3106279, 'Patrick Fischler': -3106279, 'Henry Cavill': -3136417, 'VerÃ³nica Echegui': -3136417, 'Sigourney Weaver': -3136417, 'Caroline Goodall': -3136417, 'Mark Duplass': -3565222, 'Joaquin Phoenix': -3741940, 'Philip Seymour Hoffman': -3741940, 'Amy Adams': -3741940, 'Laura Dern': -3741940, 'Jesse Plemons': -3741940, 'Michael Shannon': -3916401, 'Dania Ramirez': -3916401, 'Jamie Chung': -3916401, 'WolÃ© Parks': -3916401, 'Jason Bateman': -6571952, 'Hope Davis': -6571952, 'Frank Grillo': -6571952, 'Paula Patton': -6571952, 'Michael Nyqvist': -6571952, 'Matt Damon': -6861212, 'Rosemarie DeWitt': -6861212, 'Lucas Black': -6861212, 'Ashley Greene': -7372508, 'Sebastian Stan': -7372508, 'Tom Felton': -7372508, 'Julianna Guill': -7372508, 'Luke Pasqualino': -7372508, 'Cuba Gooding Jr.': -7634623, 'Daniela Ruah': -7634623, 'Terrence Howard': -7634623, 'Karl Urban': -8962258, 'Olivia Thirlby': -8962258, 'Lena Headey': -8962258, 'Wood Harris': -8962258, 'Jason Cope': -8962258, 'Jennifer Aniston': -10840066, 'Justin Theroux': -10840066, 'Lauren Ambrose': -10840066, 'Eva Amurri Martino': -11941633, 'Leighton Meester': -11941633, 'Andy Samberg': -11941633, 'Sarah Gadon': -14436444, 'Juliette Binoche': -14436444, 'Paul Giamatti': -14436444, 'Samantha Morton': -14436444, 'Tyler Perry': -14646768, 'Rachel Nichols': -14646768, 'Jean Reno': -14646768, 'Matthew Fox': -14646768, 'Giancarlo Esposito': -14646768, 'Drew Barrymore': -15280785, 'Kristen Bell': -15280785, 'Vinessa Shaw': -15280785, 'Dermot Mulroney': -15280785, 'Josh Duhamel': -15363831, 'Rosario Dawson': -15363831, \"Vincent D'Onofrio\": -15363831, '50 Cent': -15363831, 'Diego Boneta': -15581387, 'Julianne Hough': -15581387, 'Garrett Hedlund': -16215682, 'Sam Riley': -16215682, 'Tom Sturridge': -16215682, 'Eddie Murphy': -17955723, 'Allison Janney': -17955723, 'Cliff Curtis': -17955723, 'Clark Duke': -17955723, 'Isabel Lucas': -20193217, 'Adrianne Palicki': -20193217, 'John Krasinski': -22141997, 'Jim Sturgess': -23410657, 'Nicolas Cage': -32893443, 'Josh Lucas': -32893443, 'Sami Gayle': -32893443, 'Danny Huston': -32893443, 'Malin Ã…kerman': -43733509, 'Timothy Spall': -51893525, 'James Kidnie': -51893525, 'Heidi Hawkins': -51893525, 'Kirsten Dunst': -68109207})\n"
     ]
    },
    {
     "name": "stderr",
     "output_type": "stream",
     "text": [
      "C:\\Users\\user\\anaconda3\\lib\\site-packages\\ipykernel_launcher.py:4: SettingWithCopyWarning: \n",
      "A value is trying to be set on a copy of a slice from a DataFrame.\n",
      "Try using .loc[row_indexer,col_indexer] = value instead\n",
      "\n",
      "See the caveats in the documentation: https://pandas.pydata.org/pandas-docs/stable/user_guide/indexing.html#returning-a-view-versus-a-copy\n",
      "  after removing the cwd from sys.path.\n"
     ]
    }
   ],
   "source": [
    "data = pd.read_csv('data.csv') \n",
    "data['cast'] = data['cast'].apply(lambda x: x.split('|'))\n",
    "data1=data[(data['release_year']==2012)]\n",
    "data1['marjin']=(data1['revenue']-data1['budget'])\n",
    "import collections\n",
    "c = collections.Counter()\n",
    "for i in range(0, len(data1)):\n",
    "    for actor in data1['cast'].iloc[i]:\n",
    "        c[actor] += data1['marjin'].iloc[i] \n",
    "print (c)\n"
   ]
  },
  {
   "cell_type": "code",
   "execution_count": 38,
   "metadata": {},
   "outputs": [],
   "source": [
    "answer_ls.append(3)"
   ]
  },
  {
   "cell_type": "markdown",
   "metadata": {},
   "source": [
    "# 18. Какой актер снялся в большем количестве высокобюджетных фильмов? (в фильмах где бюджет выше среднего по данной выборке)\n",
    "Варианты ответов:\n",
    "1. Tom Cruise\n",
    "2. Mark Wahlberg \n",
    "3. Matt Damon\n",
    "4. Angelina Jolie\n",
    "5. Adam Sandler"
   ]
  },
  {
   "cell_type": "code",
   "execution_count": 39,
   "metadata": {},
   "outputs": [
    {
     "name": "stdout",
     "output_type": "stream",
     "text": [
      "Counter({'Matt Damon': 18, 'Adam Sandler': 17, 'Angelina Jolie': 16, 'Tom Cruise': 15, 'Samuel L. Jackson': 15, 'Eddie Murphy': 15, 'Mark Wahlberg': 14, 'Hugh Jackman': 14, 'Ben Stiller': 14, 'Jamie Foxx': 14, 'Russell Crowe': 14, 'Johnny Depp': 13, 'Jude Law': 13, 'Bruce Willis': 13, 'Will Smith': 13, 'Dwayne Johnson': 12, 'Ian McKellen': 12, 'Brad Pitt': 12, 'Owen Wilson': 12, 'Cameron Diaz': 12, 'Nicolas Cage': 12, 'Robert De Niro': 12, 'Leonardo DiCaprio': 11, 'Daniel Craig': 11, 'Robert Downey Jr.': 11, 'Steve Buscemi': 11, 'Vin Diesel': 10, 'Mark Ruffalo': 10, 'Jack Black': 10, 'Denzel Washington': 10, 'Emma Watson': 10, 'Gary Oldman': 10, 'Tom Hanks': 10, 'Orlando Bloom': 10, 'Ralph Fiennes': 9, 'Cate Blanchett': 9, 'Michael Caine': 9, 'Ewan McGregor': 9, 'Paul Bettany': 9, 'Brendan Gleeson': 9, 'Shia LaBeouf': 9, 'Nicole Kidman': 9, 'Colin Farrell': 9, 'Rachel Weisz': 9, 'Halle Berry': 9, 'Charlize Theron': 8, 'Kevin James': 8, 'Chris Hemsworth': 8, 'Helena Bonham Carter': 8, 'Josh Hutcherson': 8, 'George Clooney': 8, 'James Franco': 8, 'Christian Bale': 8, 'Gerard Butler': 8, 'Sylvester Stallone': 8, 'Rosario Dawson': 8, 'Ben Kingsley': 8, 'Bill Nighy': 8, 'Daniel Radcliffe': 8, 'Rupert Grint': 8, 'Jim Carrey': 8, 'Vince Vaughn': 8, 'Alec Baldwin': 8, 'Steve Carell': 8, 'Harrison Ford': 7, 'Jason Statham': 7, 'Chris Evans': 7, 'Woody Harrelson': 7, 'Josh Brolin': 7, 'Jeff Bridges': 7, 'Anne Hathaway': 7, 'Patrick Stewart': 7, 'Jennifer Connelly': 7, 'Anthony Hopkins': 7, 'Morgan Freeman': 7, 'Billy Crudup': 7, 'Jason Lee': 7, 'Jessica Biel': 7, 'Julia Roberts': 7, 'Ryan Reynolds': 7, 'Liam Neeson': 7, 'Karl Urban': 7, 'Richard Jenkins': 7, 'Chris Rock': 7, 'Kate Winslet': 6, 'Paul Walker': 6, 'Arnold Schwarzenegger': 6, 'Sean Bean': 6, 'Scarlett Johansson': 6, 'Elizabeth Banks': 6, 'Ving Rhames': 6, 'Mark Strong': 6, 'Jeffrey Wright': 6, 'Gwyneth Paltrow': 6, 'Matthew McConaughey': 6, 'Rosamund Pike': 6, 'Logan Lerman': 6, 'Robin Williams': 6, 'Stanley Tucci': 6, 'Mel Gibson': 6, 'Kevin Costner': 6, 'John Goodman': 6, 'Aaron Eckhart': 6, 'Justin Long': 6, 'Will Ferrell': 6, 'Seann William Scott': 6, 'Paul Giamatti': 6, 'Dustin Hoffman': 6, 'Mike Myers': 6, 'Eva Mendes': 6, 'Kate Beckinsale': 6, 'Jon Voight': 6, 'Jackie Chan': 6, 'Tobey Maguire': 6, 'Keanu Reeves': 6, 'Guy Pearce': 6, 'John Leguizamo': 6, 'Tommy Lee Jones': 6, 'Michelle Rodriguez': 5, 'Michael PeÃ±a': 5, 'Paul Rudd': 5, 'Jennifer Lawrence': 5, 'Carla Gugino': 5, 'Ioan Gruffudd': 5, 'Simon Pegg': 5, 'Giovanni Ribisi': 5, 'Frances McDormand': 5, 'Elijah Wood': 5, 'Jake Gyllenhaal': 5, 'Sam Worthington': 5, 'Delroy Lindo': 5, 'Bradley Cooper': 5, 'Donald Sutherland': 5, 'Ben Affleck': 5, 'Andy Serkis': 5, 'John Turturro': 5, 'Jonah Hill': 5, 'Julianne Moore': 5, 'John Malkovich': 5, 'Ian McShane': 5, 'Chris Pine': 5, 'Keira Knightley': 5, 'Jessica Alba': 5, 'Eric Bana': 5, 'Benjamin Bratt': 5, 'Hank Azaria': 5, 'John Travolta': 5, 'David Cross': 5, 'Clive Owen': 5, 'Sam Elliott': 5, 'Don Cheadle': 5, 'Ron Perlman': 5, 'Antonio Banderas': 5, 'Peter Sarsgaard': 5, 'Zach Galifianakis': 5, 'Nick Nolte': 5, 'Geoffrey Rush': 5, 'Brendan Fraser': 5, 'Jennifer Aniston': 5, 'Edward Norton': 5, 'Judi Dench': 5, 'John C. Reilly': 5, 'Sacha Baron Cohen': 5, 'Kirsten Dunst': 5, 'Djimon Hounsou': 5, 'Catherine Zeta-Jones': 5, 'Tom Hardy': 4, 'Kristen Wiig': 4, 'Christoph Waltz': 4, 'Michelle Monaghan': 4, 'Liam Hemsworth': 4, 'Amanda Seyfried': 4, 'Steve Martin': 4, 'Ray Winstone': 4, 'Rose Byrne': 4, 'Tom Hiddleston': 4, 'Michael Fassbender': 4, 'Megan Fox': 4, 'Will Arnett': 4, 'William Fichtner': 4, 'Marton Csokas': 4, 'Emma Stone': 4, 'Bill Paxton': 4, 'Joel Edgerton': 4, 'Bryan Cranston': 4, 'Jay Baruchel': 4, 'Eva Green': 4, 'David Wenham': 4, 'Michael Gambon': 4, 'Mickey Rourke': 4, 'Joseph Gordon-Levitt': 4, 'Bill Murray': 4, 'Carrie-Anne Moss': 4, 'Bruce Greenwood': 4, 'Patrick Wilson': 4, 'Chiwetel Ejiofor': 4, 'Thandie Newton': 4, 'Anna Faris': 4, 'Amy Adams': 4, 'Susan Sarandon': 4, 'PenÃ©lope Cruz': 4, 'Jon Favreau': 4, 'Luis GuzmÃ¡n': 4, 'Jason Bateman': 4, 'Seth Rogen': 4, 'Reese Witherspoon': 4, 'Tyrese Gibson': 4, 'Catherine Keener': 4, 'James Cromwell': 4, 'Julie Andrews': 4, 'Alfred Molina': 4, 'Salma Hayek': 4, 'Kristen Stewart': 4, 'Peter Facinelli': 4, 'Jason Isaacs': 4, 'Ashton Kutcher': 4, 'Jack Nicholson': 4, 'Viggo Mortensen': 4, 'Liv Tyler': 4, 'Ed Harris': 4, 'Heath Ledger': 4, 'Kurt Russell': 4, 'Angela Bassett': 4, 'TÃ©a Leoni': 4, 'Terrence Howard': 4, 'Hayden Christensen': 4, 'Terence Stamp': 4, 'Anthony Mackie': 4, 'Zooey Deschanel': 4, 'Matthew Broderick': 4, 'Ed Helms': 4, 'Hugo Weaving': 4, 'Natalie Portman': 4, 'Denis Leary': 4, 'Brian Cox': 4, 'Willem Dafoe': 4, 'Joaquin Phoenix': 4, 'Famke Janssen': 4, 'Peter Stormare': 4, 'Kerry Washington': 4, 'Billy Connolly': 4, 'Drew Barrymore': 4, 'RenÃ©e Zellweger': 4, 'Christopher Walken': 4, 'Bryce Dallas Howard': 3, 'Theo James': 3, 'Miles Teller': 3, 'Jason Clarke': 3, 'Jai Courtney': 3, 'Jessica Chastain': 3, 'Sandra Bullock': 3, 'Michael Keaton': 3, 'Bill Hader': 3, 'Monica Bellucci': 3, 'Mila Kunis': 3, 'Channing Tatum': 3, 'Josh Gad': 3, 'Michael Douglas': 3, 'Bobby Cannavale': 3, 'Hugh Laurie': 3, 'Alexandra Daddario': 3, 'Jeremy Renner': 3, 'Amy Ryan': 3, 'Henry Cavill': 3, 'Armie Hammer': 3, 'Kate Mara': 3, 'Jamie Bell': 3, 'Toby Kebbell': 3, 'Garrett Hedlund': 3, 'Andy Samberg': 3, 'Rachel McAdams': 3, 'Marion Cotillard': 3, 'Charlie Hunnam': 3, 'Casey Affleck': 3, 'Zoe Saldana': 3, 'Robert Redford': 3, 'Martin Freeman': 3, 'Richard Armitage': 3, 'Neil Patrick Harris': 3, 'James McAvoy': 3, 'Li Bingbing': 3, 'Colm Feore': 3, 'Sienna Miller': 3, 'Ken Watanabe': 3, 'Elle Fanning': 3, 'Sharlto Copley': 3, 'Luke Evans': 3, 'Dominic Cooper': 3, 'John Hurt': 3, 'Rufus Sewell': 3, 'Abbie Cornish': 3, 'Jesse Eisenberg': 3, 'Leslie Mann': 3, 'Andy GarcÃ\\xada': 3, 'Emily Browning': 3, 'Miranda Otto': 3, 'William Hurt': 3, 'Stephen Lang': 3, 'Christopher Plummer': 3, 'Malin Ã…kerman': 3, 'Amanda Peet': 3, 'Stellan SkarsgÃ¥rd': 3, 'Dennis Quaid': 3, 'Dakota Fanning': 3, 'Kristen Bell': 3, 'Kiefer Sutherland': 3, 'Robin Wright': 3, 'Josh Duhamel': 3, 'Meryl Streep': 3, 'Olivia Wilde': 3, 'Freddie Highmore': 3, 'Jordana Brewster': 3, 'Radha Mitchell': 3, 'Liev Schreiber': 3, 'Danny Huston': 3, 'Hugh Grant': 3, 'Sarah Jessica Parker': 3, 'Mary Steenburgen': 3, 'Russell Brand': 3, 'Emily Mortimer': 3, 'Skandar Keynes': 3, 'Georgie Henley': 3, 'Jason Flemyng': 3, 'Mary Elizabeth Winstead': 3, 'Brandon T. Jackson': 3, 'Mary-Louise Parker': 3, 'Maria Bello': 3, 'Robert Pattinson': 3, 'Taylor Lautner': 3, 'Greg Kinnear': 3, 'Kristin Davis': 3, 'Chris Noth': 3, 'James Marsden': 3, 'Dan Aykroyd': 3, 'Milla Jovovich': 3, 'Cuba Gooding Jr.': 3, 'Michael Clarke Duncan': 3, 'James Gandolfini': 3, 'Laurence Fishburne': 3, 'Billy Bob Thornton': 3, 'Teri Polo': 3, 'Lucy Liu': 3, 'Jada Pinkett Smith': 3, 'David Schwimmer': 3, 'Jeffrey Tambor': 3, 'Thomas Kretschmann': 3, 'Kenneth Branagh': 3, 'Cliff Curtis': 3, 'Michael Chiklis': 3, 'Jaden Smith': 3, 'Sienna Guillory': 3, 'Al Pacino': 3, 'Spencer Breslin': 3, 'Paula Patton': 3, 'Tim Robbins': 3, 'Justin Bartha': 3, 'Ken Jeong': 3, 'Jane Lynch': 3, 'Isla Fisher': 3, 'CiarÃ¡n Hinds': 3, 'Lily Collins': 3, 'Kevin Bacon': 3, 'Ray Romano': 3, 'Chris Cooper': 3, 'Emma Thompson': 3, 'William Shatner': 3, 'Cole Hauser': 3, 'Randy Quaid': 3, 'Harvey Keitel': 3, 'Scott Glenn': 3, 'David Oyelowo': 3, 'Michelle Pfeiffer': 3, 'David Spade': 3, 'Marisa Tomei': 3, 'Josh Lucas': 3, 'David Thewlis': 3, 'Connie Nielsen': 3, 'Bruce McGill': 3, 'Shirley MacLaine': 3, 'Hiroyuki Sanada': 3, 'Sean Penn': 3, 'Richard Roxburgh': 3, 'Val Kilmer': 3, 'Emmy Rossum': 3, 'Miranda Richardson': 3, 'Chris Pratt': 2, 'Irrfan Khan': 2, 'Nicholas Hoult': 2, 'Shailene Woodley': 2, 'Domhnall Gleeson': 2, 'J.K. Simmons': 2, 'Jeff Daniels': 2, 'Allison Janney': 2, 'Steve Coogan': 2, 'Amy Poehler': 2, 'LÃ©a Seydoux': 2, 'Evangeline Lilly': 2, 'Corey Stoll': 2, 'Colin Firth': 2, 'Giancarlo Esposito': 2, 'Alicia Vikander': 2, 'Elizabeth Debicki': 2, 'Rihanna': 2, 'Jennifer Lopez': 2, 'Edgar RamÃ\\xadrez': 2, 'Teresa Palmer': 2, 'Viola Davis': 2, 'Benjamin Walker': 2, 'Ben Whishaw': 2, 'Rooney Mara': 2, 'Selena Gomez': 2, 'Mia Wasikowska': 2, 'Sebastian Stan': 2, 'Ken Stott': 2, 'Graham McTavish': 2, 'Jamie Chung': 2, 'Rami Malek': 2, 'Ray Stevenson': 2, 'Nicola Peltz': 2, 'Keri Russell': 2, 'ChloÃ« Grace Moretz': 2, 'Andrew Garfield': 2, 'Emily Blunt': 2, 'Aaron Paul': 2, 'Ben Barnes': 2, 'Kit Harington': 2, 'Lena Headey': 2, 'Joel Kinnaman': 2, 'Jackie Earle Haley': 2, 'Adewale Akinnuoye-Agbaje': 2, 'RamÃ³n RodrÃ\\xadguez': 2, 'Yvonne Strahovski': 2, 'Kellan Lutz': 2, 'Sigourney Weaver': 2, 'MÃ©lanie Laurent': 2, 'Julie Walters': 2, 'Zachary Quinto': 2, 'Anton Yelchin': 2, 'Eddie Marsan': 2, 'Jeffrey Dean Morgan': 2, 'John Cusack': 2, 'Oliver Platt': 2, 'Keith David': 2, 'Marlon Wayans': 2, 'James Caan': 2, 'Saoirse Ronan': 2, 'Sam Rockwell': 2, 'Tracy Morgan': 2, 'Zachary Levi': 2, 'Mary Kay Place': 2, 'Michael Cera': 2, 'Oscar Isaac': 2, 'Lynn Collins': 2, 'Jason Segel': 2, 'Dolph Lundgren': 2, 'Michelle Williams': 2, 'Mandy Moore': 2, 'Tim Allen': 2, 'Ned Beatty': 2, 'Joan Cusack': 2, 'Timothy Dalton': 2, 'Gemma Arterton': 2, 'Anna Kendrick': 2, 'Barbra Streisand': 2, 'Helen Mirren': 2, 'Tina Fey': 2, 'Ashley Greene': 2, 'Jordi MollÃ\\xa0': 2, 'Javier Bardem': 2, 'Katherine Heigl': 2, 'Tom Selleck': 2, 'Cynthia Nixon': 2, 'Kim Cattrall': 2, 'Essie Davis': 2, 'Eric Dane': 2, 'Cam Gigandet': 2, 'Julianne Hough': 2, 'Stephanie Szostak': 2, 'Bette Midler': 2, 'Carey Mulligan': 2, 'Justin Timberlake': 2, 'John Cleese': 2, 'Billy Crystal': 2, \"Frances O'Connor\": 2, 'John Lithgow': 2, 'Josh Hartnett': 2, 'John Hannah': 2, 'Arnold Vosloo': 2, 'Michael J. Fox': 2, 'James Garner': 2, 'Noah Taylor': 2, 'Tim Roth': 2, 'Kris Kristofferson': 2, 'Tom Sizemore': 2, 'Chris Tucker': 2, 'Zhang Ziyi': 2, 'Ernie Reyes, Jr.': 2, 'Elizabeth Perkins': 2, 'Sam Shepard': 2, 'Dylan Baker': 2, 'Gene Hackman': 2, 'Dominic West': 2, 'Edward Burns': 2, 'Martin Landau': 2, 'David Ogden Stiers': 2, 'Courteney Cox': 2, 'David Hyde Pierce': 2, 'Til Schweiger': 2, 'David Andrews': 2, 'William H. Macy': 2, 'Jeff Garlin': 2, 'Olga Kurylenko': 2, 'Jet Li': 2, 'Selma Blair': 2, 'Michael Rooker': 2, 'William Moseley': 2, 'Anna Popplewell': 2, 'Kathy Bates': 2, 'Michael Ealy': 2, 'Malcolm McDowell': 2, 'Alan Arkin': 2, 'Ali Suliman': 2, 'Adam Scott': 2, 'Kate Hudson': 2, 'Ewen Bremner': 2, 'Lambert Wilson': 2, 'Charlotte Rampling': 2, 'Robert Duvall': 2, 'Christina Ricci': 2, 'Matthew Fox': 2, 'Gabriel Macht': 2, 'Paz Vega': 2, 'Kevin Kline': 2, 'Gabrielle Union': 2, 'Goran Visnjic': 2, 'Bailee Madison': 2, 'Noomi Rapace': 2, 'Larry the Cable Guy': 2, 'Eddie Izzard': 2, 'Vanessa Hudgens': 2, 'Emily Watson': 2, 'Asa Butterfield': 2, 'Dominic Purcell': 2, 'Maggie Q': 2, 'Isabel Lucas': 2, 'Katie Holmes': 2, 'Amy Sedaris': 2, 'Jason Momoa': 2, 'Lea Michele': 2, 'Johnny A. Sanchez': 2, 'Seth Green': 2, 'Queen Latifah': 2, 'Richard Harris': 2, 'Franka Potente': 2, 'Ian McDiarmid': 2, 'Max von Sydow': 2, 'Abigail Breslin': 2, 'Elias Koteas': 2, 'Liam Aiken': 2, 'Paul Newman': 2, 'BeyoncÃ© Knowles': 2, 'Mark Addy': 2, 'Adam Beach': 2, 'Izabella Scorupco': 2, 'Naomie Harris': 2, 'Idris Elba': 2, 'Martin Sheen': 2, 'Kevin McKidd': 2, 'Jim Broadbent': 2, 'Jim Sturgess': 2, 'Jonny Lee Miller': 2, 'Timothy Spall': 2, 'Taylor Kitsch': 2, 'Tadanobu Asano': 2, 'Nathan Lane': 2, 'Jack Davenport': 2, 'Claire Danes': 2, 'Jennifer Garner': 2, 'Martin Lawrence': 2, 'TchÃ©ky Karyo': 2, 'Bernie Mac': 2, 'Robert Patrick': 2, 'Steve Zahn': 2, 'Timothy Olyphant': 2, 'Diane Lane': 2, 'Jodie Foster': 2, 'Alice Braga': 2, 'Diego Luna': 2, 'James Badge Dale': 2, 'Patton Oswalt': 2, 'Cloris Leachman': 2, 'Max Martini': 2, 'Maggie Gyllenhaal': 2, 'Sung Kang': 2, 'Sophie Okonedo': 2, 'Zach Braff': 2, 'Jim Belushi': 2, 'AnnaSophia Robb': 2, 'Julian McMahon': 2, 'Lauren Graham': 2, 'Gong Li': 2, 'Amber Valletta': 2, 'Jeremy Irons': 2, 'Adrien Brody': 2, 'Lucas Black': 2, 'Donal Logue': 2, 'Paddy Considine': 2, 'Bonnie Hunt': 2, 'Yvan Attal': 2, 'Mads Mikkelsen': 2, 'Jean Reno': 2, 'Philip Seymour Hoffman': 2, 'Jonathan Rhys Meyers': 2, 'David Strathairn': 2, 'Sharon Stone': 2, 'Jacinda Barrett': 2, 'Gary Sinise': 2, 'Danny Glover': 2, 'Julia Stiles': 2, 'Diane Kruger': 2, 'Chi McBride': 2, 'Jane Krakowski': 2, 'Glenn Close': 2, 'Patrick Warburton': 2, 'John Michael Higgins': 2, 'Helen Hunt': 2, \"Vincent D'Onofrio\": 1, 'Nick Robinson': 1, 'Hugh Keays-Byrne': 1, 'Josh Helman': 1, 'Ansel Elgort': 1, 'Mark Hamill': 1, 'Carrie Fisher': 1, 'Adam Driver': 1, 'Daisy Ridley': 1, 'Will Poulter': 1, 'Paul Anderson': 1, 'Emilia Clarke': 1, 'Jon Hamm': 1, 'Phyllis Smith': 1, 'Richard Kind': 1, 'Lewis Black': 1, 'Eddie Redmayne': 1, 'Douglas Booth': 1, 'Peter Dinklage': 1, 'Lily James': 1, 'Richard Madden': 1, 'Holliday Grainger': 1, 'Britt Robertson': 1, 'Raffey Cassidy': 1, 'Thomas Robinson': 1, 'Archie Panjabi': 1, 'Rebecca Ferguson': 1, 'Seth MacFarlane': 1, 'Jessica Barth': 1, 'Taron Egerton': 1, \"Dylan O'Brien\": 1, 'Kaya Scodelario': 1, 'Thomas Brodie-Sangster': 1, 'Aidan Gillen': 1, 'Dylan Minnette': 1, 'Odeya Rush': 1, 'Jillian Bell': 1, 'Raymond Ochoa': 1, 'Jack Bright': 1, 'Maleah Nipay-Padilla': 1, 'Rose Leslie': 1, 'Ã“lafur Darri Ã“lafsson': 1, 'Luca Calvani': 1, 'Jim Parsons': 1, 'Matt Jones': 1, 'John Hawkes': 1, 'Luke Bracey': 1, 'Olivia Munn': 1, 'Leehom Wang': 1, 'Tang Wei': 1, 'Holt McCallany': 1, 'Michael B. Jordan': 1, 'Melissa McCarthy': 1, 'Miranda Hart': 1, 'Cillian Murphy': 1, 'Levi Miller': 1, 'Noah Schnapp': 1, 'Bill Melendez': 1, 'Venus Schultheis': 1, 'Hadley Belle Miller': 1, 'Madisyn Shipman': 1, 'Jim Beaver': 1, 'Tom Kenny': 1, 'Bill Fagerbakke': 1, 'Rodger Bumpass': 1, 'Clancy Brown': 1, 'Carolyn Lawrence': 1, 'Dave Bautista': 1, 'Scott Adsit': 1, 'Ryan Potter': 1, 'Daniel Henney': 1, 'T.J. Miller': 1, 'Carrie Coon': 1, 'Tyler Perry': 1, 'Jon Bernthal': 1, 'Rebel Wilson': 1, 'Alan Ritchson': 1, 'Noel Fisher': 1, 'Jack Reynor': 1, 'Judy Greer': 1, 'David Harbour': 1, 'Haley Bennett': 1, 'Dane DeHaan': 1, 'Jonas Armstrong': 1, 'Kyle Gallner': 1, 'Cole Konis': 1, 'Ben Reed': 1, 'Ben Mendelsohn': 1, 'Aaron Taylor-Johnson': 1, 'Elizabeth Olsen': 1, 'Juliette Binoche': 1, 'Juno Temple': 1, 'Isobelle Molloy': 1, 'Craig Berry': 1, 'Alison Brie': 1, 'David Burrows': 1, 'Sarah Gadon': 1, 'Art Parkinson': 1, 'Charles Dance': 1, 'Tom McGrath': 1, 'Chris Miller': 1, 'Christopher Knights': 1, 'Conrad Vernon': 1, 'Sullivan Stapleton': 1, 'Callan Mulvey': 1, 'Peter Capaldi': 1, 'Imelda Staunton': 1, 'Aksel Hennie': 1, 'Nonso Anozie': 1, 'Gemma Chan': 1, 'Rebecca Hall': 1, 'Ty Burrell': 1, 'Max Charles': 1, 'Ariel Winter': 1, 'Ellie Kemper': 1, \"Jack O'Connell\": 1, 'Takamasa Ishihara': 1, 'Finn Wittrock': 1, 'Jessica Lucas': 1, 'QuvenzhanÃ© Wallis': 1, 'Imogen Poots': 1, 'Isaac Hempstead Wright': 1, 'Dee Bradley Baker': 1, 'Steve Blum': 1, 'Jessica Brown Findlay': 1, 'Liam McIntyre': 1, 'Gaia Weiss': 1, 'Scott Adkins': 1, 'Roxanne McKee': 1, 'Eli Roth': 1, 'Tom Felton': 1, 'Ed Asner': 1, 'Jordan Nagai': 1, 'Bob Peterson': 1, 'Leonard Nimoy': 1, 'Moon Bloodgood': 1, 'Ayelet Zurer': 1, 'Pierfrancesco Favino': 1, 'Anika Noni Rose': 1, 'Bruno Campos': 1, 'Michael-Leon Wooley': 1, 'Jennifer Cody': 1, 'Mr. T': 1, 'Teri Hatcher': 1, 'Jennifer Saunders': 1, 'Dawn French': 1, 'Steve Valentine': 1, 'Daryl Sabara': 1, 'Sage Ryan': 1, 'Victor Gojcaj': 1, 'Matthew Gray Gubler': 1, 'Rainn Wilson': 1, 'Lake Bell': 1, 'Anna Friel': 1, 'Danny McBride': 1, 'Jorma Taccone': 1, 'Matt Lauer': 1, 'Tony Kgoroge': 1, 'Patrick Mofokeng': 1, 'Matt Stern': 1, 'Max Minghella': 1, 'Ashraf Barhom': 1, 'Michael Lonsdale': 1, 'John Ortiz': 1, 'Tom Wilkinson': 1, 'Lisa Roberts Gillan': 1, 'Nelsan Ellis': 1, 'Michael Bunin': 1, 'Natalia Klimas': 1, 'Ellen Page': 1, 'Crispin Glover': 1, 'Eric Roberts': 1, 'Randy Couture': 1, 'Craig Ferguson': 1, 'America Ferrera': 1, 'Bruce Boxleitner': 1, 'Yaya DaCosta': 1, 'Donna Murphy': 1, 'M.C. Gainey': 1, 'Daniel Olbrychski': 1, 'Gary Sweet': 1, 'Arthur Angel': 1, 'Steven Berkoff': 1, 'Steve Toussaint': 1, 'Kieran Culkin': 1, 'Jake Abel': 1, 'Ethan Suplee': 1, 'Kevin Corrigan': 1, 'Maya Rudolph': 1, 'Jennifer Beals': 1, 'Taraji P. Henson': 1, 'Jimmi Simpson': 1, 'Noah Ringer': 1, 'Jackson Rathbone': 1, 'Dev Patel': 1, 'Shaun Toub': 1, \"Chris O'Dowd\": 1, 'Juliette Lewis': 1, \"Catherine O'Hara\": 1, 'Alex Borstein': 1, 'Emily Barclay': 1, 'Deborra-Lee Furness': 1, 'Cher': 1, 'Christina Aguilera': 1, 'Jemaine Clement': 1, 'Christina Applegate': 1, 'Pascale Hutton': 1, 'Kathryn Hahn': 1, 'Frank Langella': 1, 'Tom Cavanagh': 1, 'Christine Taylor': 1, 'Shawn Roberts': 1, \"Denis O'Hare\": 1, 'Kate Bosworth': 1, 'Jang Dong-gun': 1, 'Ti Lung': 1, 'Wentworth Miller': 1, 'Ali Larter': 1, 'Kim Coates': 1, 'Kacey Barnfield': 1, 'Robbie Coltrane': 1, 'Mary Gibbs': 1, 'James Coburn': 1, 'Haley Joel Osment': 1, 'Sam Robards': 1, 'Jake Thomas': 1, 'Vincent Cassel': 1, 'Oded Fehr': 1, 'Corey Burton': 1, 'Claudia Christian': 1, 'John Mahoney': 1, 'Iain Glen': 1, 'Joseph Fiennes': 1, 'Bob Hoskins': 1, 'Shannyn Sossamon': 1, 'Laura Fraser': 1, 'Roselyn SÃ¡nchez': 1, 'Jeff Goldblum': 1, 'Alexander Pollock': 1, 'Miriam Margolyes': 1, 'Catherine McCormack': 1, 'Stephen Dillane': 1, 'Larry Bryggman': 1, 'Ming-Na Wen': 1, 'Kristen Wilson': 1, 'Raven-SymonÃ©': 1, 'Kyla Pratt': 1, 'Steve Burton': 1, 'Monica Potter': 1, 'Michael Wincott': 1, 'Mika Boorem': 1, 'Jason Bonham': 1, 'Kelsey Grammer': 1, 'Avery Brooks': 1, 'David Duchovny': 1, 'Orlando Jones': 1, 'Ted Levine': 1, 'Mario Van Peebles': 1, 'Ron Silver': 1, 'Marlon Brando': 1, 'Paul Soles': 1, 'Laurie Holden': 1, 'Hal Holbrook': 1, 'Christian Slater': 1, 'Kevin Pollak': 1, 'Brandy Norwood': 1, 'Troy Garity': 1, 'William Converse-Roberts': 1, 'Kip Pardue': 1, 'Robert Sean Leonard': 1, 'Estella Warren': 1, 'Ray Liotta': 1, \"Matt O'Leary\": 1, 'Bridget Fonda': 1, 'Chris Kattan': 1, 'Sam Neill': 1, 'Trevor Morgan': 1, 'Alessandro Nivola': 1, 'Ben Burtt': 1, 'Elissa Knight': 1, 'Fred Willard': 1, 'John Ratzenberger': 1, 'Leslie Bibb': 1, 'Karen Allen': 1, 'Mathieu Amalric': 1, 'Giancarlo Giannini': 1, 'Tilda Swinton': 1, 'Julia Ormond': 1, 'Luke Ford': 1, 'Tim Blake Nelson': 1, 'Cedric the Entertainer': 1, 'Doug Jones': 1, 'Rachel Bilson': 1, 'Carice van Houten': 1, 'Steven Strait': 1, 'Camilla Belle': 1, 'Nathanael Baring': 1, 'Mo Zinal': 1, 'Jae Head': 1, 'Sarah Jane Morris': 1, 'Miley Cyrus': 1, 'Susie Essman': 1, 'Mark Walton': 1, 'Bryan Brown': 1, 'Rhys Darby': 1, 'Sasha Alexander': 1, 'Fionnula Flanagan': 1, 'Kathleen Turner': 1, 'Simon McBurney': 1, 'Eliza Bennett': 1, 'Alexis Dziena': 1, 'Lucy Lawless': 1, 'Michelle Yeoh': 1, 'MÃ©lanie Thierry': 1, 'Jeffrey Donovan': 1, 'Geoff Pierson': 1, 'Sarah Bolger': 1, 'Andrew McCarthy': 1, 'Dwight Yoakam': 1, 'Romany Malco': 1, 'Meagan Good': 1, 'Emile Hirsch': 1, 'Scott Porter': 1, 'Carol Burnett': 1, 'Michael Angarano': 1, 'Collin Chou': 1, '50 Cent': 1, 'Donnie Wahlberg': 1, 'Emmanuelle Chriqui': 1, 'Nick Swardson': 1, 'Lainie Kazan': 1, 'Harry Treadaway': 1, 'Betty Buckley': 1, 'Tracey Ullman': 1, 'Scott Caan': 1, 'Hayley Atwell': 1, 'Alan Rickman': 1, 'Maggie Smith': 1, 'Kevin McNally': 1, 'Karin Konoval': 1, 'Freida Pinto': 1, 'Anil Kapoor': 1, 'Griffin Gluck': 1, 'Dakota Goyo': 1, 'Kevin Durand': 1, 'Jared Harris': 1, 'Kelly Reilly': 1, 'Blake Lively': 1, 'Nick Frost': 1, 'Jena Malone': 1, 'Will.i.am': 1, 'Walton Goggins': 1, 'Benedict Cumberbatch': 1, 'Jeremy Irvine': 1, 'Violante Placido': 1, 'Fergus Riordan': 1, 'Johnny Whitworth': 1, 'Matthew Macfadyen': 1, 'Will Rothhaar': 1, 'Cory Hardrict': 1, 'Jim Parrack': 1, 'Eugenio Derbez': 1, 'Tim Meadows': 1, 'Jay Chou': 1, 'Edward Furlong': 1, 'Rose McGowan': 1, 'Rachel Nichols': 1, 'Alan Alda': 1, 'Pink': 1, 'E.G. Daily': 1, 'Dan Fogler': 1, 'Breckin Meyer': 1, 'Elisabeth Harnois': 1, 'Jenny Slate': 1, 'Andy Buckley': 1, 'Jayma Mays': 1, 'Alan Cumming': 1, 'Kaley Cuoco': 1, 'Winona Ryder': 1, 'Cliff Robertson': 1, 'Rip Torn': 1, 'Lara Flynn Boyle': 1, 'Johnny Knoxville': 1, 'Samantha Morton': 1, 'Lois Smith': 1, 'Chris Sanders': 1, 'Daveigh Chase': 1, 'Tia Carrere': 1, 'Kevin McDonald': 1, 'Asia Argento': 1, 'Michael Roof': 1, 'Roscoe Lee Browne': 1, 'Martin Short': 1, 'Pierce Brosnan': 1, 'Rick Yune': 1, 'Toby Stephens': 1, 'Natasha Richardson': 1, 'Tyler Posey': 1, 'Daniel Day-Lewis': 1, 'Geena Davis': 1, 'Jonathan Lipnicki': 1, 'Anna Hoelck': 1, 'Alicia Witt': 1, 'Dana Ivey': 1, 'Robert Klein': 1, 'Rory Culkin': 1, 'Cherry Jones': 1, 'Francesca Neri': 1, 'Jonathan Frakes': 1, 'LeVar Burton': 1, 'Brent Spiner': 1, 'Gates McFadden': 1, 'Tyler Hoechlin': 1, 'Jennifer Jason Leigh': 1, 'Michael York': 1, 'Mindy Sterling': 1, 'Elizabeth Mitchell': 1, 'David Krumholtz': 1, 'Eric Lloyd': 1, 'Freddie Prinze Jr.': 1, 'Sarah Michelle Gellar': 1, 'Matthew Lillard': 1, 'Linda Cardellini': 1, 'Rowan Atkinson': 1, 'Daniel Studi': 1, 'Chopper Bernet': 1, 'Jeff LeBeau': 1, 'Courtney B. Vance': 1, 'Tom Berenger': 1, 'Charles S. Dutton': 1, 'Kelly Hu': 1, 'Steven Brand': 1, 'Bernard Hill': 1, 'Keith Dallas': 1, 'Madeleine Stowe': 1, 'Chris Klein': 1, 'Samantha Mumba': 1, 'Phyllida Law': 1, 'Laura Kirk': 1, 'Noah Emmerich': 1, 'Joss Ackland': 1, 'John Shrapnel': 1, 'Alexander Siddig': 1, 'Rachael Harris': 1, 'Zaid Farid': 1, 'Marcel IureÈ™': 1, 'Joe Pantoliano': 1, 'Jay Mohr': 1, 'Joe Morton': 1, 'Ron Rifkin': 1, 'Susanna Thompson': 1, 'Stephen Rea': 1, 'India Eisley': 1, 'Stacy Keach': 1, 'Rhys Ifans': 1, 'Kelly Macdonald': 1, 'Sam Claflin': 1, 'Suraj Sharma': 1, 'Ayush Tandon': 1, 'Gautam Belur': 1, 'Adil Hussain': 1, 'Chris Wedge': 1, 'Werner Herzog': 1, 'Sarah Silverman': 1, 'Jack McBrayer': 1, 'Jamie Elman': 1, 'Michael Stuhlbarg': 1, 'James Kidnie': 1, 'Heidi Hawkins': 1, 'Zac Efron': 1, 'Danny DeVito': 1, 'Taylor Swift': 1, 'Rob Riggle': 1, 'Alexander SkarsgÃ¥rd': 1, 'Brooklyn Decker': 1, 'Martin Klebba': 1, 'Elizabeth Reaser': 1, 'Sayed Badreya': 1, 'Aasif Mandvi': 1, 'Diego Boneta': 1, 'Jeremy Piven': 1, 'Brian Blessed': 1, 'Eva Amurri Martino': 1, 'Leighton Meester': 1, 'Vera Farmiga': 1, 'Adrianne Palicki': 1, 'Kodi Smit-McPhee': 1, 'Tucker Albrizzi': 1, 'Jodelle Ferland': 1, 'Daniela Ruah': 1, 'Aryana Engineer': 1, 'Mary Alice': 1, 'Helmut Bakaitis': 1, 'Albert Brooks': 1, 'Ellen DeGeneres': 1, 'Alexander Gould': 1, 'Brad Garrett': 1, 'Philip Baker Hall': 1, 'Catherine Bell': 1, 'Lisa Ann Walter': 1, 'Nick Stahl': 1, 'Kristanna Loken': 1, 'Albert Finney': 1, 'Jessica Lange': 1, 'Jason Biggs': 1, 'Alyson Hannigan': 1, 'Eddie Kaye Thomas': 1, 'Thomas Ian Nicholas': 1, 'Sean Connery': 1, 'Peta Wilson': 1, 'Shane West': 1, 'Stuart Townsend': 1, 'Fausto Callegarini': 1, 'Jeremy Sumpter': 1, 'Rachel Hurd-Wood': 1, 'Richard Briers': 1, 'Olivia Williams': 1, 'William Atherton': 1, 'Chad Lindberg': 1, \"James D'Arcy\": 1, 'Billy Boyd': 1, 'Joseph Morgan': 1, 'January Jones': 1, 'Hilary Swank': 1, 'LL Cool J': 1, 'Josh Charles': 1, 'Eamonn Walker': 1, 'Johnny Messner': 1, 'Uma Thurman': 1, 'Diane Keaton': 1, 'Nathaniel Parker': 1, 'Marsha Thomason': 1, 'Jennifer Tilly': 1, 'Eileen Atkins': 1, 'Jenna Elfman': 1, 'Heather Locklear': 1, 'Ludacris': 1, 'Regina King': 1, 'Kevin Nealon': 1, 'David McCullough': 1, 'Thomas Jane': 1, 'Damian Lewis': 1, 'Edward Herrmann': 1, 'Benicio del Toro': 1, 'Leslie Stefanson': 1, 'John Finn': 1, 'Kevin Conway': 1, 'C. Thomas Howell': 1, 'Wen Yann Shih': 1, 'Seymour Cassel': 1, 'Idina Menzel': 1, 'Jonathan Groff': 1, 'Santino Fontana': 1, 'Orto Ignatiussen': 1, 'Phaldut Sharma': 1, 'Christopher Eccleston': 1, 'Margot Robbie': 1, 'Kyle Chandler': 1, 'Rob Reiner': 1, 'Charlie Day': 1, 'Burn Gorman': 1, 'Andrea Riseborough': 1, 'Nikolaj Coster-Waldau': 1, 'Michael Shannon': 1, 'Miranda Cosgrove': 1, 'Sebastian Koch': 1, 'Yuliya Snigir': 1, 'Joel Murray': 1, 'Mireille Enos': 1, 'Abigail Hargrove': 1, 'Sterling Jerins': 1, 'Hailee Steinfeld': 1, 'Fred Ward': 1, 'Douglas Smith': 1, 'Leven Rambin': 1, 'Kou Shibasaki': 1, 'Min Tanaka': 1, 'Jamie Campbell Bower': 1, 'Kevin Zegers': 1, 'Jemima West': 1, 'Robert Sheehan': 1, 'Jason Sudeikis': 1, 'Aziz Ansari': 1, 'Chris Mulkey': 1, 'Yul Vazquez': 1, 'Joey King': 1, 'Eleanor Tomlinson': 1, 'Sarah Shahi': 1, 'ZoÃ« Kravitz': 1, 'Glenn Morshower': 1, 'Ryan Gosling': 1, 'Will Forte': 1, 'Barry Pepper': 1, 'Charlie Rowe': 1, 'Angourie Rice': 1, 'Katy Perry': 1, 'Tao Okamoto': 1, 'Rila Fukushima': 1, 'Svetlana Khodchenkova': 1, 'George Takei': 1, 'Colm Meaney': 1, 'Hugh Dancy': 1, 'Tiya Sircar': 1, 'Julia Winter': 1, 'Max Baker': 1, 'Caroline Chikezie': 1, 'Faith Ford': 1, 'Chris Potter': 1, 'Brittany Snow': 1, 'Justin Chatwin': 1, 'Youki Kudoh': 1, 'Tsai Chin': 1, 'Suzuka Ohgo': 1, 'Garry Marshall': 1, 'Don Knotts': 1, 'Julie Ann Emery': 1, 'Naomi Watts': 1, 'Colin Hanks': 1, 'Mel Brooks': 1, 'Paula Abdul': 1, 'Ice Cube': 1, 'Scott Speedman': 1, 'Xzibit': 1, 'Adam Brody': 1, 'AdriÃ¡n Alonso Barona': 1, 'Julio Oscar Mechoso': 1, 'Nick Chinlund': 1, 'Scott MacDonald': 1, 'Dina Spybey-Waters': 1, 'Ben Shenkman': 1, 'Craig Bierko': 1, 'Jason Schwartzman': 1, 'Ben Daniels': 1, 'Deobia Oparei': 1, 'Eugene Levy': 1, 'Tom Welling': 1, 'Jonathan Bennett': 1, 'Jesper Christensen': 1, 'Mackenzie Crook': 1, 'Roger Ashton-Griffiths': 1, 'Mathieu Kassovitz': 1, 'Hanns Zischler': 1, 'Angie Harmon': 1, 'Kate Beahan': 1, 'Michael Irby': 1, 'Burt Reynolds': 1, 'Michael Irvin': 1, 'Nelly': 1, 'Heike Makatsch': 1, 'Armin Rohde': 1, 'Wilfried Hochholdinger': 1, 'Lennie James': 1, 'Robert Mammone': 1, 'James Carpinello': 1, 'Mark Consuelos': 1, 'Cheech Marin': 1, 'Audrey Tautou': 1, 'Eli Wallach': 1, 'Jake Cherry': 1, 'Dick Van Dyke': 1, 'David Hasselhoff': 1, 'Henry Winkler': 1, 'Garry Shandling': 1, 'Wanda Sykes': 1, 'Kagiso Kuypers': 1, 'Lombardo Boyar': 1, 'Carlos Alazraqui': 1, 'Jeffrey Garcia': 1, 'Janeane Garofalo': 1, 'Jim Caviezel': 1, 'Adam Goldberg': 1, 'Ed Speleers': 1, 'Robert Carlyle': 1, 'Ryan Newman': 1, 'Mitchel Musso': 1, 'Sam Lerner': 1, 'Spencer Locke': 1, 'Tammy Blanchard': 1, 'Luis Tosar': 1, 'Ryan Phillippe': 1, 'Jesse Bradford': 1, 'John Benjamin Hickey': 1, 'John Slattery': 1, 'Patricia Clarkson': 1, 'David Morrissey': 1, 'Stan Collymore': 1, 'Gary Cole': 1, 'Austin Crim': 1, 'Jake Johnson': 1, 'Brian Howe': 1, 'James Karen': 1, 'Richard Dreyfuss': 1, 'Shawn Wayans': 1, 'John Witherspoon': 1, 'Jay Hernandez': 1, 'Debra Messing': 1, 'Jennifer Hudson': 1, 'Sela Ward': 1, 'Melissa Sagemiller': 1, 'Omari Hardwick': 1, 'Brian Tee': 1, 'Nathalie Kelley': 1, 'Shad Moss': 1, 'Mos Def': 1, 'David Morse': 1, 'Jenna Stern': 1, 'David Zayas': 1, 'Eva Longoria': 1, 'Martin Donovan': 1, 'Ritchie Coster': 1, 'Scott Hazell': 1, 'Mac McDonald': 1, 'Philip Winchester': 1, 'Todd Boyce': 1, 'Bob Balaban': 1, 'Sarita Choudhury': 1, 'Cindy Cheung': 1, 'Craig T. Nelson': 1, 'Holly Hunter': 1, 'Dominique Louis': 1, 'Bridget Moynahan': 1, 'Alan Tudyk': 1, 'Rob Schneider': 1, 'Sean Astin': 1, 'Lusia Strus': 1, 'Shuler Hensley': 1, 'Rupert Evans': 1, 'Michael Jeter': 1, 'Eddie Deezen': 1, 'Chris Coppola': 1, 'Nona Gaye': 1, 'Dash Mihok': 1, 'Jay O. Sanders': 1, 'Peter Berg': 1, 'Wesley Snipes': 1, 'Bai Ling': 1, 'Sanaa Lathan': 1, 'Raoul Bova': 1, 'Colin Salmon': 1, 'Tommy Flanagan': 1, 'Jared Leto': 1, 'Rosemary Harris': 1, 'Marc Anthony': 1, 'Frances Conroy': 1, 'Christina Cox': 1, 'Shelbie Bruce': 1, 'Jason Patric': 1, 'Emilio EchevarrÃ\\xada': 1, 'Kimberly Elise': 1, 'Omar Epps': 1, 'RenÃ©e Taylor': 1, 'G. W. Bailey': 1, 'Zuleikha Robinson': 1, 'Omar Sharif': 1, 'Adam Alexi-Malle': 1, 'Louise Lombard': 1, 'Snoop Dogg': 1, 'Fred Williamson': 1, 'Minnie Driver': 1, 'CÃ©cile De France': 1, 'Robert Fyfe': 1, 'MaÃ¯ Anh Le': 1, 'Oanh Nguyen': 1, \"Jaran 'See Tao' Petcharoen\": 1, 'StÃ©phanie Lagarde': 1, 'Morris Chestnut': 1, 'Ian Holm': 1, 'Lou Romano': 1, 'Brian Dennehy': 1, 'Peter Sohn': 1, 'Charlie Tahan': 1, 'Salli Richardson-Whitfield': 1, 'Willow Smith': 1, 'Thomas Haden Church': 1, 'Topher Grace': 1, 'Charlie Cox': 1, 'Vincent Regan': 1, 'Wes Bentley': 1, 'Kate Butler': 1, 'Lymari Nadal': 1, 'Cameron Richardson': 1, 'Jerry Seinfeld': 1, 'Laurie Metcalf': 1, 'Nicole Sullivan': 1, 'Harland Williams': 1, 'Patrick Dempsey': 1, 'Rachel Covey': 1, 'Anthony Edwards': 1, 'Dan Castellaneta': 1, 'Julie Kavner': 1, 'Nancy Cartwright': 1, 'Yeardley Smith': 1, 'Om Puri': 1, 'Dakota Blue Richards': 1, 'Dallas Roberts': 1, 'Peter Fonda': 1, 'Lena Olin': 1, 'Charlie Hewson': 1, 'Jimmy Bennett': 1, 'Tory Kittles': 1, 'Jerry Stiller': 1, 'Rob Corddry': 1, 'Jon Heder': 1, 'James Woods': 1, 'ZoÃ« Bell': 1, 'Vanessa Ferlito': 1, 'Sydney Tamiia Poitier': 1, 'Rachael Taylor': 1, 'Jeremy Northam': 1, 'Jackson Bond': 1, 'Richard Portnow': 1, 'Gary Dourdan': 1, 'Terry Crews': 1, 'Clifton Powell': 1, 'Lester Speight': 1, 'Aishwarya Rai Bachchan': 1, 'Peter Mullan': 1, 'Oliver Reed': 1, 'Taylor Momsen': 1, 'Christine Baranski': 1, 'Bill Irwin': 1, 'Paul Sanchez': 1, 'Lari White': 1, 'Dougray Scott': 1, 'Eartha Kitt': 1, 'Wendie Malick': 1, 'Lauren Holly': 1, 'Mark Feuerstein': 1, 'D. B. Sweeney': 1, 'Alfre Woodard': 1, 'Ossie Davis': 1, 'Max Casella': 1, 'Hayden Panettiere': 1, 'John Forsythe': 1, 'Joely Richardson': 1, 'Jon Bon Jovi': 1, 'David Keith': 1, 'Will Patton': 1, 'Blythe Danner': 1, 'Rosie Perez': 1, 'Armand Assante': 1, 'Edward James Olmos': 1, 'Elisabeth Shue': 1, 'Kim Dickens': 1, 'Rhona Mitra': 1, 'Joel Gretsch': 1, 'Saul Rubinek': 1, 'Michael Rapaport': 1, 'Tony Goldwyn': 1, 'Sarah Wynter': 1, 'Spencer Treat Clark': 1, 'John Patrick Amedori': 1, 'Clint Eastwood': 1, 'Patrick Fugit': 1, 'Simon Baker': 1, \"Jerry O'Connell\": 1, 'Rachael Leigh Cook': 1, 'Johnny Strong': 1, 'Stephen Baldwin': 1, 'Kristen Johnston': 1, 'Joan Collins': 1, 'Steven Culp': 1, 'Shawn Driscoll': 1, 'Bill Pullman': 1, \"Chris O'Donnell\": 1, 'Robin Tunney': 1, 'Diana Scarwid': 1, 'James Remar': 1, 'Alice Evans': 1, 'Tim McInnerny': 1, 'GÃ©rard Depardieu': 1, 'Janet Jackson': 1, 'Larry Miller': 1, 'John Ales': 1, 'Richard Gant': 1, 'James Spader': 1, 'Robert Forster': 1, 'Lou Diamond Phillips': 1, 'Lily Tomlin': 1, 'Rene Russo': 1, 'Jason Alexander': 1, 'Piper Perabo': 1})\n"
     ]
    }
   ],
   "source": [
    "data = pd.read_csv('data.csv') \n",
    "data['cast'] = data['cast'].apply(lambda x: x.split('|'))\n",
    "import collections\n",
    "c = collections.Counter()\n",
    "for i in range(0, len(data)):\n",
    "    for actor in data['cast'].iloc[i]:\n",
    "        if data['budget'].iloc[i]>data['budget'].mean():\n",
    "            c[actor] += 1\n",
    "print (c)\n"
   ]
  },
  {
   "cell_type": "code",
   "execution_count": 40,
   "metadata": {},
   "outputs": [],
   "source": [
    "answer_ls.append(3)"
   ]
  },
  {
   "cell_type": "markdown",
   "metadata": {},
   "source": [
    "# 19. В фильмах какого жанра больше всего снимался Nicolas Cage?  \n",
    "Варианты ответа:\n",
    "1. Drama\n",
    "2. Action\n",
    "3. Thriller\n",
    "4. Adventure\n",
    "5. Crime"
   ]
  },
  {
   "cell_type": "code",
   "execution_count": 41,
   "metadata": {},
   "outputs": [
    {
     "name": "stdout",
     "output_type": "stream",
     "text": [
      "Counter({'Action': 17, 'Thriller': 15, 'Drama': 12, 'Crime': 10, 'Fantasy': 8, 'Adventure': 7, 'Comedy': 6, 'Science Fiction': 4, 'Mystery': 3, 'Animation': 3, 'Family': 3, 'History': 2, 'War': 1, 'Horror': 1, 'Romance': 1})\n"
     ]
    }
   ],
   "source": [
    "data = pd.read_csv('data.csv') \n",
    "data['cast'] = data['cast'].apply(lambda x: x.split('|'))\n",
    "data['genres'] = data['genres'].apply(lambda x: x.split('|'))\n",
    "import collections\n",
    "c = collections.Counter()\n",
    "for i in range(0, len(data)):\n",
    "    for genre in data['genres'].iloc[i]:\n",
    "        if 'Nicolas Cage' in data['cast'].iloc[i]:\n",
    "            c[genre] += 1\n",
    "print (c)\n"
   ]
  },
  {
   "cell_type": "code",
   "execution_count": 42,
   "metadata": {
    "scrolled": true
   },
   "outputs": [
    {
     "data": {
      "text/plain": [
       "Samuel L. Jackson         27\n",
       "Nicolas Cage              27\n",
       "Matt Damon                26\n",
       "Robert De Niro            26\n",
       "Bruce Willis              25\n",
       "                          ..\n",
       "Natalie Imbruglia          1\n",
       "Jay Tavare                 1\n",
       "Christopher Evan Welch     1\n",
       "Emma Rigby                 1\n",
       "Kevin Rahm                 1\n",
       "Length: 3408, dtype: int64"
      ]
     },
     "execution_count": 42,
     "metadata": {},
     "output_type": "execute_result"
    }
   ],
   "source": [
    "data = pd.read_csv('data.csv')\n",
    "pd.DataFrame(data.genres.str.split('|').tolist()).stack().value_counts()\n",
    "pd.DataFrame(data.cast.str.split('|').tolist()).stack().value_counts()\n"
   ]
  },
  {
   "cell_type": "code",
   "execution_count": 43,
   "metadata": {},
   "outputs": [],
   "source": [
    "answer_ls.append(2)"
   ]
  },
  {
   "cell_type": "markdown",
   "metadata": {},
   "source": [
    "# 20. Какая студия сняла больше всего фильмов?\n",
    "Варианты ответа:\n",
    "1. Universal Pictures (Universal)\n",
    "2. Paramount Pictures\n",
    "3. Columbia Pictures\n",
    "4. Warner Bros\n",
    "5. Twentieth Century Fox Film Corporation"
   ]
  },
  {
   "cell_type": "code",
   "execution_count": 44,
   "metadata": {},
   "outputs": [
    {
     "name": "stdout",
     "output_type": "stream",
     "text": [
      "Counter({'Universal Pictures': 173, 'Warner Bros.': 168, 'Paramount Pictures': 122, 'Columbia Pictures': 117, 'Twentieth Century Fox Film Corporation': 109, 'Relativity Media': 99, 'New Line Cinema': 88, 'Walt Disney Pictures': 82, 'Village Roadshow Pictures': 63, 'DreamWorks SKG': 62, 'Touchstone Pictures': 58, 'Regency Enterprises': 49, 'Metro-Goldwyn-Mayer (MGM)': 48, 'Columbia Pictures Corporation': 47, 'Dune Entertainment': 44, 'Summit Entertainment': 41, 'Miramax Films': 39, 'Dimension Films': 37, 'Lionsgate': 35, 'Fox 2000 Pictures': 35, 'Legendary Pictures': 34, 'Spyglass Entertainment': 32, 'Screen Gems': 31, 'Revolution Studios': 30, 'Original Film': 29, 'New Regency Pictures': 28, 'The Weinstein Company': 28, 'Working Title Films': 27, 'DreamWorks Animation': 26, 'Imagine Entertainment': 25, 'Scott Free Productions': 24, 'Lakeshore Entertainment': 24, 'Scott Rudin Productions': 24, 'Fox Searchlight Pictures': 24, 'Epsilon Motion Pictures': 24, 'Amblin Entertainment': 23, 'Happy Madison Productions': 23, 'StudioCanal': 23, 'Canal+': 22, 'Focus Features': 21, 'Studio Babelsberg': 20, 'NPV Entertainment': 20, 'Apatow Productions': 19, 'Ingenious Film Partners': 19, 'Jerry Bruckheimer Films': 19, 'Lions Gate Films': 19, 'Davis Entertainment': 18, 'EuropaCorp': 17, 'TriStar Pictures': 17, 'Silver Pictures': 17, 'Millennium Films': 17, '20th Century Fox': 17, 'UK Film Council': 17, 'Dune Entertainment III': 17, 'Vertigo Entertainment': 16, 'Walden Media': 16, 'BBC Films': 16, 'TSG Entertainment': 15, 'Participant Media': 15, 'Alcon Entertainment': 15, 'Castle Rock Entertainment': 15, 'Media Rights Capital': 14, 'Nickelodeon Movies': 14, 'Di Bonaventura Pictures': 14, 'Pixar Animation Studios': 13, 'Film4': 13, 'Escape Artists': 13, '1492 Pictures': 13, 'Marvel Enterprises': 13, 'Saturn Films': 13, 'Warner Bros. Pictures': 13, 'Franchise Pictures': 13, 'Dentsu': 12, 'Marvel Studios': 12, 'MTV Films': 12, 'Platinum Dunes': 12, 'Malpaso Productions': 12, 'Heyday Films': 12, 'Imagenation Abu Dhabi FZ': 12, 'Dark Castle Entertainment': 12, 'Intermedia Films': 12, 'Morgan Creek Productions': 12, 'Anonymous Content': 11, 'Endgame Entertainment': 11, 'Moving Picture Company (MPC)': 11, 'Blumhouse Productions': 11, 'Ingenious Media': 11, 'TF1 Films Production': 11, 'Nu Image Films': 11, 'Tim Burton Productions': 11, 'Scion Films': 11, 'Studio Canal': 11, 'GK Films': 11, 'DNA Films': 10, 'Double Feature Films': 10, 'Plan B Entertainment': 10, 'Open Road Films': 10, 'Marc Platt Productions': 10, 'Twentieth Century Fox Animation': 10, 'CBS Films': 10, 'Sunswept Entertainment': 10, 'WingNut Films': 10, 'Walt Disney Animation Studios': 10, 'Davis-Films': 10, 'Overbrook Entertainment': 10, 'Constantin Film Produktion': 10, 'Paramount Vantage': 10, 'Mosaic Media Group': 10, 'Robert Simonds Productions': 10, 'Cruise/Wagner Productions': 10, 'Bad Robot': 9, 'Appian Way': 9, 'Skydance Productions': 9, 'Blue Sky Studios': 9, 'Sony Pictures Animation': 9, 'Ghost House Pictures': 9, '21 Laps Entertainment': 9, \"Donners' Company\": 9, 'DC Comics': 9, 'Exclusive Media Group': 9, 'Impact Pictures': 9, 'Emmett/Furla Films': 9, 'Radar Pictures': 9, 'Mandate Pictures': 9, 'Rogue Pictures': 9, 'De Line Pictures': 9, 'Phoenix Pictures': 9, 'United Artists': 9, 'Color Force': 8, 'Temple Hill Entertainment': 8, 'Sony Pictures Entertainment (SPE)': 8, 'RatPac-Dune Entertainment': 8, 'Sidney Kimmel Entertainment': 8, 'Thunder Road Pictures': 8, 'BenderSpink': 8, 'Blinding Edge Pictures': 8, 'Syncopy': 8, 'Reliance Entertainment': 8, 'Section Eight': 8, 'Kennedy/Marshall Company, The': 8, 'Cheyenne Enterprises': 8, 'Stillking Films': 8, 'Atmosphere Entertainment MM': 7, 'Cross Creek Pictures': 7, 'Chernin Entertainment': 7, 'Roth Films': 7, 'ImageMovers': 7, 'Gary Sanchez Productions': 7, 'IM Global': 7, 'Troublemaker Studios': 7, 'FilmDistrict': 7, 'Annapurna Pictures': 7, 'Weed Road Pictures': 7, 'Mandalay Pictures': 7, 'Goldcrest Pictures': 7, 'Stuber Productions': 7, 'Walt Disney Feature Animation': 7, 'Canal Plus': 7, 'Virtual Studios': 7, 'Contrafilm': 7, 'DreamWorks Pictures': 7, 'Universal Studios': 6, 'Mandeville Films': 6, 'Red Wagon Entertainment': 6, 'Michael De Luca Productions': 6, 'Gold Circle Films': 6, 'Forward Pass': 6, 'Marvel Entertainment': 6, 'Spring Creek Productions': 6, 'LStar Capital': 6, 'PathÃ©': 6, 'QED International': 6, 'Province of British Columbia Production Services Tax Credit': 6, 'Jersey Films': 6, 'Offspring Entertainment': 6, 'Conundrum Entertainment': 6, 'Nick Wechsler Productions': 6, 'Lawrence Gordon Productions': 6, 'Centropolis Entertainment': 6, '2929 Productions': 6, 'Twisted Pictures': 6, 'Atlas Entertainment': 6, 'The Zanuck Company': 6, 'Firm Films': 6, 'River Road Entertainment': 6, 'France 2 CinÃ©ma': 6, 'Pacific Data Images (PDI)': 6, 'Alphaville Films': 6, 'Zide-Perry Productions': 6, 'Current Entertainment': 6, 'Tribeca Productions': 6, \"Mel's Cite du Cinema\": 6, 'Valhalla Motion Pictures': 6, 'Rising Star': 6, 'Big Screen Productions': 6, 'Beacon Pictures': 6, 'Major Studio Partners': 6, 'Mid Atlantic Films': 5, 'Illumination Entertainment': 5, 'Anarchos Productions': 5, 'Marv Films': 5, 'Bazelevs Production': 5, '3 Arts Entertainment': 5, 'Mad Chance': 5, 'Sony Pictures': 5, 'Good Universe': 5, 'Wonderland Sound and Vision': 5, 'Infinitum Nihil': 5, 'Gran Via Productions': 5, 'Vinyl Films': 5, 'Smokehouse Pictures': 5, 'Bad Hat Harry Productions': 5, 'Hasbro': 5, 'Indian Paintbrush': 5, 'Lin Pictures': 5, 'Warner Bros. Animation': 5, '1984 Private Defense Contractors': 5, 'FilmNation Entertainment': 5, 'Karz Entertainment': 5, 'Rainforest Films': 5, 'Strike Entertainment': 5, 'Broken Road Productions': 5, 'Green Hat Films': 5, 'Maverick Films': 5, 'Flower Films (II)': 5, 'Walt Disney': 5, 'Stage 6 Films': 5, 'Wintergreen Productions': 5, 'Wild West Picture Show Productions': 5, 'Fox Atomic': 5, 'The Montecito Picture Company': 5, 'Mike Zoss Productions': 5, 'WWE Studios': 5, 'Tapestry Films': 5, 'Edward R. Pressman Film': 5, 'One Race Productions': 5, 'Hyde Park Films': 5, 'Isle of Man Film': 5, 'DC Entertainment': 5, 'Mutual Film Company': 5, 'Paramount Animation': 5, 'Industry Entertainment': 5, 'American Zoetrope': 5, 'Lawrence Bender Productions': 5, 'Bel Air Entertainment': 5, 'Dino De Laurentiis Company': 5, 'Grive Productions': 5, 'Dark Horse Entertainment': 5, 'Intrepid Pictures': 5, 'Virgin Produced': 5, 'Initial Entertainment Group (IEG)': 5, 'Laura Ziskin Productions': 5, 'Laurence Mark Productions': 5, 'Silver Reel': 5, 'Lucasfilm': 4, 'Revolution Sun Studios': 4, 'M6 Films': 4, 'CinÃ©+': 4, 'Waverly Films': 4, 'Moonlighting Films': 4, 'Groundswell Productions': 4, 'Sony Pictures Entertainment': 4, 'Red Granite Pictures': 4, 'Alliance Films': 4, 'Closest to the Hole Productions': 4, 'Bold Films': 4, 'Shangri-La Entertainment': 4, 'Dune Films': 4, 'Wildwood Enterprises': 4, 'Treehouse Pictures': 4, 'Mace Neufeld Productions': 4, 'Nimar Studios': 4, 'Protozoa Pictures': 4, 'Don Carmody Productions': 4, 'Laika Entertainment': 4, 'Grindstone Entertainment Group': 4, 'Bluegrass Films': 4, 'Canadian Film or Video Production Tax Credit (CPTC)': 4, 'The Mark Gordon Company': 4, 'Focus Films': 4, 'Montecito Picture Company, The': 4, 'Gunn Films': 4, 'Misher Films': 4, 'Icon Productions': 4, 'Canal+ EspaÃ±a': 4, 'Josephson Entertainment': 4, 'PathÃ© Renn Productions': 4, 'LivePlanet': 4, 'Everyman Pictures': 4, 'Bona Fide Productions': 4, 'Jerry Weintraub Productions': 4, 'Cruel and Unusual Films': 4, 'Reliance BIG Entertainment': 4, 'Rat Entertainment': 4, 'Toho-Towa': 4, 'Wayans Bros. Entertainment': 4, 'Brad Grey Pictures': 4, 'Miramax': 4, 'Metropolitan Filmexport': 4, 'Newmarket Capital Group': 4, 'Tollin/Robbins Productions': 4, 'Playtone': 4, 'China Film Co-Production Corporation': 4, 'Grosvenor Park Media Ltd.': 4, 'Red Hour Films': 4, 'Kanzaman': 4, 'CinÃ©CinÃ©ma': 4, 'The Kennedy/Marshall Company': 4, 'Casey Silver Productions': 4, 'Neal Street Productions': 4, 'Ecosse Films': 4, 'GreeneStreet Films': 4, 'Paradox Entertainment': 4, 'Amen Ra Films': 4, 'Icon Entertainment International': 4, 'Konrad Pictures': 4, 'Quinta Communications': 4, 'Avery Pix': 4, 'Shady Acres Entertainment': 4, 'Parkes/MacDonald Productions': 4, 'Aardman Animations': 4, 'Brightlight Pictures': 4, 'Warner Independent Pictures (WIP)': 4, 'Section Eight Productions': 4, 'Craven-Maddalena Films': 4, 'Global Entertainment Productions GmbH & Company Medien KG': 4, 'Fuji Television Network': 3, 'NeoReel': 3, 'Walt Disney Studios Motion Pictures': 3, 'Genre Films': 3, 'TC Productions': 3, 'Gotham Group': 3, 'A24': 3, 'Buena Vista': 3, 'Irish Film Board': 3, 'Cube Vision': 3, 'Goldmann Pictures': 3, 'Wigram Productions': 3, 'DMG Entertainment': 3, 'Ram Bergman Productions': 3, 'Point Grey Pictures': 3, 'Worldview Entertainment': 3, 'Automatik Entertainment': 3, 'Sony Pictures Releasing': 3, 'Insurge Pictures': 3, 'Disruption Entertainment': 3, 'Instituto de la CinematografÃ\\xada y de las Artes Audiovisuales (ICAA)': 3, 'Clinica Estetico': 3, 'RatPac Entertainment': 3, 'Crave Films': 3, 'Aldamisa Entertainment': 3, 'Big Kid Pictures': 3, 'Ghoulardi Film Company': 3, 'Screen Australia': 3, 'Harpo Films': 3, 'Celador Films': 3, 'Cloud Eight Films': 3, 'DisneyToon Studios': 3, 'The Safran Company': 3, 'HanWay Films': 3, 'Olive Bridge Entertainment': 3, 'Affirm Films': 3, 'A Band Apart': 3, 'Internationale Filmproduktion Blackbird Dritte': 3, 'Starz Animation': 3, 'Imprint Entertainment': 3, 'Radical Media': 3, 'Buckaroo Entertainment': 3, 'Chockstone Pictures': 3, 'Fortis Films': 3, 'Telecinco Cinema': 3, 'Spectacle Entertainment Group': 3, 'This Is That Productions': 3, 'DreamWorks': 3, 'Cold Spring Pictures': 3, 'Team Todd': 3, 'Zanuck Company, The': 3, 'Peninsula Films': 3, 'Junction Entertainment': 3, 'Bedford Falls Productions': 3, 'Tree Line Films': 3, 'Linson Entertainment': 3, 'Katalyst Films': 3, 'Three Strange Angels': 3, 'PathÃ© Pictures International': 3, 'Prescience': 3, 'Mayhem Pictures': 3, 'Gracie Films': 3, 'Bazmark Films': 3, 'Gold/Miller Productions': 3, 'View Askew Productions': 3, 'Beacon Communications': 3, 'Cinerenta Medienbeteiligungs KG': 3, 'IMF Internationale Medien und Film GmbH & Co. 3. Produktions KG': 3, 'Hyde Park Entertainment': 3, 'Eon Productions': 3, 'Gerber Pictures': 3, 'Hypnotic': 3, 'Voltage Pictures': 3, 'K/O Paper Products': 3, 'Wild Bunch': 3, 'Depth of Field': 3, 'Bedford Falls Company, The': 3, 'Ascendant Pictures': 3, 'VIP Medienfonds 4': 3, 'International Production Company': 3, 'Odd Lot Entertainment': 3, 'Art Linson Productions': 3, 'Film Rites': 3, 'Fox Searchlight': 3, 'Mark Canton Productions': 3, 'FilmEngine': 3, 'Room 101': 3, 'Solana Films': 3, 'Prospero Pictures': 3, 'DiNovi Pictures': 3, 'Kalima Productions GmbH & Co. KG': 3, 'Splendid Pictures': 3, 'Parkes+MacDonald Image Nation': 3, 'Artisan Entertainment': 3, 'Mikona Productions GmbH & Co. KG': 3, 'David Foster Productions': 3, 'Colombia Pictures': 3, 'Propaganda Films': 3, 'Evolution Entertainment': 3, 'World 2000 Entertainment': 3, 'Marty Katz Productions': 3, 'Signature Pictures': 3, 'Good Machine': 3, 'Baltimore Spring Creek Productions': 3, 'Hemisphere Media Capital': 3, 'Yucaipa Films': 3, 'Cheetah Vision': 3, 'Jinks/Cohen Company': 3, 'Next Entertainment': 3, 'Mirage Enterprises': 3, 'Lonely Film Productions GmbH & Co. KG.': 3, 'Tig Productions': 3, 'Dylan Sellers Productions': 3, 'Universal': 3, 'Weinstein Company, The': 3, 'Yari Film Group': 3, 'WV Films III': 3, 'Baldwin Entertainment Group': 3, 'Bob Yari Productions': 3, 'Radiant Productions': 3, 'Zephyr Films': 3, 'Kennedy Miller Productions': 2, 'One Race Films': 2, 'International Traders': 2, 'Prime Focus': 2, 'FilmColony': 2, 'Babieka': 2, 'Flynn Picture Company': 2, 'Trigger Street Productions': 2, 'Fuzzy Door Productions': 2, 'Alpha Core': 2, 'Brownstone Productions': 2, 'Element Pictures': 2, 'No Trace Camping': 2, 'Energy Entertainment': 2, 'Wildgaze Films': 2, 'Killer Films': 2, 'Free State Pictures': 2, 'Huayi Brothers Media': 2, 'Feigco Entertainment': 2, 'Fox International Productions': 2, 'Chartoff-Winkler Productions': 2, 'Entertainment One': 2, 'Anton Capital Entertainment (ACE)': 2, 'David Dobkin Productions': 2, 'Blue-Tongue Films': 2, 'Onyx Films': 2, 'Sony Pictures Home Entertainment': 2, 'Living Films': 2, 'Origin Pictures': 2, 'Iron Horse Entertainment (II)': 2, 'Route One Films': 2, 'Pacific Standard': 2, 'Columbia TriStar': 2, 'Ruby Films': 2, 'Lynda Obst Productions': 2, '87Eleven': 2, 'Mad Hatter Entertainment': 2, 'LionsGate': 2, 'Outlaw Sinema': 2, 'WideAwake': 2, 'Hollywood Gang Productions': 2, 'Echo Films': 2, 'Why Not Productions': 2, 'Before the Door Pictures': 2, 'Washington Square Films': 2, 'Radical Studios': 2, 'AR Films': 2, 'Demarest Films': 2, 'Crescendo Productions': 2, 'Bandito Brothers': 2, 'Electric City Entertainment': 2, 'Prana Studios': 2, 'Prana Animation Studios': 2, 'Albert S. Ruddy Productions': 2, 'Likely Story': 2, 'Fake Empire': 2, 'Scope Pictures': 2, 'Evergreen Media Group': 2, 'Hopscotch Features': 2, 'Screen Gems, Inc.': 2, 'Scottish Screen': 2, 'Boxing Cat Films': 2, 'Pure Flix Entertainment': 2, 'Winkler Films': 2, 'Lightstorm Entertainment': 2, 'Sketch Films': 2, 'Key Creatives': 2, 'Arc Productions': 2, 'Skylark Productions': 2, 'Kurtzman/Orci': 2, 'American Empirical Pictures': 2, 'Inferno Distribution': 2, 'Kaplan/Perrone Entertainment': 2, 'Virtual Films': 2, 'Palomar Pictures (II)': 2, 'Practical Pictures': 2, 'Parallel Zide': 2, 'Bagdasarian Productions': 2, 'Andell Entertainment': 2, 'Pictures in Paradise': 2, 'Pacific Film and Television Commission': 2, 'Australian Film Finance Corporation (AFFC)': 2, 'Rogue': 2, 'Stars Road Entertainment': 2, 'Imagi Animation Studios': 2, 'X-Filme Creative Pool': 2, 'Paul Schiff Productions': 2, '26 Films': 2, 'Seed Productions': 2, 'CinemaNX': 2, 'Sikelia Productions': 2, 'Lions Gate': 2, 'Overnight Films': 2, 'Aegis Film Fund': 2, 'Madhouse Entertainment': 2, 'Road Rebel': 2, 'Home Box Office (HBO)': 2, 'HBO Films': 2, 'Hammer Film Productions': 2, 'Overture Films': 2, 'Animal Logic': 2, 'Intellectual Properties Worldwide': 2, 'Penn Station Entertainment': 2, 'Maguire Entertainment': 2, 'Omnilab Media': 2, 'Ambience Entertainment': 2, 'Serendipity Point Films': 2, 'platinum studios': 2, 'The Saul Zaentz Company': 2, 'Little Bird': 2, 'British Broadcasting Corporation (BBC)': 2, 'WV Films II': 2, 'Lucky Red': 2, 'Red Wagon Productions': 2, 'Chris Lee Productions': 2, 'David Brown Productions': 2, 'USA Films': 2, 'Sean S. Cunningham Films': 2, 'Crystal Lake Entertainment': 2, 'Kopelson Entertainment': 2, 'David Kirschner Productions': 2, 'Darkwoods Productions': 2, 'Ardustry Entertainment': 2, 'ApolloMedia Distribution': 2, 'TPS Star': 2, 'Sommers Company, The': 2, 'KMP Film Invest': 2, 'Rogue Marble': 2, 'Hammerhead Productions': 2, 'MHF Zweite Academy Film': 2, 'Marvel Knights': 2, 'Castel Film Romania': 2, 'Blueprint Pictures': 2, 'Twins Financing': 2, 'Type A Films': 2, 'Castelao Producciones': 2, 'Grosvenor Park Productions': 2, 'Blue Star Pictures': 2, 'Media Magik Entertainment': 2, '2 Entertain': 2, 'Guy Walks into a Bar Productions': 2, 'Deep River Productions': 2, 'Odyssey Entertainment': 2, 'Management 360': 2, 'Emperor Motion Pictures': 2, 'Nu Image Entertainment GmbH': 2, 'Vendome Pictures': 2, 'France 3 CinÃ©ma': 2, 'Studio 37': 2, 'Jouror Productions': 2, 'Nouvelles Ã‰ditions de Films (NEF)': 2, 'New Legacy': 2, 'Playtone Productions': 2, 'Big Talk Productions': 2, 'The Jacobson Company': 2, 'Participant Productions': 2, 'LD Entertainment': 2, 'Kerner Entertainment Company': 2, 'Indochina Productions': 2, 'Fierce Entertainment': 2, 'Runteldat Entertainment': 2, 'China Film Group Corporation (CFGC)': 2, 'DJ Films': 2, 'Bac Films': 2, 'Blue Tulip Productions': 2, 'Imaginary Forces': 2, 'Out of the Blue... Entertainment': 2, 'Lion Rock Productions': 2, 'Material': 2, 'Walt Disney Television Animation': 2, 'Walt Disney Animation Australia': 2, 'Storyline Entertainment': 2, 'Monarch Pictures': 2, 'David Ladd Films': 2, 'Allied Filmmakers': 2, 'Sony Pictures Classics': 2, 'Leverage Management': 2, 'Film i VÃ¤st': 2, 'Tim Burton Animation Company': 2, 'British Film Institute (BFI)': 2, 'Wessler Entertainment': 2, 'Pariah Entertainment Group': 2, 'Vanguard Films': 2, 'TÃ©lÃ©film Canada': 2, 'Super Cool ManChu': 2, 'C-2 Pictures': 2, 'Angry Films': 2, 'Mediastream Dritte Film GmbH & Co. Beteiligungs KG': 2, 'Samuel Goldwyn Films': 2, 'Birnbaum / Barber Productions': 2, 'Cobalt Media Group': 2, 'Artists Production Group (APG)': 2, 'Tall Trees Productions': 2, 'Boll Kino Beteiligungs GmbH & Co. KG': 2, 'Herold Productions': 2, 'Madacy Entertainment': 2, 'Envision Entertainment Corporation': 2, 'Revolution Films': 2, 'H2F Entertainment': 2, 'Muse Productions': 2, 'Two Ton Films': 2, 'After Dark Films': 2, '40 Acres & A Mule Filmworks': 2, 'Pathe': 2, 'Kumar Mobiliengesellschaft mbH & Co. Projekt Nr. 1 KG': 2, 'MFPV Film': 2, 'Alberta Film Entertainment': 2, 'VIP 3 Medienfonds': 2, 'MacDonald/Parkes Productions': 2, 'John Wells Productions': 2, 'Babelsberg Film': 2, 'Mars Media Beteiligungs': 2, 'The Ladd Company': 2, 'FilmWorks': 2, 'Biscayne Pictures': 2, 'Kumar Mobiliengesellschaft mbH & Co. Projekt Nr. 2 KG': 2, 'Senator International': 2, 'Second Mate Productions': 2, 'Capitol Films': 2, 'Hard Eight Pictures': 2, 'Playtone Production': 2, 'Michael London Productions': 2, \"Bull's Eye Entertainment\": 2, 'Nu Image Entertainment': 2, 'Kernos Filmproduktionsgesellschaft & Company': 2, 'Eyetronics': 2, 'Storefront Pictures': 2, 'BIM Distribuzione': 2, 'Jon Shestack Productions': 2, 'Hollywood Pictures': 2, 'Ludlum Entertainment': 2, 'Mediastream Vierte Film GmbH & Co. Vermarktungs KG': 2, 'Blackfriars Bridge Films': 2, 'Clifford Werber Productions': 2, 'Egmond Film & Television': 2, 'Hal Lieberman Company': 2, 'Figment Films': 2, 'Tiger Aspect Productions': 2, 'The Canton Company': 2, 'Truenorth Productions': 1, 'CatchPlay': 1, 'Danjaq': 1, 'B24': 1, 'Universal Pictures International (UPI)': 1, 'Beagle Pug Films': 1, 'Allison Shearmur Productions': 1, 'A113': 1, 'Riche-Ludwig Productions': 1, 'China Movie Channel': 1, 'Cloudy Productions': 1, 'Rocklin / Faust': 1, 'Entertainment One Features': 1, 'Scholastic Entertainment': 1, 'Duperele Films': 1, 'Item 7': 1, 'Parallel Film Productions': 1, 'Broken Chair Flickz': 1, 'Sierra/Affinity': 1, 'Versus Pictures': 1, 'Number 9 Films': 1, 'Ehman Productions': 1, 'PeaPie Films': 1, 'OddLot Entertainment': 1, 'Pretty Pictures': 1, 'ArtÃ©mis Productions': 1, 'Le Tax Shelter du Gouvernement FÃ©dÃ©ral de Belgique': 1, 'Taxshelter. be': 1, 'Black Label Media': 1, 'Constantin Film.': 1, 'Kramer & Sigman Films': 1, 'Zaftig Films': 1, 'Infinite Frameworks Studios': 1, 'K. JAM Media': 1, 'Raindog Films': 1, 'Berlanti Productions': 1, 'The Cantillon Company': 1, 'The Shuman Company': 1, 'STX Entertainment': 1, 'Ahimsa Films': 1, 'Orange Studios': 1, 'CityMation': 1, 'On Entertainment': 1, 'Zippcast Films': 1, 'Amazon Studios': 1, 'Film Art Media': 1, 'Apollo Media': 1, 'Vast Entertainment': 1, 'Head Gear Films': 1, 'Brothers Dowdle Productions': 1, 'Little Stranger': 1, 'Inimitable Pictures': 1, 'ShivHans Pictures': 1, 'Nickelodeon Animation Studios': 1, 'United Plankton Pictures': 1, 'TriStar Productions': 1, 'Metanoia Films': 1, 'Venture Forth': 1, 'Hasbro Studios': 1, 'Allspark Pictures': 1, 'Bulletproof Cupid': 1, 'DefyNite Films': 1, 'MJW Films': 1, '3Foot7': 1, 'Black Bear Pictures': 1, 'Bristol Automotive': 1, 'Dayday Films': 1, 'Le Grisbi Productions': 1, 'M Productions': 1, 'Sierra / Affinity': 1, 'Avi Arad Productions': 1, 'Matt Tolmach Productions': 1, 'Viz Media': 1, 'Mad Chance Productions': 1, 'Volcano Films': 1, 'Toho Company': 1, 'Irish Dreamtime': 1, 'SPD Films': 1, 'Ex3 Productions': 1, 'Pendle Mountain Productions': 1, 'Lucamar Productions': 1, 'Tonik Productions': 1, 'Asis Productions': 1, 'Cannell Studios': 1, \"We're Not Brothers Productions\": 1, 'Cinelou Films': 1, 'Kilburn Media': 1, 'Fetisov Teterin Films': 1, '5150 Action': 1, 'Stoney Lake Entertainment': 1, 'Team Downey': 1, 'Gulfstream Pictures': 1, 'Etalon film': 1, 'Screen Queensland': 1, 'Blacklab Entertainment': 1, 'Wolfhound Pictures': 1, 'Straight Up Films': 1, 'LBI Productions': 1, 'Obelisk Productions': 1, 'Jolie Pas': 1, 'Constantin Film International': 1, 'Goldenlight Films': 1, 'Electronic Arts': 1, 'Silverwood Films': 1, 'Oasis Films': 1, 'Aperture Entertainment': 1, 'Porchlight Films': 1, 'Screen NSW': 1, 'Qwerty Films': 1, 'TF1 Droits Audiovisuels': 1, 'Hopscotch Films': 1, 'D8': 1, 'Snoot Entertainment': 1, 'Seven West Media': 1, 'Fear of God Films': 1, 'Seven Group Holdings': 1, 'Jim Henson Company, The': 1, 'Creative Scotland': 1, 'Warner Bros. Interactive Entertainment': 1, 'Rob Thomas Productions': 1, 'Hearst Entertainment Productions': 1, 'LightWorkers Media': 1, 'Sahara Productions': 1, 'Silvatar Media': 1, 'The Combine': 1, 'Disney': 1, 'Provident Films': 1, 'FourBoys Entertainment': 1, 'Panay Films': 1, 'Max Films Productions': 1, 'Morag Loves Company': 1, 'Zehnte Babelsberg': 1, 'Visiona Romantica': 1, 'UW3 Film Productions': 1, 'MavroCine Pictures GmbH & Co. KG': 1, 'The Halcyon Company': 1, 'Block / Hanson': 1, 'Watermark': 1, 'IFP Westcoast Erste': 1, 'Farewell Productions': 1, 'Panorama Films': 1, 'Left Tackle Pictures': 1, 'Zucker/Netter Productions': 1, 'Internationale Filmproduktion Blackswan': 1, 'Kontsept Film Company': 1, 'Museum Canada Productions': 1, 'Grand Army Entertainment': 1, 'Hachiko': 1, 'Film Department, The': 1, 'Evil Twins': 1, 'Warp Films': 1, 'Darko Entertainment': 1, 'Curse Productions': 1, 'Mystery Clock Cinema': 1, 'Liberty Films UK': 1, 'Lunar Industries': 1, 'Xingu Films': 1, 'Limelight Fund': 1, 'Whamaphram Productions': 1, 'Pan EuropÃ©enne Production': 1, 'Sighvatsson Films': 1, 'Easy There Tiger Productions': 1, 'Outpost Studios': 1, 'Studio Babelsberg StudioBabelsberg Motion Pictures': 1, 'Smokewood Entertainment Group': 1, 'Phantom Four': 1, 'Bernard Gayle Productions': 1, 'Jaffe / Braunstein Enterprise': 1, 'Case 39 Productions': 1, 'Medienproduktion Prometheus Filmgesellschaft': 1, 'Portobello Studios': 1, 'Furst Films': 1, 'Camp / Thompson Pictures': 1, 'Infinity Features Entertainment': 1, 'Langley Productions': 1, 'Thunder Road Productions': 1, 'Fuqua Films': 1, 'Tooley Productions': 1, '20th Century Fox Home Entertainment': 1, 'Midnight Sun Pictures': 1, 'Vidhu Vinod Chopra Productions': 1, 'Smoke House': 1, 'Goldsmith-Thomas Productions': 1, 'Sid & Marty Krofft Pictures': 1, 'Revelations Entertainment': 1, 'Ilion Animation Studios': 1, 'Hand Made Films': 1, 'Ocean Pictures': 1, 'HimenÃ³ptero': 1, 'Mod Producciones': 1, 'Chris Brinker Productions': 1, 'Polsky Films': 1, 'Farah Films & Management': 1, 'Tezuka Production Company Ltd.': 1, 'Dentsu Inc.': 1, 'Trancas International Films': 1, \"It's a Laugh Productions\": 1, 'Millar Gough Ink': 1, 'New Upstairs Productions': 1, 'Upstairs Canada Productions': 1, 'Saga Film': 1, 'Chambara Pictures': 1, 'Smartest Man Productions': 1, 'Laura Bickford Productions': 1, 'Medienproduktion Poseidon Filmgesellschaft': 1, 'Mark Johnson Productions': 1, 'Curmudgeon Films': 1, 'Top Shelf Productions': 1, 'Czech Anglo Productions': 1, 'Wandering Star Pictures': 1, 'Edmonds Entertainment Group (EEG)': 1, 'Epidemic Pictures': 1, 'Freestyle Releasing': 1, 'Echo Lake Productions': 1, 'Premiere Picture': 1, \"Butcher's Run Films\": 1, 'Informant Media': 1, 'Banter': 1, 'Ozla Pictures': 1, 'Great Scott Productions Pty. Ltd.': 1, 'Sean Bailey Productions': 1, 'Darlow Smithson Productions': 1, 'Italian Tax Credit': 1, 'Dreamworks Pictures': 1, 'Prospect Park': 1, 'Millbrook Farm Productions': 1, 'Industrial Light & Magic (ILM)': 1, 'Bedlam Productions': 1, 'See-Saw Films': 1, 'Polish Film Institute': 1, 'Exclusive Films': 1, 'Monolith Films': 1, 'On the Road': 1, 'Pink Machine': 1, 'Red Om Films': 1, 'Octagon Films': 1, 'Birnbaum/Barber': 1, 'Rice Films': 1, 'Necropia': 1, 'Tequila Gang': 1, 'Serendipity Productions': 1, 'China Film Group': 1, 'Matador Pictures': 1, 'Magic Light Pictures': 1, 'Cinema Four': 1, 'Runteam Ltd.': 1, 'R.P. Productions': 1, 'FidÃ©litÃ© Films': 1, 'Hwy61': 1, 'Aversano Films': 1, 'Oops Doughnuts Productions': 1, 'Frontier Pictures': 1, 'New Crime Productions': 1, 'EFTI': 1, 'Battle Mountain Films': 1, 'Village Roadshow Pictures Asia': 1, 'Stone Productions': 1, 'Mimran Schur Pictures': 1, 'Chako Film Company': 1, 'Oceana Media Finance': 1, 'Pantheon Entertainment Corporation': 1, 'Innocence Productions': 1, 'Omega Entertainment': 1, 'Twentieth Century Fox': 1, 'Hydraulx': 1, 'Transmission Pictures': 1, 'Pioneer Pictures': 1, 'Spy Next Door': 1, 'Mosaic': 1, 'Henceforth': 1, 'Projection Pictures': 1, 'London Boulevard': 1, 'American Film Company': 1, 'Parabolic Pictures': 1, 'Birdsong Pictures': 1, 'Lions Gate Family Entertainment': 1, 'Crest Animation Productions': 1, 'Rhythm and Hues': 1, 'Picnic Basket': 1, 'Night Chronicles': 1, 'Furry Vengeance Productions': 1, 'Long Distance Films': 1, 'HighRoad Entertainment': 1, 'Prelude Pictures': 1, 'Lone Runner Entertainment': 1, 'Kenio Films': 1, 'Perfect Game, The': 1, 'Boram Entertainment Inc.': 1, 'Ealing Studios': 1, 'Fragile Films': 1, 'Quickfire Films': 1, 'The Tyler Perry Company': 1, 'PVR Cinemas': 1, 'Hari Om Entertainment Co.': 1, 'Blockbuster Movie Entertainers': 1, 'Fast Track Productions': 1, 'Asymmetrical Productions': 1, 'Les Films Alain Sarde': 1, 'Babbo Inc.': 1, 'The Picture Factory': 1, 'Stanley Kubrick Productions': 1, 'Imhotep Productions': 1, 'Liveplanet': 1, 'BrownHouse Productions': 1, 'Bottom of the Ninth Productions': 1, 'Swanford Films': 1, 'KC Medien': 1, 'Black and Blu Entertainment': 1, 'Finestkind': 1, 'Red Hour Productions': 1, 'Neal H. Moritz Productions': 1, 'Outlaw Productions (I)': 1, 'Sogecine': 1, 'Las Producciones del Escorpion': 1, 'Universal Cartoon Studios': 1, 'Simon Fields Productions': 1, 'Cruise-Wagner Productions': 1, 'Immortal Entertainment': 1, 'Jonathan Krane Group': 1, 'Square USA': 1, 'Cinerenta-Cinebeta': 1, 'VCL Communications': 1, 'Underworld Entertainment': 1, 'AZL Productions KG': 1, 'MFP Munich Film Partners': 1, 'Phase 1 Productions': 1, 'Dee Gee Entertainment': 1, 'Prufrock Pictures': 1, 'Fireworks Pictures': 1, 'Pistolero Productions LLC': 1, 'Bungalow Productions': 1, 'Silver Lion Films': 1, 'Vision View Entertainment': 1, 'American Entertainment Partners L.P.': 1, 'New Redemption Pictures': 1, 'GHS Productions KG': 1, 'Munich Film Partners & Company (MFP) GHS Productions': 1, 'Nides/McCormick Productions': 1, 'Horseshoe Bay Productions': 1, 'Merlin Films': 1, 'Native Pictures Productions': 1, 'Storm King Productions': 1, 'Animationwerks': 1, 'Mediastream Film GmbH & Co. Productions KG': 1, 'Cort/Madden Productions': 1, 'Empire Pictures': 1, 'Ufland': 1, 'Trackform Film Productions': 1, 'Crystal Sky Worldwide': 1, 'MDP Worldwide': 1, 'Carousel Picture Company, The': 1, 'Signature Entertainment': 1, 'Dan Films': 1, 'CP Medien AG': 1, 'Internationale Filmproduktion Richter': 1, 'Littlestar': 1, 'MVL Incredible Productions': 1, 'Double Nickel Entertainment': 1, 'Kickstart Productions': 1, 'Europa Corp': 1, 'Achte Babelsberg Film': 1, 'The Department of Trade and Industry of South Africa': 1, 'Kingsgate Films': 1, 'Film Capital Europe Funds (FCEF )': 1, 'Ozumi Films': 1, 'Propeler': 1, 'Internationale Filmproduktion Stella-del-Sud Second': 1, 'Earth Canada Productions': 1, 'ScreenWest': 1, 'Heyday films': 1, 'Internationale Filmproduktion Blackbird Erste': 1, 'Baumgarten Management and Productions (BMP)': 1, 'Top Rope': 1, 'SGF Entertainment': 1, 'Collision Entertainment': 1, 'Abandon Entertainment': 1, 'Foxtor Productions': 1, 'ASAF': 1, 'Luna Pictures': 1, 'Art In Motion': 1, 'Blue Askew': 1, 'Internationale Filmproduktion Stella-del-SÃ¼d': 1, 'Babylon': 1, 'Ott Medien': 1, 'Alta Loma Entertainment': 1, 'Internationale Filmproduktion': 1, 'Gravier Productions': 1, 'Antena 3 Films': 1, 'TelevisiÃ³ de Catalunya (TV3)': 1, 'Antena 3 TelevisiÃ³n': 1, 'Huayi Brothers': 1, 'InVenture Entertainment': 1, 'Nu-Image Films': 1, 'Lietuvos Kinostudija': 1, 'Scout Productions': 1, 'Defiance Productions': 1, 'Pistachio Pictures': 1, 'Cohen/Pearl Productions': 1, 'Outlander Productions': 1, 'Ten Thirteen Productions': 1, 'Crying Box Productions': 1, 'Rifkin-Eberts': 1, 'Toff Guy Films': 1, 'VN Productions': 1, 'Initial Entertainment Group': 1, 'Dark Lot Entertainment': 1, 'UTV Motion Pictures': 1, 'South Pacific Pictures': 1, 'Spice Factory': 1, 'The Australian Film Commission': 1, 'Darren Star Productions': 1, 'Universal Pictures Corporation': 1, 'Evamere Entertainment': 1, 'Michaels-Goldwyn': 1, 'Andale Pictures': 1, 'IDEA Filmproduktions': 1, 'Starz Media': 1, 'Studiopolis': 1, 'Vanguard Animation': 1, '3 in the Box': 1, 'New Wave Entertainment': 1, 'Terra Firma Films': 1, 'Superfinger Entertainment': 1, 'Midnight Picture Show': 1, 'First Foot Films': 1, 'Ixtlan Productions': 1, 'Global Entertainment Group': 1, 'Sherazade Film Development': 1, 'Corduroy Films': 1, 'Exodus Film Group': 1, 'Exodus Productions': 1, 'Intandem Films': 1, 'Aramid Entertainment Fund': 1, 'Lipsync Productions': 1, 'Motel Movies': 1, 'Scared Productions': 1, 'Yellow Bird': 1, 'Many Rivers Productions': 1, 'Boy of the Year': 1, 'K/O Camera Toys': 1, 'Lennox House Films': 1, 'Random Films': 1, 'Total Entertainment': 1, 'TSBD Canada Productions': 1, 'Zohar International': 1, 'Bay Films': 1, 'La Petite Reine': 1, 'uFilm': 1, 'Blind Wink': 1, 'Film 4': 1, 'Hungarian National Film Office': 1, 'Lazio Film Commission': 1, 'TOKYOPOP': 1, 'Denver and Delilah Productions': 1, 'Tailor Made': 1, 'Mango Farms': 1, 'Gambit Pictures': 1, 'Electric Shepherd Productions': 1, 'Mpower Pictures': 1, 'Lip Sync Post': 1, 'Trademark Films': 1, 'LBI Entertainment': 1, 'Wild Ocean Films': 1, '2S Films': 1, 'Deuce Three Productions': 1, 'Storefront Films': 1, 'Image Entertainment': 1, 'Bekmambetov Projects Ltd.': 1, 'Dr D Studios': 1, 'Kennedy Miller Mitchell': 1, 'Battleplan Productions': 1, 'Neunte Babelsberg Film': 1, 'Holleran Company': 1, 'Sechzehnte Babelsberg Film': 1, 'Ad Hominem Enterprises': 1, 'Zanagar Films': 1, 'Crystal City Entertainment': 1, 'Aura Film Partnership': 1, 'Toledo Productions': 1, 'Wayfare Entertainment': 1, 'Sanctum Australia': 1, 'Great Wight Productions/ Osford Films': 1, 'Recorded Pictures Company': 1, 'The Movie Network': 1, 'Millbrook Pictures': 1, 'Lago Film': 1, 'Brookwell-McNamara Entertainment': 1, 'HW Two': 1, 'Flashpoint Entertainment': 1, 'Cliffjack Motion Pictures': 1, 'Rickshaw Productions': 1, 'Voltage pictures': 1, 'ANA Media': 1, 'Picture Perfect (I)': 1, 'The Collective Studios': 1, 'Sony Pictures Worldwide Acquisitions (SPWA)': 1, 'TDJ Enterprises / New Dimensions Entertainment': 1, 'Our Stories Films': 1, 'Corrino Media Corporation': 1, 'Corsan': 1, 'Staccato Films': 1, 'Incentive Filmed Entertainment': 1, 'Atlas Productions': 1, 'ARP SÃ©lection': 1, 'Indigo Film': 1, 'Medusa Film': 1, 'Chrysalis Films': 1, 'Magical Elves Productions': 1, 'Scooter Braun Films': 1, 'MIRACLE Productions GmbH & Co. KG': 1, 'Kemp Company': 1, 'Canal+Polska': 1, 'Heritage Films': 1, 'Agencja Produkcji Filmowej': 1, 'TF1 Films Productions': 1, 'British Film Council': 1, 'Hughes Entertainment': 1, 'Shoelace Productions': 1, 'Marvel Entertainment, LLC': 1, 'Milk & Honey': 1, 'Alberto Grimaldi Productions': 1, 'Hofflund/Polone': 1, 'Indelible Productions': 1, 'Pandora Pictures': 1, 'MPH Entertainment': 1, 'Hacienda Productions': 1, 'Hungry Eye Lowland Pictures B.V.': 1, 'Flan de Coco Films': 1, \"Eric's Boy\": 1, 'Moving Pictures': 1, 'Gratitude International': 1, 'Witt/Thomas Productions': 1, 'Ghost Ship Films Pty. Ltd.': 1, 'World Wrestling Entertainment (WWE)': 1, 'Wheelhouse Entertainment': 1, 'Motion Picture Production GmbH & Co. Erste KG': 1, 'Ventanarosa Productions': 1, 'Handprint Entertainment': 1, 'Schroeder Hoffman Productions': 1, 'Beverly Detroit': 1, 'Intermedia': 1, 'IM Filmproduktion': 1, 'Cosmic Pictures': 1, 'Burg/Koules Productions': 1, 'Unfaithful Filmproduktion GmbH & Co. KG': 1, 'National Geographic Society': 1, 'WV Films LLC': 1, 'Walt Disney Animation Canada': 1, 'Producers Circle': 1, 'Catch 23 Entertainment': 1, 'Sea Breeze Productions Inc.': 1, 'Tripod Entertainment': 1, 'Shutt/Jones Productions': 1, 'Jaffilms Inc.': 1, 'Clear Blue Sky Productions': 1, '98 MPH Productions': 1, 'Senator Film Produktion': 1, 'Motion Picture Corporation of America': 1, 'Milagro Films': 1, 'DoRo Fiction Film': 1, 'UW4 Productions': 1, 'Captivate Entertainment': 1, 'Brandywine Productions': 1, 'Stephen J. Cannell Productions': 1, 'Apaches Entertainment': 1, 'Ascension Pictures': 1, 'ARD Degeto Film': 1, 'Cloud Atlas Productions': 1, 'Mr. Mudd Production': 1, 'Extension 765': 1, 'Mutant Enemy Productions': 1, 'Abraham Productions': 1, 'Location Gourmet': 1, 'Transfilm': 1, 'Moonrise': 1, 'Rena Film': 1, 'Peach Trees': 1, 'Film 44': 1, 'CAMERON MACKINTOSH': 1, 'First Light Production': 1, 'Cott Productions': 1, 'Furia de Titanes II, A.I.E.': 1, 'Adam Schroeder Productions': 1, 'Hedge Fund Film Partners': 1, 'Knightsbridge Entertainment': 1, 'What to Expect Productions': 1, 'Benaroya Pictures': 1, 'Pie Films Inc.': 1, 'Corner Store Entertainment': 1, 'Stoller Global Solutions': 1, 'A Hot Dog': 1, 'Talisman Productions': 1, 'Ixtlan': 1, 'Onda Entertainment': 1, 'Di Bonaventura Picture': 1, 'Liddell Entertainment': 1, 'Wonderful Films PLC': 1, 'North Box Productions': 1, 'Konami Corporation Ltd.': 1, 'Inferno Entertainment': 1, 'Galavis Film': 1, 'Picture Machine': 1, 'Artina Films': 1, 'Lucky Monkey Pictures': 1, 'Green Room Films': 1, 'Varsity Pictures': 1, 'Headline Pictures': 1, 'Media Farm': 1, 'Sunday Night': 1, 'Dos Corazones': 1, 'Lucasfilm Ltd.': 1, 'Partnership Pictures': 1, 'Serenade Films': 1, 'Also Known As Pictures': 1, 'VideoFilmes': 1, 'Studio Mir': 1, 'Mandalay Vision': 1, 'Studio Babelsberg Motion Pictures': 1, 'Rai Cinema': 1, 'Alfama Films': 1, 'Akil Production Company': 1, 'Laurinfilm': 1, 'Subterranean Productions LLC': 1, 'Subterranean Productions UK Ltd.': 1, 'Underworld Produktions GmbH': 1, 'Heineken Branded Entertainment': 1, 'Disney Enterprises': 1, 'Pit Bull Productions': 1, 'Loumolo & Co.': 1, 'JD Productions': 1, 'Dimension Films (US version)': 1, 'NuAmerica Entertainment': 1, 'Newman/Tooley Films': 1, 'Joseph Nittolo Entertainment': 1, '\"DIA\" Productions GmbH & Co. KG': 1, 'Don Simpson/Jerry Bruckheimer Films': 1, 'Stan Winston Studio': 1, 'Horsepower Films': 1, 'Core Productions': 1, 'Jackie Chan Films Limited': 1, 'All Knight Productions': 1, 'Camelot Pictures': 1, 'Illusion Entertainment': 1, 'Michael Lobell Productions': 1, 'Province of British Columbia Film Incentive BC': 1, 'Doom Buggy Productions': 1, 'Y Productions': 1, 'Mediana Productions Filmgesellschaft': 1, 'Cattleya': 1, 'Cecchi Gori Group Tiger Cinematografica': 1, 'Krane Entertainment': 1, 'Myriad Pictures': 1, 'Jeepers Creepers II': 1, 'Kasdan Pictures': 1, 'Mediastream Dritte Film': 1, 'N1 European Film Produktions GmbH & Co. KG': 1, 'Baumgarten Merims Productions': 1, 'Alphaville Productions': 1, 'Newmarket Films': 1, 'City Light Films': 1, 'Turner Pictures': 1, 'Antietam Filmworks': 1, 'Mindfire Entertainment': 1, 'Recorded Picture Company (RPC)': 1, 'FidÃ©litÃ© Productions': 1, 'Gimages': 1, 'FOZ': 1, 'Harbour Pictures': 1, 'Earthship Productions': 1, 'XM2 Productions': 1, 'Reiner-Greisman': 1, 'Esperanto Filmoj': 1, 'SOIXAN7E QUIN5E': 1, 'See Me Louisiana': 1, 'EMJAG Productions': 1, 'Disney Double Dare You (DDY)': 1, 'Monolith Pictures (III)': 1, 'Riddick Canada Productions': 1, 'A&E Television Networks': 1, 'Apparatus Productions': 1, 'Chartoff Productions': 1, 'Digital Domain': 1, 'Double Negative': 1, '8:38 Productions': 1, 'Unique Features': 1, 'Mr. Smith Productions': 1, 'Herrick Entertainment': 1, 'Truth Entertainment': 1, 'RabbitBandini Productions': 1, 'Division Films': 1, 'Pop Films': 1, 'Troika Pictures': 1, 'Emergency Films': 1, 'Apotheosis Media Group': 1, 'Gidden Media': 1, 'Verisimilitude': 1, 'Envision Entertainment': 1, 'Mythology Entertainment (II)': 1, 'Sycamore Pictures': 1, 'Millenium Films': 1, 'Stone Village Pictures': 1, 'Fastnet Films': 1, 'Caramel Film': 1, 'Dickhouse Productions': 1, 'SND': 1, 'Essential Media & Entertainment': 1, 'MICA Entertainment': 1, 'Silver Bullet Productions (II)': 1, 'Blind Wink Productions': 1, 'Langley Park Production': 1, 'Aggregate Films': 1, 'DumbDumb': 1, 'Sudden Storm Productions': 1, 'Decibel Films': 1, 'OB Productions': 1, 'Toma 78': 1, 'De Milo': 1, 'Lee Daniels Entertainment': 1, 'Follow Through Productions': 1, 'Salamander Pictures': 1, 'Pam Williams Productions': 1, 'Greenestreet Films': 1, 'Witness Protection Films': 1, 'SkyLand Entertainment': 1, 'Rainmaker Entertainment': 1, 'Mainframe Entertainment': 1, 'Pinewood Studios': 1, 'Metrol Technology': 1, 'Temple Hill Productions': 1, 'PathÃ© Distribution': 1, 'Sony': 1, 'Perdido Productions': 1, 'Paco Cinematografica': 1, 'Regione Lazio': 1, 'Business Location Sudtirol Alto Adige': 1, 'Friuli Venezia Giulia Film Commission': 1, 'Benderspink': 1, 'Carousel Productions': 1, 'Everest Entertainment': 1, 'Archer Street Productions': 1, 'Latitude Media': 1, 'Inferno International': 1, 'K5 International': 1, 'LGM Productions': 1, 'Les Productions du TrÃ©sor': 1, 'Mars Distribution': 1, 'Front Street Productions': 1, 'Spitfire Pictures': 1, 'Reel FX Creative Studios': 1, 'Company Films': 1, 'Dalian Wanda Group': 1, 'Sneak Preview Productions': 1, 'Jean Doumanian Productions': 1, 'Dillywood': 1, 'Five Star Institute': 1, 'Gaumont': 1, 'Kintop Pictures': 1, 'Triggerfish Animation': 1, 'Picturehouse Entertainment': 1, 'Summertime Entertainment': 1, 'Distant Horizons': 1, 'Film Afrika Worldwide': 1, 'Videovision Entertainment': 1, 'Baby Cow Productions': 1, 'Le Pacte': 1, 'Filmgate Films': 1, 'Saints LA': 1, 'Art Pictures Studio': 1, 'Patalex IV Productions Limited': 1, 'Hammer & Tongs': 1, 'Kumar Mobiliengesellschaft mbH & Co. Projekt Nr. 3 KG': 1, 'Branded Entertainment/Batfilm Productions': 1, 'Colossal Pictures': 1, 'TF 1 Film Productions': 1, 'Big Primate Pictures': 1, 'Nina Saxon Film Design': 1, 'Alloy Entertainment': 1, 'Dutch Oven': 1, 'New Regency Productions': 1, 'Entertainment Manufacturing Company': 1, 'Will Vinton Studios': 1, 'Motion Picture KAPPA Produktionsgesellschaft': 1, 'Parkway Pictures (I)': 1, 'Kanbar Entertainment': 1, 'Blue Yonder Films': 1, 'MBC Beteiligungs Filmproduktion': 1, 'Bewitched': 1, 'Reaper Productions': 1, 'Alan Greenspan Productions': 1, 'Hart-Sharp Entertainment': 1, 'Reforma Films': 1, 'Persistent Entertainment': 1, 'Stratus Film Co.': 1, 'Syndicate Films International': 1, 'Alliance Atlantis Communications': 1, 'Room 9 Entertainment': 1, '4M': 1, 'Patalex V Productions Limited': 1, 'ShadowCatcher Entertainment': 1, 'Daniel Bobker Productions': 1, 'JC 23 Entertainment': 1, 'Clubdeal': 1, 'Liaison Films': 1, 'Five Roses': 1, 'Romero-Grunwald Productions': 1, 'Exception Wild Bunch': 1, 'Catfish Productions': 1, 'Mile High Productions': 1, 'Kevin Messick Productions': 1, 'Cent Productions Inc.': 1, 'Outerbanks Entertainment': 1, 'Kalis Productions GmbH & Co. Zweite KG': 1, 'Callahan Filmworks': 1, 'Dante Entertainment': 1, 'Crusader Entertainment': 1, 'Debra Hill Productions': 1, 'AFG Talons Productions': 1, 'Boll KG': 1, 'Bristol Bay Productions': 1, 'Desertlands Entertainment': 1, \"Cooper's Town Productions\": 1, 'Eagle Vision Inc.': 1, 'Manitoba Film and Video Production Tax Credit': 1, 'Scanbox': 1, 'Domino 17521': 1, 'The Javelina Film Company': 1, 'Milkshake Films': 1, 'Hargitay & Hargitay Pictures in Motion': 1, 'The Movie Network (TMN)': 1, 'Max Stronghold Productions Inc.': 1, 'Big Beach Productions': 1, 'Telegraph Films': 1, 'O.N.C. Entertainment': 1, 'Infogrames Entertainment': 1, 'Pacific Renaissance Pictures Ltd.': 1, 'Cineblue Internationale Filmproduktionsgesellschaft': 1, 'City Productions': 1, 'Post No Bills Films': 1, 'Pandemonium Productions': 1, 'Government of Malta': 1, 'Eketahuna LLC': 1, 'MI 3 Film': 1, 'Media Asia Films': 1, 'Central Films': 1, 'Hit & Run Productions': 1, 'Four By Two Productions': 1, 'Ikiru Films': 1, 'Matinee Pictures': 1, 'Silent Hill DCP Inc.': 1, 'Konami': 1, 'Muse Entertainment Enterprises': 1, 'Kingdom Feature Productions': 1, 'C.O.R.E. Feature Animation': 1, 'Hoytyboy Pictures': 1, 'Nigel Productions': 1, 'Sound for Film': 1, 'Failure to Launch Productions': 1, 'Motion Picture ETA Produktionsgesellschaft': 1, 'Foqus Arte Digital': 1, 'Metropolis Films': 1, 'Landscape Entertainment': 1, 'John US Productions': 1, 'Universal Animation Studios': 1, 'Contagious Entertainment': 1, '3L Filmverleih': 1, 'VIP 4 Medienfonds': 1, 'Pricel': 1, 'Tohokushinsha Film': 1, 'Commission du Film France': 1, 'Cowboy Films': 1, 'Black & White Productions': 1, 'Irwin Allen Productions': 1, 'Iron Film': 1, 'MMCB Film Produktion 2004': 1, 'Big Beach Films': 1, '11:11 Mediaworks': 1, 'Thousand Words': 1, 'Detour Filmproduction': 1, 'Rocket Pictures': 1, 'Alliance Atlantis Motion Picture Production': 1, 'Paramount Classics': 1, 'Samuelson Productions': 1, 'Tiara Blu Films': 1, 'Granada Film Productions': 1, 'Sunset Gower Studios': 1, 'Electric Entertainment': 1, 'Flyboys Films': 1, 'True Grit Productions': 1, 'Zero Gravity Management': 1, 'Pierce/Williams Entertainment': 1, 'Yash Raj Films': 1, 'Mirabai Films': 1, 'Tessalit Productions': 1, 'Raygun Productions': 1, 'Rosey Film Productions LLC': 1, 'Starbucks Entertainment': 1, 'Cinema Gypsy Productions': 1, 'P of A Productions Limited': 1, 'Atlantic Television': 1, 'Motion Picture THETA Produktionsgesellschaft': 1, 'Helena Productions': 1, 'Starlite Films': 1, 'Golden Mean': 1, 'Universal CGI': 1, 'Constantin Film Ltd.': 1, 'Mark Gordon Productions': 1, 'Cappa Productions': 1, 'Edge City': 1, 'Shawn Danielle Productions Ltd.': 1, 'Natural Nylon Entertainment': 1, 'Riff Raff Film Productions': 1, 'Filmauro': 1, 'Blue Flower Productions': 1, 'ApolloProScreen Filmproduktion': 1, 'Thirteen Productions': 1, 'Daybreak': 1, 'Film Colony': 1, 'Gaylord Films': 1, 'Blue Sea Productions': 1, 'Loofah Productions': 1, 'VIP 2 Medienfonds': 1, 'Frantic Films': 1, 'Maple Shade Films': 1, 'New Amsterdam Entertainment': 1, 'Green Hills Productions': 1, 'Primal Foe Productions': 1, 'Grand Slam Productions': 1, 'Fellah Pictures': 1, 'Filmax Entertainment': 1, 'ICF': 1, 'Patalex Productions': 1, 'Fellowship Adventure Group': 1, 'Gone North Productions': 1, 'Industrial Development Corporation of South Africa': 1, 'Miracle Pictures': 1, 'Harlequin Pictures': 1, 'Intertainment AG': 1, 'Blackout Productions Inc.': 1, 'Sideways Productions Inc.': 1, 'AR-TL': 1, 'Eclipse Catering': 1, 'Nine Yards Two Productions': 1, 'Havana Nights LLC': 1, 'Really Useful Films': 1, 'Mostow/Lieberman Productions': 1, '80 Days Productions': 1, 'Visual Arts Entertainment': 1, 'Aldrich Group': 1, 'Optional Pictures': 1, 'Blue Productions': 1, 'Friday Night Lights LLC': 1, 'MDBF Filmgesellschaft mbH & Company KG': 1, 'Two Brothers Productions': 1, 'Avenue Pictures Productions': 1, 'Broken Lizard Industries': 1, 'Coconut Pete Productions': 1, 'Taormina Productions': 1, 'Bird and a Bear Entertainment': 1, 'Hallway Pictures': 1, 'Catch Productions': 1, 'Fantail Films Inc.': 1, 'Cool Music': 1, 'Harry Potter Publishing Rights': 1, 'Motion Picture BETA Produktionsgesellschaft': 1, 'Bourne Again': 1, 'Sparkler Entertainment': 1, 'Vaughn Productions': 1, 'Into the Wild': 1, 'Crystal Sky Pictures': 1, 'Lauren Levine Productions Inc.': 1, 'Grosvenor Park Impact Productions': 1, 'Columbus 81 Productions': 1, 'Wendy Finerman Productions': 1, 'Andalasia Productions': 1, 'Right Coast Productions': 1, 'Mirage Studios': 1, 'Imagi Production': 1, 'Sociedad General de Cine S.A.': 1, 'MDBF Zweite Filmgesellschaft': 1, 'Eden Rock Media': 1, 'Element Films': 1, 'HorrorFlix': 1, 'Scholastic Productions': 1, 'Yuma': 1, 'CJ Entertainment': 1, 'Southpaw Entertainment': 1, 'Open City Films': 1, 'Jessie Nelson Productions': 1, 'Astral Media': 1, 'Anka Film': 1, 'Daybreak Productions': 1, 'Monkey Dance Productions': 1, 'Yer Dead Productions': 1, 'Entertainment Films': 1, 'Material Entertainment': 1, 'Beech Hill Films': 1, 'Zadan / Meron Productions': 1, '360 Pictures': 1, 'Nightfall Productions': 1, 'Bueprint Pictures': 1, 'Halcyon Pictures': 1, 'Kinematograf Wien': 1, 'Linsefilm': 1, 'Unity Productions': 1, 'Michael Cerenzie Productions': 1, 'Funky Buddha Productions': 1, 'Resident Evil Productions': 1, 'Chime Films': 1, 'Reserve Room': 1, 'Level 1 Entertainment': 1, 'MID Foundation': 1, 'NALA Films': 1, 'Samuels Media': 1, 'Land Films Inc.': 1, 'Marshall Production': 1, 'SW7D Productions': 1, 'Foresight Unlimited': 1, 'RAMCO': 1, 'Captivity Productions': 1, 'Underground': 1, 'I Could Never Ltd.': 1, 'Bauer Martinez Studios': 1, 'Brass Hat Films': 1, 'Sunlight Productions': 1, 'Madison 23': 1, 'Dreamachine': 1, 'BBC': 1, 'Block 2 Pictures': 1, 'Jet Tone Production': 1, 'Lou Yi Inc.': 1, 'Dino de Laurentiis Cinematografica': 1, 'Red Lion Sarl': 1, 'ETIC Films': 1, 'Huayi Brothers Media Corporation': 1, 'Tyler Perry Company, The': 1, 'Mill Film': 1, 'I Remember Productions': 1, 'SKA Films': 1, 'Munich Film Partners & Company (MFP) MI2 Productions': 1, 'KirchMedia': 1, 'Wind Dancer Productions': 1, 'Arts Council of England': 1, 'Nancy Tenenbaum Films': 1, 'Interscope Communications': 1, 'Polygram Filmed Entertainment': 1, 'Fine Line Features': 1, 'Zentropa Entertainments': 1, 'Danmarks Radio (DR)': 1, 'SVT Drama': 1, 'Arte': 1, 'Technical Black': 1, 'Run It Up Productions Inc.': 1, 'Compulsion Inc.': 1, 'Splendid Medien AG': 1, 'Cranium Films': 1, 'Limited Edition Productions Inc.': 1, 'Barry Mendel Productions': 1, 'Clipsal Films': 1, 'Nine Yards Productions': 1, 'Rational Packaging Company': 1, 'Fat Free': 1, 'Mars Production Pty. Ltd.': 1, 'Red Horizon Productions': 1, 'Katira Productions GmbH & Co. KG': 1, 'Caro-McLeod': 1, 'Fox Animation Studios': 1, 'Neo Art & Logic': 1, 'Wes Craven Films': 1, 'Seven Arts Pictures': 1, 'Munich Film Partners & Company (MFP) ROE Production': 1, 'Fountainbridge Films': 1, 'Finding Forrester Productions': 1, 'Cruella Productions': 1, 'Triple Threat Talent': 1, 'Screenland Pictures': 1, 'Davis-Panzer Productions': 1, 'Walrus & Associates': 1, 'Hollywood Partners': 1, 'Charenton Productions': 1, 'Sweetpea Entertainment': 1, 'SNL Studios': 1, 'JLT Productions': 1, 'Springwood Productions': 1, 'Capella International': 1, 'KC Medien AG': 1, 'Nora Ephron Productions': 1})\n"
     ]
    }
   ],
   "source": [
    "data = pd.read_csv('data.csv')\n",
    "data['production_companies'] = data['production_companies'].apply(lambda x: x.split('|'))\n",
    "import collections\n",
    "c = collections.Counter()\n",
    "for i in range(0, len(data)):\n",
    "    for prod in data['production_companies'].iloc[i]:\n",
    "        c[prod] += 1\n",
    "print (c)"
   ]
  },
  {
   "cell_type": "code",
   "execution_count": 45,
   "metadata": {},
   "outputs": [
    {
     "data": {
      "text/plain": [
       "Universal Pictures                        173\n",
       "Warner Bros.                              168\n",
       "Paramount Pictures                        122\n",
       "Columbia Pictures                         117\n",
       "Twentieth Century Fox Film Corporation    109\n",
       "                                         ... \n",
       "Triple Threat Talent                        1\n",
       "Long Distance Films                         1\n",
       "FOZ                                         1\n",
       "Exodus Productions                          1\n",
       "Everest Entertainment                       1\n",
       "Length: 1772, dtype: int64"
      ]
     },
     "execution_count": 45,
     "metadata": {},
     "output_type": "execute_result"
    }
   ],
   "source": [
    "data = pd.read_csv('data.csv')\n",
    "pd.DataFrame(data.production_companies.str.split('|').tolist()).stack().value_counts()"
   ]
  },
  {
   "cell_type": "code",
   "execution_count": 46,
   "metadata": {},
   "outputs": [],
   "source": [
    "answer_ls.append(1)"
   ]
  },
  {
   "cell_type": "markdown",
   "metadata": {},
   "source": [
    "# 21. Какая студия сняла больше всего фильмов в 2015 году?\n",
    "Варианты ответа:\n",
    "1. Universal Pictures\n",
    "2. Paramount Pictures\n",
    "3. Columbia Pictures\n",
    "4. Warner Bros\n",
    "5. Twentieth Century Fox Film Corporation"
   ]
  },
  {
   "cell_type": "code",
   "execution_count": 47,
   "metadata": {},
   "outputs": [
    {
     "name": "stdout",
     "output_type": "stream",
     "text": [
      "Counter({'Warner Bros.': 12, 'Universal Pictures': 10, 'Twentieth Century Fox Film Corporation': 8, 'Paramount Pictures': 7, 'Columbia Pictures': 7, 'TSG Entertainment': 6, 'Legendary Pictures': 5, 'New Line Cinema': 5, 'RatPac-Dune Entertainment': 5, 'Blumhouse Productions': 5, 'Village Roadshow Pictures': 4, 'Regency Enterprises': 4, 'Walt Disney Pictures': 4, 'Studio Babelsberg': 4, 'Working Title Films': 4, 'Metro-Goldwyn-Mayer (MGM)': 4, 'Dentsu': 3, 'Summit Entertainment': 3, 'Media Rights Capital': 3, 'Scott Free Productions': 3, 'Film4': 3, 'Lionsgate': 3, 'Sony Pictures Entertainment (SPE)': 3, 'Fox 2000 Pictures': 3, 'Cross Creek Pictures': 3, 'Moving Picture Company (MPC)': 3, 'LStar Capital': 3, 'Amblin Entertainment': 2, 'Fuji Television Network': 2, 'NeoReel': 2, 'Bad Robot': 2, 'Original Film': 2, 'One Race Films': 2, 'Anonymous Content': 2, 'New Regency Pictures': 2, 'Skydance Productions': 2, 'Pixar Animation Studios': 2, 'Walt Disney Studios Motion Pictures': 2, 'Happy Madison Productions': 2, 'Marvel Studios': 2, 'Double Feature Films': 2, 'Canal+': 2, 'EuropaCorp': 2, 'Genre Films': 2, 'StudioCanal': 2, 'Escape Artists': 2, 'Marv Films': 2, 'Participant Media': 2, 'Temple Hill Entertainment': 2, 'A24': 2, 'Vertigo Entertainment': 2, 'Davis Entertainment': 2, 'Free State Pictures': 2, 'Feigco Entertainment': 2, 'Imagine Entertainment': 2, 'Entertainment One': 2, 'Sony Pictures': 2, 'Good Universe': 2, 'Groundswell Productions': 2, 'CBS Films': 2, 'Gary Sanchez Productions': 2, 'IM Global': 2, 'Screen Gems': 2, 'BBC Films': 2, 'Route One Films': 2, 'Universal Studios': 1, 'Kennedy Miller Productions': 1, 'Mandeville Films': 1, 'Red Wagon Entertainment': 1, 'Lucasfilm': 1, 'Truenorth Productions': 1, 'Appian Way': 1, 'CatchPlay': 1, 'Mid Atlantic Films': 1, 'International Traders': 1, 'Illumination Entertainment': 1, 'Danjaq': 1, 'B24': 1, 'Dune Entertainment': 1, 'Anarchos Productions': 1, 'DNA Films': 1, 'Universal Pictures International (UPI)': 1, 'Prime Focus': 1, 'Revolution Sun Studios': 1, 'The Weinstein Company': 1, 'FilmColony': 1, 'M6 Films': 1, 'CinÃ©+': 1, 'Beagle Pug Films': 1, 'Allison Shearmur Productions': 1, 'Color Force': 1, 'Babieka': 1, 'A113': 1, 'Riche-Ludwig Productions': 1, 'Flynn Picture Company': 1, 'Focus Features': 1, 'Trigger Street Productions': 1, 'Michael De Luca Productions': 1, 'Plan B Entertainment': 1, 'China Movie Channel': 1, 'TC Productions': 1, 'Fuzzy Door Productions': 1, 'Cloudy Productions': 1, 'Open Road Films': 1, 'Rocklin / Faust': 1, 'Entertainment One Features': 1, 'Gotham Group': 1, 'Alpha Core': 1, 'Gold Circle Films': 1, 'Brownstone Productions': 1, 'DreamWorks SKG': 1, 'Marc Platt Productions': 1, 'Scholastic Entertainment': 1, 'Element Pictures': 1, 'No Trace Camping': 1, 'Duperele Films': 1, 'Buena Vista': 1, 'Energy Entertainment': 1, 'Wildgaze Films': 1, 'Irish Film Board': 1, 'Item 7': 1, 'Parallel Film Productions': 1, 'Cube Vision': 1, 'Broken Chair Flickz': 1, 'Atmosphere Entertainment MM': 1, 'Goldmann Pictures': 1, 'Wigram Productions': 1, 'Lakeshore Entertainment': 1, 'Sidney Kimmel Entertainment': 1, 'Sierra/Affinity': 1, 'Bazelevs Production': 1, 'Versus Pictures': 1, 'DreamWorks Animation': 1, 'Killer Films': 1, 'Number 9 Films': 1, 'Waverly Films': 1, 'Walden Media': 1, 'Alcon Entertainment': 1, 'DMG Entertainment': 1, 'Ehman Productions': 1, 'PeaPie Films': 1, '3 Arts Entertainment': 1, 'Endgame Entertainment': 1, 'Ram Bergman Productions': 1, 'Mad Chance': 1, 'OddLot Entertainment': 1, 'Huayi Brothers Media': 1, 'Pretty Pictures': 1, 'ArtÃ©mis Productions': 1, 'Le Tax Shelter du Gouvernement FÃ©dÃ©ral de Belgique': 1, 'Taxshelter. be': 1, 'Forward Pass': 1, 'Thunder Road Pictures': 1, 'Black Label Media': 1, 'Marvel Entertainment': 1, 'Constantin Film.': 1, 'Chernin Entertainment': 1, 'Kramer & Sigman Films': 1, 'Zaftig Films': 1, 'Fox International Productions': 1, 'Infinite Frameworks Studios': 1, 'Spring Creek Productions': 1, 'Roth Films': 1, 'K. JAM Media': 1, 'Chartoff-Winkler Productions': 1, 'Apatow Productions': 1, 'Moonlighting Films': 1, 'Raindog Films': 1, 'Anton Capital Entertainment (ACE)': 1, 'Berlanti Productions': 1, 'Blue Sky Studios': 1, 'Twentieth Century Fox Animation': 1, 'The Cantillon Company': 1, 'The Shuman Company': 1, 'Point Grey Pictures': 1, 'Sony Pictures Animation': 1, 'TriStar Pictures': 1, 'Sony Pictures Entertainment': 1, 'ImageMovers': 1, 'BenderSpink': 1, 'David Dobkin Productions': 1, 'Ghost House Pictures': 1, 'Worldview Entertainment': 1, 'Blue-Tongue Films': 1, 'STX Entertainment': 1, 'Ahimsa Films': 1, 'Red Granite Pictures': 1, 'Onyx Films': 1, 'Orange Studios': 1, 'CityMation': 1, 'On Entertainment': 1, 'Zippcast Films': 1, 'Amazon Studios': 1, 'Film Art Media': 1, 'Apollo Media': 1, 'Wonderland Sound and Vision': 1, 'Vast Entertainment': 1, 'Alliance Films': 1, 'Automatik Entertainment': 1, 'Sony Pictures Releasing': 1, 'Sony Pictures Home Entertainment': 1, 'Closest to the Hole Productions': 1, 'Miramax Films': 1, 'Blinding Edge Pictures': 1, 'Infinitum Nihil': 1, 'Head Gear Films': 1, 'Bold Films': 1, 'Living Films': 1, 'Brothers Dowdle Productions': 1, 'Origin Pictures': 1, 'Little Stranger': 1, 'MTV Films': 1, 'Platinum Dunes': 1, 'Insurge Pictures': 1, 'Iron Horse Entertainment (II)': 1, 'Inimitable Pictures': 1, 'ShivHans Pictures': 1, 'Ingenious Media': 1, 'Gran Via Productions': 1, 'Nickelodeon Movies': 1, 'Nickelodeon Animation Studios': 1, 'United Plankton Pictures': 1, 'Disruption Entertainment': 1, 'Sunswept Entertainment': 1, 'Silver Pictures': 1, 'TF1 Films Production': 1, 'Instituto de la CinematografÃ\\xada y de las Artes Audiovisuales (ICAA)': 1, 'Pacific Standard': 1, 'TriStar Productions': 1, 'Columbia TriStar': 1, 'Clinica Estetico': 1, 'Scott Rudin Productions': 1, 'Ruby Films': 1, 'PathÃ©': 1, 'Metanoia Films': 1, 'Vinyl Films': 1, 'RatPac Entertainment': 1, 'Smokehouse Pictures': 1, 'Shangri-La Entertainment': 1, 'QED International': 1, 'Dune Films': 1, 'Venture Forth': 1, 'Wildwood Enterprises': 1, 'Treehouse Pictures': 1, 'Hasbro Studios': 1, 'Allspark Pictures': 1})\n"
     ]
    }
   ],
   "source": [
    "data = pd.read_csv('data.csv')\n",
    "data['production_companies'] = data['production_companies'].apply(lambda x: x.split('|'))\n",
    "data1=data[(data['release_year']==2015)]\n",
    "import collections\n",
    "c = collections.Counter()\n",
    "for i in range(0, len(data1)):\n",
    "    for prod in data1['production_companies'].iloc[i]:\n",
    "        c[prod] += 1\n",
    "print (c)\n"
   ]
  },
  {
   "cell_type": "code",
   "execution_count": 48,
   "metadata": {},
   "outputs": [
    {
     "data": {
      "text/plain": [
       "Warner Bros.                              12\n",
       "Universal Pictures                        10\n",
       "Twentieth Century Fox Film Corporation     8\n",
       "Paramount Pictures                         7\n",
       "Columbia Pictures                          7\n",
       "                                          ..\n",
       "Anton Capital Entertainment (ACE)          1\n",
       "Inimitable Pictures                        1\n",
       "CityMation                                 1\n",
       "Broken Chair Flickz                        1\n",
       "Ruby Films                                 1\n",
       "Length: 246, dtype: int64"
      ]
     },
     "execution_count": 48,
     "metadata": {},
     "output_type": "execute_result"
    }
   ],
   "source": [
    "data = pd.read_csv('data.csv')\n",
    "data1=data[(data['release_year']==2015)]\n",
    "pd.DataFrame(data1.production_companies.str.split('|').tolist()).stack().value_counts()"
   ]
  },
  {
   "cell_type": "code",
   "execution_count": 49,
   "metadata": {},
   "outputs": [],
   "source": [
    "answer_ls.append(4)"
   ]
  },
  {
   "cell_type": "markdown",
   "metadata": {},
   "source": [
    "# 22. Какая студия заработала больше всего денег в жанре комедий за все время?\n",
    "Варианты ответа:\n",
    "1. Warner Bros\n",
    "2. Universal Pictures (Universal)\n",
    "3. Columbia Pictures\n",
    "4. Paramount Pictures\n",
    "5. Walt Disney"
   ]
  },
  {
   "cell_type": "code",
   "execution_count": 50,
   "metadata": {},
   "outputs": [
    {
     "name": "stdout",
     "output_type": "stream",
     "text": [
      "Counter({'Universal Pictures': 75, 'Columbia Pictures': 62, 'Warner Bros.': 46, 'Walt Disney Pictures': 45, 'Twentieth Century Fox Film Corporation': 44, 'Paramount Pictures': 42, 'Relativity Media': 38, 'New Line Cinema': 37, 'Regency Enterprises': 27, 'Touchstone Pictures': 24, 'Happy Madison Productions': 22, 'DreamWorks SKG': 22, 'Village Roadshow Pictures': 21, 'Columbia Pictures Corporation': 21, 'Apatow Productions': 19, 'Metro-Goldwyn-Mayer (MGM)': 18, 'Dune Entertainment': 18, 'DreamWorks Animation': 17, 'Fox 2000 Pictures': 17, 'Dimension Films': 16, 'Spyglass Entertainment': 15, 'Miramax Films': 14, 'Revolution Studios': 14, 'Fox Searchlight Pictures': 12, 'The Weinstein Company': 12, 'New Regency Pictures': 11, 'Working Title Films': 11, 'Original Film': 10, 'Nickelodeon Movies': 10, 'Robert Simonds Productions': 10, 'Pixar Animation Studios': 9, 'Lionsgate': 9, 'Twentieth Century Fox Animation': 9, 'Scott Rudin Productions': 9, 'Dune Entertainment III': 9, 'Studio Canal': 9, 'Castle Rock Entertainment': 9, 'Blue Sky Studios': 8, 'Sony Pictures Animation': 8, 'Imagine Entertainment': 8, '21 Laps Entertainment': 8, 'Summit Entertainment': 8, 'Mosaic Media Group': 8, '20th Century Fox': 8, 'Mandate Pictures': 8, 'Screen Gems': 7, 'Focus Features': 7, 'NPV Entertainment': 7, 'Davis Entertainment': 6, 'Gary Sanchez Productions': 6, 'Sony Pictures Entertainment (SPE)': 6, 'Legendary Pictures': 6, 'Escape Artists': 6, 'Conundrum Entertainment': 6, 'Walden Media': 6, 'Epsilon Motion Pictures': 6, 'Media Rights Capital': 5, 'TSG Entertainment': 5, 'CBS Films': 5, 'Walt Disney Animation Studios': 5, '1492 Pictures': 5, 'Indian Paintbrush': 5, 'Warner Bros. Animation': 5, 'Marc Platt Productions': 5, 'Green Hat Films': 5, 'Flower Films (II)': 5, 'Jerry Bruckheimer Films': 5, 'Wild West Picture Show Productions': 5, 'The Montecito Picture Company': 5, 'De Line Pictures': 5, 'Tapestry Films': 5, 'Warner Bros. Pictures': 5, 'Pacific Data Images (PDI)': 5, 'Morgan Creek Productions': 5, 'Tribeca Productions': 5, 'Alcon Entertainment': 5, 'Amblin Entertainment': 5, 'Gold Circle Films': 4, 'Waverly Films': 4, 'Mad Chance': 4, 'Chernin Entertainment': 4, 'Good Universe': 4, 'BenderSpink': 4, 'BBC Films': 4, 'Participant Media': 4, 'Studio Babelsberg': 4, 'StudioCanal': 4, 'Karz Entertainment': 4, 'TriStar Pictures': 4, 'Stuber Productions': 4, 'Everyman Pictures': 4, 'Wayans Bros. Entertainment': 4, 'Paramount Animation': 4, 'Franchise Pictures': 4, 'Red Hour Films': 4, 'Film4': 4, 'Aardman Animations': 4, 'Buena Vista': 3, 'Dentsu': 3, 'Point Grey Pictures': 3, 'Groundswell Productions': 3, 'Red Granite Pictures': 3, 'Sony Pictures Releasing': 3, 'LStar Capital': 3, 'Vinyl Films': 3, 'DC Comics': 3, 'Rainforest Films': 3, 'Overbrook Entertainment': 3, 'Spring Creek Productions': 3, 'Olive Bridge Entertainment': 3, 'Silver Pictures': 3, 'Mandeville Films': 3, 'Lakeshore Entertainment': 3, 'Fox Atomic': 3, 'Fortis Films': 3, 'Mike Zoss Productions': 3, 'EuropaCorp': 3, 'Josephson Entertainment': 3, 'Broken Road Productions': 3, 'Three Strange Angels': 3, 'Goldcrest Pictures': 3, 'Gracie Films': 3, 'Sunswept Entertainment': 3, 'Imagenation Abu Dhabi FZ': 3, 'Lions Gate Films': 3, 'Zide-Perry Productions': 3, 'Gold/Miller Productions': 3, 'Brad Grey Pictures': 3, 'View Askew Productions': 3, 'Jersey Films': 3, 'Cheyenne Enterprises': 3, 'Gunn Films': 3, 'Atlas Entertainment': 3, 'Scion Films': 3, 'UK Film Council': 3, 'Rat Entertainment': 3, 'GK Films': 3, 'Sony Pictures Entertainment': 3, 'Ingenious Media': 3, 'MTV Films': 3, 'Tim Burton Productions': 3, 'Anonymous Content': 3, 'Shady Acres Entertainment': 3, 'Ingenious Film Partners': 3, 'Walt Disney Feature Animation': 3, 'DreamWorks Pictures': 3, 'Illumination Entertainment': 2, 'Plan B Entertainment': 2, 'Fuzzy Door Productions': 2, 'Brownstone Productions': 2, 'Wigram Productions': 2, 'RatPac-Dune Entertainment': 2, 'Feigco Entertainment': 2, 'Sony Pictures': 2, 'David Dobkin Productions': 2, 'Wonderland Sound and Vision': 2, 'Columbia TriStar': 2, 'Clinica Estetico': 2, 'RatPac Entertainment': 2, 'Smokehouse Pictures': 2, 'Shangri-La Entertainment': 2, 'QED International': 2, 'Lin Pictures': 2, 'WideAwake': 2, 'TF1 Films Production': 2, 'Canal+': 2, 'Cube Vision': 2, 'Crescendo Productions': 2, 'Laika Entertainment': 2, 'Internationale Filmproduktion Blackbird Dritte': 2, 'American Empirical Pictures': 2, 'Offspring Entertainment': 2, 'Radar Pictures': 2, 'Bagdasarian Productions': 2, 'Section Eight': 2, 'Paul Schiff Productions': 2, 'Sidney Kimmel Entertainment': 2, '26 Films': 2, 'Isle of Man Film': 2, 'CinemaNX': 2, 'Cold Spring Pictures': 2, 'Saturn Films': 2, 'Troublemaker Studios': 2, 'Bona Fide Productions': 2, 'Katalyst Films': 2, 'Home Box Office (HBO)': 2, 'United Artists': 2, 'Color Force': 2, 'Intellectual Properties Worldwide': 2, 'Mayhem Pictures': 2, 'Reliance BIG Entertainment': 2, 'Hyde Park Films': 2, 'Prescience': 2, 'Miramax': 2, 'Bel Air Entertainment': 2, 'Montecito Picture Company, The': 2, 'Universal Studios': 2, 'Tollin/Robbins Productions': 2, 'The Zanuck Company': 2, 'Blueprint Pictures': 2, 'Depth of Field': 2, 'Type A Films': 2, 'Media Magik Entertainment': 2, 'Guy Walks into a Bar Productions': 2, 'Deep River Productions': 2, 'Management 360': 2, 'Constantin Film Produktion': 2, 'Playtone Productions': 2, 'Kerner Entertainment Company': 2, 'Infinitum Nihil': 2, 'Rogue Pictures': 2, 'Runteldat Entertainment': 2, 'DiNovi Pictures': 2, 'Artisan Entertainment': 2, 'Storyline Entertainment': 2, 'Avery Pix': 2, 'Stillking Films': 2, 'Hemisphere Media Capital': 2, 'Parkes/MacDonald Productions': 2, 'Goldmann Pictures': 2, 'Phoenix Pictures': 2, 'Wessler Entertainment': 2, 'DNA Films': 2, 'Tall Trees Productions': 2, 'Big Screen Productions': 2, 'Laurence Mark Productions': 2, 'Two Ton Films': 2, 'Virgin Produced': 2, 'Gerber Pictures': 2, 'Weed Road Pictures': 2, 'WV Films III': 2, 'Kumar Mobiliengesellschaft mbH & Co. Projekt Nr. 2 KG': 2, 'Major Studio Partners': 2, 'Playtone Production': 2, 'Icon Entertainment International': 2, 'Storefront Pictures': 2, 'Dylan Sellers Productions': 2, 'Clifford Werber Productions': 2, 'Tiger Aspect Productions': 2, 'Walt Disney Studios Motion Pictures': 1, 'Marv Films': 1, 'Cloudy Productions': 1, 'Scholastic Entertainment': 1, 'OddLot Entertainment': 1, 'Huayi Brothers Media': 1, 'Kramer & Sigman Films': 1, 'Zaftig Films': 1, 'Fuji Television Network': 1, 'Vast Entertainment': 1, 'Sony Pictures Home Entertainment': 1, 'Closest to the Hole Productions': 1, 'Little Stranger': 1, 'Iron Horse Entertainment (II)': 1, 'Pacific Standard': 1, 'TriStar Productions': 1, 'A24': 1, 'Metanoia Films': 1, 'Dune Films': 1, 'Venture Forth': 1, 'Wildwood Enterprises': 1, 'Route One Films': 1, 'Worldview Entertainment': 1, 'Le Grisbi Productions': 1, 'M Productions': 1, 'Moving Picture Company (MPC)': 1, 'Platinum Dunes': 1, 'Mad Hatter Entertainment': 1, 'Vertigo Entertainment': 1, 'Genre Films': 1, 'Lucamar Productions': 1, 'Cannell Studios': 1, 'Heyday Films': 1, 'Open Road Films': 1, 'Aldamisa Entertainment': 1, 'Kilburn Media': 1, 'Fetisov Teterin Films': 1, 'Gulfstream Pictures': 1, 'Ghoulardi Film Company': 1, 'LBI Productions': 1, 'Goldenlight Films': 1, 'DisneyToon Studios': 1, 'Prana Studios': 1, 'Prana Animation Studios': 1, 'Treehouse Pictures': 1, 'Jim Henson Company, The': 1, 'Screen Gems, Inc.': 1, 'Warner Bros. Interactive Entertainment': 1, 'Rob Thomas Productions': 1, 'Disney': 1, 'Provident Films': 1, 'Pure Flix Entertainment': 1, 'Affirm Films': 1, 'FourBoys Entertainment': 1, 'Max Films Productions': 1, 'Morag Loves Company': 1, 'Watermark': 1, 'IFP Westcoast Erste': 1, 'Internationale Filmproduktion Blackswan': 1, 'Kurtzman/Orci': 1, 'Museum Canada Productions': 1, 'Whamaphram Productions': 1, 'Wintergreen Productions': 1, 'Lynda Obst Productions': 1, 'Bernard Gayle Productions': 1, 'Jaffe / Braunstein Enterprise': 1, 'Medienproduktion Prometheus Filmgesellschaft': 1, 'Portobello Studios': 1, 'Vidhu Vinod Chopra Productions': 1, 'Smoke House': 1, 'Goldsmith-Thomas Productions': 1, 'Sid & Marty Krofft Pictures': 1, 'Ilion Animation Studios': 1, 'Hand Made Films': 1, 'Ocean Pictures': 1, \"It's a Laugh Productions\": 1, 'Millar Gough Ink': 1, 'New Upstairs Productions': 1, 'Upstairs Canada Productions': 1, 'Smartest Man Productions': 1, 'Millennium Films': 1, 'This Is That Productions': 1, 'Edmonds Entertainment Group (EEG)': 1, 'Epidemic Pictures': 1, 'The Safran Company': 1, 'Freestyle Releasing': 1, 'Echo Lake Productions': 1, 'Premiere Picture': 1, 'Banter': 1, 'Junction Entertainment': 1, 'Dreamworks Pictures': 1, 'Di Bonaventura Pictures': 1, 'DC Entertainment': 1, 'Overnight Films': 1, 'Bedford Falls Productions': 1, 'Tree Line Films': 1, 'Pink Machine': 1, 'Octagon Films': 1, 'Birnbaum/Barber': 1, 'Echo Films': 1, 'Rice Films': 1, 'Matador Pictures': 1, 'Magic Light Pictures': 1, 'Cinema Four': 1, 'Aversano Films': 1, 'HBO Films': 1, 'Oops Doughnuts Productions': 1, 'Frontier Pictures': 1, 'New Crime Productions': 1, 'Village Roadshow Pictures Asia': 1, 'Atmosphere Entertainment MM': 1, 'Chako Film Company': 1, 'Bad Robot': 1, 'Twentieth Century Fox': 1, 'Road Rebel': 1, 'Spy Next Door': 1, 'Mosaic': 1, 'Parabolic Pictures': 1, 'Birdsong Pictures': 1, 'IM Global': 1, 'Rhythm and Hues': 1, 'Picnic Basket': 1, 'Serendipity Point Films': 1, 'Furry Vengeance Productions': 1, 'platinum studios': 1, 'Long Distance Films': 1, 'Ealing Studios': 1, 'Fragile Films': 1, 'Quickfire Films': 1, 'Aegis Film Fund': 1, 'The Tyler Perry Company': 1, 'PVR Cinemas': 1, 'Hari Om Entertainment Co.': 1, 'Blockbuster Movie Entertainers': 1, 'Little Bird': 1, 'Liveplanet': 1, 'BrownHouse Productions': 1, 'Bottom of the Ninth Productions': 1, 'Red Hour Productions': 1, 'Neal H. Moritz Productions': 1, 'Universal Cartoon Studios': 1, 'Simon Fields Productions': 1, 'Intermedia Films': 1, 'Dee Gee Entertainment': 1, 'Prufrock Pictures': 1, 'Fireworks Pictures': 1, 'Alphaville Films': 1, 'Newmarket Capital Group': 1, 'Lawrence Bender Productions': 1, 'Pistolero Productions LLC': 1, 'Bungalow Productions': 1, 'Silver Lion Films': 1, 'Vision View Entertainment': 1, 'GHS Productions KG': 1, 'Munich Film Partners & Company (MFP) GHS Productions': 1, 'Nides/McCormick Productions': 1, 'Native Pictures Productions': 1, 'Empire Pictures': 1, 'Hyde Park Entertainment': 1, 'Internationale Filmproduktion Richter': 1, 'Playtone': 1, 'Littlestar': 1, 'Penn Station Entertainment': 1, 'Internationale Filmproduktion Stella-del-Sud Second': 1, 'Heyday films': 1, 'Blue Askew': 1, 'Internationale Filmproduktion Stella-del-SÃ¼d': 1, 'Twins Financing': 1, 'Ott Medien': 1, 'Alta Loma Entertainment': 1, 'Internationale Filmproduktion': 1, 'Odd Lot Entertainment': 1, 'Dark Lot Entertainment': 1, 'Darren Star Productions': 1, 'Universal Pictures Corporation': 1, 'Michaels-Goldwyn': 1, 'Endgame Entertainment': 1, '2929 Productions': 1, 'Linson Entertainment': 1, 'Art Linson Productions': 1, 'Grosvenor Park Media Ltd.': 1, 'LionsGate': 1, '3 in the Box': 1, 'New Wave Entertainment': 1, 'Terra Firma Films': 1, 'Superfinger Entertainment': 1, 'Sherazade Film Development': 1, 'Corduroy Films': 1, 'Exodus Film Group': 1, 'Exodus Productions': 1, 'Intandem Films': 1, 'Aramid Entertainment Fund': 1, 'Lipsync Productions': 1, 'Living Films': 1, 'France 3 CinÃ©ma': 1, 'La Petite Reine': 1, 'Studio 37': 1, 'uFilm': 1, 'Jouror Productions': 1, 'Blind Wink': 1, 'Big Kid Pictures': 1, 'Impact Pictures': 1, 'Nouvelles Ã‰ditions de Films (NEF)': 1, 'New Legacy': 1, 'Denver and Delilah Productions': 1, 'Vendome Pictures': 1, 'Big Talk Productions': 1, 'Contrafilm': 1, 'LBI Entertainment': 1, 'Wild Ocean Films': 1, '2S Films': 1, 'Deuce Three Productions': 1, 'Image Entertainment': 1, 'Dr D Studios': 1, 'Kennedy Miller Mitchell': 1, 'Ad Hominem Enterprises': 1, 'FilmEngine': 1, 'Element Pictures': 1, 'Irish Film Board': 1, 'Wild Bunch': 1, 'Zanagar Films': 1, 'CinÃ©CinÃ©ma': 1, 'HW Two': 1, 'Rickshaw Productions': 1, 'The Collective Studios': 1, 'Stage 6 Films': 1, 'Sony Pictures Worldwide Acquisitions (SPWA)': 1, 'TDJ Enterprises / New Dimensions Entertainment': 1, 'Our Stories Films': 1, 'Parkes+MacDonald Image Nation': 1, 'Hughes Entertainment': 1, 'Shoelace Productions': 1, 'Out of the Blue... Entertainment': 1, 'MPH Entertainment': 1, 'Hungry Eye Lowland Pictures B.V.': 1, 'Flan de Coco Films': 1, \"Eric's Boy\": 1, 'Team Todd': 1, 'Moving Pictures': 1, 'Gratitude International': 1, 'Colombia Pictures': 1, 'Beverly Detroit': 1, 'Propaganda Films': 1, 'Intermedia': 1, 'Konrad Pictures': 1, 'Producers Circle': 1, 'Allied Filmmakers': 1, 'Motion Picture Corporation of America': 1, \"Mel's Cite du Cinema\": 1, 'Stephen J. Cannell Productions': 1, 'Nick Wechsler Productions': 1, 'Extension 765': 1, 'Moonrise': 1, 'Misher Films': 1, 'Yucaipa Films': 1, 'What to Expect Productions': 1, 'Corner Store Entertainment': 1, 'Stoller Global Solutions': 1, 'A Hot Dog': 1, 'Tim Burton Animation Company': 1, 'British Film Institute (BFI)': 1, 'Mark Canton Productions': 1, 'Varsity Pictures': 1, 'Headline Pictures': 1, 'Fake Empire': 1, 'Studio Mir': 1, 'Pit Bull Productions': 1, 'LivePlanet': 1, 'Loumolo & Co.': 1, 'Dimension Films (US version)': 1, 'Don Simpson/Jerry Bruckheimer Films': 1, 'Birnbaum / Barber Productions': 1, 'Jackie Chan Films Limited': 1, 'All Knight Productions': 1, 'Doom Buggy Productions': 1, 'Lonely Film Productions GmbH & Co. KG.': 1, 'Baltimore Spring Creek Productions': 1, 'WWE Studios': 1, 'Mediastream Dritte Film GmbH & Co. Beteiligungs KG': 1, 'Mediastream Dritte Film': 1, 'Jinks/Cohen Company': 1, 'Alphaville Productions': 1, 'GreeneStreet Films': 1, 'David Ladd Films': 1, 'Harbour Pictures': 1, 'Reiner-Greisman': 1, 'Appian Way': 1, 'EMJAG Productions': 1, 'Sikelia Productions': 1, 'Samuel Goldwyn Films': 1, 'Emmett/Furla Films': 1, 'Envision Entertainment Corporation': 1, 'Dark Horse Entertainment': 1, 'Outlaw Sinema': 1, 'Gidden Media': 1, 'Canal Plus': 1, 'Grive Productions': 1, 'Likely Story': 1, 'Exclusive Media Group': 1, 'Sycamore Pictures': 1, 'Millenium Films': 1, 'Fastnet Films': 1, 'Caramel Film': 1, 'No Trace Camping': 1, 'Dickhouse Productions': 1, 'Ruby Films': 1, 'Essential Media & Entertainment': 1, 'Hopscotch Features': 1, 'Aggregate Films': 1, 'DumbDumb': 1, 'Greenestreet Films': 1, 'Witness Protection Films': 1, 'SkyLand Entertainment': 1, 'Rainmaker Entertainment': 1, 'Mainframe Entertainment': 1, 'Weinstein Company, The': 1, 'Sony': 1, 'Perdido Productions': 1, 'Benderspink': 1, 'Carousel Productions': 1, 'NeoReel': 1, 'Reel FX Creative Studios': 1, 'Sneak Preview Productions': 1, 'Jean Doumanian Productions': 1, 'Universal': 1, 'Hammer & Tongs': 1, 'Kumar Mobiliengesellschaft mbH & Co. Projekt Nr. 1 KG': 1, 'Double Feature Films': 1, 'Nina Saxon Film Design': 1, 'Alloy Entertainment': 1, 'Dutch Oven': 1, 'New Regency Productions': 1, 'MacDonald/Parkes Productions': 1, 'Cruise/Wagner Productions': 1, 'KMP Film Invest': 1, 'Kanbar Entertainment': 1, 'Blue Yonder Films': 1, 'Red Wagon Entertainment': 1, 'Bewitched': 1, 'Wildgaze Films': 1, 'Alan Greenspan Productions': 1, 'Mars Media Beteiligungs': 1, 'Reforma Films': 1, 'Room 9 Entertainment': 1, 'JC 23 Entertainment': 1, '3 Arts Entertainment': 1, 'Bac Films': 1, 'Five Roses': 1, 'Mile High Productions': 1, 'Kevin Messick Productions': 1, 'Beacon Pictures': 1, 'Craven-Maddalena Films': 1, 'Outerbanks Entertainment': 1, 'Kalis Productions GmbH & Co. Zweite KG': 1, 'Callahan Filmworks': 1, 'Bristol Bay Productions': 1, 'Baldwin Entertainment Group': 1, 'Desertlands Entertainment': 1, 'Mace Neufeld Productions': 1, 'Max Stronghold Productions Inc.': 1, 'Big Beach Productions': 1, 'Warner Independent Pictures (WIP)': 1, 'Telegraph Films': 1, 'O.N.C. Entertainment': 1, 'Peninsula Films': 1, 'Four By Two Productions': 1, 'Kennedy Miller Productions': 1, 'Kingdom Feature Productions': 1, 'Animal Logic': 1, 'ImageMovers': 1, 'Failure to Launch Productions': 1, 'Landscape Entertainment': 1, 'John US Productions': 1, 'Universal Animation Studios': 1, 'Firm Films': 1, 'Black & White Productions': 1, 'Kaplan/Perrone Entertainment': 1, 'MMCB Film Produktion 2004': 1, 'Big Beach Films': 1, 'Scott Free Productions': 1, 'Prospero Pictures': 1, 'Rocket Pictures': 1, 'Alliance Atlantis Motion Picture Production': 1, 'The Mark Gordon Company': 1, 'Yari Film Group': 1, 'Bob Yari Productions': 1, 'Boxing Cat Films': 1, 'Atlantic Television': 1, 'Thirteen Productions': 1, 'Daybreak': 1, 'Gaylord Films': 1, 'Mediastream Vierte Film GmbH & Co. Vermarktungs KG': 1, 'Blue Sea Productions': 1, 'Loofah Productions': 1, 'Patalex Productions': 1, 'Gone North Productions': 1, 'Michael London Productions': 1, 'Sideways Productions Inc.': 1, 'AR-TL': 1, 'MHF Zweite Academy Film': 1, 'Eclipse Catering': 1, 'Nine Yards Two Productions': 1, 'Babelsberg Film': 1, 'Mostow/Lieberman Productions': 1, '80 Days Productions': 1, 'Broken Lizard Industries': 1, 'Coconut Pete Productions': 1, 'Material': 1, 'Taormina Productions': 1, 'Splendid Pictures': 1, 'Maverick Films': 1, 'Madacy Entertainment': 1, 'Bird and a Bear Entertainment': 1, 'Hallway Pictures': 1, 'Catch Productions': 1, 'Blue Star Pictures': 1, 'Columbus 81 Productions': 1, 'Andalasia Productions': 1, 'Right Coast Productions': 1, 'Imagi Animation Studios': 1, 'Mirage Studios': 1, 'Imagi Production': 1, 'Participant Productions': 1, 'Jessie Nelson Productions': 1, 'Angry Films': 1, 'Monkey Dance Productions': 1, 'Entertainment Films': 1, 'Material Entertainment': 1, 'Beech Hill Films': 1, 'Zadan / Meron Productions': 1, 'Reserve Room': 1, 'Land Films Inc.': 1, 'FilmColony': 1, 'Jon Shestack Productions': 1, 'SW7D Productions': 1, 'Underground': 1, 'I Could Never Ltd.': 1, 'Bauer Martinez Studios': 1, 'Dino de Laurentiis Cinematografica': 1, 'Dino De Laurentiis Company': 1, 'Zephyr Films': 1, 'Red Lion Sarl': 1, 'Tyler Perry Company, The': 1, 'KirchMedia': 1, 'Centropolis Entertainment': 1, 'Wind Dancer Productions': 1, 'PathÃ©': 1, 'Arts Council of England': 1, 'Nancy Tenenbaum Films': 1, 'Nine Yards Productions': 1, 'Rational Packaging Company': 1, 'Beacon Communications': 1, 'David Brown Productions': 1, 'Fat Free': 1, 'Cruella Productions': 1, 'Triple Threat Talent': 1, '40 Acres & A Mule Filmworks': 1, 'SNL Studios': 1, 'JLT Productions': 1, 'Capella International': 1, 'KC Medien AG': 1, 'Global Entertainment Productions GmbH & Company Medien KG': 1, 'Nora Ephron Productions': 1})\n"
     ]
    }
   ],
   "source": [
    "data = pd.read_csv('data.csv') \n",
    "data['production_companies'] = data['production_companies'].apply(lambda x: x.split('|'))\n",
    "data['genres'] = data['genres'].apply(lambda x: x.split('|'))\n",
    "import collections\n",
    "c = collections.Counter()\n",
    "for i in range(0, len(data)):\n",
    "    for prod in data['production_companies'].iloc[i]:\n",
    "        if 'Comedy' in data['genres'].iloc[i]:\n",
    "            c[prod] += 1\n",
    "print (c)\n",
    "\n",
    "\n"
   ]
  },
  {
   "cell_type": "code",
   "execution_count": 51,
   "metadata": {},
   "outputs": [],
   "source": [
    "answer_ls.append(2)"
   ]
  },
  {
   "cell_type": "markdown",
   "metadata": {},
   "source": [
    "# 23. Какая студия заработала больше всего денег в 2012 году?\n",
    "Варианты ответа:\n",
    "1. Universal Pictures (Universal)\n",
    "2. Warner Bros\n",
    "3. Columbia Pictures\n",
    "4. Paramount Pictures\n",
    "5. Lucasfilm"
   ]
  },
  {
   "cell_type": "code",
   "execution_count": 52,
   "metadata": {},
   "outputs": [
    {
     "name": "stdout",
     "output_type": "stream",
     "text": [
      "Counter({'Columbia Pictures': 3468406608, 'Universal Pictures': 2901011579, 'Warner Bros.': 1869520056, 'Relativity Media': 1701593938, 'Marvel Studios': 1519557910, 'New Line Cinema': 1432114941, 'Legendary Pictures': 1382041287, 'Metro-Goldwyn-Mayer (MGM)': 1332869947, 'Summit Entertainment': 1276582873, 'Dune Entertainment': 1157186707, 'DC Entertainment': 1081041287, 'Syncopy': 1081041287, 'DreamWorks Animation': 1053862944, 'WingNut Films': 1017003568, 'Twentieth Century Fox Film Corporation': 974676825, 'Walt Disney Pictures': 904613375, 'Blue Sky Studios': 877244782, 'Twentieth Century Fox Animation': 877244782, 'Lionsgate': 876309876, 'Sunswept Entertainment': 829000000, 'Temple Hill Entertainment': 829000000, 'Laura Ziskin Productions': 752215857, 'Marvel Entertainment': 752215857, 'The Weinstein Company': 713041592, 'Color Force': 691210692, 'Fox 2000 Pictures': 686128741, 'Imagenation Abu Dhabi FZ': 632165564, 'Amblin Entertainment': 624026776, 'Media Magik Entertainment': 624026776, 'Hemisphere Media Capital': 624026776, 'Parkes/MacDonald Productions': 624026776, 'Ingenious Film Partners': 609016565, 'Ingenious Media': 609016565, 'Big Screen Productions': 609016565, 'Paramount Pictures': 606726715, 'Media Rights Capital': 549368315, 'Fuzzy Door Productions': 549368315, 'Pixar Animation Studios': 538983207, 'Dentsu': 538558894, 'Bluegrass Films': 511101690, 'GK Films': 477851277, 'Sony Pictures Animation': 476713964, 'Walden Media': 475464992, 'Walt Disney Animation Studios': 471222889, 'Working Title Films': 466528985, 'CAMERON MACKINTOSH': 441809770, 'Tim Burton Productions': 439283356, 'Screen Gems': 424585077, 'Canal+': 417129654, 'EuropaCorp': 408345336, 'Scott Free Productions': 403170142, 'Brandywine Productions': 403170142, 'Contrafilm': 400499543, 'Roth Films': 396600000, 'M6 Films': 376141306, 'Grive Productions': 376141306, 'Illumination Entertainment': 348840316, 'Nu Image Films': 314679980, 'Millennium Films': 314679980, 'Hasbro': 303025485, 'Film 44': 303025485, 'Thunder Road Pictures': 301000000, 'Cott Productions': 301000000, 'Furia de Titanes II, A.I.E.': 301000000, 'Davis-Films': 292462051, 'Kennedy/Marshall Company, The': 276572938, 'Captivate Entertainment': 276572938, 'Annapurna Pictures': 252685821, 'Village Roadshow Pictures': 245527149, 'Infinitum Nihil': 245527149, 'Yucaipa Films': 236695102, 'Smokehouse Pictures': 232324128, 'Mutual Film Company': 218340595, 'Skydance Productions': 218340595, 'TC Productions': 218340595, 'Original Film': 201585328, 'Stephen J. Cannell Productions': 201585328, 'Spyglass Entertainment': 196114570, 'Misher Films': 183018522, 'Goldmann Pictures': 183018522, 'Rat Entertainment': 183018522, 'Telecinco Cinema': 180274123, 'Apaches Entertainment': 180274123, 'Canal+ EspaÃ±a': 180274123, 'Instituto de la CinematografÃ\\xada y de las Artes Audiovisuales (ICAA)': 180274123, 'Lakeshore Entertainment': 169293721, 'Nick Wechsler Productions': 167221571, 'Extension 765': 167221571, 'Apatow Productions': 166128471, 'Saturn Films': 156550834, 'Davis Entertainment': 145000000, 'Adam Schroeder Productions': 145000000, 'Blumhouse Productions': 142817992, 'Room 101': 142817992, 'Solana Films': 142817992, 'First Light Production': 132820716, 'Sketch Films': 132400000, 'UW4 Productions': 132400000, 'Anarchos Productions': 130482868, 'X-Filme Creative Pool': 130482868, 'Ascension Pictures': 130482868, 'ARD Degeto Film': 130482868, 'Cloud Atlas Productions': 130482868, 'Hammer Film Productions': 127730736, 'UK Film Council': 127730736, 'Alliance Films': 127730736, 'Film i VÃ¤st': 127730736, 'Talisman Productions': 127730736, '20th Century Fox': 119772232, 'Chernin Entertainment': 119772232, 'Aardman Animations': 118338361, 'Brownstone Productions': 115350426, 'Focus Features': 115278187, 'Mandate Pictures': 114281051, 'Escape Artists': 114281051, 'Management 360': 114281051, 'Bazelevs Production': 112265139, 'Abraham Productions': 112265139, 'Location Gourmet': 112265139, 'Laika Entertainment': 107139399, 'Phoenix Pictures': 104337469, 'Silver Pictures': 100000000, 'Green Hat Films': 100000000, 'Rainforest Films': 96070507, 'Studio Mir': 96070507, 'FilmDistrict': 91848783, 'Ghost House Pictures': 85446075, 'North Box Productions': 85446075, 'Tim Burton Animation Company': 81491068, 'IM Global': 81383928, 'Bandito Brothers': 81272766, 'Alcon Entertainment': 79700000, 'What to Expect Productions': 79700000, 'StudioCanal': 72727492, 'Scott Rudin Productions': 68263166, 'Indian Paintbrush': 68263166, 'American Empirical Pictures': 68263166, 'Moonrise': 68263166, 'Mutant Enemy Productions': 66486080, 'Leverage Management': 63100000, 'Closest to the Hole Productions': 63100000, 'Headline Pictures': 59520298, 'Corner Store Entertainment': 59418613, 'Happy Madison Productions': 58058367, 'Wessler Entertainment': 54819301, 'Stoller Global Solutions': 53909751, 'Benaroya Pictures': 53676580, 'Pie Films Inc.': 53676580, 'Konami Corporation Ltd.': 52302796, 'Exclusive Media Group': 51554432, 'Lucasfilm Ltd.': 50365377, 'Partnership Pictures': 50365377, 'Emmett/Furla Films': 48126384, 'Hedge Fund Film Partners': 48126384, 'Crave Films': 48126384, 'Knightsbridge Entertainment': 48126384, 'Endgame Entertainment': 47042000, 'DMG Entertainment': 47042000, 'Ram Bergman Productions': 47042000, 'Ixtlan': 47000000, 'Onda Entertainment': 47000000, 'Di Bonaventura Picture': 46221189, 'DNA Films': 41037742, 'Reliance BIG Entertainment': 41037742, 'Rena Film': 41037742, 'Peach Trees': 41037742, 'Lawrence Bender Productions': 40346186, 'Automatik Entertainment': 40346186, 'Trigger Street Productions': 40346186, '87Eleven': 40346186, 'Plan B Entertainment': 37930465, '1984 Private Defense Contractors': 37930465, 'Inferno Entertainment': 37930465, 'Chockstone Pictures': 37930465, 'Sidney Kimmel Entertainment': 36893721, 'Anonymous Content': 36136577, 'Artina Films': 35485056, 'Lucky Monkey Pictures': 35485056, 'Green Room Films': 35485056, 'Treehouse Pictures': 35485056, 'DreamWorks SKG': 34479055, 'Mr. Mudd Production': 33400000, 'Irish Film Board': 33372606, 'Imagine Entertainment': 32726956, 'MTV Films': 32726956, 'Insurge Pictures': 32726956, 'CBS Films': 32653722, 'CinÃ©+': 32204030, 'Pariah Entertainment Group': 31083599, 'Ghoulardi Film Company': 28258060, 'TriStar Pictures': 24637469, 'Stage 6 Films': 24637469, 'Akil Production Company': 24637469, 'A Hot Dog': 24159934, 'France 2 CinÃ©ma': 22954349, 'Varsity Pictures': 22044277, 'Blueprint Pictures': 19422261, 'British Film Institute (BFI)': 19422261, 'Film4': 19422261, 'Intrepid Pictures': 16863583, 'Film Rites': 16863583, 'Galavis Film': 16863583, 'Picture Machine': 16863583, 'Serenade Films': 13231461, 'Also Known As Pictures': 13231461, 'Touchstone Pictures': 12434778, 'Nickelodeon Movies': 11417362, 'Fake Empire': 11417362, 'Dark Castle Entertainment': 9627492, 'Studio Babelsberg Motion Pictures': 9627492, 'Dos Corazones': 9622846, 'American Zoetrope': 8784318, 'VideoFilmes': 8784318, 'Vanguard Films': 8784318, 'Dimension Films': 8493728, 'Mark Canton Productions': 8493728, 'Intellectual Properties Worldwide': 8493728, 'Participant Media': 8138788, 'Media Farm': 8138788, 'Sunday Night': 8138788, 'Onyx Films': 8106475, 'Studio 37': 8106475, 'Jouror Productions': 8106475, 'Transfilm': 8106475, 'TÃ©lÃ©film Canada': 6063556, 'Rai Cinema': 6063556, 'Prospero Pictures': 6063556, 'Alfama Films': 6063556, 'Industry Entertainment': 4636169, 'Grindstone Entertainment Group': 4636169, 'Cheetah Vision': 4636169, 'Mandalay Vision': 4636169, 'Paradox Entertainment': 4636169, 'Liddell Entertainment': 3428048, 'LD Entertainment': 3428048, 'Wonderful Films PLC': 3428048})\n"
     ]
    }
   ],
   "source": [
    "data = pd.read_csv('data.csv')\n",
    "data=data[(data['release_year']==2012)]\n",
    "data['production_companies'] = data['production_companies'].apply(lambda x: x.split('|'))\n",
    "\n",
    "import collections\n",
    "c = collections.Counter()\n",
    "for i in range(0, len(data)):\n",
    "    for prod in data['production_companies'].iloc[i]:\n",
    "        c[prod] += data['revenue'].iloc[i] \n",
    "print (c)\n",
    "\n",
    "\n"
   ]
  },
  {
   "cell_type": "code",
   "execution_count": 53,
   "metadata": {},
   "outputs": [],
   "source": [
    "answer_ls.append(3)"
   ]
  },
  {
   "cell_type": "markdown",
   "metadata": {},
   "source": [
    "# 24. Самый убыточный фильм от Paramount Pictures\n",
    "Варианты ответа:\n",
    "\n",
    "1. K-19: The Widowmaker tt0267626\n",
    "2. Next tt0435705\n",
    "3. Twisted tt0315297\n",
    "4. The Love Guru tt0811138\n",
    "5. The Fighter tt0964517"
   ]
  },
  {
   "cell_type": "code",
   "execution_count": 54,
   "metadata": {},
   "outputs": [
    {
     "name": "stdout",
     "output_type": "stream",
     "text": [
      "#24 K-19: The Widowmaker\n"
     ]
    }
   ],
   "source": [
    "import pandas as pd\n",
    "data = pd.read_csv('data.csv')\n",
    "s_profit = data.revenue - data.budget\n",
    "df_profit = s_profit.reset_index()\n",
    "df_profit.columns = ['index_film', 'profit']\n",
    "res = data.loc[df_profit[data.production_companies.str.contains('Paramount Pictures')].profit.idxmin()].original_title\n",
    "print('#24', res)\n"
   ]
  },
  {
   "cell_type": "code",
   "execution_count": 55,
   "metadata": {},
   "outputs": [],
   "source": [
    "answer_ls.append(1)"
   ]
  },
  {
   "cell_type": "markdown",
   "metadata": {},
   "source": [
    "# 25. Какой Самый прибыльный год (заработали больше всего)?\n",
    "Варианты ответа:\n",
    "1. 2014\n",
    "2. 2008\n",
    "3. 2012\n",
    "4. 2002\n",
    "5. 2015"
   ]
  },
  {
   "cell_type": "code",
   "execution_count": 56,
   "metadata": {},
   "outputs": [
    {
     "data": {
      "text/plain": [
       "release_year\n",
       "2000     6101399805\n",
       "2001     7950614865\n",
       "2002     9002361487\n",
       "2003     9228823312\n",
       "2004     9634180720\n",
       "2005     8981925558\n",
       "2006     8691077320\n",
       "2007    11565911801\n",
       "2008    11663881990\n",
       "2009    13423744372\n",
       "2010    13117292530\n",
       "2011    14730241341\n",
       "2012    16077001687\n",
       "2013    15243179791\n",
       "2014    16397812953\n",
       "2015    18668572378\n",
       "Name: marjin, dtype: int64"
      ]
     },
     "execution_count": 56,
     "metadata": {},
     "output_type": "execute_result"
    }
   ],
   "source": [
    "data = pd.read_csv('data.csv')\n",
    "data['marjin']=(data['revenue']-data['budget'])\n",
    "data.groupby(['release_year'])['marjin'].sum()\n"
   ]
  },
  {
   "cell_type": "code",
   "execution_count": 57,
   "metadata": {},
   "outputs": [],
   "source": [
    "answer_ls.append(5)"
   ]
  },
  {
   "cell_type": "markdown",
   "metadata": {},
   "source": [
    "# 26. Какой Самый прибыльный год для студии Warner Bros?\n",
    "Варианты ответа:\n",
    "1. 2014\n",
    "2. 2008\n",
    "3. 2012\n",
    "4. 2010\n",
    "5. 2015"
   ]
  },
  {
   "cell_type": "code",
   "execution_count": 58,
   "metadata": {},
   "outputs": [
    {
     "name": "stdout",
     "output_type": "stream",
     "text": [
      "# 2011\n"
     ]
    }
   ],
   "source": [
    "import pandas as pd\n",
    "data = pd.read_csv('data.csv')\n",
    "s_profit = data.revenue - data.budget\n",
    "df_profit = s_profit.reset_index()\n",
    "df_profit.columns = ['index_film', 'profit']\n",
    "res = data.loc[df_profit[data.production_companies.str.contains('Warner Bros')].profit.idxmax()].release_year\n",
    "print('#', res)\n"
   ]
  },
  {
   "cell_type": "code",
   "execution_count": 59,
   "metadata": {},
   "outputs": [
    {
     "name": "stdout",
     "output_type": "stream",
     "text": [
      "[(2014, 2295464519), (2007, 2201675217), (2008, 2134595031), (2010, 1974712985), (2011, 1871393682), (2003, 1855493377), (2009, 1822454136), (2013, 1636453400), (2004, 1631933725), (2005, 1551980298), (2001, 1343545668), (2012, 1258020056), (2002, 1022709901), (2015, 870368348), (2006, 620170743), (2000, 452631386)]\n"
     ]
    }
   ],
   "source": [
    "data = pd.read_csv('data.csv')\n",
    "data['margin']=(data['revenue']-data['budget'])\n",
    "import collections\n",
    "c = collections.Counter()\n",
    "for i in range(0, len(data)):\n",
    "    if 'Warner Bros' in data['production_companies'].iloc[i]:\n",
    "        c[data['release_year'].iloc[i]]+=data.iloc[i]['margin']\n",
    "print(c.most_common()) "
   ]
  },
  {
   "cell_type": "code",
   "execution_count": 60,
   "metadata": {},
   "outputs": [],
   "source": [
    "answer_ls.append(1)"
   ]
  },
  {
   "cell_type": "markdown",
   "metadata": {},
   "source": [
    "# 27. В каком месяце за все годы суммарно вышло больше всего фильмов?\n",
    "Варианты ответа:\n",
    "1. Январь\n",
    "2. Июнь\n",
    "3. Декабрь\n",
    "4. Сентябрь\n",
    "5. Май"
   ]
  },
  {
   "cell_type": "code",
   "execution_count": 61,
   "metadata": {},
   "outputs": [
    {
     "data": {
      "text/plain": [
       "9     227\n",
       "12    191\n",
       "10    186\n",
       "8     161\n",
       "3     156\n",
       "4     149\n",
       "6     147\n",
       "11    146\n",
       "7     142\n",
       "5     140\n",
       "2     135\n",
       "1     110\n",
       "Name: month, dtype: int64"
      ]
     },
     "execution_count": 61,
     "metadata": {},
     "output_type": "execute_result"
    }
   ],
   "source": [
    "import pandas as pd\n",
    "data = pd.read_csv('data.csv')\n",
    "data['month'] = pd.DatetimeIndex(data['release_date']).month \n",
    "data_summ=data['month'].value_counts()\n",
    "data_summ\n"
   ]
  },
  {
   "cell_type": "code",
   "execution_count": 62,
   "metadata": {},
   "outputs": [],
   "source": [
    "answer_ls.append(4)"
   ]
  },
  {
   "cell_type": "markdown",
   "metadata": {},
   "source": [
    "# 28. Сколько суммарно вышло фильмов летом? (за июнь, июль, август)\n",
    "Варианты ответа:\n",
    "1. 345\n",
    "2. 450\n",
    "3. 478\n",
    "4. 523\n",
    "5. 381"
   ]
  },
  {
   "cell_type": "code",
   "execution_count": 63,
   "metadata": {},
   "outputs": [
    {
     "name": "stdout",
     "output_type": "stream",
     "text": [
      "imdb_id                 450\n",
      "popularity              450\n",
      "budget                  450\n",
      "revenue                 450\n",
      "original_title          450\n",
      "cast                    450\n",
      "director                450\n",
      "tagline                 450\n",
      "overview                450\n",
      "runtime                 450\n",
      "genres                  450\n",
      "production_companies    450\n",
      "release_date            450\n",
      "vote_count              450\n",
      "vote_average            450\n",
      "release_year            450\n",
      "month                   450\n",
      "dtype: int64\n"
     ]
    }
   ],
   "source": [
    "import pandas as pd\n",
    "data = pd.read_csv('data.csv')\n",
    "data['month'] = pd.DatetimeIndex(data['release_date']).month \n",
    "\n",
    "summ=(data[data['month']==8].count())+(data[data['month']==6].count())+(data[data['month']==7].count())\n",
    "print(summ)"
   ]
  },
  {
   "cell_type": "code",
   "execution_count": 64,
   "metadata": {},
   "outputs": [],
   "source": [
    "answer_ls.append(2)"
   ]
  },
  {
   "cell_type": "markdown",
   "metadata": {},
   "source": [
    "# 29. Какой режисер выпускает (суммарно по годам) больше всего фильмов зимой?\n",
    "Варианты ответов:\n",
    "1. Steven Soderbergh\n",
    "2. Christopher Nolan\n",
    "3. Clint Eastwood\n",
    "4. Ridley Scott\n",
    "5. Peter Jackson"
   ]
  },
  {
   "cell_type": "code",
   "execution_count": 106,
   "metadata": {},
   "outputs": [
    {
     "data": {
      "text/plain": [
       "Peter Jackson         7\n",
       "Steven Soderbergh     6\n",
       "Clint Eastwood        6\n",
       "Shawn Levy            4\n",
       "Nancy Meyers          4\n",
       "                     ..\n",
       "Francine McDougall    1\n",
       "Tim Hill              1\n",
       "Andrew Davis          1\n",
       "Darren Aronofsky      1\n",
       "David Fincher         1\n",
       "Name: director, Length: 333, dtype: int64"
      ]
     },
     "execution_count": 106,
     "metadata": {},
     "output_type": "execute_result"
    }
   ],
   "source": [
    "data = pd.read_csv('data.csv')\n",
    "data['month'] = pd.DatetimeIndex(data['release_date']).month\n",
    "def is_alone(row):\n",
    "    if row['month']== 1:\n",
    "        return 1\n",
    "    else:\n",
    "        if row['month']==2:\n",
    "            return 1\n",
    "        else:\n",
    "            if row['month']==12:\n",
    "                return 1\n",
    "    return 0\n",
    "data['alone'] = data.apply(is_alone, axis = 1)\n",
    "data[(data['alone']==1)].director.value_counts()"
   ]
  },
  {
   "cell_type": "code",
   "execution_count": 67,
   "metadata": {},
   "outputs": [],
   "source": [
    "answer_ls.append(5)"
   ]
  },
  {
   "cell_type": "markdown",
   "metadata": {},
   "source": [
    "# 30. Какой месяц чаще всего по годам самый прибыльный?\n",
    "Варианты ответа:\n",
    "1. Январь\n",
    "2. Июнь\n",
    "3. Декабрь\n",
    "4. Сентябрь\n",
    "5. Май"
   ]
  },
  {
   "cell_type": "code",
   "execution_count": 68,
   "metadata": {},
   "outputs": [
    {
     "data": {
      "text/plain": [
       "release_year\n",
       "2000    12\n",
       "2001    12\n",
       "2002    12\n",
       "2003    12\n",
       "2004     5\n",
       "2005     5\n",
       "2006     6\n",
       "2007     6\n",
       "2008     6\n",
       "2009    12\n",
       "2010     6\n",
       "2011     7\n",
       "2012     6\n",
       "2013     6\n",
       "2014     5\n",
       "2015     6\n",
       "dtype: int64"
      ]
     },
     "execution_count": 68,
     "metadata": {},
     "output_type": "execute_result"
    }
   ],
   "source": [
    "data = pd.read_csv('data.csv')\n",
    "data['month'] = pd.DatetimeIndex(data['release_date']).month\n",
    "\n",
    "\n",
    "pivot=data.pivot_table(index = 'release_year', columns = 'month', values = 'revenue', aggfunc = 'sum')\n",
    "pivot.idxmax(axis = 1)"
   ]
  },
  {
   "cell_type": "code",
   "execution_count": 69,
   "metadata": {},
   "outputs": [],
   "source": [
    "answer_ls.append(2)"
   ]
  },
  {
   "cell_type": "markdown",
   "metadata": {},
   "source": [
    "# 31. Названия фильмов какой студии в среднем самые длинные по количеству символов?\n",
    "Варианты ответа:\n",
    "1. Universal Pictures (Universal)\n",
    "2. Warner Bros\n",
    "3. Jim Henson Company, The\n",
    "4. Paramount Pictures\n",
    "5. Four By Two Productions"
   ]
  },
  {
   "cell_type": "code",
   "execution_count": 131,
   "metadata": {},
   "outputs": [
    {
     "name": "stdout",
     "output_type": "stream",
     "text": [
      "[('Four By Two Productions', 83.0), ('Jim Henson Company, The', 59.0), ('Dos Corazones', 47.0), ('Museum Canada Productions', 46.0), ('Polsky Films', 46.0), ('The Saul Zaentz Company', 43.0), ('Lucasfilm', 41.5), ('3Foot7', 41.0), ('Total Entertainment', 41.0), ('TSBD Canada Productions', 41.0), ('Zohar International', 41.0), ('Second Mate Productions', 41.0), ('Iron Film', 41.0), ('Cool Music', 41.0), ('Harry Potter Publishing Rights', 41.0), ('Nickelodeon Animation Studios', 40.0), ('United Plankton Pictures', 40.0), ('Ozumi Films', 40.0), ('Propeler', 40.0), ('P of A Productions Limited', 40.0), ('MIRACLE Productions GmbH & Co. KG', 39.0), ('Samuel Goldwyn Films', 39.0), ('The Javelina Film Company', 39.0), ('Chris Brinker Productions', 38.0), ('Alberta Film Entertainment', 38.0), ('Intandem Films', 37.0), ('Aramid Entertainment Fund', 37.0), ('Lipsync Productions', 37.0), ('JD Productions', 37.0), ('Unique Features', 37.0), ('Mr. Smith Productions', 37.0), ('Alloy Entertainment', 37.0), ('Natural Nylon Entertainment', 37.0), ('Riff Raff Film Productions', 37.0), ('Filmauro', 37.0), ('Blue Flower Productions', 37.0), ('What to Expect Productions', 36.0), ('Hammer & Tongs', 36.0), ('Capella International', 36.0), ('KC Medien AG', 36.0), ('Sony', 35.0), ('Patalex IV Productions Limited', 35.0), ('China Movie Channel', 34.0), ('Sparkler Entertainment', 34.0), ('Linsefilm', 34.0), ('Unity Productions', 34.0), ('Michael Cerenzie Productions', 34.0), ('Funky Buddha Productions', 34.0), ('Square USA', 33.0), ('The Collective Studios', 33.0), ('Atlantic Television', 33.0), ('British Broadcasting Corporation (BBC)', 32.5), ('Walt Disney', 32.0), ('Ikiru Films', 32.0), ('Heyday Films', 31.583333333333332), ('Bagdasarian Productions', 31.0), ('Banter', 31.0), ('Bungalow Productions', 31.0), ('Silver Lion Films', 31.0), ('Vision View Entertainment', 31.0), ('Yellow Bird', 31.0), ('Mr. Mudd Production', 31.0), ('Abraham Productions', 31.0), ('Location Gourmet', 31.0), ('Benderspink', 31.0), ('Carousel Productions', 31.0), ('Summertime Entertainment', 31.0), ('Kumar Mobiliengesellschaft mbH & Co. Projekt Nr. 2 KG', 31.0), ('UW3 Film Productions', 30.0), ('Edward R. Pressman Film', 30.0), ('Ten Thirteen Productions', 30.0), ('Crying Box Productions', 30.0), ('Magical Elves Productions', 30.0), ('Scooter Braun Films', 30.0), ('WingNut Films', 29.9), ('Earth Canada Productions', 29.0), ('HW Two', 29.0), ('Dickhouse Productions', 29.0), ('Distant Horizons', 29.0), ('Film Afrika Worldwide', 29.0), ('Videovision Entertainment', 29.0), ('Allied Filmmakers', 28.5), ('1492 Pictures', 28.23076923076923), ('Truenorth Productions', 28.0), ('Cloudy Productions', 28.0), ('Stanley Kubrick Productions', 28.0), ('Picturehouse Entertainment', 28.0), ('Havana Nights LLC', 28.0), ('Zanuck Company, The', 27.666666666666668), ('Animal Logic', 27.5), ('TC Productions', 27.333333333333332), ('21 Laps Entertainment', 27.0), ('Internationale Filmproduktion Blackswan', 27.0), ('Kontsept Film Company', 27.0), ('Necropia', 27.0), ('Tequila Gang', 27.0), (\"Eric's Boy\", 27.0), ('Moving Pictures', 27.0), ('Gratitude International', 27.0), ('Madacy Entertainment', 27.0), ('Mostow/Lieberman Productions', 27.0), ('80 Days Productions', 27.0), ('I Could Never Ltd.', 27.0), ('Bauer Martinez Studios', 27.0), ('Type A Films', 26.5), ('Capitol Films', 26.5), ('Prana Animation Studios', 26.0), ('Smoke House', 26.0), ('The Tyler Perry Company', 26.0), ('Blue Askew', 26.0), ('Nouvelles Ã‰ditions de Films (NEF)', 26.0), ('Room 101', 26.0), ('Solana Films', 26.0), ('Konami Corporation Ltd.', 26.0), ('Verisimilitude', 26.0), ('Sketch Films', 25.5), ('DreamWorks Pictures', 25.428571428571427), ('Junction Entertainment', 25.333333333333332), ('Sunswept Entertainment', 25.0), ('Mad Hatter Entertainment', 25.0), ('Etalon film', 25.0), (\"It's a Laugh Productions\", 25.0), ('Millar Gough Ink', 25.0), ('Universal Cartoon Studios', 25.0), ('Marvel Knights', 25.0), ('C-2 Pictures', 25.0), ('Big Beach Productions', 25.0), ('Telegraph Films', 25.0), ('Cowboy Films', 25.0), ('Constantin Film Ltd.', 25.0), ('Primal Foe Productions', 25.0), ('Resident Evil Productions', 25.0), ('Color Force', 24.625), ('Angry Films', 24.5), ('Mediastream Dritte Film GmbH & Co. Beteiligungs KG', 24.5), ('Splendid Pictures', 24.333333333333332), ('Wigram Productions', 24.0), ('Avi Arad Productions', 24.0), ('Matt Tolmach Productions', 24.0), ('Long Distance Films', 24.0), ('Mediastream Film GmbH & Co. Productions KG', 24.0), ('China Film Co-Production Corporation', 24.0), ('Sommers Company, The', 24.0), ('Gravier Productions', 24.0), ('Antena 3 Films', 24.0), ('TelevisiÃ³ de Catalunya (TV3)', 24.0), ('Antena 3 TelevisiÃ³n', 24.0), ('MPH Entertainment', 24.0), ('Aardman Animations', 24.0), ('Stoller Global Solutions', 24.0), ('Dylan Sellers Productions', 24.0), ('Rainmaker Entertainment', 24.0), ('Mainframe Entertainment', 24.0), ('Really Useful Films', 24.0), ('Walden Media', 23.875), ('Red Hour Films', 23.75), ('Jerry Bruckheimer Films', 23.57894736842105), ('Revolution Sun Studios', 23.5), ('Miramax', 23.25), ('Temple Hill Entertainment', 23.125), ('K. JAM Media', 23.0), ('Bulletproof Cupid', 23.0), ('Maverick Films', 23.0), ('Midnight Picture Show', 23.0), ('Film Rites', 23.0), ('Parkes+MacDonald Image Nation', 23.0), ('EMJAG Productions', 23.0), ('Milkshake Films', 23.0), ('Hargitay & Hargitay Pictures in Motion', 23.0), ('MI 3 Film', 23.0), ('Rocket Pictures', 23.0), ('Alliance Atlantis Motion Picture Production', 23.0), ('Bird and a Bear Entertainment', 23.0), ('Hallway Pictures', 23.0), ('Catch Productions', 23.0), ('International Production Company', 22.666666666666668), ('Artisan Entertainment', 22.666666666666668), ('Insurge Pictures', 22.333333333333332), ('Depth of Field', 22.333333333333332), ('Toho-Towa', 22.25), ('Broken Chair Flickz', 22.0), ('Volcano Films', 22.0), ('Mosaic', 22.0), ('Neal H. Moritz Productions', 22.0), ('South Pacific Pictures', 22.0), ('Spice Factory', 22.0), ('The Australian Film Commission', 22.0), ('Universal Pictures Corporation', 22.0), ('ARP SÃ©lection', 22.0), ('Indigo Film', 22.0), ('Medusa Film', 22.0), ('Mutant Enemy Productions', 22.0), ('Warner Independent Pictures (WIP)', 22.0), ('JC 23 Entertainment', 22.0), ('Liaison Films', 22.0), ('Cent Productions Inc.', 22.0), ('Mark Gordon Productions', 22.0), ('Munich Film Partners & Company (MFP) MI2 Productions', 22.0), ('View Askew Productions', 21.666666666666668), ('Everyman Pictures', 21.25), ('Cruel and Unusual Films', 21.25), ('Moving Picture Company (MPC)', 21.0), ('Origin Pictures', 21.0), ('Hasbro Studios', 21.0), ('Allspark Pictures', 21.0), ('Huayi Brothers', 21.0), ('New Wave Entertainment', 21.0), ('Terra Firma Films', 21.0), ('Superfinger Entertainment', 21.0), ('Gambit Pictures', 21.0), ('Electric Shepherd Productions', 21.0), ('Atlas Productions', 21.0), ('UW4 Productions', 21.0), ('Galavis Film', 21.0), ('Picture Machine', 21.0), ('Room 9 Entertainment', 21.0), ('Aldrich Group', 21.0), ('Optional Pictures', 21.0), ('NALA Films', 21.0), ('Samuels Media', 21.0), ('Hyde Park Films', 20.8), ('Nickelodeon Movies', 20.714285714285715), ('Goldmann Pictures', 20.666666666666668), ('Three Strange Angels', 20.666666666666668), ('Hasbro', 20.6), ('AR Films', 20.5), ('Demarest Films', 20.5), ('Chris Lee Productions', 20.5), ('Indochina Productions', 20.5), ('Pathe', 20.5), ('Imprint Entertainment', 20.333333333333332), ('Walt Disney Studios Motion Pictures', 20.0), ('Sony Pictures Releasing', 20.0), ('Why Not Productions', 20.0), ('Zehnte Babelsberg', 20.0), ('Visiona Romantica', 20.0), ('The Halcyon Company', 20.0), ('Watermark', 20.0), ('Practical Pictures', 20.0), ('Parallel Zide', 20.0), ('Medienproduktion Prometheus Filmgesellschaft', 20.0), ('Portobello Studios', 20.0), ('New Crime Productions', 20.0), ('Omnilab Media', 20.0), ('Ambience Entertainment', 20.0), ('platinum studios', 20.0), ('BrownHouse Productions', 20.0), ('Bottom of the Ninth Productions', 20.0), ('Merlin Films', 20.0), ('Ardustry Entertainment', 20.0), ('VIP Medienfonds 4', 20.0), ('Mpower Pictures', 20.0), ('Lip Sync Post', 20.0), ('Trademark Films', 20.0), ('Runteldat Entertainment', 20.0), ('National Geographic Society', 20.0), ('Walt Disney Animation Canada', 20.0), ('Tall Trees Productions', 20.0), ('Jean Doumanian Productions', 20.0), ('Art Pictures Studio', 20.0), ('Landscape Entertainment', 20.0), ('John US Productions', 20.0), ('Big Beach Films', 20.0), ('Motion Picture THETA Produktionsgesellschaft', 20.0), ('Ludlum Entertainment', 20.0), ('Mediastream Vierte Film GmbH & Co. Vermarktungs KG', 20.0), ('Motion Picture BETA Produktionsgesellschaft', 20.0), ('Bourne Again', 20.0), ('Lauren Levine Productions Inc.', 20.0), ('360 Pictures', 20.0), ('Land Films Inc.', 20.0), ('Tyler Perry Company, The', 20.0), ('Nine Yards Productions', 20.0), ('Rational Packaging Company', 20.0), ('Platinum Dunes', 19.833333333333332), ('TSG Entertainment', 19.8), ('Flower Films (II)', 19.8), ('Route One Films', 19.5), ('Scottish Screen', 19.5), ('HBO Films', 19.5), ('Little Bird', 19.5), ('Skydance Productions', 19.444444444444443), ('DisneyToon Studios', 19.333333333333332), ('This Is That Productions', 19.333333333333332), ('Davis-Films', 19.2), ('Mutual Film Company', 19.2), ('Sony Pictures Animation', 19.0), ('TriStar Productions', 19.0), ('Disney', 19.0), ('Max Films Productions', 19.0), ('Morag Loves Company', 19.0), ('Grand Army Entertainment', 19.0), ('Hachiko', 19.0), ('Film Department, The', 19.0), ('Evil Twins', 19.0), ('Warp Films', 19.0), ('New Upstairs Productions', 19.0), ('Upstairs Canada Productions', 19.0), ('Freestyle Releasing', 19.0), ('FidÃ©litÃ© Films', 19.0), ('Hwy61', 19.0), ('AZL Productions KG', 19.0), ('MFP Munich Film Partners', 19.0), ('Phase 1 Productions', 19.0), ('Dee Gee Entertainment', 19.0), ('Prufrock Pictures', 19.0), ('Cort/Madden Productions', 19.0), ('MVL Incredible Productions', 19.0), ('Hammerhead Productions', 19.0), ('Flashpoint Entertainment', 19.0), ('Kemp Company', 19.0), ('WV Films LLC', 19.0), ('Cott Productions', 19.0), ('Furia de Titanes II, A.I.E.', 19.0), ('Inferno Entertainment', 19.0), ('Heineken Branded Entertainment', 19.0), ('Doom Buggy Productions', 19.0), ('Alphaville Productions', 19.0), ('Earthship Productions', 19.0), ('Paco Cinematografica', 19.0), ('Regione Lazio', 19.0), ('Business Location Sudtirol Alto Adige', 19.0), ('Friuli Venezia Giulia Film Commission', 19.0), ('Matinee Pictures', 19.0), ('Starbucks Entertainment', 19.0), ('Cinema Gypsy Productions', 19.0), ('Eclipse Catering', 19.0), ('Nine Yards Two Productions', 19.0), ('Friday Night Lights LLC', 19.0), ('MDBF Filmgesellschaft mbH & Company KG', 19.0), ('Block 2 Pictures', 19.0), ('Jet Tone Production', 19.0), ('Lou Yi Inc.', 19.0), ('Technical Black', 19.0), ('Run It Up Productions Inc.', 19.0), ('Seven Arts Pictures', 19.0), ('Munich Film Partners & Company (MFP) ROE Production', 19.0), ('Davis-Panzer Productions', 19.0), ('Bad Robot', 18.77777777777778), ('Wildwood Enterprises', 18.75), ('The Kennedy/Marshall Company', 18.75), ('Roth Films', 18.714285714285715), ('Studio Babelsberg', 18.7), ('Plan B Entertainment', 18.7), ('Lawrence Gordon Productions', 18.666666666666668), ('DiNovi Pictures', 18.666666666666668), ('Apatow Productions', 18.63157894736842), ('Saturn Films', 18.615384615384617), ('Stage 6 Films', 18.6), ('Constantin Film Produktion', 18.6), ('Fox 2000 Pictures', 18.542857142857144), ('Marvel Entertainment', 18.5), ('Sikelia Productions', 18.5), ('Stillking Films', 18.5), ('MHF Zweite Academy Film', 18.5), ('Walt Disney Television Animation', 18.5), ('Walt Disney Animation Australia', 18.5), ('Studio Canal', 18.454545454545453), ('IMF Internationale Medien und Film GmbH & Co. 3. Produktions KG', 18.333333333333332), ('Baltimore Spring Creek Productions', 18.333333333333332), ('Scott Rudin Productions', 18.291666666666668), ('Tim Burton Productions', 18.272727272727273), ('Indian Paintbrush', 18.2), ('Lin Pictures', 18.2), ('River Road Entertainment', 18.166666666666668), ('Gotham Group', 18.0), ('Sierra/Affinity', 18.0), ('Sony Pictures Home Entertainment', 18.0), ('Ingenious Media', 18.0), ('Clinica Estetico', 18.0), ('Black Bear Pictures', 18.0), ('Bristol Automotive', 18.0), ('5150 Action', 18.0), ('The Combine', 18.0), ('A Band Apart', 18.0), ('Mark Johnson Productions', 18.0), ('Curmudgeon Films', 18.0), ('Industrial Light & Magic (ILM)', 18.0), ('Village Roadshow Pictures Asia', 18.0), ('Parabolic Pictures', 18.0), ('Birdsong Pictures', 18.0), ('Swanford Films', 18.0), ('KC Medien', 18.0), ('Immortal Entertainment', 18.0), ('SGF Entertainment', 18.0), ('Evamere Entertainment', 18.0), ('Odyssey Entertainment', 18.0), ('Playtone Productions', 18.0), ('Wild Ocean Films', 18.0), ('2S Films', 18.0), ('Recorded Pictures Company', 18.0), ('The Movie Network', 18.0), ('Millbrook Pictures', 18.0), ('Lago Film', 18.0), ('Corrino Media Corporation', 18.0), ('Corsan', 18.0), ('Staccato Films', 18.0), ('Pandora Pictures', 18.0), ('Talisman Productions', 18.0), ('Myriad Pictures', 18.0), ('Jeepers Creepers II', 18.0), ('Truth Entertainment', 18.0), ('Reforma Films', 18.0), ('Persistent Entertainment', 18.0), ('Section Eight Productions', 18.0), ('Dante Entertainment', 18.0), ('Crusader Entertainment', 18.0), ('O.N.C. Entertainment', 18.0), ('Hard Eight Pictures', 18.0), ('VIP 4 Medienfonds', 18.0), ('MMCB Film Produktion 2004', 18.0), ('Daybreak', 18.0), ('Gaylord Films', 18.0), ('Scholastic Productions', 18.0), ('Marshall Production', 18.0), ('Fine Line Features', 18.0), ('Zentropa Entertainments', 18.0), ('Danmarks Radio (DR)', 18.0), ('SVT Drama', 18.0), ('Arte', 18.0), ('Sweetpea Entertainment', 18.0), ('Amblin Entertainment', 17.869565217391305), ('Castle Rock Entertainment', 17.866666666666667), ('Red Granite Pictures', 17.75), ('Blumhouse Productions', 17.727272727272727), ('Team Todd', 17.666666666666668), ('Hyde Park Entertainment', 17.666666666666668), ('Spring Creek Productions', 17.5), ('Kurtzman/Orci', 17.5), ('Grosvenor Park Media Ltd.', 17.5), ('New Line Cinema', 17.397727272727273), ('Disruption Entertainment', 17.333333333333332), ('Tribeca Productions', 17.333333333333332), ('FilmEngine', 17.333333333333332), ('Lonely Film Productions GmbH & Co. KG.', 17.333333333333332), ('Impact Pictures', 17.22222222222222), ('MTV Films', 17.166666666666668), ('Big Screen Productions', 17.166666666666668), ('Dune Entertainment', 17.15909090909091), ('Marvel Studios', 17.083333333333332), ('Walt Disney Pictures', 17.048780487804876), ('Paramount Pictures', 17.0327868852459), ('FilmColony', 17.0), ('Babieka', 17.0), ('Orange Studios', 17.0), ('CityMation', 17.0), ('On Entertainment', 17.0), ('Zippcast Films', 17.0), ('Lynda Obst Productions', 17.0), ('Ex3 Productions', 17.0), ('1984 Private Defense Contractors', 17.0), ('Obelisk Productions', 17.0), ('Electric City Entertainment', 17.0), ('Seven West Media', 17.0), ('Fear of God Films', 17.0), ('Seven Group Holdings', 17.0), ('Affirm Films', 17.0), ('Langley Productions', 17.0), ('Thunder Road Productions', 17.0), ('Fuqua Films', 17.0), ('Tooley Productions', 17.0), ('Tapestry Films', 17.0), ('Great Scott Productions Pty. Ltd.', 17.0), ('Bedlam Productions', 17.0), ('See-Saw Films', 17.0), ('Home Box Office (HBO)', 17.0), ('Spy Next Door', 17.0), ('Boram Entertainment Inc.', 17.0), ('Imhotep Productions', 17.0), ('Initial Entertainment Group', 17.0), ('Blue Star Pictures', 17.0), ('First Foot Films', 17.0), ('Crystal City Entertainment', 17.0), ('Prospero Pictures', 17.0), ('Sony Pictures Worldwide Acquisitions (SPWA)', 17.0), ('TDJ Enterprises / New Dimensions Entertainment', 17.0), ('Our Stories Films', 17.0), ('Hughes Entertainment', 17.0), ('Shoelace Productions', 17.0), ('Alberto Grimaldi Productions', 17.0), ('Hacienda Productions', 17.0), ('World Wrestling Entertainment (WWE)', 17.0), ('Schroeder Hoffman Productions', 17.0), ('Jaffilms Inc.', 17.0), ('Captivate Entertainment', 17.0), ('Super Cool ManChu', 17.0), ('Turner Pictures', 17.0), ('Antietam Filmworks', 17.0), ('Boll Kino Beteiligungs GmbH & Co. KG', 17.0), ('Herold Productions', 17.0), ('Mindfire Entertainment', 17.0), ('K5 International', 17.0), ('Infogrames Entertainment', 17.0), ('Government of Malta', 17.0), ('Failure to Launch Productions', 17.0), ('Golden Mean', 17.0), ('Universal CGI', 17.0), ('Film Colony', 17.0), ('Fountainbridge Films', 17.0), ('Finding Forrester Productions', 17.0), ('Triple Threat Talent', 17.0), ('Wonderland Sound and Vision', 16.8), ('Gran Via Productions', 16.8), ('Radar Pictures', 16.77777777777778), ('UK Film Council', 16.764705882352942), ('Paradox Entertainment', 16.75), ('Virtual Studios', 16.714285714285715), ('BBC Films', 16.6875), ('Next Entertainment', 16.666666666666668), ('Walt Disney Feature Animation', 16.571428571428573), ('Alcon Entertainment', 16.533333333333335), ('Twentieth Century Fox Film Corporation', 16.504587155963304), ('Prana Studios', 16.5), ('Hopscotch Features', 16.5), ('American Empirical Pictures', 16.5), ('Seed Productions', 16.5), ('Neal Street Productions', 16.5), ('2 Entertain', 16.5), ('Management 360', 16.5), ('New Legacy', 16.5), ('Material', 16.5), ('Kumar Mobiliengesellschaft mbH & Co. Projekt Nr. 1 KG', 16.5), ('Playtone Production', 16.5), ('Kernos Filmproduktionsgesellschaft & Company', 16.5), ('Nu Image Films', 16.454545454545453), ('Gary Sanchez Productions', 16.428571428571427), ('Sidney Kimmel Entertainment', 16.375), ('Buena Vista', 16.333333333333332), ('Cube Vision', 16.333333333333332), ('Mandate Pictures', 16.333333333333332), ('WV Films III', 16.333333333333332), ('Mike Zoss Productions', 16.2), ('The Zanuck Company', 16.166666666666668), ('Alphaville Films', 16.166666666666668), ('DreamWorks Animation', 16.153846153846153), ('Imagenation Abu Dhabi FZ', 16.083333333333332), ('Prime Focus', 16.0), ('Infinite Frameworks Studios', 16.0), ('Columbia TriStar', 16.0), ('Viz Media', 16.0), ('Irish Dreamtime', 16.0), ('SPD Films', 16.0), ('Qwerty Films', 16.0), ('TF1 Droits Audiovisuels', 16.0), ('Ingenious Film Partners', 16.0), ('Dune Entertainment III', 16.0), ('Skylark Productions', 16.0), ('Fortis Films', 16.0), ('Gunn Films', 16.0), ('Rogue', 16.0), ('Sid & Marty Krofft Pictures', 16.0), ('26 Films', 16.0), ('Runteam Ltd.', 16.0), ('R.P. Productions', 16.0), ('Henceforth', 16.0), ('Projection Pictures', 16.0), ('London Boulevard', 16.0), ('Penn Station Entertainment', 16.0), ('Serendipity Point Films', 16.0), ('HighRoad Entertainment', 16.0), ('Prelude Pictures', 16.0), ('Lone Runner Entertainment', 16.0), ('Kenio Films', 16.0), ('Perfect Game, The', 16.0), ('Asymmetrical Productions', 16.0), ('Les Films Alain Sarde', 16.0), ('Babbo Inc.', 16.0), ('The Picture Factory', 16.0), ('Zide-Perry Productions', 16.0), ('Lucky Red', 16.0), ('Cinerenta-Cinebeta', 16.0), ('VCL Communications', 16.0), ('Ott Medien', 16.0), ('Darren Star Productions', 16.0), ('Bay Films', 16.0), ('British Film Council', 16.0), ('Icon Entertainment International', 16.0), ('Wheelhouse Entertainment', 16.0), ('Motion Picture Production GmbH & Co. Erste KG', 16.0), ('Moonrise', 16.0), ('First Light Production', 16.0), ('Varsity Pictures', 16.0), ('Studio Mir', 16.0), ('Loumolo & Co.', 16.0), ('Jackie Chan Films Limited', 16.0), ('All Knight Productions', 16.0), ('Michael Lobell Productions', 16.0), ('Cecchi Gori Group Tiger Cinematografica', 16.0), ('A&E Television Networks', 16.0), ('Mythology Entertainment (II)', 16.0), ('Essential Media & Entertainment', 16.0), ('Dutch Oven', 16.0), ('New Regency Productions', 16.0), ('The Ladd Company', 16.0), ('ShadowCatcher Entertainment', 16.0), ('Daniel Bobker Productions', 16.0), ('Biscayne Pictures', 16.0), ('Romero-Grunwald Productions', 16.0), ('Exception Wild Bunch', 16.0), ('Callahan Filmworks', 16.0), ('Pricel', 16.0), ('Tohokushinsha Film', 16.0), ('Commission du Film France', 16.0), ('Thousand Words', 16.0), ('Detour Filmproduction', 16.0), ('Paramount Classics', 16.0), ('Loofah Productions', 16.0), ('New Amsterdam Entertainment', 16.0), ('HorrorFlix', 16.0), ('Astral Media', 16.0), ('Reserve Room', 16.0), ('Dino de Laurentiis Cinematografica', 16.0), ('Red Lion Sarl', 16.0), ('Nancy Tenenbaum Films', 16.0), ('Imagine Entertainment', 15.76), ('Harpo Films', 15.666666666666666), ('Rising Star', 15.666666666666666), ('Di Bonaventura Pictures', 15.642857142857142), ('American Zoetrope', 15.6), ('Warner Bros.', 15.571428571428571), ('Scion Films', 15.545454545454545), ('Energy Entertainment', 15.5), ('LionsGate', 15.5), ('The Jacobson Company', 15.5), ('MacDonald/Parkes Productions', 15.5), ('Babelsberg Film', 15.5), ('Smokehouse Pictures', 15.4), ('Warner Bros. Animation', 15.4), ('Dark Horse Entertainment', 15.4), ('Kennedy/Marshall Company, The', 15.375), ('Katalyst Films', 15.333333333333334), ('Weinstein Company, The', 15.333333333333334), ('Zephyr Films', 15.333333333333334), ('Cruise/Wagner Productions', 15.3), ('Appian Way', 15.222222222222221), ('Lakeshore Entertainment', 15.208333333333334), ('Fox Searchlight Pictures', 15.208333333333334), ('Mid Atlantic Films', 15.2), ('Bazelevs Production', 15.2), ('Paramount Animation', 15.2), ('Millennium Films', 15.117647058823529), ('Miramax Films', 15.102564102564102), ('Village Roadshow Pictures', 15.063492063492063), ('Metro-Goldwyn-Mayer (MGM)', 15.0625), ('20th Century Fox', 15.058823529411764), ('Working Title Films', 15.037037037037036), ('One Race Films', 15.0), ('Gold Circle Films', 15.0), ('Pretty Pictures', 15.0), ('ArtÃ©mis Productions', 15.0), ('Le Tax Shelter du Gouvernement FÃ©dÃ©ral de Belgique', 15.0), ('Taxshelter. be', 15.0), ('Iron Horse Entertainment (II)', 15.0), ('Venture Forth', 15.0), ('Dayday Films', 15.0), ('Mad Chance Productions', 15.0), ('Aldamisa Entertainment', 15.0), ('Before the Door Pictures', 15.0), ('Washington Square Films', 15.0), ('LBI Productions', 15.0), ('Hopscotch Films', 15.0), ('Provident Films', 15.0), ('FourBoys Entertainment', 15.0), ('Panorama Films', 15.0), ('Curse Productions', 15.0), ('Bernard Gayle Productions', 15.0), ('Saga Film', 15.0), ('Chambara Pictures', 15.0), ('CinemaNX', 15.0), ('Firm Films', 15.0), ('Rice Films', 15.0), ('Battle Mountain Films', 15.0), ('American Film Company', 15.0), ('Lions Gate Family Entertainment', 15.0), ('Crest Animation Productions', 15.0), ('Furry Vengeance Productions', 15.0), ('Black and Blu Entertainment', 15.0), ('Finestkind', 15.0), ('Intermedia Films', 15.0), ('Ufland', 15.0), ('Eon Productions', 15.0), ('Hypnotic', 15.0), ('Kingsgate Films', 15.0), ('Voltage Pictures', 15.0), ('Film Capital Europe Funds (FCEF )', 15.0), ('Baumgarten Management and Productions (BMP)', 15.0), ('Alta Loma Entertainment', 15.0), ('Random Films', 15.0), ('LBI Entertainment', 15.0), ('Ad Hominem Enterprises', 15.0), ('Aura Film Partnership', 15.0), ('Kalima Productions GmbH & Co. KG', 15.0), ('TF1 Films Productions', 15.0), ('Sea Breeze Productions Inc.', 15.0), ('Marty Katz Productions', 15.0), ('Clear Blue Sky Productions', 15.0), ('CAMERON MACKINTOSH', 15.0), ('RabbitBandini Productions', 15.0), ('Division Films', 15.0), ('Pop Films', 15.0), ('Muse Productions', 15.0), ('Millenium Films', 15.0), ('Two Ton Films', 15.0), ('Silver Bullet Productions (II)', 15.0), ('Blind Wink Productions', 15.0), ('Archer Street Productions', 15.0), ('Latitude Media', 15.0), ('Mile High Productions', 15.0), ('Kevin Messick Productions', 15.0), ('Hit & Run Productions', 15.0), ('Contagious Entertainment', 15.0), ('Sunset Gower Studios', 15.0), ('Clifford Werber Productions', 15.0), ('Fellowship Adventure Group', 15.0), ('AR-TL', 15.0), ('Wendy Finerman Productions', 15.0), ('Tiger Aspect Productions', 15.0), ('Zadan / Meron Productions', 15.0), ('ETIC Films', 15.0), ('Wind Dancer Productions', 15.0), ('Red Horizon Productions', 15.0), ('Double Feature Films', 14.9), ('Universal Studios', 14.833333333333334), ('Silver Pictures', 14.823529411764707), ('Summit Entertainment', 14.804878048780488), ('Lionsgate', 14.8), ('Columbia Pictures Corporation', 14.787234042553191), ('Waverly Films', 14.75), ('Josephson Entertainment', 14.75), ('Kanzaman', 14.75), ('Columbia Pictures', 14.717948717948717), ('Universal Pictures', 14.716763005780347), ('Jersey Films', 14.666666666666666), ('Conundrum Entertainment', 14.666666666666666), ('Atlas Entertainment', 14.666666666666666), ('Fox Searchlight', 14.666666666666666), ('Major Studio Partners', 14.666666666666666), ('Screen Gems', 14.64516129032258), ('Marc Platt Productions', 14.6), ('Mad Chance', 14.6), ('Lawrence Bender Productions', 14.6), ('Lions Gate Films', 14.578947368421053), ('Davis Entertainment', 14.555555555555555), ('Living Films', 14.5), ('Don Carmody Productions', 14.5), ('Pure Flix Entertainment', 14.5), ('Aegis Film Fund', 14.5), ('Jerry Weintraub Productions', 14.5), ('Maguire Entertainment', 14.5), ('Morgan Creek Productions', 14.5), (\"Mel's Cite du Cinema\", 14.5), ('China Film Group Corporation (CFGC)', 14.5), ('Birnbaum / Barber Productions', 14.5), ('Mandalay Pictures', 14.428571428571429), ('Scott Free Productions', 14.333333333333334), ('Big Kid Pictures', 14.333333333333334), ('Olive Bridge Entertainment', 14.333333333333334), ('Internationale Filmproduktion Blackbird Dritte', 14.333333333333334), ('Gerber Pictures', 14.333333333333334), ('Cheetah Vision', 14.333333333333334), ('Mirage Enterprises', 14.333333333333334), ('Film4', 14.307692307692308), ('Escape Artists', 14.307692307692308), ('Dimension Films', 14.297297297297296), ('Contrafilm', 14.285714285714286), ('Participant Media', 14.266666666666667), ('CBS Films', 14.2), ('One Race Productions', 14.2), ('NPV Entertainment', 14.15), ('Chernin Entertainment', 14.142857142857142), ('The Weinstein Company', 14.035714285714286), ('Kennedy Miller Productions', 14.0), ('NeoReel', 14.0), ('Focus Features', 14.0), ('Brownstone Productions', 14.0), ('Versus Pictures', 14.0), ('Constantin Film.', 14.0), ('Raindog Films', 14.0), ('Onyx Films', 14.0), ('Amazon Studios', 14.0), ('Film Art Media', 14.0), ('Apollo Media', 14.0), ('Dune Films', 14.0), ('Lucamar Productions', 14.0), ('Cannell Studios', 14.0), ('Karz Entertainment', 14.0), ('Ghoulardi Film Company', 14.0), ('Screen Queensland', 14.0), ('Blacklab Entertainment', 14.0), ('Wolfhound Pictures', 14.0), ('Electronic Arts', 14.0), ('D8', 14.0), ('Screen Gems, Inc.', 14.0), ('Creative Scotland', 14.0), ('Boxing Cat Films', 14.0), ('Green Hat Films', 14.0), ('Left Tackle Pictures', 14.0), ('Zucker/Netter Productions', 14.0), ('Palomar Pictures (II)', 14.0), ('Andell Entertainment', 14.0), ('Jaffe / Braunstein Enterprise', 14.0), ('X-Filme Creative Pool', 14.0), ('Dentsu Inc.', 14.0), ('Spectacle Entertainment Group', 14.0), ('Dreamworks Pictures', 14.0), ('Pink Machine', 14.0), ('China Film Group', 14.0), ('Reliance BIG Entertainment', 14.0), ('Gracie Films', 14.0), ('PVR Cinemas', 14.0), ('Hari Om Entertainment Co.', 14.0), ('Blockbuster Movie Entertainers', 14.0), ('Liveplanet', 14.0), ('Storm King Productions', 14.0), ('Animationwerks', 14.0), ('Dan Films', 14.0), ('CP Medien AG', 14.0), ('Internationale Filmproduktion Stella-del-Sud Second', 14.0), ('InVenture Entertainment', 14.0), ('Nu-Image Films', 14.0), ('Deep River Productions', 14.0), ('3 in the Box', 14.0), ('Participant Productions', 14.0), ('Dr D Studios', 14.0), ('Kennedy Miller Mitchell', 14.0), ('Out of the Blue... Entertainment', 14.0), ('Catch 23 Entertainment', 14.0), ('Stephen J. Cannell Productions', 14.0), ('Di Bonaventura Picture', 14.0), ('North Box Productions', 14.0), ('Mandalay Vision', 14.0), ('Studio Babelsberg Motion Pictures', 14.0), ('Pit Bull Productions', 14.0), ('Mediastream Dritte Film', 14.0), ('Harbour Pictures', 14.0), ('SOIXAN7E QUIN5E', 14.0), ('See Me Louisiana', 14.0), ('Langley Park Production', 14.0), ('Aggregate Films', 14.0), ('DumbDumb', 14.0), ('PathÃ© Distribution', 14.0), ('Company Films', 14.0), ('Dalian Wanda Group', 14.0), ('Kumar Mobiliengesellschaft mbH & Co. Projekt Nr. 3 KG', 14.0), ('Parkway Pictures (I)', 14.0), ('Five Roses', 14.0), ('Sound for Film', 14.0), ('Universal Animation Studios', 14.0), ('True Grit Productions', 14.0), ('Zero Gravity Management', 14.0), ('Pierce/Williams Entertainment', 14.0), ('Shawn Danielle Productions Ltd.', 14.0), ('Thirteen Productions', 14.0), ('Taormina Productions', 14.0), ('Sociedad General de Cine S.A.', 14.0), ('Entertainment Films', 14.0), ('Material Entertainment', 14.0), ('Beech Hill Films', 14.0), ('Underground', 14.0), ('Brass Hat Films', 14.0), ('Dreamachine', 14.0), ('Cruella Productions', 14.0), ('SNL Studios', 14.0), ('Happy Madison Productions', 13.91304347826087), ('DreamWorks SKG', 13.903225806451612), ('Spyglass Entertainment', 13.875), ('France 2 CinÃ©ma', 13.833333333333334), ('Marv Films', 13.8), ('Robert Simonds Productions', 13.8), ('Bel Air Entertainment', 13.8), ('Touchstone Pictures', 13.793103448275861), ('Exclusive Media Group', 13.777777777777779), ('Franchise Pictures', 13.76923076923077), ('Alliance Films', 13.75), ('Icon Productions', 13.75), ('Brightlight Pictures', 13.75), ('Troublemaker Studios', 13.714285714285714), ('DNA Films', 13.7), ('Phoenix Pictures', 13.666666666666666), ('StudioCanal', 13.608695652173912), ('Wild West Picture Show Productions', 13.6), ('Atmosphere Entertainment MM', 13.571428571428571), ('Dentsu', 13.5), ('Fox International Productions', 13.5), ('Ruby Films', 13.5), ('Albert S. Ruddy Productions', 13.5), ('Inferno Distribution', 13.5), ('Road Rebel', 13.5), ('Hammer Film Productions', 13.5), ('Red Wagon Productions', 13.5), ('David Brown Productions', 13.5), ('Hal Lieberman Company', 13.5), ('Anonymous Content', 13.454545454545455), ('United Artists', 13.444444444444445), ('Legendary Pictures', 13.411764705882353), ('Regency Enterprises', 13.408163265306122), ('Anarchos Productions', 13.4), ('3 Arts Entertainment', 13.4), ('Syncopy', 13.375), ('Point Grey Pictures', 13.333333333333334), ('Offspring Entertainment', 13.333333333333334), ('HanWay Films', 13.333333333333334), ('De Line Pictures', 13.333333333333334), ('Bedford Falls Productions', 13.333333333333334), ('World 2000 Entertainment', 13.333333333333334), ('Universal', 13.333333333333334), ('Relativity Media', 13.262626262626263), ('Shangri-La Entertainment', 13.25), ('Treehouse Pictures', 13.25), ('Grindstone Entertainment Group', 13.25), ('Ecosse Films', 13.25), ('Avery Pix', 13.25), ('Reliance Entertainment', 13.125), ('EuropaCorp', 13.117647058823529), ('Original Film', 13.10344827586207), ('Sony Pictures Entertainment', 13.0), ('BenderSpink', 13.0), ('RatPac Entertainment', 13.0), ('Mace Neufeld Productions', 13.0), ('Province of British Columbia Production Services Tax Credit', 13.0), ('Malpaso Productions', 13.0), ('Straight Up Films', 13.0), ('Bandito Brothers', 13.0), ('Broken Road Productions', 13.0), ('Warner Bros. Interactive Entertainment', 13.0), ('Rob Thomas Productions', 13.0), ('Panay Films', 13.0), ('Key Creatives', 13.0), ('Wintergreen Productions', 13.0), ('2929 Productions', 13.0), ('Easy There Tiger Productions', 13.0), ('Pictures in Paradise', 13.0), ('Mosaic Media Group', 13.0), ('Tree Line Films', 13.0), ('Red Om Films', 13.0), ('Madhouse Entertainment', 13.0), ('Brad Grey Pictures', 13.0), ('Metropolitan Filmexport', 13.0), ('Crystal Sky Worldwide', 13.0), ('MDP Worldwide', 13.0), ('Carousel Picture Company, The', 13.0), ('Signature Entertainment', 13.0), ('Europa Corp', 13.0), ('Art In Motion', 13.0), ('Blueprint Pictures', 13.0), ('Internationale Filmproduktion', 13.0), ('Lietuvos Kinostudija', 13.0), ('Scout Productions', 13.0), ('Castelao Producciones', 13.0), ('Ascendant Pictures', 13.0), ('UTV Motion Pictures', 13.0), ('Blue Tulip Productions', 13.0), ('Initial Entertainment Group (IEG)', 13.0), ('Hungry Eye Lowland Pictures B.V.', 13.0), ('Flan de Coco Films', 13.0), ('Tripod Entertainment', 13.0), ('Media Farm', 13.0), ('Sunday Night', 13.0), ('TÃ©lÃ©film Canada', 13.0), ('Cattleya', 13.0), ('FidÃ©litÃ© Productions', 13.0), ('Gimages', 13.0), ('FOZ', 13.0), ('Herrick Entertainment', 13.0), ('Stone Village Pictures', 13.0), ('Sneak Preview Productions', 13.0), ('TF 1 Film Productions', 13.0), ('MBC Beteiligungs Filmproduktion', 13.0), ('Catfish Productions', 13.0), ('Tiara Blu Films', 13.0), ('Blackfriars Bridge Films', 13.0), ('Grand Slam Productions', 13.0), ('Filmax Entertainment', 13.0), ('ICF', 13.0), ('Visual Arts Entertainment', 13.0), ('Into the Wild', 13.0), ('Monkey Dance Productions', 13.0), ('Bueprint Pictures', 13.0), ('Sunlight Productions', 13.0), ('Madison 23', 13.0), ('Clipsal Films', 13.0), (\"Donners' Company\", 12.88888888888889), ('Centropolis Entertainment', 12.833333333333334), ('Epsilon Motion Pictures', 12.833333333333334), ('Sony Pictures', 12.8), ('Isle of Man Film', 12.8), ('Moonlighting Films', 12.75), ('Bona Fide Productions', 12.75), ('Quinta Communications', 12.75), ('Paramount Vantage', 12.7), ('Fuji Television Network', 12.666666666666666), ('Peninsula Films', 12.666666666666666), ('Bazmark Films', 12.666666666666666), ('Art Linson Productions', 12.666666666666666), ('Baldwin Entertainment Group', 12.666666666666666), ('Cheyenne Enterprises', 12.625), ('New Regency Pictures', 12.607142857142858), ('Laura Ziskin Productions', 12.6), ('Stuber Productions', 12.571428571428571), ('Rogue Pictures', 12.555555555555555), ('Twentieth Century Fox Animation', 12.5), ('Hollywood Gang Productions', 12.5), ('Nimar Studios', 12.5), ('Bluegrass Films', 12.5), ('Kaplan/Perrone Entertainment', 12.5), ('Lions Gate', 12.5), ('Valhalla Motion Pictures', 12.5), ('Bac Films', 12.5), ('Tim Burton Animation Company', 12.5), ('Wessler Entertainment', 12.5), ('Pariah Entertainment Group', 12.5), ('After Dark Films', 12.5), ('MFPV Film', 12.5), ('Storefront Pictures', 12.5), ('Rainforest Films', 12.4), ('DC Entertainment', 12.4), ('Cold Spring Pictures', 12.333333333333334), ('Linson Entertainment', 12.333333333333334), ('Hemisphere Media Capital', 12.333333333333334), ('Weed Road Pictures', 12.285714285714286), ('Section Eight', 12.25), ('Playtone', 12.25), ('DC Comics', 12.11111111111111), ('Vertigo Entertainment', 12.0625), ('CatchPlay', 12.0), ('A113', 12.0), ('Trigger Street Productions', 12.0), ('Thunder Road Pictures', 12.0), ('Entertainment One', 12.0), ('Blue Sky Studios', 12.0), ('LStar Capital', 12.0), ('Groundswell Productions', 12.0), ('Ghost House Pictures', 12.0), ('Walt Disney Animation Studios', 12.0), ('Sierra / Affinity', 12.0), ('WideAwake', 12.0), ('IFP Westcoast Erste', 12.0), ('Camp / Thompson Pictures', 12.0), ('Trancas International Films', 12.0), ('Smartest Man Productions', 12.0), ('Czech Anglo Productions', 12.0), ('Wandering Star Pictures', 12.0), ('Ozla Pictures', 12.0), ('Sean Bailey Productions', 12.0), ('Polish Film Institute', 12.0), ('Exclusive Films', 12.0), ('Monolith Films', 12.0), ('On the Road', 12.0), ('Ealing Studios', 12.0), ('Fragile Films', 12.0), ('Quickfire Films', 12.0), ('Outlaw Productions (I)', 12.0), ('WV Films II', 12.0), ('Top Rope', 12.0), ('Babylon', 12.0), ('Media Magik Entertainment', 12.0), ('Starz Media', 12.0), ('Studiopolis', 12.0), ('Vanguard Animation', 12.0), ('Sherazade Film Development', 12.0), ('Corduroy Films', 12.0), ('Scared Productions', 12.0), ('Lennox House Films', 12.0), ('Deuce Three Productions', 12.0), ('Chrysalis Films', 12.0), ('Apaches Entertainment', 12.0), ('Hedge Fund Film Partners', 12.0), ('Knightsbridge Entertainment', 12.0), ('Corner Store Entertainment', 12.0), ('Disney Enterprises', 12.0), ('Kasdan Pictures', 12.0), ('Chartoff Productions', 12.0), ('Digital Domain', 12.0), ('Perdido Productions', 12.0), ('Will Vinton Studios', 12.0), ('Mars Media Beteiligungs', 12.0), ('Media Asia Films', 12.0), ('Muse Entertainment Enterprises', 12.0), ('3L Filmverleih', 12.0), ('Samuelson Productions', 12.0), ('BIM Distribuzione', 12.0), ('Jon Shestack Productions', 12.0), ('Mirabai Films', 12.0), ('VIP 2 Medienfonds', 12.0), ('Gone North Productions', 12.0), ('Industrial Development Corporation of South Africa', 12.0), ('Miracle Pictures', 12.0), ('Two Brothers Productions', 12.0), ('Yuma', 12.0), ('SW7D Productions', 12.0), ('Arts Council of England', 12.0), ('Neo Art & Logic', 12.0), ('Wes Craven Films', 12.0), ('JLT Productions', 12.0), ('Blinding Edge Pictures', 11.875), ('IM Global', 11.857142857142858), ('Dino De Laurentiis Company', 11.8), ('Konrad Pictures', 11.75), ('Warner Bros. Pictures', 11.692307692307692), ('Michael De Luca Productions', 11.666666666666666), ('A24', 11.666666666666666), ('Instituto de la CinematografÃ\\xada y de las Artes Audiovisuales (ICAA)', 11.666666666666666), ('Chockstone Pictures', 11.666666666666666), ('DreamWorks', 11.666666666666666), ('Mayhem Pictures', 11.666666666666666), ('Current Entertainment', 11.666666666666666), ('K/O Paper Products', 11.666666666666666), ('David Foster Productions', 11.666666666666666), ('Jinks/Cohen Company', 11.666666666666666), ('TriStar Pictures', 11.588235294117647), ('Cross Creek Pictures', 11.571428571428571), ('ImageMovers', 11.571428571428571), ('International Traders', 11.5), ('Rat Entertainment', 11.5), ('Wayans Bros. Entertainment', 11.5), ('Sean S. Cunningham Films', 11.5), ('Crystal Lake Entertainment', 11.5), ('Kopelson Entertainment', 11.5), ('ApolloMedia Distribution', 11.5), ('Grosvenor Park Productions', 11.5), ('Vendome Pictures', 11.5), ('Amen Ra Films', 11.5), ('Parkes/MacDonald Productions', 11.5), ('Leverage Management', 11.5), ('Film i VÃ¤st', 11.5), ('Beacon Pictures', 11.5), ('40 Acres & A Mule Filmworks', 11.5), ('Michael London Productions', 11.5), ('Eyetronics', 11.5), ('Hollywood Pictures', 11.5), ('Figment Films', 11.5), ('Annapurna Pictures', 11.428571428571429), ('Goldcrest Pictures', 11.428571428571429), ('Vinyl Films', 11.4), ('Fox Atomic', 11.4), ('Screen Australia', 11.333333333333334), ('Revolution Studios', 11.333333333333334), ('GreeneStreet Films', 11.25), ('Global Entertainment Productions GmbH & Company Medien KG', 11.25), ('FilmNation Entertainment', 11.2), ('Intrepid Pictures', 11.2), ('Endgame Entertainment', 11.181818181818182), ('Ehman Productions', 11.0), ('Pendle Mountain Productions', 11.0), ('Stoney Lake Entertainment', 11.0), ('Celador Films', 11.0), ('Overbrook Entertainment', 11.0), ('Goldenlight Films', 11.0), ('Emmett/Furla Films', 11.0), ('The Safran Company', 11.0), ('Evergreen Media Group', 11.0), ('Nick Wechsler Productions', 11.0), ('Sahara Productions', 11.0), ('Silvatar Media', 11.0), ('Furst Films', 11.0), ('Australian Film Finance Corporation (AFFC)', 11.0), ('Paul Schiff Productions', 11.0), ('Edmonds Entertainment Group (EEG)', 11.0), ('Epidemic Pictures', 11.0), ('Echo Lake Productions', 11.0), ('Premiere Picture', 11.0), (\"Butcher's Run Films\", 11.0), ('Informant Media', 11.0), ('LivePlanet', 11.0), ('Italian Tax Credit', 11.0), ('Prospect Park', 11.0), ('Millbrook Farm Productions', 11.0), ('Matador Pictures', 11.0), ('Magic Light Pictures', 11.0), ('Cinema Four', 11.0), ('Twentieth Century Fox', 11.0), ('Fast Track Productions', 11.0), ('Simon Fields Productions', 11.0), ('Cruise-Wagner Productions', 11.0), ('Industry Entertainment', 11.0), ('Pistolero Productions LLC', 11.0), ('Double Nickel Entertainment', 11.0), ('KMP Film Invest', 11.0), ('Internationale Filmproduktion Stella-del-SÃ¼d', 11.0), ('Cohen/Pearl Productions', 11.0), ('IDEA Filmproduktions', 11.0), ('Virgin Produced', 11.0), ('Denver and Delilah Productions', 11.0), ('Image Entertainment', 11.0), ('Kerner Entertainment Company', 11.0), ('Brookwell-McNamara Entertainment', 11.0), ('Cliffjack Motion Pictures', 11.0), ('Incentive Filmed Entertainment', 11.0), ('Canal+Polska', 11.0), ('Heritage Films', 11.0), ('Agencja Produkcji Filmowej', 11.0), ('Imaginary Forces', 11.0), ('Beverly Detroit', 11.0), ('Intermedia', 11.0), ('Storyline Entertainment', 11.0), ('Monarch Pictures', 11.0), ('Shady Acres Entertainment', 11.0), ('Ascension Pictures', 11.0), ('ARD Degeto Film', 11.0), ('Cloud Atlas Productions', 11.0), ('Transfilm', 11.0), ('British Film Institute (BFI)', 11.0), ('VideoFilmes', 11.0), ('Newman/Tooley Films', 11.0), ('Joseph Nittolo Entertainment', 11.0), ('\"DIA\" Productions GmbH & Co. KG', 11.0), ('Don Simpson/Jerry Bruckheimer Films', 11.0), ('Tig Productions', 11.0), ('Reiner-Greisman', 11.0), ('Disney Double Dare You (DDY)', 11.0), ('Apparatus Productions', 11.0), ('Laurence Mark Productions', 11.0), ('Envision Entertainment', 11.0), ('Sycamore Pictures', 11.0), ('Sudden Storm Productions', 11.0), ('Inferno International', 11.0), ('Branded Entertainment/Batfilm Productions', 11.0), ('Entertainment Manufacturing Company', 11.0), ('VIP 3 Medienfonds', 11.0), ('Kanbar Entertainment', 11.0), ('Blue Yonder Films', 11.0), ('Alan Greenspan Productions', 11.0), ('The Movie Network (TMN)', 11.0), ('Silent Hill DCP Inc.', 11.0), ('Konami', 11.0), ('Nu Image Entertainment', 11.0), ('Black & White Productions', 11.0), ('Cappa Productions', 11.0), ('Green Hills Productions', 11.0), ('Avenue Pictures Productions', 11.0), ('Crystal Sky Pictures', 11.0), ('MDBF Zweite Filmgesellschaft', 11.0), ('CJ Entertainment', 11.0), ('Southpaw Entertainment', 11.0), ('Halcyon Pictures', 11.0), ('Kinematograf Wien', 11.0), ('Chime Films', 11.0), ('Interscope Communications', 11.0), ('Polygram Filmed Entertainment', 11.0), ('Limited Edition Productions Inc.', 11.0), ('Barry Mendel Productions', 11.0), ('Mandeville Films', 10.833333333333334), ('Infinitum Nihil', 10.8), ('Bad Hat Harry Productions', 10.8), ('Strike Entertainment', 10.8), ('RatPac-Dune Entertainment', 10.75), ('Closest to the Hole Productions', 10.75), ('Laika Entertainment', 10.75), ('Canal+ EspaÃ±a', 10.75), ('GK Films', 10.727272727272727), ('Automatik Entertainment', 10.666666666666666), ('Radical Media', 10.666666666666666), ('Mikona Productions GmbH & Co. KG', 10.666666666666666), ('Good Machine', 10.666666666666666), ('Good Universe', 10.6), ('QED International', 10.5), ('Outlaw Sinema', 10.5), ('Likely Story', 10.5), ('Scope Pictures', 10.5), ('Montecito Picture Company, The', 10.5), ('Pacific Film and Television Commission', 10.5), ('Intellectual Properties Worldwide', 10.5), ('CinÃ©CinÃ©ma', 10.5), ('Casey Silver Productions', 10.5), ('Nu Image Entertainment GmbH', 10.5), ('Studio 37', 10.5), ('Jouror Productions', 10.5), ('David Ladd Films', 10.5), ('Marvel Enterprises', 10.461538461538462), ('FilmDistrict', 10.428571428571429), ('Silver Reel', 10.4), ('Canal+', 10.363636363636363), ('Dark Castle Entertainment', 10.333333333333334), ('Prescience', 10.333333333333334), ('Cinerenta Medienbeteiligungs KG', 10.333333333333334), ('Bedford Falls Company, The', 10.333333333333334), ('Mark Canton Productions', 10.333333333333334), ('Misher Films', 10.25), ('PathÃ© Renn Productions', 10.25), ('Pixar Animation Studios', 10.23076923076923), ('The Montecito Picture Company', 10.2), ('Forward Pass', 10.166666666666666), ('Canal Plus', 10.142857142857142), ('Universal Pictures International (UPI)', 10.0), ('Genre Films', 10.0), ('Beagle Pug Films', 10.0), ('Allison Shearmur Productions', 10.0), ('Sony Pictures Entertainment (SPE)', 10.0), ('Scholastic Entertainment', 10.0), ('DMG Entertainment', 10.0), ('Ram Bergman Productions', 10.0), ('Feigco Entertainment', 10.0), ('The Cantillon Company', 10.0), ('The Shuman Company', 10.0), ('Head Gear Films', 10.0), ('Pacific Standard', 10.0), ('Metanoia Films', 10.0), ('Crescendo Productions', 10.0), ('Oasis Films', 10.0), ('Aperture Entertainment', 10.0), ('Fake Empire', 10.0), ('Hearst Entertainment Productions', 10.0), ('LightWorkers Media', 10.0), ('Block / Hanson', 10.0), ('Pan EuropÃ©enne Production', 10.0), ('Phantom Four', 10.0), ('Telecinco Cinema', 10.0), ('Top Shelf Productions', 10.0), ('Overnight Films', 10.0), ('Overture Films', 10.0), ('Chako Film Company', 10.0), ('Oceana Media Finance', 10.0), ('Pantheon Entertainment Corporation', 10.0), ('Innocence Productions', 10.0), ('Omega Entertainment', 10.0), ('Sogecine', 10.0), ('Las Producciones del Escorpion', 10.0), ('New Redemption Pictures', 10.0), ('Darkwoods Productions', 10.0), ('Internationale Filmproduktion Richter', 10.0), ('Littlestar', 10.0), ('Castel Film Romania', 10.0), ('Toff Guy Films', 10.0), ('Dark Lot Entertainment', 10.0), ('Andale Pictures', 10.0), ('La Petite Reine', 10.0), ('uFilm', 10.0), ('Battleplan Productions', 10.0), ('Voltage pictures', 10.0), ('ANA Media', 10.0), ('Picture Perfect (I)', 10.0), ('Hofflund/Polone', 10.0), ('Indelible Productions', 10.0), ('Ghost Ship Films Pty. Ltd.', 10.0), ('Unfaithful Filmproduktion GmbH & Co. KG', 10.0), ('Shutt/Jones Productions', 10.0), ('98 MPH Productions', 10.0), ('Milagro Films', 10.0), ('DoRo Fiction Film', 10.0), ('Brandywine Productions', 10.0), ('Extension 765', 10.0), ('Film 44', 10.0), ('A Hot Dog', 10.0), ('Liddell Entertainment', 10.0), ('Wonderful Films PLC', 10.0), ('Rai Cinema', 10.0), ('Alfama Films', 10.0), ('Laurinfilm', 10.0), ('Subterranean Productions LLC', 10.0), ('Subterranean Productions UK Ltd.', 10.0), ('Underworld Produktions GmbH', 10.0), ('Stan Winston Studio', 10.0), ('Recorded Picture Company (RPC)', 10.0), ('Gidden Media', 10.0), ('Lee Daniels Entertainment', 10.0), ('Follow Through Productions', 10.0), ('Salamander Pictures', 10.0), ('Pam Williams Productions', 10.0), ('Temple Hill Productions', 10.0), ('LGM Productions', 10.0), ('Les Productions du TrÃ©sor', 10.0), ('Mars Distribution', 10.0), ('Reel FX Creative Studios', 10.0), ('Craven-Maddalena Films', 10.0), ('Boll KG', 10.0), ('Post No Bills Films', 10.0), ('Pandemonium Productions', 10.0), ('Kingdom Feature Productions', 10.0), ('Motion Picture ETA Produktionsgesellschaft', 10.0), ('Foqus Arte Digital', 10.0), ('Metropolis Films', 10.0), (\"Bull's Eye Entertainment\", 10.0), ('Tessalit Productions', 10.0), ('Raygun Productions', 10.0), ('Rosey Film Productions LLC', 10.0), ('Edge City', 10.0), ('Egmond Film & Television', 10.0), ('Fellah Pictures', 10.0), ('Broken Lizard Industries', 10.0), ('Coconut Pete Productions', 10.0), ('Eden Rock Media', 10.0), ('Element Films', 10.0), ('Jessie Nelson Productions', 10.0), ('Yer Dead Productions', 10.0), ('Huayi Brothers Media Corporation', 10.0), ('Cranium Films', 10.0), ('The Canton Company', 10.0), ('Mars Production Pty. Ltd.', 10.0), ('Fox Animation Studios', 10.0), ('Nora Ephron Productions', 10.0), ('Red Wagon Entertainment', 9.833333333333334), ('Wild Bunch', 9.666666666666666), ('Yucaipa Films', 9.666666666666666), ('Radiant Productions', 9.666666666666666), ('Flynn Picture Company', 9.5), ('Wildgaze Films', 9.5), ('Killer Films', 9.5), ('Protozoa Pictures', 9.5), ('Winkler Films', 9.5), ('Virtual Films', 9.5), ('USA Films', 9.5), ('Newmarket Capital Group', 9.5), ('France 3 CinÃ©ma', 9.5), ('Lion Rock Productions', 9.5), ('Senator International', 9.5), ('TF1 Films Production', 9.454545454545455), ('Illumination Entertainment', 9.4), ('Starz Animation', 9.333333333333334), ('Buckaroo Entertainment', 9.333333333333334), ('Beacon Communications', 9.333333333333334), ('Propaganda Films', 9.333333333333334), ('Bob Yari Productions', 9.333333333333334), ('PathÃ©', 9.166666666666666), ('Pacific Data Images (PDI)', 9.166666666666666), ('Media Rights Capital', 9.142857142857142), ('Rocklin / Faust', 9.0), ('Entertainment One Features', 9.0), ('OddLot Entertainment', 9.0), ('David Dobkin Productions', 9.0), ('Brothers Dowdle Productions', 9.0), ('DefyNite Films', 9.0), ('MJW Films', 9.0), ('Tonik Productions', 9.0), ('Asis Productions', 9.0), ('Team Downey', 9.0), ('Porchlight Films', 9.0), ('Screen NSW', 9.0), ('Snoot Entertainment', 9.0), ('MavroCine Pictures GmbH & Co. KG', 9.0), ('Canadian Film or Video Production Tax Credit (CPTC)', 9.0), ('20th Century Fox Home Entertainment', 9.0), ('Midnight Sun Pictures', 9.0), ('Ilion Animation Studios', 9.0), ('Hand Made Films', 9.0), ('Tezuka Production Company Ltd.', 9.0), ('Laura Bickford Productions', 9.0), ('Medienproduktion Poseidon Filmgesellschaft', 9.0), ('Darlow Smithson Productions', 9.0), ('Octagon Films', 9.0), ('Birnbaum/Barber', 9.0), ('Oops Doughnuts Productions', 9.0), ('Frontier Pictures', 9.0), ('EFTI', 9.0), ('Rhythm and Hues', 9.0), ('Picnic Basket', 9.0), ('Red Hour Productions', 9.0), ('Gold/Miller Productions', 9.0), ('Jonathan Krane Group', 9.0), ('Underworld Entertainment', 9.0), ('Horseshoe Bay Productions', 9.0), ('TPS Star', 9.0), ('Grive Productions', 9.0), ('The Department of Trade and Industry of South Africa', 9.0), ('ScreenWest', 9.0), ('Collision Entertainment', 9.0), ('Abandon Entertainment', 9.0), ('Foxtor Productions', 9.0), ('Twins Financing', 9.0), ('Outlander Productions', 9.0), ('Rifkin-Eberts', 9.0), ('Odd Lot Entertainment', 9.0), ('Michaels-Goldwyn', 9.0), ('Many Rivers Productions', 9.0), ('Boy of the Year', 9.0), ('Tailor Made', 9.0), ('Mango Farms', 9.0), ('LD Entertainment', 9.0), ('Bekmambetov Projects Ltd.', 9.0), ('Fierce Entertainment', 9.0), ('Toledo Productions', 9.0), ('DJ Films', 9.0), ('IM Filmproduktion', 9.0), ('Cosmic Pictures', 9.0), ('Motion Picture Corporation of America', 9.0), ('Adam Schroeder Productions', 9.0), ('Artina Films', 9.0), ('Lucky Monkey Pictures', 9.0), ('Green Room Films', 9.0), ('Lucasfilm Ltd.', 9.0), ('Partnership Pictures', 9.0), ('Serenade Films', 9.0), ('Also Known As Pictures', 9.0), ('Vanguard Films', 9.0), ('Dimension Films (US version)', 9.0), ('Cobalt Media Group', 9.0), ('N1 European Film Produktions GmbH & Co. KG', 9.0), ('Baumgarten Merims Productions', 9.0), ('Envision Entertainment Corporation', 9.0), ('Revolution Films', 9.0), ('8:38 Productions', 9.0), ('SkyLand Entertainment', 9.0), ('Baby Cow Productions', 9.0), ('Colossal Pictures', 9.0), ('Big Primate Pictures', 9.0), ('Bewitched', 9.0), ('John Wells Productions', 9.0), ('FilmWorks', 9.0), ('Clubdeal', 9.0), ('Pacific Renaissance Pictures Ltd.', 9.0), ('Granada Film Productions', 9.0), ('Fantail Films Inc.', 9.0), ('Columbus 81 Productions', 9.0), ('Andalasia Productions', 9.0), ('Right Coast Productions', 9.0), ('Nightfall Productions', 9.0), ('Level 1 Entertainment', 9.0), ('MID Foundation', 9.0), ('Foresight Unlimited', 9.0), ('RAMCO', 9.0), ('Captivity Productions', 9.0), ('Mill Film', 9.0), ('KirchMedia', 9.0), ('Screenland Pictures', 9.0), ('WWE Studios', 8.8), ('Tollin/Robbins Productions', 8.75), ('Open Road Films', 8.7), ('Free State Pictures', 8.5), ('Chartoff-Winkler Productions', 8.5), ('Blue-Tongue Films', 8.5), ('David Kirschner Productions', 8.5), ('Rogue Marble', 8.5), ('Emperor Motion Pictures', 8.5), ('Worldview Entertainment', 8.333333333333334), ('Evolution Entertainment', 8.333333333333334), ('Focus Films', 8.25), ('CinÃ©+', 8.0), ('Riche-Ludwig Productions', 8.0), ('Irish Film Board', 8.0), ('Item 7', 8.0), ('Parallel Film Productions', 8.0), ('STX Entertainment', 8.0), ('Ahimsa Films', 8.0), ('Vast Entertainment', 8.0), ('Bold Films', 8.0), ('Crave Films', 8.0), ('Toho Company', 8.0), ('Radical Studios', 8.0), ('Jolie Pas', 8.0), ('Silverwood Films', 8.0), ('The Mark Gordon Company', 8.0), ('Sighvatsson Films', 8.0), ('Smokewood Entertainment Group', 8.0), ('Vidhu Vinod Chopra Productions', 8.0), ('Goldsmith-Thomas Productions', 8.0), ('Revelations Entertainment', 8.0), ('Ocean Pictures', 8.0), ('Pioneer Pictures', 8.0), ('Fireworks Pictures', 8.0), ('GHS Productions KG', 8.0), ('Munich Film Partners & Company (MFP) GHS Productions', 8.0), ('Nides/McCormick Productions', 8.0), ('Native Pictures Productions', 8.0), ('Achte Babelsberg Film', 8.0), ('Internationale Filmproduktion Blackbird Erste', 8.0), ('Defiance Productions', 8.0), ('Pistachio Pictures', 8.0), ('Hungarian National Film Office', 8.0), ('Lazio Film Commission', 8.0), ('Marvel Entertainment, LLC', 8.0), ('Milk & Honey', 8.0), ('Witt/Thomas Productions', 8.0), ('Signature Pictures', 8.0), ('Sony Pictures Classics', 8.0), ('Horsepower Films', 8.0), ('Core Productions', 8.0), ('Camelot Pictures', 8.0), ('Illusion Entertainment', 8.0), ('Province of British Columbia Film Incentive BC', 8.0), ('Y Productions', 8.0), ('Mediana Productions Filmgesellschaft', 8.0), ('Monolith Pictures (III)', 8.0), ('Troika Pictures', 8.0), ('Emergency Films', 8.0), ('Apotheosis Media Group', 8.0), ('Greenestreet Films', 8.0), ('Witness Protection Films', 8.0), ('Gaumont', 8.0), ('Kintop Pictures', 8.0), ('Patalex V Productions Limited', 8.0), ('Max Stronghold Productions Inc.', 8.0), ('Cineblue Internationale Filmproduktionsgesellschaft', 8.0), ('City Productions', 8.0), ('C.O.R.E. Feature Animation', 8.0), ('Hoytyboy Pictures', 8.0), ('Nigel Productions', 8.0), ('Irwin Allen Productions', 8.0), ('11:11 Mediaworks', 8.0), ('Blue Sea Productions', 8.0), ('Frantic Films', 8.0), ('Maple Shade Films', 8.0), ('Sideways Productions Inc.', 8.0), ('Vaughn Productions', 8.0), ('Fat Free', 8.0), ('Katira Productions GmbH & Co. KG', 8.0), ('Caro-McLeod', 8.0), ('M6 Films', 7.75), ('PathÃ© Pictures International', 7.666666666666667), ('Artists Production Group (APG)', 7.5), ('H2F Entertainment', 7.5), ('Colombia Pictures', 7.333333333333333), ('Danjaq', 7.0), ('B24', 7.0), ('Alpha Core', 7.0), ('Black Label Media', 7.0), ('Anton Capital Entertainment (ACE)', 7.0), ('Little Stranger', 7.0), ('Le Grisbi Productions', 7.0), ('M Productions', 7.0), ('Echo Films', 7.0), ('Gulfstream Pictures', 7.0), ('Constantin Film International', 7.0), ('Darko Entertainment', 7.0), ('Mystery Clock Cinema', 7.0), ('Whamaphram Productions', 7.0), ('Case 39 Productions', 7.0), ('Twisted Pictures', 7.0), ('Farah Films & Management', 7.0), ('Aversano Films', 7.0), ('Hydraulx', 7.0), ('Transmission Pictures', 7.0), ('American Entertainment Partners L.P.', 7.0), ('Empire Pictures', 7.0), ('Heyday films', 7.0), ('ASAF', 7.0), ('Luna Pictures', 7.0), ('VN Productions', 7.0), ('K/O Camera Toys', 7.0), ('Film 4', 7.0), ('Big Talk Productions', 7.0), ('Storefront Films', 7.0), ('Zanagar Films', 7.0), ('Wayfare Entertainment', 7.0), ('Sanctum Australia', 7.0), ('Great Wight Productions/ Osford Films', 7.0), ('Producers Circle', 7.0), ('Senator Film Produktion', 7.0), ('Benaroya Pictures', 7.0), ('Pie Films Inc.', 7.0), ('Ixtlan', 7.0), ('Onda Entertainment', 7.0), ('Headline Pictures', 7.0), ('Akil Production Company', 7.0), ('Newmarket Films', 7.0), ('Esperanto Filmoj', 7.0), ('Riddick Canada Productions', 7.0), ('Fastnet Films', 7.0), ('Caramel Film', 7.0), ('Saints LA', 7.0), ('Nina Saxon Film Design', 7.0), ('Motion Picture KAPPA Produktionsgesellschaft', 7.0), ('Stratus Film Co.', 7.0), ('Syndicate Films International', 7.0), ('4M', 7.0), ('Debra Hill Productions', 7.0), ('AFG Talons Productions', 7.0), ('Scanbox', 7.0), ('Eketahuna LLC', 7.0), ('Electric Entertainment', 7.0), ('Flyboys Films', 7.0), ('Yash Raj Films', 7.0), ('Starlite Films', 7.0), ('Harlequin Pictures', 7.0), ('Intertainment AG', 7.0), ('Blackout Productions Inc.', 7.0), ('Blue Productions', 7.0), ('Grosvenor Park Impact Productions', 7.0), ('I Remember Productions', 7.0), ('Compulsion Inc.', 7.0), ('Splendid Medien AG', 7.0), ('Cloud Eight Films', 6.666666666666667), ('Yari Film Group', 6.666666666666667), ('Element Pictures', 6.5), ('Huayi Brothers Media', 6.5), ('87Eleven', 6.5), ('Lightstorm Entertainment', 6.5), ('Arc Productions', 6.5), ('Stars Road Entertainment', 6.5), ('Imagi Animation Studios', 6.5), ('Inimitable Pictures', 6.0), ('ShivHans Pictures', 6.0), ('Studio Babelsberg StudioBabelsberg Motion Pictures', 6.0), ('Serendipity Productions', 6.0), ('Trackform Film Productions', 6.0), ('Kickstart Productions', 6.0), ('Guy Walks into a Bar Productions', 6.0), ('TOKYOPOP', 6.0), ('Burg/Koules Productions', 6.0), ('SND', 6.0), ('MICA Entertainment', 6.0), ('Decibel Films', 6.0), ('OB Productions', 6.0), ('Front Street Productions', 6.0), ('Spitfire Pictures', 6.0), ('Triggerfish Animation', 6.0), ('Alliance Atlantis Communications', 6.0), ('Outerbanks Entertainment', 6.0), ('Kalis Productions GmbH & Co. Zweite KG', 6.0), ('Bristol Bay Productions', 6.0), ('Desertlands Entertainment', 6.0), (\"Cooper's Town Productions\", 6.0), ('Eagle Vision Inc.', 6.0), ('Manitoba Film and Video Production Tax Credit', 6.0), ('Domino 17521', 6.0), ('Anka Film', 6.0), ('Daybreak Productions', 6.0), ('SKA Films', 6.0), ('Walrus & Associates', 6.0), ('Hollywood Partners', 6.0), ('Charenton Productions', 6.0), ('No Trace Camping', 5.5), ('Number 9 Films', 5.0), ('PeaPie Films', 5.0), ('Kramer & Sigman Films', 5.0), ('Zaftig Films', 5.0), ('Outpost Studios', 5.0), ('HimenÃ³ptero', 5.0), ('Mod Producciones', 5.0), ('Stone Productions', 5.0), ('Mimran Schur Pictures', 5.0), ('Night Chronicles', 5.0), ('Motel Movies', 5.0), ('Blind Wink', 5.0), ('Neunte Babelsberg Film', 5.0), ('Holleran Company', 5.0), ('Sechzehnte Babelsberg Film', 5.0), ('Ventanarosa Productions', 5.0), ('Handprint Entertainment', 5.0), ('Rena Film', 5.0), ('Peach Trees', 5.0), ('NuAmerica Entertainment', 5.0), ('Krane Entertainment', 5.0), ('City Light Films', 5.0), ('Pinewood Studios', 5.0), ('Metrol Technology', 5.0), ('Le Pacte', 5.0), ('Filmgate Films', 5.0), ('Hart-Sharp Entertainment', 5.0), ('Central Films', 5.0), ('ApolloProScreen Filmproduktion', 5.0), ('Patalex Productions', 5.0), ('Open City Films', 5.0), ('BBC', 5.0), ('Springwood Productions', 5.0), ('Fuzzy Door Productions', 4.0), ('Duperele Films', 4.0), (\"We're Not Brothers Productions\", 4.0), ('Cinelou Films', 4.0), ('Kilburn Media', 4.0), ('Fetisov Teterin Films', 4.0), ('Farewell Productions', 4.0), ('Liberty Films UK', 4.0), ('Lunar Industries', 4.0), ('Xingu Films', 4.0), ('Limelight Fund', 4.0), ('Infinity Features Entertainment', 4.0), ('Exodus Film Group', 4.0), ('Exodus Productions', 4.0), ('Rickshaw Productions', 4.0), ('Double Negative', 4.0), ('Toma 78', 4.0), ('De Milo', 4.0), ('Dillywood', 4.0), ('Five Star Institute', 4.0), ('Reaper Productions', 4.0), ('Helena Productions', 4.0), ('Mirage Studios', 4.0), ('Imagi Production', 4.0), ('Berlanti Productions', 3.0), ('Everest Entertainment', 3.0), ('Ixtlan Productions', 2.0), ('Global Entertainment Group', 2.0), ('XM2 Productions', 2.0)]\n"
     ]
    }
   ],
   "source": [
    "data = pd.read_csv('data.csv')\n",
    "data['production_companies'] = data['production_companies'].apply(lambda x: x.split('|'))\n",
    "data['len_film'] = data['original_title'].apply(lambda x: len(x))\n",
    "\n",
    "import collections\n",
    "c = collections.Counter()\n",
    "d = collections.Counter()\n",
    "b = collections.Counter()\n",
    "for i in range(0, len(data)):\n",
    "    for prod  in data['production_companies'].iloc[i]:\n",
    "        c[prod]+=data.iloc[i]['len_film']\n",
    "        d[prod]+=1\n",
    "        b[prod]=c[prod]/d[prod]\n",
    "print(b.most_common())\n",
    "\n",
    "\n"
   ]
  },
  {
   "cell_type": "code",
   "execution_count": 132,
   "metadata": {},
   "outputs": [],
   "source": [
    "answer_ls.append(1)"
   ]
  },
  {
   "cell_type": "markdown",
   "metadata": {},
   "source": [
    "# 32. Названия фильмов какой студии в среднем самые длинные по количеству слов?\n",
    "Варианты ответа:\n",
    "1. Universal Pictures (Universal)\n",
    "2. Warner Bros\n",
    "3. Jim Henson Company, The\n",
    "4. Paramount Pictures\n",
    "5. Four By Two Productions"
   ]
  },
  {
   "cell_type": "code",
   "execution_count": 133,
   "metadata": {},
   "outputs": [
    {
     "name": "stdout",
     "output_type": "stream",
     "text": [
      "[('Four By Two Productions', 12.0), ('Jim Henson Company, The', 10.0), ('Polsky Films', 9.0), ('The Saul Zaentz Company', 9.0), ('Dos Corazones', 9.0), ('Lucasfilm', 8.0), ('3Foot7', 8.0), ('Museum Canada Productions', 8.0), ('Total Entertainment', 8.0), ('TSBD Canada Productions', 8.0), ('Zohar International', 8.0), ('Cool Music', 8.0), ('Harry Potter Publishing Rights', 8.0), ('Samuel Goldwyn Films', 7.5), ('Nickelodeon Animation Studios', 7.0), ('United Plankton Pictures', 7.0), ('Chris Brinker Productions', 7.0), ('Ten Thirteen Productions', 7.0), ('Crying Box Productions', 7.0), ('Intandem Films', 7.0), ('Aramid Entertainment Fund', 7.0), ('Lipsync Productions', 7.0), ('MIRACLE Productions GmbH & Co. KG', 7.0), ('Sony', 7.0), ('Patalex IV Productions Limited', 7.0), ('Second Mate Productions', 7.0), ('Iron Film', 7.0), ('P of A Productions Limited', 7.0), ('Natural Nylon Entertainment', 7.0), ('Riff Raff Film Productions', 7.0), ('Filmauro', 7.0), ('Blue Flower Productions', 7.0), ('K. JAM Media', 6.0), ('Internationale Filmproduktion Blackswan', 6.0), ('Kontsept Film Company', 6.0), ('Smoke House', 6.0), ('Banter', 6.0), ('Necropia', 6.0), ('Tequila Gang', 6.0), ('The Tyler Perry Company', 6.0), ('British Broadcasting Corporation (BBC)', 6.0), ('Ozumi Films', 6.0), ('Propeler', 6.0), ('Earth Canada Productions', 6.0), ('Blue Askew', 6.0), ('Yellow Bird', 6.0), ('The Collective Studios', 6.0), ('Mr. Mudd Production', 6.0), ('What to Expect Productions', 6.0), ('Unique Features', 6.0), ('Mr. Smith Productions', 6.0), ('Hammer & Tongs', 6.0), ('Alberta Film Entertainment', 6.0), ('Alloy Entertainment', 6.0), ('The Javelina Film Company', 6.0), ('Ikiru Films', 6.0), ('Atlantic Television', 6.0), ('Mostow/Lieberman Productions', 6.0), ('80 Days Productions', 6.0), ('Linsefilm', 6.0), ('Unity Productions', 6.0), ('Michael Cerenzie Productions', 6.0), ('Funky Buddha Productions', 6.0), ('I Could Never Ltd.', 6.0), ('Bauer Martinez Studios', 6.0), ('Capella International', 6.0), ('KC Medien AG', 6.0), ('WingNut Films', 5.8), ('Heyday Films', 5.666666666666667), ('Mad Hatter Entertainment', 5.5), ('Walt Disney', 5.2), ('21 Laps Entertainment', 5.111111111111111), ('Truenorth Productions', 5.0), ('China Movie Channel', 5.0), ('TriStar Productions', 5.0), ('1492 Pictures', 5.0), ('UW3 Film Productions', 5.0), ('Bagdasarian Productions', 5.0), ('Edward R. Pressman Film', 5.0), ('Zanuck Company, The', 5.0), ('Animal Logic', 5.0), ('Village Roadshow Pictures Asia', 5.0), ('Mosaic', 5.0), ('Long Distance Films', 5.0), ('Square USA', 5.0), ('Bungalow Productions', 5.0), ('Silver Lion Films', 5.0), ('Vision View Entertainment', 5.0), ('Mediastream Film GmbH & Co. Productions KG', 5.0), ('HW Two', 5.0), ('ARP SÃ©lection', 5.0), ('Indigo Film', 5.0), ('Medusa Film', 5.0), ('Magical Elves Productions', 5.0), ('Scooter Braun Films', 5.0), ('Kemp Company', 5.0), ('MPH Entertainment', 5.0), ('Allied Filmmakers', 5.0), ('Mutant Enemy Productions', 5.0), ('Galavis Film', 5.0), ('Picture Machine', 5.0), ('JD Productions', 5.0), ('EMJAG Productions', 5.0), ('Verisimilitude', 5.0), ('Summertime Entertainment', 5.0), ('Distant Horizons', 5.0), ('Film Afrika Worldwide', 5.0), ('Videovision Entertainment', 5.0), ('JC 23 Entertainment', 5.0), ('Kumar Mobiliengesellschaft mbH & Co. Projekt Nr. 2 KG', 5.0), ('Cent Productions Inc.', 5.0), ('Cowboy Films', 5.0), ('Rocket Pictures', 5.0), ('Alliance Atlantis Motion Picture Production', 5.0), ('Really Useful Films', 5.0), ('Sparkler Entertainment', 5.0), ('360 Pictures', 5.0), ('NALA Films', 5.0), ('Samuels Media', 5.0), ('Land Films Inc.', 5.0), ('Color Force', 4.875), ('Miramax', 4.75), ('Sunswept Entertainment', 4.7), ('View Askew Productions', 4.666666666666667), ('Splendid Pictures', 4.666666666666667), ('Parkes+MacDonald Image Nation', 4.666666666666667), ('Route One Films', 4.5), ('AR Films', 4.5), ('Demarest Films', 4.5), ('Prana Animation Studios', 4.5), ('Home Box Office (HBO)', 4.5), ('Toho-Towa', 4.5), ('Ardustry Entertainment', 4.5), ('Sommers Company, The', 4.5), ('Type A Films', 4.5), ('Nouvelles Ã‰ditions de Films (NEF)', 4.5), ('C-2 Pictures', 4.5), ('Madacy Entertainment', 4.5), ('Capitol Films', 4.5), ('Film Rites', 4.333333333333333), ('DreamWorks Pictures', 4.285714285714286), ('Temple Hill Entertainment', 4.25), ('Walden Media', 4.25), ('Cruel and Unusual Films', 4.25), ('Red Hour Films', 4.25), ('Walt Disney Studios Motion Pictures', 4.0), ('TC Productions', 4.0), ('Cloudy Productions', 4.0), ('Wigram Productions', 4.0), ('Sierra/Affinity', 4.0), ('Raindog Films', 4.0), ('Sony Pictures Releasing', 4.0), ('Origin Pictures', 4.0), ('Insurge Pictures', 4.0), ('Hasbro Studios', 4.0), ('Allspark Pictures', 4.0), ('Bulletproof Cupid', 4.0), ('Avi Arad Productions', 4.0), ('Matt Tolmach Productions', 4.0), ('Volcano Films', 4.0), ('Etalon film', 4.0), ('DisneyToon Studios', 4.0), ('Scottish Screen', 4.0), ('Watermark', 4.0), ('Grand Army Entertainment', 4.0), ('Hachiko', 4.0), ('Curse Productions', 4.0), ('Jerry Bruckheimer Films', 4.0), ('Bernard Gayle Productions', 4.0), ('Medienproduktion Prometheus Filmgesellschaft', 4.0), ('Portobello Studios', 4.0), ('Sid & Marty Krofft Pictures', 4.0), (\"It's a Laugh Productions\", 4.0), ('Millar Gough Ink', 4.0), ('New Upstairs Productions', 4.0), ('Upstairs Canada Productions', 4.0), ('Freestyle Releasing', 4.0), ('FidÃ©litÃ© Films', 4.0), ('Hwy61', 4.0), ('HBO Films', 4.0), ('New Crime Productions', 4.0), ('Spy Next Door', 4.0), ('Parabolic Pictures', 4.0), ('platinum studios', 4.0), ('Swanford Films', 4.0), ('KC Medien', 4.0), ('Neal H. Moritz Productions', 4.0), ('Universal Cartoon Studios', 4.0), ('Immortal Entertainment', 4.0), ('AZL Productions KG', 4.0), ('MFP Munich Film Partners', 4.0), ('Phase 1 Productions', 4.0), ('Merlin Films', 4.0), ('Cort/Madden Productions', 4.0), ('China Film Co-Production Corporation', 4.0), ('Marvel Knights', 4.0), ('South Pacific Pictures', 4.0), ('Spice Factory', 4.0), ('The Australian Film Commission', 4.0), ('Darren Star Productions', 4.0), ('Universal Pictures Corporation', 4.0), ('New Wave Entertainment', 4.0), ('Terra Firma Films', 4.0), ('Superfinger Entertainment', 4.0), ('Midnight Picture Show', 4.0), ('Bay Films', 4.0), ('Lip Sync Post', 4.0), ('Trademark Films', 4.0), ('LBI Entertainment', 4.0), ('Crystal City Entertainment', 4.0), ('China Film Group Corporation (CFGC)', 4.0), ('Atlas Productions', 4.0), ('Alberto Grimaldi Productions', 4.0), ('Pandora Pictures', 4.0), (\"Eric's Boy\", 4.0), ('Moving Pictures', 4.0), ('Gratitude International', 4.0), ('WV Films LLC', 4.0), ('Walt Disney Television Animation', 4.0), ('Walt Disney Animation Australia', 4.0), ('Walt Disney Animation Canada', 4.0), ('Sea Breeze Productions Inc.', 4.0), ('Abraham Productions', 4.0), ('Location Gourmet', 4.0), ('Cott Productions', 4.0), ('Furia de Titanes II, A.I.E.', 4.0), ('Aardman Animations', 4.0), ('Talisman Productions', 4.0), ('Di Bonaventura Picture', 4.0), ('Konami Corporation Ltd.', 4.0), ('Studio Mir', 4.0), ('Super Cool ManChu', 4.0), ('Angry Films', 4.0), ('Michael Lobell Productions', 4.0), ('Boll Kino Beteiligungs GmbH & Co. KG', 4.0), ('Herold Productions', 4.0), ('Mindfire Entertainment', 4.0), ('Dylan Sellers Productions', 4.0), ('Earthship Productions', 4.0), ('SOIXAN7E QUIN5E', 4.0), ('See Me Louisiana', 4.0), ('Dickhouse Productions', 4.0), ('Rainmaker Entertainment', 4.0), ('Mainframe Entertainment', 4.0), ('Benderspink', 4.0), ('Carousel Productions', 4.0), ('Company Films', 4.0), ('Dalian Wanda Group', 4.0), ('Picturehouse Entertainment', 4.0), ('Dutch Oven', 4.0), ('New Regency Productions', 4.0), ('Room 9 Entertainment', 4.0), ('Warner Independent Pictures (WIP)', 4.0), ('Liaison Films', 4.0), ('Romero-Grunwald Productions', 4.0), ('Exception Wild Bunch', 4.0), ('Mile High Productions', 4.0), ('Kevin Messick Productions', 4.0), ('Dante Entertainment', 4.0), ('Crusader Entertainment', 4.0), ('Milkshake Films', 4.0), ('Hargitay & Hargitay Pictures in Motion', 4.0), ('O.N.C. Entertainment', 4.0), ('Infogrames Entertainment', 4.0), ('Government of Malta', 4.0), ('Landscape Entertainment', 4.0), ('John US Productions', 4.0), ('VIP 4 Medienfonds', 4.0), ('MMCB Film Produktion 2004', 4.0), ('Starbucks Entertainment', 4.0), ('Cinema Gypsy Productions', 4.0), ('Mark Gordon Productions', 4.0), ('Thirteen Productions', 4.0), ('Daybreak', 4.0), ('New Amsterdam Entertainment', 4.0), ('Primal Foe Productions', 4.0), ('Eclipse Catering', 4.0), ('Nine Yards Two Productions', 4.0), ('Havana Nights LLC', 4.0), ('Aldrich Group', 4.0), ('Optional Pictures', 4.0), ('Wendy Finerman Productions', 4.0), ('HorrorFlix', 4.0), ('Fine Line Features', 4.0), ('Zentropa Entertainments', 4.0), ('Danmarks Radio (DR)', 4.0), ('SVT Drama', 4.0), ('Arte', 4.0), ('Nine Yards Productions', 4.0), ('Rational Packaging Company', 4.0), ('Ingenious Media', 3.8181818181818183), ('Maverick Films', 3.8), ('Revolution Sun Studios', 3.75), ('Red Granite Pictures', 3.75), ('Wildwood Enterprises', 3.75), ('Moving Picture Company (MPC)', 3.727272727272727), ('Goldmann Pictures', 3.6666666666666665), ('Three Strange Angels', 3.6666666666666665), ('Room 101', 3.6666666666666665), ('Solana Films', 3.6666666666666665), ('Big Screen Productions', 3.6666666666666665), ('Flower Films (II)', 3.6), ('Stage 6 Films', 3.6), ('Roth Films', 3.5714285714285716), ('TSG Entertainment', 3.533333333333333), ('Plan B Entertainment', 3.5), ('Energy Entertainment', 3.5), ('Spring Creek Productions', 3.5), ('Sony Pictures Home Entertainment', 3.5), ('Why Not Productions', 3.5), ('Before the Door Pictures', 3.5), ('Washington Square Films', 3.5), ('Electric City Entertainment', 3.5), ('Sketch Films', 3.5), ('Skylark Productions', 3.5), ('Rogue', 3.5), ('26 Films', 3.5), ('Sikelia Productions', 3.5), ('Everyman Pictures', 3.5), ('Hammer Film Productions', 3.5), ('Omnilab Media', 3.5), ('Ambience Entertainment', 3.5), ('Little Bird', 3.5), ('Lucky Red', 3.5), ('Hammerhead Productions', 3.5), ('MHF Zweite Academy Film', 3.5), ('Odyssey Entertainment', 3.5), ('Playtone Productions', 3.5), ('Indochina Productions', 3.5), ('Runteldat Entertainment', 3.5), ('Material', 3.5), ('Mediastream Dritte Film GmbH & Co. Beteiligungs KG', 3.5), ('Pathe', 3.5), ('Babelsberg Film', 3.5), ('Mediastream Vierte Film GmbH & Co. Vermarktungs KG', 3.5), ('Fox 2000 Pictures', 3.4857142857142858), ('Mid Atlantic Films', 3.4), ('Hasbro', 3.4), ('Lin Pictures', 3.4), ('Hyde Park Films', 3.4), ('Mutual Film Company', 3.4), ('Studio Canal', 3.3636363636363638), ('Nickelodeon Movies', 3.357142857142857), ('Gold Circle Films', 3.3333333333333335), ('Aldamisa Entertainment', 3.3333333333333335), ('Affirm Films', 3.3333333333333335), ('A Band Apart', 3.3333333333333335), ('Lawrence Gordon Productions', 3.3333333333333335), ('Imprint Entertainment', 3.3333333333333335), ('Junction Entertainment', 3.3333333333333335), ('River Road Entertainment', 3.3333333333333335), ('IMF Internationale Medien und Film GmbH & Co. 3. Produktions KG', 3.3333333333333335), ('Depth of Field', 3.3333333333333335), ('VIP Medienfonds 4', 3.3333333333333335), ('Artisan Entertainment', 3.3333333333333335), ('Hemisphere Media Capital', 3.3333333333333335), ('New Line Cinema', 3.2613636363636362), ('Josephson Entertainment', 3.25), ('Grosvenor Park Media Ltd.', 3.25), ('Section Eight Productions', 3.25), ('Sony Pictures Animation', 3.2222222222222223), ('Gran Via Productions', 3.2), ('Indian Paintbrush', 3.2), ('The Zanuck Company', 3.1666666666666665), ('Alphaville Films', 3.1666666666666665), ('Rising Star', 3.1666666666666665), ('Studio Babelsberg', 3.15), ('Bad Robot', 3.111111111111111), ('Skydance Productions', 3.111111111111111), ('Mandate Pictures', 3.111111111111111), ('Apatow Productions', 3.1052631578947367), ('Dune Entertainment', 3.090909090909091), ('Tim Burton Productions', 3.090909090909091), ('Marvel Studios', 3.0833333333333335), ('MTV Films', 3.0833333333333335), ('Scott Rudin Productions', 3.0833333333333335), ('Saturn Films', 3.076923076923077), ('Castle Rock Entertainment', 3.066666666666667), ('BBC Films', 3.0625), ('UK Film Council', 3.0588235294117645), ('Amblin Entertainment', 3.0434782608695654), ('Twentieth Century Fox Film Corporation', 3.0091743119266057), ('Kennedy Miller Productions', 3.0), ('One Race Films', 3.0), ('Prime Focus', 3.0), ('FilmColony', 3.0), ('Gotham Group', 3.0), ('Cube Vision', 3.0), ('Broken Chair Flickz', 3.0), ('Sidney Kimmel Entertainment', 3.0), ('DreamWorks Animation', 3.0), ('Pretty Pictures', 3.0), ('ArtÃ©mis Productions', 3.0), ('Le Tax Shelter du Gouvernement FÃ©dÃ©ral de Belgique', 3.0), ('Taxshelter. be', 3.0), ('Marvel Entertainment', 3.0), ('Infinite Frameworks Studios', 3.0), ('Entertainment One', 3.0), ('Orange Studios', 3.0), ('CityMation', 3.0), ('On Entertainment', 3.0), ('Zippcast Films', 3.0), ('Living Films', 3.0), ('Platinum Dunes', 3.0), ('Iron Horse Entertainment (II)', 3.0), ('Disruption Entertainment', 3.0), ('Columbia TriStar', 3.0), ('Smokehouse Pictures', 3.0), ('Venture Forth', 3.0), ('Black Bear Pictures', 3.0), ('Bristol Automotive', 3.0), ('Dayday Films', 3.0), ('Viz Media', 3.0), ('Irish Dreamtime', 3.0), ('SPD Films', 3.0), ('Ex3 Productions', 3.0), ('Warner Bros. Animation', 3.0), ('Lucamar Productions', 3.0), ('Hollywood Gang Productions', 3.0), ('Cannell Studios', 3.0), ('1984 Private Defense Contractors', 3.0), ('5150 Action', 3.0), ('LBI Productions', 3.0), ('Conundrum Entertainment', 3.0), ('Obelisk Productions', 3.0), ('Bandito Brothers', 3.0), ('Electronic Arts', 3.0), ('Prana Studios', 3.0), ('Hopscotch Features', 3.0), ('Seven West Media', 3.0), ('Fear of God Films', 3.0), ('Seven Group Holdings', 3.0), ('Creative Scotland', 3.0), ('Hearst Entertainment Productions', 3.0), ('LightWorkers Media', 3.0), ('Mandalay Pictures', 3.0), ('The Combine', 3.0), ('Boxing Cat Films', 3.0), ('Disney', 3.0), ('Provident Films', 3.0), ('Pure Flix Entertainment', 3.0), ('FourBoys Entertainment', 3.0), ('Panay Films', 3.0), ('Max Films Productions', 3.0), ('Morag Loves Company', 3.0), ('Panorama Films', 3.0), ('Left Tackle Pictures', 3.0), ('Zucker/Netter Productions', 3.0), ('Kurtzman/Orci', 3.0), ('Inferno Distribution', 3.0), ('Film Department, The', 3.0), ('Evil Twins', 3.0), ('Warp Films', 3.0), ('Easy There Tiger Productions', 3.0), ('Practical Pictures', 3.0), ('Parallel Zide', 3.0), ('Andell Entertainment', 3.0), ('Mike Zoss Productions', 3.0), ('Tooley Productions', 3.0), ('Dentsu Inc.', 3.0), ('Saga Film', 3.0), ('Chambara Pictures', 3.0), ('This Is That Productions', 3.0), ('Mark Johnson Productions', 3.0), ('Curmudgeon Films', 3.0), ('Edmonds Entertainment Group (EEG)', 3.0), ('Epidemic Pictures', 3.0), ('CinemaNX', 3.0), ('Ozla Pictures', 3.0), ('Great Scott Productions Pty. Ltd.', 3.0), ('Industrial Light & Magic (ILM)', 3.0), ('Bedlam Productions', 3.0), ('See-Saw Films', 3.0), ('Aegis Film Fund', 3.0), ('Polish Film Institute', 3.0), ('Exclusive Films', 3.0), ('Monolith Films', 3.0), ('On the Road', 3.0), ('Tree Line Films', 3.0), ('Pink Machine', 3.0), ('Red Om Films', 3.0), ('Road Rebel', 3.0), ('China Film Group', 3.0), ('Runteam Ltd.', 3.0), ('R.P. Productions', 3.0), ('EFTI', 3.0), ('Battle Mountain Films', 3.0), ('Birdsong Pictures', 3.0), ('Penn Station Entertainment', 3.0), ('Lions Gate Family Entertainment', 3.0), ('Crest Animation Productions', 3.0), ('HighRoad Entertainment', 3.0), ('Prelude Pictures', 3.0), ('Lone Runner Entertainment', 3.0), ('Kenio Films', 3.0), ('Perfect Game, The', 3.0), ('Boram Entertainment Inc.', 3.0), ('Ealing Studios', 3.0), ('Fragile Films', 3.0), ('Quickfire Films', 3.0), ('Stanley Kubrick Productions', 3.0), ('Imhotep Productions', 3.0), ('Liveplanet', 3.0), ('BrownHouse Productions', 3.0), ('Bottom of the Ninth Productions', 3.0), ('Black and Blu Entertainment', 3.0), ('Finestkind', 3.0), ('Brad Grey Pictures', 3.0), ('Red Wagon Productions', 3.0), ('Chris Lee Productions', 3.0), ('Dee Gee Entertainment', 3.0), ('Prufrock Pictures', 3.0), ('Tribeca Productions', 3.0), ('Storm King Productions', 3.0), ('Animationwerks', 3.0), ('Dan Films', 3.0), ('CP Medien AG', 3.0), ('MVL Incredible Productions', 3.0), ('Kingsgate Films', 3.0), ('Film Capital Europe Funds (FCEF )', 3.0), ('Baumgarten Management and Productions (BMP)', 3.0), ('SGF Entertainment', 3.0), ('Alta Loma Entertainment', 3.0), ('Internationale Filmproduktion', 3.0), ('Gravier Productions', 3.0), ('Antena 3 Films', 3.0), ('TelevisiÃ³ de Catalunya (TV3)', 3.0), ('Antena 3 TelevisiÃ³n', 3.0), ('Huayi Brothers', 3.0), ('International Production Company', 3.0), ('Media Magik Entertainment', 3.0), ('Neal Street Productions', 3.0), ('Deep River Productions', 3.0), ('Management 360', 3.0), ('Random Films', 3.0), ('Gambit Pictures', 3.0), ('Electric Shepherd Productions', 3.0), ('Mpower Pictures', 3.0), ('The Jacobson Company', 3.0), ('Deuce Three Productions', 3.0), ('Dr D Studios', 3.0), ('Kennedy Miller Mitchell', 3.0), ('FilmEngine', 3.0), ('Recorded Pictures Company', 3.0), ('The Movie Network', 3.0), ('Millbrook Pictures', 3.0), ('Prospero Pictures', 3.0), ('Lago Film', 3.0), ('Flashpoint Entertainment', 3.0), ('Sony Pictures Worldwide Acquisitions (SPWA)', 3.0), ('TDJ Enterprises / New Dimensions Entertainment', 3.0), ('Our Stories Films', 3.0), ('DiNovi Pictures', 3.0), ('Corrino Media Corporation', 3.0), ('Corsan', 3.0), ('Staccato Films', 3.0), ('British Film Council', 3.0), ('Hughes Entertainment', 3.0), ('Shoelace Productions', 3.0), ('Out of the Blue... Entertainment', 3.0), ('Hungry Eye Lowland Pictures B.V.', 3.0), ('Flan de Coco Films', 3.0), ('World Wrestling Entertainment (WWE)', 3.0), ('Icon Entertainment International', 3.0), ('Wheelhouse Entertainment', 3.0), ('Motion Picture Production GmbH & Co. Erste KG', 3.0), ('Schroeder Hoffman Productions', 3.0), ('National Geographic Society', 3.0), ('Catch 23 Entertainment', 3.0), ('Tripod Entertainment', 3.0), ('Jaffilms Inc.', 3.0), ('Clear Blue Sky Productions', 3.0), ('Baltimore Spring Creek Productions', 3.0), ('Captivate Entertainment', 3.0), ('Stephen J. Cannell Productions', 3.0), ('First Light Production', 3.0), ('Hedge Fund Film Partners', 3.0), ('Knightsbridge Entertainment', 3.0), ('Corner Store Entertainment', 3.0), ('Stoller Global Solutions', 3.0), ('Inferno Entertainment', 3.0), ('Varsity Pictures', 3.0), ('VideoFilmes', 3.0), ('Mandalay Vision', 3.0), ('Heineken Branded Entertainment', 3.0), ('Newman/Tooley Films', 3.0), ('Joseph Nittolo Entertainment', 3.0), ('\"DIA\" Productions GmbH & Co. KG', 3.0), ('Don Simpson/Jerry Bruckheimer Films', 3.0), ('Tall Trees Productions', 3.0), ('Doom Buggy Productions', 3.0), ('Cecchi Gori Group Tiger Cinematografica', 3.0), ('Myriad Pictures', 3.0), ('Jeepers Creepers II', 3.0), ('Mediastream Dritte Film', 3.0), ('Turner Pictures', 3.0), ('Antietam Filmworks', 3.0), ('Brightlight Pictures', 3.0), ('Reiner-Greisman', 3.0), ('A&E Television Networks', 3.0), ('Apparatus Productions', 3.0), ('Truth Entertainment', 3.0), ('Mythology Entertainment (II)', 3.0), ('Millenium Films', 3.0), ('Two Ton Films', 3.0), ('Essential Media & Entertainment', 3.0), ('Silver Bullet Productions (II)', 3.0), ('Blind Wink Productions', 3.0), ('Sudden Storm Productions', 3.0), ('SkyLand Entertainment', 3.0), ('PathÃ© Distribution', 3.0), ('Paco Cinematografica', 3.0), ('Regione Lazio', 3.0), ('Business Location Sudtirol Alto Adige', 3.0), ('Friuli Venezia Giulia Film Commission', 3.0), ('Archer Street Productions', 3.0), ('Latitude Media', 3.0), ('K5 International', 3.0), ('Jean Doumanian Productions', 3.0), ('Entertainment Manufacturing Company', 3.0), ('MacDonald/Parkes Productions', 3.0), ('MBC Beteiligungs Filmproduktion', 3.0), ('Reforma Films', 3.0), ('Persistent Entertainment', 3.0), ('The Ladd Company', 3.0), ('ShadowCatcher Entertainment', 3.0), ('Daniel Bobker Productions', 3.0), ('Biscayne Pictures', 3.0), ('Catfish Productions', 3.0), ('Callahan Filmworks', 3.0), ('Big Beach Productions', 3.0), ('Telegraph Films', 3.0), ('MI 3 Film', 3.0), ('Hit & Run Productions', 3.0), ('Matinee Pictures', 3.0), ('Sound for Film', 3.0), ('Failure to Launch Productions', 3.0), ('Playtone Production', 3.0), ('Big Beach Films', 3.0), ('Thousand Words', 3.0), ('Detour Filmproduction', 3.0), ('Paramount Classics', 3.0), ('Tiara Blu Films', 3.0), ('Sunset Gower Studios', 3.0), ('Motion Picture THETA Produktionsgesellschaft', 3.0), ('Ludlum Entertainment', 3.0), ('Golden Mean', 3.0), ('Universal CGI', 3.0), ('Constantin Film Ltd.', 3.0), ('Blackfriars Bridge Films', 3.0), ('Gaylord Films', 3.0), ('Loofah Productions', 3.0), ('AR-TL', 3.0), ('Friday Night Lights LLC', 3.0), ('MDBF Filmgesellschaft mbH & Company KG', 3.0), ('Taormina Productions', 3.0), ('Bird and a Bear Entertainment', 3.0), ('Hallway Pictures', 3.0), ('Catch Productions', 3.0), ('Motion Picture BETA Produktionsgesellschaft', 3.0), ('Bourne Again', 3.0), ('Into the Wild', 3.0), ('Lauren Levine Productions Inc.', 3.0), ('Sociedad General de Cine S.A.', 3.0), ('Scholastic Productions', 3.0), ('Yuma', 3.0), ('Monkey Dance Productions', 3.0), ('Entertainment Films', 3.0), ('Material Entertainment', 3.0), ('Beech Hill Films', 3.0), ('Zadan / Meron Productions', 3.0), ('Resident Evil Productions', 3.0), ('Reserve Room', 3.0), ('Marshall Production', 3.0), ('Underground', 3.0), ('Sunlight Productions', 3.0), ('Madison 23', 3.0), ('Dreamachine', 3.0), ('Block 2 Pictures', 3.0), ('Jet Tone Production', 3.0), ('Lou Yi Inc.', 3.0), ('Huayi Brothers Media Corporation', 3.0), ('Tyler Perry Company, The', 3.0), ('Munich Film Partners & Company (MFP) MI2 Productions', 3.0), ('Wind Dancer Productions', 3.0), ('Nancy Tenenbaum Films', 3.0), ('Technical Black', 3.0), ('Run It Up Productions Inc.', 3.0), ('Red Horizon Productions', 3.0), ('Seven Arts Pictures', 3.0), ('Munich Film Partners & Company (MFP) ROE Production', 3.0), ('Triple Threat Talent', 3.0), ('Sweetpea Entertainment', 3.0), ('SNL Studios', 3.0), ('JLT Productions', 3.0), ('Fox Searchlight Pictures', 2.9583333333333335), ('Walt Disney Pictures', 2.951219512195122), ('Summit Entertainment', 2.926829268292683), ('Imagine Entertainment', 2.92), ('Morgan Creek Productions', 2.9166666666666665), ('Davis-Films', 2.9), ('Constantin Film Produktion', 2.9), ('Appian Way', 2.888888888888889), ('Dune Entertainment III', 2.8823529411764706), ('Stillking Films', 2.875), ('Paramount Pictures', 2.8688524590163933), ('Alcon Entertainment', 2.8666666666666667), ('Atmosphere Entertainment MM', 2.857142857142857), ('Gary Sanchez Productions', 2.857142857142857), ('Troublemaker Studios', 2.857142857142857), ('Walt Disney Feature Animation', 2.857142857142857), ('Virtual Studios', 2.857142857142857), ('Franchise Pictures', 2.8461538461538463), ('Ingenious Film Partners', 2.8421052631578947), ('Imagenation Abu Dhabi FZ', 2.8333333333333335), ('Offspring Entertainment', 2.8333333333333335), ('Firm Films', 2.8333333333333335), ('Happy Madison Productions', 2.8260869565217392), ('20th Century Fox', 2.823529411764706), ('Blumhouse Productions', 2.8181818181818183), ('Nu Image Films', 2.8181818181818183), ('Scion Films', 2.8181818181818183), ('DNA Films', 2.8), ('Marc Platt Productions', 2.8), ('Green Hat Films', 2.8), ('One Race Productions', 2.8), ('Dark Horse Entertainment', 2.8), ('Radar Pictures', 2.7777777777777777), ('De Line Pictures', 2.7777777777777777), ('Warner Bros.', 2.767857142857143), ('Metro-Goldwyn-Mayer (MGM)', 2.75), ('Gunn Films', 2.75), ('Reliance BIG Entertainment', 2.75), ('Metropolitan Filmexport', 2.75), ('Cheyenne Enterprises', 2.75), ('Paradox Entertainment', 2.75), ('Miramax Films', 2.7435897435897436), ('Lionsgate', 2.742857142857143), ('Columbia Pictures', 2.735042735042735), ('Chernin Entertainment', 2.7142857142857144), ('Contrafilm', 2.7142857142857144), ('Scott Free Productions', 2.7083333333333335), ('Working Title Films', 2.7037037037037037), ('Columbia Pictures Corporation', 2.702127659574468), ('Escape Artists', 2.6923076923076925), ('Lions Gate Films', 2.6842105263157894), ('Village Roadshow Pictures', 2.6825396825396823), ('Universal Studios', 2.6666666666666665), ('NeoReel', 2.6666666666666665), ('Buena Vista', 2.6666666666666665), ('Point Grey Pictures', 2.6666666666666665), ('Clinica Estetico', 2.6666666666666665), ('Jersey Films', 2.6666666666666665), ('Exclusive Media Group', 2.6666666666666665), ('Big Kid Pictures', 2.6666666666666665), ('Ghoulardi Film Company', 2.6666666666666665), ('Olive Bridge Entertainment', 2.6666666666666665), ('2929 Productions', 2.6666666666666665), ('Fortis Films', 2.6666666666666665), ('Team Todd', 2.6666666666666665), ('France 2 CinÃ©ma', 2.6666666666666665), ('Gracie Films', 2.6666666666666665), ('Zide-Perry Productions', 2.6666666666666665), ('Hyde Park Entertainment', 2.6666666666666665), ('Eon Productions', 2.6666666666666665), ('Gerber Pictures', 2.6666666666666665), ('Voltage Pictures', 2.6666666666666665), ('K/O Paper Products', 2.6666666666666665), ('Fox Searchlight', 2.6666666666666665), ('Mikona Productions GmbH & Co. KG', 2.6666666666666665), ('World 2000 Entertainment', 2.6666666666666665), ('Marty Katz Productions', 2.6666666666666665), ('Cheetah Vision', 2.6666666666666665), ('Next Entertainment', 2.6666666666666665), ('Lonely Film Productions GmbH & Co. KG.', 2.6666666666666665), ('Universal', 2.6666666666666665), ('WV Films III', 2.6666666666666665), ('Major Studio Partners', 2.6666666666666665), ('Silver Pictures', 2.6470588235294117), ('Kennedy/Marshall Company, The', 2.625), ('Film4', 2.6153846153846154), ('Universal Pictures', 2.61271676300578), ('3 Arts Entertainment', 2.6), ('Mad Chance', 2.6), ('Wonderland Sound and Vision', 2.6), ('FilmNation Entertainment', 2.6), ('Rainforest Films', 2.6), ('Wintergreen Productions', 2.6), ('Paramount Vantage', 2.6), ('Robert Simonds Productions', 2.6), ('American Zoetrope', 2.6), ('Original Film', 2.586206896551724), ('Lakeshore Entertainment', 2.5833333333333335), ('Intermedia Films', 2.5833333333333335), ('DreamWorks SKG', 2.5806451612903225), ('Dimension Films', 2.5675675675675675), ('Screen Gems', 2.5483870967741935), ('Anonymous Content', 2.5454545454545454), ('Millennium Films', 2.5294117647058822), ('Regency Enterprises', 2.510204081632653), ('Babieka', 2.5), ('Trigger Street Productions', 2.5), ('Brownstone Productions', 2.5), ('Fox International Productions', 2.5), ('Moonlighting Films', 2.5), ('Twentieth Century Fox Animation', 2.5), ('Sony Pictures Entertainment', 2.5), ('Onyx Films', 2.5), ('Alliance Films', 2.5), ('Shangri-La Entertainment', 2.5), ('Dune Films', 2.5), ('Treehouse Pictures', 2.5), ('Lynda Obst Productions', 2.5), ('Di Bonaventura Pictures', 2.5), ('Province of British Columbia Production Services Tax Credit', 2.5), ('LionsGate', 2.5), ('WideAwake', 2.5), ('Nimar Studios', 2.5), ('Grindstone Entertainment Group', 2.5), ('Screen Gems, Inc.', 2.5), ('Key Creatives', 2.5), ('Centropolis Entertainment', 2.5), ('American Empirical Pictures', 2.5), ('Kaplan/Perrone Entertainment', 2.5), ('Icon Productions', 2.5), ('Overture Films', 2.5), ('Cruise/Wagner Productions', 2.5), ('David Brown Productions', 2.5), ('Sean S. Cunningham Films', 2.5), ('Crystal Lake Entertainment', 2.5), ('Kopelson Entertainment', 2.5), (\"Mel's Cite du Cinema\", 2.5), ('Playtone', 2.5), ('Kanzaman', 2.5), ('The Kennedy/Marshall Company', 2.5), ('Grosvenor Park Productions', 2.5), ('Blue Star Pictures', 2.5), ('Emperor Motion Pictures', 2.5), ('New Legacy', 2.5), ('Participant Productions', 2.5), ('Kerner Entertainment Company', 2.5), ('Monarch Pictures', 2.5), ('David Ladd Films', 2.5), ('Film i VÃ¤st', 2.5), ('Wessler Entertainment', 2.5), ('After Dark Films', 2.5), ('MFPV Film', 2.5), ('Mars Media Beteiligungs', 2.5), ('Hard Eight Pictures', 2.5), ('Kernos Filmproduktionsgesellschaft & Company', 2.5), ('Jon Shestack Productions', 2.5), ('Clifford Werber Productions', 2.5), ('Figment Films', 2.5), ('Tiger Aspect Productions', 2.5), ('Relativity Media', 2.484848484848485), ('Touchstone Pictures', 2.4827586206896552), ('Legendary Pictures', 2.4705882352941178), ('Blue Sky Studios', 2.4444444444444446), ('Ghost House Pictures', 2.4444444444444446), ('Impact Pictures', 2.4444444444444446), ('Phoenix Pictures', 2.4444444444444446), ('Spyglass Entertainment', 2.4375), ('The Weinstein Company', 2.4285714285714284), ('Epsilon Motion Pictures', 2.4166666666666665), ('Double Feature Films', 2.4), ('Bazelevs Production', 2.4), ('CBS Films', 2.4), ('Karz Entertainment', 2.4), ('Strike Entertainment', 2.4), ('Tapestry Films', 2.4), ('DC Entertainment', 2.4), ('Lawrence Bender Productions', 2.4), ('Bel Air Entertainment', 2.4), ('Initial Entertainment Group (IEG)', 2.4), ('Davis Entertainment', 2.388888888888889), ('Thunder Road Pictures', 2.375), ('Reliance Entertainment', 2.375), ('NPV Entertainment', 2.35), ('Focus Features', 2.3333333333333335), ('Participant Media', 2.3333333333333335), ('A24', 2.3333333333333335), ('Automatik Entertainment', 2.3333333333333335), ('RatPac Entertainment', 2.3333333333333335), ('Harpo Films', 2.3333333333333335), ('Internationale Filmproduktion Blackbird Dritte', 2.3333333333333335), ('Chockstone Pictures', 2.3333333333333335), ('Atlas Entertainment', 2.3333333333333335), ('Spectacle Entertainment Group', 2.3333333333333335), ('DreamWorks', 2.3333333333333335), ('Peninsula Films', 2.3333333333333335), ('Bedford Falls Productions', 2.3333333333333335), ('Katalyst Films', 2.3333333333333335), ('United Artists', 2.3333333333333335), ('Beacon Communications', 2.3333333333333335), ('Hypnotic', 2.3333333333333335), ('Ascendant Pictures', 2.3333333333333335), ('Art Linson Productions', 2.3333333333333335), ('Kalima Productions GmbH & Co. KG', 2.3333333333333335), ('Jinks/Cohen Company', 2.3333333333333335), ('Beacon Pictures', 2.3333333333333335), ('Baldwin Entertainment Group', 2.3333333333333335), ('Zephyr Films', 2.3333333333333335), ('New Regency Pictures', 2.3214285714285716), ('Warner Bros. Pictures', 2.3076923076923075), ('Walt Disney Animation Studios', 2.3), ('Mosaic Media Group', 2.3), ('TriStar Pictures', 2.2941176470588234), ('Cross Creek Pictures', 2.2857142857142856), ('IM Global', 2.2857142857142856), ('Weed Road Pictures', 2.2857142857142856), ('Stuber Productions', 2.2857142857142856), ('StudioCanal', 2.260869565217391), ('Dentsu', 2.25), ('Sony Pictures Entertainment (SPE)', 2.25), ('Waverly Films', 2.25), ('BenderSpink', 2.25), ('Don Carmody Productions', 2.25), ('Jerry Weintraub Productions', 2.25), ('Wayans Bros. Entertainment', 2.25), ('Amen Ra Films', 2.25), ('Konrad Pictures', 2.25), ('Quinta Communications', 2.25), ('Avery Pix', 2.25), ('Parkes/MacDonald Productions', 2.25), ('Craven-Maddalena Films', 2.25), ('EuropaCorp', 2.235294117647059), ('DC Comics', 2.2222222222222223), ('Rogue Pictures', 2.2222222222222223), ('Anarchos Productions', 2.2), ('Marv Films', 2.2), ('Sony Pictures', 2.2), ('Infinitum Nihil', 2.2), ('Broken Road Productions', 2.2), ('Fox Atomic', 2.2), ('The Montecito Picture Company', 2.2), ('Revolution Studios', 2.2), ('Paramount Animation', 2.2), ('Industry Entertainment', 2.2), ('Intrepid Pictures', 2.2), ('Silver Reel', 2.2), ('Vertigo Entertainment', 2.1875), ('LStar Capital', 2.1666666666666665), ('Malpaso Productions', 2.1666666666666665), ('Nick Wechsler Productions', 2.1666666666666665), ('ImageMovers', 2.142857142857143), ('FilmDistrict', 2.142857142857143), ('Blinding Edge Pictures', 2.125), ('Syncopy', 2.125), (\"Donners' Company\", 2.111111111111111), ('Emmett/Furla Films', 2.111111111111111), ('GK Films', 2.090909090909091), ('Mandeville Films', 2.0), ('CatchPlay', 2.0), ('International Traders', 2.0), ('Universal Pictures International (UPI)', 2.0), ('Michael De Luca Productions', 2.0), ('Versus Pictures', 2.0), ('Killer Films', 2.0), ('Ehman Productions', 2.0), ('Endgame Entertainment', 2.0), ('Constantin Film.', 2.0), ('Feigco Entertainment', 2.0), ('Groundswell Productions', 2.0), ('Blue-Tongue Films', 2.0), ('STX Entertainment', 2.0), ('Ahimsa Films', 2.0), ('Amazon Studios', 2.0), ('Film Art Media', 2.0), ('Apollo Media', 2.0), ('Vast Entertainment', 2.0), ('Head Gear Films', 2.0), ('Brothers Dowdle Productions', 2.0), ('Instituto de la CinematografÃ\\xada y de las Artes Audiovisuales (ICAA)', 2.0), ('Pacific Standard', 2.0), ('Ruby Films', 2.0), ('Metanoia Films', 2.0), ('Vinyl Films', 2.0), ('DefyNite Films', 2.0), ('MJW Films', 2.0), ('Bad Hat Harry Productions', 2.0), ('Mace Neufeld Productions', 2.0), ('Mad Chance Productions', 2.0), ('Outlaw Sinema', 2.0), ('Pendle Mountain Productions', 2.0), ('Tonik Productions', 2.0), ('Asis Productions', 2.0), ('Stoney Lake Entertainment', 2.0), ('Team Downey', 2.0), ('Crescendo Productions', 2.0), ('Goldenlight Films', 2.0), ('Silverwood Films', 2.0), ('Oasis Films', 2.0), ('Aperture Entertainment', 2.0), ('Albert S. Ruddy Productions', 2.0), ('Fake Empire', 2.0), ('Bluegrass Films', 2.0), ('Porchlight Films', 2.0), ('Screen NSW', 2.0), ('Qwerty Films', 2.0), ('TF1 Droits Audiovisuels', 2.0), ('The Safran Company', 2.0), ('Hopscotch Films', 2.0), ('D8', 2.0), ('HanWay Films', 2.0), ('Snoot Entertainment', 2.0), ('Warner Bros. Interactive Entertainment', 2.0), ('Rob Thomas Productions', 2.0), ('Sahara Productions', 2.0), ('Silvatar Media', 2.0), ('Zehnte Babelsberg', 2.0), ('Visiona Romantica', 2.0), ('MavroCine Pictures GmbH & Co. KG', 2.0), ('The Halcyon Company', 2.0), ('Block / Hanson', 2.0), ('IFP Westcoast Erste', 2.0), ('Starz Animation', 2.0), ('Goldcrest Pictures', 2.0), ('Darko Entertainment', 2.0), ('Radical Media', 2.0), ('Buckaroo Entertainment', 2.0), ('Pan EuropÃ©enne Production', 2.0), ('Wild West Picture Show Productions', 2.0), ('Palomar Pictures (II)', 2.0), ('Phantom Four', 2.0), ('Jaffe / Braunstein Enterprise', 2.0), ('Case 39 Productions', 2.0), ('Pictures in Paradise', 2.0), ('Camp / Thompson Pictures', 2.0), ('Langley Productions', 2.0), ('Thunder Road Productions', 2.0), ('Fuqua Films', 2.0), ('Twisted Pictures', 2.0), ('20th Century Fox Home Entertainment', 2.0), ('Midnight Sun Pictures', 2.0), ('Vidhu Vinod Chopra Productions', 2.0), ('Ilion Animation Studios', 2.0), ('Hand Made Films', 2.0), ('Ocean Pictures', 2.0), ('Tezuka Production Company Ltd.', 2.0), ('X-Filme Creative Pool', 2.0), ('Trancas International Films', 2.0), ('Smartest Man Productions', 2.0), ('Paul Schiff Productions', 2.0), ('Czech Anglo Productions', 2.0), ('Wandering Star Pictures', 2.0), ('Seed Productions', 2.0), ('Isle of Man Film', 2.0), ('Echo Lake Productions', 2.0), ('Premiere Picture', 2.0), ('Cold Spring Pictures', 2.0), (\"Butcher's Run Films\", 2.0), ('Informant Media', 2.0), ('LivePlanet', 2.0), ('Sean Bailey Productions', 2.0), ('Darlow Smithson Productions', 2.0), ('Lions Gate', 2.0), ('Italian Tax Credit', 2.0), ('Dreamworks Pictures', 2.0), ('Madhouse Entertainment', 2.0), ('Octagon Films', 2.0), ('Birnbaum/Barber', 2.0), ('Bona Fide Productions', 2.0), ('Linson Entertainment', 2.0), ('Rice Films', 2.0), ('Serendipity Productions', 2.0), ('Matador Pictures', 2.0), ('Magic Light Pictures', 2.0), ('Cinema Four', 2.0), ('Oops Doughnuts Productions', 2.0), ('Frontier Pictures', 2.0), ('Chako Film Company', 2.0), ('Intellectual Properties Worldwide', 2.0), ('Prescience', 2.0), ('Twentieth Century Fox', 2.0), ('Mayhem Pictures', 2.0), ('Pioneer Pictures', 2.0), ('Henceforth', 2.0), ('Projection Pictures', 2.0), ('London Boulevard', 2.0), ('American Film Company', 2.0), ('Rhythm and Hues', 2.0), ('Picnic Basket', 2.0), ('Maguire Entertainment', 2.0), ('Serendipity Point Films', 2.0), ('Furry Vengeance Productions', 2.0), ('PVR Cinemas', 2.0), ('Hari Om Entertainment Co.', 2.0), ('Blockbuster Movie Entertainers', 2.0), ('Asymmetrical Productions', 2.0), ('Les Films Alain Sarde', 2.0), ('Babbo Inc.', 2.0), ('The Picture Factory', 2.0), ('Bazmark Films', 2.0), ('Gold/Miller Productions', 2.0), ('Outlaw Productions (I)', 2.0), ('Sogecine', 2.0), ('Las Producciones del Escorpion', 2.0), ('Cruise-Wagner Productions', 2.0), ('Current Entertainment', 2.0), ('Cinerenta-Cinebeta', 2.0), ('VCL Communications', 2.0), ('Underworld Entertainment', 2.0), ('Fireworks Pictures', 2.0), ('Pistolero Productions LLC', 2.0), ('New Redemption Pictures', 2.0), ('Horseshoe Bay Productions', 2.0), ('Native Pictures Productions', 2.0), ('Darkwoods Productions', 2.0), ('Crystal Sky Worldwide', 2.0), ('MDP Worldwide', 2.0), ('Carousel Picture Company, The', 2.0), ('Signature Entertainment', 2.0), ('Internationale Filmproduktion Richter', 2.0), ('Littlestar', 2.0), ('Valhalla Motion Pictures', 2.0), ('Double Nickel Entertainment', 2.0), ('Europa Corp', 2.0), ('The Department of Trade and Industry of South Africa', 2.0), ('Internationale Filmproduktion Stella-del-Sud Second', 2.0), ('Heyday films', 2.0), ('Top Rope', 2.0), ('Collision Entertainment', 2.0), ('Abandon Entertainment', 2.0), ('Foxtor Productions', 2.0), ('Art In Motion', 2.0), ('Internationale Filmproduktion Stella-del-SÃ¼d', 2.0), ('Babylon', 2.0), ('Blueprint Pictures', 2.0), ('Twins Financing', 2.0), ('Ott Medien', 2.0), ('InVenture Entertainment', 2.0), ('Nu-Image Films', 2.0), ('VN Productions', 2.0), ('Initial Entertainment Group', 2.0), ('Dark Lot Entertainment', 2.0), ('UTV Motion Pictures', 2.0), ('Evamere Entertainment', 2.0), ('Michaels-Goldwyn', 2.0), ('Ecosse Films', 2.0), ('2 Entertain', 2.0), ('IDEA Filmproduktions', 2.0), ('Starz Media', 2.0), ('Studiopolis', 2.0), ('Vanguard Animation', 2.0), ('3 in the Box', 2.0), ('GreeneStreet Films', 2.0), ('First Foot Films', 2.0), ('Sherazade Film Development', 2.0), ('Corduroy Films', 2.0), ('Scared Productions', 2.0), ('Nu Image Entertainment GmbH', 2.0), ('Vendome Pictures', 2.0), ('Virgin Produced', 2.0), ('K/O Camera Toys', 2.0), ('Lennox House Films', 2.0), ('La Petite Reine', 2.0), ('Studio 37', 2.0), ('uFilm', 2.0), ('Jouror Productions', 2.0), ('Film 4', 2.0), ('Hungarian National Film Office', 2.0), ('Lazio Film Commission', 2.0), ('Denver and Delilah Productions', 2.0), ('Wild Ocean Films', 2.0), ('2S Films', 2.0), ('Image Entertainment', 2.0), ('Bekmambetov Projects Ltd.', 2.0), ('Battleplan Productions', 2.0), ('Ad Hominem Enterprises', 2.0), ('Aura Film Partnership', 2.0), ('Toledo Productions', 2.0), ('Brookwell-McNamara Entertainment', 2.0), ('Cliffjack Motion Pictures', 2.0), ('Voltage pictures', 2.0), ('ANA Media', 2.0), ('Picture Perfect (I)', 2.0), ('DJ Films', 2.0), ('Incentive Filmed Entertainment', 2.0), ('Chrysalis Films', 2.0), ('Bac Films', 2.0), ('Canal+Polska', 2.0), ('Heritage Films', 2.0), ('Agencja Produkcji Filmowej', 2.0), ('TF1 Films Productions', 2.0), ('Marvel Entertainment, LLC', 2.0), ('Milk & Honey', 2.0), ('Imaginary Forces', 2.0), ('Hofflund/Polone', 2.0), ('Indelible Productions', 2.0), ('David Foster Productions', 2.0), ('Hacienda Productions', 2.0), ('Ghost Ship Films Pty. Ltd.', 2.0), ('IM Filmproduktion', 2.0), ('Cosmic Pictures', 2.0), ('Burg/Koules Productions', 2.0), ('Evolution Entertainment', 2.0), ('Storyline Entertainment', 2.0), ('Shutt/Jones Productions', 2.0), ('98 MPH Productions', 2.0), ('Motion Picture Corporation of America', 2.0), ('UW4 Productions', 2.0), ('Laura Ziskin Productions', 2.0), ('Apaches Entertainment', 2.0), ('Ascension Pictures', 2.0), ('ARD Degeto Film', 2.0), ('Cloud Atlas Productions', 2.0), ('Extension 765', 2.0), ('Transfilm', 2.0), ('Moonrise', 2.0), ('CAMERON MACKINTOSH', 2.0), ('North Box Productions', 2.0), ('Media Farm', 2.0), ('Sunday Night', 2.0), ('Lucasfilm Ltd.', 2.0), ('Partnership Pictures', 2.0), ('Pariah Entertainment Group', 2.0), ('Serenade Films', 2.0), ('Also Known As Pictures', 2.0), ('Vanguard Films', 2.0), ('Studio Babelsberg Motion Pictures', 2.0), ('Disney Enterprises', 2.0), ('Pit Bull Productions', 2.0), ('Loumolo & Co.', 2.0), ('Dimension Films (US version)', 2.0), ('Stan Winston Studio', 2.0), ('Horsepower Films', 2.0), ('Core Productions', 2.0), ('Birnbaum / Barber Productions', 2.0), ('Jackie Chan Films Limited', 2.0), ('All Knight Productions', 2.0), ('Y Productions', 2.0), ('Mediana Productions Filmgesellschaft', 2.0), ('Mirage Enterprises', 2.0), ('Cattleya', 2.0), ('Tig Productions', 2.0), ('N1 European Film Produktions GmbH & Co. KG', 2.0), ('Baumgarten Merims Productions', 2.0), ('Alphaville Productions', 2.0), ('Recorded Picture Company (RPC)', 2.0), ('FidÃ©litÃ© Productions', 2.0), ('Gimages', 2.0), ('FOZ', 2.0), ('Harbour Pictures', 2.0), ('Disney Double Dare You (DDY)', 2.0), ('Chartoff Productions', 2.0), ('Digital Domain', 2.0), ('Envision Entertainment Corporation', 2.0), ('Revolution Films', 2.0), ('Herrick Entertainment', 2.0), ('RabbitBandini Productions', 2.0), ('Division Films', 2.0), ('Pop Films', 2.0), ('Muse Productions', 2.0), ('Troika Pictures', 2.0), ('Emergency Films', 2.0), ('Apotheosis Media Group', 2.0), ('Gidden Media', 2.0), ('Envision Entertainment', 2.0), ('Sycamore Pictures', 2.0), ('Stone Village Pictures', 2.0), ('Fastnet Films', 2.0), ('Caramel Film', 2.0), ('Langley Park Production', 2.0), ('Aggregate Films', 2.0), ('DumbDumb', 2.0), ('40 Acres & A Mule Filmworks', 2.0), ('Lee Daniels Entertainment', 2.0), ('Follow Through Productions', 2.0), ('Salamander Pictures', 2.0), ('Pam Williams Productions', 2.0), ('Greenestreet Films', 2.0), ('Witness Protection Films', 2.0), ('Weinstein Company, The', 2.0), ('Temple Hill Productions', 2.0), ('Perdido Productions', 2.0), ('Inferno International', 2.0), ('LGM Productions', 2.0), ('Les Productions du TrÃ©sor', 2.0), ('Mars Distribution', 2.0), ('Reel FX Creative Studios', 2.0), ('Sneak Preview Productions', 2.0), ('Kumar Mobiliengesellschaft mbH & Co. Projekt Nr. 3 KG', 2.0), ('Colossal Pictures', 2.0), ('TF 1 Film Productions', 2.0), ('Kumar Mobiliengesellschaft mbH & Co. Projekt Nr. 1 KG', 2.0), ('Big Primate Pictures', 2.0), ('Nina Saxon Film Design', 2.0), ('Will Vinton Studios', 2.0), ('VIP 3 Medienfonds', 2.0), ('Parkway Pictures (I)', 2.0), ('John Wells Productions', 2.0), ('Alan Greenspan Productions', 2.0), ('Five Roses', 2.0), ('Debra Hill Productions', 2.0), ('The Movie Network (TMN)', 2.0), ('Max Stronghold Productions Inc.', 2.0), ('Cineblue Internationale Filmproduktionsgesellschaft', 2.0), ('City Productions', 2.0), ('Post No Bills Films', 2.0), ('Pandemonium Productions', 2.0), ('Eketahuna LLC', 2.0), ('Media Asia Films', 2.0), ('Silent Hill DCP Inc.', 2.0), ('Konami', 2.0), ('Muse Entertainment Enterprises', 2.0), ('Kingdom Feature Productions', 2.0), ('C.O.R.E. Feature Animation', 2.0), ('Hoytyboy Pictures', 2.0), ('Nigel Productions', 2.0), ('Motion Picture ETA Produktionsgesellschaft', 2.0), ('Foqus Arte Digital', 2.0), ('Metropolis Films', 2.0), ('Universal Animation Studios', 2.0), ('Contagious Entertainment', 2.0), ('Nu Image Entertainment', 2.0), ('3L Filmverleih', 2.0), ('Pricel', 2.0), ('Tohokushinsha Film', 2.0), ('Commission du Film France', 2.0), ('Black & White Productions', 2.0), ('11:11 Mediaworks', 2.0), ('Eyetronics', 2.0), ('BIM Distribuzione', 2.0), ('Granada Film Productions', 2.0), ('True Grit Productions', 2.0), ('Zero Gravity Management', 2.0), ('Pierce/Williams Entertainment', 2.0), ('Yash Raj Films', 2.0), ('Mirabai Films', 2.0), ('Hollywood Pictures', 2.0), ('Raygun Productions', 2.0), ('Rosey Film Productions LLC', 2.0), ('Cappa Productions', 2.0), ('Shawn Danielle Productions Ltd.', 2.0), ('Film Colony', 2.0), ('VIP 2 Medienfonds', 2.0), ('Green Hills Productions', 2.0), ('Grand Slam Productions', 2.0), ('Fellah Pictures', 2.0), ('Filmax Entertainment', 2.0), ('ICF', 2.0), ('Fellowship Adventure Group', 2.0), ('Gone North Productions', 2.0), ('Industrial Development Corporation of South Africa', 2.0), ('Miracle Pictures', 2.0), ('Visual Arts Entertainment', 2.0), ('Two Brothers Productions', 2.0), ('Broken Lizard Industries', 2.0), ('Coconut Pete Productions', 2.0), ('Fantail Films Inc.', 2.0), ('Crystal Sky Pictures', 2.0), ('Hal Lieberman Company', 2.0), ('Columbus 81 Productions', 2.0), ('MDBF Zweite Filmgesellschaft', 2.0), ('Eden Rock Media', 2.0), ('Element Films', 2.0), ('CJ Entertainment', 2.0), ('Southpaw Entertainment', 2.0), ('Jessie Nelson Productions', 2.0), ('Astral Media', 2.0), ('Bueprint Pictures', 2.0), ('Halcyon Pictures', 2.0), ('Kinematograf Wien', 2.0), ('Chime Films', 2.0), ('SW7D Productions', 2.0), ('Brass Hat Films', 2.0), ('Dino de Laurentiis Cinematografica', 2.0), ('Red Lion Sarl', 2.0), ('ETIC Films', 2.0), ('Global Entertainment Productions GmbH & Company Medien KG', 2.0), ('Arts Council of England', 2.0), ('Interscope Communications', 2.0), ('Polygram Filmed Entertainment', 2.0), ('Cranium Films', 2.0), ('Clipsal Films', 2.0), ('The Canton Company', 2.0), ('Mars Production Pty. Ltd.', 2.0), ('Katira Productions GmbH & Co. KG', 2.0), ('Caro-McLeod', 2.0), ('Fox Animation Studios', 2.0), ('Neo Art & Logic', 2.0), ('Wes Craven Films', 2.0), ('Fountainbridge Films', 2.0), ('Finding Forrester Productions', 2.0), ('Cruella Productions', 2.0), ('Davis-Panzer Productions', 2.0), ('Nora Ephron Productions', 2.0), ('Overbrook Entertainment', 1.9), ('RatPac-Dune Entertainment', 1.875), ('Section Eight', 1.875), ('Annapurna Pictures', 1.8571428571428572), ('QED International', 1.8333333333333333), ('Pacific Data Images (PDI)', 1.8333333333333333), ('Illumination Entertainment', 1.8), ('Good Universe', 1.8), ('WWE Studios', 1.8), ('Dino De Laurentiis Company', 1.8), ('Laurence Mark Productions', 1.8), ('Media Rights Capital', 1.7857142857142858), ('Canal+', 1.7727272727272727), ('Pixar Animation Studios', 1.7692307692307692), ('M6 Films', 1.75), ('Protozoa Pictures', 1.75), ('The Mark Gordon Company', 1.75), ('Focus Films', 1.75), ('Dark Castle Entertainment', 1.75), ('Misher Films', 1.75), ('PathÃ© Renn Productions', 1.75), ('Rat Entertainment', 1.75), ('Newmarket Capital Group', 1.75), ('CinÃ©CinÃ©ma', 1.75), ('Casey Silver Productions', 1.75), ('Canal Plus', 1.7142857142857142), ('Marvel Enterprises', 1.6923076923076923), ('Fuji Television Network', 1.6666666666666667), ('Genre Films', 1.6666666666666667), ('Forward Pass', 1.6666666666666667), ('Worldview Entertainment', 1.6666666666666667), ('Crave Films', 1.6666666666666667), ('Screen Australia', 1.6666666666666667), ('Cinerenta Medienbeteiligungs KG', 1.6666666666666667), ('Wild Bunch', 1.6666666666666667), ('Bedford Falls Company, The', 1.6666666666666667), ('Odd Lot Entertainment', 1.6666666666666667), ('Mark Canton Productions', 1.6666666666666667), ('Colombia Pictures', 1.6666666666666667), ('Good Machine', 1.6666666666666667), ('Bob Yari Productions', 1.6666666666666667), ('Radiant Productions', 1.6666666666666667), ('Grive Productions', 1.6), ('CinÃ©+', 1.5), ('Flynn Picture Company', 1.5), ('Fuzzy Door Productions', 1.5), ('Open Road Films', 1.5), ('Element Pictures', 1.5), ('No Trace Camping', 1.5), ('Wildgaze Films', 1.5), ('Free State Pictures', 1.5), ('Chartoff-Winkler Productions', 1.5), ('David Dobkin Productions', 1.5), ('Closest to the Hole Productions', 1.5), ('PathÃ©', 1.5), ('87Eleven', 1.5), ('Echo Films', 1.5), ('Laika Entertainment', 1.5), ('Likely Story', 1.5), ('Scope Pictures', 1.5), ('Evergreen Media Group', 1.5), ('Winkler Films', 1.5), ('Canadian Film or Video Production Tax Credit (CPTC)', 1.5), ('Arc Productions', 1.5), ('Virtual Films', 1.5), ('Montecito Picture Company, The', 1.5), ('Pacific Film and Television Commission', 1.5), ('Australian Film Finance Corporation (AFFC)', 1.5), ('Canal+ EspaÃ±a', 1.5), ('Imagi Animation Studios', 1.5), ('Overnight Films', 1.5), ('WV Films II', 1.5), ('USA Films', 1.5), ('David Kirschner Productions', 1.5), ('Tollin/Robbins Productions', 1.5), ('ApolloMedia Distribution', 1.5), ('TPS Star', 1.5), ('KMP Film Invest', 1.5), ('Rogue Marble', 1.5), ('Castel Film Romania', 1.5), ('Castelao Producciones', 1.5), ('Guy Walks into a Bar Productions', 1.5), ('France 3 CinÃ©ma', 1.5), ('LD Entertainment', 1.5), ('Fierce Entertainment', 1.5), ('Blue Tulip Productions', 1.5), ('Shady Acres Entertainment', 1.5), ('Sony Pictures Classics', 1.5), ('Leverage Management', 1.5), ('Tim Burton Animation Company', 1.5), ('British Film Institute (BFI)', 1.5), ('TÃ©lÃ©film Canada', 1.5), ('Cobalt Media Group', 1.5), ('H2F Entertainment', 1.5), ('FilmWorks', 1.5), ('Senator International', 1.5), ('Michael London Productions', 1.5), (\"Bull's Eye Entertainment\", 1.5), ('Storefront Pictures', 1.5), ('TF1 Films Production', 1.4545454545454546), ('Red Wagon Entertainment', 1.3333333333333333), ('Irish Film Board', 1.3333333333333333), ('DMG Entertainment', 1.3333333333333333), ('Ram Bergman Productions', 1.3333333333333333), ('Celador Films', 1.3333333333333333), ('Cloud Eight Films', 1.3333333333333333), ('Telecinco Cinema', 1.3333333333333333), ('PathÃ© Pictures International', 1.3333333333333333), ('Propaganda Films', 1.3333333333333333), ('Yucaipa Films', 1.3333333333333333), ('Yari Film Group', 1.3333333333333333), ('Bold Films', 1.25), ('Danjaq', 1.0), ('B24', 1.0), ('Beagle Pug Films', 1.0), ('Allison Shearmur Productions', 1.0), ('A113', 1.0), ('Riche-Ludwig Productions', 1.0), ('Rocklin / Faust', 1.0), ('Entertainment One Features', 1.0), ('Alpha Core', 1.0), ('Scholastic Entertainment', 1.0), ('Duperele Films', 1.0), ('Item 7', 1.0), ('Parallel Film Productions', 1.0), ('Number 9 Films', 1.0), ('PeaPie Films', 1.0), ('OddLot Entertainment', 1.0), ('Huayi Brothers Media', 1.0), ('Black Label Media', 1.0), ('Kramer & Sigman Films', 1.0), ('Zaftig Films', 1.0), ('Anton Capital Entertainment (ACE)', 1.0), ('Berlanti Productions', 1.0), ('The Cantillon Company', 1.0), ('The Shuman Company', 1.0), ('Little Stranger', 1.0), ('Inimitable Pictures', 1.0), ('ShivHans Pictures', 1.0), ('Le Grisbi Productions', 1.0), ('M Productions', 1.0), ('Sierra / Affinity', 1.0), ('Toho Company', 1.0), (\"We're Not Brothers Productions\", 1.0), ('Cinelou Films', 1.0), ('Kilburn Media', 1.0), ('Fetisov Teterin Films', 1.0), ('Radical Studios', 1.0), ('Gulfstream Pictures', 1.0), ('Screen Queensland', 1.0), ('Blacklab Entertainment', 1.0), ('Wolfhound Pictures', 1.0), ('Straight Up Films', 1.0), ('Jolie Pas', 1.0), ('Constantin Film International', 1.0), ('Lightstorm Entertainment', 1.0), ('Farewell Productions', 1.0), ('Mystery Clock Cinema', 1.0), ('Liberty Films UK', 1.0), ('Lunar Industries', 1.0), ('Xingu Films', 1.0), ('Limelight Fund', 1.0), ('Whamaphram Productions', 1.0), ('Sighvatsson Films', 1.0), ('Outpost Studios', 1.0), ('Studio Babelsberg StudioBabelsberg Motion Pictures', 1.0), ('Smokewood Entertainment Group', 1.0), ('Furst Films', 1.0), ('Infinity Features Entertainment', 1.0), ('Goldsmith-Thomas Productions', 1.0), ('Revelations Entertainment', 1.0), ('HimenÃ³ptero', 1.0), ('Mod Producciones', 1.0), ('Stars Road Entertainment', 1.0), ('Farah Films & Management', 1.0), ('Laura Bickford Productions', 1.0), ('Medienproduktion Poseidon Filmgesellschaft', 1.0), ('Top Shelf Productions', 1.0), ('Prospect Park', 1.0), ('Millbrook Farm Productions', 1.0), ('Aversano Films', 1.0), ('Stone Productions', 1.0), ('Mimran Schur Pictures', 1.0), ('Oceana Media Finance', 1.0), ('Pantheon Entertainment Corporation', 1.0), ('Innocence Productions', 1.0), ('Omega Entertainment', 1.0), ('Hydraulx', 1.0), ('Transmission Pictures', 1.0), ('Night Chronicles', 1.0), ('Fast Track Productions', 1.0), ('Red Hour Productions', 1.0), ('Simon Fields Productions', 1.0), ('Jonathan Krane Group', 1.0), ('American Entertainment Partners L.P.', 1.0), ('GHS Productions KG', 1.0), ('Munich Film Partners & Company (MFP) GHS Productions', 1.0), ('Nides/McCormick Productions', 1.0), ('Empire Pictures', 1.0), ('Ufland', 1.0), ('Trackform Film Productions', 1.0), ('Kickstart Productions', 1.0), ('Achte Babelsberg Film', 1.0), ('ScreenWest', 1.0), ('Internationale Filmproduktion Blackbird Erste', 1.0), ('ASAF', 1.0), ('Luna Pictures', 1.0), ('Lietuvos Kinostudija', 1.0), ('Scout Productions', 1.0), ('Defiance Productions', 1.0), ('Pistachio Pictures', 1.0), ('Cohen/Pearl Productions', 1.0), ('Outlander Productions', 1.0), ('Rifkin-Eberts', 1.0), ('Toff Guy Films', 1.0), ('Andale Pictures', 1.0), ('Ixtlan Productions', 1.0), ('Global Entertainment Group', 1.0), ('Exodus Film Group', 1.0), ('Exodus Productions', 1.0), ('Motel Movies', 1.0), ('Many Rivers Productions', 1.0), ('Boy of the Year', 1.0), ('Blind Wink', 1.0), ('TOKYOPOP', 1.0), ('Tailor Made', 1.0), ('Mango Farms', 1.0), ('Big Talk Productions', 1.0), ('Storefront Films', 1.0), ('Neunte Babelsberg Film', 1.0), ('Holleran Company', 1.0), ('Sechzehnte Babelsberg Film', 1.0), ('Zanagar Films', 1.0), ('Wayfare Entertainment', 1.0), ('Sanctum Australia', 1.0), ('Great Wight Productions/ Osford Films', 1.0), ('Rickshaw Productions', 1.0), ('Witt/Thomas Productions', 1.0), ('Ventanarosa Productions', 1.0), ('Handprint Entertainment', 1.0), ('Beverly Detroit', 1.0), ('Intermedia', 1.0), ('Lion Rock Productions', 1.0), ('Unfaithful Filmproduktion GmbH & Co. KG', 1.0), ('Producers Circle', 1.0), ('Senator Film Produktion', 1.0), ('Milagro Films', 1.0), ('DoRo Fiction Film', 1.0), ('Signature Pictures', 1.0), ('Brandywine Productions', 1.0), ('Rena Film', 1.0), ('Peach Trees', 1.0), ('Film 44', 1.0), ('Adam Schroeder Productions', 1.0), ('Benaroya Pictures', 1.0), ('Pie Films Inc.', 1.0), ('A Hot Dog', 1.0), ('Ixtlan', 1.0), ('Onda Entertainment', 1.0), ('Liddell Entertainment', 1.0), ('Wonderful Films PLC', 1.0), ('Artina Films', 1.0), ('Lucky Monkey Pictures', 1.0), ('Green Room Films', 1.0), ('Headline Pictures', 1.0), ('Rai Cinema', 1.0), ('Alfama Films', 1.0), ('Akil Production Company', 1.0), ('Laurinfilm', 1.0), ('Subterranean Productions LLC', 1.0), ('Subterranean Productions UK Ltd.', 1.0), ('Underworld Produktions GmbH', 1.0), ('NuAmerica Entertainment', 1.0), ('Camelot Pictures', 1.0), ('Illusion Entertainment', 1.0), ('Artists Production Group (APG)', 1.0), ('Province of British Columbia Film Incentive BC', 1.0), ('Krane Entertainment', 1.0), ('Kasdan Pictures', 1.0), ('Newmarket Films', 1.0), ('City Light Films', 1.0), ('XM2 Productions', 1.0), ('Esperanto Filmoj', 1.0), ('Monolith Pictures (III)', 1.0), ('Riddick Canada Productions', 1.0), ('Double Negative', 1.0), ('8:38 Productions', 1.0), ('SND', 1.0), ('MICA Entertainment', 1.0), ('Decibel Films', 1.0), ('OB Productions', 1.0), ('Toma 78', 1.0), ('De Milo', 1.0), ('Pinewood Studios', 1.0), ('Metrol Technology', 1.0), ('Everest Entertainment', 1.0), ('Front Street Productions', 1.0), ('Spitfire Pictures', 1.0), ('Dillywood', 1.0), ('Five Star Institute', 1.0), ('Gaumont', 1.0), ('Kintop Pictures', 1.0), ('Triggerfish Animation', 1.0), ('Baby Cow Productions', 1.0), ('Le Pacte', 1.0), ('Filmgate Films', 1.0), ('Saints LA', 1.0), ('Art Pictures Studio', 1.0), ('Branded Entertainment/Batfilm Productions', 1.0), ('Motion Picture KAPPA Produktionsgesellschaft', 1.0), ('Kanbar Entertainment', 1.0), ('Blue Yonder Films', 1.0), ('Bewitched', 1.0), ('Reaper Productions', 1.0), ('Hart-Sharp Entertainment', 1.0), ('Stratus Film Co.', 1.0), ('Syndicate Films International', 1.0), ('Alliance Atlantis Communications', 1.0), ('4M', 1.0), ('Patalex V Productions Limited', 1.0), ('Clubdeal', 1.0), ('Outerbanks Entertainment', 1.0), ('Kalis Productions GmbH & Co. Zweite KG', 1.0), ('AFG Talons Productions', 1.0), ('Boll KG', 1.0), ('Bristol Bay Productions', 1.0), ('Desertlands Entertainment', 1.0), (\"Cooper's Town Productions\", 1.0), ('Eagle Vision Inc.', 1.0), ('Manitoba Film and Video Production Tax Credit', 1.0), ('Scanbox', 1.0), ('Domino 17521', 1.0), ('Pacific Renaissance Pictures Ltd.', 1.0), ('Central Films', 1.0), ('Irwin Allen Productions', 1.0), ('Samuelson Productions', 1.0), ('Electric Entertainment', 1.0), ('Flyboys Films', 1.0), ('Tessalit Productions', 1.0), ('Helena Productions', 1.0), ('Starlite Films', 1.0), ('Edge City', 1.0), ('ApolloProScreen Filmproduktion', 1.0), ('Egmond Film & Television', 1.0), ('Blue Sea Productions', 1.0), ('Frantic Films', 1.0), ('Maple Shade Films', 1.0), ('Patalex Productions', 1.0), ('Harlequin Pictures', 1.0), ('Intertainment AG', 1.0), ('Blackout Productions Inc.', 1.0), ('Sideways Productions Inc.', 1.0), ('Blue Productions', 1.0), ('Avenue Pictures Productions', 1.0), ('Vaughn Productions', 1.0), ('Grosvenor Park Impact Productions', 1.0), ('Andalasia Productions', 1.0), ('Right Coast Productions', 1.0), ('Mirage Studios', 1.0), ('Imagi Production', 1.0), ('Open City Films', 1.0), ('Anka Film', 1.0), ('Daybreak Productions', 1.0), ('Yer Dead Productions', 1.0), ('Nightfall Productions', 1.0), ('Level 1 Entertainment', 1.0), ('MID Foundation', 1.0), ('Foresight Unlimited', 1.0), ('RAMCO', 1.0), ('Captivity Productions', 1.0), ('BBC', 1.0), ('Mill Film', 1.0), ('I Remember Productions', 1.0), ('SKA Films', 1.0), ('KirchMedia', 1.0), ('Compulsion Inc.', 1.0), ('Splendid Medien AG', 1.0), ('Limited Edition Productions Inc.', 1.0), ('Barry Mendel Productions', 1.0), ('Fat Free', 1.0), ('Screenland Pictures', 1.0), ('Walrus & Associates', 1.0), ('Hollywood Partners', 1.0), ('Charenton Productions', 1.0), ('Springwood Productions', 1.0)]\n"
     ]
    }
   ],
   "source": [
    "data = pd.read_csv('data.csv')\n",
    "data['production_companies'] = data['production_companies'].apply(lambda x: x.split('|'))\n",
    "data['len_word'] = data['original_title'].apply(lambda x: len(str(x).split(' ')))\n",
    "\n",
    "import collections\n",
    "c = collections.Counter()\n",
    "d = collections.Counter()\n",
    "b = collections.Counter()\n",
    "for i in range(0, len(data)):\n",
    "    for prod  in data['production_companies'].iloc[i]:\n",
    "        c[prod]+=data.iloc[i]['len_word']\n",
    "        d[prod]+=1\n",
    "        b[prod]=c[prod]/d[prod]\n",
    "print(b.most_common())\n",
    "\n"
   ]
  },
  {
   "cell_type": "code",
   "execution_count": 134,
   "metadata": {},
   "outputs": [],
   "source": [
    "answer_ls.append(5)"
   ]
  },
  {
   "cell_type": "markdown",
   "metadata": {},
   "source": [
    "# 33. Сколько разных слов используется в названиях фильмов?(без учета регистра)\n",
    "Варианты ответа:\n",
    "1. 6540\n",
    "2. 1002\n",
    "3. 2461\n",
    "4. 28304\n",
    "5. 3432"
   ]
  },
  {
   "cell_type": "code",
   "execution_count": 188,
   "metadata": {},
   "outputs": [
    {
     "data": {
      "text/plain": [
       "5070"
      ]
     },
     "execution_count": 188,
     "metadata": {},
     "output_type": "execute_result"
    }
   ],
   "source": [
    "data = pd.read_csv('data.csv')\n",
    "data['original_title'] = data['original_title'].apply(lambda x: x.lower())\n",
    "\n",
    "res = (data['original_title'].apply(lambda x: len(set(x.split())))).sum()\n",
    "res"
   ]
  },
  {
   "cell_type": "code",
   "execution_count": 199,
   "metadata": {},
   "outputs": [
    {
     "data": {
      "text/plain": [
       "1888"
      ]
     },
     "execution_count": 199,
     "metadata": {},
     "output_type": "execute_result"
    }
   ],
   "source": [
    "data = pd.read_csv('data.csv')\n",
    "data['original_title'] = data['original_title'].apply(lambda x: x.lower())\n",
    "dataList = list(data['original_title'])\n",
    "res=len(set(dataList))\n",
    "res"
   ]
  },
  {
   "cell_type": "code",
   "execution_count": 253,
   "metadata": {},
   "outputs": [
    {
     "name": "stdout",
     "output_type": "stream",
     "text": [
      "5070\n"
     ]
    }
   ],
   "source": [
    "data = pd.read_csv('data.csv')\n",
    "data['original_title'] = data['original_title'].apply(lambda x: x.lower())\n",
    "data['original_title']=data['original_title'].apply(lambda x: set(x.split()))\n",
    "summ=0\n",
    "for i in range(0, len(data)):\n",
    "    for film  in data['original_title'].iloc[i]:\n",
    "        summ+=1\n",
    "print(summ)\n"
   ]
  },
  {
   "cell_type": "code",
   "execution_count": null,
   "metadata": {},
   "outputs": [],
   "source": [
    "answer_ls.append(3)"
   ]
  },
  {
   "cell_type": "markdown",
   "metadata": {},
   "source": [
    "# 34. Какие фильмы входят в 1 процент лучших по рейтингу?\n",
    "Варианты ответа:\n",
    "1. Inside Out, Gone Girl, 12 Years a Slave\n",
    "2. BloodRayne, The Adventures of Rocky & Bullwinkle\n",
    "3. The Lord of the Rings: The Return of the King\n",
    "4. 300, Lucky Number Slevin"
   ]
  },
  {
   "cell_type": "code",
   "execution_count": 640,
   "metadata": {},
   "outputs": [
    {
     "data": {
      "text/html": [
       "<div>\n",
       "<style scoped>\n",
       "    .dataframe tbody tr th:only-of-type {\n",
       "        vertical-align: middle;\n",
       "    }\n",
       "\n",
       "    .dataframe tbody tr th {\n",
       "        vertical-align: top;\n",
       "    }\n",
       "\n",
       "    .dataframe thead th {\n",
       "        text-align: right;\n",
       "    }\n",
       "</style>\n",
       "<table border=\"1\" class=\"dataframe\">\n",
       "  <thead>\n",
       "    <tr style=\"text-align: right;\">\n",
       "      <th></th>\n",
       "      <th>imdb_id</th>\n",
       "      <th>popularity</th>\n",
       "      <th>budget</th>\n",
       "      <th>revenue</th>\n",
       "      <th>original_title</th>\n",
       "      <th>cast</th>\n",
       "      <th>director</th>\n",
       "      <th>tagline</th>\n",
       "      <th>overview</th>\n",
       "      <th>runtime</th>\n",
       "      <th>genres</th>\n",
       "      <th>production_companies</th>\n",
       "      <th>release_date</th>\n",
       "      <th>vote_count</th>\n",
       "      <th>vote_average</th>\n",
       "      <th>release_year</th>\n",
       "    </tr>\n",
       "  </thead>\n",
       "  <tbody>\n",
       "    <tr>\n",
       "      <th>600</th>\n",
       "      <td>tt0468569</td>\n",
       "      <td>8.466668</td>\n",
       "      <td>185000000</td>\n",
       "      <td>1001921825</td>\n",
       "      <td>The Dark Knight</td>\n",
       "      <td>Christian Bale|Michael Caine|Heath Ledger|Aaro...</td>\n",
       "      <td>Christopher Nolan</td>\n",
       "      <td>Why So Serious?</td>\n",
       "      <td>Batman raises the stakes in his war on crime. ...</td>\n",
       "      <td>152</td>\n",
       "      <td>Drama|Action|Crime|Thriller</td>\n",
       "      <td>DC Comics|Legendary Pictures|Warner Bros.|Syncopy</td>\n",
       "      <td>7/16/2008</td>\n",
       "      <td>8432</td>\n",
       "      <td>8.1</td>\n",
       "      <td>2008</td>\n",
       "    </tr>\n",
       "  </tbody>\n",
       "</table>\n",
       "</div>"
      ],
      "text/plain": [
       "       imdb_id  popularity     budget     revenue   original_title  \\\n",
       "600  tt0468569    8.466668  185000000  1001921825  The Dark Knight   \n",
       "\n",
       "                                                  cast           director  \\\n",
       "600  Christian Bale|Michael Caine|Heath Ledger|Aaro...  Christopher Nolan   \n",
       "\n",
       "             tagline                                           overview  \\\n",
       "600  Why So Serious?  Batman raises the stakes in his war on crime. ...   \n",
       "\n",
       "     runtime                       genres  \\\n",
       "600      152  Drama|Action|Crime|Thriller   \n",
       "\n",
       "                                  production_companies release_date  \\\n",
       "600  DC Comics|Legendary Pictures|Warner Bros.|Syncopy    7/16/2008   \n",
       "\n",
       "     vote_count  vote_average  release_year  \n",
       "600        8432           8.1          2008  "
      ]
     },
     "execution_count": 640,
     "metadata": {},
     "output_type": "execute_result"
    }
   ],
   "source": [
    "data = pd.read_csv('data.csv')\n",
    "#data[data['vote_average']==data['vote_average'].sorted_values()]\n",
    "\n",
    "data[data['vote_average']==data['vote_average'].max()]"
   ]
  },
  {
   "cell_type": "code",
   "execution_count": 254,
   "metadata": {},
   "outputs": [],
   "source": [
    "answer_ls.append(1)"
   ]
  },
  {
   "cell_type": "markdown",
   "metadata": {},
   "source": [
    "# 35. Какие актеры чаще всего снимаются в одном фильме вместе\n",
    "Варианты ответа:\n",
    "1. Johnny Depp & Helena Bonham Carter\n",
    "2. Hugh Jackman & Ian McKellen\n",
    "3. Vin Diesel & Paul Walker\n",
    "4. Adam Sandler & Kevin James\n",
    "5. Daniel Radcliffe & Rupert Grint"
   ]
  },
  {
   "cell_type": "code",
   "execution_count": 260,
   "metadata": {},
   "outputs": [],
   "source": [
    "answer_ls.append(5)"
   ]
  },
  {
   "cell_type": "markdown",
   "metadata": {},
   "source": [
    "# 36. У какого из режиссеров выше вероятность выпустить фильм в прибыли? (5 баллов)101\n",
    "Варианты ответа:\n",
    "1. Quentin Tarantino\n",
    "2. Steven Soderbergh\n",
    "3. Robert Rodriguez\n",
    "4. Christopher Nolan\n",
    "5. Clint Eastwood"
   ]
  },
  {
   "cell_type": "code",
   "execution_count": 261,
   "metadata": {},
   "outputs": [],
   "source": [
    "answer_ls.append(4)"
   ]
  },
  {
   "cell_type": "markdown",
   "metadata": {},
   "source": [
    "# Submission"
   ]
  },
  {
   "cell_type": "code",
   "execution_count": 262,
   "metadata": {},
   "outputs": [
    {
     "data": {
      "text/plain": [
       "37"
      ]
     },
     "execution_count": 262,
     "metadata": {},
     "output_type": "execute_result"
    }
   ],
   "source": [
    "len(answer_ls)"
   ]
  },
  {
   "cell_type": "code",
   "execution_count": 263,
   "metadata": {},
   "outputs": [
    {
     "data": {
      "text/html": [
       "<div>\n",
       "<style scoped>\n",
       "    .dataframe tbody tr th:only-of-type {\n",
       "        vertical-align: middle;\n",
       "    }\n",
       "\n",
       "    .dataframe tbody tr th {\n",
       "        vertical-align: top;\n",
       "    }\n",
       "\n",
       "    .dataframe thead th {\n",
       "        text-align: right;\n",
       "    }\n",
       "</style>\n",
       "<table border=\"1\" class=\"dataframe\">\n",
       "  <thead>\n",
       "    <tr style=\"text-align: right;\">\n",
       "      <th></th>\n",
       "      <th>Id</th>\n",
       "      <th>Answer</th>\n",
       "    </tr>\n",
       "  </thead>\n",
       "  <tbody>\n",
       "    <tr>\n",
       "      <th>0</th>\n",
       "      <td>1</td>\n",
       "      <td>4</td>\n",
       "    </tr>\n",
       "    <tr>\n",
       "      <th>1</th>\n",
       "      <td>2</td>\n",
       "      <td>2</td>\n",
       "    </tr>\n",
       "    <tr>\n",
       "      <th>2</th>\n",
       "      <td>3</td>\n",
       "      <td>3</td>\n",
       "    </tr>\n",
       "    <tr>\n",
       "      <th>3</th>\n",
       "      <td>4</td>\n",
       "      <td>2</td>\n",
       "    </tr>\n",
       "    <tr>\n",
       "      <th>4</th>\n",
       "      <td>5</td>\n",
       "      <td>1</td>\n",
       "    </tr>\n",
       "    <tr>\n",
       "      <th>5</th>\n",
       "      <td>6</td>\n",
       "      <td>5</td>\n",
       "    </tr>\n",
       "    <tr>\n",
       "      <th>6</th>\n",
       "      <td>7</td>\n",
       "      <td>2</td>\n",
       "    </tr>\n",
       "    <tr>\n",
       "      <th>7</th>\n",
       "      <td>8</td>\n",
       "      <td>1</td>\n",
       "    </tr>\n",
       "    <tr>\n",
       "      <th>8</th>\n",
       "      <td>9</td>\n",
       "      <td>4</td>\n",
       "    </tr>\n",
       "    <tr>\n",
       "      <th>9</th>\n",
       "      <td>10</td>\n",
       "      <td>5</td>\n",
       "    </tr>\n",
       "    <tr>\n",
       "      <th>10</th>\n",
       "      <td>11</td>\n",
       "      <td>3</td>\n",
       "    </tr>\n",
       "    <tr>\n",
       "      <th>11</th>\n",
       "      <td>12</td>\n",
       "      <td>1</td>\n",
       "    </tr>\n",
       "    <tr>\n",
       "      <th>12</th>\n",
       "      <td>13</td>\n",
       "      <td>3</td>\n",
       "    </tr>\n",
       "    <tr>\n",
       "      <th>13</th>\n",
       "      <td>14</td>\n",
       "      <td>4</td>\n",
       "    </tr>\n",
       "    <tr>\n",
       "      <th>14</th>\n",
       "      <td>15</td>\n",
       "      <td>5</td>\n",
       "    </tr>\n",
       "    <tr>\n",
       "      <th>15</th>\n",
       "      <td>16</td>\n",
       "      <td>1</td>\n",
       "    </tr>\n",
       "    <tr>\n",
       "      <th>16</th>\n",
       "      <td>17</td>\n",
       "      <td>3</td>\n",
       "    </tr>\n",
       "    <tr>\n",
       "      <th>17</th>\n",
       "      <td>18</td>\n",
       "      <td>3</td>\n",
       "    </tr>\n",
       "    <tr>\n",
       "      <th>18</th>\n",
       "      <td>19</td>\n",
       "      <td>2</td>\n",
       "    </tr>\n",
       "    <tr>\n",
       "      <th>19</th>\n",
       "      <td>20</td>\n",
       "      <td>1</td>\n",
       "    </tr>\n",
       "    <tr>\n",
       "      <th>20</th>\n",
       "      <td>21</td>\n",
       "      <td>4</td>\n",
       "    </tr>\n",
       "    <tr>\n",
       "      <th>21</th>\n",
       "      <td>22</td>\n",
       "      <td>2</td>\n",
       "    </tr>\n",
       "    <tr>\n",
       "      <th>22</th>\n",
       "      <td>23</td>\n",
       "      <td>3</td>\n",
       "    </tr>\n",
       "    <tr>\n",
       "      <th>23</th>\n",
       "      <td>24</td>\n",
       "      <td>1</td>\n",
       "    </tr>\n",
       "    <tr>\n",
       "      <th>24</th>\n",
       "      <td>25</td>\n",
       "      <td>5</td>\n",
       "    </tr>\n",
       "    <tr>\n",
       "      <th>25</th>\n",
       "      <td>26</td>\n",
       "      <td>1</td>\n",
       "    </tr>\n",
       "    <tr>\n",
       "      <th>26</th>\n",
       "      <td>27</td>\n",
       "      <td>4</td>\n",
       "    </tr>\n",
       "    <tr>\n",
       "      <th>27</th>\n",
       "      <td>28</td>\n",
       "      <td>2</td>\n",
       "    </tr>\n",
       "    <tr>\n",
       "      <th>28</th>\n",
       "      <td>29</td>\n",
       "      <td>5</td>\n",
       "    </tr>\n",
       "    <tr>\n",
       "      <th>29</th>\n",
       "      <td>30</td>\n",
       "      <td>2</td>\n",
       "    </tr>\n",
       "    <tr>\n",
       "      <th>30</th>\n",
       "      <td>31</td>\n",
       "      <td>1</td>\n",
       "    </tr>\n",
       "    <tr>\n",
       "      <th>31</th>\n",
       "      <td>32</td>\n",
       "      <td>5</td>\n",
       "    </tr>\n",
       "    <tr>\n",
       "      <th>32</th>\n",
       "      <td>33</td>\n",
       "      <td>1</td>\n",
       "    </tr>\n",
       "    <tr>\n",
       "      <th>33</th>\n",
       "      <td>34</td>\n",
       "      <td>5</td>\n",
       "    </tr>\n",
       "    <tr>\n",
       "      <th>34</th>\n",
       "      <td>35</td>\n",
       "      <td>4</td>\n",
       "    </tr>\n",
       "    <tr>\n",
       "      <th>35</th>\n",
       "      <td>36</td>\n",
       "      <td>5</td>\n",
       "    </tr>\n",
       "    <tr>\n",
       "      <th>36</th>\n",
       "      <td>37</td>\n",
       "      <td>4</td>\n",
       "    </tr>\n",
       "  </tbody>\n",
       "</table>\n",
       "</div>"
      ],
      "text/plain": [
       "    Id  Answer\n",
       "0    1       4\n",
       "1    2       2\n",
       "2    3       3\n",
       "3    4       2\n",
       "4    5       1\n",
       "5    6       5\n",
       "6    7       2\n",
       "7    8       1\n",
       "8    9       4\n",
       "9   10       5\n",
       "10  11       3\n",
       "11  12       1\n",
       "12  13       3\n",
       "13  14       4\n",
       "14  15       5\n",
       "15  16       1\n",
       "16  17       3\n",
       "17  18       3\n",
       "18  19       2\n",
       "19  20       1\n",
       "20  21       4\n",
       "21  22       2\n",
       "22  23       3\n",
       "23  24       1\n",
       "24  25       5\n",
       "25  26       1\n",
       "26  27       4\n",
       "27  28       2\n",
       "28  29       5\n",
       "29  30       2\n",
       "30  31       1\n",
       "31  32       5\n",
       "32  33       1\n",
       "33  34       5\n",
       "34  35       4\n",
       "35  36       5\n",
       "36  37       4"
      ]
     },
     "execution_count": 263,
     "metadata": {},
     "output_type": "execute_result"
    }
   ],
   "source": [
    "pd.DataFrame({'Id':range(1,len(answer_ls)+1), 'Answer':answer_ls}, columns=['Id', 'Answer'])"
   ]
  },
  {
   "cell_type": "code",
   "execution_count": null,
   "metadata": {},
   "outputs": [],
   "source": []
  }
 ],
 "metadata": {
  "kernelspec": {
   "display_name": "Python 3",
   "language": "python",
   "name": "python3"
  },
  "language_info": {
   "codemirror_mode": {
    "name": "ipython",
    "version": 3
   },
   "file_extension": ".py",
   "mimetype": "text/x-python",
   "name": "python",
   "nbconvert_exporter": "python",
   "pygments_lexer": "ipython3",
   "version": "3.7.6"
  }
 },
 "nbformat": 4,
 "nbformat_minor": 4
}

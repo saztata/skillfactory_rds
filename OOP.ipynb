{
 "cells": [
  {
   "cell_type": "code",
   "execution_count": 1,
   "metadata": {},
   "outputs": [
    {
     "name": "stdout",
     "output_type": "stream",
     "text": [
      "False\n",
      "(5, 2)\n"
     ]
    }
   ],
   "source": [
    "number = 2.5   \n",
    "# Вызовем метод is_integer. Он скажет нам, является ли number целым числом  \n",
    "print(number.is_integer())  \n",
    "# => False  \n",
    "  \n",
    "# Давайте попробуем представить number как обыкновенную дробь  \n",
    "print(number.as_integer_ratio())  \n",
    "# => (5, 2)  \n",
    "# Действительно 2.5 = 5/2   "
   ]
  },
  {
   "cell_type": "code",
   "execution_count": 2,
   "metadata": {},
   "outputs": [
    {
     "name": "stdout",
     "output_type": "stream",
     "text": [
      "2\n",
      "['Alexandra', 'Stanislav', 'Vasiliy', 'Vasiliy']\n"
     ]
    }
   ],
   "source": [
    "people = [\"Vasiliy\", \"Stanislav\", \"Alexandra\", \"Vasiliy\"]  \n",
    "  \n",
    "# Посчитаем число Василиев с помощью метода count  \n",
    "print(people.count(\"Vasiliy\"))  \n",
    "# => 2  \n",
    "  \n",
    "# Теперь отсортируем   \n",
    "people.sort()  \n",
    "print(people)  \n",
    "# => ['Alexandra', 'Stanislav', 'Vasiliy', 'Vasiliy']  "
   ]
  },
  {
   "cell_type": "code",
   "execution_count": 3,
   "metadata": {},
   "outputs": [
    {
     "name": "stdout",
     "output_type": "stream",
     "text": [
      "<class 'float'>\n",
      "<class 'list'>\n"
     ]
    }
   ],
   "source": [
    "number = 2.5  \n",
    "print(number.__class__)  \n",
    "# => <class 'float'>  \n",
    "  \n",
    "people = [\"Vasiliy\", \"Stanislav\", \"Alexandra\", \"Vasiliy\"]  \n",
    "print(people.__class__)  \n",
    "# => <class 'list'>  "
   ]
  },
  {
   "cell_type": "code",
   "execution_count": 4,
   "metadata": {},
   "outputs": [],
   "source": [
    "# Используем ключевое слово class, за которым идёт название класса, в примере это SalesReport  \n",
    "class SalesReport():  \n",
    "    pass  \n",
    "  \n",
    "# Сравните это с определением пустой функции  \n",
    "# Команда pass не делает ничего; на её месте могли быть другие инструкции  \n",
    "# Мы используем её только потому, что синтаксически python требует, чтобы там было хоть что-то  \n",
    "def build_report():  \n",
    "    pass  \n",
    "  \n",
    "  \n",
    "# И давайте определим ещё один класс  \n",
    "# Для имён классов традиционно используются имена в формате CamelCase, где начала слов отмечаются большими буквами  \n",
    "# Это позволяет легко отличать их от функций, которые пишутся в формате snake_case  \n",
    "class SkillfactoryStudent():  \n",
    "    pass  "
   ]
  },
  {
   "cell_type": "code",
   "execution_count": 5,
   "metadata": {},
   "outputs": [
    {
     "name": "stdout",
     "output_type": "stream",
     "text": [
      "False\n"
     ]
    }
   ],
   "source": [
    "class SalesReport():  \n",
    "    pass  \n",
    "  \n",
    "# создаём объект по классу  \n",
    "report = SalesReport()  \n",
    "  \n",
    "# мы можем создавать множество объектов по одному классу  \n",
    "report_2 = SalesReport()  \n",
    "  \n",
    "# Это будут разные объекты.   \n",
    "print(report == report_2)  \n",
    "# => False  "
   ]
  },
  {
   "cell_type": "code",
   "execution_count": 6,
   "metadata": {},
   "outputs": [
    {
     "name": "stdout",
     "output_type": "stream",
     "text": [
      "Total amount: 10\n",
      "Total amount: 20\n"
     ]
    }
   ],
   "source": [
    "# По-прежнему пока создаём пустой класс  \n",
    "class SalesReport():  \n",
    "    pass  \n",
    "  \n",
    "# Создаём первый отчёт по продажам   \n",
    "report = SalesReport()  \n",
    "  \n",
    "# Мы добавим новый атрибут объекту.  \n",
    "# Для этого через точку напишем имя атрибута и дальше как с обычной переменной  \n",
    "report.amount = 10  \n",
    "  \n",
    "# То же самое делаем для второго отчёта.  \n",
    "report_2 = SalesReport()  \n",
    "report_2.amount = 20  \n",
    "  \n",
    "# Создадим вспомогательную функцию, она будет печатать общую сумму из отчёта  \n",
    "def print_report(report):  \n",
    "    print(\"Total amount:\", report.amount)  \n",
    "      \n",
    "print_report(report) # => Total amount: 10  \n",
    "print_report(report_2) # => Total amount: 20  "
   ]
  },
  {
   "cell_type": "code",
   "execution_count": 7,
   "metadata": {},
   "outputs": [
    {
     "name": "stdout",
     "output_type": "stream",
     "text": [
      "Total amount: 10\n",
      "Total amount: 20\n"
     ]
    }
   ],
   "source": [
    "class SalesReport():  \n",
    "    # Наш новый метод внутри класса.  \n",
    "    # Мы определяем его похожим образом с обычными функциями,  \n",
    "    #   но только помещаем внутрь класса и первым аргументом передаём self  \n",
    "    def print_report(self):  \n",
    "        print(\"Total amount:\", self.amount)  \n",
    "          \n",
    "          \n",
    "# Дальше мы применяем report так же, как и в примере выше   \n",
    "report = SalesReport()  \n",
    "report.amount = 10  \n",
    "  \n",
    "report_2 = SalesReport()  \n",
    "report_2.amount = 20  \n",
    "  \n",
    "# Используем наши новые методы  \n",
    "report.print_report() # => Total amount: 10  \n",
    "report_2.print_report() # => Total amount: 20  "
   ]
  },
  {
   "cell_type": "code",
   "execution_count": 8,
   "metadata": {},
   "outputs": [
    {
     "name": "stdout",
     "output_type": "stream",
     "text": [
      "Total sales: 40000\n"
     ]
    }
   ],
   "source": [
    "class SalesReport():  \n",
    "    # Позволим добавлять много разных сделок   \n",
    "    def add_deal(self, amount):   \n",
    "        # На первой сделке создадим список для хранения всех сделок   \n",
    "        if not hasattr(self, 'deals'):  \n",
    "            self.deals = []  \n",
    "        # Добавим текущую сделку  \n",
    "        self.deals.append(amount)  \n",
    "          \n",
    "    # Посчитаем сумму всех сделок      \n",
    "    def total_amount(self):  \n",
    "        return sum(self.deals)  \n",
    "      \n",
    "    def print_report(self):  \n",
    "        print(\"Total sales:\", self.total_amount())  \n",
    "          \n",
    "# Используем наши новые возможности  \n",
    "# Добавим две сделки и распечатаем отчёт  \n",
    "report = SalesReport()  \n",
    "report.add_deal(10_000)  \n",
    "report.add_deal(30_000)  \n",
    "report.print_report() # => Total sales: 40000  "
   ]
  },
  {
   "cell_type": "code",
   "execution_count": null,
   "metadata": {},
   "outputs": [],
   "source": []
  }
 ],
 "metadata": {
  "kernelspec": {
   "display_name": "Python 3",
   "language": "python",
   "name": "python3"
  },
  "language_info": {
   "codemirror_mode": {
    "name": "ipython",
    "version": 3
   },
   "file_extension": ".py",
   "mimetype": "text/x-python",
   "name": "python",
   "nbconvert_exporter": "python",
   "pygments_lexer": "ipython3",
   "version": "3.7.6"
  }
 },
 "nbformat": 4,
 "nbformat_minor": 4
}

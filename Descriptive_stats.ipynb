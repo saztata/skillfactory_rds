{
 "cells": [
  {
   "cell_type": "markdown",
   "metadata": {
    "colab_type": "text",
    "id": "wfs8rM4U-4AT"
   },
   "source": [
    "Думаю, вы уже познакомились со стандартными функциями в numpy для вычисления станадртных оценок (среднего, медианы и проч), однако в анализе реальных данных вы, как правило, будете работать с целым датасетом.\n",
    "\n",
    "В этом разделе мы познакомимся с вычислением описательных статистик для целого датасета.\n",
    "\n",
    "Большинство из них вычиляются одной командой (методом) describe\n",
    "\n",
    "С вычислением корреляцонной матрицы мы уже сталкивались во 2 модуле, но освежим и ее\n",
    "\n",
    "И отдельное внимание уделим вычислению условных и безусловных пропорций.\n"
   ]
  },
  {
   "cell_type": "markdown",
   "metadata": {
    "colab_type": "text",
    "id": "-IgdK2ja-4Ac"
   },
   "source": [
    "В датасете framingham.csv представлены данные, которые группа ученых из Фрамингема (США) использовала для выявления риска заболевания ишемической болезнью сердца в течение 10 лет.\n",
    "\n",
    "Демографические данные: \n",
    "\n",
    "    sex (male): пол, мужчина (1) или женщина (0) \n",
    "\n",
    "    age: возраст \n",
    "    \n",
    "    education: уровень образования (0-4: школа-колледж)\n",
    "    \n",
    "Поведенческие данные: \n",
    "\n",
    "    currentSmoker: курильщик (1) или нет (0)\n",
    "\n",
    "    cigsPerDay: количество выкуриваемых сигарет в день (шт.)\n",
    "\n",
    "Медицинская история:\n",
    "\n",
    "    BPMeds: принимает ли пациент препараты для регулировки артериального давления (0 - нет, 1 - да)\n",
    "\n",
    "    prevalentStroke: случался ли у пациента сердечный приступ (0 - нет, 1 - да)\n",
    "\n",
    "    prevalentHyp: страдает ли пациент гипертонией (0 - нет, 1 - да)\n",
    "\n",
    "    diabetes: страдает ли пациент диабетом (0 - нет, 1 - да)\n",
    "\n",
    "Физическое состояние:\n",
    "\n",
    "    totChol: уровень холестерина\n",
    "\n",
    "    sysBP: систолическое (верхнее) артериальное давление \n",
    "\n",
    "    diaBP: диастолическое (нижнее) артериальное давление \n",
    "\n",
    "    BMI: индекс массы тела - масса (кг) / рост^2 (в метрах)\n",
    "\n",
    "    heartRate: пульс\n",
    "\n",
    "    glucose: уровень глюкозы\n",
    "\n",
    "Целевая переменная (на которую авторы строили регрессию):\n",
    "\n",
    "    TenYearCHD: риск заболевания ишемической болезнью сердца в течение 10 лет"
   ]
  },
  {
   "cell_type": "markdown",
   "metadata": {
    "colab_type": "text",
    "id": "KAPvNzfy-4Ag"
   },
   "source": [
    "Импорт библиотек:"
   ]
  },
  {
   "cell_type": "code",
   "execution_count": 230,
   "metadata": {
    "colab": {},
    "colab_type": "code",
    "id": "TYeT_FtB-4Am"
   },
   "outputs": [
    {
     "ename": "ModuleNotFoundError",
     "evalue": "No module named 't'",
     "output_type": "error",
     "traceback": [
      "\u001b[1;31m---------------------------------------------------------------------------\u001b[0m",
      "\u001b[1;31mModuleNotFoundError\u001b[0m                       Traceback (most recent call last)",
      "\u001b[1;32m<ipython-input-230-e669aa4e5e9a>\u001b[0m in \u001b[0;36m<module>\u001b[1;34m\u001b[0m\n\u001b[0;32m      1\u001b[0m \u001b[1;32mfrom\u001b[0m \u001b[0mscipy\u001b[0m\u001b[1;33m.\u001b[0m\u001b[0mstats\u001b[0m \u001b[1;32mimport\u001b[0m \u001b[0mnorm\u001b[0m\u001b[1;33m\u001b[0m\u001b[1;33m\u001b[0m\u001b[0m\n\u001b[0;32m      2\u001b[0m \u001b[1;32mimport\u001b[0m \u001b[0mmath\u001b[0m\u001b[1;33m\u001b[0m\u001b[1;33m\u001b[0m\u001b[0m\n\u001b[1;32m----> 3\u001b[1;33m \u001b[1;32mimport\u001b[0m \u001b[0mt\u001b[0m\u001b[1;33m\u001b[0m\u001b[1;33m\u001b[0m\u001b[0m\n\u001b[0m\u001b[0;32m      4\u001b[0m \u001b[1;32mimport\u001b[0m \u001b[0mpandas\u001b[0m \u001b[1;32mas\u001b[0m \u001b[0mpd\u001b[0m\u001b[1;33m\u001b[0m\u001b[1;33m\u001b[0m\u001b[0m\n\u001b[0;32m      5\u001b[0m \u001b[1;32mimport\u001b[0m \u001b[0mnumpy\u001b[0m \u001b[1;32mas\u001b[0m \u001b[0mnp\u001b[0m\u001b[1;33m\u001b[0m\u001b[1;33m\u001b[0m\u001b[0m\n",
      "\u001b[1;31mModuleNotFoundError\u001b[0m: No module named 't'"
     ]
    }
   ],
   "source": [
    "from scipy.stats import norm\n",
    "import math\n",
    "import t\n",
    "import pandas as pd\n",
    "import numpy as np\n",
    "import matplotlib.pyplot as plt\n",
    "import seaborn as sn\n",
    "import matplotlib.mlab as mlab\n",
    "%matplotlib inline"
   ]
  },
  {
   "cell_type": "markdown",
   "metadata": {
    "colab_type": "text",
    "id": "RljnPEK0-4A3"
   },
   "source": [
    "Импорт датасета:"
   ]
  },
  {
   "cell_type": "code",
   "execution_count": 231,
   "metadata": {
    "colab": {},
    "colab_type": "code",
    "id": "hnvbVple-4A7"
   },
   "outputs": [],
   "source": [
    "df = pd.read_csv('framingham.csv')"
   ]
  },
  {
   "cell_type": "markdown",
   "metadata": {
    "colab_type": "text",
    "id": "F4UnM5M--4BG"
   },
   "source": [
    "Шапка датасета:"
   ]
  },
  {
   "cell_type": "code",
   "execution_count": 232,
   "metadata": {
    "colab": {},
    "colab_type": "code",
    "id": "F4XPaDXW-4BI"
   },
   "outputs": [
    {
     "data": {
      "text/html": [
       "<div>\n",
       "<style scoped>\n",
       "    .dataframe tbody tr th:only-of-type {\n",
       "        vertical-align: middle;\n",
       "    }\n",
       "\n",
       "    .dataframe tbody tr th {\n",
       "        vertical-align: top;\n",
       "    }\n",
       "\n",
       "    .dataframe thead th {\n",
       "        text-align: right;\n",
       "    }\n",
       "</style>\n",
       "<table border=\"1\" class=\"dataframe\">\n",
       "  <thead>\n",
       "    <tr style=\"text-align: right;\">\n",
       "      <th></th>\n",
       "      <th>male</th>\n",
       "      <th>age</th>\n",
       "      <th>education</th>\n",
       "      <th>currentSmoker</th>\n",
       "      <th>cigsPerDay</th>\n",
       "      <th>BPMeds</th>\n",
       "      <th>prevalentStroke</th>\n",
       "      <th>prevalentHyp</th>\n",
       "      <th>diabetes</th>\n",
       "      <th>totChol</th>\n",
       "      <th>sysBP</th>\n",
       "      <th>diaBP</th>\n",
       "      <th>BMI</th>\n",
       "      <th>heartRate</th>\n",
       "      <th>glucose</th>\n",
       "      <th>TenYearCHD</th>\n",
       "    </tr>\n",
       "  </thead>\n",
       "  <tbody>\n",
       "    <tr>\n",
       "      <th>0</th>\n",
       "      <td>1</td>\n",
       "      <td>39</td>\n",
       "      <td>4.0</td>\n",
       "      <td>0</td>\n",
       "      <td>0.0</td>\n",
       "      <td>0.0</td>\n",
       "      <td>0</td>\n",
       "      <td>0</td>\n",
       "      <td>0</td>\n",
       "      <td>195.0</td>\n",
       "      <td>106.0</td>\n",
       "      <td>70.0</td>\n",
       "      <td>26.97</td>\n",
       "      <td>80.0</td>\n",
       "      <td>77.0</td>\n",
       "      <td>0</td>\n",
       "    </tr>\n",
       "    <tr>\n",
       "      <th>1</th>\n",
       "      <td>0</td>\n",
       "      <td>46</td>\n",
       "      <td>2.0</td>\n",
       "      <td>0</td>\n",
       "      <td>0.0</td>\n",
       "      <td>0.0</td>\n",
       "      <td>0</td>\n",
       "      <td>0</td>\n",
       "      <td>0</td>\n",
       "      <td>250.0</td>\n",
       "      <td>121.0</td>\n",
       "      <td>81.0</td>\n",
       "      <td>28.73</td>\n",
       "      <td>95.0</td>\n",
       "      <td>76.0</td>\n",
       "      <td>0</td>\n",
       "    </tr>\n",
       "    <tr>\n",
       "      <th>2</th>\n",
       "      <td>1</td>\n",
       "      <td>48</td>\n",
       "      <td>1.0</td>\n",
       "      <td>1</td>\n",
       "      <td>20.0</td>\n",
       "      <td>0.0</td>\n",
       "      <td>0</td>\n",
       "      <td>0</td>\n",
       "      <td>0</td>\n",
       "      <td>245.0</td>\n",
       "      <td>127.5</td>\n",
       "      <td>80.0</td>\n",
       "      <td>25.34</td>\n",
       "      <td>75.0</td>\n",
       "      <td>70.0</td>\n",
       "      <td>0</td>\n",
       "    </tr>\n",
       "    <tr>\n",
       "      <th>3</th>\n",
       "      <td>0</td>\n",
       "      <td>61</td>\n",
       "      <td>3.0</td>\n",
       "      <td>1</td>\n",
       "      <td>30.0</td>\n",
       "      <td>0.0</td>\n",
       "      <td>0</td>\n",
       "      <td>1</td>\n",
       "      <td>0</td>\n",
       "      <td>225.0</td>\n",
       "      <td>150.0</td>\n",
       "      <td>95.0</td>\n",
       "      <td>28.58</td>\n",
       "      <td>65.0</td>\n",
       "      <td>103.0</td>\n",
       "      <td>1</td>\n",
       "    </tr>\n",
       "    <tr>\n",
       "      <th>4</th>\n",
       "      <td>0</td>\n",
       "      <td>46</td>\n",
       "      <td>3.0</td>\n",
       "      <td>1</td>\n",
       "      <td>23.0</td>\n",
       "      <td>0.0</td>\n",
       "      <td>0</td>\n",
       "      <td>0</td>\n",
       "      <td>0</td>\n",
       "      <td>285.0</td>\n",
       "      <td>130.0</td>\n",
       "      <td>84.0</td>\n",
       "      <td>23.10</td>\n",
       "      <td>85.0</td>\n",
       "      <td>85.0</td>\n",
       "      <td>0</td>\n",
       "    </tr>\n",
       "  </tbody>\n",
       "</table>\n",
       "</div>"
      ],
      "text/plain": [
       "   male  age  education  currentSmoker  cigsPerDay  BPMeds  prevalentStroke  \\\n",
       "0     1   39        4.0              0         0.0     0.0                0   \n",
       "1     0   46        2.0              0         0.0     0.0                0   \n",
       "2     1   48        1.0              1        20.0     0.0                0   \n",
       "3     0   61        3.0              1        30.0     0.0                0   \n",
       "4     0   46        3.0              1        23.0     0.0                0   \n",
       "\n",
       "   prevalentHyp  diabetes  totChol  sysBP  diaBP    BMI  heartRate  glucose  \\\n",
       "0             0         0    195.0  106.0   70.0  26.97       80.0     77.0   \n",
       "1             0         0    250.0  121.0   81.0  28.73       95.0     76.0   \n",
       "2             0         0    245.0  127.5   80.0  25.34       75.0     70.0   \n",
       "3             1         0    225.0  150.0   95.0  28.58       65.0    103.0   \n",
       "4             0         0    285.0  130.0   84.0  23.10       85.0     85.0   \n",
       "\n",
       "   TenYearCHD  \n",
       "0           0  \n",
       "1           0  \n",
       "2           0  \n",
       "3           1  \n",
       "4           0  "
      ]
     },
     "execution_count": 232,
     "metadata": {},
     "output_type": "execute_result"
    }
   ],
   "source": [
    "df.head()"
   ]
  },
  {
   "cell_type": "markdown",
   "metadata": {
    "colab_type": "text",
    "id": "9USrZY45-4BU"
   },
   "source": [
    "Размер датасета:"
   ]
  },
  {
   "cell_type": "code",
   "execution_count": 233,
   "metadata": {
    "colab": {},
    "colab_type": "code",
    "id": "Fwvx9Pg--4BX"
   },
   "outputs": [
    {
     "data": {
      "text/plain": [
       "(4240, 16)"
      ]
     },
     "execution_count": 233,
     "metadata": {},
     "output_type": "execute_result"
    }
   ],
   "source": [
    "df.shape"
   ]
  },
  {
   "cell_type": "markdown",
   "metadata": {
    "colab_type": "text",
    "id": "d7ZVZz6J-4Bk"
   },
   "source": [
    "Названия столбцов датасета понадобятся нам, чтобы обращаться к отдельным признакам пациентов:"
   ]
  },
  {
   "cell_type": "code",
   "execution_count": 234,
   "metadata": {
    "colab": {},
    "colab_type": "code",
    "id": "6_PgsTeo-4Bn"
   },
   "outputs": [
    {
     "data": {
      "text/plain": [
       "Index(['male', 'age', 'education', 'currentSmoker', 'cigsPerDay', 'BPMeds',\n",
       "       'prevalentStroke', 'prevalentHyp', 'diabetes', 'totChol', 'sysBP',\n",
       "       'diaBP', 'BMI', 'heartRate', 'glucose', 'TenYearCHD'],\n",
       "      dtype='object')"
      ]
     },
     "execution_count": 234,
     "metadata": {},
     "output_type": "execute_result"
    }
   ],
   "source": [
    "df.columns"
   ]
  },
  {
   "cell_type": "markdown",
   "metadata": {
    "colab_type": "text",
    "id": "V3MI_qLW-4Bx"
   },
   "source": [
    "Поиск missing values:"
   ]
  },
  {
   "cell_type": "code",
   "execution_count": 235,
   "metadata": {
    "colab": {},
    "colab_type": "code",
    "id": "NuiYzLyO-4B0",
    "scrolled": true
   },
   "outputs": [
    {
     "data": {
      "text/plain": [
       "male                 0\n",
       "age                  0\n",
       "education          105\n",
       "currentSmoker        0\n",
       "cigsPerDay          29\n",
       "BPMeds              53\n",
       "prevalentStroke      0\n",
       "prevalentHyp         0\n",
       "diabetes             0\n",
       "totChol             50\n",
       "sysBP                0\n",
       "diaBP                0\n",
       "BMI                 19\n",
       "heartRate            1\n",
       "glucose            388\n",
       "TenYearCHD           0\n",
       "dtype: int64"
      ]
     },
     "execution_count": 235,
     "metadata": {},
     "output_type": "execute_result"
    }
   ],
   "source": [
    "df.isnull().sum()"
   ]
  },
  {
   "cell_type": "markdown",
   "metadata": {
    "colab_type": "text",
    "id": "EXTsHpsy-4B-"
   },
   "source": [
    "Видим, что у 105 пациентов нет данных об образовании, у 388 - об уровне глюкозы. Недостающие данные могут стать причиной некорректных значений оценок, и от них лучше избавиться."
   ]
  },
  {
   "cell_type": "markdown",
   "metadata": {
    "colab_type": "text",
    "id": "LjqRmXZm-4CA"
   },
   "source": [
    "Количество строк, в которых есть missing values"
   ]
  },
  {
   "cell_type": "code",
   "execution_count": 236,
   "metadata": {
    "colab": {},
    "colab_type": "code",
    "id": "ZhKlR2_O-4CD",
    "scrolled": true
   },
   "outputs": [
    {
     "name": "stdout",
     "output_type": "stream",
     "text": [
      "Общее количество строк с пропущенными значениями:  582\n"
     ]
    }
   ],
   "source": [
    "count=0\n",
    "for i in df.isnull().sum(axis=1):\n",
    "    if i>0:\n",
    "        count=count+1\n",
    "print('Общее количество строк с пропущенными значениями: ', count)"
   ]
  },
  {
   "cell_type": "markdown",
   "metadata": {
    "colab_type": "text",
    "id": "LCm1A2VV-4CM"
   },
   "source": [
    "Итого у нас 582 строки, в которых не хватает каких-нибудь данных"
   ]
  },
  {
   "cell_type": "markdown",
   "metadata": {
    "colab_type": "text",
    "id": "nJgoLIEn-4CR"
   },
   "source": [
    "Найдем соотношение строк с недостающими данными и общего кол-ва строк\n",
    "\n",
    "Если их будет относительно немного, то выгоднее избавиться от неполных строк, а если много, то надо посмотреть, в каких столбцах больше всего не хватает данных - возможно, выгоднее будет избавляться от них."
   ]
  },
  {
   "cell_type": "code",
   "execution_count": 237,
   "metadata": {
    "colab": {},
    "colab_type": "code",
    "id": "eQflme5B-4CU"
   },
   "outputs": [
    {
     "data": {
      "text/plain": [
       "0.13726415094339622"
      ]
     },
     "execution_count": 237,
     "metadata": {},
     "output_type": "execute_result"
    }
   ],
   "source": [
    "count/df.shape[0]"
   ]
  },
  {
   "cell_type": "markdown",
   "metadata": {
    "colab_type": "text",
    "id": "9hypSyoT-4Cb"
   },
   "source": [
    "Т.к. соотношение мало (13%), можем отбросить строки с отсутствующими данными):"
   ]
  },
  {
   "cell_type": "code",
   "execution_count": 238,
   "metadata": {
    "colab": {},
    "colab_type": "code",
    "id": "Y6rA77w_-4Ce"
   },
   "outputs": [],
   "source": [
    "df.dropna(axis=0,inplace=True)"
   ]
  },
  {
   "cell_type": "markdown",
   "metadata": {
    "colab_type": "text",
    "id": "1yqWcS3r-4Cm"
   },
   "source": [
    "Размеры датасета после удаления missing values:"
   ]
  },
  {
   "cell_type": "code",
   "execution_count": 239,
   "metadata": {
    "colab": {},
    "colab_type": "code",
    "id": "okpXEm7d-4Co"
   },
   "outputs": [
    {
     "data": {
      "text/plain": [
       "(3658, 16)"
      ]
     },
     "execution_count": 239,
     "metadata": {},
     "output_type": "execute_result"
    }
   ],
   "source": [
    "df.shape"
   ]
  },
  {
   "cell_type": "markdown",
   "metadata": {
    "colab_type": "text",
    "id": "x3VAQuUh-4Cx"
   },
   "source": [
    "Получение описательных статистик при помощи фунции describe: "
   ]
  },
  {
   "cell_type": "code",
   "execution_count": 240,
   "metadata": {
    "colab": {},
    "colab_type": "code",
    "id": "dyLQuohX-4Cz"
   },
   "outputs": [
    {
     "data": {
      "text/html": [
       "<div>\n",
       "<style scoped>\n",
       "    .dataframe tbody tr th:only-of-type {\n",
       "        vertical-align: middle;\n",
       "    }\n",
       "\n",
       "    .dataframe tbody tr th {\n",
       "        vertical-align: top;\n",
       "    }\n",
       "\n",
       "    .dataframe thead th {\n",
       "        text-align: right;\n",
       "    }\n",
       "</style>\n",
       "<table border=\"1\" class=\"dataframe\">\n",
       "  <thead>\n",
       "    <tr style=\"text-align: right;\">\n",
       "      <th></th>\n",
       "      <th>male</th>\n",
       "      <th>age</th>\n",
       "      <th>education</th>\n",
       "      <th>currentSmoker</th>\n",
       "      <th>cigsPerDay</th>\n",
       "      <th>BPMeds</th>\n",
       "      <th>prevalentStroke</th>\n",
       "      <th>prevalentHyp</th>\n",
       "      <th>diabetes</th>\n",
       "      <th>totChol</th>\n",
       "      <th>sysBP</th>\n",
       "      <th>diaBP</th>\n",
       "      <th>BMI</th>\n",
       "      <th>heartRate</th>\n",
       "      <th>glucose</th>\n",
       "      <th>TenYearCHD</th>\n",
       "    </tr>\n",
       "  </thead>\n",
       "  <tbody>\n",
       "    <tr>\n",
       "      <th>count</th>\n",
       "      <td>3658.000000</td>\n",
       "      <td>3658.000000</td>\n",
       "      <td>3658.000000</td>\n",
       "      <td>3658.000000</td>\n",
       "      <td>3658.000000</td>\n",
       "      <td>3658.000000</td>\n",
       "      <td>3658.000000</td>\n",
       "      <td>3658.000000</td>\n",
       "      <td>3658.000000</td>\n",
       "      <td>3658.000000</td>\n",
       "      <td>3658.000000</td>\n",
       "      <td>3658.000000</td>\n",
       "      <td>3658.000000</td>\n",
       "      <td>3658.000000</td>\n",
       "      <td>3658.000000</td>\n",
       "      <td>3658.000000</td>\n",
       "    </tr>\n",
       "    <tr>\n",
       "      <th>mean</th>\n",
       "      <td>0.443685</td>\n",
       "      <td>49.551941</td>\n",
       "      <td>1.980317</td>\n",
       "      <td>0.489065</td>\n",
       "      <td>9.025424</td>\n",
       "      <td>0.030344</td>\n",
       "      <td>0.005741</td>\n",
       "      <td>0.311646</td>\n",
       "      <td>0.027064</td>\n",
       "      <td>236.847731</td>\n",
       "      <td>132.370558</td>\n",
       "      <td>82.917031</td>\n",
       "      <td>25.782802</td>\n",
       "      <td>75.730727</td>\n",
       "      <td>81.852925</td>\n",
       "      <td>0.152269</td>\n",
       "    </tr>\n",
       "    <tr>\n",
       "      <th>std</th>\n",
       "      <td>0.496886</td>\n",
       "      <td>8.562029</td>\n",
       "      <td>1.022656</td>\n",
       "      <td>0.499949</td>\n",
       "      <td>11.921590</td>\n",
       "      <td>0.171557</td>\n",
       "      <td>0.075561</td>\n",
       "      <td>0.463229</td>\n",
       "      <td>0.162292</td>\n",
       "      <td>44.097681</td>\n",
       "      <td>22.086866</td>\n",
       "      <td>11.974258</td>\n",
       "      <td>4.065601</td>\n",
       "      <td>11.981525</td>\n",
       "      <td>23.904164</td>\n",
       "      <td>0.359331</td>\n",
       "    </tr>\n",
       "    <tr>\n",
       "      <th>min</th>\n",
       "      <td>0.000000</td>\n",
       "      <td>32.000000</td>\n",
       "      <td>1.000000</td>\n",
       "      <td>0.000000</td>\n",
       "      <td>0.000000</td>\n",
       "      <td>0.000000</td>\n",
       "      <td>0.000000</td>\n",
       "      <td>0.000000</td>\n",
       "      <td>0.000000</td>\n",
       "      <td>113.000000</td>\n",
       "      <td>83.500000</td>\n",
       "      <td>48.000000</td>\n",
       "      <td>15.540000</td>\n",
       "      <td>44.000000</td>\n",
       "      <td>40.000000</td>\n",
       "      <td>0.000000</td>\n",
       "    </tr>\n",
       "    <tr>\n",
       "      <th>25%</th>\n",
       "      <td>0.000000</td>\n",
       "      <td>42.000000</td>\n",
       "      <td>1.000000</td>\n",
       "      <td>0.000000</td>\n",
       "      <td>0.000000</td>\n",
       "      <td>0.000000</td>\n",
       "      <td>0.000000</td>\n",
       "      <td>0.000000</td>\n",
       "      <td>0.000000</td>\n",
       "      <td>206.000000</td>\n",
       "      <td>117.000000</td>\n",
       "      <td>75.000000</td>\n",
       "      <td>23.080000</td>\n",
       "      <td>68.000000</td>\n",
       "      <td>71.000000</td>\n",
       "      <td>0.000000</td>\n",
       "    </tr>\n",
       "    <tr>\n",
       "      <th>50%</th>\n",
       "      <td>0.000000</td>\n",
       "      <td>49.000000</td>\n",
       "      <td>2.000000</td>\n",
       "      <td>0.000000</td>\n",
       "      <td>0.000000</td>\n",
       "      <td>0.000000</td>\n",
       "      <td>0.000000</td>\n",
       "      <td>0.000000</td>\n",
       "      <td>0.000000</td>\n",
       "      <td>234.000000</td>\n",
       "      <td>128.000000</td>\n",
       "      <td>82.000000</td>\n",
       "      <td>25.380000</td>\n",
       "      <td>75.000000</td>\n",
       "      <td>78.000000</td>\n",
       "      <td>0.000000</td>\n",
       "    </tr>\n",
       "    <tr>\n",
       "      <th>75%</th>\n",
       "      <td>1.000000</td>\n",
       "      <td>56.000000</td>\n",
       "      <td>3.000000</td>\n",
       "      <td>1.000000</td>\n",
       "      <td>20.000000</td>\n",
       "      <td>0.000000</td>\n",
       "      <td>0.000000</td>\n",
       "      <td>1.000000</td>\n",
       "      <td>0.000000</td>\n",
       "      <td>263.000000</td>\n",
       "      <td>143.875000</td>\n",
       "      <td>90.000000</td>\n",
       "      <td>28.037500</td>\n",
       "      <td>82.000000</td>\n",
       "      <td>87.000000</td>\n",
       "      <td>0.000000</td>\n",
       "    </tr>\n",
       "    <tr>\n",
       "      <th>max</th>\n",
       "      <td>1.000000</td>\n",
       "      <td>70.000000</td>\n",
       "      <td>4.000000</td>\n",
       "      <td>1.000000</td>\n",
       "      <td>70.000000</td>\n",
       "      <td>1.000000</td>\n",
       "      <td>1.000000</td>\n",
       "      <td>1.000000</td>\n",
       "      <td>1.000000</td>\n",
       "      <td>600.000000</td>\n",
       "      <td>295.000000</td>\n",
       "      <td>142.500000</td>\n",
       "      <td>56.800000</td>\n",
       "      <td>143.000000</td>\n",
       "      <td>394.000000</td>\n",
       "      <td>1.000000</td>\n",
       "    </tr>\n",
       "  </tbody>\n",
       "</table>\n",
       "</div>"
      ],
      "text/plain": [
       "              male          age    education  currentSmoker   cigsPerDay  \\\n",
       "count  3658.000000  3658.000000  3658.000000    3658.000000  3658.000000   \n",
       "mean      0.443685    49.551941     1.980317       0.489065     9.025424   \n",
       "std       0.496886     8.562029     1.022656       0.499949    11.921590   \n",
       "min       0.000000    32.000000     1.000000       0.000000     0.000000   \n",
       "25%       0.000000    42.000000     1.000000       0.000000     0.000000   \n",
       "50%       0.000000    49.000000     2.000000       0.000000     0.000000   \n",
       "75%       1.000000    56.000000     3.000000       1.000000    20.000000   \n",
       "max       1.000000    70.000000     4.000000       1.000000    70.000000   \n",
       "\n",
       "            BPMeds  prevalentStroke  prevalentHyp     diabetes      totChol  \\\n",
       "count  3658.000000      3658.000000   3658.000000  3658.000000  3658.000000   \n",
       "mean      0.030344         0.005741      0.311646     0.027064   236.847731   \n",
       "std       0.171557         0.075561      0.463229     0.162292    44.097681   \n",
       "min       0.000000         0.000000      0.000000     0.000000   113.000000   \n",
       "25%       0.000000         0.000000      0.000000     0.000000   206.000000   \n",
       "50%       0.000000         0.000000      0.000000     0.000000   234.000000   \n",
       "75%       0.000000         0.000000      1.000000     0.000000   263.000000   \n",
       "max       1.000000         1.000000      1.000000     1.000000   600.000000   \n",
       "\n",
       "             sysBP        diaBP          BMI    heartRate      glucose  \\\n",
       "count  3658.000000  3658.000000  3658.000000  3658.000000  3658.000000   \n",
       "mean    132.370558    82.917031    25.782802    75.730727    81.852925   \n",
       "std      22.086866    11.974258     4.065601    11.981525    23.904164   \n",
       "min      83.500000    48.000000    15.540000    44.000000    40.000000   \n",
       "25%     117.000000    75.000000    23.080000    68.000000    71.000000   \n",
       "50%     128.000000    82.000000    25.380000    75.000000    78.000000   \n",
       "75%     143.875000    90.000000    28.037500    82.000000    87.000000   \n",
       "max     295.000000   142.500000    56.800000   143.000000   394.000000   \n",
       "\n",
       "        TenYearCHD  \n",
       "count  3658.000000  \n",
       "mean      0.152269  \n",
       "std       0.359331  \n",
       "min       0.000000  \n",
       "25%       0.000000  \n",
       "50%       0.000000  \n",
       "75%       0.000000  \n",
       "max       1.000000  "
      ]
     },
     "execution_count": 240,
     "metadata": {},
     "output_type": "execute_result"
    }
   ],
   "source": [
    "df.describe()"
   ]
  },
  {
   "cell_type": "markdown",
   "metadata": {
    "colab_type": "text",
    "id": "QIpHmha9-4C7"
   },
   "source": [
    "Данные полученные из describe:\n",
    "\n",
    "    mean - среднее значение\n",
    "    std - стандартное (среднеквадратичное) отклонение. \n",
    "    min - минимальное значение \n",
    "    max - максимальное значение\n",
    "    25% - нижняя квартиль (медиана меньшей/левой половины выборки)\n",
    "    50% - медиана\n",
    "    75% - верхняя квартиль (медиана большей/правой половины выборки)"
   ]
  },
  {
   "cell_type": "markdown",
   "metadata": {
    "colab_type": "text",
    "id": "UHAmovu6-4C_"
   },
   "source": [
    "Далее строим тепловую карту корреляционной матрицы при помощи функции heatmap и саму корреляционную матрицу. Чем насыщеннее цвет, тем сильнее корреляция."
   ]
  },
  {
   "cell_type": "code",
   "execution_count": 241,
   "metadata": {
    "colab": {},
    "colab_type": "code",
    "id": "ahhaWQ1q-4DD"
   },
   "outputs": [
    {
     "data": {
      "text/plain": [
       "<matplotlib.axes._subplots.AxesSubplot at 0x2402c6a7648>"
      ]
     },
     "execution_count": 241,
     "metadata": {},
     "output_type": "execute_result"
    },
    {
     "data": {
      "image/png": "[encoded data removed]",
      "text/plain": [
       "<Figure size 432x288 with 2 Axes>"
      ]
     },
     "metadata": {
      "needs_background": "light"
     },
     "output_type": "display_data"
    }
   ],
   "source": [
    "sn.heatmap(df.corr())"
   ]
  },
  {
   "cell_type": "markdown",
   "metadata": {
    "colab_type": "text",
    "id": "tp8bjgek-4DK"
   },
   "source": [
    "Можем увидеть сильную корреляцию между диастолическим и систолическим давлением. Корреляции целевой переменной со всеми признаками невелики. Это значит, что линейная связь между ними очень слабая"
   ]
  },
  {
   "cell_type": "code",
   "execution_count": 242,
   "metadata": {
    "colab": {},
    "colab_type": "code",
    "id": "bF3bUSbK-4DM",
    "scrolled": true
   },
   "outputs": [
    {
     "data": {
      "text/html": [
       "<div>\n",
       "<style scoped>\n",
       "    .dataframe tbody tr th:only-of-type {\n",
       "        vertical-align: middle;\n",
       "    }\n",
       "\n",
       "    .dataframe tbody tr th {\n",
       "        vertical-align: top;\n",
       "    }\n",
       "\n",
       "    .dataframe thead th {\n",
       "        text-align: right;\n",
       "    }\n",
       "</style>\n",
       "<table border=\"1\" class=\"dataframe\">\n",
       "  <thead>\n",
       "    <tr style=\"text-align: right;\">\n",
       "      <th></th>\n",
       "      <th>male</th>\n",
       "      <th>age</th>\n",
       "      <th>education</th>\n",
       "      <th>currentSmoker</th>\n",
       "      <th>cigsPerDay</th>\n",
       "      <th>BPMeds</th>\n",
       "      <th>prevalentStroke</th>\n",
       "      <th>prevalentHyp</th>\n",
       "      <th>diabetes</th>\n",
       "      <th>totChol</th>\n",
       "      <th>sysBP</th>\n",
       "      <th>diaBP</th>\n",
       "      <th>BMI</th>\n",
       "      <th>heartRate</th>\n",
       "      <th>glucose</th>\n",
       "      <th>TenYearCHD</th>\n",
       "    </tr>\n",
       "  </thead>\n",
       "  <tbody>\n",
       "    <tr>\n",
       "      <th>male</th>\n",
       "      <td>1.000000</td>\n",
       "      <td>-0.024412</td>\n",
       "      <td>0.017729</td>\n",
       "      <td>0.206114</td>\n",
       "      <td>0.330322</td>\n",
       "      <td>-0.052124</td>\n",
       "      <td>-0.002312</td>\n",
       "      <td>0.001424</td>\n",
       "      <td>0.013819</td>\n",
       "      <td>-0.070321</td>\n",
       "      <td>-0.045358</td>\n",
       "      <td>0.051872</td>\n",
       "      <td>0.073111</td>\n",
       "      <td>-0.115285</td>\n",
       "      <td>0.002940</td>\n",
       "      <td>0.091688</td>\n",
       "    </tr>\n",
       "    <tr>\n",
       "      <th>age</th>\n",
       "      <td>-0.024412</td>\n",
       "      <td>1.000000</td>\n",
       "      <td>-0.159499</td>\n",
       "      <td>-0.210771</td>\n",
       "      <td>-0.189295</td>\n",
       "      <td>0.134732</td>\n",
       "      <td>0.050893</td>\n",
       "      <td>0.306239</td>\n",
       "      <td>0.109092</td>\n",
       "      <td>0.268252</td>\n",
       "      <td>0.388267</td>\n",
       "      <td>0.208283</td>\n",
       "      <td>0.137511</td>\n",
       "      <td>-0.002722</td>\n",
       "      <td>0.118349</td>\n",
       "      <td>0.233983</td>\n",
       "    </tr>\n",
       "    <tr>\n",
       "      <th>education</th>\n",
       "      <td>0.017729</td>\n",
       "      <td>-0.159499</td>\n",
       "      <td>1.000000</td>\n",
       "      <td>0.025251</td>\n",
       "      <td>0.013790</td>\n",
       "      <td>-0.013739</td>\n",
       "      <td>-0.030386</td>\n",
       "      <td>-0.078828</td>\n",
       "      <td>-0.039627</td>\n",
       "      <td>-0.013522</td>\n",
       "      <td>-0.124360</td>\n",
       "      <td>-0.058059</td>\n",
       "      <td>-0.137555</td>\n",
       "      <td>-0.064214</td>\n",
       "      <td>-0.031998</td>\n",
       "      <td>-0.063279</td>\n",
       "    </tr>\n",
       "    <tr>\n",
       "      <th>currentSmoker</th>\n",
       "      <td>0.206114</td>\n",
       "      <td>-0.210771</td>\n",
       "      <td>0.025251</td>\n",
       "      <td>1.000000</td>\n",
       "      <td>0.773913</td>\n",
       "      <td>-0.051923</td>\n",
       "      <td>-0.038150</td>\n",
       "      <td>-0.108078</td>\n",
       "      <td>-0.041849</td>\n",
       "      <td>-0.051034</td>\n",
       "      <td>-0.134428</td>\n",
       "      <td>-0.115955</td>\n",
       "      <td>-0.159821</td>\n",
       "      <td>0.050841</td>\n",
       "      <td>-0.053242</td>\n",
       "      <td>0.019165</td>\n",
       "    </tr>\n",
       "    <tr>\n",
       "      <th>cigsPerDay</th>\n",
       "      <td>0.330322</td>\n",
       "      <td>-0.189295</td>\n",
       "      <td>0.013790</td>\n",
       "      <td>0.773913</td>\n",
       "      <td>1.000000</td>\n",
       "      <td>-0.046504</td>\n",
       "      <td>-0.036286</td>\n",
       "      <td>-0.070460</td>\n",
       "      <td>-0.036961</td>\n",
       "      <td>-0.030400</td>\n",
       "      <td>-0.094781</td>\n",
       "      <td>-0.056746</td>\n",
       "      <td>-0.087395</td>\n",
       "      <td>0.064030</td>\n",
       "      <td>-0.053726</td>\n",
       "      <td>0.052014</td>\n",
       "    </tr>\n",
       "    <tr>\n",
       "      <th>BPMeds</th>\n",
       "      <td>-0.052124</td>\n",
       "      <td>0.134732</td>\n",
       "      <td>-0.013739</td>\n",
       "      <td>-0.051923</td>\n",
       "      <td>-0.046504</td>\n",
       "      <td>1.000000</td>\n",
       "      <td>0.113125</td>\n",
       "      <td>0.262910</td>\n",
       "      <td>0.049066</td>\n",
       "      <td>0.094083</td>\n",
       "      <td>0.271263</td>\n",
       "      <td>0.199630</td>\n",
       "      <td>0.105642</td>\n",
       "      <td>0.012889</td>\n",
       "      <td>0.054232</td>\n",
       "      <td>0.089152</td>\n",
       "    </tr>\n",
       "    <tr>\n",
       "      <th>prevalentStroke</th>\n",
       "      <td>-0.002312</td>\n",
       "      <td>0.050893</td>\n",
       "      <td>-0.030386</td>\n",
       "      <td>-0.038150</td>\n",
       "      <td>-0.036286</td>\n",
       "      <td>0.113125</td>\n",
       "      <td>1.000000</td>\n",
       "      <td>0.066057</td>\n",
       "      <td>0.009625</td>\n",
       "      <td>0.012736</td>\n",
       "      <td>0.061070</td>\n",
       "      <td>0.055834</td>\n",
       "      <td>0.036496</td>\n",
       "      <td>-0.017019</td>\n",
       "      <td>0.016061</td>\n",
       "      <td>0.048366</td>\n",
       "    </tr>\n",
       "    <tr>\n",
       "      <th>prevalentHyp</th>\n",
       "      <td>0.001424</td>\n",
       "      <td>0.306239</td>\n",
       "      <td>-0.078828</td>\n",
       "      <td>-0.108078</td>\n",
       "      <td>-0.070460</td>\n",
       "      <td>0.262910</td>\n",
       "      <td>0.066057</td>\n",
       "      <td>1.000000</td>\n",
       "      <td>0.080556</td>\n",
       "      <td>0.166655</td>\n",
       "      <td>0.697675</td>\n",
       "      <td>0.617734</td>\n",
       "      <td>0.302949</td>\n",
       "      <td>0.146818</td>\n",
       "      <td>0.086942</td>\n",
       "      <td>0.181387</td>\n",
       "    </tr>\n",
       "    <tr>\n",
       "      <th>diabetes</th>\n",
       "      <td>0.013819</td>\n",
       "      <td>0.109092</td>\n",
       "      <td>-0.039627</td>\n",
       "      <td>-0.041849</td>\n",
       "      <td>-0.036961</td>\n",
       "      <td>0.049066</td>\n",
       "      <td>0.009625</td>\n",
       "      <td>0.080556</td>\n",
       "      <td>1.000000</td>\n",
       "      <td>0.048451</td>\n",
       "      <td>0.102552</td>\n",
       "      <td>0.050686</td>\n",
       "      <td>0.089009</td>\n",
       "      <td>0.060984</td>\n",
       "      <td>0.614820</td>\n",
       "      <td>0.093431</td>\n",
       "    </tr>\n",
       "    <tr>\n",
       "      <th>totChol</th>\n",
       "      <td>-0.070321</td>\n",
       "      <td>0.268252</td>\n",
       "      <td>-0.013522</td>\n",
       "      <td>-0.051034</td>\n",
       "      <td>-0.030400</td>\n",
       "      <td>0.094083</td>\n",
       "      <td>0.012736</td>\n",
       "      <td>0.166655</td>\n",
       "      <td>0.048451</td>\n",
       "      <td>1.000000</td>\n",
       "      <td>0.219925</td>\n",
       "      <td>0.174422</td>\n",
       "      <td>0.121056</td>\n",
       "      <td>0.093053</td>\n",
       "      <td>0.049884</td>\n",
       "      <td>0.091338</td>\n",
       "    </tr>\n",
       "    <tr>\n",
       "      <th>sysBP</th>\n",
       "      <td>-0.045358</td>\n",
       "      <td>0.388267</td>\n",
       "      <td>-0.124360</td>\n",
       "      <td>-0.134428</td>\n",
       "      <td>-0.094781</td>\n",
       "      <td>0.271263</td>\n",
       "      <td>0.061070</td>\n",
       "      <td>0.697675</td>\n",
       "      <td>0.102552</td>\n",
       "      <td>0.219925</td>\n",
       "      <td>1.000000</td>\n",
       "      <td>0.786669</td>\n",
       "      <td>0.330917</td>\n",
       "      <td>0.184797</td>\n",
       "      <td>0.134651</td>\n",
       "      <td>0.222821</td>\n",
       "    </tr>\n",
       "    <tr>\n",
       "      <th>diaBP</th>\n",
       "      <td>0.051872</td>\n",
       "      <td>0.208283</td>\n",
       "      <td>-0.058059</td>\n",
       "      <td>-0.115955</td>\n",
       "      <td>-0.056746</td>\n",
       "      <td>0.199630</td>\n",
       "      <td>0.055834</td>\n",
       "      <td>0.617734</td>\n",
       "      <td>0.050686</td>\n",
       "      <td>0.174422</td>\n",
       "      <td>0.786669</td>\n",
       "      <td>1.000000</td>\n",
       "      <td>0.385348</td>\n",
       "      <td>0.178744</td>\n",
       "      <td>0.063540</td>\n",
       "      <td>0.150124</td>\n",
       "    </tr>\n",
       "    <tr>\n",
       "      <th>BMI</th>\n",
       "      <td>0.073111</td>\n",
       "      <td>0.137511</td>\n",
       "      <td>-0.137555</td>\n",
       "      <td>-0.159821</td>\n",
       "      <td>-0.087395</td>\n",
       "      <td>0.105642</td>\n",
       "      <td>0.036496</td>\n",
       "      <td>0.302949</td>\n",
       "      <td>0.089009</td>\n",
       "      <td>0.121056</td>\n",
       "      <td>0.330917</td>\n",
       "      <td>0.385348</td>\n",
       "      <td>1.000000</td>\n",
       "      <td>0.074131</td>\n",
       "      <td>0.083683</td>\n",
       "      <td>0.082055</td>\n",
       "    </tr>\n",
       "    <tr>\n",
       "      <th>heartRate</th>\n",
       "      <td>-0.115285</td>\n",
       "      <td>-0.002722</td>\n",
       "      <td>-0.064214</td>\n",
       "      <td>0.050841</td>\n",
       "      <td>0.064030</td>\n",
       "      <td>0.012889</td>\n",
       "      <td>-0.017019</td>\n",
       "      <td>0.146818</td>\n",
       "      <td>0.060984</td>\n",
       "      <td>0.093053</td>\n",
       "      <td>0.184797</td>\n",
       "      <td>0.178744</td>\n",
       "      <td>0.074131</td>\n",
       "      <td>1.000000</td>\n",
       "      <td>0.097074</td>\n",
       "      <td>0.020514</td>\n",
       "    </tr>\n",
       "    <tr>\n",
       "      <th>glucose</th>\n",
       "      <td>0.002940</td>\n",
       "      <td>0.118349</td>\n",
       "      <td>-0.031998</td>\n",
       "      <td>-0.053242</td>\n",
       "      <td>-0.053726</td>\n",
       "      <td>0.054232</td>\n",
       "      <td>0.016061</td>\n",
       "      <td>0.086942</td>\n",
       "      <td>0.614820</td>\n",
       "      <td>0.049884</td>\n",
       "      <td>0.134651</td>\n",
       "      <td>0.063540</td>\n",
       "      <td>0.083683</td>\n",
       "      <td>0.097074</td>\n",
       "      <td>1.000000</td>\n",
       "      <td>0.121990</td>\n",
       "    </tr>\n",
       "    <tr>\n",
       "      <th>TenYearCHD</th>\n",
       "      <td>0.091688</td>\n",
       "      <td>0.233983</td>\n",
       "      <td>-0.063279</td>\n",
       "      <td>0.019165</td>\n",
       "      <td>0.052014</td>\n",
       "      <td>0.089152</td>\n",
       "      <td>0.048366</td>\n",
       "      <td>0.181387</td>\n",
       "      <td>0.093431</td>\n",
       "      <td>0.091338</td>\n",
       "      <td>0.222821</td>\n",
       "      <td>0.150124</td>\n",
       "      <td>0.082055</td>\n",
       "      <td>0.020514</td>\n",
       "      <td>0.121990</td>\n",
       "      <td>1.000000</td>\n",
       "    </tr>\n",
       "  </tbody>\n",
       "</table>\n",
       "</div>"
      ],
      "text/plain": [
       "                     male       age  education  currentSmoker  cigsPerDay  \\\n",
       "male             1.000000 -0.024412   0.017729       0.206114    0.330322   \n",
       "age             -0.024412  1.000000  -0.159499      -0.210771   -0.189295   \n",
       "education        0.017729 -0.159499   1.000000       0.025251    0.013790   \n",
       "currentSmoker    0.206114 -0.210771   0.025251       1.000000    0.773913   \n",
       "cigsPerDay       0.330322 -0.189295   0.013790       0.773913    1.000000   \n",
       "BPMeds          -0.052124  0.134732  -0.013739      -0.051923   -0.046504   \n",
       "prevalentStroke -0.002312  0.050893  -0.030386      -0.038150   -0.036286   \n",
       "prevalentHyp     0.001424  0.306239  -0.078828      -0.108078   -0.070460   \n",
       "diabetes         0.013819  0.109092  -0.039627      -0.041849   -0.036961   \n",
       "totChol         -0.070321  0.268252  -0.013522      -0.051034   -0.030400   \n",
       "sysBP           -0.045358  0.388267  -0.124360      -0.134428   -0.094781   \n",
       "diaBP            0.051872  0.208283  -0.058059      -0.115955   -0.056746   \n",
       "BMI              0.073111  0.137511  -0.137555      -0.159821   -0.087395   \n",
       "heartRate       -0.115285 -0.002722  -0.064214       0.050841    0.064030   \n",
       "glucose          0.002940  0.118349  -0.031998      -0.053242   -0.053726   \n",
       "TenYearCHD       0.091688  0.233983  -0.063279       0.019165    0.052014   \n",
       "\n",
       "                   BPMeds  prevalentStroke  prevalentHyp  diabetes   totChol  \\\n",
       "male            -0.052124        -0.002312      0.001424  0.013819 -0.070321   \n",
       "age              0.134732         0.050893      0.306239  0.109092  0.268252   \n",
       "education       -0.013739        -0.030386     -0.078828 -0.039627 -0.013522   \n",
       "currentSmoker   -0.051923        -0.038150     -0.108078 -0.041849 -0.051034   \n",
       "cigsPerDay      -0.046504        -0.036286     -0.070460 -0.036961 -0.030400   \n",
       "BPMeds           1.000000         0.113125      0.262910  0.049066  0.094083   \n",
       "prevalentStroke  0.113125         1.000000      0.066057  0.009625  0.012736   \n",
       "prevalentHyp     0.262910         0.066057      1.000000  0.080556  0.166655   \n",
       "diabetes         0.049066         0.009625      0.080556  1.000000  0.048451   \n",
       "totChol          0.094083         0.012736      0.166655  0.048451  1.000000   \n",
       "sysBP            0.271263         0.061070      0.697675  0.102552  0.219925   \n",
       "diaBP            0.199630         0.055834      0.617734  0.050686  0.174422   \n",
       "BMI              0.105642         0.036496      0.302949  0.089009  0.121056   \n",
       "heartRate        0.012889        -0.017019      0.146818  0.060984  0.093053   \n",
       "glucose          0.054232         0.016061      0.086942  0.614820  0.049884   \n",
       "TenYearCHD       0.089152         0.048366      0.181387  0.093431  0.091338   \n",
       "\n",
       "                    sysBP     diaBP       BMI  heartRate   glucose  TenYearCHD  \n",
       "male            -0.045358  0.051872  0.073111  -0.115285  0.002940    0.091688  \n",
       "age              0.388267  0.208283  0.137511  -0.002722  0.118349    0.233983  \n",
       "education       -0.124360 -0.058059 -0.137555  -0.064214 -0.031998   -0.063279  \n",
       "currentSmoker   -0.134428 -0.115955 -0.159821   0.050841 -0.053242    0.019165  \n",
       "cigsPerDay      -0.094781 -0.056746 -0.087395   0.064030 -0.053726    0.052014  \n",
       "BPMeds           0.271263  0.199630  0.105642   0.012889  0.054232    0.089152  \n",
       "prevalentStroke  0.061070  0.055834  0.036496  -0.017019  0.016061    0.048366  \n",
       "prevalentHyp     0.697675  0.617734  0.302949   0.146818  0.086942    0.181387  \n",
       "diabetes         0.102552  0.050686  0.089009   0.060984  0.614820    0.093431  \n",
       "totChol          0.219925  0.174422  0.121056   0.093053  0.049884    0.091338  \n",
       "sysBP            1.000000  0.786669  0.330917   0.184797  0.134651    0.222821  \n",
       "diaBP            0.786669  1.000000  0.385348   0.178744  0.063540    0.150124  \n",
       "BMI              0.330917  0.385348  1.000000   0.074131  0.083683    0.082055  \n",
       "heartRate        0.184797  0.178744  0.074131   1.000000  0.097074    0.020514  \n",
       "glucose          0.134651  0.063540  0.083683   0.097074  1.000000    0.121990  \n",
       "TenYearCHD       0.222821  0.150124  0.082055   0.020514  0.121990    1.000000  "
      ]
     },
     "execution_count": 242,
     "metadata": {},
     "output_type": "execute_result"
    }
   ],
   "source": [
    "df.corr()"
   ]
  },
  {
   "cell_type": "markdown",
   "metadata": {
    "colab_type": "text",
    "id": "o9QIDPTf-4DX"
   },
   "source": [
    "Со средним, стандартным отклонением, медианой и корреляцией все ясно.\n",
    "\n",
    "Давайте выясним, как вычислять выборочные пропорции в датасете"
   ]
  },
  {
   "cell_type": "markdown",
   "metadata": {
    "colab_type": "text",
    "id": "r1FUl-Xp-4DZ"
   },
   "source": [
    "как вычислить долю мужчин в выборке?"
   ]
  },
  {
   "cell_type": "markdown",
   "metadata": {
    "colab_type": "text",
    "id": "aivWxkD--4Db"
   },
   "source": [
    "Длинный способ: посчитаем количество всех мужчин в выборке при помощи метода value_counts() и поделим его на общее количество пациентов"
   ]
  },
  {
   "cell_type": "code",
   "execution_count": 243,
   "metadata": {
    "colab": {},
    "colab_type": "code",
    "id": "MYWWwN0U-4Df"
   },
   "outputs": [
    {
     "name": "stdout",
     "output_type": "stream",
     "text": [
      "Общее количество мужчин и женщин\n",
      " 0    2035\n",
      "1    1623\n",
      "Name: male, dtype: int64\n",
      "Общее количество мужчин: 1623\n"
     ]
    }
   ],
   "source": [
    "m=df['male'].value_counts() # счетчик разных значений в dataframe\n",
    "print(\"Общее количество мужчин и женщин\\n\", m)\n",
    "print(\"Общее количество мужчин:\", m[1])"
   ]
  },
  {
   "cell_type": "code",
   "execution_count": 244,
   "metadata": {
    "colab": {},
    "colab_type": "code",
    "id": "HYtIsEoL-4Dq"
   },
   "outputs": [
    {
     "name": "stdout",
     "output_type": "stream",
     "text": [
      "Доля мужчин среди всех пациентов: 0.4436850738108256\n"
     ]
    }
   ],
   "source": [
    "p_male=m[1]/df.shape[0] # считаем пропорцию мужчин среди всех пациентов\n",
    "print(\"Доля мужчин среди всех пациентов:\", p_male)"
   ]
  },
  {
   "cell_type": "markdown",
   "metadata": {
    "colab_type": "text",
    "id": "MTBgRJKL-4Dx"
   },
   "source": [
    "Короткий способ: задать в методе value_counts() специальный параметр, который будет вычислиять не абсолютные частоты (количества), а относительные (пропорции)"
   ]
  },
  {
   "cell_type": "code",
   "execution_count": 245,
   "metadata": {
    "colab": {},
    "colab_type": "code",
    "id": "NGvYUznj-4Dz"
   },
   "outputs": [
    {
     "data": {
      "text/plain": [
       "0    0.556315\n",
       "1    0.443685\n",
       "Name: male, dtype: float64"
      ]
     },
     "execution_count": 245,
     "metadata": {},
     "output_type": "execute_result"
    }
   ],
   "source": [
    "df['male'].value_counts(normalize = True ) # параметр normalize = True позволяет считать сразу пропорцию вместо количества"
   ]
  },
  {
   "cell_type": "markdown",
   "metadata": {
    "colab_type": "text",
    "id": "-gJ57OVV-4D-"
   },
   "source": [
    "С абсолютными пропорциями тоже ясно. Как насчет условных?"
   ]
  },
  {
   "cell_type": "markdown",
   "metadata": {
    "colab_type": "text",
    "id": "yvXnf8bH-4D_"
   },
   "source": [
    "Как вычислить долю курильщиков среди мужчин и среди женщин:"
   ]
  },
  {
   "cell_type": "code",
   "execution_count": 246,
   "metadata": {
    "colab": {},
    "colab_type": "code",
    "id": "pTyhhDRT-4EB"
   },
   "outputs": [],
   "source": [
    "male_groups=df.groupby('male') # groupgy разбивает датасет на группы по признаку пола"
   ]
  },
  {
   "cell_type": "markdown",
   "metadata": {
    "colab_type": "text",
    "id": "j_QZ2Z67-4EG"
   },
   "source": [
    "Внутри каждой группы можем взять счетчик value_counts() для признака currentSmoker\n",
    "\n",
    "пол 0 - женщина, пол 1 - мужчина."
   ]
  },
  {
   "cell_type": "code",
   "execution_count": 247,
   "metadata": {
    "colab": {},
    "colab_type": "code",
    "id": "D4uZG06--4EI"
   },
   "outputs": [
    {
     "data": {
      "text/plain": [
       "male  currentSmoker\n",
       "0     0                1227\n",
       "      1                 808\n",
       "1     1                 981\n",
       "      0                 642\n",
       "Name: currentSmoker, dtype: int64"
      ]
     },
     "execution_count": 247,
     "metadata": {},
     "output_type": "execute_result"
    }
   ],
   "source": [
    "male_groups['currentSmoker'].value_counts() # можем отдельно вычислить количество корильщиков среди мужчин и среди женщин"
   ]
  },
  {
   "cell_type": "markdown",
   "metadata": {
    "colab_type": "text",
    "id": "ZT51MPpa-4EO"
   },
   "source": [
    "Итак: курит 808 женщин и 981 мужчин"
   ]
  },
  {
   "cell_type": "markdown",
   "metadata": {
    "colab_type": "text",
    "id": "Ehkh6n9U-4EP"
   },
   "source": [
    "Теперь вычислим пропорции курильщиков внутри каждого пола.\n",
    "\n",
    "Вы можете убедиться, что это именно условные пропорции, поделив количество курящих мужчин на общее количество мужчин и сравнив результаты, или если заметите, что вероятности внутри каждой группы пола дают в сумме 1"
   ]
  },
  {
   "cell_type": "code",
   "execution_count": 248,
   "metadata": {
    "colab": {},
    "colab_type": "code",
    "id": "U1etvSSm-4ER"
   },
   "outputs": [
    {
     "name": "stdout",
     "output_type": "stream",
     "text": [
      "Доли корильщиков среди мужчин и среди женщин\n",
      " male  currentSmoker\n",
      "0     0                0.602948\n",
      "      1                0.397052\n",
      "1     1                0.604436\n",
      "      0                0.395564\n",
      "Name: currentSmoker, dtype: float64\n",
      "Доля корильщиков среди мужчин: 0.6044362292051756\n"
     ]
    }
   ],
   "source": [
    "ms=male_groups['currentSmoker'].value_counts(normalize = True) \n",
    "print('Доли корильщиков среди мужчин и среди женщин\\n',ms)\n",
    "print('Доля корильщиков среди мужчин:',ms[1,1])"
   ]
  },
  {
   "cell_type": "markdown",
   "metadata": {
    "colab_type": "text",
    "id": "nMFgVay4-4Ed"
   },
   "source": [
    "Как вычислить среднее значение пульса у курящих и не курящих:"
   ]
  },
  {
   "cell_type": "code",
   "execution_count": 249,
   "metadata": {
    "colab": {},
    "colab_type": "code",
    "id": "9Uhd5HEh-4Eh"
   },
   "outputs": [],
   "source": [
    "smok_groups=df.groupby('currentSmoker')"
   ]
  },
  {
   "cell_type": "code",
   "execution_count": 250,
   "metadata": {
    "colab": {},
    "colab_type": "code",
    "id": "I-g2AGbq-4Eo"
   },
   "outputs": [
    {
     "data": {
      "text/plain": [
       "currentSmoker\n",
       "0    75.134831\n",
       "1    76.353270\n",
       "Name: heartRate, dtype: float64"
      ]
     },
     "execution_count": 250,
     "metadata": {},
     "output_type": "execute_result"
    }
   ],
   "source": [
    "smok_groups['heartRate'].mean()"
   ]
  },
  {
   "cell_type": "markdown",
   "metadata": {
    "colab_type": "text",
    "id": "y_JyAdo8-4Eu"
   },
   "source": [
    "Как вычислить долю пациентов группы риска среди курящих и не курящих:"
   ]
  },
  {
   "cell_type": "code",
   "execution_count": 251,
   "metadata": {
    "colab": {},
    "colab_type": "code",
    "id": "hqW-wv1s-4Ex"
   },
   "outputs": [
    {
     "name": "stdout",
     "output_type": "stream",
     "text": [
      "Доли группы риска среди курильщиков и не курильщиков\n",
      " currentSmoker  TenYearCHD\n",
      "0              0             0.854468\n",
      "               1             0.145532\n",
      "1              0             0.840693\n",
      "               1             0.159307\n",
      "Name: TenYearCHD, dtype: float64\n",
      "Доля группы риска среди курильщиков: 0.1593068753493572\n"
     ]
    }
   ],
   "source": [
    "srisk=smok_groups['TenYearCHD'].value_counts(normalize = True)\n",
    "print('Доли группы риска среди курильщиков и не курильщиков\\n',srisk)\n",
    "print('Доля группы риска среди курильщиков:',srisk[1,1])"
   ]
  },
  {
   "cell_type": "markdown",
   "metadata": {
    "colab_type": "text",
    "id": "KuoDiUlE-4E3"
   },
   "source": [
    "Трюк по вычислению частот для переменных-индикаторов (значения 1 и 0): сумма значений равна количеству единиц в выборке, а значит, среднее равно доле единиц, то есть частоте:"
   ]
  },
  {
   "cell_type": "code",
   "execution_count": 252,
   "metadata": {
    "colab": {},
    "colab_type": "code",
    "id": "lEYeoxYN-4E4"
   },
   "outputs": [
    {
     "data": {
      "text/plain": [
       "currentSmoker\n",
       "0    0.145532\n",
       "1    0.159307\n",
       "Name: TenYearCHD, dtype: float64"
      ]
     },
     "execution_count": 252,
     "metadata": {},
     "output_type": "execute_result"
    }
   ],
   "source": [
    "smok_groups['TenYearCHD'].mean()"
   ]
  },
  {
   "cell_type": "markdown",
   "metadata": {},
   "source": [
    "Найдите общее количество пациентов с диабетом:"
   ]
  },
  {
   "cell_type": "code",
   "execution_count": 253,
   "metadata": {},
   "outputs": [
    {
     "ename": "AttributeError",
     "evalue": "'DataFrameGroupBy' object has no attribute 'value_counts'",
     "output_type": "error",
     "traceback": [
      "\u001b[1;31m---------------------------------------------------------------------------\u001b[0m",
      "\u001b[1;31mAttributeError\u001b[0m                            Traceback (most recent call last)",
      "\u001b[1;32m<ipython-input-253-a79b7b0df2c3>\u001b[0m in \u001b[0;36m<module>\u001b[1;34m\u001b[0m\n\u001b[1;32m----> 1\u001b[1;33m \u001b[0mdiabetes_group\u001b[0m\u001b[1;33m.\u001b[0m\u001b[0mvalue_counts\u001b[0m\u001b[1;33m(\u001b[0m\u001b[1;33m)\u001b[0m\u001b[1;33m\u001b[0m\u001b[1;33m\u001b[0m\u001b[0m\n\u001b[0m",
      "\u001b[1;32m~\\anaconda3\\lib\\site-packages\\pandas\\core\\groupby\\groupby.py\u001b[0m in \u001b[0;36m__getattr__\u001b[1;34m(self, attr)\u001b[0m\n\u001b[0;32m    578\u001b[0m \u001b[1;33m\u001b[0m\u001b[0m\n\u001b[0;32m    579\u001b[0m         raise AttributeError(\n\u001b[1;32m--> 580\u001b[1;33m             \u001b[1;34mf\"'{type(self).__name__}' object has no attribute '{attr}'\"\u001b[0m\u001b[1;33m\u001b[0m\u001b[1;33m\u001b[0m\u001b[0m\n\u001b[0m\u001b[0;32m    581\u001b[0m         )\n\u001b[0;32m    582\u001b[0m \u001b[1;33m\u001b[0m\u001b[0m\n",
      "\u001b[1;31mAttributeError\u001b[0m: 'DataFrameGroupBy' object has no attribute 'value_counts'"
     ]
    }
   ],
   "source": [
    "diabetes_group.value_counts()"
   ]
  },
  {
   "cell_type": "code",
   "execution_count": 254,
   "metadata": {},
   "outputs": [
    {
     "name": "stdout",
     "output_type": "stream",
     "text": [
      "0    3559\n",
      "1      99\n",
      "Name: diabetes, dtype: int64\n"
     ]
    }
   ],
   "source": [
    "n=df['diabetes'].value_counts() # счетчик разных значений в dataframe\n",
    "print(n)"
   ]
  },
  {
   "cell_type": "markdown",
   "metadata": {},
   "source": [
    "Найдите долю диабетиков среди всех пациентов:"
   ]
  },
  {
   "cell_type": "code",
   "execution_count": 255,
   "metadata": {},
   "outputs": [
    {
     "name": "stdout",
     "output_type": "stream",
     "text": [
      "0    0.972936\n",
      "1    0.027064\n",
      "Name: diabetes, dtype: float64\n"
     ]
    }
   ],
   "source": [
    "s=df['diabetes'].value_counts(normalize=True) # счетчик разных значений в dataframe\n",
    "print(s)"
   ]
  },
  {
   "cell_type": "markdown",
   "metadata": {},
   "source": [
    "Найдите долю пациентов группы риска среди пациентов с диабетом:"
   ]
  },
  {
   "cell_type": "code",
   "execution_count": 256,
   "metadata": {},
   "outputs": [],
   "source": [
    "diabetes_group=df.groupby('diabetes')"
   ]
  },
  {
   "cell_type": "code",
   "execution_count": 257,
   "metadata": {},
   "outputs": [
    {
     "name": "stdout",
     "output_type": "stream",
     "text": [
      "Доли группы риска среди всех\n",
      " diabetes  TenYearCHD\n",
      "0         0             0.853330\n",
      "          1             0.146670\n",
      "1         0             0.646465\n",
      "          1             0.353535\n",
      "Name: TenYearCHD, dtype: float64\n",
      "Доля группы риска среди диабетиков: 0.35353535353535354\n"
     ]
    }
   ],
   "source": [
    "sriskDia=diabetes_group['TenYearCHD'].value_counts(normalize = True)\n",
    "print('Доли группы риска среди всех\\n',sriskDia)\n",
    "print('Доля группы риска среди диабетиков:',sriskDia[1,1])"
   ]
  },
  {
   "cell_type": "markdown",
   "metadata": {},
   "source": [
    "Найдите долю диабетиков среди пациентов группы риска:"
   ]
  },
  {
   "cell_type": "code",
   "execution_count": 258,
   "metadata": {},
   "outputs": [],
   "source": [
    "chd_group=df.groupby('TenYearCHD')"
   ]
  },
  {
   "cell_type": "code",
   "execution_count": 259,
   "metadata": {},
   "outputs": [
    {
     "name": "stdout",
     "output_type": "stream",
     "text": [
      "Доли группы риска среди всех\n",
      " TenYearCHD  diabetes\n",
      "0           0           0.979361\n",
      "            1           0.020639\n",
      "1           0           0.937163\n",
      "            1           0.062837\n",
      "Name: diabetes, dtype: float64\n",
      "Доля группы риска среди диабетиков: 0.06283662477558348\n"
     ]
    }
   ],
   "source": [
    "diab=chd_group['diabetes'].value_counts(normalize = True)\n",
    "print('Доли группы риска среди всех\\n',diab)\n",
    "print('Доля группы риска среди диабетиков:',diab[1,1])"
   ]
  },
  {
   "cell_type": "markdown",
   "metadata": {},
   "source": [
    "Найдите среднее и медианное значения систолического давления среди пациентов-диабетиков:"
   ]
  },
  {
   "cell_type": "code",
   "execution_count": 260,
   "metadata": {},
   "outputs": [
    {
     "name": "stdout",
     "output_type": "stream",
     "text": [
      "Доли группы риска среди всех\n",
      " diabetes\n",
      "0    131.992835\n",
      "1    145.949495\n",
      "Name: sysBP, dtype: float64\n"
     ]
    }
   ],
   "source": [
    "sriskDiaBP=diabetes_group['sysBP'].mean()\n",
    "print('Доли группы риска среди всех\\n',sriskDiaBP)\n"
   ]
  },
  {
   "cell_type": "code",
   "execution_count": 261,
   "metadata": {},
   "outputs": [
    {
     "name": "stdout",
     "output_type": "stream",
     "text": [
      "Доли группы риска среди всех\n",
      " diabetes\n",
      "0    128.0\n",
      "1    142.0\n",
      "Name: sysBP, dtype: float64\n"
     ]
    }
   ],
   "source": [
    "sriskDiaBP=diabetes_group['sysBP'].median()\n",
    "print('Доли группы риска среди всех\\n',sriskDiaBP)"
   ]
  },
  {
   "cell_type": "markdown",
   "metadata": {},
   "source": [
    "Постройте матрицу корреляций для признаков пациентов в группе риска. Найдите 2 признака с самой сильной взаимосвязью. Выпишите коэффициент корреляции между ними, округлите до сотых."
   ]
  },
  {
   "cell_type": "code",
   "execution_count": 262,
   "metadata": {},
   "outputs": [
    {
     "data": {
      "text/plain": [
       "<matplotlib.axes._subplots.AxesSubplot at 0x2402d776a88>"
      ]
     },
     "execution_count": 262,
     "metadata": {},
     "output_type": "execute_result"
    },
    {
     "data": {
      "image/png": "[encoded data removed]",
      "text/plain": [
       "<Figure size 432x288 with 2 Axes>"
      ]
     },
     "metadata": {
      "needs_background": "light"
     },
     "output_type": "display_data"
    }
   ],
   "source": [
    "sn.heatmap(chd_group.corr())"
   ]
  },
  {
   "cell_type": "code",
   "execution_count": 263,
   "metadata": {},
   "outputs": [
    {
     "data": {
      "text/html": [
       "<div>\n",
       "<style scoped>\n",
       "    .dataframe tbody tr th:only-of-type {\n",
       "        vertical-align: middle;\n",
       "    }\n",
       "\n",
       "    .dataframe tbody tr th {\n",
       "        vertical-align: top;\n",
       "    }\n",
       "\n",
       "    .dataframe thead th {\n",
       "        text-align: right;\n",
       "    }\n",
       "</style>\n",
       "<table border=\"1\" class=\"dataframe\">\n",
       "  <thead>\n",
       "    <tr style=\"text-align: right;\">\n",
       "      <th></th>\n",
       "      <th></th>\n",
       "      <th>male</th>\n",
       "      <th>age</th>\n",
       "      <th>education</th>\n",
       "      <th>currentSmoker</th>\n",
       "      <th>cigsPerDay</th>\n",
       "      <th>BPMeds</th>\n",
       "      <th>prevalentStroke</th>\n",
       "      <th>prevalentHyp</th>\n",
       "      <th>diabetes</th>\n",
       "      <th>totChol</th>\n",
       "      <th>sysBP</th>\n",
       "      <th>diaBP</th>\n",
       "      <th>BMI</th>\n",
       "      <th>heartRate</th>\n",
       "      <th>glucose</th>\n",
       "    </tr>\n",
       "    <tr>\n",
       "      <th>TenYearCHD</th>\n",
       "      <th></th>\n",
       "      <th></th>\n",
       "      <th></th>\n",
       "      <th></th>\n",
       "      <th></th>\n",
       "      <th></th>\n",
       "      <th></th>\n",
       "      <th></th>\n",
       "      <th></th>\n",
       "      <th></th>\n",
       "      <th></th>\n",
       "      <th></th>\n",
       "      <th></th>\n",
       "      <th></th>\n",
       "      <th></th>\n",
       "      <th></th>\n",
       "    </tr>\n",
       "  </thead>\n",
       "  <tbody>\n",
       "    <tr>\n",
       "      <th rowspan=\"15\" valign=\"top\">0</th>\n",
       "      <th>male</th>\n",
       "      <td>1.000000</td>\n",
       "      <td>-0.037995</td>\n",
       "      <td>0.013328</td>\n",
       "      <td>0.190256</td>\n",
       "      <td>0.322927</td>\n",
       "      <td>-0.048752</td>\n",
       "      <td>-0.005220</td>\n",
       "      <td>0.003986</td>\n",
       "      <td>0.003854</td>\n",
       "      <td>-0.069778</td>\n",
       "      <td>-0.050383</td>\n",
       "      <td>0.052784</td>\n",
       "      <td>0.093784</td>\n",
       "      <td>-0.126213</td>\n",
       "      <td>-0.004036</td>\n",
       "    </tr>\n",
       "    <tr>\n",
       "      <th>age</th>\n",
       "      <td>-0.037995</td>\n",
       "      <td>1.000000</td>\n",
       "      <td>-0.156522</td>\n",
       "      <td>-0.208780</td>\n",
       "      <td>-0.201321</td>\n",
       "      <td>0.122244</td>\n",
       "      <td>0.032665</td>\n",
       "      <td>0.279358</td>\n",
       "      <td>0.101203</td>\n",
       "      <td>0.289349</td>\n",
       "      <td>0.368465</td>\n",
       "      <td>0.204152</td>\n",
       "      <td>0.134924</td>\n",
       "      <td>-0.005453</td>\n",
       "      <td>0.101900</td>\n",
       "    </tr>\n",
       "    <tr>\n",
       "      <th>education</th>\n",
       "      <td>0.013328</td>\n",
       "      <td>-0.156522</td>\n",
       "      <td>1.000000</td>\n",
       "      <td>0.029356</td>\n",
       "      <td>0.012443</td>\n",
       "      <td>-0.013629</td>\n",
       "      <td>-0.015187</td>\n",
       "      <td>-0.074067</td>\n",
       "      <td>-0.027814</td>\n",
       "      <td>-0.028915</td>\n",
       "      <td>-0.127588</td>\n",
       "      <td>-0.067671</td>\n",
       "      <td>-0.138811</td>\n",
       "      <td>-0.065866</td>\n",
       "      <td>-0.030287</td>\n",
       "    </tr>\n",
       "    <tr>\n",
       "      <th>currentSmoker</th>\n",
       "      <td>0.190256</td>\n",
       "      <td>-0.208780</td>\n",
       "      <td>0.029356</td>\n",
       "      <td>1.000000</td>\n",
       "      <td>0.770615</td>\n",
       "      <td>-0.037586</td>\n",
       "      <td>-0.042993</td>\n",
       "      <td>-0.099830</td>\n",
       "      <td>-0.031952</td>\n",
       "      <td>-0.047442</td>\n",
       "      <td>-0.136679</td>\n",
       "      <td>-0.123509</td>\n",
       "      <td>-0.167375</td>\n",
       "      <td>0.042152</td>\n",
       "      <td>-0.055153</td>\n",
       "    </tr>\n",
       "    <tr>\n",
       "      <th>cigsPerDay</th>\n",
       "      <td>0.322927</td>\n",
       "      <td>-0.201321</td>\n",
       "      <td>0.012443</td>\n",
       "      <td>0.770615</td>\n",
       "      <td>1.000000</td>\n",
       "      <td>-0.031996</td>\n",
       "      <td>-0.033614</td>\n",
       "      <td>-0.065679</td>\n",
       "      <td>-0.031517</td>\n",
       "      <td>-0.028764</td>\n",
       "      <td>-0.101744</td>\n",
       "      <td>-0.057145</td>\n",
       "      <td>-0.087520</td>\n",
       "      <td>0.050344</td>\n",
       "      <td>-0.068783</td>\n",
       "    </tr>\n",
       "    <tr>\n",
       "      <th>BPMeds</th>\n",
       "      <td>-0.048752</td>\n",
       "      <td>0.122244</td>\n",
       "      <td>-0.013629</td>\n",
       "      <td>-0.037586</td>\n",
       "      <td>-0.031996</td>\n",
       "      <td>1.000000</td>\n",
       "      <td>0.153363</td>\n",
       "      <td>0.253210</td>\n",
       "      <td>0.007026</td>\n",
       "      <td>0.080330</td>\n",
       "      <td>0.243538</td>\n",
       "      <td>0.187985</td>\n",
       "      <td>0.117733</td>\n",
       "      <td>-0.015271</td>\n",
       "      <td>-0.007368</td>\n",
       "    </tr>\n",
       "    <tr>\n",
       "      <th>prevalentStroke</th>\n",
       "      <td>-0.005220</td>\n",
       "      <td>0.032665</td>\n",
       "      <td>-0.015187</td>\n",
       "      <td>-0.042993</td>\n",
       "      <td>-0.033614</td>\n",
       "      <td>0.153363</td>\n",
       "      <td>1.000000</td>\n",
       "      <td>0.049253</td>\n",
       "      <td>-0.009419</td>\n",
       "      <td>0.012998</td>\n",
       "      <td>0.052784</td>\n",
       "      <td>0.047175</td>\n",
       "      <td>0.038112</td>\n",
       "      <td>-0.033892</td>\n",
       "      <td>0.009130</td>\n",
       "    </tr>\n",
       "    <tr>\n",
       "      <th>prevalentHyp</th>\n",
       "      <td>0.003986</td>\n",
       "      <td>0.279358</td>\n",
       "      <td>-0.074067</td>\n",
       "      <td>-0.099830</td>\n",
       "      <td>-0.065679</td>\n",
       "      <td>0.253210</td>\n",
       "      <td>0.049253</td>\n",
       "      <td>1.000000</td>\n",
       "      <td>0.062579</td>\n",
       "      <td>0.168673</td>\n",
       "      <td>0.689398</td>\n",
       "      <td>0.617644</td>\n",
       "      <td>0.306306</td>\n",
       "      <td>0.139004</td>\n",
       "      <td>0.056504</td>\n",
       "    </tr>\n",
       "    <tr>\n",
       "      <th>diabetes</th>\n",
       "      <td>0.003854</td>\n",
       "      <td>0.101203</td>\n",
       "      <td>-0.027814</td>\n",
       "      <td>-0.031952</td>\n",
       "      <td>-0.031517</td>\n",
       "      <td>0.007026</td>\n",
       "      <td>-0.009419</td>\n",
       "      <td>0.062579</td>\n",
       "      <td>1.000000</td>\n",
       "      <td>0.027962</td>\n",
       "      <td>0.094461</td>\n",
       "      <td>0.042297</td>\n",
       "      <td>0.079187</td>\n",
       "      <td>0.050092</td>\n",
       "      <td>0.515629</td>\n",
       "    </tr>\n",
       "    <tr>\n",
       "      <th>totChol</th>\n",
       "      <td>-0.069778</td>\n",
       "      <td>0.289349</td>\n",
       "      <td>-0.028915</td>\n",
       "      <td>-0.047442</td>\n",
       "      <td>-0.028764</td>\n",
       "      <td>0.080330</td>\n",
       "      <td>0.012998</td>\n",
       "      <td>0.168673</td>\n",
       "      <td>0.027962</td>\n",
       "      <td>1.000000</td>\n",
       "      <td>0.225484</td>\n",
       "      <td>0.184853</td>\n",
       "      <td>0.124199</td>\n",
       "      <td>0.098382</td>\n",
       "      <td>0.016934</td>\n",
       "    </tr>\n",
       "    <tr>\n",
       "      <th>sysBP</th>\n",
       "      <td>-0.050383</td>\n",
       "      <td>0.368465</td>\n",
       "      <td>-0.127588</td>\n",
       "      <td>-0.136679</td>\n",
       "      <td>-0.101744</td>\n",
       "      <td>0.243538</td>\n",
       "      <td>0.052784</td>\n",
       "      <td>0.689398</td>\n",
       "      <td>0.094461</td>\n",
       "      <td>0.225484</td>\n",
       "      <td>1.000000</td>\n",
       "      <td>0.785046</td>\n",
       "      <td>0.336944</td>\n",
       "      <td>0.193360</td>\n",
       "      <td>0.109922</td>\n",
       "    </tr>\n",
       "    <tr>\n",
       "      <th>diaBP</th>\n",
       "      <td>0.052784</td>\n",
       "      <td>0.204152</td>\n",
       "      <td>-0.067671</td>\n",
       "      <td>-0.123509</td>\n",
       "      <td>-0.057145</td>\n",
       "      <td>0.187985</td>\n",
       "      <td>0.047175</td>\n",
       "      <td>0.617644</td>\n",
       "      <td>0.042297</td>\n",
       "      <td>0.184853</td>\n",
       "      <td>0.785046</td>\n",
       "      <td>1.000000</td>\n",
       "      <td>0.390812</td>\n",
       "      <td>0.181440</td>\n",
       "      <td>0.046344</td>\n",
       "    </tr>\n",
       "    <tr>\n",
       "      <th>BMI</th>\n",
       "      <td>0.093784</td>\n",
       "      <td>0.134924</td>\n",
       "      <td>-0.138811</td>\n",
       "      <td>-0.167375</td>\n",
       "      <td>-0.087520</td>\n",
       "      <td>0.117733</td>\n",
       "      <td>0.038112</td>\n",
       "      <td>0.306306</td>\n",
       "      <td>0.079187</td>\n",
       "      <td>0.124199</td>\n",
       "      <td>0.336944</td>\n",
       "      <td>0.390812</td>\n",
       "      <td>1.000000</td>\n",
       "      <td>0.062499</td>\n",
       "      <td>0.073144</td>\n",
       "    </tr>\n",
       "    <tr>\n",
       "      <th>heartRate</th>\n",
       "      <td>-0.126213</td>\n",
       "      <td>-0.005453</td>\n",
       "      <td>-0.065866</td>\n",
       "      <td>0.042152</td>\n",
       "      <td>0.050344</td>\n",
       "      <td>-0.015271</td>\n",
       "      <td>-0.033892</td>\n",
       "      <td>0.139004</td>\n",
       "      <td>0.050092</td>\n",
       "      <td>0.098382</td>\n",
       "      <td>0.193360</td>\n",
       "      <td>0.181440</td>\n",
       "      <td>0.062499</td>\n",
       "      <td>1.000000</td>\n",
       "      <td>0.104330</td>\n",
       "    </tr>\n",
       "    <tr>\n",
       "      <th>glucose</th>\n",
       "      <td>-0.004036</td>\n",
       "      <td>0.101900</td>\n",
       "      <td>-0.030287</td>\n",
       "      <td>-0.055153</td>\n",
       "      <td>-0.068783</td>\n",
       "      <td>-0.007368</td>\n",
       "      <td>0.009130</td>\n",
       "      <td>0.056504</td>\n",
       "      <td>0.515629</td>\n",
       "      <td>0.016934</td>\n",
       "      <td>0.109922</td>\n",
       "      <td>0.046344</td>\n",
       "      <td>0.073144</td>\n",
       "      <td>0.104330</td>\n",
       "      <td>1.000000</td>\n",
       "    </tr>\n",
       "    <tr>\n",
       "      <th rowspan=\"15\" valign=\"top\">1</th>\n",
       "      <th>male</th>\n",
       "      <td>1.000000</td>\n",
       "      <td>-0.101904</td>\n",
       "      <td>0.080395</td>\n",
       "      <td>0.288251</td>\n",
       "      <td>0.350819</td>\n",
       "      <td>-0.107163</td>\n",
       "      <td>-0.012418</td>\n",
       "      <td>-0.112147</td>\n",
       "      <td>0.010548</td>\n",
       "      <td>-0.127026</td>\n",
       "      <td>-0.142647</td>\n",
       "      <td>-0.021705</td>\n",
       "      <td>-0.068325</td>\n",
       "      <td>-0.071223</td>\n",
       "      <td>-0.021249</td>\n",
       "    </tr>\n",
       "    <tr>\n",
       "      <th>age</th>\n",
       "      <td>-0.101904</td>\n",
       "      <td>1.000000</td>\n",
       "      <td>-0.106499</td>\n",
       "      <td>-0.295651</td>\n",
       "      <td>-0.242125</td>\n",
       "      <td>0.114394</td>\n",
       "      <td>0.073270</td>\n",
       "      <td>0.260844</td>\n",
       "      <td>0.064170</td>\n",
       "      <td>0.078767</td>\n",
       "      <td>0.308960</td>\n",
       "      <td>0.075911</td>\n",
       "      <td>0.057758</td>\n",
       "      <td>-0.020910</td>\n",
       "      <td>0.091433</td>\n",
       "    </tr>\n",
       "    <tr>\n",
       "      <th>education</th>\n",
       "      <td>0.080395</td>\n",
       "      <td>-0.106499</td>\n",
       "      <td>1.000000</td>\n",
       "      <td>0.010894</td>\n",
       "      <td>0.040727</td>\n",
       "      <td>0.009650</td>\n",
       "      <td>-0.067784</td>\n",
       "      <td>-0.042075</td>\n",
       "      <td>-0.057301</td>\n",
       "      <td>0.096077</td>\n",
       "      <td>-0.057088</td>\n",
       "      <td>0.029803</td>\n",
       "      <td>-0.106030</td>\n",
       "      <td>-0.047791</td>\n",
       "      <td>-0.014591</td>\n",
       "    </tr>\n",
       "    <tr>\n",
       "      <th>currentSmoker</th>\n",
       "      <td>0.288251</td>\n",
       "      <td>-0.295651</td>\n",
       "      <td>0.010894</td>\n",
       "      <td>1.000000</td>\n",
       "      <td>0.794715</td>\n",
       "      <td>-0.114397</td>\n",
       "      <td>-0.033005</td>\n",
       "      <td>-0.181874</td>\n",
       "      <td>-0.087448</td>\n",
       "      <td>-0.080974</td>\n",
       "      <td>-0.170454</td>\n",
       "      <td>-0.108613</td>\n",
       "      <td>-0.136593</td>\n",
       "      <td>0.096074</td>\n",
       "      <td>-0.070051</td>\n",
       "    </tr>\n",
       "    <tr>\n",
       "      <th>cigsPerDay</th>\n",
       "      <td>0.350819</td>\n",
       "      <td>-0.242125</td>\n",
       "      <td>0.040727</td>\n",
       "      <td>0.794715</td>\n",
       "      <td>1.000000</td>\n",
       "      <td>-0.114667</td>\n",
       "      <td>-0.057237</td>\n",
       "      <td>-0.152279</td>\n",
       "      <td>-0.076370</td>\n",
       "      <td>-0.065059</td>\n",
       "      <td>-0.139513</td>\n",
       "      <td>-0.098718</td>\n",
       "      <td>-0.112514</td>\n",
       "      <td>0.126621</td>\n",
       "      <td>-0.050637</td>\n",
       "    </tr>\n",
       "    <tr>\n",
       "      <th>BPMeds</th>\n",
       "      <td>-0.107163</td>\n",
       "      <td>0.114394</td>\n",
       "      <td>0.009650</td>\n",
       "      <td>-0.114397</td>\n",
       "      <td>-0.114667</td>\n",
       "      <td>1.000000</td>\n",
       "      <td>0.028393</td>\n",
       "      <td>0.261530</td>\n",
       "      <td>0.109181</td>\n",
       "      <td>0.110477</td>\n",
       "      <td>0.302829</td>\n",
       "      <td>0.196529</td>\n",
       "      <td>0.047855</td>\n",
       "      <td>0.100742</td>\n",
       "      <td>0.126834</td>\n",
       "    </tr>\n",
       "    <tr>\n",
       "      <th>prevalentStroke</th>\n",
       "      <td>-0.012418</td>\n",
       "      <td>0.073270</td>\n",
       "      <td>-0.067784</td>\n",
       "      <td>-0.033005</td>\n",
       "      <td>-0.057237</td>\n",
       "      <td>0.028393</td>\n",
       "      <td>1.000000</td>\n",
       "      <td>0.088169</td>\n",
       "      <td>0.030923</td>\n",
       "      <td>-0.003375</td>\n",
       "      <td>0.051050</td>\n",
       "      <td>0.056365</td>\n",
       "      <td>0.021004</td>\n",
       "      <td>0.026763</td>\n",
       "      <td>0.011901</td>\n",
       "    </tr>\n",
       "    <tr>\n",
       "      <th>prevalentHyp</th>\n",
       "      <td>-0.112147</td>\n",
       "      <td>0.260844</td>\n",
       "      <td>-0.042075</td>\n",
       "      <td>-0.181874</td>\n",
       "      <td>-0.152279</td>\n",
       "      <td>0.261530</td>\n",
       "      <td>0.088169</td>\n",
       "      <td>1.000000</td>\n",
       "      <td>0.076282</td>\n",
       "      <td>0.084820</td>\n",
       "      <td>0.678677</td>\n",
       "      <td>0.570984</td>\n",
       "      <td>0.239669</td>\n",
       "      <td>0.178168</td>\n",
       "      <td>0.099324</td>\n",
       "    </tr>\n",
       "    <tr>\n",
       "      <th>diabetes</th>\n",
       "      <td>0.010548</td>\n",
       "      <td>0.064170</td>\n",
       "      <td>-0.057301</td>\n",
       "      <td>-0.087448</td>\n",
       "      <td>-0.076370</td>\n",
       "      <td>0.109181</td>\n",
       "      <td>0.030923</td>\n",
       "      <td>0.076282</td>\n",
       "      <td>1.000000</td>\n",
       "      <td>0.078704</td>\n",
       "      <td>0.060868</td>\n",
       "      <td>0.025442</td>\n",
       "      <td>0.095037</td>\n",
       "      <td>0.095222</td>\n",
       "      <td>0.765148</td>\n",
       "    </tr>\n",
       "    <tr>\n",
       "      <th>totChol</th>\n",
       "      <td>-0.127026</td>\n",
       "      <td>0.078767</td>\n",
       "      <td>0.096077</td>\n",
       "      <td>-0.080974</td>\n",
       "      <td>-0.065059</td>\n",
       "      <td>0.110477</td>\n",
       "      <td>-0.003375</td>\n",
       "      <td>0.084820</td>\n",
       "      <td>0.078704</td>\n",
       "      <td>1.000000</td>\n",
       "      <td>0.132897</td>\n",
       "      <td>0.079798</td>\n",
       "      <td>0.071725</td>\n",
       "      <td>0.058693</td>\n",
       "      <td>0.096797</td>\n",
       "    </tr>\n",
       "    <tr>\n",
       "      <th>sysBP</th>\n",
       "      <td>-0.142647</td>\n",
       "      <td>0.308960</td>\n",
       "      <td>-0.057088</td>\n",
       "      <td>-0.170454</td>\n",
       "      <td>-0.139513</td>\n",
       "      <td>0.302829</td>\n",
       "      <td>0.051050</td>\n",
       "      <td>0.678677</td>\n",
       "      <td>0.060868</td>\n",
       "      <td>0.132897</td>\n",
       "      <td>1.000000</td>\n",
       "      <td>0.770173</td>\n",
       "      <td>0.268380</td>\n",
       "      <td>0.154991</td>\n",
       "      <td>0.121851</td>\n",
       "    </tr>\n",
       "    <tr>\n",
       "      <th>diaBP</th>\n",
       "      <td>-0.021705</td>\n",
       "      <td>0.075911</td>\n",
       "      <td>0.029803</td>\n",
       "      <td>-0.108613</td>\n",
       "      <td>-0.098718</td>\n",
       "      <td>0.196529</td>\n",
       "      <td>0.056365</td>\n",
       "      <td>0.570984</td>\n",
       "      <td>0.025442</td>\n",
       "      <td>0.079798</td>\n",
       "      <td>0.770173</td>\n",
       "      <td>1.000000</td>\n",
       "      <td>0.333324</td>\n",
       "      <td>0.165293</td>\n",
       "      <td>0.049739</td>\n",
       "    </tr>\n",
       "    <tr>\n",
       "      <th>BMI</th>\n",
       "      <td>-0.068325</td>\n",
       "      <td>0.057758</td>\n",
       "      <td>-0.106030</td>\n",
       "      <td>-0.136593</td>\n",
       "      <td>-0.112514</td>\n",
       "      <td>0.047855</td>\n",
       "      <td>0.021004</td>\n",
       "      <td>0.239669</td>\n",
       "      <td>0.095037</td>\n",
       "      <td>0.071725</td>\n",
       "      <td>0.268380</td>\n",
       "      <td>0.333324</td>\n",
       "      <td>1.000000</td>\n",
       "      <td>0.122354</td>\n",
       "      <td>0.087928</td>\n",
       "    </tr>\n",
       "    <tr>\n",
       "      <th>heartRate</th>\n",
       "      <td>-0.071223</td>\n",
       "      <td>-0.020910</td>\n",
       "      <td>-0.047791</td>\n",
       "      <td>0.096074</td>\n",
       "      <td>0.126621</td>\n",
       "      <td>0.100742</td>\n",
       "      <td>0.026763</td>\n",
       "      <td>0.178168</td>\n",
       "      <td>0.095222</td>\n",
       "      <td>0.058693</td>\n",
       "      <td>0.154991</td>\n",
       "      <td>0.165293</td>\n",
       "      <td>0.122354</td>\n",
       "      <td>1.000000</td>\n",
       "      <td>0.091292</td>\n",
       "    </tr>\n",
       "    <tr>\n",
       "      <th>glucose</th>\n",
       "      <td>-0.021249</td>\n",
       "      <td>0.091433</td>\n",
       "      <td>-0.014591</td>\n",
       "      <td>-0.070051</td>\n",
       "      <td>-0.050637</td>\n",
       "      <td>0.126834</td>\n",
       "      <td>0.011901</td>\n",
       "      <td>0.099324</td>\n",
       "      <td>0.765148</td>\n",
       "      <td>0.096797</td>\n",
       "      <td>0.121851</td>\n",
       "      <td>0.049739</td>\n",
       "      <td>0.087928</td>\n",
       "      <td>0.091292</td>\n",
       "      <td>1.000000</td>\n",
       "    </tr>\n",
       "  </tbody>\n",
       "</table>\n",
       "</div>"
      ],
      "text/plain": [
       "                                male       age  education  currentSmoker  \\\n",
       "TenYearCHD                                                                 \n",
       "0          male             1.000000 -0.037995   0.013328       0.190256   \n",
       "           age             -0.037995  1.000000  -0.156522      -0.208780   \n",
       "           education        0.013328 -0.156522   1.000000       0.029356   \n",
       "           currentSmoker    0.190256 -0.208780   0.029356       1.000000   \n",
       "           cigsPerDay       0.322927 -0.201321   0.012443       0.770615   \n",
       "           BPMeds          -0.048752  0.122244  -0.013629      -0.037586   \n",
       "           prevalentStroke -0.005220  0.032665  -0.015187      -0.042993   \n",
       "           prevalentHyp     0.003986  0.279358  -0.074067      -0.099830   \n",
       "           diabetes         0.003854  0.101203  -0.027814      -0.031952   \n",
       "           totChol         -0.069778  0.289349  -0.028915      -0.047442   \n",
       "           sysBP           -0.050383  0.368465  -0.127588      -0.136679   \n",
       "           diaBP            0.052784  0.204152  -0.067671      -0.123509   \n",
       "           BMI              0.093784  0.134924  -0.138811      -0.167375   \n",
       "           heartRate       -0.126213 -0.005453  -0.065866       0.042152   \n",
       "           glucose         -0.004036  0.101900  -0.030287      -0.055153   \n",
       "1          male             1.000000 -0.101904   0.080395       0.288251   \n",
       "           age             -0.101904  1.000000  -0.106499      -0.295651   \n",
       "           education        0.080395 -0.106499   1.000000       0.010894   \n",
       "           currentSmoker    0.288251 -0.295651   0.010894       1.000000   \n",
       "           cigsPerDay       0.350819 -0.242125   0.040727       0.794715   \n",
       "           BPMeds          -0.107163  0.114394   0.009650      -0.114397   \n",
       "           prevalentStroke -0.012418  0.073270  -0.067784      -0.033005   \n",
       "           prevalentHyp    -0.112147  0.260844  -0.042075      -0.181874   \n",
       "           diabetes         0.010548  0.064170  -0.057301      -0.087448   \n",
       "           totChol         -0.127026  0.078767   0.096077      -0.080974   \n",
       "           sysBP           -0.142647  0.308960  -0.057088      -0.170454   \n",
       "           diaBP           -0.021705  0.075911   0.029803      -0.108613   \n",
       "           BMI             -0.068325  0.057758  -0.106030      -0.136593   \n",
       "           heartRate       -0.071223 -0.020910  -0.047791       0.096074   \n",
       "           glucose         -0.021249  0.091433  -0.014591      -0.070051   \n",
       "\n",
       "                            cigsPerDay    BPMeds  prevalentStroke  \\\n",
       "TenYearCHD                                                          \n",
       "0          male               0.322927 -0.048752        -0.005220   \n",
       "           age               -0.201321  0.122244         0.032665   \n",
       "           education          0.012443 -0.013629        -0.015187   \n",
       "           currentSmoker      0.770615 -0.037586        -0.042993   \n",
       "           cigsPerDay         1.000000 -0.031996        -0.033614   \n",
       "           BPMeds            -0.031996  1.000000         0.153363   \n",
       "           prevalentStroke   -0.033614  0.153363         1.000000   \n",
       "           prevalentHyp      -0.065679  0.253210         0.049253   \n",
       "           diabetes          -0.031517  0.007026        -0.009419   \n",
       "           totChol           -0.028764  0.080330         0.012998   \n",
       "           sysBP             -0.101744  0.243538         0.052784   \n",
       "           diaBP             -0.057145  0.187985         0.047175   \n",
       "           BMI               -0.087520  0.117733         0.038112   \n",
       "           heartRate          0.050344 -0.015271        -0.033892   \n",
       "           glucose           -0.068783 -0.007368         0.009130   \n",
       "1          male               0.350819 -0.107163        -0.012418   \n",
       "           age               -0.242125  0.114394         0.073270   \n",
       "           education          0.040727  0.009650        -0.067784   \n",
       "           currentSmoker      0.794715 -0.114397        -0.033005   \n",
       "           cigsPerDay         1.000000 -0.114667        -0.057237   \n",
       "           BPMeds            -0.114667  1.000000         0.028393   \n",
       "           prevalentStroke   -0.057237  0.028393         1.000000   \n",
       "           prevalentHyp      -0.152279  0.261530         0.088169   \n",
       "           diabetes          -0.076370  0.109181         0.030923   \n",
       "           totChol           -0.065059  0.110477        -0.003375   \n",
       "           sysBP             -0.139513  0.302829         0.051050   \n",
       "           diaBP             -0.098718  0.196529         0.056365   \n",
       "           BMI               -0.112514  0.047855         0.021004   \n",
       "           heartRate          0.126621  0.100742         0.026763   \n",
       "           glucose           -0.050637  0.126834         0.011901   \n",
       "\n",
       "                            prevalentHyp  diabetes   totChol     sysBP  \\\n",
       "TenYearCHD                                                               \n",
       "0          male                 0.003986  0.003854 -0.069778 -0.050383   \n",
       "           age                  0.279358  0.101203  0.289349  0.368465   \n",
       "           education           -0.074067 -0.027814 -0.028915 -0.127588   \n",
       "           currentSmoker       -0.099830 -0.031952 -0.047442 -0.136679   \n",
       "           cigsPerDay          -0.065679 -0.031517 -0.028764 -0.101744   \n",
       "           BPMeds               0.253210  0.007026  0.080330  0.243538   \n",
       "           prevalentStroke      0.049253 -0.009419  0.012998  0.052784   \n",
       "           prevalentHyp         1.000000  0.062579  0.168673  0.689398   \n",
       "           diabetes             0.062579  1.000000  0.027962  0.094461   \n",
       "           totChol              0.168673  0.027962  1.000000  0.225484   \n",
       "           sysBP                0.689398  0.094461  0.225484  1.000000   \n",
       "           diaBP                0.617644  0.042297  0.184853  0.785046   \n",
       "           BMI                  0.306306  0.079187  0.124199  0.336944   \n",
       "           heartRate            0.139004  0.050092  0.098382  0.193360   \n",
       "           glucose              0.056504  0.515629  0.016934  0.109922   \n",
       "1          male                -0.112147  0.010548 -0.127026 -0.142647   \n",
       "           age                  0.260844  0.064170  0.078767  0.308960   \n",
       "           education           -0.042075 -0.057301  0.096077 -0.057088   \n",
       "           currentSmoker       -0.181874 -0.087448 -0.080974 -0.170454   \n",
       "           cigsPerDay          -0.152279 -0.076370 -0.065059 -0.139513   \n",
       "           BPMeds               0.261530  0.109181  0.110477  0.302829   \n",
       "           prevalentStroke      0.088169  0.030923 -0.003375  0.051050   \n",
       "           prevalentHyp         1.000000  0.076282  0.084820  0.678677   \n",
       "           diabetes             0.076282  1.000000  0.078704  0.060868   \n",
       "           totChol              0.084820  0.078704  1.000000  0.132897   \n",
       "           sysBP                0.678677  0.060868  0.132897  1.000000   \n",
       "           diaBP                0.570984  0.025442  0.079798  0.770173   \n",
       "           BMI                  0.239669  0.095037  0.071725  0.268380   \n",
       "           heartRate            0.178168  0.095222  0.058693  0.154991   \n",
       "           glucose              0.099324  0.765148  0.096797  0.121851   \n",
       "\n",
       "                               diaBP       BMI  heartRate   glucose  \n",
       "TenYearCHD                                                           \n",
       "0          male             0.052784  0.093784  -0.126213 -0.004036  \n",
       "           age              0.204152  0.134924  -0.005453  0.101900  \n",
       "           education       -0.067671 -0.138811  -0.065866 -0.030287  \n",
       "           currentSmoker   -0.123509 -0.167375   0.042152 -0.055153  \n",
       "           cigsPerDay      -0.057145 -0.087520   0.050344 -0.068783  \n",
       "           BPMeds           0.187985  0.117733  -0.015271 -0.007368  \n",
       "           prevalentStroke  0.047175  0.038112  -0.033892  0.009130  \n",
       "           prevalentHyp     0.617644  0.306306   0.139004  0.056504  \n",
       "           diabetes         0.042297  0.079187   0.050092  0.515629  \n",
       "           totChol          0.184853  0.124199   0.098382  0.016934  \n",
       "           sysBP            0.785046  0.336944   0.193360  0.109922  \n",
       "           diaBP            1.000000  0.390812   0.181440  0.046344  \n",
       "           BMI              0.390812  1.000000   0.062499  0.073144  \n",
       "           heartRate        0.181440  0.062499   1.000000  0.104330  \n",
       "           glucose          0.046344  0.073144   0.104330  1.000000  \n",
       "1          male            -0.021705 -0.068325  -0.071223 -0.021249  \n",
       "           age              0.075911  0.057758  -0.020910  0.091433  \n",
       "           education        0.029803 -0.106030  -0.047791 -0.014591  \n",
       "           currentSmoker   -0.108613 -0.136593   0.096074 -0.070051  \n",
       "           cigsPerDay      -0.098718 -0.112514   0.126621 -0.050637  \n",
       "           BPMeds           0.196529  0.047855   0.100742  0.126834  \n",
       "           prevalentStroke  0.056365  0.021004   0.026763  0.011901  \n",
       "           prevalentHyp     0.570984  0.239669   0.178168  0.099324  \n",
       "           diabetes         0.025442  0.095037   0.095222  0.765148  \n",
       "           totChol          0.079798  0.071725   0.058693  0.096797  \n",
       "           sysBP            0.770173  0.268380   0.154991  0.121851  \n",
       "           diaBP            1.000000  0.333324   0.165293  0.049739  \n",
       "           BMI              0.333324  1.000000   0.122354  0.087928  \n",
       "           heartRate        0.165293  0.122354   1.000000  0.091292  \n",
       "           glucose          0.049739  0.087928   0.091292  1.000000  "
      ]
     },
     "execution_count": 263,
     "metadata": {},
     "output_type": "execute_result"
    }
   ],
   "source": [
    "chd_group.corr()"
   ]
  },
  {
   "cell_type": "code",
   "execution_count": 264,
   "metadata": {},
   "outputs": [
    {
     "name": "stdout",
     "output_type": "stream",
     "text": [
      "2.1700903775845606\n"
     ]
    }
   ],
   "source": [
    "alpha = 0.03\n",
    "value = -norm.ppf(alpha/2)\n",
    "print(value) # 2.17"
   ]
  },
  {
   "cell_type": "code",
   "execution_count": 265,
   "metadata": {},
   "outputs": [
    {
     "name": "stdout",
     "output_type": "stream",
     "text": [
      "1.8119106729525978\n"
     ]
    }
   ],
   "source": [
    "alpha = 0.07\n",
    "value = -norm.ppf(alpha/2)\n",
    "print(value) # 2.17"
   ]
  },
  {
   "cell_type": "code",
   "execution_count": 266,
   "metadata": {},
   "outputs": [
    {
     "name": "stdout",
     "output_type": "stream",
     "text": [
      "1.9599639845400545\n"
     ]
    }
   ],
   "source": [
    "alpha = 0.05\n",
    "value = -norm.ppf(alpha/2)\n",
    "print(value) # 2.17"
   ]
  },
  {
   "cell_type": "code",
   "execution_count": 267,
   "metadata": {},
   "outputs": [
    {
     "name": "stdout",
     "output_type": "stream",
     "text": [
      "2.575829303548901\n"
     ]
    }
   ],
   "source": [
    "alpha = 0.01\n",
    "value = -norm.ppf(alpha/2)\n",
    "print(value) # 2.17"
   ]
  },
  {
   "cell_type": "code",
   "execution_count": 268,
   "metadata": {},
   "outputs": [
    {
     "ename": "NameError",
     "evalue": "name 't' is not defined",
     "output_type": "error",
     "traceback": [
      "\u001b[1;31m---------------------------------------------------------------------------\u001b[0m",
      "\u001b[1;31mNameError\u001b[0m                                 Traceback (most recent call last)",
      "\u001b[1;32m<ipython-input-268-437b953dde5b>\u001b[0m in \u001b[0;36m<module>\u001b[1;34m\u001b[0m\n\u001b[1;32m----> 1\u001b[1;33m \u001b[0mvalues\u001b[0m\u001b[1;33m=\u001b[0m\u001b[0mt\u001b[0m\u001b[1;33m.\u001b[0m\u001b[0mppf\u001b[0m\u001b[1;33m(\u001b[0m\u001b[1;33m(\u001b[0m\u001b[1;36m1\u001b[0m \u001b[1;33m+\u001b[0m \u001b[1;36m0.95\u001b[0m\u001b[1;33m)\u001b[0m\u001b[1;33m/\u001b[0m\u001b[1;33m(\u001b[0m\u001b[1;36m2\u001b[0m\u001b[1;33m,\u001b[0m \u001b[1;36m100\u001b[0m\u001b[1;33m-\u001b[0m\u001b[1;36m1\u001b[0m\u001b[1;33m)\u001b[0m\u001b[1;33m)\u001b[0m\u001b[1;33m\u001b[0m\u001b[1;33m\u001b[0m\u001b[0m\n\u001b[0m\u001b[0;32m      2\u001b[0m \u001b[0mprint\u001b[0m\u001b[1;33m(\u001b[0m\u001b[0mvalues\u001b[0m\u001b[1;33m)\u001b[0m\u001b[1;33m\u001b[0m\u001b[1;33m\u001b[0m\u001b[0m\n",
      "\u001b[1;31mNameError\u001b[0m: name 't' is not defined"
     ]
    }
   ],
   "source": [
    "values=t.ppf((1 + 0.95)/(2, 100-1))\n",
    "print(values)"
   ]
  },
  {
   "cell_type": "markdown",
   "metadata": {},
   "source": [
    "находим предел погрешности Для случая с неизвестным  предел погрешности"
   ]
  },
  {
   "cell_type": "code",
   "execution_count": 269,
   "metadata": {},
   "outputs": [],
   "source": [
    "def confidence_interval_norm(alpha, sigma, n, mean):\n",
    "    value = -norm.ppf(alpha / 2) * sigma / math.sqrt(n)\n",
    "    return mean - value, mean + value"
   ]
  },
  {
   "cell_type": "code",
   "execution_count": 270,
   "metadata": {},
   "outputs": [],
   "source": [
    "def confidence_interval_t(alpha, s, n, mean):\n",
    "    value = norm.t.ppf(alpha / 2, n - 1) * s / math.sqrt(n)\n",
    "    return mean - value, mean + value"
   ]
  },
  {
   "cell_type": "code",
   "execution_count": 271,
   "metadata": {},
   "outputs": [
    {
     "name": "stdout",
     "output_type": "stream",
     "text": [
      "(3352.6537883505453, 3727.3462116494547)\n"
     ]
    }
   ],
   "source": [
    "norm1=confidence_interval_norm(0.01, 1150, 250, 3540)\n",
    "print(norm1)"
   ]
  },
  {
   "cell_type": "code",
   "execution_count": 272,
   "metadata": {},
   "outputs": [
    {
     "name": "stdout",
     "output_type": "stream",
     "text": [
      "(1930.3389981414127, 2069.6610018585875)\n"
     ]
    }
   ],
   "source": [
    "norm1=confidence_interval_norm(0.5, 400, 15, 2000)\n",
    "print(norm1)"
   ]
  },
  {
   "cell_type": "code",
   "execution_count": 273,
   "metadata": {},
   "outputs": [
    {
     "name": "stdout",
     "output_type": "stream",
     "text": [
      "(1733.9694934581883, 2266.030506541812)\n"
     ]
    }
   ],
   "source": [
    "norm1=confidence_interval_norm(0.01, 400, 15, 2000)\n",
    "print(norm1)"
   ]
  },
  {
   "cell_type": "code",
   "execution_count": 274,
   "metadata": {},
   "outputs": [
    {
     "ename": "AttributeError",
     "evalue": "'norm_gen' object has no attribute 't'",
     "output_type": "error",
     "traceback": [
      "\u001b[1;31m---------------------------------------------------------------------------\u001b[0m",
      "\u001b[1;31mAttributeError\u001b[0m                            Traceback (most recent call last)",
      "\u001b[1;32m<ipython-input-274-93c269c235c1>\u001b[0m in \u001b[0;36m<module>\u001b[1;34m\u001b[0m\n\u001b[1;32m----> 1\u001b[1;33m \u001b[0mnorm2\u001b[0m\u001b[1;33m=\u001b[0m\u001b[0mconfidence_interval_t\u001b[0m\u001b[1;33m(\u001b[0m\u001b[1;36m0.1\u001b[0m\u001b[1;33m,\u001b[0m \u001b[1;36m400\u001b[0m\u001b[1;33m,\u001b[0m \u001b[1;36m15\u001b[0m\u001b[1;33m,\u001b[0m \u001b[1;36m2000\u001b[0m\u001b[1;33m)\u001b[0m\u001b[1;33m\u001b[0m\u001b[1;33m\u001b[0m\u001b[0m\n\u001b[0m\u001b[0;32m      2\u001b[0m \u001b[0mprint\u001b[0m\u001b[1;33m(\u001b[0m\u001b[0mnorm2\u001b[0m\u001b[1;33m)\u001b[0m\u001b[1;33m\u001b[0m\u001b[1;33m\u001b[0m\u001b[0m\n",
      "\u001b[1;32m<ipython-input-270-961dd99f378a>\u001b[0m in \u001b[0;36mconfidence_interval_t\u001b[1;34m(alpha, s, n, mean)\u001b[0m\n\u001b[0;32m      1\u001b[0m \u001b[1;32mdef\u001b[0m \u001b[0mconfidence_interval_t\u001b[0m\u001b[1;33m(\u001b[0m\u001b[0malpha\u001b[0m\u001b[1;33m,\u001b[0m \u001b[0ms\u001b[0m\u001b[1;33m,\u001b[0m \u001b[0mn\u001b[0m\u001b[1;33m,\u001b[0m \u001b[0mmean\u001b[0m\u001b[1;33m)\u001b[0m\u001b[1;33m:\u001b[0m\u001b[1;33m\u001b[0m\u001b[1;33m\u001b[0m\u001b[0m\n\u001b[1;32m----> 2\u001b[1;33m     \u001b[0mvalue\u001b[0m \u001b[1;33m=\u001b[0m \u001b[0mnorm\u001b[0m\u001b[1;33m.\u001b[0m\u001b[0mt\u001b[0m\u001b[1;33m.\u001b[0m\u001b[0mppf\u001b[0m\u001b[1;33m(\u001b[0m\u001b[0malpha\u001b[0m \u001b[1;33m/\u001b[0m \u001b[1;36m2\u001b[0m\u001b[1;33m,\u001b[0m \u001b[0mn\u001b[0m \u001b[1;33m-\u001b[0m \u001b[1;36m1\u001b[0m\u001b[1;33m)\u001b[0m \u001b[1;33m*\u001b[0m \u001b[0ms\u001b[0m \u001b[1;33m/\u001b[0m \u001b[0mmath\u001b[0m\u001b[1;33m.\u001b[0m\u001b[0msqrt\u001b[0m\u001b[1;33m(\u001b[0m\u001b[0mn\u001b[0m\u001b[1;33m)\u001b[0m\u001b[1;33m\u001b[0m\u001b[1;33m\u001b[0m\u001b[0m\n\u001b[0m\u001b[0;32m      3\u001b[0m     \u001b[1;32mreturn\u001b[0m \u001b[0mmean\u001b[0m \u001b[1;33m-\u001b[0m \u001b[0mvalue\u001b[0m\u001b[1;33m,\u001b[0m \u001b[0mmean\u001b[0m \u001b[1;33m+\u001b[0m \u001b[0mvalue\u001b[0m\u001b[1;33m\u001b[0m\u001b[1;33m\u001b[0m\u001b[0m\n",
      "\u001b[1;31mAttributeError\u001b[0m: 'norm_gen' object has no attribute 't'"
     ]
    }
   ],
   "source": [
    "norm2=confidence_interval_t(0.1, 400, 15, 2000)\n",
    "print(norm2)"
   ]
  },
  {
   "cell_type": "code",
   "execution_count": null,
   "metadata": {},
   "outputs": [],
   "source": []
  },
  {
   "cell_type": "code",
   "execution_count": null,
   "metadata": {},
   "outputs": [],
   "source": []
  },
  {
   "cell_type": "code",
   "execution_count": null,
   "metadata": {},
   "outputs": [],
   "source": []
  }
 ],
 "metadata": {
  "colab": {
   "name": "Descriptive_stats.ipynb",
   "provenance": []
  },
  "kernelspec": {
   "display_name": "Python 3",
   "language": "python",
   "name": "python3"
  },
  "language_info": {
   "codemirror_mode": {
    "name": "ipython",
    "version": 3
   },
   "file_extension": ".py",
   "mimetype": "text/x-python",
   "name": "python",
   "nbconvert_exporter": "python",
   "pygments_lexer": "ipython3",
   "version": "3.7.6"
  }
 },
 "nbformat": 4,
 "nbformat_minor": 1
}

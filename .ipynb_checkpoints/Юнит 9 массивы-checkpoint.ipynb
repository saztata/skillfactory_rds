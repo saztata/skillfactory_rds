{
 "cells": [
  {
   "cell_type": "code",
   "execution_count": 2,
   "metadata": {},
   "outputs": [
    {
     "data": {
      "text/plain": [
       "array([ 5,  6,  7,  8,  9, 10], dtype=int64)"
      ]
     },
     "execution_count": 2,
     "metadata": {},
     "output_type": "execute_result"
    }
   ],
   "source": [
    "import numpy as np\n",
    "import pandas as pd\n",
    "my_series = pd.Series([5, 6, 7, 8, 9, 10])\n",
    "my_series.values"
   ]
  },
  {
   "cell_type": "code",
   "execution_count": 2,
   "metadata": {},
   "outputs": [
    {
     "data": {
      "text/plain": [
       "array([7.96650549e-312, 7.95748422e-312, 7.96650549e-312, 7.96650549e-312,\n",
       "       7.96615932e-312])"
      ]
     },
     "execution_count": 2,
     "metadata": {},
     "output_type": "execute_result"
    }
   ],
   "source": [
    "np.empty(5)"
   ]
  },
  {
   "cell_type": "code",
   "execution_count": 3,
   "metadata": {},
   "outputs": [
    {
     "data": {
      "text/plain": [
       "array([[0., 0., 0., 0., 0., 0., 0.],\n",
       "       [0., 0., 0., 0., 0., 0., 0.],\n",
       "       [0., 0., 0., 0., 0., 0., 0.],\n",
       "       [0., 0., 0., 0., 0., 0., 0.],\n",
       "       [0., 0., 0., 0., 0., 0., 0.],\n",
       "       [0., 0., 0., 0., 0., 0., 0.],\n",
       "       [0., 0., 0., 0., 0., 0., 0.],\n",
       "       [0., 0., 0., 0., 0., 0., 0.],\n",
       "       [0., 0., 0., 0., 0., 0., 0.],\n",
       "       [0., 0., 0., 0., 0., 0., 0.]])"
      ]
     },
     "execution_count": 3,
     "metadata": {},
     "output_type": "execute_result"
    }
   ],
   "source": [
    "np.zeros((10, 7))"
   ]
  },
  {
   "cell_type": "code",
   "execution_count": 4,
   "metadata": {},
   "outputs": [
    {
     "data": {
      "text/plain": [
       "array([[[1., 1., 1.],\n",
       "        [1., 1., 1.],\n",
       "        [1., 1., 1.]],\n",
       "\n",
       "       [[1., 1., 1.],\n",
       "        [1., 1., 1.],\n",
       "        [1., 1., 1.]],\n",
       "\n",
       "       [[1., 1., 1.],\n",
       "        [1., 1., 1.],\n",
       "        [1., 1., 1.]]])"
      ]
     },
     "execution_count": 4,
     "metadata": {},
     "output_type": "execute_result"
    }
   ],
   "source": [
    "np.ones((3,3,3))"
   ]
  },
  {
   "cell_type": "code",
   "execution_count": 5,
   "metadata": {},
   "outputs": [
    {
     "data": {
      "text/plain": [
       "array([[1., 0., 0.],\n",
       "       [0., 1., 0.],\n",
       "       [0., 0., 1.]])"
      ]
     },
     "execution_count": 5,
     "metadata": {},
     "output_type": "execute_result"
    }
   ],
   "source": [
    "np.eye(3)"
   ]
  },
  {
   "cell_type": "code",
   "execution_count": 6,
   "metadata": {},
   "outputs": [
    {
     "data": {
      "text/plain": [
       "array([[3.14, 3.14, 3.14, 3.14, 3.14],\n",
       "       [3.14, 3.14, 3.14, 3.14, 3.14],\n",
       "       [3.14, 3.14, 3.14, 3.14, 3.14]])"
      ]
     },
     "execution_count": 6,
     "metadata": {},
     "output_type": "execute_result"
    }
   ],
   "source": [
    "np.full((3, 5), 3.14)"
   ]
  },
  {
   "cell_type": "code",
   "execution_count": 7,
   "metadata": {},
   "outputs": [
    {
     "data": {
      "text/plain": [
       "array([ 0,  7, 14])"
      ]
     },
     "execution_count": 7,
     "metadata": {},
     "output_type": "execute_result"
    }
   ],
   "source": [
    "np.arange(0, 21, 7)"
   ]
  },
  {
   "cell_type": "code",
   "execution_count": 8,
   "metadata": {},
   "outputs": [
    {
     "data": {
      "text/plain": [
       "array([0.  , 0.25, 0.5 , 0.75, 1.  ])"
      ]
     },
     "execution_count": 8,
     "metadata": {},
     "output_type": "execute_result"
    }
   ],
   "source": [
    "np.linspace(0, 1, 5)"
   ]
  },
  {
   "cell_type": "code",
   "execution_count": 9,
   "metadata": {},
   "outputs": [
    {
     "data": {
      "text/plain": [
       "array([[0, 8, 9],\n",
       "       [3, 2, 3],\n",
       "       [8, 2, 3]])"
      ]
     },
     "execution_count": 9,
     "metadata": {},
     "output_type": "execute_result"
    }
   ],
   "source": [
    "np.random.randint(0, 10, (3, 3)) "
   ]
  },
  {
   "cell_type": "code",
   "execution_count": 10,
   "metadata": {},
   "outputs": [
    {
     "data": {
      "text/plain": [
       "array([[  1. ,  57. ,  71. , 127. , 141. , 197. , 211. , 267. , 281. ],\n",
       "       [  0.5,  28.5,  35.5,  63.5,  70.5,  98.5, 105.5, 133.5, 140.5],\n",
       "       [-99. , -43. , -29. ,  27. ,  41. ,  97. , 111. , 167. , 181. ]])"
      ]
     },
     "execution_count": 10,
     "metadata": {},
     "output_type": "execute_result"
    }
   ],
   "source": [
    "my_secret = [x for x in range(1, 301, 7) if x%10 == 7 or x%10 == 1]\n",
    "np.array([my_secret, [x/2 for x in my_secret], [x-100 for x in my_secret]])"
   ]
  },
  {
   "cell_type": "code",
   "execution_count": 11,
   "metadata": {},
   "outputs": [
    {
     "data": {
      "text/plain": [
       "array([1., 1., 1., 1., 1.])"
      ]
     },
     "execution_count": 11,
     "metadata": {},
     "output_type": "execute_result"
    }
   ],
   "source": [
    "np.ones(5)"
   ]
  },
  {
   "cell_type": "code",
   "execution_count": 13,
   "metadata": {},
   "outputs": [
    {
     "data": {
      "text/plain": [
       "array([[1., 1., 1., 1., 1.],\n",
       "       [1., 1., 1., 1., 1.],\n",
       "       [1., 1., 1., 1., 1.],\n",
       "       [1., 1., 1., 1., 1.],\n",
       "       [1., 1., 1., 1., 1.]])"
      ]
     },
     "execution_count": 13,
     "metadata": {},
     "output_type": "execute_result"
    }
   ],
   "source": [
    "np.ones((5,5))"
   ]
  },
  {
   "cell_type": "code",
   "execution_count": 14,
   "metadata": {},
   "outputs": [
    {
     "data": {
      "text/plain": [
       "array([[1, 1, 1, 1, 1],\n",
       "       [1, 1, 1, 1, 1],\n",
       "       [1, 1, 1, 1, 1],\n",
       "       [1, 1, 1, 1, 1],\n",
       "       [1, 1, 1, 1, 1]])"
      ]
     },
     "execution_count": 14,
     "metadata": {},
     "output_type": "execute_result"
    }
   ],
   "source": [
    "np.full((5,5), 1)"
   ]
  },
  {
   "cell_type": "code",
   "execution_count": 15,
   "metadata": {},
   "outputs": [
    {
     "data": {
      "text/plain": [
       "array([[1., 1., 1., 1.],\n",
       "       [1., 1., 1., 1.],\n",
       "       [1., 1., 1., 1.],\n",
       "       [1., 1., 1., 1.]])"
      ]
     },
     "execution_count": 15,
     "metadata": {},
     "output_type": "execute_result"
    }
   ],
   "source": [
    "np.ones((4, 4), dtype=float)"
   ]
  },
  {
   "cell_type": "code",
   "execution_count": 16,
   "metadata": {},
   "outputs": [
    {
     "data": {
      "text/plain": [
       "array([0, 1, 2, 3, 4, 5, 6, 7, 8])"
      ]
     },
     "execution_count": 16,
     "metadata": {},
     "output_type": "execute_result"
    }
   ],
   "source": [
    "np.array(range(9))"
   ]
  },
  {
   "cell_type": "code",
   "execution_count": 17,
   "metadata": {},
   "outputs": [
    {
     "data": {
      "text/plain": [
       "array([[[1., 1.],\n",
       "        [1., 1.]],\n",
       "\n",
       "       [[1., 1.],\n",
       "        [1., 1.]]])"
      ]
     },
     "execution_count": 17,
     "metadata": {},
     "output_type": "execute_result"
    }
   ],
   "source": [
    "np.ones((2,2,2))"
   ]
  },
  {
   "cell_type": "code",
   "execution_count": 18,
   "metadata": {},
   "outputs": [
    {
     "data": {
      "text/plain": [
       "array([1, 3, 5, 7, 9])"
      ]
     },
     "execution_count": 18,
     "metadata": {},
     "output_type": "execute_result"
    }
   ],
   "source": [
    "np.array([i for i in range(11) if i%2])"
   ]
  },
  {
   "cell_type": "code",
   "execution_count": 19,
   "metadata": {},
   "outputs": [
    {
     "data": {
      "text/plain": [
       "array([ 1,  3,  5,  7,  9, 11, 13])"
      ]
     },
     "execution_count": 19,
     "metadata": {},
     "output_type": "execute_result"
    }
   ],
   "source": [
    "np.arange(1, 14, 2)"
   ]
  },
  {
   "cell_type": "code",
   "execution_count": 21,
   "metadata": {},
   "outputs": [
    {
     "data": {
      "text/plain": [
       "5"
      ]
     },
     "execution_count": 21,
     "metadata": {},
     "output_type": "execute_result"
    }
   ],
   "source": [
    "my_array = np.array([x for x in range(10)])\n",
    "my_array[5]"
   ]
  },
  {
   "cell_type": "code",
   "execution_count": 22,
   "metadata": {},
   "outputs": [
    {
     "data": {
      "text/plain": [
       "9"
      ]
     },
     "execution_count": 22,
     "metadata": {},
     "output_type": "execute_result"
    }
   ],
   "source": [
    "my_array = np.array([x for x in range(10)])\n",
    "my_array[-1]"
   ]
  },
  {
   "cell_type": "code",
   "execution_count": 23,
   "metadata": {},
   "outputs": [
    {
     "data": {
      "text/plain": [
       "array([3, 4, 5])"
      ]
     },
     "execution_count": 23,
     "metadata": {},
     "output_type": "execute_result"
    }
   ],
   "source": [
    "my_array = np.array([x for x in range(10)])\n",
    "my_array[3:6]"
   ]
  },
  {
   "cell_type": "code",
   "execution_count": 24,
   "metadata": {},
   "outputs": [
    {
     "data": {
      "text/plain": [
       "array([1, 4, 7])"
      ]
     },
     "execution_count": 24,
     "metadata": {},
     "output_type": "execute_result"
    }
   ],
   "source": [
    "my_array = np.array([x for x in range(10)])\n",
    "my_array[1:8:3]"
   ]
  },
  {
   "cell_type": "code",
   "execution_count": 25,
   "metadata": {},
   "outputs": [
    {
     "data": {
      "text/plain": [
       "12"
      ]
     },
     "execution_count": 25,
     "metadata": {},
     "output_type": "execute_result"
    }
   ],
   "source": [
    "my_array = np.array([[1,2,3,4], [10,11,12,13], [45,46,47,48]])\n",
    "my_array[1][2]"
   ]
  },
  {
   "cell_type": "code",
   "execution_count": 49,
   "metadata": {},
   "outputs": [
    {
     "data": {
      "text/plain": [
       "array([[ 1,  2,  3,  4],\n",
       "       [10, 11, 12, 13],\n",
       "       [45, 46, 47, 48]])"
      ]
     },
     "execution_count": 49,
     "metadata": {},
     "output_type": "execute_result"
    }
   ],
   "source": [
    "my_array = np.array([[1,2,3,4], [10,11,12,13], [45,46,47,48]])\n",
    "my_array"
   ]
  },
  {
   "cell_type": "code",
   "execution_count": 26,
   "metadata": {},
   "outputs": [
    {
     "data": {
      "text/plain": [
       "12"
      ]
     },
     "execution_count": 26,
     "metadata": {},
     "output_type": "execute_result"
    }
   ],
   "source": [
    "my_array = np.array([[1,2,3,4], [10,11,12,13], [45,46,47,48]])\n",
    "my_array[1,2]"
   ]
  },
  {
   "cell_type": "code",
   "execution_count": 27,
   "metadata": {},
   "outputs": [
    {
     "data": {
      "text/plain": [
       "array([10, 11, 12, 13])"
      ]
     },
     "execution_count": 27,
     "metadata": {},
     "output_type": "execute_result"
    }
   ],
   "source": [
    "my_array[1]"
   ]
  },
  {
   "cell_type": "code",
   "execution_count": 28,
   "metadata": {},
   "outputs": [
    {
     "data": {
      "text/plain": [
       "array([ 3, 12, 47])"
      ]
     },
     "execution_count": 28,
     "metadata": {},
     "output_type": "execute_result"
    }
   ],
   "source": [
    "my_array[:,2]"
   ]
  },
  {
   "cell_type": "code",
   "execution_count": 29,
   "metadata": {},
   "outputs": [
    {
     "data": {
      "text/plain": [
       "array([[11, 12],\n",
       "       [46, 47]])"
      ]
     },
     "execution_count": 29,
     "metadata": {},
     "output_type": "execute_result"
    }
   ],
   "source": [
    "my_array[1:,1:3]"
   ]
  },
  {
   "cell_type": "code",
   "execution_count": 48,
   "metadata": {},
   "outputs": [
    {
     "data": {
      "text/plain": [
       "3154.332495807108"
      ]
     },
     "execution_count": 48,
     "metadata": {},
     "output_type": "execute_result"
    }
   ],
   "source": [
    "first_line = [x*y for x in range(2, 100, 6) for y in range (7, 1, -2)]\n",
    "second_line = [x ** 0.5 for x in range(1000, 1101, 2)]\n",
    "third_line = [x**2 for x in range(51)]\n",
    "\n",
    "big_secret = np.array([first_line, second_line, third_line, second_line, first_line])\n",
    "np.shape(big_secret)\n",
    "sum=big_secret[:,50].sum()\n",
    "sum"
   ]
  },
  {
   "cell_type": "code",
   "execution_count": 77,
   "metadata": {},
   "outputs": [
    {
     "name": "stdout",
     "output_type": "stream",
     "text": [
      "121.37188663699624\n"
     ]
    }
   ],
   "source": [
    "first_line = [x*y for x in range(2, 100, 6) for y in range (7, 1, -2)]\n",
    "second_line = [x ** 0.5 for x in range(1000, 1101, 2)]\n",
    "third_line = [x**2 for x in range(51)]\n",
    "\n",
    "big_secret = np.array([first_line, second_line, third_line, second_line, first_line])\n",
    "big_secret2=big_secret[:,0:5]\n",
    "summ=0\n",
    "for i in range(5):\n",
    "    summ+=big_secret2[i-1,i-1]\n",
    "print(summ)\n"
   ]
  },
  {
   "cell_type": "code",
   "execution_count": 84,
   "metadata": {},
   "outputs": [
    {
     "data": {
      "text/plain": [
       "341505315559.2347"
      ]
     },
     "execution_count": 84,
     "metadata": {},
     "output_type": "execute_result"
    }
   ],
   "source": [
    "first_line = [x*y for x in range(2, 100, 6) for y in range (7, 1, -2)]\n",
    "second_line = [x ** 0.5 for x in range(1000, 1101, 2)]\n",
    "third_line = [x**2 for x in range(51)]\n",
    "\n",
    "big_secret = np.array([first_line, second_line, third_line, second_line, first_line])\n",
    "big_secret3=big_secret[:,46:51]\n",
    "big_secret3\n",
    "res=big_secret3[0,0]*big_secret3[1,1]*big_secret3[2,2]*big_secret3[3,3]*big_secret3[4,4]\n",
    "res    "
   ]
  },
  {
   "cell_type": "code",
   "execution_count": 86,
   "metadata": {},
   "outputs": [
    {
     "data": {
      "text/plain": [
       "array([[10, 13, 89, 95, 82, 59],\n",
       "       [ 1, 75, 56, 50, 15, 21],\n",
       "       [41, 47, 47, 56, 56, 99],\n",
       "       [53, 20, 24,  6, 86, 56]])"
      ]
     },
     "execution_count": 86,
     "metadata": {},
     "output_type": "execute_result"
    }
   ],
   "source": [
    "my_array = np.random.randint(1, 100, (4, 6))\n",
    "my_array"
   ]
  },
  {
   "cell_type": "code",
   "execution_count": 87,
   "metadata": {},
   "outputs": [
    {
     "data": {
      "text/plain": [
       "array([[56, 50],\n",
       "       [47, 56]])"
      ]
     },
     "execution_count": 87,
     "metadata": {},
     "output_type": "execute_result"
    }
   ],
   "source": [
    "#Выделим из созданного массива квадрат 2 х 2, содержащий 4 элемента, расположенные в центре матрицы:\n",
    "my_slice = my_array[1:3, 2:4]\n",
    "my_slice"
   ]
  },
  {
   "cell_type": "code",
   "execution_count": 88,
   "metadata": {},
   "outputs": [],
   "source": [
    "my_slice[:] = 0\n",
    "#заменим на нули"
   ]
  },
  {
   "cell_type": "code",
   "execution_count": 89,
   "metadata": {},
   "outputs": [
    {
     "data": {
      "text/plain": [
       "array([[10, 13, 89, 95, 82, 59],\n",
       "       [ 1, 75,  0,  0, 15, 21],\n",
       "       [41, 47,  0,  0, 56, 99],\n",
       "       [53, 20, 24,  6, 86, 56]])"
      ]
     },
     "execution_count": 89,
     "metadata": {},
     "output_type": "execute_result"
    }
   ],
   "source": [
    "my_array"
   ]
  },
  {
   "cell_type": "code",
   "execution_count": 3,
   "metadata": {},
   "outputs": [
    {
     "data": {
      "text/plain": [
       "array([[1.40000000e+01, 1.00000000e+01, 6.00000000e+00, 5.60000000e+01,\n",
       "        4.00000000e+01, 2.40000000e+01, 9.80000000e+01, 7.00000000e+01,\n",
       "        4.20000000e+01, 1.40000000e+02, 1.00000000e+02, 6.00000000e+01,\n",
       "        1.82000000e+02, 1.30000000e+02, 7.80000000e+01, 2.24000000e+02,\n",
       "        1.60000000e+02, 9.60000000e+01, 2.66000000e+02, 1.90000000e+02,\n",
       "        1.14000000e+02, 3.08000000e+02, 2.20000000e+02, 1.32000000e+02,\n",
       "        3.50000000e+02, 2.50000000e+02, 1.50000000e+02, 3.92000000e+02,\n",
       "        2.80000000e+02, 1.68000000e+02, 4.34000000e+02, 3.10000000e+02,\n",
       "        1.86000000e+02, 4.76000000e+02, 3.40000000e+02, 2.04000000e+02,\n",
       "        5.18000000e+02, 3.70000000e+02, 2.22000000e+02, 5.60000000e+02,\n",
       "        4.00000000e+02, 2.40000000e+02, 6.02000000e+02, 4.30000000e+02,\n",
       "        2.58000000e+02, 6.44000000e+02, 4.60000000e+02, 2.76000000e+02,\n",
       "        6.86000000e+02, 4.90000000e+02, 2.94000000e+02],\n",
       "       [3.16227766e+01, 3.16543836e+01, 3.16859590e+01, 3.17175031e+01,\n",
       "        3.17490157e+01, 3.17804972e+01, 3.18119474e+01, 3.18433667e+01,\n",
       "        3.18747549e+01, 3.19061123e+01, 3.19374388e+01, 3.19687347e+01,\n",
       "        3.20000000e+01, 3.20312348e+01, 3.20624391e+01, 3.20936131e+01,\n",
       "        3.21247568e+01, 3.21558704e+01, 3.21869539e+01, 3.22180074e+01,\n",
       "        3.22490310e+01, 3.22800248e+01, 3.23109888e+01, 3.23419233e+01,\n",
       "        3.23728281e+01, 3.24037035e+01, 3.24345495e+01, 3.24653662e+01,\n",
       "        3.24961536e+01, 3.25269119e+01, 3.25576412e+01, 3.25883415e+01,\n",
       "        3.26190129e+01, 3.26496554e+01, 3.26802693e+01, 3.27108545e+01,\n",
       "        3.27414111e+01, 3.27719392e+01, 3.28024389e+01, 3.28329103e+01,\n",
       "        3.28633535e+01, 3.28937684e+01, 3.29241553e+01, 3.29545141e+01,\n",
       "        3.29848450e+01, 3.30151480e+01, 3.30454233e+01, 3.30756708e+01,\n",
       "        3.31058907e+01, 3.31360831e+01, 3.31662479e+01],\n",
       "       [0.00000000e+00, 1.00000000e+00, 4.00000000e+00, 9.00000000e+00,\n",
       "        1.60000000e+01, 2.50000000e+01, 3.60000000e+01, 4.90000000e+01,\n",
       "        6.40000000e+01, 8.10000000e+01, 1.00000000e+02, 1.21000000e+02,\n",
       "        1.44000000e+02, 1.69000000e+02, 1.96000000e+02, 2.25000000e+02,\n",
       "        2.56000000e+02, 2.89000000e+02, 3.24000000e+02, 3.61000000e+02,\n",
       "        4.00000000e+02, 4.41000000e+02, 4.84000000e+02, 5.29000000e+02,\n",
       "        5.76000000e+02, 6.25000000e+02, 6.76000000e+02, 7.29000000e+02,\n",
       "        7.84000000e+02, 8.41000000e+02, 9.00000000e+02, 9.61000000e+02,\n",
       "        1.02400000e+03, 1.08900000e+03, 1.15600000e+03, 1.22500000e+03,\n",
       "        1.29600000e+03, 1.36900000e+03, 1.44400000e+03, 1.52100000e+03,\n",
       "        1.60000000e+03, 1.68100000e+03, 1.76400000e+03, 1.84900000e+03,\n",
       "        1.93600000e+03, 2.02500000e+03, 2.11600000e+03, 2.20900000e+03,\n",
       "        2.30400000e+03, 2.40100000e+03, 2.50000000e+03],\n",
       "       [3.16227766e+01, 3.16543836e+01, 3.16859590e+01, 3.17175031e+01,\n",
       "        3.17490157e+01, 3.17804972e+01, 3.18119474e+01, 3.18433667e+01,\n",
       "        3.18747549e+01, 3.19061123e+01, 3.19374388e+01, 3.19687347e+01,\n",
       "        3.20000000e+01, 3.20312348e+01, 3.20624391e+01, 3.20936131e+01,\n",
       "        3.21247568e+01, 3.21558704e+01, 3.21869539e+01, 3.22180074e+01,\n",
       "        3.22490310e+01, 3.22800248e+01, 3.23109888e+01, 3.23419233e+01,\n",
       "        3.23728281e+01, 3.24037035e+01, 3.24345495e+01, 3.24653662e+01,\n",
       "        3.24961536e+01, 3.25269119e+01, 3.25576412e+01, 3.25883415e+01,\n",
       "        3.26190129e+01, 3.26496554e+01, 3.26802693e+01, 3.27108545e+01,\n",
       "        3.27414111e+01, 3.27719392e+01, 3.28024389e+01, 3.28329103e+01,\n",
       "        3.28633535e+01, 3.28937684e+01, 3.29241553e+01, 3.29545141e+01,\n",
       "        3.29848450e+01, 3.30151480e+01, 3.30454233e+01, 3.30756708e+01,\n",
       "        3.31058907e+01, 3.31360831e+01, 3.31662479e+01],\n",
       "       [1.40000000e+01, 1.00000000e+01, 6.00000000e+00, 5.60000000e+01,\n",
       "        4.00000000e+01, 2.40000000e+01, 9.80000000e+01, 7.00000000e+01,\n",
       "        4.20000000e+01, 1.40000000e+02, 1.00000000e+02, 6.00000000e+01,\n",
       "        1.82000000e+02, 1.30000000e+02, 7.80000000e+01, 2.24000000e+02,\n",
       "        1.60000000e+02, 9.60000000e+01, 2.66000000e+02, 1.90000000e+02,\n",
       "        1.14000000e+02, 3.08000000e+02, 2.20000000e+02, 1.32000000e+02,\n",
       "        3.50000000e+02, 2.50000000e+02, 1.50000000e+02, 3.92000000e+02,\n",
       "        2.80000000e+02, 1.68000000e+02, 4.34000000e+02, 3.10000000e+02,\n",
       "        1.86000000e+02, 4.76000000e+02, 3.40000000e+02, 2.04000000e+02,\n",
       "        5.18000000e+02, 3.70000000e+02, 2.22000000e+02, 5.60000000e+02,\n",
       "        4.00000000e+02, 2.40000000e+02, 6.02000000e+02, 4.30000000e+02,\n",
       "        2.58000000e+02, 6.44000000e+02, 4.60000000e+02, 2.76000000e+02,\n",
       "        6.86000000e+02, 4.90000000e+02, 2.94000000e+02]])"
      ]
     },
     "execution_count": 3,
     "metadata": {},
     "output_type": "execute_result"
    }
   ],
   "source": [
    "first_line = [x*y for x in range(2, 100, 6) for y in range (7, 1, -2)]\n",
    "second_line = [x ** 0.5 for x in range(1000, 1101, 2)]\n",
    "third_line = [x**2 for x in range(51)]\n",
    "\n",
    "big_secret = np.array([first_line, second_line, third_line, second_line, first_line])\n",
    "big_secret"
   ]
  },
  {
   "cell_type": "code",
   "execution_count": 3,
   "metadata": {
    "scrolled": false
   },
   "outputs": [
    {
     "data": {
      "text/plain": [
       "array([[-1.00000000e+00,  1.00000000e+01, -1.00000000e+00,\n",
       "         5.60000000e+01, -1.00000000e+00,  2.40000000e+01,\n",
       "        -1.00000000e+00,  7.00000000e+01, -1.00000000e+00,\n",
       "         1.40000000e+02, -1.00000000e+00,  6.00000000e+01,\n",
       "        -1.00000000e+00,  1.30000000e+02, -1.00000000e+00,\n",
       "         2.24000000e+02, -1.00000000e+00,  9.60000000e+01,\n",
       "        -1.00000000e+00,  1.90000000e+02, -1.00000000e+00,\n",
       "         3.08000000e+02, -1.00000000e+00,  1.32000000e+02,\n",
       "        -1.00000000e+00,  2.50000000e+02, -1.00000000e+00,\n",
       "         3.92000000e+02, -1.00000000e+00,  1.68000000e+02,\n",
       "        -1.00000000e+00,  3.10000000e+02, -1.00000000e+00,\n",
       "         4.76000000e+02, -1.00000000e+00,  2.04000000e+02,\n",
       "        -1.00000000e+00,  3.70000000e+02, -1.00000000e+00,\n",
       "         5.60000000e+02, -1.00000000e+00,  2.40000000e+02,\n",
       "        -1.00000000e+00,  4.30000000e+02, -1.00000000e+00,\n",
       "         6.44000000e+02, -1.00000000e+00,  2.76000000e+02,\n",
       "        -1.00000000e+00,  4.90000000e+02, -1.00000000e+00],\n",
       "       [ 3.16227766e+01,  1.00000000e+00,  3.16859590e+01,\n",
       "         1.00000000e+00,  3.17490157e+01,  1.00000000e+00,\n",
       "         3.18119474e+01,  1.00000000e+00,  3.18747549e+01,\n",
       "         1.00000000e+00,  3.19374388e+01,  1.00000000e+00,\n",
       "         3.20000000e+01,  1.00000000e+00,  3.20624391e+01,\n",
       "         1.00000000e+00,  3.21247568e+01,  1.00000000e+00,\n",
       "         3.21869539e+01,  1.00000000e+00,  3.22490310e+01,\n",
       "         1.00000000e+00,  3.23109888e+01,  1.00000000e+00,\n",
       "         3.23728281e+01,  1.00000000e+00,  3.24345495e+01,\n",
       "         1.00000000e+00,  3.24961536e+01,  1.00000000e+00,\n",
       "         3.25576412e+01,  1.00000000e+00,  3.26190129e+01,\n",
       "         1.00000000e+00,  3.26802693e+01,  1.00000000e+00,\n",
       "         3.27414111e+01,  1.00000000e+00,  3.28024389e+01,\n",
       "         1.00000000e+00,  3.28633535e+01,  1.00000000e+00,\n",
       "         3.29241553e+01,  1.00000000e+00,  3.29848450e+01,\n",
       "         1.00000000e+00,  3.30454233e+01,  1.00000000e+00,\n",
       "         3.31058907e+01,  1.00000000e+00,  3.31662479e+01],\n",
       "       [-1.00000000e+00,  1.00000000e+00, -1.00000000e+00,\n",
       "         9.00000000e+00, -1.00000000e+00,  2.50000000e+01,\n",
       "        -1.00000000e+00,  4.90000000e+01, -1.00000000e+00,\n",
       "         8.10000000e+01, -1.00000000e+00,  1.21000000e+02,\n",
       "        -1.00000000e+00,  1.69000000e+02, -1.00000000e+00,\n",
       "         2.25000000e+02, -1.00000000e+00,  2.89000000e+02,\n",
       "        -1.00000000e+00,  3.61000000e+02, -1.00000000e+00,\n",
       "         4.41000000e+02, -1.00000000e+00,  5.29000000e+02,\n",
       "        -1.00000000e+00,  6.25000000e+02, -1.00000000e+00,\n",
       "         7.29000000e+02, -1.00000000e+00,  8.41000000e+02,\n",
       "        -1.00000000e+00,  9.61000000e+02, -1.00000000e+00,\n",
       "         1.08900000e+03, -1.00000000e+00,  1.22500000e+03,\n",
       "        -1.00000000e+00,  1.36900000e+03, -1.00000000e+00,\n",
       "         1.52100000e+03, -1.00000000e+00,  1.68100000e+03,\n",
       "        -1.00000000e+00,  1.84900000e+03, -1.00000000e+00,\n",
       "         2.02500000e+03, -1.00000000e+00,  2.20900000e+03,\n",
       "        -1.00000000e+00,  2.40100000e+03, -1.00000000e+00],\n",
       "       [ 3.16227766e+01,  1.00000000e+00,  3.16859590e+01,\n",
       "         1.00000000e+00,  3.17490157e+01,  1.00000000e+00,\n",
       "         3.18119474e+01,  1.00000000e+00,  3.18747549e+01,\n",
       "         1.00000000e+00,  3.19374388e+01,  1.00000000e+00,\n",
       "         3.20000000e+01,  1.00000000e+00,  3.20624391e+01,\n",
       "         1.00000000e+00,  3.21247568e+01,  1.00000000e+00,\n",
       "         3.21869539e+01,  1.00000000e+00,  3.22490310e+01,\n",
       "         1.00000000e+00,  3.23109888e+01,  1.00000000e+00,\n",
       "         3.23728281e+01,  1.00000000e+00,  3.24345495e+01,\n",
       "         1.00000000e+00,  3.24961536e+01,  1.00000000e+00,\n",
       "         3.25576412e+01,  1.00000000e+00,  3.26190129e+01,\n",
       "         1.00000000e+00,  3.26802693e+01,  1.00000000e+00,\n",
       "         3.27414111e+01,  1.00000000e+00,  3.28024389e+01,\n",
       "         1.00000000e+00,  3.28633535e+01,  1.00000000e+00,\n",
       "         3.29241553e+01,  1.00000000e+00,  3.29848450e+01,\n",
       "         1.00000000e+00,  3.30454233e+01,  1.00000000e+00,\n",
       "         3.31058907e+01,  1.00000000e+00,  3.31662479e+01],\n",
       "       [-1.00000000e+00,  1.00000000e+01, -1.00000000e+00,\n",
       "         5.60000000e+01, -1.00000000e+00,  2.40000000e+01,\n",
       "        -1.00000000e+00,  7.00000000e+01, -1.00000000e+00,\n",
       "         1.40000000e+02, -1.00000000e+00,  6.00000000e+01,\n",
       "        -1.00000000e+00,  1.30000000e+02, -1.00000000e+00,\n",
       "         2.24000000e+02, -1.00000000e+00,  9.60000000e+01,\n",
       "        -1.00000000e+00,  1.90000000e+02, -1.00000000e+00,\n",
       "         3.08000000e+02, -1.00000000e+00,  1.32000000e+02,\n",
       "        -1.00000000e+00,  2.50000000e+02, -1.00000000e+00,\n",
       "         3.92000000e+02, -1.00000000e+00,  1.68000000e+02,\n",
       "        -1.00000000e+00,  3.10000000e+02, -1.00000000e+00,\n",
       "         4.76000000e+02, -1.00000000e+00,  2.04000000e+02,\n",
       "        -1.00000000e+00,  3.70000000e+02, -1.00000000e+00,\n",
       "         5.60000000e+02, -1.00000000e+00,  2.40000000e+02,\n",
       "        -1.00000000e+00,  4.30000000e+02, -1.00000000e+00,\n",
       "         6.44000000e+02, -1.00000000e+00,  2.76000000e+02,\n",
       "        -1.00000000e+00,  4.90000000e+02, -1.00000000e+00]])"
      ]
     },
     "execution_count": 3,
     "metadata": {},
     "output_type": "execute_result"
    }
   ],
   "source": [
    "first_line = [x*y for x in range(2, 100, 6) for y in range (7, 1, -2)]\n",
    "second_line = [x ** 0.5 for x in range(1000, 1101, 2)]\n",
    "third_line = [x**2 for x in range(51)]\n",
    "\n",
    "big_secret = np.array([first_line, second_line, third_line, second_line, first_line])\n",
    "big_secret[0::2,0::2]=-1\n",
    "big_secret[1::2, 1::2]=1\n",
    "big_secret"
   ]
  },
  {
   "cell_type": "code",
   "execution_count": 8,
   "metadata": {},
   "outputs": [
    {
     "name": "stdout",
     "output_type": "stream",
     "text": [
      "-1.0\n"
     ]
    }
   ],
   "source": [
    "big_secret2=big_secret[:,0:5]\n",
    "big_secret2\n"
   ]
  },
  {
   "cell_type": "code",
   "execution_count": 5,
   "metadata": {},
   "outputs": [
    {
     "data": {
      "text/plain": [
       "-1.0"
      ]
     },
     "execution_count": 5,
     "metadata": {},
     "output_type": "execute_result"
    }
   ],
   "source": [
    "big_secret3=big_secret[:,46:51]\n",
    "big_secret3\n",
    "res=big_secret3[0,0]*big_secret3[1,1]*big_secret3[2,2]*big_secret3[3,3]*big_secret3[4,4]\n",
    "res "
   ]
  },
  {
   "cell_type": "code",
   "execution_count": 9,
   "metadata": {},
   "outputs": [
    {
     "name": "stdout",
     "output_type": "stream",
     "text": [
      "Сумма: [15 21 27]\n",
      "Разность: [9 9 9]\n",
      "Произведение: [ 36  90 162]\n",
      "Частное: [0.25 0.4  0.5 ]\n",
      "Умножение на число: [ 6 12 18]\n"
     ]
    }
   ],
   "source": [
    "a = np.array([3,6,9])\n",
    "b = np.array([12,15,18])\n",
    "\n",
    "result1 = a+b\n",
    "result2 = b-a\n",
    "result3 = a*b\n",
    "result4 = a/b\n",
    "result5 = a*2\n",
    "print('Сумма: {}\\nРазность: {}\\nПроизведение: {}\\nЧастное: {}\\nУмножение на число: {}'.format(result1, result2, result3, result4, result5))"
   ]
  },
  {
   "cell_type": "code",
   "execution_count": 10,
   "metadata": {},
   "outputs": [
    {
     "data": {
      "text/plain": [
       "array([[ 1,  6],\n",
       "       [ 2,  7],\n",
       "       [ 3,  8],\n",
       "       [ 4,  9],\n",
       "       [ 5, 10]])"
      ]
     },
     "execution_count": 10,
     "metadata": {},
     "output_type": "execute_result"
    }
   ],
   "source": [
    "my_array = np.array([[1,2,3,4,5], [6,7,8,9,10]])\n",
    "my_array.T"
   ]
  },
  {
   "cell_type": "code",
   "execution_count": 11,
   "metadata": {},
   "outputs": [
    {
     "data": {
      "text/plain": [
       "array([[8, 8, 5, 0, 9],\n",
       "       [5, 8, 4, 5, 4],\n",
       "       [7, 2, 1, 0, 1],\n",
       "       [0, 9, 0, 2, 7]])"
      ]
     },
     "execution_count": 11,
     "metadata": {},
     "output_type": "execute_result"
    }
   ],
   "source": [
    "my_array = np.random.randint(0, 10, 20)\n",
    "my_array.reshape((4,5))"
   ]
  },
  {
   "cell_type": "code",
   "execution_count": 12,
   "metadata": {},
   "outputs": [
    {
     "data": {
      "text/plain": [
       "array([  1,   2,   3,  11,  22,  33, 111, 222, 333])"
      ]
     },
     "execution_count": 12,
     "metadata": {},
     "output_type": "execute_result"
    }
   ],
   "source": [
    "my_array = np.array([[1,2,3], [11,22,33], [111,222,333]])\n",
    "my_array.flatten()"
   ]
  },
  {
   "cell_type": "code",
   "execution_count": 16,
   "metadata": {},
   "outputs": [
    {
     "data": {
      "text/plain": [
       "array([[9, 6, 8, 0],\n",
       "       [7, 2, 7, 6],\n",
       "       [7, 9, 6, 1]])"
      ]
     },
     "execution_count": 16,
     "metadata": {},
     "output_type": "execute_result"
    }
   ],
   "source": [
    "my_array = np.random.randint(0, 10, (3,4))\n",
    "my_array"
   ]
  },
  {
   "cell_type": "code",
   "execution_count": 17,
   "metadata": {},
   "outputs": [
    {
     "data": {
      "text/plain": [
       "array([[False, False, False,  True],\n",
       "       [False,  True, False, False],\n",
       "       [False, False, False,  True]])"
      ]
     },
     "execution_count": 17,
     "metadata": {},
     "output_type": "execute_result"
    }
   ],
   "source": [
    "my_array<5"
   ]
  },
  {
   "cell_type": "code",
   "execution_count": 18,
   "metadata": {},
   "outputs": [
    {
     "data": {
      "text/plain": [
       "array([0, 2, 1])"
      ]
     },
     "execution_count": 18,
     "metadata": {},
     "output_type": "execute_result"
    }
   ],
   "source": [
    "my_array[my_array<5]"
   ]
  },
  {
   "cell_type": "code",
   "execution_count": 19,
   "metadata": {},
   "outputs": [
    {
     "data": {
      "text/plain": [
       "array([[9, 8],\n",
       "       [7, 7],\n",
       "       [7, 6]])"
      ]
     },
     "execution_count": 19,
     "metadata": {},
     "output_type": "execute_result"
    }
   ],
   "source": [
    "mask = np.array([1, 0, 1, 0], dtype=bool)\n",
    "my_array[:, mask]"
   ]
  },
  {
   "cell_type": "code",
   "execution_count": 22,
   "metadata": {},
   "outputs": [
    {
     "data": {
      "text/plain": [
       "array([[7, 4, 1, 2, 9, 4],\n",
       "       [7, 3, 8, 4, 3, 5],\n",
       "       [6, 4, 0, 8, 5, 1],\n",
       "       [0, 1, 5, 1, 7, 7]])"
      ]
     },
     "execution_count": 22,
     "metadata": {},
     "output_type": "execute_result"
    }
   ],
   "source": [
    "my_array = np.random.randint(0, 10, (4, 6))\n",
    "my_array\n"
   ]
  },
  {
   "cell_type": "code",
   "execution_count": 23,
   "metadata": {},
   "outputs": [
    {
     "data": {
      "text/plain": [
       "array([[1, 2, 4, 4, 7, 9],\n",
       "       [3, 3, 4, 5, 7, 8],\n",
       "       [0, 1, 4, 5, 6, 8],\n",
       "       [0, 1, 1, 5, 7, 7]])"
      ]
     },
     "execution_count": 23,
     "metadata": {},
     "output_type": "execute_result"
    }
   ],
   "source": [
    "np.sort(my_array, axis=1)\n"
   ]
  },
  {
   "cell_type": "code",
   "execution_count": 24,
   "metadata": {},
   "outputs": [
    {
     "data": {
      "text/plain": [
       "array([[0, 1, 0, 1, 3, 1],\n",
       "       [6, 3, 1, 2, 5, 4],\n",
       "       [7, 4, 5, 4, 7, 5],\n",
       "       [7, 4, 8, 8, 9, 7]])"
      ]
     },
     "execution_count": 24,
     "metadata": {},
     "output_type": "execute_result"
    }
   ],
   "source": [
    "\n",
    "np.sort(my_array, axis=0)"
   ]
  },
  {
   "cell_type": "code",
   "execution_count": 26,
   "metadata": {},
   "outputs": [
    {
     "data": {
      "text/plain": [
       "array([[ 0.        ,  4.64158883, 66.66666667],\n",
       "       [ 1.        ,  4.65700951, 40.        ],\n",
       "       [ 1.41421356,  4.67232873, 67.33333333],\n",
       "       [ 1.73205081,  4.68754815, 40.4       ],\n",
       "       [ 2.        ,  4.70266938, 68.        ],\n",
       "       [ 2.23606798,  4.71769398, 40.8       ],\n",
       "       [ 2.44948974,  4.73262349, 68.66666667],\n",
       "       [ 2.64575131,  4.7474594 , 41.2       ],\n",
       "       [ 2.82842712,  4.76220316, 69.33333333],\n",
       "       [ 3.        ,  4.77685618, 41.6       ],\n",
       "       [ 3.16227766,  4.79141986, 70.        ],\n",
       "       [ 3.31662479,  4.80589553, 42.        ],\n",
       "       [ 3.46410162,  4.82028453, 70.66666667],\n",
       "       [ 3.60555128,  4.83458813, 42.4       ],\n",
       "       [ 3.74165739,  4.84880759, 71.33333333],\n",
       "       [ 3.87298335,  4.86294413, 42.8       ],\n",
       "       [ 4.        ,  4.87699896, 72.        ],\n",
       "       [ 4.12310563,  4.89097325, 43.2       ],\n",
       "       [ 4.24264069,  4.90486813, 72.66666667],\n",
       "       [ 4.35889894,  4.91868473, 43.6       ],\n",
       "       [ 4.47213595,  4.93242415, 73.33333333],\n",
       "       [ 4.58257569,  4.94608744, 44.        ],\n",
       "       [ 4.69041576,  4.95967566, 74.        ],\n",
       "       [ 4.79583152,  4.97318983, 44.4       ],\n",
       "       [ 4.89897949,  4.98663095, 74.66666667],\n",
       "       [ 5.        ,  5.        , 44.8       ],\n",
       "       [ 5.09901951,  5.01329793, 75.33333333],\n",
       "       [ 5.19615242,  5.0265257 , 45.2       ],\n",
       "       [ 5.29150262,  5.0396842 , 76.        ],\n",
       "       [ 5.38516481,  5.05277435, 45.6       ],\n",
       "       [ 5.47722558,  5.06579702, 76.66666667],\n",
       "       [ 5.56776436,  5.07875308, 46.        ],\n",
       "       [ 5.65685425,  5.09164337, 77.33333333],\n",
       "       [ 5.74456265,  5.10446872, 46.4       ],\n",
       "       [ 5.83095189,  5.11722995, 78.        ],\n",
       "       [ 5.91607978,  5.12992784, 46.8       ],\n",
       "       [ 6.        ,  5.14256318, 78.66666667],\n",
       "       [ 6.08276253,  5.15513674, 47.2       ],\n",
       "       [ 6.164414  ,  5.16764925, 79.33333333],\n",
       "       [ 6.244998  ,  5.18010147, 47.6       ],\n",
       "       [ 6.32455532,  5.1924941 , 80.        ],\n",
       "       [ 6.40312424,  5.20482786, 48.        ],\n",
       "       [ 6.4807407 ,  5.21710345, 80.66666667],\n",
       "       [ 6.55743852,  5.22932153, 48.4       ],\n",
       "       [ 6.63324958,  5.24148279, 81.33333333],\n",
       "       [ 6.70820393,  5.25358787, 48.8       ],\n",
       "       [ 6.78232998,  5.26563743, 82.        ],\n",
       "       [ 6.8556546 ,  5.27763209, 49.2       ],\n",
       "       [ 6.92820323,  5.28957247, 82.66666667],\n",
       "       [ 7.        ,  5.30145919, 49.6       ],\n",
       "       [ 7.07106781,  5.31329285, 83.33333333],\n",
       "       [ 7.14142843,  5.32507402, 50.        ],\n",
       "       [ 7.21110255,  5.3368033 , 84.        ],\n",
       "       [ 7.28010989,  5.34848124, 50.4       ],\n",
       "       [ 7.34846923,  5.36010841, 84.66666667],\n",
       "       [ 7.41619849,  5.37168535, 50.8       ],\n",
       "       [ 7.48331477,  5.38321261, 85.33333333],\n",
       "       [ 7.54983444,  5.39469071, 51.2       ],\n",
       "       [ 7.61577311,  5.40612018, 86.        ],\n",
       "       [ 7.68114575,  5.41750151, 51.6       ],\n",
       "       [ 7.74596669,  5.42883523, 86.66666667],\n",
       "       [ 7.81024968,  5.44012183, 52.        ],\n",
       "       [ 7.87400787,  5.45136178, 87.33333333],\n",
       "       [ 7.93725393,  5.46255557, 52.4       ],\n",
       "       [ 8.        ,  5.47370367, 88.        ],\n",
       "       [ 8.06225775,  5.48480655, 52.8       ],\n",
       "       [ 8.1240384 ,  5.49586466, 88.66666667],\n",
       "       [ 8.18535277,  5.50687845, 53.2       ],\n",
       "       [ 8.24621125,  5.51784835, 89.33333333],\n",
       "       [ 8.30662386,  5.52877481, 53.6       ],\n",
       "       [ 8.36660027,  5.53965826, 90.        ],\n",
       "       [ 8.42614977,  5.5504991 , 54.        ],\n",
       "       [ 8.48528137,  5.56129777, 90.66666667],\n",
       "       [ 8.54400375,  5.57205466, 54.4       ],\n",
       "       [ 8.60232527,  5.58277017, 91.33333333],\n",
       "       [ 8.66025404,  5.59344471, 54.8       ],\n",
       "       [ 8.71779789,  5.60407866, 92.        ],\n",
       "       [ 8.77496439,  5.61467241, 55.2       ],\n",
       "       [ 8.83176087,  5.62522633, 92.66666667],\n",
       "       [ 8.88819442,  5.63574079, 55.6       ],\n",
       "       [ 8.94427191,  5.64621617, 93.33333333],\n",
       "       [ 9.        ,  5.65665283, 56.        ],\n",
       "       [ 9.05538514,  5.66705111, 94.        ],\n",
       "       [ 9.11043358,  5.67741137, 56.4       ],\n",
       "       [ 9.16515139,  5.68773396, 94.66666667],\n",
       "       [ 9.21954446,  5.69801922, 56.8       ],\n",
       "       [ 9.2736185 ,  5.70826747, 95.33333333],\n",
       "       [ 9.32737905,  5.71847906, 57.2       ],\n",
       "       [ 9.38083152,  5.72865432, 96.        ],\n",
       "       [ 9.43398113,  5.73879355, 57.6       ],\n",
       "       [ 9.48683298,  5.74889708, 96.66666667],\n",
       "       [ 9.53939201,  5.75896522, 58.        ],\n",
       "       [ 9.59166305,  5.76899828, 97.33333333],\n",
       "       [ 9.64365076,  5.77899657, 58.4       ],\n",
       "       [ 9.69535971,  5.78896037, 98.        ],\n",
       "       [ 9.74679434,  5.79889   , 58.8       ],\n",
       "       [ 9.79795897,  5.80878573, 98.66666667],\n",
       "       [ 9.8488578 ,  5.81864787, 59.2       ],\n",
       "       [ 9.89949494,  5.82847668, 99.33333333],\n",
       "       [ 9.94987437,  5.83827246, 59.6       ]])"
      ]
     },
     "execution_count": 26,
     "metadata": {},
     "output_type": "execute_result"
    }
   ],
   "source": [
    "first = [x**(1/2) for x in range(100)]\n",
    "second = [x**(1/3) for x in range(100, 200)]\n",
    "third = [x/y for x in range(200,300,2) for y in [3,5]]\n",
    "\n",
    "great_secret = np.array([first, second, third]).T\n",
    "great_secret"
   ]
  },
  {
   "cell_type": "code",
   "execution_count": 28,
   "metadata": {},
   "outputs": [
    {
     "data": {
      "text/plain": [
       "(100, 3)"
      ]
     },
     "execution_count": 28,
     "metadata": {},
     "output_type": "execute_result"
    }
   ],
   "source": [
    "np.shape(great_secret)"
   ]
  },
  {
   "cell_type": "code",
   "execution_count": 36,
   "metadata": {},
   "outputs": [
    {
     "data": {
      "text/plain": [
       "0.16006721889793019"
      ]
     },
     "execution_count": 36,
     "metadata": {},
     "output_type": "execute_result"
    }
   ],
   "source": [
    "np.cos(great_secret[0,:]).sum()\n"
   ]
  },
  {
   "cell_type": "code",
   "execution_count": 38,
   "metadata": {},
   "outputs": [
    {
     "data": {
      "text/plain": [
       "5470.0"
      ]
     },
     "execution_count": 38,
     "metadata": {},
     "output_type": "execute_result"
    }
   ],
   "source": [
    "great_secret[great_secret>50].sum()\n"
   ]
  },
  {
   "cell_type": "code",
   "execution_count": 40,
   "metadata": {},
   "outputs": [
    {
     "data": {
      "text/plain": [
       "7.0710678118654755"
      ]
     },
     "execution_count": 40,
     "metadata": {},
     "output_type": "execute_result"
    }
   ],
   "source": [
    "res=great_secret.flatten()\n",
    "res[150]\n"
   ]
  },
  {
   "cell_type": "code",
   "execution_count": 65,
   "metadata": {},
   "outputs": [
    {
     "data": {
      "text/plain": [
       "115.12148016521353"
      ]
     },
     "execution_count": 65,
     "metadata": {},
     "output_type": "execute_result"
    }
   ],
   "source": [
    "res1=np.sort(great_secret, axis=0)\n",
    "np.shape(res1)\n",
    "res1[99,:].sum()"
   ]
  },
  {
   "cell_type": "code",
   "execution_count": null,
   "metadata": {},
   "outputs": [],
   "source": []
  },
  {
   "cell_type": "code",
   "execution_count": null,
   "metadata": {},
   "outputs": [],
   "source": []
  }
 ],
 "metadata": {
  "kernelspec": {
   "display_name": "Python 3",
   "language": "python",
   "name": "python3"
  },
  "language_info": {
   "codemirror_mode": {
    "name": "ipython",
    "version": 3
   },
   "file_extension": ".py",
   "mimetype": "text/x-python",
   "name": "python",
   "nbconvert_exporter": "python",
   "pygments_lexer": "ipython3",
   "version": "3.7.6"
  }
 },
 "nbformat": 4,
 "nbformat_minor": 4
}

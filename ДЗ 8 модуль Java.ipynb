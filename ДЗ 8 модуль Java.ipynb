{
 "cells": [
  {
   "cell_type": "code",
   "execution_count": 7,
   "metadata": {},
   "outputs": [
    {
     "name": "stdout",
     "output_type": "stream",
     "text": [
      "1 2 3 4 5 6 8 9 7\n",
      "6\n",
      "4\n"
     ]
    }
   ],
   "source": [
    "A = input().split()\n",
    "K=input() \n",
    "high = len(A) - 1\n",
    "low = 0\n",
    "mid = (high-low) // 2\n",
    "s=0\n",
    "while low <= high:\n",
    "    if K<A[0]:\n",
    "        s=0\n",
    "        break\n",
    "    elif K>A[len(A)-1]:\n",
    "        s = len(A)-1\n",
    "        break\n",
    "    elif A[mid]==K:\n",
    "        s=mid-1\n",
    "        break\n",
    "    elif A[mid] < K < A[mid + 1]:\n",
    "        s = mid\n",
    "        break\n",
    "    elif K > A[mid]:\n",
    "        low = mid + 1\n",
    "    else:\n",
    "        high = mid - 1\n",
    "    mid = (low + high) // 2\n",
    "print(s)\n",
    "\n",
    "\n"
   ]
  },
  {
   "cell_type": "code",
   "execution_count": null,
   "metadata": {},
   "outputs": [],
   "source": [
    "mid = len(A) // "
   ]
  }
 ],
 "metadata": {
  "kernelspec": {
   "display_name": "Python 3",
   "language": "python",
   "name": "python3"
  },
  "language_info": {
   "codemirror_mode": {
    "name": "ipython",
    "version": 3
   },
   "file_extension": ".py",
   "mimetype": "text/x-python",
   "name": "python",
   "nbconvert_exporter": "python",
   "pygments_lexer": "ipython3",
   "version": "3.7.6"
  }
 },
 "nbformat": 4,
 "nbformat_minor": 4
}

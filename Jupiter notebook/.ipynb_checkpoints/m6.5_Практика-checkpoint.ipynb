{
 "cells": [
  {
   "cell_type": "markdown",
   "metadata": {
    "colab_type": "text",
    "id": "SVGEqntXHZeD"
   },
   "source": [
    "# 6.2 Стекинг"
   ]
  },
  {
   "cell_type": "code",
   "execution_count": 1,
   "metadata": {
    "colab": {},
    "colab_type": "code",
    "id": "IREftSDTHZeE"
   },
   "outputs": [],
   "source": [
    "import pandas as pd\n",
    "import numpy as np\n",
    "from sklearn.model_selection import train_test_split, KFold\n",
    "from sklearn.linear_model import LogisticRegression, LinearRegression\n",
    "from sklearn.ensemble import RandomForestClassifier, GradientBoostingClassifier\n",
    "from sklearn.base import clone\n",
    "\n",
    "from sklearn.preprocessing import StandardScaler\n",
    "from sklearn.metrics import accuracy_score\n",
    "from tqdm import tqdm\n",
    "from matplotlib import pyplot as plt\n",
    "\n",
    "%matplotlib inline"
   ]
  },
  {
   "cell_type": "code",
   "execution_count": null,
   "metadata": {
    "colab": {},
    "colab_type": "code",
    "id": "1J0r6DYGHZeH"
   },
   "outputs": [],
   "source": [
    "df = pd.read_csv('https://archive.ics.uci.edu/ml/machine-learning-databases/covtype/covtype.data.gz', sep=',', header=None)[:10000]"
   ]
  },
  {
   "cell_type": "code",
   "execution_count": null,
   "metadata": {
    "colab": {
     "base_uri": "https://localhost:8080/",
     "height": 158
    },
    "colab_type": "code",
    "executionInfo": {
     "elapsed": 5217,
     "status": "ok",
     "timestamp": 1565049091119,
     "user": {
      "displayName": "Anton Kiselev",
      "photoUrl": "https://lh4.googleusercontent.com/-R0_yhRAtjiA/AAAAAAAAAAI/AAAAAAAAPhA/jlUNPh85mOU/s64/photo.jpg",
      "userId": "16522524409032714926"
     },
     "user_tz": -180
    },
    "id": "i7SUi2FRHZeJ",
    "outputId": "a43c76fc-351d-422d-8835-8ef82350b647"
   },
   "outputs": [],
   "source": [
    "df.head(3)"
   ]
  },
  {
   "cell_type": "code",
   "execution_count": 4,
   "metadata": {
    "colab": {
     "base_uri": "https://localhost:8080/",
     "height": 35
    },
    "colab_type": "code",
    "executionInfo": {
     "elapsed": 5210,
     "status": "ok",
     "timestamp": 1565049091120,
     "user": {
      "displayName": "Anton Kiselev",
      "photoUrl": "https://lh4.googleusercontent.com/-R0_yhRAtjiA/AAAAAAAAAAI/AAAAAAAAPhA/jlUNPh85mOU/s64/photo.jpg",
      "userId": "16522524409032714926"
     },
     "user_tz": -180
    },
    "id": "Pjzuwk_aHZeM",
    "outputId": "f5b06513-e119-4705-b6ba-1570c36569c6"
   },
   "outputs": [
    {
     "data": {
      "text/plain": [
       "(10000, 55)"
      ]
     },
     "execution_count": 4,
     "metadata": {
      "tags": []
     },
     "output_type": "execute_result"
    }
   ],
   "source": [
    "df.shape"
   ]
  },
  {
   "cell_type": "code",
   "execution_count": 0,
   "metadata": {
    "colab": {},
    "colab_type": "code",
    "id": "lYKjBKSsHZeO"
   },
   "outputs": [],
   "source": [
    "features = list(range(0, 54))\n",
    "target = 54\n",
    "\n",
    "df = df[(df[target] == 1) | (df[target] == 2)]"
   ]
  },
  {
   "cell_type": "code",
   "execution_count": 0,
   "metadata": {
    "colab": {},
    "colab_type": "code",
    "id": "muwO4M4sHZeQ"
   },
   "outputs": [],
   "source": [
    "cover_train, cover_test = train_test_split(df, test_size=0.5)\n",
    "\n",
    "cover_X_train, cover_y_train = cover_train[features], cover_train[target]\n",
    "cover_X_test, cover_y_test = cover_test[features], cover_test[target]"
   ]
  },
  {
   "cell_type": "code",
   "execution_count": 0,
   "metadata": {
    "colab": {},
    "colab_type": "code",
    "id": "97GG-s4cHZeS"
   },
   "outputs": [],
   "source": [
    "scaler = StandardScaler()\n",
    "cover_X_train = scaler.fit_transform(cover_X_train)\n",
    "cover_X_test = scaler.transform(cover_X_test)"
   ]
  },
  {
   "cell_type": "markdown",
   "metadata": {
    "colab_type": "text",
    "id": "lRnSXWqzKh3x"
   },
   "source": [
    "Stacking — еще один способ объединить несколько алгоритмов в один, который часто используется как в решении реальных задач из промышленной сферы, так и в конкурсах на платформах вроде Kaggle.  \n",
    "Подход использует понятие _базовых классификаторов_, каждый из которых независимо обучается на некотором (возможно одном и том же) множестве признаков, а также _мета-классификатора_, использующего предсказания базовых классификаторов как признаки.\n",
    "\n",
    "Для избежания переобучения будем разбивать обучающую выборку на фолды.  \n",
    "Например, фолды при разбиении на три части:  \n",
    "``==*``  \n",
    "``=*=``  \n",
    "``*==``  \n",
    "\n",
    "Это требуется для того, чтобы получить новые признаки (ответы алгоритмов на первом уровне) на всей обучающей выборке, т.е. ответы алгоритма на тех объектах, которые не были использованы во время обучения. В примере выше мы будем использовать ответы алгоритма, полученные на объектах звездочках. _Важно_: на каждом фолде мы обучаем алгоритм заново."
   ]
  },
  {
   "cell_type": "code",
   "execution_count": 0,
   "metadata": {
    "colab": {},
    "colab_type": "code",
    "id": "hcomzpKcHZeU"
   },
   "outputs": [],
   "source": [
    "def compute_meta_feature(clf, X_train, X_test, y_train, cv):\n",
    "    \"\"\"\n",
    "    Computes meta-features using the classifier.\n",
    "    \n",
    "    :arg clf: scikit-learn classifier\n",
    "    :args X_train, y_train: training set\n",
    "    :arg X_test: testing set\n",
    "    :arg cv: cross-validation folding\n",
    "    \"\"\"\n",
    "    X_meta_train = np.zeros_like(y_train, dtype=np.float32)\n",
    "    for train_fold_index, predict_fold_index in cv.split(X_train):\n",
    "        X_fold_train, X_fold_predict = X_train[train_fold_index], X_train[predict_fold_index]\n",
    "        y_fold_train = y_train[train_fold_index]\n",
    "        \n",
    "        folded_clf = clone(clf)\n",
    "        folded_clf.fit(X_fold_train, y_fold_train)\n",
    "        X_meta_train[predict_fold_index] = folded_clf.predict_proba(X_fold_predict)[:, 1]\n",
    "    \n",
    "    meta_clf = clone(clf)\n",
    "    meta_clf.fit(X_train, y_train)\n",
    "    \n",
    "    X_meta_test = meta_clf.predict_proba(X_test)[:, 1]\n",
    "    \n",
    "    return X_meta_train, X_meta_test"
   ]
  },
  {
   "cell_type": "code",
   "execution_count": 0,
   "metadata": {
    "colab": {},
    "colab_type": "code",
    "id": "IcKj44HrHZeW"
   },
   "outputs": [],
   "source": [
    "def generate_metafeatures(classifiers, X_train, X_test, y_train, cv):\n",
    "    \"\"\"\n",
    "    Generates metafeatures using a list of classifiers.\n",
    "    \n",
    "    :arg classifiers: list of scikit-learn classifiers\n",
    "    :args X_train, y_train: training set\n",
    "    :arg X_test: testing set\n",
    "    :arg cv: cross-validation folding\n",
    "    \"\"\"\n",
    "    features = [\n",
    "        compute_meta_feature(clf, X_train, X_test, y_train, cv)\n",
    "        for clf in tqdm(classifiers)\n",
    "    ]\n",
    "    \n",
    "    stacked_features_train = np.vstack([\n",
    "        features_train for features_train, features_test in features\n",
    "    ]).T\n",
    "\n",
    "    stacked_features_test = np.vstack([\n",
    "        features_test for features_train, features_test in features\n",
    "    ]).T\n",
    "    \n",
    "    return stacked_features_train, stacked_features_test"
   ]
  },
  {
   "cell_type": "code",
   "execution_count": 0,
   "metadata": {
    "colab": {},
    "colab_type": "code",
    "id": "4V6xy7_0HZeY"
   },
   "outputs": [],
   "source": [
    "np.random.seed(42)"
   ]
  },
  {
   "cell_type": "code",
   "execution_count": 11,
   "metadata": {
    "colab": {
     "base_uri": "https://localhost:8080/",
     "height": 35
    },
    "colab_type": "code",
    "executionInfo": {
     "elapsed": 6395,
     "status": "ok",
     "timestamp": 1565049092326,
     "user": {
      "displayName": "Anton Kiselev",
      "photoUrl": "https://lh4.googleusercontent.com/-R0_yhRAtjiA/AAAAAAAAAAI/AAAAAAAAPhA/jlUNPh85mOU/s64/photo.jpg",
      "userId": "16522524409032714926"
     },
     "user_tz": -180
    },
    "id": "Gbv7YXs8HZea",
    "outputId": "35cd300d-f3f9-4055-9967-3dc70b434e51"
   },
   "outputs": [
    {
     "data": {
      "text/plain": [
       "0.7899929527836504"
      ]
     },
     "execution_count": 11,
     "metadata": {
      "tags": []
     },
     "output_type": "execute_result"
    }
   ],
   "source": [
    "clf = GradientBoostingClassifier(n_estimators=300)\n",
    "clf.fit(cover_X_train, cover_y_train)\n",
    "\n",
    "accuracy_score(clf.predict(cover_X_test), cover_y_test)"
   ]
  },
  {
   "cell_type": "code",
   "execution_count": 12,
   "metadata": {
    "colab": {
     "base_uri": "https://localhost:8080/",
     "height": 35
    },
    "colab_type": "code",
    "executionInfo": {
     "elapsed": 23210,
     "status": "ok",
     "timestamp": 1565049109148,
     "user": {
      "displayName": "Anton Kiselev",
      "photoUrl": "https://lh4.googleusercontent.com/-R0_yhRAtjiA/AAAAAAAAAAI/AAAAAAAAPhA/jlUNPh85mOU/s64/photo.jpg",
      "userId": "16522524409032714926"
     },
     "user_tz": -180
    },
    "id": "NmrhIV1aHZec",
    "outputId": "b9817055-7d57-46bd-f66e-8f0bff9c42b5"
   },
   "outputs": [
    {
     "name": "stderr",
     "output_type": "stream",
     "text": [
      "100%|██████████| 4/4 [00:16<00:00,  4.21s/it]\n"
     ]
    }
   ],
   "source": [
    "cv = KFold(n_splits=10, shuffle=True)\n",
    "\n",
    "stacked_features_train, stacked_features_test = generate_metafeatures([\n",
    "    LogisticRegression(C=0.001, penalty='l1', solver='liblinear', max_iter=5000),\n",
    "    LogisticRegression(C=0.001, penalty='l2', solver='liblinear', max_iter=5000),  \n",
    "    RandomForestClassifier(n_estimators=300, n_jobs=-1),\n",
    "    GradientBoostingClassifier(n_estimators=300)\n",
    "], cover_X_train, cover_X_test, cover_y_train.values, cv)"
   ]
  },
  {
   "cell_type": "code",
   "execution_count": 0,
   "metadata": {
    "colab": {},
    "colab_type": "code",
    "id": "KAqWN10ZHZee"
   },
   "outputs": [],
   "source": [
    "total_features_train = np.hstack([cover_X_train, stacked_features_train])\n",
    "total_features_test = np.hstack([cover_X_test, stacked_features_test])"
   ]
  },
  {
   "cell_type": "code",
   "execution_count": 14,
   "metadata": {
    "colab": {
     "base_uri": "https://localhost:8080/",
     "height": 35
    },
    "colab_type": "code",
    "executionInfo": {
     "elapsed": 23203,
     "status": "ok",
     "timestamp": 1565049109150,
     "user": {
      "displayName": "Anton Kiselev",
      "photoUrl": "https://lh4.googleusercontent.com/-R0_yhRAtjiA/AAAAAAAAAAI/AAAAAAAAPhA/jlUNPh85mOU/s64/photo.jpg",
      "userId": "16522524409032714926"
     },
     "user_tz": -180
    },
    "id": "B-wCuCCdHZef",
    "outputId": "1a3137a3-815b-47ea-9fa1-639d4b2bebc2"
   },
   "outputs": [
    {
     "data": {
      "text/plain": [
       "0.8118393234672304"
      ]
     },
     "execution_count": 14,
     "metadata": {
      "tags": []
     },
     "output_type": "execute_result"
    }
   ],
   "source": [
    "np.random.seed(42)\n",
    "clf = LogisticRegression(penalty='none', solver='lbfgs')\n",
    "clf.fit(stacked_features_train, cover_y_train)\n",
    "accuracy_score(clf.predict(stacked_features_test), cover_y_test)"
   ]
  }
 ],
 "metadata": {
  "colab": {
   "collapsed_sections": [],
   "name": "SkillFactory6.2.ipynb",
   "provenance": [],
   "version": "0.3.2"
  },
  "kernelspec": {
   "display_name": "Python 3",
   "language": "python",
   "name": "python3"
  },
  "language_info": {
   "codemirror_mode": {
    "name": "ipython",
    "version": 3
   },
   "file_extension": ".py",
   "mimetype": "text/x-python",
   "name": "python",
   "nbconvert_exporter": "python",
   "pygments_lexer": "ipython3",
   "version": "3.7.6"
  }
 },
 "nbformat": 4,
 "nbformat_minor": 1
}

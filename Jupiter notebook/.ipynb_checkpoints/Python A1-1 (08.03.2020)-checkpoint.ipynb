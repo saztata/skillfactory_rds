{
 "cells": [
  {
   "cell_type": "markdown",
   "metadata": {},
   "source": [
    "#                     Первые шаги в программировании на Python"
   ]
  },
  {
   "cell_type": "markdown",
   "metadata": {},
   "source": [
    "Почему питон и зачем он нужен аналитику?\n",
    "\n",
    "- Когда Excel не справляется с объемом данных\n",
    "\n",
    "- Когда нужны более сложные вычисления, которые в Excel можно сделать только с помощью VBA\n",
    "\n",
    "- Когда нужно получить данные, очистить а потом их сразу же визуализировать\n",
    "\n",
    "- Удобнее чем SQL засчет того, что можно создавать промежуточные переменные. Не нужно создавать сложные подзапросы, можно выполнить код постепенно, голова не взрывается.\n",
    "\n",
    "- Универсальнее чем R, потому что в одном языке можно сделать все: написать скачать данные, очистить, проанализировать, визуализировать, развернуть в виде веб-приложения. \n",
    "\n",
    "- На этом языке можно работать с файловой системой, автоматизировать различные процессы и сокращать количество работы руками \n",
    "\n",
    "- Очень популярный язык. На все ваши вопросы скорее всего есть ответы\n",
    "\n",
    "Минусы у языка тоже есть, но он динамично развивается, комьюнити добавляет все новые и новые модули, упрощая жизнь аналитикам и разработчикам прикладникам, избавляя их от необходимости заниматься тонкой настройкой руками (хотя это очень познавательно)"
   ]
  },
  {
   "cell_type": "markdown",
   "metadata": {},
   "source": [
    "![alt text](https://hsto.org/webt/aj/c7/sl/ajc7slei_e9bazk4jvgmnfntlra.png)\n",
    "\n",
    "Источник: https://habr.com/ru/post/436626/"
   ]
  },
  {
   "cell_type": "markdown",
   "metadata": {},
   "source": [
    "Вот лишь некоторые вещи, которые умеет делать python:\n",
    "\n",
    "    Работа с xml/html файлами\n",
    "    Работа с http запросами\n",
    "    GUI (графический интерфейс)\n",
    "    Создание веб-сценариев\n",
    "    Работа с FTP\n",
    "    Работа с изображениями, аудио и видео файлами\n",
    "    Робототехника\n",
    "    Программирование математических и научных вычислений"
   ]
  },
  {
   "cell_type": "markdown",
   "metadata": {},
   "source": [
    "###  Установка  и настройка Anaconda\n",
    "\n",
    "\n",
    "https://www.anaconda.com/distribution/\n",
    "\n",
    "1. Запустите скачанный инсталлятор. В первом появившемся окне необходимо нажать “Next”.\n",
    "2. Далее следует принять лицензионное соглашение.\n",
    "3. Выберете одну из опций установки:\n",
    "\n",
    "    * Just Me – только для пользователя, запустившего установку;\n",
    "    * All Users – для всех пользователей. (для тех, кто планирует выйти за пределы анализа данных)\n",
    "    \n",
    "4. Укажите путь, по которому будет установлена Anaconda.\n",
    "5. Укажите дополнительные опции:\n",
    "\n",
    "    * Add Anaconda to the system PATH environment variable – добавить Anaconda в системную переменную PATH\n",
    "    * Register Anaconda as the system Python 3.5 – использовать Anaconda, как интерпретатор Python 3.5 по умолчанию.\n",
    "\n",
    "6. Для начала установки нажмите на кнопку “Install”\n",
    "7. После установки программы запустите Jupyter Notebook  (наберите его в поиске)\n",
    "8. В результате запустится веб-сервер и среда разработки в браузере.\n",
    "9. Создайте ноутбук для разработки, для этого нажмите на кнопку New (в правом углу окна) и в появившемся списке выберете Python.\n"
   ]
  },
  {
   "cell_type": "markdown",
   "metadata": {},
   "source": [
    "#### Напишем нашу первую программу - классический hello world\n"
   ]
  },
  {
   "cell_type": "code",
   "execution_count": 5,
   "metadata": {},
   "outputs": [
    {
     "name": "stdout",
     "output_type": "stream",
     "text": [
      "Поздравляем прекрасных женщин и девушек с 8 марта!\n"
     ]
    }
   ],
   "source": [
    "print('Поздравляем прекрасных женщин и девушек с 8 марта!') #код состоит из двух частей - функции вывода print() и строки 'Hello world!'\n",
    "\n",
    "\"\"\"\n",
    "теперь представим что мы хотим усложнить программу так, чтобы она принимала любое значение, \n",
    "которое мы ей передадим, а она  должна это вывести\n",
    "чтобы это сделать нам понадобится другая функция input() и переменная, которая будет хранить в себе то значение, \n",
    "которое мы ей передадим\n",
    "\"\"\"\n",
    "\n",
    "a = 'Hello'\n",
    "\n",
    "\n",
    "\n",
    "\n"
   ]
  },
  {
   "cell_type": "code",
   "execution_count": 6,
   "metadata": {},
   "outputs": [
    {
     "name": "stdout",
     "output_type": "stream",
     "text": [
      "Hello\n"
     ]
    }
   ],
   "source": [
    "print(a)"
   ]
  },
  {
   "cell_type": "markdown",
   "metadata": {},
   "source": [
    "Переменная - это поименованная, либо адресуемая иным способом область памяти, адрес которой можно использовать для осуществления доступа к данным и изменять значение в ходе выполнения программы.\n",
    " \n",
    "a - это переменная, она может менять свое значение, если мы этого захотим (и если не захотим, то тоже может поменять, но это уже  ошибка)\n",
    "\n",
    "Cтроковое значение 'Привет, участники вводного урока!' в рамках языка Python по сути своей является объектом. Объект, в данном случае – это абстракция для представления данных, данные – это числа, списки, строки и т.п. При этом, под данными следует понимать как непосредственно сами объекты, так и отношения между ними (об этом чуть позже). Каждый объект имеет три атрибута – это идентификатор, значение и тип. Идентификатор – это уникальный признак объекта, позволяющий отличать объекты друг от друга, а значение – непосредственно информация, хранящаяся в памяти, которой управляет интерпретатор.\n",
    "\n",
    "подробнее https://devpractice.ru/python-lesson-3-data-model/"
   ]
  },
  {
   "cell_type": "code",
   "execution_count": 13,
   "metadata": {},
   "outputs": [
    {
     "name": "stdout",
     "output_type": "stream",
     "text": [
      "yy\n",
      "результат print: yy\n"
     ]
    }
   ],
   "source": [
    "b = input('так работает функция input: ') #input - функция для ввоода, так же как print() для вывода\n",
    "print('результат print:', b)\n",
    "\n"
   ]
  },
  {
   "cell_type": "code",
   "execution_count": 12,
   "metadata": {},
   "outputs": [
    {
     "name": "stdout",
     "output_type": "stream",
     "text": [
      "4\n",
      "3\n",
      "7\n"
     ]
    }
   ],
   "source": [
    "a = input()\n",
    "b = input()\n",
    "\n",
    "c = int(a) + int(b)\n",
    "print(c)"
   ]
  },
  {
   "cell_type": "code",
   "execution_count": 9,
   "metadata": {},
   "outputs": [
    {
     "name": "stdout",
     "output_type": "stream",
     "text": [
      "12\n"
     ]
    }
   ],
   "source": [
    "a = 5\n",
    "b = 7\n",
    "\n",
    "c = a + b\n",
    "print(c)"
   ]
  },
  {
   "cell_type": "markdown",
   "metadata": {},
   "source": [
    "### Важно\n",
    "Имя переменной не должно совпадать с ключевыми словами интерпретатора Python. \n",
    "Список ключевых слов можно найти здесь. \n",
    "Также его можно получить непосредственно в программе, для этого нужно подключить модуль keyword и воспользоваться командой keyword.kwlist."
   ]
  },
  {
   "cell_type": "code",
   "execution_count": 9,
   "metadata": {},
   "outputs": [
    {
     "name": "stdout",
     "output_type": "stream",
     "text": [
      "Python keywords:  ['False', 'None', 'True', 'and', 'as', 'assert', 'async', 'await', 'break', 'class', 'continue', 'def', 'del', 'elif', 'else', 'except', 'finally', 'for', 'from', 'global', 'if', 'import', 'in', 'is', 'lambda', 'nonlocal', 'not', 'or', 'pass', 'raise', 'return', 'try', 'while', 'with', 'yield']\n"
     ]
    }
   ],
   "source": [
    "import keyword\n",
    "print(\"Python keywords: \", keyword.kwlist)\n",
    "\n"
   ]
  },
  {
   "cell_type": "markdown",
   "metadata": {},
   "source": [
    "### адрес переменной\n",
    "Для того, чтобы посмотреть на объект с каким идентификатором ссылается данная переменная, можно использовать функцию id()."
   ]
  },
  {
   "cell_type": "code",
   "execution_count": 18,
   "metadata": {},
   "outputs": [
    {
     "name": "stdout",
     "output_type": "stream",
     "text": [
      "id a равен  94746092950400\n",
      "id b равен  94746092950432\n"
     ]
    }
   ],
   "source": [
    "a = 4\n",
    "b = 5\n",
    "print('id a равен ', id(a))\n",
    "print('id b равен ', id(b))\n",
    "\n"
   ]
  },
  {
   "cell_type": "code",
   "execution_count": 10,
   "metadata": {},
   "outputs": [
    {
     "name": "stdout",
     "output_type": "stream",
     "text": [
      "id x равен  94691802747776\n",
      "id y равен  94691802747776\n"
     ]
    }
   ],
   "source": [
    "x = 4\n",
    "y = 4\n",
    "print('id x равен ', id(x))\n",
    "print('id y равен ', id(y))"
   ]
  },
  {
   "cell_type": "code",
   "execution_count": 12,
   "metadata": {},
   "outputs": [
    {
     "name": "stdout",
     "output_type": "stream",
     "text": [
      "140717763240464\n"
     ]
    }
   ],
   "source": [
    "a = b\n",
    "print(id(a))"
   ]
  },
  {
   "cell_type": "markdown",
   "metadata": {},
   "source": [
    "### Теперь подробнее про типы данных\n",
    "\n",
    "\n",
    "None (неопределенное значение переменной)\n",
    "\n",
    "Логические переменные (Boolean Type)\n",
    "    * True\n",
    "    * False\n",
    "\n",
    "Числа (Numeric Type)\n",
    "    * int – целое число\n",
    "    * float – число с плавающей точкой\n",
    "    * complex – комплексное число\n",
    "    \n",
    "Списки (Sequence Type)\n",
    "    * list – список\n",
    "    * tuple – кортеж\n",
    "    * range – диапазон\n",
    "    \n",
    "Строки (Text Sequence Type )\n",
    "    * str\n",
    "    \n",
    "Множества (Set Types)\n",
    "    * set – множество\n",
    "    * frozenset – неизменяемое множество\n",
    "    \n",
    "Словари (Mapping Types)\n",
    "    * dict – словарь\n",
    "\n",
    "Подробнее тут: https://devpractice.ru/python-lesson-3-data-model/"
   ]
  },
  {
   "cell_type": "markdown",
   "metadata": {},
   "source": [
    "Тип переменных определяется с помощью функции type()"
   ]
  },
  {
   "cell_type": "code",
   "execution_count": 20,
   "metadata": {},
   "outputs": [
    {
     "name": "stdout",
     "output_type": "stream",
     "text": [
      "Пример строкового типа <class 'str'>\n",
      "Пример числового типа integer <class 'int'>\n",
      "Пример числового типа float <class 'float'>\n",
      "Пример комплексного числа <class 'complex'>\n"
     ]
    }
   ],
   "source": [
    "print('Пример строкового типа', type('5'))\n",
    "print('Пример числового типа integer', type(5))\n",
    "print('Пример числового типа float', type(5.6))\n",
    "print('Пример комплексного числа', type(complex(2, 3)))\n",
    "\n"
   ]
  },
  {
   "cell_type": "code",
   "execution_count": 15,
   "metadata": {},
   "outputs": [
    {
     "data": {
      "text/plain": [
       "(2+3j)"
      ]
     },
     "execution_count": 15,
     "metadata": {},
     "output_type": "execute_result"
    }
   ],
   "source": [
    "complex(2,3)"
   ]
  },
  {
   "cell_type": "code",
   "execution_count": 23,
   "metadata": {
    "scrolled": true
   },
   "outputs": [
    {
     "ename": "TypeError",
     "evalue": "unsupported operand type(s) for -: 'str' and 'int'",
     "output_type": "error",
     "traceback": [
      "\u001b[0;31m---------------------------------------------------------------------------\u001b[0m",
      "\u001b[0;31mTypeError\u001b[0m                                 Traceback (most recent call last)",
      "\u001b[0;32m<ipython-input-23-f153205b21ab>\u001b[0m in \u001b[0;36m<module>\u001b[0;34m\u001b[0m\n\u001b[0;32m----> 1\u001b[0;31m \u001b[0;34m'5'\u001b[0m \u001b[0;34m-\u001b[0m \u001b[0;36m5\u001b[0m\u001b[0;34m\u001b[0m\u001b[0;34m\u001b[0m\u001b[0m\n\u001b[0m",
      "\u001b[0;31mTypeError\u001b[0m: unsupported operand type(s) for -: 'str' and 'int'"
     ]
    }
   ],
   "source": [
    "'5' - 5"
   ]
  },
  {
   "cell_type": "code",
   "execution_count": 22,
   "metadata": {},
   "outputs": [
    {
     "data": {
      "text/plain": [
       "25"
      ]
     },
     "execution_count": 22,
     "metadata": {},
     "output_type": "execute_result"
    }
   ],
   "source": [
    "5*5"
   ]
  },
  {
   "cell_type": "code",
   "execution_count": 24,
   "metadata": {},
   "outputs": [],
   "source": [
    "a = 'ПРИВЕТ!'"
   ]
  },
  {
   "cell_type": "code",
   "execution_count": 25,
   "metadata": {},
   "outputs": [
    {
     "data": {
      "text/plain": [
       "'привет!'"
      ]
     },
     "execution_count": 25,
     "metadata": {},
     "output_type": "execute_result"
    }
   ],
   "source": [
    "a.lower()\n",
    "\n"
   ]
  },
  {
   "cell_type": "code",
   "execution_count": 26,
   "metadata": {},
   "outputs": [],
   "source": [
    "b = 5"
   ]
  },
  {
   "cell_type": "code",
   "execution_count": 27,
   "metadata": {},
   "outputs": [
    {
     "ename": "AttributeError",
     "evalue": "'int' object has no attribute 'lower'",
     "output_type": "error",
     "traceback": [
      "\u001b[0;31m---------------------------------------------------------------------------\u001b[0m",
      "\u001b[0;31mAttributeError\u001b[0m                            Traceback (most recent call last)",
      "\u001b[0;32m<ipython-input-27-f49f43073129>\u001b[0m in \u001b[0;36m<module>\u001b[0;34m\u001b[0m\n\u001b[0;32m----> 1\u001b[0;31m \u001b[0mprint\u001b[0m\u001b[0;34m(\u001b[0m\u001b[0mb\u001b[0m\u001b[0;34m.\u001b[0m\u001b[0mlower\u001b[0m\u001b[0;34m(\u001b[0m\u001b[0;34m)\u001b[0m\u001b[0;34m)\u001b[0m\u001b[0;34m\u001b[0m\u001b[0;34m\u001b[0m\u001b[0m\n\u001b[0m",
      "\u001b[0;31mAttributeError\u001b[0m: 'int' object has no attribute 'lower'"
     ]
    }
   ],
   "source": [
    "print(b.lower())"
   ]
  },
  {
   "cell_type": "code",
   "execution_count": 20,
   "metadata": {},
   "outputs": [
    {
     "data": {
      "text/plain": [
       "[1, 2, 4, 1, 2, 4]"
      ]
     },
     "execution_count": 20,
     "metadata": {},
     "output_type": "execute_result"
    }
   ],
   "source": [
    "[1, 2, 4] * 2"
   ]
  },
  {
   "cell_type": "code",
   "execution_count": 29,
   "metadata": {},
   "outputs": [
    {
     "data": {
      "text/plain": [
       "True"
      ]
     },
     "execution_count": 29,
     "metadata": {},
     "output_type": "execute_result"
    }
   ],
   "source": [
    "a = 5\n",
    "a == 5"
   ]
  },
  {
   "cell_type": "markdown",
   "metadata": {},
   "source": [
    "### Операторы в Python:\n",
    "* Арифметические операторы\n",
    "* Операторы сравнения (реляционные)\n",
    "* Операторы присваивания\n",
    "* Побитовые операторы\n",
    "* Логические операторы\n",
    "* Операторы членства (Membership operators)\n",
    "* Операторы тождественности (Identity operators)\n",
    "\n",
    "\n",
    "Подробнее тут http://pythonicway.com/python-operators"
   ]
  },
  {
   "cell_type": "code",
   "execution_count": 19,
   "metadata": {},
   "outputs": [
    {
     "name": "stdout",
     "output_type": "stream",
     "text": [
      "8\n",
      "3\n",
      "8\n",
      "2.0\n",
      "1\n",
      "7\n",
      "16\n"
     ]
    }
   ],
   "source": [
    "#Арифметические операторы:\n",
    "\n",
    "print(4+4) #Суммирует значения слева и справа от оператора\n",
    "print(4-1) #Вычитание - Вычитает правый операнд из левого\n",
    "print(4*2) #Умножение - Перемножает операнды\n",
    "print(4/2) #Деление - Делит левый операнд на правый\n",
    "print(5%2) #Деление по модулю - Делит левый операнд на правый и возвращает остаток.\n",
    "print(15//2) # \tЦелочисленное деление - Деление в котором возвращается только целая часть результата. Часть после запятой отбрасывается.\n",
    "print(4**2) #возведение в степень\n",
    "    \n"
   ]
  },
  {
   "cell_type": "code",
   "execution_count": 30,
   "metadata": {
    "scrolled": true
   },
   "outputs": [
    {
     "name": "stdout",
     "output_type": "stream",
     "text": [
      "False\n",
      "True\n",
      "False\n",
      "True\n",
      "False\n",
      "True\n"
     ]
    }
   ],
   "source": [
    "#Операторы сравнения в Python:\n",
    "\n",
    "print(4 == 5) #Проверяет равны ли оба операнда. Если да, то условие становится истинным.\n",
    "print(4 != 5) #Проверяет равны ли оба операнда. Если нет, то условие становится истинным.\n",
    "print(4 > 5)#Проверяет больше ли значение левого операнда, чем значение правого. Если да, то условие становится истинным.\n",
    "print(4 < 5)#Проверяет меньше ли значение левого операнда, чем значение правого. Если да, то условие становится истинным.\n",
    "print(4 >= 5)#Проверяет больше или равно значение левого операнда, чем значение правого. Если да, то условие становится истинным.\n",
    "print(4 <= 6)#Проверяет меньше или равно значение левого операнда, чем значение правого. Если да, то условие становится истинным."
   ]
  },
  {
   "cell_type": "code",
   "execution_count": 24,
   "metadata": {},
   "outputs": [
    {
     "name": "stdout",
     "output_type": "stream",
     "text": [
      "10\n",
      "55\n",
      "55555\n"
     ]
    }
   ],
   "source": [
    "# print(5 + '5')\n",
    "print(5+5)\n",
    "print('5'+'5')\n",
    "\n",
    "print(5 * '5')"
   ]
  },
  {
   "cell_type": "markdown",
   "metadata": {},
   "source": [
    "### Изменяемые и неизменяемые типы данных\n",
    "\n",
    "В Python существуют изменяемые и неизменяемые типы.\n",
    "\n",
    "К неизменяемым (immutable) типам относятся: целые числа (int),  числа с плавающей точкой (float), комплексные числа (complex), логические переменные (bool), кортежи (tuple), строки (str) и неизменяемые множества (frozen set).\n",
    "\n",
    "К изменяемым (mutable) типам относятся: списки (list), множества (set), словари (dict).\n",
    "\n",
    "Как уже было сказано ранее, при создании переменной, вначале создается объект, который имеет уникальный идентификатор, тип и значение, после этого переменная может ссылаться на созданный объект.\n",
    "\n",
    "Неизменяемость типа данных означает, что созданный объект больше не изменяется. Например, если мы объявим переменную k = 15, то будет создан объект со значением 15, типа int и идентификатором, который можно узнать с помощью функции id().\n",
    "\n",
    "Если тип данных изменяемый, то можно менять значение объекта. Например, создадим список [1, 2], а потом заменим второй элемент на 3.\n"
   ]
  },
  {
   "cell_type": "code",
   "execution_count": 30,
   "metadata": {},
   "outputs": [
    {
     "name": "stdout",
     "output_type": "stream",
     "text": [
      "Изначальный список [1, 2]\n",
      "Измененный список [1, 3]\n"
     ]
    }
   ],
   "source": [
    "arr = [1, 2]\n",
    "print('Изначальный список', arr)\n",
    "arr[1] = 3\n",
    "print('Измененный список', arr)\n"
   ]
  },
  {
   "cell_type": "markdown",
   "metadata": {},
   "source": [
    "### Условные конструкции\n",
    "\n",
    "Условия в python, если мы хотим чтобы программа работала по-разному в зависимости от значений переменных с которой она работает, то мы применяем условия\n"
   ]
  },
  {
   "cell_type": "code",
   "execution_count": 38,
   "metadata": {},
   "outputs": [
    {
     "name": "stdout",
     "output_type": "stream",
     "text": [
      "5\n",
      "Оставляем как есть, ответ:  5\n"
     ]
    }
   ],
   "source": [
    "\n",
    "x = int(input()) #это нам нужно для того чтобы сделать введенные данные числом  (объектом типа int)\n",
    "if x > 0:\n",
    "    print('Оставляем как есть, ответ: ', x)\n",
    "else:\n",
    "    print('Убираем минус, ответ: ', -x)\n",
    "    \n"
   ]
  },
  {
   "cell_type": "code",
   "execution_count": 36,
   "metadata": {},
   "outputs": [
    {
     "data": {
      "text/plain": [
       "False"
      ]
     },
     "execution_count": 36,
     "metadata": {},
     "output_type": "execute_result"
    }
   ],
   "source": [
    "-5>0"
   ]
  },
  {
   "cell_type": "markdown",
   "metadata": {},
   "source": [
    "Условия в Python \n",
    "Для того, чтобы программа работала в зависимости от наших условий, мы прибегаем к ключевым словам  **if** и **else**\n",
    "\n",
    "После слова if указывается проверяемое условие (x > 0), завершающееся двоеточием. \n",
    "\n",
    "После этого идет блок последовательность) инструкций, который будет выполнен, если условие истинно, в нашем примере это вывод на экран величины x. Затем идет слово else (иначе), также завершающееся двоеточием, и блок инструкций, который будет выполнен, если проверяемое условие неверно, в данном случае будет выведено значение -x.\n",
    "\n",
    "Итак, условная инструкция в Питоне имеет следующий синтаксис:\n",
    "\n",
    "`if Условие:\n",
    "    Блок инструкций 1\n",
    "else:\n",
    "    Блок инструкций 2`\n"
   ]
  },
  {
   "cell_type": "code",
   "execution_count": 42,
   "metadata": {},
   "outputs": [
    {
     "name": "stdout",
     "output_type": "stream",
     "text": [
      "hello 1\n"
     ]
    }
   ],
   "source": [
    "x = 4\n",
    "if x>2:\n",
    "    print(\"hello 1\")"
   ]
  },
  {
   "cell_type": "code",
   "execution_count": 49,
   "metadata": {},
   "outputs": [
    {
     "name": "stdout",
     "output_type": "stream",
     "text": [
      "hi\n"
     ]
    }
   ],
   "source": [
    "if 0:\n",
    "    print(\"hello 1\")\n",
    "\n",
    "else: \n",
    "    print('hi')"
   ]
  },
  {
   "cell_type": "code",
   "execution_count": 43,
   "metadata": {},
   "outputs": [],
   "source": [
    "if 0>0:\n",
    "    print('hello')\n",
    "\n"
   ]
  },
  {
   "cell_type": "code",
   "execution_count": 51,
   "metadata": {},
   "outputs": [
    {
     "name": "stdout",
     "output_type": "stream",
     "text": [
      "4\n",
      "3\n",
      "x больше y, оставляем как есть, ответ:  4\n",
      "hi\n"
     ]
    }
   ],
   "source": [
    "# В условиях могут быть вложены другие условия\n",
    "\n",
    "x = int(input())\n",
    "y = int(input())\n",
    "\n",
    "if x > 0:\n",
    "    if x > y: \n",
    "        print('x больше y, оставляем как есть, ответ: ', x)\n",
    "        if x==4:\n",
    "            print('hi')\n",
    "    elif x < y:\n",
    "        print('x меньше y, умножаем на два, ответ: ', x*2)\n",
    "    else:\n",
    "        print('условие по умолчанию', x)\n",
    "else:\n",
    "    print('Убираем минус, ответ: ', -x)"
   ]
  },
  {
   "cell_type": "code",
   "execution_count": 52,
   "metadata": {},
   "outputs": [
    {
     "data": {
      "text/plain": [
       "8.0"
      ]
     },
     "execution_count": 52,
     "metadata": {},
     "output_type": "execute_result"
    }
   ],
   "source": [
    "import math\n",
    "math.sqrt(64)\n"
   ]
  },
  {
   "cell_type": "markdown",
   "metadata": {},
   "source": [
    "Цикл while (“пока”) позволяет выполнить одну и ту же последовательность действий, \n",
    "пока проверяемое условие истинно. Условие записывается до тела цикла и проверяется до выполнения тела цикла.\n",
    "Как правило, цикл while используется, когда невозможно определить точное значение количества проходов исполнения цикла. Реальный пример - работа с датами, когда нас интересует данные до определенного периода\n",
    "\n",
    "https://pythontutor.ru/lessons/while/"
   ]
  },
  {
   "cell_type": "code",
   "execution_count": 35,
   "metadata": {},
   "outputs": [
    {
     "name": "stdout",
     "output_type": "stream",
     "text": [
      "1\n",
      "2\n",
      "3\n",
      "4\n",
      "5\n",
      "6\n",
      "7\n",
      "8\n",
      "9\n"
     ]
    }
   ],
   "source": [
    "a = 1\n",
    "while a < 10: # условие цикла\n",
    "    #тело цикла\n",
    "    print(a)\n",
    "    a = a + 1\n",
    "\n"
   ]
  },
  {
   "cell_type": "markdown",
   "metadata": {},
   "source": [
    "http://pythontutor.com/\n",
    "\n",
    "\n",
    "\n"
   ]
  },
  {
   "cell_type": "code",
   "execution_count": 37,
   "metadata": {},
   "outputs": [
    {
     "ename": "IndentationError",
     "evalue": "unindent does not match any outer indentation level (<tokenize>, line 7)",
     "output_type": "error",
     "traceback": [
      "\u001b[0;36m  File \u001b[0;32m\"<tokenize>\"\u001b[0;36m, line \u001b[0;32m7\u001b[0m\n\u001b[0;31m    a = a + 1\u001b[0m\n\u001b[0m    ^\u001b[0m\n\u001b[0;31mIndentationError\u001b[0m\u001b[0;31m:\u001b[0m unindent does not match any outer indentation level\n"
     ]
    }
   ],
   "source": [
    "#усложним задачу условием на четность\n",
    "\n",
    "a = 1\n",
    "while a < 10:\n",
    "    if a%2 != 0:               \n",
    "        print(a)\n",
    "    a = a + 1\n",
    "    \n"
   ]
  },
  {
   "cell_type": "markdown",
   "metadata": {},
   "source": [
    "Cписки - наши лучшие друзья\n",
    "\n",
    "Списки в Python - упорядоченные изменяемые коллекции объектов произвольных типов (почти как массив, но типы могут отличаться).\n",
    "\n",
    "Cамый простой пример списка для аналитика - это значения столбца в экселевской таблице\n",
    "\n",
    "Cама же таблица - это как словарь, но об этом позже"
   ]
  },
  {
   "cell_type": "code",
   "execution_count": 27,
   "metadata": {},
   "outputs": [
    {
     "name": "stdout",
     "output_type": "stream",
     "text": [
      "[5, 6, 26, 18, 88]\n",
      "[0, 1, 2, 3, 4, 5, 6, 7, 8, 9]\n"
     ]
    }
   ],
   "source": [
    "array = [5, 6, 26, 18, 88]\n",
    "print(array)\n",
    "print(list(range(10)))\n"
   ]
  },
  {
   "cell_type": "markdown",
   "metadata": {},
   "source": [
    "### Цикл for\n",
    "Цикл for уже чуточку сложнее, чуть менее универсальный, но выполняется гораздо быстрее цикла while. \n",
    "\n",
    "Этот цикл проходится по любому итерируемому объекту (например строке или списку), и во время каждого прохода выполняет тело цикла."
   ]
  },
  {
   "cell_type": "code",
   "execution_count": 28,
   "metadata": {},
   "outputs": [
    {
     "name": "stdout",
     "output_type": "stream",
     "text": [
      "6.0\n",
      "7.199999999999999\n",
      "31.2\n",
      "21.599999999999998\n",
      "105.6\n"
     ]
    }
   ],
   "source": [
    "for i in array:\n",
    "    print(i * 1.2)\n",
    "\n"
   ]
  },
  {
   "cell_type": "code",
   "execution_count": 30,
   "metadata": {},
   "outputs": [
    {
     "name": "stdout",
     "output_type": "stream",
     "text": [
      "7.5\n",
      "9.0\n",
      "31.2\n",
      "21.599999999999998\n",
      "105.6\n"
     ]
    }
   ],
   "source": [
    "for i in array:\n",
    "    if i < 10:\n",
    "        print(i*1.5)\n",
    "    else:\n",
    "        print(i*1.2)"
   ]
  },
  {
   "cell_type": "code",
   "execution_count": 31,
   "metadata": {},
   "outputs": [
    {
     "name": "stdout",
     "output_type": "stream",
     "text": [
      "6\n",
      "9\n"
     ]
    }
   ],
   "source": [
    "#а ещё списки могут быть вложены друг в друга представим, очень часто такое встречается в данных, полученных из REST API\n",
    "\n",
    "array_of_arrays = [[1, 2, 3], [4, 5 ,6]]\n",
    "\n",
    "for i in array_of_arrays:\n",
    "    summ = 0\n",
    "    for j in i:\n",
    "        if j <6:\n",
    "            summ = summ + j\n",
    "    print(summ)"
   ]
  },
  {
   "cell_type": "markdown",
   "metadata": {},
   "source": [
    "### Спасибо за внимание! Буду рад ответить на ваши вопросы\n",
    "    \n",
    "Полезные обучающие ссылки:\n",
    "    \n",
    "https://www.w3schools.com/python/python_operators.asp - хороший тренажер для отработки синтаксиса, нужно знание английского\n",
    "\n",
    "https://stepik.org/course/67/syllabus - отличный курс с задачами и примерами, местами сложный, но очень крутой\n",
    "\n",
    "Книги для аналитиков-питонщиков, можно найти по поиску документов в одной популярной российской социальной сети ;)\n",
    "\n",
    "\"Python и анализ данных\" Уэс Маккинли\n",
    "\n",
    "\"Автоматизация рутинных задач с помощью python\" Эл Свейгарт\n",
    "\n",
    "http://pythontutor.com/visualize.html#mode=edit визуализатор выполнения кода \n"
   ]
  },
  {
   "cell_type": "code",
   "execution_count": 60,
   "metadata": {},
   "outputs": [
    {
     "data": {
      "text/plain": [
       "3.0"
      ]
     },
     "execution_count": 60,
     "metadata": {},
     "output_type": "execute_result"
    }
   ],
   "source": [
    "27**(1/3)"
   ]
  }
 ],
 "metadata": {
  "kernelspec": {
   "display_name": "Python 3",
   "language": "python",
   "name": "python3"
  },
  "language_info": {
   "codemirror_mode": {
    "name": "ipython",
    "version": 3
   },
   "file_extension": ".py",
   "mimetype": "text/x-python",
   "name": "python",
   "nbconvert_exporter": "python",
   "pygments_lexer": "ipython3",
   "version": "3.7.6"
  }
 },
 "nbformat": 4,
 "nbformat_minor": 2
}

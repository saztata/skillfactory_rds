{
 "cells": [
  {
   "cell_type": "code",
   "execution_count": 1,
   "metadata": {},
   "outputs": [
    {
     "name": "stdout",
     "output_type": "stream",
     "text": [
      "array('i', [1, 2, 3, 4, 5, 6])\n"
     ]
    }
   ],
   "source": [
    "from array import*\n",
    "a = array('i', [1, 2, 3, 4, 5])\n",
    "a.append(6)\n",
    "print(a)"
   ]
  },
  {
   "cell_type": "code",
   "execution_count": 2,
   "metadata": {},
   "outputs": [
    {
     "name": "stdout",
     "output_type": "stream",
     "text": [
      "array('i', [1, 7, 2, 3, 4, 5, 6])\n"
     ]
    }
   ],
   "source": [
    "from array import*\n",
    "a = array('i', [1, 2, 3, 4, 5, 6])\n",
    "a.insert(1,7)\n",
    "print(a)"
   ]
  },
  {
   "cell_type": "code",
   "execution_count": 3,
   "metadata": {},
   "outputs": [
    {
     "name": "stdout",
     "output_type": "stream",
     "text": [
      "array('i', [1, 2, 3, 4, 5, 6])\n"
     ]
    },
    {
     "data": {
      "text/plain": [
       "array('i', [1, 2, 3, 4, 5, 6])"
      ]
     },
     "execution_count": 3,
     "metadata": {},
     "output_type": "execute_result"
    }
   ],
   "source": [
    "from array import*\n",
    "a = array('i', [1, 2, 3])\n",
    "b = array('i', [4, 5, 6])\n",
    "a.extend(b)\n",
    "print(a)\n",
    "array('i', [1, 2, 3, 4, 5, 6])"
   ]
  },
  {
   "cell_type": "code",
   "execution_count": 4,
   "metadata": {},
   "outputs": [
    {
     "name": "stdout",
     "output_type": "stream",
     "text": [
      "array('i', [1, 3, 4, 5, 6])\n"
     ]
    },
    {
     "data": {
      "text/plain": [
       "array('i', [1, 3, 4, 5, 6])"
      ]
     },
     "execution_count": 4,
     "metadata": {},
     "output_type": "execute_result"
    }
   ],
   "source": [
    "from array import*\n",
    "a = array('i', [1, 2, 3, 4, 5, 6])\n",
    "a.remove(2)\n",
    "print(a)\n",
    "array('i', [1, 3, 4, 5, 6])"
   ]
  },
  {
   "cell_type": "code",
   "execution_count": 5,
   "metadata": {},
   "outputs": [
    {
     "name": "stdout",
     "output_type": "stream",
     "text": [
      "array('i', [1, 2, 3, 4, 5])\n",
      "array('i', [1, 2, 4, 5])\n"
     ]
    },
    {
     "data": {
      "text/plain": [
       "array('i', [1, 3, 4, 5])"
      ]
     },
     "execution_count": 5,
     "metadata": {},
     "output_type": "execute_result"
    }
   ],
   "source": [
    "from array import*\n",
    "a = array('i', [1, 2, 3, 4, 5, 6])\n",
    "a.pop()\n",
    "print(a)\n",
    "array('i', [1, 2, 3, 4, 5])\n",
    "a.pop(2)\n",
    "print(a)\n",
    "array('i', [1, 3, 4, 5])"
   ]
  },
  {
   "cell_type": "code",
   "execution_count": 15,
   "metadata": {},
   "outputs": [
    {
     "name": "stdout",
     "output_type": "stream",
     "text": [
      "John\n"
     ]
    }
   ],
   "source": [
    "dict_sample = {\n",
    "1: {'student1': 'Nicholas', 'student2': 'John', 'student3': 'Mercy'}, \n",
    "2: {'course1': 'Computer Science', 'course2': 'Mathematics', 'course3': 'Accounting'}\n",
    "}\n",
    "a=dict_sample[1]['student2']\n",
    "print(a)"
   ]
  },
  {
   "cell_type": "code",
   "execution_count": 20,
   "metadata": {},
   "outputs": [
    {
     "data": {
      "text/plain": [
       "{1: {'student1': 'Nicholas', 'student2': 'John', 'student3': 'Tomas'},\n",
       " 2: {'course1': 'Computer Science',\n",
       "  'course2': 'Mathematics',\n",
       "  'course3': 'Accounting'}}"
      ]
     },
     "execution_count": 20,
     "metadata": {},
     "output_type": "execute_result"
    }
   ],
   "source": [
    "dict_sample[1]['student3']='Tomas'\n",
    "dict_sample"
   ]
  },
  {
   "cell_type": "code",
   "execution_count": 21,
   "metadata": {},
   "outputs": [
    {
     "data": {
      "text/plain": [
       "'Nicholas'"
      ]
     },
     "execution_count": 21,
     "metadata": {},
     "output_type": "execute_result"
    }
   ],
   "source": [
    "dict_sample[1].pop('student1')"
   ]
  },
  {
   "cell_type": "code",
   "execution_count": 29,
   "metadata": {},
   "outputs": [
    {
     "data": {
      "text/plain": [
       "8"
      ]
     },
     "execution_count": 29,
     "metadata": {},
     "output_type": "execute_result"
    }
   ],
   "source": [
    "numbers = [1,2,4,3,6,8,4,5,9,1]\n",
    "len(set(numbers))\n"
   ]
  },
  {
   "cell_type": "code",
   "execution_count": 1,
   "metadata": {},
   "outputs": [
    {
     "ename": "SyntaxError",
     "evalue": "unexpected character after line continuation character (<ipython-input-1-689390b102f4>, line 4)",
     "output_type": "error",
     "traceback": [
      "\u001b[1;36m  File \u001b[1;32m\"<ipython-input-1-689390b102f4>\"\u001b[1;36m, line \u001b[1;32m4\u001b[0m\n\u001b[1;33m    C:\\python3\\file.txt\u001b[0m\n\u001b[1;37m                       ^\u001b[0m\n\u001b[1;31mSyntaxError\u001b[0m\u001b[1;31m:\u001b[0m unexpected character after line continuation character\n"
     ]
    }
   ],
   "source": [
    "import os\n",
    "p = os.path.abspath('file.txt ')\n",
    "print(p)\n",
    "C:\\python3\\file.txt"
   ]
  },
  {
   "cell_type": "code",
   "execution_count": 3,
   "metadata": {},
   "outputs": [
    {
     "name": "stdout",
     "output_type": "stream",
     "text": [
      "19 2 31 35 30 11 121 27\n",
      "[2, 11, 19, 27, 30, 31, 35, 121]\n"
     ]
    }
   ],
   "source": [
    "Y = input().split()\n",
    "Y = list(map(int, Y))\n",
    "for i in range(1, len(Y)):\n",
    "    b = Y[i]\n",
    "    j = i-1\n",
    "    while (j >= 0) and (b < Y[j]):\n",
    "        Y[j+1] = Y[j]\n",
    "        j-=1\n",
    "    Y[j+1] = b\n",
    "print(Y)"
   ]
  },
  {
   "cell_type": "code",
   "execution_count": null,
   "metadata": {},
   "outputs": [],
   "source": []
  }
 ],
 "metadata": {
  "kernelspec": {
   "display_name": "Python 3",
   "language": "python",
   "name": "python3"
  },
  "language_info": {
   "codemirror_mode": {
    "name": "ipython",
    "version": 3
   },
   "file_extension": ".py",
   "mimetype": "text/x-python",
   "name": "python",
   "nbconvert_exporter": "python",
   "pygments_lexer": "ipython3",
   "version": "3.7.6"
  }
 },
 "nbformat": 4,
 "nbformat_minor": 4
}

{
 "cells": [
  {
   "cell_type": "code",
   "execution_count": 1,
   "metadata": {},
   "outputs": [
    {
     "name": "stdout",
     "output_type": "stream",
     "text": [
      "Hello World!\n"
     ]
    }
   ],
   "source": [
    "print (\"Hello World!\")"
   ]
  },
  {
   "cell_type": "code",
   "execution_count": 5,
   "metadata": {},
   "outputs": [
    {
     "data": {
      "text/plain": [
       "20.0"
      ]
     },
     "execution_count": 5,
     "metadata": {},
     "output_type": "execute_result"
    }
   ],
   "source": [
    "((67+33)*(25-20))/25\n"
   ]
  },
  {
   "cell_type": "code",
   "execution_count": 7,
   "metadata": {},
   "outputs": [
    {
     "data": {
      "text/plain": [
       "1916.7312813742387"
      ]
     },
     "execution_count": 7,
     "metadata": {},
     "output_type": "execute_result"
    }
   ],
   "source": [
    "6.996+45*((13/2)**2)+2*(18**(1/2))"
   ]
  },
  {
   "cell_type": "code",
   "execution_count": 9,
   "metadata": {},
   "outputs": [
    {
     "data": {
      "text/plain": [
       "-0.3909200032552083"
      ]
     },
     "execution_count": 9,
     "metadata": {},
     "output_type": "execute_result"
    }
   ],
   "source": [
    "(1267-20*(((5**3)/2)**2))/((8**5)*(36**(1/2)))"
   ]
  },
  {
   "cell_type": "code",
   "execution_count": 10,
   "metadata": {},
   "outputs": [
    {
     "data": {
      "text/plain": [
       "-4251528.0"
      ]
     },
     "execution_count": 10,
     "metadata": {},
     "output_type": "execute_result"
    }
   ],
   "source": [
    "((((9**(1/2))**3)**2)**2)/((-2)**(-3))"
   ]
  },
  {
   "cell_type": "code",
   "execution_count": 11,
   "metadata": {},
   "outputs": [],
   "source": [
    "yemployes_count=125\n",
    "room_term=20.4\n"
   ]
  },
  {
   "cell_type": "code",
   "execution_count": 15,
   "metadata": {},
   "outputs": [],
   "source": [
    "input=('веди')"
   ]
  },
  {
   "cell_type": "code",
   "execution_count": 14,
   "metadata": {},
   "outputs": [
    {
     "ename": "NameError",
     "evalue": "name 'привет' is not defined",
     "output_type": "error",
     "traceback": [
      "\u001b[1;31m---------------------------------------------------------------------------\u001b[0m",
      "\u001b[1;31mNameError\u001b[0m                                 Traceback (most recent call last)",
      "\u001b[1;32m<ipython-input-14-84fb04d98180>\u001b[0m in \u001b[0;36m<module>\u001b[1;34m\u001b[0m\n\u001b[1;32m----> 1\u001b[1;33m \u001b[0mпривет\u001b[0m\u001b[1;33m\u001b[0m\u001b[1;33m\u001b[0m\u001b[0m\n\u001b[0m",
      "\u001b[1;31mNameError\u001b[0m: name 'привет' is not defined"
     ]
    }
   ],
   "source": [
    "привет"
   ]
  },
  {
   "cell_type": "code",
   "execution_count": 1,
   "metadata": {},
   "outputs": [
    {
     "name": "stdout",
     "output_type": "stream",
     "text": [
      "напишите что-нибудьпривет\n"
     ]
    },
    {
     "data": {
      "text/plain": [
       "'привет'"
      ]
     },
     "execution_count": 1,
     "metadata": {},
     "output_type": "execute_result"
    }
   ],
   "source": [
    "input('напишите что-нибудь')"
   ]
  },
  {
   "cell_type": "code",
   "execution_count": 2,
   "metadata": {},
   "outputs": [
    {
     "name": "stdout",
     "output_type": "stream",
     "text": [
      "hellofd\n"
     ]
    }
   ],
   "source": [
    "phrase=input('hello')"
   ]
  },
  {
   "cell_type": "code",
   "execution_count": 5,
   "metadata": {},
   "outputs": [
    {
     "name": "stdout",
     "output_type": "stream",
     "text": [
      "ввежите свое имя:\n",
      "Tanya\n"
     ]
    }
   ],
   "source": [
    "user_name=input('ввежите свое имя:\\n')"
   ]
  },
  {
   "cell_type": "code",
   "execution_count": 6,
   "metadata": {},
   "outputs": [
    {
     "name": "stdout",
     "output_type": "stream",
     "text": [
      "введите множитель для числа 5:\n",
      "25\n",
      "125\n"
     ]
    }
   ],
   "source": [
    "multiplier=int(input('введите множитель для числа 5:\\n'))\n",
    "print(5*multiplier)"
   ]
  },
  {
   "cell_type": "code",
   "execution_count": 7,
   "metadata": {},
   "outputs": [
    {
     "name": "stdout",
     "output_type": "stream",
     "text": [
      "введите основание степени:\n",
      "2\n",
      "введите показатель степени:\n",
      "3\n",
      "поллученное число: 8.0\n"
     ]
    }
   ],
   "source": [
    "a=float(input('введите основание степени:\\n'))\n",
    "b=float(input('введите показатель степени:\\n'))\n",
    "print('поллученное число:',a**b)"
   ]
  },
  {
   "cell_type": "code",
   "execution_count": 18,
   "metadata": {},
   "outputs": [
    {
     "name": "stdout",
     "output_type": "stream",
     "text": [
      "введите имя\n",
      "fktrc;\n",
      "сегодня вас зовут fktrc;\n"
     ]
    }
   ],
   "source": [
    "name=input('введите имя\\n')\n",
    "print('сегодня вас зовут',name)"
   ]
  },
  {
   "cell_type": "code",
   "execution_count": 19,
   "metadata": {},
   "outputs": [
    {
     "name": "stdout",
     "output_type": "stream",
     "text": [
      "введите имя\n",
      "Алексей\n",
      "сегодня вас зовут Алексей\n"
     ]
    }
   ],
   "source": [
    "name=input('введите имя\\n')\n",
    "print('сегодня вас зовут',name)\n"
   ]
  },
  {
   "cell_type": "code",
   "execution_count": 20,
   "metadata": {},
   "outputs": [
    {
     "name": "stdout",
     "output_type": "stream",
     "text": [
      "сегодня вас зовут алексей\n"
     ]
    }
   ],
   "source": [
    "name='алексей'\n",
    "print('сегодня вас зовут',name)"
   ]
  },
  {
   "cell_type": "code",
   "execution_count": 21,
   "metadata": {},
   "outputs": [
    {
     "name": "stdout",
     "output_type": "stream",
     "text": [
      "длина слова: 13\n"
     ]
    }
   ],
   "source": [
    "word='Очаровательно'\n",
    "a=len(word)\n",
    "print('длина слова:', a)\n"
   ]
  },
  {
   "cell_type": "code",
   "execution_count": 26,
   "metadata": {},
   "outputs": [
    {
     "name": "stdout",
     "output_type": "stream",
     "text": [
      "2\n"
     ]
    }
   ],
   "source": [
    "a=117\n",
    "b=23\n",
    "c=(a%b)\n",
    "print(c)"
   ]
  },
  {
   "cell_type": "code",
   "execution_count": 33,
   "metadata": {},
   "outputs": [
    {
     "name": "stdout",
     "output_type": "stream",
     "text": [
      "17.213006207263156\n"
     ]
    }
   ],
   "source": [
    "a=12\n",
    "b=17\n",
    "c=25\n",
    "d=(a*b*c)\n",
    "e=d**(1/3)\n",
    "print(e)"
   ]
  },
  {
   "cell_type": "code",
   "execution_count": 35,
   "metadata": {},
   "outputs": [
    {
     "name": "stdout",
     "output_type": "stream",
     "text": [
      "113628013506.996\n"
     ]
    }
   ],
   "source": [
    "x=100500\n",
    "f=6.996+45*((x/2)**2)+2*x\n",
    "print(f)"
   ]
  },
  {
   "cell_type": "code",
   "execution_count": 36,
   "metadata": {},
   "outputs": [
    {
     "name": "stdout",
     "output_type": "stream",
     "text": [
      "24.691358024691358\n"
     ]
    }
   ],
   "source": [
    "weight=80\n",
    "height=1.8\n",
    "imt=weight/(height**2)\n",
    "print(imt)"
   ]
  },
  {
   "cell_type": "code",
   "execution_count": 43,
   "metadata": {},
   "outputs": [
    {
     "name": "stdout",
     "output_type": "stream",
     "text": [
      "5.209745039548078\n"
     ]
    }
   ],
   "source": [
    "a=270\n",
    "b=12.8\n",
    "c=((a+b)/2)**(1/3)\n",
    "print(c)"
   ]
  },
  {
   "cell_type": "code",
   "execution_count": 44,
   "metadata": {},
   "outputs": [
    {
     "name": "stdout",
     "output_type": "stream",
     "text": [
      "Вы ввели число, которое при умножении на 3 даёт 69\n"
     ]
    }
   ],
   "source": [
    "a=23\n",
    "b=3*a\n",
    "print('Вы ввели число, которое при умножении на 3 даёт', b)"
   ]
  },
  {
   "cell_type": "code",
   "execution_count": 45,
   "metadata": {},
   "outputs": [
    {
     "name": "stdout",
     "output_type": "stream",
     "text": [
      "8.88748820522211\n"
     ]
    }
   ],
   "source": [
    "string_1 = 'Hello, world!'\n",
    "string_2 = 'Python <3'\n",
    "string_3 = 'qwerty'\n",
    "a=len(string_1)\n",
    "b=len(string_2)\n",
    "c=len(string_3)\n",
    "d=((a*b*c)**(1/3))\n",
    "print(d)"
   ]
  },
  {
   "cell_type": "code",
   "execution_count": 46,
   "metadata": {},
   "outputs": [
    {
     "name": "stdout",
     "output_type": "stream",
     "text": [
      "Привет! 7 16807\n"
     ]
    }
   ],
   "source": [
    "string = 'Привет!'\n",
    "power = 5\n",
    "a=len(string)\n",
    "b=a**5\n",
    "print(string, a, b)"
   ]
  },
  {
   "cell_type": "code",
   "execution_count": 49,
   "metadata": {},
   "outputs": [
    {
     "name": "stdout",
     "output_type": "stream",
     "text": [
      "Это слово длинное\n"
     ]
    }
   ],
   "source": [
    "word = 'ОченьДлинноеСлово'\n",
    "a=len(word)\n",
    "if a>7:\n",
    "    print('Это слово длинное')\n",
    "else:\n",
    "    print('Это слово короткое')    "
   ]
  },
  {
   "cell_type": "code",
   "execution_count": 50,
   "metadata": {},
   "outputs": [
    {
     "name": "stdout",
     "output_type": "stream",
     "text": [
      "\"Эх, это не очень редкое слово...\"\n"
     ]
    }
   ],
   "source": [
    "word = 'ОченьДлинноеСлово'\n",
    "if 'ф'in word:\n",
    "    print(' \"Ого! Вы ввели редкое слово!\"')\n",
    "else:\n",
    "    print('\"Эх, это не очень редкое слово...\"')"
   ]
  },
  {
   "cell_type": "code",
   "execution_count": 66,
   "metadata": {},
   "outputs": [
    {
     "name": "stdout",
     "output_type": "stream",
     "text": [
      "Квадратный корень из 169 - не целое число\n"
     ]
    }
   ],
   "source": [
    "number=169\n",
    "a=(number**(1/2))\n",
    "int(a)\n",
    "if (type(a))==int:\n",
    "    print(a)\n",
    "else:\n",
    "    print('Квадратный корень из', number, '- не целое число')"
   ]
  },
  {
   "cell_type": "code",
   "execution_count": 1,
   "metadata": {},
   "outputs": [
    {
     "name": "stdout",
     "output_type": "stream",
     "text": [
      "пятница\n"
     ]
    }
   ],
   "source": [
    "number=5\n",
    "if number==1:\n",
    "    print('понедельник')\n",
    "elif number==2:\n",
    "    print('вторник')\n",
    "elif number==3:\n",
    "    print('среда')\n",
    "elif number==4:\n",
    "    print('четверг')\n",
    "elif number==5:\n",
    "    print('пятница')\n",
    "elif number==6:\n",
    "    print('суббота')\n",
    "elif number==2:\n",
    "    print('воскресенье')"
   ]
  },
  {
   "cell_type": "code",
   "execution_count": 4,
   "metadata": {},
   "outputs": [
    {
     "name": "stdout",
     "output_type": "stream",
     "text": [
      "Норма\n"
     ]
    }
   ],
   "source": [
    "weight=80\n",
    "height=1.8\n",
    "imt=weight/(height**2)\n",
    "if imt>24.99:\n",
    "    print('Избыточная масса тела')\n",
    "elif imt<18.5:\n",
    "    print('Недостаточная масса тела')\n",
    "else:\n",
    "    print('Норма')"
   ]
  },
  {
   "cell_type": "code",
   "execution_count": 6,
   "metadata": {},
   "outputs": [
    {
     "name": "stdout",
     "output_type": "stream",
     "text": [
      "хорошо\n"
     ]
    }
   ],
   "source": [
    "mark=7\n",
    "if mark<4:\n",
    "    print('неудовлетворительно')\n",
    "elif mark==4:\n",
    "    print('удовлетворительно')\n",
    "elif mark==5:\n",
    "    print('удовлетворительно')\n",
    "elif mark==6 and mark==7:\n",
    "    print('хорошо')\n",
    "elif mark==6:\n",
    "    print('хорошо') \n",
    "elif mark==7:\n",
    "    print('хорошо')\n",
    "else:\n",
    "    print('отлично')"
   ]
  },
  {
   "cell_type": "code",
   "execution_count": 7,
   "metadata": {},
   "outputs": [
    {
     "name": "stdout",
     "output_type": "stream",
     "text": [
      "Придётся потерпеть!\n"
     ]
    }
   ],
   "source": [
    "balance = 455\n",
    "if balance>5000:\n",
    "    print('Сегодня твой выбор - ресторан!')\n",
    "elif balance<2500:\n",
    "    print('Придётся потерпеть!')\n",
    "else:\n",
    "    print('Эх, только фастфуд.')"
   ]
  },
  {
   "cell_type": "code",
   "execution_count": 8,
   "metadata": {},
   "outputs": [
    {
     "name": "stdout",
     "output_type": "stream",
     "text": [
      "Число делится на 2 без остатка.\n"
     ]
    }
   ],
   "source": [
    "number=452\n",
    "if number%2==0:\n",
    "    print('Число делится на 2 без остатка.')\n",
    "elif number%3==0:\n",
    "    print('Число делится на 3 без остатка.')\n",
    "elif number%5==0:\n",
    "    print('Число делится на 5 без остатка.')\n",
    "else:\n",
    "    print('Число не делится ни на 2, ни на 3, ни на 5 без остатка!')\n",
    "    "
   ]
  },
  {
   "cell_type": "code",
   "execution_count": 9,
   "metadata": {},
   "outputs": [
    {
     "name": "stdout",
     "output_type": "stream",
     "text": [
      "Аня не фанат таких цветов\n"
     ]
    }
   ],
   "source": [
    "flower='роза'\n",
    "color='фиолетовый'\n",
    "if flower=='роза' and color=='синиe':\n",
    "     print('Ане понравятся эти цветы')\n",
    "elif flower=='роза' and color=='белые':\n",
    "    print('Ане понравятся эти цветы')\n",
    "else:\n",
    "    print('Аня не фанат таких цветов')"
   ]
  },
  {
   "cell_type": "code",
   "execution_count": 10,
   "metadata": {},
   "outputs": [
    {
     "name": "stdout",
     "output_type": "stream",
     "text": [
      "Попробуем поискать ещё...\n"
     ]
    }
   ],
   "source": [
    "height = 180\n",
    "weight = 92\n",
    "color = 'синий'\n",
    "if height>170 and weight<80 and color=='красный':\n",
    "    print('Ваша половинка нашлась!')\n",
    "else:\n",
    "    print('Попробуем поискать ещё...')\n",
    "          \n",
    "\n"
   ]
  },
  {
   "cell_type": "code",
   "execution_count": 12,
   "metadata": {},
   "outputs": [
    {
     "name": "stdout",
     "output_type": "stream",
     "text": [
      "Вова, это нужное число\n"
     ]
    }
   ],
   "source": [
    "number = 346\n",
    "a=number%2\n",
    "b=number%5\n",
    "c=number%173\n",
    "d=number%821\n",
    "if a==0 or b==0 or c==0 or d==0:\n",
    "    print('Вова, это нужное число')\n",
    "else:\n",
    "    print('Вова, в этот раз ты не попал')\n",
    "    "
   ]
  },
  {
   "cell_type": "code",
   "execution_count": 13,
   "metadata": {},
   "outputs": [
    {
     "name": "stdout",
     "output_type": "stream",
     "text": [
      "\"Python\"\n"
     ]
    }
   ],
   "source": [
    "fav_word = 'Аппликация'\n",
    "if fav_word==\"рептилия\" or fav_word==\"питон\" or fav_word==\"змея\":\n",
    "    print('\"Python\"')\n",
    "elif fav_word==\"плюс\" or fav_word==\"плюсы\":\n",
    "    print('\"C++\"')\n",
    "elif fav_word==\"рубин\"or fav_word==\"кристалл\":\n",
    "    print('\"Ruby\"')\n",
    "else:\n",
    "    print('\"Python\"')"
   ]
  },
  {
   "cell_type": "code",
   "execution_count": 15,
   "metadata": {},
   "outputs": [
    {
     "name": "stdout",
     "output_type": "stream",
     "text": [
      "Преподаватель занят.\n"
     ]
    }
   ],
   "source": [
    "hour = 18\n",
    "minute = 47\n",
    "if hour==10 and minut<30:\n",
    "    print('Преподаватель свободен.')\n",
    "elif hour>12 and hour==13 and minut<40:\n",
    "    print('Преподаватель свободен.')\n",
    "elif hour>15 and hour<18 and minut==0:\n",
    "    print('Преподаватель свободен.')\n",
    "elif hour>19 and hour<20 and minut>30:\n",
    "    print('Преподаватель свободен.')\n",
    "else:\n",
    "    print('Преподаватель занят.')"
   ]
  },
  {
   "cell_type": "code",
   "execution_count": 39,
   "metadata": {
    "scrolled": true
   },
   "outputs": [
    {
     "name": "stdout",
     "output_type": "stream",
     "text": [
      "п\n",
      "д\n",
      "и\n",
      "н\n",
      "к\n"
     ]
    }
   ],
   "source": [
    "word = 'подшипник'\n",
    "for i in range (0, len(word)+1, 2):\n",
    "    print(word[i])\n"
   ]
  },
  {
   "cell_type": "code",
   "execution_count": 28,
   "metadata": {},
   "outputs": [
    {
     "name": "stdout",
     "output_type": "stream",
     "text": [
      "2013 год невисокосный\n",
      "2014 год невисокосный\n",
      "2015 год невисокосный\n",
      "2016 год високосный\n",
      "2017 год невисокосный\n",
      "2018 год невисокосный\n",
      "2019 год невисокосный\n",
      "2020 год високосный\n"
     ]
    }
   ],
   "source": [
    "year_1 = 2013\n",
    "year_2 = 2020\n",
    "for i in range(2013,2021):\n",
    "    if i%4==0:\n",
    "        print(i,'год високосный')\n",
    "    else:\n",
    "        print(i,'год невисокосный')"
   ]
  },
  {
   "cell_type": "code",
   "execution_count": 38,
   "metadata": {},
   "outputs": [
    {
     "name": "stdout",
     "output_type": "stream",
     "text": [
      "и\n",
      "у\n",
      "а\n",
      "и\n",
      "а\n"
     ]
    }
   ],
   "source": [
    "word='Зимушка-зима'\n",
    "for i, letter in enumerate(0,len(word)+1):\n",
    "    if letter=='а' or letter=='о' or letter=='у'or letter=='э'or letter=='ы'or letter=='я' or letter=='е' or letter=='и':\n",
    "        print(letter)"
   ]
  },
  {
   "cell_type": "code",
   "execution_count": 47,
   "metadata": {
    "scrolled": true
   },
   "outputs": [
    {
     "name": "stdout",
     "output_type": "stream",
     "text": [
      "Буква 1 в этом имени - С\n",
      "Буква 2 в этом имени - е\n",
      "Буква 3 в этом имени - р\n",
      "Буква 4 в этом имени - г\n",
      "Буква 5 в этом имени - е\n",
      "Буква 6 в этом имени - й\n"
     ]
    }
   ],
   "source": [
    "name = 'Сергей'\n",
    "for i, letter in enumerate('Сергей'):\n",
    "    print('Буква',i+1,'в этом имени -',letter)\n"
   ]
  },
  {
   "cell_type": "code",
   "execution_count": 59,
   "metadata": {},
   "outputs": [
    {
     "name": "stdout",
     "output_type": "stream",
     "text": [
      "25\n",
      "27\n",
      "33\n",
      "35\n",
      "39\n",
      "45\n"
     ]
    }
   ],
   "source": [
    "num_1 = 25\n",
    "num_2 = 45\n",
    "for i in range(num_1,num_2+1):\n",
    "    if i%2==1 and (i%3==0 or i%5==0):\n",
    "        print(i)\n",
    "    elif num_2<num_1 or num_1<0:\n",
    "        print('Введён неверный диапазон чисел')\n",
    "        \n",
    " \n",
    "    "
   ]
  },
  {
   "cell_type": "code",
   "execution_count": 60,
   "metadata": {},
   "outputs": [
    {
     "name": "stdout",
     "output_type": "stream",
     "text": [
      "Буква 1 в этом имени - С\n",
      "Буква 2 в этом имени - е\n",
      "Буква 3 в этом имени - р\n",
      "Буква 4 в этом имени - г\n",
      "Буква 5 в этом имени - е\n",
      "Буква 6 в этом имени - й\n"
     ]
    }
   ],
   "source": [
    "name = 'Сергей'\n",
    "for i, letter in enumerate('Сергей'):\n",
    "    print('Буква',i+1,'в этом имени -',letter)"
   ]
  },
  {
   "cell_type": "code",
   "execution_count": 63,
   "metadata": {},
   "outputs": [
    {
     "name": "stdout",
     "output_type": "stream",
     "text": [
      "1 и\n",
      "3 у\n",
      "6 а\n",
      "9 и\n",
      "11 а\n"
     ]
    }
   ],
   "source": [
    "word = 'Зимушка-зима'\n",
    "for i, letter in enumerate(word):\n",
    "    if letter in ('а','о','у','ы','э','и','е','ю','я'):\n",
    "        print(i, letter)"
   ]
  },
  {
   "cell_type": "code",
   "execution_count": 18,
   "metadata": {},
   "outputs": [
    {
     "name": "stdout",
     "output_type": "stream",
     "text": [
      "1 1 1\n",
      "2 4 8\n",
      "3 9 27\n",
      "4 16 64\n",
      "5 25 125\n",
      "6 36 216\n",
      "7 49 343\n",
      "8 64 512\n",
      "9 81 729\n",
      "10 100 1000\n"
     ]
    }
   ],
   "source": [
    "for i in range(1,11):\n",
    "    quatr=i**2\n",
    "    qub=i**3\n",
    "    print(i,quatr,qub)\n"
   ]
  },
  {
   "cell_type": "code",
   "execution_count": 24,
   "metadata": {},
   "outputs": [
    {
     "name": "stdout",
     "output_type": "stream",
     "text": [
      "1\n",
      "2\n",
      "3\n",
      "4\n",
      "6\n",
      "7\n",
      "12\n",
      "14\n",
      "21\n",
      "28\n",
      "42\n",
      "84\n"
     ]
    }
   ],
   "source": [
    "number=84\n",
    "for i in range(1,number+1):\n",
    "    if number%i==0:\n",
    "        print(i)"
   ]
  },
  {
   "cell_type": "code",
   "execution_count": 27,
   "metadata": {},
   "outputs": [
    {
     "name": "stdout",
     "output_type": "stream",
     "text": [
      "2\n"
     ]
    }
   ],
   "source": [
    "num_1=12\n",
    "num_2=38\n",
    "for i in range(2,12):\n",
    "    if num_1%i==num_2%i:\n",
    "        print(i)"
   ]
  },
  {
   "cell_type": "code",
   "execution_count": 71,
   "metadata": {},
   "outputs": [
    {
     "name": "stdout",
     "output_type": "stream",
     "text": [
      "55\n"
     ]
    }
   ],
   "source": [
    "n1=0\n",
    "n2=1\n",
    "for i in range(1,11):\n",
    "    n3=n1+n2    \n",
    "    n2=n1\n",
    "    n1=n3\n",
    "else:\n",
    "    print(n3)\n",
    "    "
   ]
  },
  {
   "cell_type": "code",
   "execution_count": 73,
   "metadata": {},
   "outputs": [
    {
     "name": "stdout",
     "output_type": "stream",
     "text": [
      "15 X 1 = 15\n",
      "15 X 2 = 30\n",
      "15 X 3 = 45\n",
      "15 X 4 = 60\n",
      "15 X 5 = 75\n",
      "15 X 6 = 90\n",
      "15 X 7 = 105\n",
      "15 X 8 = 120\n",
      "15 X 9 = 135\n",
      "15 X 10 = 150\n"
     ]
    }
   ],
   "source": [
    "number=15\n",
    "for i in range(1,11):\n",
    "    a=number*i\n",
    "    print(number,'X', i, '=', a)"
   ]
  },
  {
   "cell_type": "code",
   "execution_count": 82,
   "metadata": {},
   "outputs": [
    {
     "name": "stdout",
     "output_type": "stream",
     "text": [
      "4\n"
     ]
    }
   ],
   "source": [
    "num_1 = 1812\n",
    "num_2 = 2500\n",
    "for i in range(max(num_1, num_2),2, -1):\n",
    "    if num_1%i == 0 and num_2%i == 0:\n",
    "        print(i)\n",
    "        break\n",
    "else:\n",
    "    print('Общих делителей не найдено')"
   ]
  },
  {
   "cell_type": "code",
   "execution_count": 85,
   "metadata": {},
   "outputs": [
    {
     "name": "stdout",
     "output_type": "stream",
     "text": [
      "стркция"
     ]
    }
   ],
   "source": [
    "string = 'абстракция'\n",
    "for i, letter in enumerate(string):\n",
    "    if letter in ('а','б','в'):\n",
    "        continue\n",
    "    print(letter, end='')\n",
    "\n"
   ]
  },
  {
   "cell_type": "code",
   "execution_count": 95,
   "metadata": {},
   "outputs": [
    {
     "name": "stdout",
     "output_type": "stream",
     "text": [
      "Это безнадёжно!\n",
      "Это безнадёжно!\n",
      "Это безнадёжно!\n",
      "Это безнадёжно!\n",
      "Это безнадёжно!\n",
      "Увы, это неправильный ответ\n"
     ]
    }
   ],
   "source": [
    "string = 'Нет'\n",
    "c=0\n",
    "for i in range(0,6):\n",
    "    if string=='ДА':\n",
    "        print('Это отлично!')\n",
    "        break\n",
    "    elif  string =='Нет' and c<5:\n",
    "        print('Это безнадёжно!')\n",
    "        c+=1\n",
    "    elif  string =='Нет' and c>=5:\n",
    "        print('Увы, это неправильный ответ')\n",
    "       "
   ]
  },
  {
   "cell_type": "code",
   "execution_count": 101,
   "metadata": {},
   "outputs": [
    {
     "name": "stdout",
     "output_type": "stream",
     "text": [
      "Простое\n"
     ]
    }
   ],
   "source": [
    "number = 173\n",
    "for i in range(2,number):\n",
    "    if number % i == 0 : \n",
    "        print('Не является простым')\n",
    "        break\n",
    "else : print('Простое')"
   ]
  },
  {
   "cell_type": "code",
   "execution_count": 102,
   "metadata": {},
   "outputs": [
    {
     "name": "stdout",
     "output_type": "stream",
     "text": [
      "Строка мне не нравится!\n"
     ]
    }
   ],
   "source": [
    "string = 'прелестная строка'\n",
    "for i, letter in enumerate(string):\n",
    "    if i%2 == 0 and (letter in ('а','о','у','ы','э','и','е','ю','я')):\n",
    "        print(\"Строка мне не нравится!\")\n",
    "        break\n",
    "else:\n",
    "    print(\"Какая хорошая строка!\")"
   ]
  },
  {
   "cell_type": "code",
   "execution_count": 107,
   "metadata": {},
   "outputs": [
    {
     "name": "stdout",
     "output_type": "stream",
     "text": [
      "19\n"
     ]
    }
   ],
   "source": [
    "Y = 170000\n",
    "Z = 1000000\n",
    "year=0\n",
    "proc=1.1\n",
    "while Y<Z:\n",
    "    year+=1\n",
    "    Y=Y*proc\n",
    "else:\n",
    "    print(year)"
   ]
  },
  {
   "cell_type": "code",
   "execution_count": 5,
   "metadata": {},
   "outputs": [
    {
     "name": "stdout",
     "output_type": "stream",
     "text": [
      "Перевес 62 кг\n"
     ]
    }
   ],
   "source": [
    "weight=77\n",
    "sum=0\n",
    "while sum<400:\n",
    "    sum+=weight\n",
    "else:\n",
    "    print('Перевес',sum-400,'кг')"
   ]
  },
  {
   "cell_type": "code",
   "execution_count": 7,
   "metadata": {},
   "outputs": [
    {
     "name": "stdout",
     "output_type": "stream",
     "text": [
      "7\n"
     ]
    }
   ],
   "source": [
    "current_health=500\n",
    "attack = 80\n",
    "sec=0\n",
    "while current_health>0:\n",
    "    current_health-=attack\n",
    "    sec+=1\n",
    "else:\n",
    "    print(sec)\n",
    "    "
   ]
  },
  {
   "cell_type": "code",
   "execution_count": 11,
   "metadata": {},
   "outputs": [
    {
     "name": "stdout",
     "output_type": "stream",
     "text": [
      "10000\n",
      "7200\n",
      "4400\n",
      "1600\n",
      "Слишком большие расходы\n"
     ]
    }
   ],
   "source": [
    "spent = 2800 \n",
    "balance=10000\n",
    "while balance>spent:\n",
    "    print(balance)\n",
    "    balance-=spent\n",
    "else:\n",
    "    print(balance)\n",
    "    print('Слишком большие расходы')\n",
    "    "
   ]
  },
  {
   "cell_type": "code",
   "execution_count": 15,
   "metadata": {},
   "outputs": [
    {
     "name": "stdout",
     "output_type": "stream",
     "text": [
      "20\n"
     ]
    }
   ],
   "source": [
    "volume=1000\n",
    "i=0\n",
    "while volume>0:\n",
    "    volume=volume-5*i-5\n",
    "    i+=1\n",
    "else:\n",
    "    print(i)"
   ]
  },
  {
   "cell_type": "code",
   "execution_count": 19,
   "metadata": {},
   "outputs": [
    {
     "name": "stdout",
     "output_type": "stream",
     "text": [
      "3\n"
     ]
    }
   ],
   "source": [
    "for i in range(10):\n",
    "    if i>=3:\n",
    "        break\n",
    "print(i)"
   ]
  },
  {
   "cell_type": "code",
   "execution_count": 24,
   "metadata": {},
   "outputs": [
    {
     "name": "stdout",
     "output_type": "stream",
     "text": [
      "1 11\n"
     ]
    }
   ],
   "source": [
    "a=10\n",
    "b=a+1\n",
    "a=b-a\n",
    "print(a,b)\n"
   ]
  },
  {
   "cell_type": "code",
   "execution_count": 25,
   "metadata": {},
   "outputs": [
    {
     "name": "stdout",
     "output_type": "stream",
     "text": [
      "5\n",
      "a\n",
      "a= 5\n"
     ]
    }
   ],
   "source": [
    "a=5\n",
    "print(a)\n",
    "print('a')\n",
    "print ('a=', a)\n"
   ]
  },
  {
   "cell_type": "code",
   "execution_count": null,
   "metadata": {},
   "outputs": [],
   "source": [
    "input('введите l':\\n)\n",
    "input('введите m:\\n'm)\n",
    "print(m,l)"
   ]
  },
  {
   "cell_type": "code",
   "execution_count": null,
   "metadata": {},
   "outputs": [],
   "source": []
  }
 ],
 "metadata": {
  "kernelspec": {
   "display_name": "Python 3",
   "language": "python",
   "name": "python3"
  },
  "language_info": {
   "codemirror_mode": {
    "name": "ipython",
    "version": 3
   },
   "file_extension": ".py",
   "mimetype": "text/x-python",
   "name": "python",
   "nbconvert_exporter": "python",
   "pygments_lexer": "ipython3",
   "version": "3.7.6"
  }
 },
 "nbformat": 4,
 "nbformat_minor": 4
}
